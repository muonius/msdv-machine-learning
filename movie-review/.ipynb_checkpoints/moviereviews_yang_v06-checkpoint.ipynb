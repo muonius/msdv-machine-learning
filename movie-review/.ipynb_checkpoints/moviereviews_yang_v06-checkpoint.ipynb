{
 "cells": [
  {
   "cell_type": "markdown",
   "metadata": {},
   "source": [
    "###### Version 06\n",
    "In this version, we build our own pre-processer."
   ]
  },
  {
   "cell_type": "code",
   "execution_count": 37,
   "metadata": {},
   "outputs": [],
   "source": [
    "# all imports and magic commands\n",
    "import re\n",
    "# import regex\n",
    "import numpy as np\n",
    "import pandas as pd\n",
    "import matplotlib.pyplot as plt\n",
    "\n",
    "# text preprocessing\n",
    "from nltk.tokenize import word_tokenize\n",
    "from nltk.stem import PorterStemmer\n",
    "from nltk.stem import WordNetLemmatizer\n",
    "from nltk.tokenize import word_tokenize\n",
    "from part_of_speech import get_part_of_speech\n",
    "\n",
    "from my_measures import BinaryClassificationPerformance\n",
    "from sklearn.feature_extraction.text import HashingVectorizer\n",
    "from sklearn.feature_extraction.text import TfidfTransformer\n",
    "from sklearn.feature_extraction.text import CountVectorizer\n",
    "from scipy.sparse import csr_matrix, hstack\n",
    "from sklearn.preprocessing import StandardScaler\n",
    "from sklearn.model_selection import train_test_split\n",
    "%matplotlib inline"
   ]
  },
  {
   "cell_type": "markdown",
   "metadata": {},
   "source": [
    "### IMPORTANT!!! Make sure you are using `BinaryClassificationPerformance` v1.02"
   ]
  },
  {
   "cell_type": "code",
   "execution_count": 8,
   "metadata": {},
   "outputs": [
    {
     "name": "stdout",
     "output_type": "stream",
     "text": [
      "Help on class BinaryClassificationPerformance in module my_measures:\n",
      "\n",
      "class BinaryClassificationPerformance(builtins.object)\n",
      " |  BinaryClassificationPerformance(predictions, labels, desc, probabilities=None)\n",
      " |  \n",
      " |  Performance measures to evaluate the fit of a binary classification model, v1.02\n",
      " |  \n",
      " |  Methods defined here:\n",
      " |  \n",
      " |  __init__(self, predictions, labels, desc, probabilities=None)\n",
      " |      Initialize attributes: predictions-vector of predicted values for Y, labels-vector of labels for Y\n",
      " |  \n",
      " |  compute_measures(self)\n",
      " |      Compute performance measures defined by Flach p. 57\n",
      " |  \n",
      " |  img_indices(self)\n",
      " |      Get the indices of true and false positives to be able to locate the corresponding images in a list of image names\n",
      " |  \n",
      " |  ----------------------------------------------------------------------\n",
      " |  Data descriptors defined here:\n",
      " |  \n",
      " |  __dict__\n",
      " |      dictionary for instance variables (if defined)\n",
      " |  \n",
      " |  __weakref__\n",
      " |      list of weak references to the object (if defined)\n",
      "\n"
     ]
    }
   ],
   "source": [
    "help(BinaryClassificationPerformance)"
   ]
  },
  {
   "cell_type": "markdown",
   "metadata": {},
   "source": [
    "# Function for feature building and extraction on natural language data"
   ]
  },
  {
   "cell_type": "code",
   "execution_count": 38,
   "metadata": {},
   "outputs": [],
   "source": [
    "# function that takes raw data and completes all preprocessing required before model fits\n",
    "def process_raw_data(fn, my_random_seed, test=False):\n",
    "    # read and summarize data\n",
    "    movie_data = pd.read_csv(fn, sep='\\t')\n",
    "    reviews = movie_data.review\n",
    "    lemmatizer = WordNetLemmatizer()\n",
    "    porter_stemmer=PorterStemmer()\n",
    "    CLEANR = re.compile('<.*?>') \n",
    " #https://kavita-ganesan.com/how-to-use-countvectorizer/#.YjpnbprMIqw   \n",
    "    def my_preprocessor(text):\n",
    "        text=text.lower() \n",
    "        text=re.sub(\"\\\\W\",\" \",text) # remove special chars\n",
    "        text=re.sub(\"\\\\s+(in|the|all|for|and|on)\\\\s+\",\" _connector_ \",text) # normalize certain words\n",
    "    \n",
    "    # stem words\n",
    "    # words=re.split(\"\\\\s+\",text)\n",
    "    # stemmed_words=[porter_stemmer.stem(word=word) for word in words]\n",
    "\n",
    "    # part_of_speech\n",
    "    # lemmatization\n",
    "        tokenized_string = word_tokenize(text)\n",
    "        stemmed_words = [lemmatizer.lemmatize(token, get_part_of_speech(token)) for token in tokenized_string]\n",
    "        return ' '.join(stemmed_words)\n",
    "\n",
    "    print(movie_data.head(10))\n",
    "    print(\"movie_data is:\", type(movie_data))\n",
    "    print(\"movie_data has\", movie_data.shape[0], \"rows and\", movie_data.shape[1], \"columns\", \"\\n\")\n",
    "    print(\"the data types for each of the columns in movie_data:\")\n",
    "    print(movie_data.dtypes, \"\\n\")\n",
    "    print(\"the first 10 rows in movie_data:\")\n",
    "    print(movie_data.head(5))\n",
    "    if (not test):\n",
    "        print(\"The rate of 'good' movie reviews in the dataset: \")\n",
    "        print(movie_data['sentiment'].mean())\n",
    "\n",
    "    # vectorize Bag of Words from review text; as sparse matrix\n",
    "    if (not test): # fit_transform()\n",
    "        hv = CountVectorizer(ngram_range=(1,2), preprocessor=my_preprocessor)\n",
    "        X_hv = hv.fit_transform(reviews)\n",
    "        fitted_transformations.append(hv)\n",
    "        print(\"Shape of HashingVectorizer X:\")\n",
    "        print(X_hv.shape)\n",
    "    else: # transform() \n",
    "        X_hv = fitted_transformations[0].transform(reviews)\n",
    "        print(\"Shape of HashingVectorizer X:\")\n",
    "        print(X_hv.shape)\n",
    "    \n",
    "    # http://scikit-learn.org/stable/modules/generated/sklearn.feature_extraction.text.TfidfTransformer.html\n",
    "    if (not test):\n",
    "        transformer = TfidfTransformer()\n",
    "        X_tfidf = transformer.fit_transform(X_hv)\n",
    "        fitted_transformations.append(transformer)\n",
    "    else:\n",
    "        X_tfidf = fitted_transformations[1].transform(X_hv)\n",
    "    \n",
    "    # create additional quantitative features\n",
    "    movie_data['word_count'] = reviews.str.split(' ').str.len()\n",
    "    movie_data['punc_count'] = reviews.str.count(\"\\.\")\n",
    "\n",
    "    X_quant_features = movie_data[[\"word_count\", \"punc_count\"]]\n",
    "    print(\"Look at a few rows of the new quantitative features: \")\n",
    "    print(X_quant_features.head(10))\n",
    "    \n",
    "    # Combine all quantitative features into a single sparse matrix\n",
    "    X_quant_features_csr = csr_matrix(X_quant_features)\n",
    "    X_combined = hstack([X_tfidf, X_quant_features_csr])\n",
    "    X_matrix = csr_matrix(X_combined) # convert to sparse matrix\n",
    "    print(\"Size of combined bag of words and new quantitative variables matrix:\")\n",
    "    print(X_matrix.shape)\n",
    "    \n",
    "    # Create `X`, scaled matrix of features\n",
    "    # feature scaling\n",
    "    if (not test):\n",
    "        sc = StandardScaler(with_mean=False)\n",
    "        X = sc.fit_transform(X_matrix)\n",
    "        fitted_transformations.append(sc)\n",
    "        print(X.shape)\n",
    "        y = movie_data['sentiment']\n",
    "    else:\n",
    "        X = fitted_transformations[2].transform(X_matrix)\n",
    "        print(X.shape)\n",
    "    \n",
    "    # Create Training and Test Sets\n",
    "    # enter an integer for the random_state parameter; any integer will work\n",
    "    if (test):\n",
    "        X_submission_test = X\n",
    "        print(\"Shape of X_test for submission:\")\n",
    "        print(X_submission_test.shape)\n",
    "        print('SUCCESS!')\n",
    "        return(movie_data, X_submission_test)\n",
    "    else: \n",
    "        X_train, X_test, y_train, y_test, X_raw_train, X_raw_test = train_test_split(X, y, movie_data, test_size=0.2, random_state=my_random_seed)\n",
    "        print(\"Shape of X_train and X_test:\")\n",
    "        print(X_train.shape)\n",
    "        print(X_test.shape)\n",
    "        print(\"Shape of y_train and y_test:\")\n",
    "        print(y_train.shape)\n",
    "        print(y_test.shape)\n",
    "        print(\"Shape of X_raw_train and X_raw_test:\")\n",
    "        print(X_raw_train.shape)\n",
    "        print(X_raw_test.shape)\n",
    "        print('SUCCESS!')\n",
    "        return(X_train, X_test, y_train, y_test, X_raw_train, X_raw_test)"
   ]
  },
  {
   "cell_type": "markdown",
   "metadata": {},
   "source": [
    "# Create training and test sets from function"
   ]
  },
  {
   "cell_type": "code",
   "execution_count": 39,
   "metadata": {},
   "outputs": [
    {
     "name": "stdout",
     "output_type": "stream",
     "text": [
      "        id  sentiment                                             review\n",
      "0   5814_8          1  With all this stuff going down at the moment w...\n",
      "1   2381_9          1  \\The Classic War of the Worlds\\\" by Timothy Hi...\n",
      "2   7759_3          0  The film starts with a manager (Nicholas Bell)...\n",
      "3   3630_4          0  It must be assumed that those who praised this...\n",
      "4   9495_8          1  Superbly trashy and wondrously unpretentious 8...\n",
      "5   8196_8          1  I dont know why people think this is such a ba...\n",
      "6   7166_2          0  This movie could have been very good, but come...\n",
      "7  10633_1          0  I watched this video at a friend's house. I'm ...\n",
      "8    319_1          0  A friend of mine bought this film for £1, and ...\n",
      "9  8713_10          1  <br /><br />This movie is full of references. ...\n",
      "movie_data is: <class 'pandas.core.frame.DataFrame'>\n",
      "movie_data has 25000 rows and 3 columns \n",
      "\n",
      "the data types for each of the columns in movie_data:\n",
      "id           object\n",
      "sentiment     int64\n",
      "review       object\n",
      "dtype: object \n",
      "\n",
      "the first 10 rows in movie_data:\n",
      "       id  sentiment                                             review\n",
      "0  5814_8          1  With all this stuff going down at the moment w...\n",
      "1  2381_9          1  \\The Classic War of the Worlds\\\" by Timothy Hi...\n",
      "2  7759_3          0  The film starts with a manager (Nicholas Bell)...\n",
      "3  3630_4          0  It must be assumed that those who praised this...\n",
      "4  9495_8          1  Superbly trashy and wondrously unpretentious 8...\n",
      "The rate of 'good' movie reviews in the dataset: \n",
      "0.5\n",
      "Shape of HashingVectorizer X:\n",
      "(25000, 1248668)\n",
      "Look at a few rows of the new quantitative features: \n",
      "   word_count  punc_count\n",
      "0         433          20\n",
      "1         158          16\n",
      "2         378          20\n",
      "3         379           8\n",
      "4         367           9\n",
      "5          89           5\n",
      "6         112           9\n",
      "7         132           9\n",
      "8         163           7\n",
      "9          43           5\n",
      "Size of combined bag of words and new quantitative variables matrix:\n",
      "(25000, 1248670)\n",
      "(25000, 1248670)\n",
      "Shape of X_train and X_test:\n",
      "(20000, 1248670)\n",
      "(5000, 1248670)\n",
      "Shape of y_train and y_test:\n",
      "(20000,)\n",
      "(5000,)\n",
      "Shape of X_raw_train and X_raw_test:\n",
      "(20000, 5)\n",
      "(5000, 5)\n",
      "SUCCESS!\n",
      "Number of fits stored in `fitted_transformations` list: \n",
      "3\n"
     ]
    }
   ],
   "source": [
    "# create an empty list to store any use of fit_transform() to transform() later\n",
    "# it is a global list to store model and feature extraction fits\n",
    "fitted_transformations = []\n",
    "\n",
    "# CHANGE FILE PATH and my_random_seed number (any integer other than 74 will do): \n",
    "X_train, X_test, y_train, y_test, X_raw_train, X_raw_test = process_raw_data(fn='../data/moviereviews_train.tsv', my_random_seed=73)\n",
    "\n",
    "print(\"Number of fits stored in `fitted_transformations` list: \")\n",
    "print(len(fitted_transformations))"
   ]
  },
  {
   "cell_type": "markdown",
   "metadata": {},
   "source": [
    "# Fit (and tune) Various Models"
   ]
  },
  {
   "cell_type": "markdown",
   "metadata": {},
   "source": [
    "### MODEL: ordinary least squares"
   ]
  },
  {
   "cell_type": "code",
   "execution_count": 40,
   "metadata": {},
   "outputs": [
    {
     "name": "stdout",
     "output_type": "stream",
     "text": [
      "{'Pos': 10000, 'Neg': 10000, 'TP': 5463, 'TN': 4430, 'FP': 5570, 'FN': 4537, 'Accuracy': 0.49465, 'Precision': 0.49515091090365265, 'Recall': 0.5463, 'desc': 'ols_train'}\n",
      "performance_measures is: <class 'dict'>\n"
     ]
    }
   ],
   "source": [
    "from sklearn import linear_model\n",
    "ols = linear_model.SGDClassifier(loss=\"squared_loss\")\n",
    "ols.fit(X_train, y_train)\n",
    "\n",
    "ols_performance_train = BinaryClassificationPerformance(ols.predict(X_train), y_train, 'ols_train')\n",
    "ols_performance_train.compute_measures()\n",
    "print(ols_performance_train.performance_measures)\n",
    "print(\"performance_measures is:\", type(ols_performance_train.performance_measures))"
   ]
  },
  {
   "cell_type": "markdown",
   "metadata": {},
   "source": [
    "### MODEL: SVM, linear"
   ]
  },
  {
   "cell_type": "code",
   "execution_count": 41,
   "metadata": {},
   "outputs": [
    {
     "name": "stdout",
     "output_type": "stream",
     "text": [
      "{'Pos': 10000, 'Neg': 10000, 'TP': 10000, 'TN': 10000, 'FP': 0, 'FN': 0, 'Accuracy': 1.0, 'Precision': 1.0, 'Recall': 1.0, 'desc': 'svm_train'}\n"
     ]
    }
   ],
   "source": [
    "from sklearn import linear_model\n",
    "svm = linear_model.SGDClassifier()\n",
    "svm.fit(X_train, y_train)\n",
    "\n",
    "svm_performance_train = BinaryClassificationPerformance(svm.predict(X_train), y_train, 'svm_train')\n",
    "svm_performance_train.compute_measures()\n",
    "print(svm_performance_train.performance_measures)"
   ]
  },
  {
   "cell_type": "markdown",
   "metadata": {},
   "source": [
    "### MODEL: logistic regression"
   ]
  },
  {
   "cell_type": "code",
   "execution_count": 42,
   "metadata": {},
   "outputs": [
    {
     "name": "stdout",
     "output_type": "stream",
     "text": [
      "{'Pos': 10000, 'Neg': 10000, 'TP': 10000, 'TN': 10000, 'FP': 0, 'FN': 0, 'Accuracy': 1.0, 'Precision': 1.0, 'Recall': 1.0, 'desc': 'lgs_train'}\n"
     ]
    }
   ],
   "source": [
    "from sklearn import linear_model\n",
    "lgs = linear_model.SGDClassifier(loss='log')\n",
    "lgs.fit(X_train, y_train)\n",
    "\n",
    "lgs_performance_train = BinaryClassificationPerformance(lgs.predict(X_train), y_train, 'lgs_train')\n",
    "lgs_performance_train.compute_measures()\n",
    "print(lgs_performance_train.performance_measures)"
   ]
  },
  {
   "cell_type": "markdown",
   "metadata": {},
   "source": [
    "### MODEL: Naive Bayes"
   ]
  },
  {
   "cell_type": "code",
   "execution_count": 43,
   "metadata": {},
   "outputs": [
    {
     "name": "stdout",
     "output_type": "stream",
     "text": [
      "{'Pos': 10000, 'Neg': 10000, 'TP': 10000, 'TN': 10000, 'FP': 0, 'FN': 0, 'Accuracy': 1.0, 'Precision': 1.0, 'Recall': 1.0, 'desc': 'nbs_train'}\n"
     ]
    }
   ],
   "source": [
    "from sklearn.naive_bayes import MultinomialNB\n",
    "nbs = MultinomialNB()\n",
    "nbs.fit(X_train, y_train)\n",
    "\n",
    "nbs_performance_train = BinaryClassificationPerformance(nbs.predict(X_train), y_train, 'nbs_train')\n",
    "nbs_performance_train.compute_measures()\n",
    "print(nbs_performance_train.performance_measures)"
   ]
  },
  {
   "cell_type": "markdown",
   "metadata": {},
   "source": [
    "### MODEL: Perceptron"
   ]
  },
  {
   "cell_type": "code",
   "execution_count": 44,
   "metadata": {},
   "outputs": [
    {
     "name": "stdout",
     "output_type": "stream",
     "text": [
      "{'Pos': 10000, 'Neg': 10000, 'TP': 10000, 'TN': 10000, 'FP': 0, 'FN': 0, 'Accuracy': 1.0, 'Precision': 1.0, 'Recall': 1.0, 'desc': 'prc_train'}\n"
     ]
    }
   ],
   "source": [
    "from sklearn import linear_model\n",
    "prc = linear_model.SGDClassifier(loss='perceptron')\n",
    "prc.fit(X_train, y_train)\n",
    "\n",
    "prc_performance_train = BinaryClassificationPerformance(prc.predict(X_train), y_train, 'prc_train')\n",
    "prc_performance_train.compute_measures()\n",
    "print(prc_performance_train.performance_measures)"
   ]
  },
  {
   "cell_type": "markdown",
   "metadata": {},
   "source": [
    "### MODEL: Ridge Regression Classifier"
   ]
  },
  {
   "cell_type": "code",
   "execution_count": 45,
   "metadata": {},
   "outputs": [
    {
     "name": "stdout",
     "output_type": "stream",
     "text": [
      "{'Pos': 10000, 'Neg': 10000, 'TP': 10000, 'TN': 10000, 'FP': 0, 'FN': 0, 'Accuracy': 1.0, 'Precision': 1.0, 'Recall': 1.0, 'desc': 'rdg_train'}\n"
     ]
    }
   ],
   "source": [
    "from sklearn import linear_model\n",
    "rdg = linear_model.RidgeClassifier()\n",
    "rdg.fit(X_train, y_train)\n",
    "\n",
    "rdg_performance_train = BinaryClassificationPerformance(rdg.predict(X_train), y_train, 'rdg_train')\n",
    "rdg_performance_train.compute_measures()\n",
    "print(rdg_performance_train.performance_measures)"
   ]
  },
  {
   "cell_type": "markdown",
   "metadata": {},
   "source": [
    "### MODEL: Random Forest Classifier"
   ]
  },
  {
   "cell_type": "code",
   "execution_count": 46,
   "metadata": {},
   "outputs": [
    {
     "name": "stdout",
     "output_type": "stream",
     "text": [
      "{'Pos': 10000, 'Neg': 10000, 'TP': 8163, 'TN': 6965, 'FP': 3035, 'FN': 1837, 'Accuracy': 0.7564, 'Precision': 0.7289694588319343, 'Recall': 0.8163, 'desc': 'rdf_train'}\n"
     ]
    }
   ],
   "source": [
    "from sklearn.ensemble import RandomForestClassifier\n",
    "rdf = RandomForestClassifier(max_depth=2, random_state=0)\n",
    "rdf.fit(X_train, y_train)\n",
    "\n",
    "rdf_performance_train = BinaryClassificationPerformance(rdf.predict(X_train), y_train, 'rdf_train')\n",
    "rdf_performance_train.compute_measures()\n",
    "print(rdf_performance_train.performance_measures)"
   ]
  },
  {
   "cell_type": "markdown",
   "metadata": {},
   "source": [
    "### ROC plot to compare performance of various models and fits"
   ]
  },
  {
   "cell_type": "code",
   "execution_count": 47,
   "metadata": {
    "scrolled": false
   },
   "outputs": [
    {
     "data": {
      "image/png": "[encoded data removed]",
      "text/plain": [
       "<Figure size 432x288 with 1 Axes>"
      ]
     },
     "metadata": {
      "needs_background": "light"
     },
     "output_type": "display_data"
    }
   ],
   "source": [
    "fits = [ols_performance_train, svm_performance_train, lgs_performance_train, nbs_performance_train, prc_performance_train, rdg_performance_train, rdf_performance_train]\n",
    "\n",
    "fig = plt.subplots(figsize=(6, 4))\n",
    "\n",
    "for fit in fits:\n",
    "    plt.plot(fit.performance_measures['FP'] / fit.performance_measures['Neg'], \n",
    "             fit.performance_measures['TP'] / fit.performance_measures['Pos'], 'bo')\n",
    "    plt.text(fit.performance_measures['FP'] / fit.performance_measures['Neg'], \n",
    "             fit.performance_measures['TP'] / fit.performance_measures['Pos'], fit.desc)\n",
    "plt.axis([0, 1, 0.4, 1])\n",
    "plt.yticks(np.arange(0.4, 1, 0.05))\n",
    "plt.title('ROC plot: test set')\n",
    "plt.ylabel('True positive rate')\n",
    "plt.xlabel('False positive rate')\n",
    "plt.show()"
   ]
  },
  {
   "cell_type": "markdown",
   "metadata": {},
   "source": [
    "### Create Pivot Table"
   ]
  },
  {
   "cell_type": "code",
   "execution_count": 48,
   "metadata": {},
   "outputs": [
    {
     "name": "stdout",
     "output_type": "stream",
     "text": [
      "                   True Positive Rate  False Positive Rate\n",
      "Rows                                                      \n",
      "logistic reg                   1.0000               0.0000\n",
      "naive bayes                    1.0000               0.0000\n",
      "perceptron                     1.0000               0.0000\n",
      "ridge reg                      1.0000               0.0000\n",
      "support vector                 1.0000               0.0000\n",
      "random forest                  0.8163               0.3035\n",
      "ordinary least sq              0.5463               0.5570\n"
     ]
    }
   ],
   "source": [
    "fits = [ols_performance_train, svm_performance_train, lgs_performance_train, nbs_performance_train, prc_performance_train, rdg_performance_train, rdf_performance_train]\n",
    "\n",
    "TP_rate =[]\n",
    "FP_rate =[]\n",
    "rows = ['ordinary least sq','support vector','logistic reg','naive bayes','perceptron','ridge reg','random forest']\n",
    "for fit in fits:\n",
    "    FP_rate.append(fit.performance_measures['FP'] / fit.performance_measures['Neg'])\n",
    "    TP_rate.append(fit.performance_measures['TP'] / fit.performance_measures['Pos'])\n",
    "    \n",
    "df = pd.DataFrame({\"True Positive Rate\":TP_rate, \"False Positive Rate\": FP_rate, \"Rows\": rows})\n",
    "train_table = pd.pivot_table(df, values=[\"True Positive Rate\",\"False Positive Rate\"], index=[\"Rows\"]).sort_values(by=['True Positive Rate'],ascending=False)\n",
    "\n",
    "column_order=[\"True Positive Rate\",\"False Positive Rate\"]\n",
    "train_table = train_table.reindex(column_order, axis=1)\n",
    "\n",
    "print(train_table)"
   ]
  },
  {
   "cell_type": "markdown",
   "metadata": {},
   "source": [
    "### looking at reviews based on their classification\n",
    "\n",
    "Let's say we decide that Ordinary Least Squares (OLS) Regression is the best model for generalization. Let's take a look at some of the reviews and try to make a (subjective) determination of whether it's generalizing well. "
   ]
  },
  {
   "cell_type": "code",
   "execution_count": 26,
   "metadata": {},
   "outputs": [],
   "source": [
    "ols_predictions = ols.predict(X_train)"
   ]
  },
  {
   "cell_type": "markdown",
   "metadata": {},
   "source": [
    "### let's look at some false positives:"
   ]
  },
  {
   "cell_type": "code",
   "execution_count": 49,
   "metadata": {},
   "outputs": [
    {
     "name": "stdout",
     "output_type": "stream",
     "text": [
      "Examples of false positives:\n",
      "7\n",
      "Kol, space prisoner on space death row, manages to hijack a space shuttle and escape to the woods of America where he, along with some new found friend try to escape from the 'Alienator\\ a female cyborg killing machine. Made one year after the best movie of Fred Olen Ray's career, \\\"Hollywood Chainsaw Hookers\\\", this one can't help but feel like a bit of a letdown. Just as low-budget as that earlier film, but not nearly as fun as I had with it. None of the actors really stood out at me. The film is alright for the undiscriminating viewer during a rainy Saturday afternoon, but that's pretty much all it's good for.<br /><br />My Grade: D+ <br /><br />Where i saw it: Showtime Thriller\"\n",
      "* * * * * * * * * \n",
      "17\n",
      "Almost as tedious to watch as it was to read, Evening is a gorgeously produced failure...until Meryl Streep walks in and quietly shows her other cast members how to act this kind of stuff. Vanessa Redgrave is shockingly off in her role as the dying Ann and Claire Danes is a cipher. Perhaps if Vanessa and Claire had switched roles we could have seen the vibrancy in the young Ann that gave her entrée to the rarefied world of the story and we could have imagined that the older Ann actually was dying. <br /><br />I was hoping the addition of Michael Cunningham to the writing credits would smooth out the jumpy storytelling but alas. It gave me a headache.\n",
      "* * * * * * * * * \n",
      "146\n",
      "This movie is just so awful. So bad that I can't bear to expend anything other than just a few words. Avoid this movie at all costs, it is terrible.<br /><br />None of the details of the crimes are re-enacted correctly. Lots of slaughterhouse footage. Weird cuts and edits. No continuity to the plot. The acting is absolutely the most amateur I have ever seen.<br /><br />This bomb of a movie was obviously made to make some money without any regard to the accuracy of it's content. The camera work is out of focus at times and always shaky. It looks as if it was shot on video.<br /><br />In fact, now that they've got Dennis Rader with life in prison, I wish they would put the guys that made this horrible movie into prison as well.<br /><br />Seriously, don't even think about watching this one. I'd give it a negative star if I could.\n",
      "* * * * * * * * * \n",
      "300\n",
      "*WARNING. THERE MIGHT BE SPOILERS AHEAD, IF YOU CARE.*<br /><br />Okay, the basic premise of this homegrown Texas film is: College kids + spookhouse + evil magic book = scary stuff. In practice, it equals a lot of time looking at the time to see how much longer this movie is going to drag on. A bunch of frat boys, along with assorted girlfriends & volunteers, is setting up a charity haunted house. The project is being presided over by a thoroughly repellent character, whose main purpose seems to be verbally & physically assaulting as many cast members as possible. I had a hard time believing that anyone would even attempt to work with this person in any capacity: he's nothing but rude and abusive to everyone, including his girlfriend and his buddy. Regardless, the kids are visited by local character & annual pumpkin-carving champion \\Pumpkin Jack\\\", an elderly coot who is described as the \\\"Santa Claus of Halloween\\\", and who drops off a load of props for the house, including an ominous book that figured prominently in the irritatingly strobe-flashed prologue(where a gaggle of robed cultists get turned into stir-fry). Needless to say, some damn fool starts messing with the book, and eventually most of the costumed monsters turn into real ones, and the remaining few normal folk have to try and survive. There's some good stuff in this film, but not much: everything is shot well, and the makeup effects are decent. On the other hand, the performers either underact, or overact drastically; much of the plot makes little sense outside of a \\\"this happens so that can happen\\\" series; there is hardly any musical score to speak of, just snatches of songs throughout the film; and the movie takes an hour to actually get anywhere. That last problem is the most telling: two-thirds of the 90 minute running time is used to repeatedly set up the characters. Tom is a nice guy dating Heidi the control freak, but he used to date Jill, who is now dating Dan the jerk, but she's started a relationship Kira the girl who wears too many shawls/capes. Dan is a really big jerk, Gary likes to play jokes, and Steve & Lily like to have a lot of sex. Stuff that could have easily been dealt with in 20 minutes or so drags on and on, to the point where the lesbian \\\"sex\\\" scene(calm down, it's pretty tame) left me looking for the fast forward button. That leaves us with half an hour of lo-calorie scares, a klunky ending and a deep-seated dislike of ol' Pumpkin Jack, who I blame for the whole mess. Unless you can get this on some sort of deep-discount rental(and really have seen everything else in the store), put it back on the shelf and keep looking.\"\n",
      "* * * * * * * * * \n",
      "318\n",
      "I'm stunned that the reviewers @ IMDb gave this TV film as a high a rating as they did. It's an innocuous, sweet, uncomplicated cliché' of a film that had two big names from the past in it (both of whom did a decent job), but this film reeks of the low budget work we can see any day of week on the lesser cable channels. I like a good romance as well as anyone, but as my wife and I were watching this--and before we saw the rating-we said, \\There are people who are going to rate this film too highly simply because there's nothing in it to challenge their brains, their faith, their comfort level or their cultural preferences. It's possible to make a good film like that (and Away from Her is an example), but this was amateur hour. There are some quite good films rated much lower than this one. Truly, another in a long line of woefully inadequate holiday films. Watch The Family Stone. It's miles ahead of this schlock.\"\n",
      "* * * * * * * * * \n",
      "386\n",
      "Not even worth watching this tacky spoiler ruins everything about 'Annie'. The characters seem almost cheapened by the poorly written storyline and they low quality feeling to the production. It was very clearly made for TV, yet if I found it on my television, I would flick it straight over. The children in the film do an alright job, yet the adults acting is unbelievable and so the movie fails to really draw you in. This film lacked the music/dance numbers thats made the original brilliant and truly does take the shine of the Annie we all love. Johnson, as Annie is at times annoying and over acted..you cannot convince yourself that she truly is Annie. The differences in character appearance continued to irritate me throughout the duration of the film. Sad to say this sequel was a total flop.\n",
      "* * * * * * * * * \n",
      "478\n",
      "When Marlene Dietrich was labeled box office poison in 1938 one of a handful of actresses so named by the trades papers, it was films like The Garden Of Allah. How a film could be so breathtakingly beautiful to behold and be so insipidly dull is beyond me. Also how Marlene if she was trying to expand her range and not play a sexpot got stuck with such an old fashioned story is beyond me.<br /><br />The Garden Of Allah, one of the very first films in modern technicolor was a novel set at the turn of the last century by Robert Hitchens who then collaborated on a play adaption with Mary Anderson that ran for 241 performances in 1911-12. It then got two silent screen adaptions. The story is about a monk who runs away from the monastery out in French Tunisia to see some of what he's missed in the world. He runs into a similarly sheltered woman who was unmarried and spent her prime years caring for a sick parent. She's traveling now in the desert and the two meet on a train.<br /><br />The woman is of course Marlene and the runaway monk is Charles Boyer. I'm not sure what was in David O. Selznick's mind in filming this story. Someone like Ingrid Bergman might have made it palatable for the audience. But you can bet that the movie-going public of 1936 when they plunked their money down for a ticket they expected to see Marlene as a modern day Salome rather than a saint with that title. The public still remembered Rudolph Valentino and you can bet that it was some desert romance and seduction that they were expecting.<br /><br />As for the monks you have to remember that they are self supporting in their monasteries and this particular one bottles a special wine of which Boyer happens to be the one with the secret. The monastery will have to rethink it's economics if Boyer leaves. The monks are a sincerely pious group, but from the head man Charles Waldron on down they've a right to be a little concerned with some self interest.<br /><br />Anyway a whole lot of religious platitudes get said here by a pair of leads that really are not suited for the parts. Most especially Marlene Dietrich. I would watch this film with an eye for the special color desert cinematography and forget the plot.\n",
      "* * * * * * * * * \n",
      "537\n",
      "The greatest sin in life is being dull, and this movie is crashingly boring. its funny, its left out of his \\a life in film\\\" documentary. He goes from a long piece on \\\"Stardust Memories\\\" and then fast forwards to \\\"Zelig\\\". This little piece of cubic zirconia just isn't worth the effort.\"\n",
      "* * * * * * * * * \n",
      "538\n",
      "This is a review of The Wizard, not to be confused with The Wiz, or Mr. Wizard. The Wizard is a late-eighties film about a seriously silent boy's ability to play video games and walk during the entire opening credits. The Wiz is an unnecessary update of The Wizard of Oz, and Mr. Wizard is that guy that attached 100 straws together and had some kid drink tang out of it.<br /><br />Now that we've gotten all that out of the way, let me say this: there's really no reason to see this movie. It's simply a 100 minute Nintendo commercial designed to capitalize on the Powerglove, the Legend of Zelda and Super Mario Brothers 3. I use the word \\designed\\\" in the loosest sense possible, because it seems like this movie was written over a weekend by a crack team of people who had never played Nintendo, and directed by a man with less sense of style than my grandmother. Maybe if the writer and director sat down and actually played some games together, they'd realize that they were about to film total rubbish and instead go to vocational school to learn how to install car stereos.<br /><br />I hope that this has been an enlightening experience for you. It sure hasn't been for me. In fact, I think I might have lost a few braincells in the act of watching this movie and writing about it. Next time you're at the video store and you see the The Wiz, The Wizard and The Wizard of Oz all sitting there on the shelf in a pretty little row, give them all a miss and play Duck Hunt instead.\"\n",
      "* * * * * * * * * \n",
      "539\n",
      "Chris Rock deserves better than he gives himself in \\Down To Earth.\\\" As directed by brothers Chris & Paul Weitz of \\\"American Pie\\\" fame, this uninspired remake of Warren Beatty's 1978 fantasy \\\"Heaven Can Wait,\\\" itself a rehash of 1941's \\\"Here Comes Mr. Jordan,\\\" lacks the abrasively profane humor that won Chris Rock an Emmy for his first HBO special. Predictably, he spouts swear words from A to Z, but he consciously avoids the F-word. Anybody who saw this gifted African-American comic in \\\"Lethal Weapon 4,\\\" \\\"Dogma,\\\" or \\\"Nurse Betty\\\" knows he can elicit more laughter with the F-word than Martin Lawrence and Eddie Murphy put together. Sadly, despite a few witty one-liners, \\\"Down To Earth\\\" hits Rock bottom both as a contrived comedy and an improbable interracial romance.<br /><br />\\\"Down to Earth\\\" utterly destroys any good will that the Weitz Brothers generated with their landmark gross-out face \\\"American Pie.\\\" This disposable drivel qualifies as a contrived as well as confusing comedy with a thoroughly improbable color-blind interracial romance. Unfortunately, a more than competent castamong them \\\"The Full Monty's\\\" Mark Addy, Chazz Palminteri of \\\"Analyze This,\\\" \\\"SCTV's\\\" Eugene Levy, and newcomer Brian Rhodes as Charles Wellington, Jr.are wasted in flat-footed, sketchy roles. Hardcore Rock fans will undoubtedly accuse their favorite comedian with trying to fix something that was never broken. Abysmally written by Lance Crouther, Ali Le Roi, Louis CK, and Rock, \\\"Down To Earth\\\" casts Chris as a messenger who rides a bike by day in the Big Apple and gets booed off the stage at night in Harlem's celebrated Apollo Theatre. Poor Lance Barton (Chris Rock) suffers from severe stage fright. Nevertheless, his charitable manager Whitney Daniels (Frankie Faison of \\\"Hannibal\\\") sticks with him through thick and thin. After Lance learns the Apollo Theatre will hold one final amateur night extravaganza, he implores Whitney to get him in the line-up. Excuse me, but if Lance is such a deadbeat stand-up comic, why does the Apollo keep inviting him back? Meanwhile, fate has something else in store for Lance. While pedaling home on his bike, our protagonist spots a pretty lady, Sontee (Regina King of \\\"Jerry Maguire\\\"), crossing the street, but he doesn't see the bus that collides with him and kills him. Wham! Lance Barton levitates skyward with a halo wreathed around his head. In Heaven, which resembles a cruise ship nightclub, Lance learns that an overzealous angel, Mr. Keyes (Eugene Levy of \\\"Stay Tuned\\\"), timed his death 40 years ahead of schedule.<br /><br />Heavenly honcho Mr. King (Chazz Palminteri of \\\"Analyze This\\\"), God's right-hand guy, apologizes and escorts Lance back to earth. The snag is Lance cannot reclaim his corpse, so he must inhabit another body. The best that Mr. Keyes can come up with is ruthless, white, 60-year old tycoon Charles Wellington. Wellington's adulterous wife Amber (Jennifer Coolidge of \\\"American Pie\\\") and his unscrupulous personal aide Winston (Greg Germann of \\\"Sweet November\\\") have just tried to poison him. Reluctantly, before Wellington's body vanishes, Lance accepts it conditionally as a loaner until Keyes can locate a more appropriate body. Meanwhile, Lance-as-Wellington encounters Sontee again. She is a nurse activist protesting his decision to privatize a Brooklyn community hospital that serves the poor. While Regina King brings a surfeit of charisma to her role as a crusading health care worker, she plays a character who bypasses credible motivation in her affairs with Wellington. Although he is no longer black, Lance not only tries to woo Sontee but also win a gig at the Apollo.<br /><br />\\\"Down To Earth\\\" features Rock in his most unfunny role. The comedian's reason for making this movie seems questionable. Reportedly, he ate lunch with Warren Beatty and told Beatty that he loved the original script that scenarist Elaine May had penned for Beatty. Initially, Beatty tried the race-reversal gimmick himself in his own version by trying to cast Muhammad Ali in the title role of \\\"Heaven Can Wait.\\\" The deal fell through, and Beatty headlined the movie himself. According to Rock, his longtime co-writers and he thought that they could 'annihilate' this classic. Moreover, he justified his choice of \\\"Heaven Can Wait\\\" based on his philosophy to \\\"Do Something you can only do when you're hot.\\\" Earlier, Rock rejected a script about a busload of touring rappers, because he saw little opportunity to stretch his image in such an outing. As a lifeless comedian in \\\"Down to Earth,\\\" Rock doesn't so much stretch his image as he inverts it for the worst! This half-baked concert film with an annoying plot does as much to cremate his comic reputation as it does the Weitz Brothers! You know a film about a comedian is in dire straits when a scene at the nightclub is played so you cannot hear the jokes, only the laughter. Similarly, the casting of Mark Addy as Wellington's butler who speaks the Queen's English but is in reality a commoner from Michigan defies logic, too. Addy is an actual Englishman, and he doesn't have to fake an accent; his accent is genuine. The major overriding quandary with \\\"Down to Earth\\\" is the on-again-off-again, look-a-like switcheroo that the characters make so Chris Rock doesn't disappear completely from the sight for more than a few seconds. Although Chris spends half the movie as white guy Wellington, audiences see him largely as Lance, undercutting the comic irony of watching his stocky, bald-headed, Caucasian white, alter-ego perform ghetto humor and chant derogatory hip-hop lyrics. Incredibly, Rock served double-duty as the film's executive producer and one of its four scribes. The mystery is how such a wealth of talent could grind out such an awkward, misguided muddle of a comedy. About the only redeeming feature of \\\"Down to Earth\\\" is Jamshied Sharifi's superb orchestral film score.\"\n",
      "* * * * * * * * * \n",
      "553\n",
      "Watch the 1936 version. As personally annoying I find Charles Boyer's voice, he's more of a match to pay cosmopolitan, depressed Rudolf--I mean Omar Sharif tries but, no--too cute and vibrant. Catherine Denueve (sp) besides being too old looks nothing like Marie--nothing! She looks too sophisticated to even think of dying for love of this man in such a fashion.<br /><br />The only actor in the entire movie who conveys the role they're playing is Ava Gardner whose appearance as Empress Elisabeth on the screen is fittingly brief (and look up pictures of the empress there's more than a passing resemblance) as historically, Empress Elisabeth wasn't involved that much in Rudolf's life.\n",
      "* * * * * * * * * \n",
      "716\n",
      "I did not expect a lot from this movie, after the terrible \\Life is a Miracle\\\". It turns out that this movie is ten times worse than \\\"Life ...\\\". I have impression that director/writer is just joking with the audience: \\\" let me see how much emptiness can you (audience) sustain\\\". Dialogues are empty, ... scenario is minimalistic. In few moments, photography is really nice. Few sarcastic lines are semi-funny, but it is hard to genuinely laugh during this \\\"comedy\\\". I've laughed to myself for being able to watch the movie until the end. If you can lift yourself above this director's fiasco, ... you will find good acting of few legends (Miki Manojlovic, Aleksandar Bercek), and very good performance of Emir's son Stribor Kusturica.<br /><br />In short: too bad for such a great director ! Emir Kusturica is still young and should be making top-rated movies. Instead, he chooses to do this low-budget just-for-my-private theater movie, with arrogant attitude toward the world trends and negligence toward his old fans.\"\n",
      "* * * * * * * * * \n",
      "816\n",
      "Janeane Garofalo has been very public in her displeasure about this film, calling it, among other things, anti-feminist. She has also said on her radio show she hates making \\romantic comedies\\\" because she doesn't believe in them. I wholeheartedly agree with Janeane here. This film is a trifle at best. She does her best, but overall, it was just another boring, unbelievable \\\"romantic comedy\\\" that has no basis in the real world. Whereas there will be some who will say \\\"suspend your disbelief\\\", one grows tired of having to suspend it nearly every time you get a romantic film from Hollywood. Janeane's character, for some reason, is usually filmed in shadows and darkness, which makes her look unattractive, while Uma's character is filmed in lighter tones (which probably displeased Janeane and is probably one of the reasons she detests this film). That really hurts the film if we are to buy the premise that Janeane is supposed to be the better looking of the two. As many have said here and on other comment threads, Janeane is not ugly, but in fact, quite beautiful. I haven't read one review where someone said Uma was better looking. Having said that though, I believe that Ben Chaplin's character would more than likely stay with Uma, not Janeane. Many men don't like really intelligent women (and many women don't like really intelligent men), and sadly, Ben probably would have stayed with Uma. And despite the director's attempt to make Janeane unattractive, it doesn't work. Her natural beauty comes through anyway.<br /><br />I think a lot of Janeane's male fans who are obsessed with her like this film because they like to think of themselves in the Ben Chaplin character, and actually scoring with Janeane. Janeane is a lot more complicated than the character she plays here (real life is always much more complex than Hollywood can imagine), so take a cold shower gentlemen. This is the role that Janeane is best known for, and that's a shame, as this really isn't that good of a film.\"\n",
      "* * * * * * * * * \n",
      "847\n",
      "My girlfriend once brought around The Zombie Chronicles for us to watch as a joke. Little did we realize the joke was on her for paying £1 for it. While watching this film I started to come up with things I would rather be doing than watching The Zombie Chronicles. These included:<br /><br />1) Drinking bleach 2) Rubbing sand in my eyes 3) Writing a letter to Brad Sykes and Garrett Clancy 4) Re-enacting the American civil war 5) Tax returns 6) GCSE Maths 7) Sex with an old lady.<br /><br />Garrett Clancy, aka Sgt. Ben Draper wrote this? The guy couldn't even dig a hole properly. The best ting he did was kick a door down (the best part of the film). This was the worst film I have ever seen, and I've seen White Noise: The Light. Never has a film had so many mistakes in it. My girlfriend left it here, so now I live with the shame of owning this piece of crap.<br /><br />News just in: Owen Wilson watched this film and tried to kill himself. Fact.<br /><br />DO NOT WATCH\n",
      "* * * * * * * * * \n",
      "848\n",
      "The premise was intriguing, but sadly this film just doesn't do any justice to it. The casting was quite good, and it was shot beautifully - but stylistically much of the direction was inconsistent (overstylized fast editing been there done that to no effect.... I was waiting for Steven Bochco to run in the credits followed by a commercial), characters were identified exclusively by on-screen coke usage (and pretty much everything else left to Boogie Nights for character development), and no personable characters to draw the viewer into the story. A very forgettable film.\n",
      "* * * * * * * * * \n",
      "1096\n",
      "Greenaway's films pose as clever, erudite and innovative. Yet his style and grammar originate and remind viewers of films made in the World War 1 era of film-making: the frame composition, use of mid-shot, the static camera. It may be well to rub against mainstream movies with this style but it is not new. Perhaps like that other \\innovator\\\", TS Eliot, he draws more from the past than in looking forward as an authentic innovator would or could.<br /><br />Yet Greenaway's biggest failing is that he cannot write. His dialog and even plot structure is mechanical and logical but without the vitality of another dramatic logician, Brecht. Where this weakness is most apparent is in his humor, which is poised and logical, so the joke is dead before it's delivered. The result is tedium: if it's not funny, it has failed: ask a stand-up comedian to justify their act if the audience doesn't respond. Perhaps the well-read director could learn something from Freud on humor.<br /><br />Finally, like Woody Allen, Greenaway has manipulated his actors over the years to work like clones. They speak the lines with a bored, smug air like narcissistic adolescents.<br /><br />This film, despite its design and lighting, is meretricious.\"\n",
      "* * * * * * * * * \n",
      "1101\n",
      "This is definitely a stupid, bad-taste movie. Eddie Murphy stars in what is written like a sitcom. He is surrounded with his perfect family, full of good family values. If you're looking for politically correct entertainment, this movie is for you. But if you hate the idea of being the only one not to laugh at obscene gags in a movie-theater full of pop-corn addicts, just flee.\n",
      "* * * * * * * * * \n",
      "1193\n",
      "James Gandolfini is a good actor so what ever did he take a role in this piece of unfunny rubbish. Affleck is just a lightweight who just can't cut it, the rest of the cast are truly unforgettable. I saw this in the USA in an empty theatre, I soon knew why the place was empty after about 10 minutes. I walked out before the end it was so bad, so imagine my surprise when back in England I saw the movie had a glowing report from that yoyo \\Paul Ross\\\" in one of the down market Sundays. I always rely on Ross to save me money on cinema tickets, if he says the movie is good, I get straight on this very website to check it out. This movie should have gone straight to £1.99 DVD in a supermarket near you.\"\n",
      "* * * * * * * * * \n",
      "1221\n",
      "Hammerhead is a combination between the mad scientist and killer shark movie genres. In a bit of type-casting, Jeffrey Combs plays the aforementioned mad scientist who develops a human/hammerhead shark creature. Bizarrely, this being is in fact his son, who he has turned into this monster to prevent him dying from cancer. Or something.<br /><br />A group of associates are invited to the scientist's private island. They end up being used as shark bait or shark mate. For some unknown reason the head of IT has been brought along as part of this team. Who knows why? Luckily, he turns out to be a resourceful, if somewhat overweight, Ramboesque hero. I'm working on the assumption that he learnt how to handle an assault rifle as part of his day job working in 1st line support. A normal day for this IT man presumably involves fixing someone's network connection followed by a call to gun down gun-toting evil-doers. Or perhaps a call to fix someone's PC has to be scheduled between physical confrontations with land-based human-shark hybrids? Anyway, he's amazing and saves the day. He even get's the girl.<br /><br />The shark-man is a slightly lame creation but OK, I guess, judging by the effects in general in this film. And the movie moves on at a decent pace. It's complete hokum of course but if you buy a movie called Hammerhead and expect it to be a complex drama about the emotional conflicts experienced by a man turned into a land-based killer fish, then really you have no one to blame but yourself. As it is, there are guns, gore, girls and possibly even an exploding helicopter. It's rubbish but not as bad as some might say.\n",
      "* * * * * * * * * \n",
      "1315\n",
      "We brought this film as a joke for a friend, and could of been our worst joke to play. The film is barely watchable, and the acting is dire. The worst child actor ever used and Hasslehoff giving a substandard performance. The plot is disgraceful and at points we was so bored we was wondering what the hell was going on. It tries to be gruesome in places but is just laughable.<br /><br />Just terrible\n",
      "* * * * * * * * * \n",
      "1379\n",
      "This is one of the worst movies I have ever seen! I saw it at the Toronto film festival and totally regret wasting my time. Completely unwatchable with no redeeming qualities whatsoever.<br /><br />Steer clear.\n",
      "* * * * * * * * * \n",
      "1419\n",
      "At the beginning we get to see the start of a secret council of some sorts. It all looks very promising from the get go. With some supernatural elements thrown in, the mystery gets more interesting by the minute. The main character who seems like a good bloke gets into trouble because of his claim for money he is entitled to (temptation) and other factors. You really empathize with the guy and you want to know what exactly is going on. Normally a person in his situation would have several options. Somehow he does not have those options. In this movie there only seems to be one solution even when it is clear it is not his fault. Out of the blue he encounters characters who talk about church,prayer and God. And they provide the answer for his problem. It should be obvious at a point in the movie what this solution is. Now let me say that there is nothing wrong with this message. Since it always is helpful. But was it really necessary to disguise this message. This religious element actually ruined the viewing experience for me. While the message is good,it's simplicity can't escape the fact that in real life more needs to happen to resolve issues presented in this movie. The mystery that is presented to us never gets solved. In stead you are forced to deal with another topic that essentially has nothing to do with the plot. Don't get fooled because of Malcolm Mcdowell. The once brilliant actor is adequate,but if you watch closely you will see that he is not serious at all. He really must be desperate for money. Otherwise what would posses an actor of his caliber to act in a movie like this.\n",
      "* * * * * * * * * \n",
      "1463\n",
      "Stephen J. Cannell apparently decided a few years ago that he would broaden his horizons and dabble in horror. The result, \\Dead Above Ground\\\", is an abysmal piece of junk. Now, had I noticed his name in association with THIS particular film I'd have put it back but no, I didn't have my glasses on and therefore I missed it, damn, I really do need to bring those with me while video shopping. First question would be, who the heck is the target audience for this? It's almost like a \\\"scary\\\" kids movie, but then again there's topless babes and some gore and some bad words spouted here and there. The main characters are so cute that you want to see someone, anyone, go after them with farm implements of SOME kind. Seems that a guy opens a bed and breakfast that has a checkered past, a child-murdering witch that collected children's teeth lived there. Probably something the real estate agent failed to mention. Of course now in the modern day there's a little girls ghost around to warn the real-live little girl that now lives there that something bad is going to happen. It does, and there's also two Bubbas that were squatting on that property when the new owner took over so they're out for revenge too. This whole thing has the feel of some made-for-cable junk that's for the kids at Halloween except for, of course, the things that aren't suitable for little kids, so not only is this mediocre, it's confused, too. A big boo and hiss to Anchor Bay for putting this out too, considering their usual track record with fine releases this is a new low. The UK gets a Phantasm Box Set, we get \\\"The Tooth Fairy\\\". Hardly seems fair. 1 out of 10, absolute garbage.\"\n",
      "* * * * * * * * * \n",
      "1525\n",
      "This documentary is at its best when it is simply showing the ayurvedic healers' offices and treatment preparation. There is no denying the grinding poverty in India and desperation of even their wealthier clients. However, as an argument for ayurvedic medicine in general, this film fails miserably. Although Indian clients mention having seen \\aleopathic\\\" doctors, those doctors are not interviewed, and we have to take the vague statements of their patients at face value-- \\\"the doctor said there was no cure,\\\" \\\"the doctor said it was cancer\\\" etc. Well, \\\"no cure\\\" doesn't mean \\\"no treatment,\\\" and what type of cancer exactly does the patient have? The film is at its most feeble when showing ayurvedic practice in America. There it is reduced, apparently, to the stunning suggestion that having a high powered Wall Street job can make your stomach hurt.\"\n",
      "* * * * * * * * * \n",
      "1559\n",
      "Edward Montagne's Tattooed Stranger is supposed to play like a crime thriller with a little film noir mixed in for flavor. Instead, it's a poorly acted, witless look into low budget and uninspired film making. The plot is absurd and the acting excruciatingly stiff and amateurish. John Miles, who had a rather thin resume in the industry, grins and guffaws throughout, and everyone else acts with the same verve as characters in a government-made filmstrip about driver safety. The movie anticipates shows like 'Leave it to Beaver' and 'Father Knows Best' in its unnaturally wholesome view of New York in 1950. Why, the viewer doesn't even get to see anyone light up a cig until some shapely woman is interviewed in a flophouse halfway through the movie. The only thing the movie has going for it (besides its brevity) is the excellent location shots coordinated by William Steiner. The low budget of the film works in the cinematographer's favor, as the viewer is treated to well-framed shots of New York City's interiors and expansive exteriors. Unless you wish to enjoy the film for the choice of settings and camera angles, I suggest watching practically any other movie.\n",
      "* * * * * * * * * \n",
      "1608\n",
      "The script for this movie was probably found in a hair-ball recently coughed up by a really old dog. Mostly an amateur film with lame FX. For you Zeta-Jones fanatics: she has the credibility of one Mr. Binks.\n",
      "* * * * * * * * * \n",
      "1694\n",
      "This has to be one of the worst films of the 1990s. When my friends & I were watching this film (being the target audience it was aimed at) we just sat & watched the first half an hour with our jaws touching the floor at how bad it really was. The rest of the time, everyone else in the theatre just started talking to each other, leaving or generally crying into their popcorn that they actually paid money they had earnt working to watch this feeble excuse for a film. It must have looked like a great idea on paper, but on film it looks like no-one in the film has a clue what is going on. Crap acting, crap costumes. I can't get across how embarrasing this is to watch. Save yourself an hour & a bit of your life.........\n",
      "* * * * * * * * * \n",
      "1733\n",
      "I'm a great admirer of Lon Chaney, but the screen writing of this movie just did not work for me. The story jumps around oddly (I've since learned that the film is missing a section), and characters appear and disappear with irritating suddenness. Some of the intertitles are overly explanatory (e.g., \\why, you're not a child anymore!\\\"--cut back to picture for a long, slow beat--\\\"you're a woman!\\\" yes, we got it the first time) but there are a few talking sequences that beg for explanations that never appear. (Let's hear Luigi and his blond girlfriend's argument, please!) The plot, which involves incestuous desires (figuratively if not technically) was disturbing to the point that it was hard to watch. To the writer's credit, this issue was treated as a problem, and a May-December match is not portrayed as the right-and-good inevitability of some Mary Pickford films (e.g., \\\"Daddy-Long-Legs\\\"). Chaney gives a good performance, as usual, but I think he has been better-directed in the past--he overdid it a few times here, IMHO. I did enjoy the clown sequences, and was very impressed at the stunts. Loretta Young was charming, though astonishingly young. The film has its moments, but so far, it's my least-favorite Chaney picture.\"\n",
      "* * * * * * * * * \n",
      "1769\n",
      "I rented this movie today thinking it might be a good football movie, since I'm a big football fan. Boy, was I wrong. This movie is way too religious and preachy and is REALLY unrealistic. This movie pretty much says that if your a Christian you can get anything you want in life easily, like become a great football player! You don't become a great football player by becoming Christian and asking God, you do it through practice and hard work. All you gotta do is ask God and he'll give you anything....puh-lease. Thats not true at all, duh. I laughed several times because of this embarrassment. The only part that was funny was when they were being dumb (Shultz the cartoonist? no, the dude that flew over the Atlantic, etc etc..) but really this movie wasn't that great. I don't recommend it, especially if you aren't a Christian, lol.\n",
      "* * * * * * * * * \n",
      "1895\n",
      "<br /><br />Paul Verhoeven finally bombed out on this one. He became a joke on himself. Once again we have a film which includes sex and violence, immorality, leering at women and lots of attitiude talk between the characters and dollying pans.<br /><br />Its all for nothing. Because their is no action at all in this film. It fudges all its set pieces. All the actors give the kind of performances form a Verhoeven film. In other words rampant over acting on almost every level. Starship Troopers got away with it because it was such a macho world the characters inhabited. In this scientists are acting the same way. Sorry Paul but Soldiers and scientist are not really made of the same mindset.<br /><br />One major flaw in the plot was that after escaping for that one night to do evil things Kevin Bacons character then returns back to the science lab where we have already spent more then enough time watching these animated manniquens (Elizabeth Shue excepted) walk and talk. Why not show the extent of what the character could do in the outside world. How could they possibly track him if he could be anywhere at all??? Think os all the different things that could have been done with this concept, both in terms of story and characterisation. Then look at what this film does and you really how badly done and concieved the whole project really was.<br /><br />More insulting is the Doco on the DVD where everyone is claiming that Verhoeven is some kind of MAd Genius. Well one out of two isnt that bad.<br /><br />This film has nothing of note in it. Just like the title says.<br /><br />Hollow!!!\n",
      "* * * * * * * * * \n",
      "1968\n",
      "A remake of the superb 1972 movie of the stage play, nicely casting Caine as the nemesis of his character from the first movie. But doing nothing else nicely at all.<br /><br />A under-parr performance from the actors, Law and Caine, diluted further by weak self-indulgent direction.<br /><br />The warmth of the setting in the original is forsaken for a super-modern homesetting. The subtle interplay between Oliver and Caine which made the first movie so watchable, is replaced with a horrid, brash arrogance that instantly breeds disdain in the viewer. But this is not the clever, to-ing and froing of liking one then the other character the original fostered so well, this is an obvious OTT character assassination of both character from the word go.<br /><br />This version of Sleuth is not really worth seeing, watch the original film and be dazzled from the opening act.\n",
      "* * * * * * * * * \n",
      "2080\n",
      "That's right. A movie written, directed and produced by Fred Tepper and family. (Fred should have known better, having worked the sets of 'Titantic' and 'Dogma'.) <br /><br />So, the plot. There are some scientists, and some forest rangers, and a hot chick with huge fake breasts. They are all really bad at their jobs, including the hot chick(who I think is supposed to be a photographer, but who cares because she wears a bikini). One of the forest rangers comments that the scientists are \\professional people,\\\" which is good, because it would be horrible if they were professional grubs or jellybeans or Ewoks.<br /><br />They are hiking through the woods in search of some strange ape-like bones, and no one even once mentions that the bones just might be those of the infamous Bigfoot. They just wander around and one of the rangers unabashedly hits on the hottie. We all hope he dies real soon (along with his sister who's meant to be the cute naive one, but is really just annoying). Then they, *gasp*, find a Sasqu... I mean, Ape-like Animal Burial Ground. Of course, no mentions that it might just be Bigfoot bones they're messing with... I guess scientists and forest rangers just don't think about those types of things.<br /><br />Then Sasquatch and his tribe get really angry and kill all the people we dislike, chases the other losers away and buries his Great Aunt Muriel and Cousin Josh (who died in an unfortunate trout accident) all over again.<br /><br />Insipid, boring dialogue (I zoned out several times), inane plot, unlikable characters, bad CGI (a man in a monkey suit would look better), and acting that just wasn't very good all add up to make a movie I won't be watching again.<br /><br />You check it out though; it's good for some unintentional laughs.\"\n",
      "* * * * * * * * * \n",
      "2515\n",
      "The film is a collection of cliche's on just about anything out there. It has no focus whatsoever, no goals, no real message. Symbolism is pushed over the top and stereotyping is abundant and outrageous. This movie can't resist the temptation of making drama where non exists. Every small exchange of words turns immediately into a lengthy, unjustified dialog that is so typical of an acting class rehearsal. Where there is no substance to this exchange, the actors (regardless of how good they are normally) can't help but compensate with exaggerated emotion, aka \\raising the stakes\\\". Over acting, to put it simply. The directing is of no help here. Nothing can save this non-story. It is forced, faked and boring to tears. Inaccuracies in portaraying punk rock with The Who, piercings and flashy 90's outfits. Characters wander without a role, detail and motive. Locations are arbitrary. This is Boogie Nights cum The Good Fellas cum Saturday Night Fever, with meaning and art ripped out.<br /><br />Good DP. I'll give it that.<br /><br />Some films have flaws. This film is Lee's flaw. He sold out, like the rest of them. Became irrelevant. He has nothing of interest to say anymore.<br /><br />I have no desire to see anything again from this guy (whom I'll refrain from naming from now on).\"\n",
      "* * * * * * * * * \n",
      "2650\n",
      "Very much a film from the times -- extremely long sequences with no dialogue, bad flashbacks, and an almost entirely male cast. The two women who appear have a total of under 10 lines and exist only as romantic interests for men.<br /><br />O'Toole is riveting whenever he speaks; unfortunately, he spends much of his time peering through shrubbery. Alastair Sims is always a joy to see but he, too, is terribly underused.<br /><br />The film has one additional positive aspect, in that it depicts many aspects of British fascism and fascist sympathies (such as the casual appearance of the Mosley graffiti) that many people today are unaware of. Too many of today's films about WWII paint the Allies as all-good and the Axis as all-evil, when history tells us people are far more complicated than that!<br /><br />This would be a good movie for when you're recovering from the flu and are bundled on the couch and not able to absorb anything too complex. If you just need something to pass the time while your electrolytes stabilize, this is the movie for you.\n",
      "* * * * * * * * * \n",
      "2666\n",
      "Bought this movie in the bargain bin at Rogers Video store for $2. I enjoy a good B movie now and then and figured this looked like a good one.<br /><br />The movie is quite cliche \\1970's\\\" and is quite groovy for that. Unfortunately the story line is hard to follow and not a lot happens in the movie. In fact, I turned it off after watching it for 45 minutes and figured a week later that I should watch the whole thing no matter how slow it was.<br /><br />The movie has good spots in it, but you have to wait and wait and wait.......for them.<br /><br />If you are into B movies, this might just be for you, just be warned that the movie is slow and not much really happens, and did I mention not much story line either...<br /><br />\"\n",
      "* * * * * * * * * \n",
      "2751\n",
      "Totally forgettable. Specially because of the weak acting. This is the first movie I've seen with Dax Shepard. To my surprise, he's been around since the late 90's. I thought he was a newcomer, since his acting was so bland. I could say the same about Liv Tyler. Although I've seen her do well in other movies, she gave Clare Cooper a strange personality. Liv is not the kind of actress that will give the character a fiery, emotional personality like Diane Keaton would be able to, but it was pretty strange to see her say her lines in whisper mode. It seemed that altogether there simply wasn't a very good chemistry going on between the actors, and I think Diane Keaton sensed that as well. She's a fantastic actress, but seemed just a bit over the top in this movie. It felt like she just wanted to get this movie over as soon as possible. I wouldn't blame her.\n",
      "* * * * * * * * * \n",
      "2879\n",
      "if they gave me the option of negative numbers I'd use it. This movie was truly god-awful. I went into the theaters expecting it to be horrible, and it somehow managed to exceed my expectations.<br /><br />The script was weak, the acting was painful. I wanted to walk out but my friend was driving and wanted to get her moneys worth, I think we were both disappointed.<br /><br />The growing of the breasts when the girls got their super power and changing of the hair color was just wrong. Eddie Izzard just seemed wrong for the part of super villain, he came off as oddly weak and silly. Jenny Johnsons (Uma Thurman) came off as psychotic and strange, as did Matt's (Luke Wilson) friend Vaughn (Rainn Wilson.\n",
      "* * * * * * * * * \n",
      "3060\n",
      "Comedy Central has had success with original programming using professional comics. The Chapelle Show, Mind of Mencia, The Daily Show and the hugely popular Colbert Report all star professional comics and all are, or in the case of Chapelle Show, were, solid shows. Given that Sarah Silverman is one of the best female comics in the business, I was expecting good stuff when I tuned in.<br /><br />I was so disappointed.<br /><br />There were some mildly funny sequences, but given that the star is the caliber of Silverman, the show could have been much better. It was just the pilot, and hopefully next week's show will be better. If not, get her some help in the form of better writers for the show.\n",
      "* * * * * * * * * \n",
      "3092\n",
      "Yikes, it was definitely one of those sleepless nights where I surfed the channels and bumped into this stinker of a movie. For some of the names in the cast, I'd expect a much better movie. I'm almost embarrassed to see Oscar Winner F. Murray Abraham being reduced to such a horrible part. I hope the money was worth it. And the students, they talked about fencing like they were talking about survival in a war or through a horrible disaster. I mean, I've fenced, it's a fun sport, but I've never been that intense. The only reason I even watched this entire movie was because the remote fell under the sofa and I was too lazy to get it back.\n",
      "* * * * * * * * * \n",
      "3112\n",
      "I watched this movie really late last night and usually if it's late then I'm pretty forgiving of movies. Although I tried, I just could not stand this movie at all, it kept getting worse and worse as the movie went on. Although I know it's suppose to be a comedy but I didn't find it very funny. It was also an especially unrealistic, and jaded portrayal of rural life. In case this is what any of you think country life is like, it's definitely not. I do have to agree that some of the guy cast members were cute, but the french guy was really fake. I do have to agree that it tried to have a good lesson in the story, but overall my recommendation is that no one over 8 watch it, it's just too annoying.\n",
      "* * * * * * * * * \n",
      "3330\n",
      "Quite typical for swedish movies of this type. Strange that the acting was soooo bad, these actors usually give a good show. The casting was poorly done, it made you expect something (I won't tell you what). The lead character was awful... I don't know where they find her. Anyway, stay away from this and go see \\Den Tredje Vågen\\\" instead, this is swedish action in is prime.\"\n",
      "* * * * * * * * * \n",
      "3498\n",
      "I saw this movie once a long time ago, and I have no desire to ever see it again.<br /><br />This movie is about Preston Waters, a hard-lucked preteen, who always seems to be overlooked by his family and who always seems to be short on cash. All this changes when a bank robber runs over Preston's bike and passes him a blank check as compensation. Preston uses the check to withdraw $1 million from the bank (ironically, the money belongs to the bank robber who gave him the check). Preston then buys a mansion and says that he's working as the assistant of a mysterious and wealthy backer named Mr. Macintosh (named after his computer). After that, he just goes crazy with the money.<br /><br />On paper, this sounds like a great idea. However, on screen, it is one of the emptiest movies I've ever seen. For one thing, it's too unbelievable. I know some parts of the movie were meant to be incredible, but I draw the line at a twelve-year-old boy going out with a thirty-year-old woman, and being put in charge of a imaginary person's small fortune. Also, this was a shallow movie with weak acting, a predictable plot line and characters who are less than memorable. The characters were either cheesy, over the top, annoying, or underdeveloped. But \\Juice\\\" was a funny character.<br /><br />If you're looking for a good movie to watch with your family, skip this one.\"\n",
      "* * * * * * * * * \n",
      "3587\n",
      "We open with Colonel Luc Deveraux (Van Damme), the original Universal Soldier and his buxom Asian friend being chased down a river by what appear to be Universal Soldiers. They almost kill the two, then oh wait, it was just a field test. Deveraux we come to find is now part of a government funded company that designs the new level of Universal Soldiers. Why he would want to be involved in this (if you know anything about the original) is never explained and well beyond me.<br /><br />It's after this flimsy set piece that the real story gets going. The United States government has cut the Universal Soldier's project budget and in the process angered SETH (the large artificial mainframe computer that controls the Universal Soldiers). Naturally he won't be shut down without a fight. So that means Van Damme has to go around and take all the new breed of Universal Soldiers out. Which sounds like a fun idea for an action movie and a take on a sequel, but that doesn't stop it from becoming stupid as hell. <br /><br />For instance, one of the new Universal Soldiers is played by Bill Goldberg. Seems you can't go wrong casting a wrestler in an action movie. He's big, he's tough, right? Wrong. Van Damme doesn't seem to have a problem wiping the floor with him... once ... twice ... three times. The point here lost on me. Then there's the breaking of glass. A rudimentary part of any action movie, but someone involved must have a glass fetish. You have to see the fight scenes in particular. Let's not talk about how nobody cuts themselves or at the very least slips. Then to put the cherry on top of this train wreck, they have SETH (the computer) secure a human body for himself and how appropriate it is when they make the villain black (Michael Jai White). Nothing works better than a white good guy fighting a black bad guy it would seem. Potentially offensive and just downright lame. He's no replacement for Dolph, either.<br /><br />Universal Soldier 2 is a lousy sequel. It's loud, it's dumb and it doesn't care. The original wasn't anything poetic, but it made a simple sort of sense with a science fiction element and it entertained on a basic level. The sequel doesn't. They do however keep the running time under ninety minutes and somehow found a way to squeeze in a strip club sequence. So give credit where credit is due.\n",
      "* * * * * * * * * \n"
     ]
    },
    {
     "name": "stdout",
     "output_type": "stream",
     "text": [
      "3660\n",
      "Imagine, its, say 12-1am - your at home, your bored, your not tired. This scenario occurred about, say 4 or so years back..I turned on the TV and flicked over a few channels and found that this film was on. OH MY WORD this is the worst film I have ever seen! A runaway car that cant be stopped (cos the brakes have been cut or something) in caning it down the freeway - whats gonna happen?! This film was so bad its actually funny - I think the stunts cost about $2 to make, there was one instance where a baby/small child is being winched from the car by a helicopter - in an attempt to excite the viewer - a conveniently placed bridge is nearing ahead...THIS IS THE BEST BAD BIT OF A FILM EVER - it shows the child narrowly missing the bridge but it looks so bad - you can almost see the make of the dummy that they used - total low budget classic! Cant remember the end of the film, though but I bet it was GREAT<br /><br />I doubt they will ever show this film again so I'm glad I got to see this piece of trash!\n",
      "* * * * * * * * * \n",
      "3693\n",
      "This so-called \\documentary\\\" tries to tell that USA faked the moon-landing. Year right.<br /><br />All those who have actually studied the case knows different.<br /><br />First of all: there is definitely proof. When the astronauts was on the moon, they brought back MANY pounds of rock from the moon - for geological studies. These where spread around the world to hundreds of labs, who tested them. And they all concluded that they came from the same planet, not earth: because the inner isotopes of the basic elements are different from those found on earth, but similar to those calculated to be on the moon. I.E. the conspiracy theorists never studies anything: they only take the thing that fit into their theory and ignores the rest.<br /><br />Another wrongful claim from them is that their was wind in the hangar where they shot the moon landing, I.E. the flag moves. There is a logical explanation: the astronaut moved it with his hand, so it moved. And what proves this: well, if the conspiracy theorists even studied the footage, they would see that the flag NEVER moves after the astronaut have let it be, I.E. the conspiracy theorists are bad-scientists, they cant study a subject properly, or only studies it until they have what they came for, so that they can make a lie from that, and make a profit (I.E. this so-called \\\"documentary\\\").<br /><br />A claim says that it cant possible have been filmed on the moon because all the shadows come from different places, because there are different light-sources, the artificial lighting from the studio. Once again the conspiracy theorists are wrong (as usual), the same would happen in an earth desert at night, with no light-sources. But i doubt that any Conspiracy theorists have ever been outside their grandmothers basement for more than how many days a Star Treck-convention is held over.<br /><br />The Conspiracy theorists are in denial, BIG TIME. They only see what they want to see. So they make up all these lies to seem important - that is a fact.\"\n",
      "* * * * * * * * * \n",
      "3746\n",
      "Devil Dog sets your heart racing. It's brilliantly paced, the ending comes like a bolt out of the blue and plunges itself into the very centre of your being. You'll never look at your dog the same way again. In fact you'll start thinking of having it put down - BY A PRIEST! FANTASTIC!\n",
      "* * * * * * * * * \n",
      "3821\n",
      "Eyes of the Werewolf (1999) is a really bad movie. The premise was real good but the overall execution was just terrible. I wished the filmmakers would have taken their time with this project instead of rushing it into production. Some blind dude gets some new eyes, bad thing is that they belong to a mean old werewolf. Nasty things begins to happen to the dude as he turns into a cheesy looking creature. Can he find a cure before his hot girlfriend finds out? Who is that weird little troll who helps him out and what's up with that female cop? If you really want to find out, check out Eyes of the Werewolf!<br /><br />Not a bad idea for a movie. I just wished the filmmakers would have spent a lot for time in pre-production before they decided to shoot the movie.\n",
      "* * * * * * * * * \n",
      "3901\n",
      "I don't remember the last time I reacted to a performance as emotionally as I did to Justin Timberlake's in \\Edison.\\\" I got so emotional I wanted to scream in anguish, destroy the screen, readily accept the hopeless cries of nihilism. Timberlake is horribly miscast; in fact, casting him is like casting Andy Dick to play the lead role in \\\"Patton,\\\" or Nathan Lane to play Jesus. But that is almost beside the point.<br /><br />Timberlake is simply a bad actor and he would be equally terrible in any role. I used to have problems with Ben Affleck's acting talent, but Timberlake makes Affleck look like Sir Ian McKellen or Dame Judi Dench. With his metrosexual lisp (read lithp), his boyish glances and emotional expressions which derive from something like \\\"The 25 Cliché Expressions for Actors,\\\" he poisons the screen upon which he is inflicted mercilessly, and no matter how you slice it, I do not and will not buy his role as an amateur-turned-crusader-for-justice journalist. It simply will not fly.<br /><br />However, Timberlake alone isn't to blame for his failure. Director David J. Burke puts him not only in the (essentially) primary role, but also places him aside Morgan Freeman, Kevin Spacey, John Heard, Dylan McDermott, Cary Elwes and (I'm surprised he was as good) LL Cool J. I can imagine one almost physically suffering watching some of this cast interact with Timberlake.<br /><br />There is an upside to this of course: the moment any of these actors interact without Justin there it feels like a double relief. A pleasure, if you will. Freeman and Spacey may not have more than 10 minutes of screen time alone together, but that ten minutes is blissful in contrast to their scenes with our so-called hero. Dylan McDermott is also a breath of fresh air.<br /><br />But enough of Timberlake bashing - words aren't enough in this particular case to do the trick. \\\"Edison\\\" is a very, very run-of-the-mill corruption story. It's plot ranges from cliché to simply preposterous. I do, however, admire the motivation behind making it, which I interpret as an homage to films like \\\"Serpico,\\\" or \\\"Donnie Brasco,\\\" or maybe even \\\"Chinatown.\\\" Don't get me wrong - \\\"Edison\\\" is not even in the same ballpark as these films, but I can stretch my suspension of disbelief to admire its reason for existence, perhaps to justify my sitting through it.<br /><br />The script, in and of itself, features some surprisingly bad writing. Yes, it has some decent interchanges, but any conversation between Piper Perabo (who is wasted here) and Timberlake seems like it was lifted straight out of a Dawson's Creek episode. It's your typical far-too-glib-for-reality, let's-impress-the-audience-with-how-well-we-articulate (and fail) dialogue. This dialogue, mind you, is punctuated by great music at the wrong moments - sometimes it feels like \\\"Edison\\\" wants to morph into a music video, where the emotion of the scene is not communicated through acting, but precisely through the badly chosen music and variant film speeds (read slow-motion).<br /><br />Thinking about it, \\\"Edison\\\" is a curiosity. It's sure as hell got a cast to kill for but the performances are marred by Timberlake who simply doesn't work. In film as in most art, if one thing is off, the whole thing feels off. Directors must make tough choices. David J. Burke missed the mark here. Some of the scenes play well in and of themselves, but as a whole, they don't seem to fit like puzzle pieces from different puzzles forced into one incoherent picture. And it's not particularly an exciting puzzle to begin with.\"\n",
      "* * * * * * * * * \n",
      "3911\n",
      "Impressed! This is the worst SRK movie and one of the worst Bollywood movies I ever saw! I didn't like the novel, but this movie made it worse! Very bad music, even worse actors (apart from SRK of course, though even he doesn't manage to save the movie), and not much sense. The director makes it all look very confusing, God knows why... Maybe it's because he's trying to make it all look very surrealistic, and yet credible. Well, he manages neither.<br /><br />Even if you've got a few hours to loose, don't watch this movie, please! (Saying this for your own welfare!) Keep searching, you will find something else to watch!\n",
      "* * * * * * * * * \n",
      "4071\n",
      "Sorry, gave it a 1, which is the rating I give to movies on which I walk out or fall asleep. In this case I fell asleep 10 minutes from the end, really, really bored and not caring at all about what happened next.\n",
      "* * * * * * * * * \n",
      "4172\n",
      "I like Chris Rock, but I feel he is wasted in this film. The idea of remaking Heaven Can Wait is fine, but the filmmakers followed the plot of that turkey too closely. When Eddie Murphy remade Dr. Doolittle and The Nutty Professor, he re-did them totally -- so they became Murphy films/vehicles, not just tepid remakes. That's why they were successful. If Chris had done the same, this could have been a much better film. The few laughs that come are when he is doing his standup routine -- so he might as well have done a concert film. It also would have been much funnier if the white man whose body he inhabits was a truck driver or hillbilly. So why does Hollywood keep making junk like this? Because people go to see it -- because they like Chris Rock. So give Chris a decent script and give us better movies! Don't remake films that weren't that good in the first place!\n",
      "* * * * * * * * * \n",
      "4237\n",
      "I once promised never to walk out of any film ( a personal policy that made me suffer through the most different kinds of dreck, such as Rambo 3, Baise Moi, Deep Impact) - but Mr. Seidl almost succeeded. Hundstage was a truly awful experience. Anyone who sees this movie will think that Austrians are a miserable, pathetic bunch of retards. It shows a world where love and humanity don't exist, a world where people humiliate each other only for one reason - to distract from their own miserable existence. By choosing a documentary-like style with non-professional actors (most of them look like straight from the imagination of Austrian shock-cartoonist Deix) director Seidl wants to make us believe that this is real life in Austrian (European? Western?) suburbs. The viewer is confronted with depictions of sex orgies, violence against women and handicapped people, madness and degradation. But this isn't social criticism. This is just pure shock without any aesthetic value. Instead you get bad acting, bad cinematography, bad filmmaking. If anybody needs a film like this to realize that there are things wrong in our society then this person must have walked through life with closed eyes. This is pseudo-social criticism with a sledge hammer. And it looks down on people in a disgustingly condescending way. It shows ugly people - that is not the reason why I hate it. But it depicts average people in an ugly, misanthropic way. And this is why this film is truly despicable.\n",
      "* * * * * * * * * \n",
      "4400\n",
      "This is one of the worst movies i have ever seen it's EXTREMELY boring with lots of boring dialog and has some VERY annoying characters and a laughable looking creature. The only reason i watched this piece of garbage is because it was on that 8 disc horror set i got. The plot is preposterous and totally stupid as is the finale. No blood what so ever except a few bloody marks on the creature, and a couple of bloody gunshot wounds. The acting is TERRIBLE!!. Richard Cardella is terrible as the sheriff and was quite laughable plus his character is annoying. Glen Roberts is the comic relief and was not funny at all!. Mark Siegel is extremely annoying and was also NOT FUNNY!. Bob Hyman is decent but not much more then that. Richard Garrison is annoying and had no chemistry with Kacey Cobb what so ever. Kacey Cobb is so so here and had no chemistry with Richard. Overall Avoid this piece of garbage at all costs! BOMB out of 5.\n",
      "* * * * * * * * * \n",
      "4681\n",
      "Payback is the game being played in this drama and the revenge plot is undone by the absurd story line that sets the stage for the fireworks that come later. Why would a man become involved with the trophy wife of a ruthless mob boss in the gangster's own mansion with suspicious henchmen all around? Why would an unhappy wife encourage the attentions of a complete stranger and expect him to carry her away with him and leave her husband and boredom behind to live happily ever after with her new love? Surely the hero, here Kevin Costner, must have expected a reaction from the cuckold husband that gives the movie an excuse to indulge in senseless gore and violence. Anthony Quinn, great actor that he was, surely deserved better, and Madeleine Stowe is the tragic figure who suffers greatly as she latches on to her prince charming. Stowe is okay but her Spanish accent doesn't work. The cameos of the lesser players are good, especially Miguel Ferrer and John Leguizamo and Sally Kirkland is interesting as a fading rock star.\n",
      "* * * * * * * * * \n",
      "4949\n",
      "I like a movie that has at least a vestige of a story. This doesn't occur in this movie. It's a series of vignettes with no cohesion.<br /><br />There are scenes of a person collecting pineapple cans. A woman with a blond wig never removes her sun glasses. This woman shoots at other people at the beginning of the movie and we never find out why. She disappears completely after about 30 minutes. There is another coquettish woman who endlessly cleans a man's apartment. There are endless scenes at a fast food joint where the Mamas & Papas 'California Dreaming' is vastly overplayed (I used to like the song). The dialogue is mostly concerned with food (pineapples, chef's salad and ordering drinks",
      "). I assume most of the actors gained weight during this movie because a lot of fast food was consumed.<br /><br />There is no passion in this movie because there is no story. This is purportedly a romance - it is no such thing. I just wonder why I didn't hit the Fast-forward. I kept waiting for something significant to happen  it doesn't. Maybe that's the only consolation to this movie - scenes shifted so rapidly that it tricked you into assuming that there was going to be a revelation to all the nonsense.\n",
      "* * * * * * * * * \n",
      "4965\n",
      "STAR RATING: ***** Saturday Night **** Friday Night *** Friday Morning ** Sunday Night * Monday Morning <br /><br />McBain (played by Gary Busey, before the name became synonymous with the character in The Simpsons) is a (typically) unorthodox cop who gets results but winds his superiors up something rotten. Avoiding the cliché of his partner being killed at the beginning of the film, the plot instead takes a different turn and sees him assigned to travel to Mexico where a top secret American super tank with incredible firepower and imaging capabilities has been smuggled through, only to be taken hostage, along with the crew, by a gang of terrorists.<br /><br />This cheap looking (even by 80s standards), boring little action film was a bizarre career move for Gary Busey after making an impression as the flame haired villain Mr Joshua in Lethal Weapon. He just goes through the motions with his cardboard character here, edgy and zany as ever (with 'butthorn' being his trademark put down for the bad guys), but without the material to back him up. Henry Silva has presence as a screen villain, but he's totally miscast here as an Arab leader (in a red beret!) and the awful script gives him some really clunky lines of dull dialogue that make his performance come off as laughably wooden. He's just one of a host of action film character actors, including L.Q. Jones and Lincoln Kilpatrick, who pop up but fail to add anything to the mix. After a dull first half without much exciting action, things do pick up a bit at the end, but it's too little too late and none of it manages the task of being any fun. *\n",
      "* * * * * * * * * \n",
      "4968\n",
      "This British-Spanish co-production is one of the countless films shot in Spain in the wake of the unexpected phenomenal success enjoyed by the Italian \\Spaghetti\\\" Westerns and, as is typical of such genre efforts, features an eclectic assortment of established and emerging international stars: Robert Shaw, Telly Savalas, Stella Stevens, Martin Landau, Fernando Rey, Michael Craig, Al Lettieri, Dudley Sutton, Antonio Mayans, etc. Ironically, however, this incoherent mess of a movie serves as a shining example as to why that most American of film genres became a dying breed in the 1970s and is nowadays practically (or is that officially?) extinct.<br /><br />I really wanted to like this film, not only because the Western is one of my favorite types of movies but also because it had all the qualities, including an intriguing premise, to be a good one - not to mention the fact that my father had purchased a paperback edition of A TOWN CALLED BASTARD's novelization following its original release! As it is, the film's sole virtue (if, indeed, it can even be called that) is its sheer eccentricity: for instance, Stevens, playing a widow out for revenge on the man who betrayed her revolutionary husband, sleeps inside a coffin(!) driven around in a carriage by her dumb manservant(?) Sutton; Savalas, as a blood-thirsty renegade, who at first appears to be the film's main villain, is unceremoniously dispatched by his own henchman Lettieri very early on in the picture; the villain of the piece, then, turns out to be Landau who, in the film's very first scene, is seen pillaging side-by-side our legendary hero-turned-priest Shaw!; Fernando Rey, playing a blind peasant, is the only one who can identify rebel Shaw who, in the end turns out to have been merely a front for...well, nevermind! As you can see, the plot is very confusing and it gets stranger from there! The production team responsible for this film were also behind other Western fare around the same period of time, like CUSTER OF THE WEST (1967), BAD MAN'S RIVER (1971), CAPTAIN APACHE (1971) and PANCHO VILLA (1972).\"\n",
      "* * * * * * * * * \n",
      "5017\n",
      "In over 70 years of watching movies,This has to be one of the very worst comedies ever made. Mel Brooks, Mike Meyers & a few other have made some very bad comedies, this however is the absolute bottom of the barrel.<br /><br />It is unfunny from the very opening,to the tacked on scene during the credits.<br /><br />Diane Keaton who I normally like must have needed her paycheck badly. She desperately needs to re-learn her craft.<br /><br />Dax Shepard (I do not know who he is),needs a better director,to show him how to act.<br /><br />Liv Tyler is also not up to her role.<br /><br />Mike White needs to find another character,he has done this same type person a few times too many.<br /><br />Ken Howard who started out years back as a first rate actor, also not as good as he used to be.<br /><br />There is nothing decent I can say on this attempt at movie comedy.<br /><br />Ratings: * (out of 4) points 25(out of 100) IMDb 1 (out of 10)\n",
      "* * * * * * * * * \n",
      "5126\n",
      "Henry, a veterinarian (Paul Rudd), and his bossy fiancé, Kate (Eva Longoria) are looking over the last minute arrangements for their reception. It is the morning of their wedding and Kate is in a frenzy, giving the caterers an earful about her demands for food presentation. But, horror of horrors, the \\angel\\\" ice sculpture, ordered by Kate, arrives without wings. In an ensuing fight with the sculptor, the heavy \\\"ice\\\" maiden falls on Kate and sends her to the hereafter. Now, one year later, Henry's sister arranges for a psychic to tell the young vet that Kate would have wanted him to starting dating other ladies and move forward. Yet, the lovely medium, Ashley (Lake Bell) becomes interested in Henry herself, much to the chagrin of her catering partner (Jason Biggs). More importantly, Kate returns from the other side to create havoc for Ashley, as she has no intentions of letting another woman get her hands on Henry. Can anything be done to return Kate into heaven for good? This is an abysmal romantic comedy, one of the worst this dedicated fan has ever seen. No, its not the cast, as they try gamely to make things work. Longoria is beautiful and funny as the overbearing fiancé and Bell has an offbeat style and humor that is likewise infectious. Biggs, a funny thespian, too, is totally wasted. As for Rudd, a very gifted performer (see Anchorman, Knocked Up, or Clueless, please) he tries hardest of all and, in truth, is the main reason to see this clunker. His charm, looks, and easy wit go a long way in making the film bearable. But, nothing can turn a mindless script and terrible direction into a winner, absolutely nothing. So, if you are a dyed-in-the-wool fan of romantic comedy, think long and hard before you fork over any money for this one. Even were free tickets to fall into your lap, be warned that this movie is a near-death experience for those who adore love-and-laugh cinema.\"\n",
      "* * * * * * * * * \n",
      "5236\n",
      "This is so incredibly bad. Poor actors. You can tell they're trying really hard to polish a turd, but we all know you can't. The writing is so obvious and facile, it's sad watching them try to sell it. The humor and pacing are so labored, it's hard to believe any of these good actors signed on for this.<br /><br />That said, it's so awful that we're having a hard time looking away from the screen. We just have to know where this trainwreck goes. But that's only because we caught it on TV. If we had actually PAID for this, we'd be disgusted. <br /><br />So it gets 2 stars for being at least amusingly/fascinatingly bad. And the incidental music (as opposed to the trying-too-hard indie soundtrack) is laughably reminiscent of an episode of Scooby-Doo... but not as good.\n",
      "* * * * * * * * * \n",
      "5289\n",
      "So this is what actress Kim Basinger has succumbed to? Mmm",
      " to tell the truth the film's title is something quite eye grabbing to getting your interest and plot outline reads so basic, but simplicity can have its strengths. Anyhow by the end of 'While She Was Out' I was left feeling rather indifferent. Not the worse (despite being engulfed by negatives), but there's easily way better in what is an causally lukewarm, but compact and unbalanced late-night survival fable of a feeble suburban housewife stranded in the woods trying to fight for her life after she witnessed the death of a rent a cop that came to her aid, when she provoked an ugly exchange with some punks in a shopping car park.<br /><br />The problem here falls on the misguidedly erratic and foreseeable material (taken from a short story), along with the very variable performances. The flimsy script was poorly thought-out (which isn't so good when your plot has a slight structure to hang off), so many wretched inclusions and dubious actions just go on to find its way in this endless chain of events. As for the bunch of stereotypical goons (led by an unconvincing Lukas Hass as a loose canon) terrorizing Basinger, well they were less than threatening, but hopelessly clueless. Watching Basinger scrounging around in the dank wilderness with a red tool box in her hand (don't ask me why?) knocking off these wannabe punks one by one became ridiculous because it didn't elicit tension or emotion",
      " but instead clumsy jolts that were absurdly daft because of the stupidity of the lead up. Basinger's performance is stout-like, but doesn't craft much empathy. Craig Sheffer shows up as her hot-headed husband. Strangely I couldn't keep my eyes off the screen",
      " thinking to myself that red toolbox is hypnotic (why would she be constantly carrying it) and what tool was she going to use to dispatch the next thug",
      " her choices were quite disappointing. Watching her transformation through the traumatic situation when things are finally turned around is rather empty, due to its unsure tone and the ending is something you could see miles ahead.<br /><br />Susan Montford's soberly slick direction lacks cohesion and energy, as it pretty much chugs along. I liked the opening credits though, with its hauntingly sullen score (which is the most effective thing throughout the feature) and polished photography.<br /><br />No great shakes. Doesn't ask much of your time, but I wouldn't care to see it again. However with the inclusion of a Joy Division song, it made me grab a couple of their albums for a listen.\n",
      "* * * * * * * * * \n",
      "5324\n",
      "I like animated shows. I enjoy the Nick fare pretty much, including Hey, Arnold. But moving a TV show to the Big Screen isn't easy and this just didn't feel big enough. It was more like a long episode of the show, and it just didn't move along that well. Judging by the behavior of the kids we had with us, it didn't score that well with them either.\n",
      "* * * * * * * * * \n",
      "5603\n",
      "We've been served - a terrible film.<br /><br />Okay, I'll admit that since I'm white and have had no practical experience in the \\competitive world of step-dancing,\\\" I might not exactly be an authority on this type of film. On the other hand, I do know a bad motion picture when I see it.<br /><br />And, boy, have I just seen it.<br /><br />Filmed in Low-Budget-Vision and directed by Ian Iqubal Rashid, (\\\"A Touch of Pink\\\"), \\\"How She Move\\\" tells the tale of how important it is to follow one's dreams - even if those dreams include bopping around to loud, irritating hip-hop music and speaking dialogue the average person would not understand if he or she had an international translator.<br /><br />I'll try to give a small synopsis of the \\\"plot.\\\" First of all there are two actors that look like LL Cool J who work in an auto shop in Toronto (the Mecca of racial diversity), but still have time to practice dancing for eight hours a day. <br /><br />There are a few other guys in this \\\"crew,\\\" including a token white dude and a guy that looks like Denzel Washington in \\\"Malcolm X.\\\" There are also two women in the movie - one resembles Serena Williams and the other looks like Geraldine from the old \\\"Flip Wilson Show.\\\" One of these ladies was kicked out of a private college because her parents spent all of her tuition on a drug-addicted sibling. The other girl, a member of Salt N Pepa, no doubt, is just plain no good.<br /><br />There's another guy who looks like Eddie Murphy's Buckwheat, while still another actor who's a Huggy Bear knock-off. These guys are rival step dancers. Evidently, this activity is very hard-core in the 'hood, and they are all practicing for the big \\\"Step Monster\\\" jam in Detroit.<br /><br />Since I was unable to understand 90 percent of the dialogue (perhaps some subtitles would have been useful, as in a Bergman film or that one music video by Snow), it's hard to explain what happens, other than there's a lot of arguing, the Serena Williams girl (who never smiles, by the way) becomes a freelance stepper (moving from group to group), there's some step-dancing and a lot of irritating hip-hop music.<br /><br />It's a typical rags-to-riches story; sort of like \\\"Rocky\\\" with a really bad soundtrack, \\\"Rudy\\\" with annoying rap music in the background, \\\"Cry Freedom\\\" without the laughs. <br /><br />But why does a film - which could have made a big impact on black audiences - have to contain drug addiction, bad parents and a title that sounds like a first-grader saying the phrase, \\\"How she moves\\\"?<br /><br />I was \\\"moved\\\" by this movie, however. Moved to leave the theater as quickly as possible.\"\n",
      "* * * * * * * * * \n",
      "5612\n",
      "This movie is by far the worst movie ever made. If you have to create a film costarring the guy who plays Lars in heavyweights than don't make the damn film. I have to say that I could watch Leprechaun in Space 6 times before I could watch the trailer for this POS of a movie. Adam sandler should be restricted from any movie after this disgrace. Watching this movie is like a mix of listening to Cher and willingly putting your dick in a blender. Anyone with half of a brain cell will realize that this movie is not worth a dime. If I had an extra dollar and had to spend it, I'd give it to the support Lorraina Bobbitt foundation before buying this movie.\n",
      "* * * * * * * * * \n",
      "5750\n",
      "I love B movies..but come on....this wasn't even worth a grade...The ending was dumb...b/c THERE WAS NO REAL ENDING!!!..not to mention that it comes to life on its own...I mean no lighting storm or crazy demonic powers?? Slow as hell and then they just start killing off the characters one by one in like a 15 min time period...and i won't even start on the part of the thing killing the one guy without its head....and then you don't even get to see what Jigsaw even does with his so called \\new jigsaw puzzle\\\"....Unless you have nothing better to do...Id watch paint dry before Id recommend this God-forsaken movie to anyone else...oh and to make it even better the other movie totem you can see the guy throwing the one creature in the basement scene from the window..that was funny as hell and probably the only good part of watching that waste of film\"\n",
      "* * * * * * * * * \n",
      "5800\n",
      "I agree with other users comments in that the two main roles were well acted, that being the guy that played Gary Gillmore and Giovanni's role. Too bad the story was so boring. Not hearing about the story I knew nothing of Gary Gillmore before the movie so I didn't know what to expect. I thought it would be something like Dead Man Walking or The Chamber but how wrong I was. The whole movie was just talking, talking and talking about their mom and dad. The only cool scenes were the flashbacks where the dad would lose his temper. That was the only interest I got from this borefest.\n",
      "* * * * * * * * * \n",
      "5832\n",
      "I'm sorry to say this, but the acting in this film is horrible. The dialogue sounds as if they are reading their lines for the first time ever. Perhaps I got the \\dress rehearsal\\\" version by mistake. The director over-uses slow motion during special effects perhaps as an attempt to compensate for the poor performance of the actors themselves. The story is pretty well written, and the fight sequences are actually better than I have seen in many action films. The fights seem pretty real. But all of this happens while to two leading actors time and time again miraculously survive incredible amounts of point-blank automatic weapon fire, grenades, morter rounds, and bazookas. The enemy soldiers are definitely some of the worst shots I have ever seen, especially when they have the escaping truck in their sights from about 30 yards, and every bazooka shot is wide by at least 50 feet. Those bazookas need serious site calibration.\"\n",
      "* * * * * * * * * \n",
      "6039\n",
      "I can't help but laugh at the people who praise this show as heartwarming and tear-jerking. For one, it's entirely unrealistic that these people will have perfect lives after their new homes.<br /><br />How can these families afford to maintain these new mega-houses? And what about their poor neighbors? Property taxes must surely increase after this happens. Plus, the noise would annoy me.<br /><br />Second, how excessive can a reality television show become? It's practically the same repetitive junk week after week. We're introduced to a suffering family, they renovate the home, then surprise the family and everyone breaks out the Kleenex boxes.<br /><br />Not to mention how boring the renovation part is. The only interesting part of the show is to see what the house looks like, but even that segment is destroyed by the phony confessionals and constant sobbing.<br /><br />\\Extreme Makeover: Home Edition\\\" is a show pretending to be heartfelt but it falls flat. Skip this one. If you like reality television, \\\"Survivor\\\" is far superior and moving.\"\n",
      "* * * * * * * * * \n",
      "6067\n",
      "Well, TiVo recorded this because of Angelina Jolie. It had 2.5 stars. It seemed promising. It went downhill fast.<br /><br />There is much overacting, even from Angelina. She's about 20 and playing a 16 year old. There are three characters that are supposed to be Italian. Everyone else is Italian- American. The native Italian accents were good, I thought. The young male lead is cute, my wife says. Everyone else in this movie is a fat Italian woman. Even the men.<br /><br />I should have known that when Dick Van Patten was cast as a randy doctor, that that was a bad sign. The two couples chasing their kids around are like the four Italian Stooges.<br /><br />My wife would not let go of the remote. Hopefully she was not taking makeup, clothing or decorating tips. It was a sick and twisted combination of hideous and garish. It was hidegarishous.<br /><br />Cutting off my left ventricle was not sufficient to distract from the pain of watching this movie. If this movie shows up on your TV, do yourself a favor and ram your head through the TV screen instead. You'll be glad you did. The only movie I've ever seen that was worse than this was \\Hamburger: The Movie\\\". Or maybe \\\"Deadly Friend\\\".\"\n",
      "* * * * * * * * * \n",
      "6123\n",
      "This was director von Stroheim's third effort - it is quite crude and shows none of the exceptional flair for the camera and editing mastery he would display a few years later with his masterworks, GREED and THE WEDDING MARCH. Essentially we have a trio of grifters, masquerading as a Russian count and two Russian princesses who have rented a villa in Monte Carlo. Their aim is to use counterfeit money at the gambling tables and win a fortune. Part of that plan is for the Count (von Stroheim) to insinuate himself between a visiting American ambassador and his \\foolish\\\" wife, wooing her and hoping to gain some money by playing on her weaknesses. He makes the mistake of also taking the life savings of the maid, whom he has promised to marry. When she sees them together, she sets fire to the room, (von Stroheim and his prey are on the room's balcony). Here von Stroheim first establishes his persona as \\\"the man you love to hate.\\\" He is thoroughly bad and his character flaws eventually bring him to a very bad and deserved end. The film is crude in its cinematography and editing and not worth seeing unless you are fascinated by the director. There is a cute bit- when he first attempts to meet the Ambassador's wife, she is reading a book - we see the title - FOOLISH WIVES by Erich von Stroheim. This was originally envisioned as a 210 minute film, cut down to 140 minutes by the studio and finally released at 70 minutes. The restoration on Kino Video restores surviving footage (damaged in some way in most scenes) from the alternate earlier version to give us a 107 minute print.\"\n",
      "* * * * * * * * * \n",
      "6193\n",
      "This movie is one of the most unintentionally bad action films ever put to film. Dolph Friggin' Lundren with a Japanese accent is funny enough, but add really corny buddy-buddy action to the mix, an eccentric and over-the-top villain, a clichéd love interest subplot and one of the worst endings of all time, and you've got yourself quite the little suicide-inducing cure for people who enjoy their life and, up till watching \\Showdown,\\\" had never contemplated killing themselves with a blowtorch.<br /><br />I don't know if it's just me but the whole homosexual subtext is none too subtle. There are constant references to male genitalia, and not by females, either. Brandon Lee and Dolphin talk about each other's manly parts, and in fact before going on a suicide spree, Brandon says to Dolphy, \\\"In case we don't make it, I want to tell you, you have the biggest d--- I've ever seen.\\\"<br /><br />Now, is this what a normal man would say to another man? In an ACTION film no less? And would you want those to be your _dying words_??<br /><br />Later, there's this gem:<br /><br />Dolph (regarding the villain): \\\"I would like to cut off certain parts of his anatomy.\\\" Brandon: \\\"Man, you've got a fixation.\\\" <br /><br />As the guy at RuthlessReviews.com pointed out, \\\"Unfortunately, Dolph doesn't respond with, 'I've got a fixation? I've got a fixation?! You're the one who decided that his last words should be about my privates! I was just gonna chop of his ears and his nose, man.\\\"<br /><br />This is relentlessly silly stuff and great fun if you're someone who enjoys receiving root canals from unlicensed dentists, without novocain. It's about on par. Great fun for the whole family!\"\n",
      "* * * * * * * * * \n",
      "6264\n",
      "Sadly I don't remember the book anymore, but I do recall that I was captivated by the stories of Edgar Wallace. This Film represents a typical German Production of low quality. It does not hold my attention - although the story itself is good, it is just badly adabted. At the center of the misery are the characters that are overly simplyfied and exaggerated - they have no nuances in their performances. Even the well known and liked German Actors Joachim Fuchsberger and Eddy Aren't cannot rescue this poor spectacle. However there's hope ... I've been told that the films following this one are getting better and better. So in conclusion I must say that this film doesn't deserve the cinematic screen but may be enough for a lazy afternoon.\n",
      "* * * * * * * * * \n",
      "6333\n",
      "I watched the Canadian videotape of this movie as \\The Witching\\\" which somehow made its way to New York State. Audio was quite bad, I had to raise it to about 7/8 just to hear it and the soundtrack often was overwhelming the dialog. Orson Welles was a mumbler, worse than usual, and some of his dialog and of others was run through an echo chamber. A ghostly figure who keeps reappearing had her voice distorted. Some closed captions would really have helped!<br /><br />A group of witches or satanists (the end credits say the group was not meant to represent any real group!) have a ritual in which they get naked and cause a miscarriage by stabbing a doll. The woman who had the miscarriage and her husband move to a town named \\\"Lilith,\\\" where he's been offered a job at a toy factory. Despite one of the AKAs of this movie apparently being \\\"The Toy Factory,\\\" we never see it, and it's only occasionally referred to at all.<br /><br />On the way to Lilith, her husband gets impatient with some of her questions about what his new boss Mr. Cato wanted to know about their religious persuasion. He drives aggressively, and causes another car to go off the road and blow up. After the police arrive, she takes a doll that fell out of the car, the second of many handmade dolls in the movie.<br /><br />It turns out Mr. Cato and all the townspeople are witches, and that they are the ones who caused her miscarriage, though she doesn't realize it. They want her because she has an innate talent for necromancy, of which she was not really aware.<br /><br />Some images in the movie have some impact, but on the whole the movie is not very involving. The movie does seem a bit of a mess, and this is no doubt largely due to its re- editing and the addition of new footage. The original version, according to the end credits, was called Necromancy - A Life for a Life. The magic of DVD could let us see both versions on one disc, but re-releasing this movie probably isn't a priority.\"\n",
      "* * * * * * * * * \n",
      "6366\n",
      "I have to admit that I'm a great fan of this show, so you must know how disappointed I got when I watched this movie. First of all, the plot was awful, I thought it was going to be something more interesting, like to see what happened to Arnold fathers, or something more interesting, but NOOOOOOO, a maniac wants to destroy Arnold's house, between many other places, so many people tries to stop this.<br /><br />I must admit that the plot wasn't so bad after all, but what really sucked were the steps that Arnold and his friends do to stop this maniac, they become friends of a spy,; they drive a bus (based on a video game, for God sake), and to worse everything, they make super-moves on the bus, things that many persons had already tried and died, but not Arnold, Gerald and Helga, 'cause they are experts on a video game.<br /><br />Honestly, my mom, my sister, even me got really disappointed after watching this movie, 'cause it was the worst way to finish a really good cartoon. I must admit that I used to enjoy \\Hey Arnold!\\\", it was one of my favorite cartoons on Nickelodeon, but after this crap of movie, I'm not quite sure if I'm going to watch \\\"Hey Arnold!\\\" as I used to watch it on the past.<br /><br />Other thing Nickelodeon, with that enormous number of dynamite I can assure you that not a simple street would explode, I think that the whole city could explode with that, oh, and please, if all of your future movies from good cartoons are going to be like that, don't do more movies, you give a bad critic to cartoons that used to be good.<br /><br />Honestly, I think this was the worst way to end this show, a good show transformed into this crap of movie.\"\n",
      "* * * * * * * * * \n",
      "6451\n",
      "\\Unhinged\\\" is one strange little film, a forgotten slasher from the golden age of the genre. It's hard to really write a satisfying review of this film simply because of the fact that the film is so unique. It's plot is fairly overdone--three young women on their way to a rock concert get in a car crash and end up stranded at the mansion of an eccentric old woman and her spinster daughter. Very quickly, the ladies realize something is not quite right when they hear strange breathing and noises from the attic. On top of that, the mother and daughter seem to have a very, very strange relationship, as they quarrel intensely in front of their houseguest at dinner. The old mother even goes as far as calling her daughter a whore and slut and accuses her of sneaking guys in at night to sleep with them. Halfway through the film, when one girl finally decides she better wander off to find help, the killing begins. <br /><br />As far as the acting goes, this film is at the bottom of the barrel. NONE of the three stranded girls can act, particularly the \\\"lead\\\" girl. It is almost unbelievable to hear them deliver their lines in the same, wooden tone throughout the film. The mother and daughter are better, but not much. The film is also quite dull in parts and really, really drags. The killings are gruesome, but nothing we haven't seen before. However, as mentioned on here, the film really gains points with it brilliantly disturbing and gory ending. It comes totally from left field and has the same shock value as the ending the the camp classic \\\"Sleepaway Camp.\\\" Unfortunately, the rest of the film is a bore and suffers from horrendous acting and boring, boring pacing. The isolated, creepy looking mansion and the dark, foreboding lighting does give the film a grainy realism, but that is quickly shattered when one of the characters attempts to act. It may be worth it if you can stick it out until the end, but I say you are better off just fast forwarding to the last 10 minutes. 4 out 10\"\n",
      "* * * * * * * * * \n",
      "6522\n",
      "(Some possible spoilers)<br /><br /> I'm not too sure what Dreamworks was thinking when they decided to plunk $80 million down on this extremely tired and lame animated flick. They probably thought the spectacular animation would be more than enough to bring audiences (mostly families) to see it in droves. Well it seemed to work for the opening weekend, it made $26 mil., roughly and has made $38.1 mil. total (an estimation for this weekend). But I think audiences that came during the weekend saw pretty much the same thing I did, when I saw and they spread the word. This is one majorly lame movie, apart from the animation everything else, mostly the script seem to be done by a three year old.<br /><br /> The movie is only about 80 mins. long, but it feels like a three hour epic. A few sticking points for me are, well the irritating narration is one of them, and it's so obviously written. At one point he escapes from some captors and even though you can see the horse is obviously scared, up pops the narrator (the voice of the talented Matt Damon) to clear up any misconceptions (which would only happen in the simplest of mindsets.<br /><br /> Another one is the constant pop up of Bryan Adams songs, now I'm a fan of his music, I think he's good, but come on did Dreamworks really think audiences would be able to handle 8-9 of his songs throughout such a short movie, I certainly couldn't. Finally and here's a spoiler, a horse gets shot at point blank range by a member of the calvary, no less, she (the horse) then falls into a raging river, Spirit (the focus of the movie) tries to save her, but they both go over a waterfall that must have at least a 50 foot drop, well later in the movie near the end we see that this horse is alive and well. Now I know this is a kids movie, but even that little amount of realism is unacceptable.<br /><br /> To sum up, this is a really lame movie, I'm not saying kids won't enjoy it, but anyone else will be checking their watches just waiting for this tripe to end. Definitely on my Top 10 worst list of this year. -** out of 4 stars.<br /><br />\n",
      "* * * * * * * * * \n",
      "6609\n",
      "I'm basing this on my observations of one episode I saw last night (9/27/06). I don't think I'll be watching again. The acting was totally wooden, the plot completely predictable, the ending totally unrealistic -- I mean who would believe a 30 million dollar judgment for the death of a recovering drug addict with terminal cancer? The lead actor (Victor Garber) seemed so uncomfortable, almost embarrassed in his role -- perhaps he realized how bad the writing was!! I fully realize that the drama offered this season is pretty poor, but they can surely find better writers. Maybe they are outsourcing the writing to India or China!! I'll bet we won't be seeing this one next season!\n",
      "* * * * * * * * * \n",
      "6858\n",
      "Slash flicks come few and far between now a days, so when I heard about Cut I had high hopes and heard good things about it. Those good things I heard were all wrong..very wrong! This flick is bad and I mean BAD. It's just plain stupid. Everything about it. Especially the killer's origin and how he stays alive and how he is taken care of in the end. There is nothing original or outstanding about this flick. Just another slasher wannabe with those \\Hip,\\\" \\\"Self aware.\\\" \\\"Movie savvy\\\" characters. I'm so sick of that crap. Someone do something different cause the slash genre needs new blood, literally.\"\n",
      "* * * * * * * * * \n",
      "7196\n",
      "<br /><br />I saw this on the Sci-Fi channel. It came on right after the first one. For some reason this movie kept me interested. I don't know why, stop asking.<br /><br />---SPOILERS--- Okay... It was cheesy how this guy got involved with the making of the movie. In the first movie, he had a \\reason\\\" to kill people, but in this sequal, half of the killings/attempted killings were basicly for no reason. Stanley killed the director due to creative differences, he captured the co-writer due to creative differences, but what was the deal with trying to kill off the cast? No cast, no movie. He wanted it to \\\"look real when they died\\\"? If this was supposed to be such a high budget movie, use the special effects, MAN. Of course like the first one, the captured girl gets away, and Stanley ends up getting messed up, and dissapears. Woooooow (sarcasm). This movie HAD potential. And the saddest thing of all... the really sad part... I would watch a \\\"Cabin by the Lake 3\\\". Only because I like Judd Nelson, and he's the only good part about this sequal.\"\n",
      "* * * * * * * * * \n",
      "7279\n",
      "This film is pure, distilled, unadulterated boredom. I knew nothing of it before I entered the dark room, took my seat. I was seduced by the \\mysterious and suspenseful\\\" blurb on the poster I suppose. Also, Lena Headey is nice and unconventionally sexy, and Richard Jenkins is always a reliable guy to have around, so the cast seemed reasonable. It may have been his name above the title that convinced me to go with this instead of whatever else was on. I should've gone to see Valkyrie for the second time instead.<br /><br />The thin plot revolves around Headley's Gina McVey, her boyfriend, her father, her sister and her sister's husband who for some reason are being stalked, in a very louche and unenthusiastic manner, by their evil doppelgangers who emerge from mirrors that mysteriously smash. There could be a great film behind this idea (not exactly an original idea, mind you, but still...) and in fact, if the filmmakers had shorn away all the supporting cast and simply stuck to Headey's character's story, The Broken could've made a reasonable 20-minute short. As it is, it is desperately unmotivated and boring, and terribly inconsistent.<br /><br />For instance, in one scene, a mirror smashes on its own in a room housing all the main characters; they look puzzled but quickly forget about it. In another scene, a mirror smashes in an empty room, and a doppelganger is visible as she \\\"steps out\\\" of the shards left hanging on the wall. So why did the first mirror smash if no creepy crawly was to come crawling out? Just for a little thrill? There are far too many scenes of the characters in the dimly-lit London flats, peering around corners cos they thought they heard something, but seeing nothing there and moving on. We begin to wonder, why doesn't this malevolent doppelgang actually ever want to try to scare them? Scare the characters and you have a chance of scaring the audience. But we, the audience, will need to start threatening each other, in the darkness of the theater, if we want to have any thrills during The Broken. By the way, once we've spent time with these evil doubles, we are totally bemused as to why anyone should be expected to be frightened of them - they just stand around, blank looks on their faces, perhaps totally harmless after killing their others.<br /><br />There are some nice moods and touches throughout, and I dare say director Sean Ellis could fashion a genuinely stylish and suspenseful mystery movie if he was to hire an imaginative screenwriter next time.\"\n",
      "* * * * * * * * * \n"
     ]
    },
    {
     "name": "stdout",
     "output_type": "stream",
     "text": [
      "7332\n",
      "The first time I watched Cold Case was after it had run for about a year on Danish television. At the time it came to the TV it nearly drowned in 4 or 5 other American crime shows aired roughly the same time.<br /><br />I saw it and I was bored to death. The substandard actors with the self righteous faces and morals were a pain in the behind. The entire premise that so much money was given a team of investigators to solve murders dating back 10-20-30 or even 60 years seems so unlikely.<br /><br />The time is also a factor as they only have 50-60 min to tell the story which means that they get a break through just in the nick of time to solve the case and bring justice to surviving family members, if they are still alive. This combined with the \\personal\\\" problems and relations of the investigators which there HAS to be time for leaves the show a complete lackluster.<br /><br />I give it a 2-star rating because of the music i the end which is really the only reason for watching it....which you then of course won't do as that is TOO lame a reason for watching this crap.\"\n",
      "* * * * * * * * * \n",
      "7400\n",
      "Let me give a quick summery of the film: A rotten, rude kid named Max stumbles upon a radio that contains Kazaam: a rapping genie. Like all genies, he grants 3 wishes but, being good natured, also helps Max with his personal life, as he has to deal with bullies and a father mixed up in organized crime. During all this, Kazaam raps from time to time, (also showcasing Shaq's dismal rap skills).<br /><br />This movie proves what we all know: Athletes need to stick to sports. I admit that it never looked like an Oscar-worthy movie, but EVERYTHING about this waste of film is horrible. The characters are either unlikable or stupid, the plot is not even worth mentioning, the dialog is a joke, and Shaq is only a quarter of the problem. Hell, even if Denzel Washington played Kazaam this movie would still be a joke. I know that the movie only drew ANYBODY was because Shaq was so big (no pun intended) at the time. I honestly cannot think of a single positive thing to say about this waste of time. Shaq should have put the time had used to make this movie toward practicing free throws.\n",
      "* * * * * * * * * \n",
      "7534\n",
      "\\Dracula II:Ascension\\\" is the story of a group of medical students who come across the body of Dracula.When a mysterious stranger appears and offers the students $30 million to harvest the body and steal its blood for auction,it's an offer they can hardly refuse.Soon the students also find themselves relentlessly pursued by a vampire killer from the Vatican!\\\"Dracula II:Ascension\\\" is a slightly entertaining horror film that has many flaws.The characters are one-dimensional and the acting is pretty average.There are some good gore effects like really cool double decapitation scene,but there is not enough violence for my liking.The film becomes quickly boring and forgettable and there is absolutely no suspense.So if you like modern vampire flicks give it a look.I prefer atmospheric vampire chillers from 60's and early 70's like \\\"Lips of Blood\\\",\\\"The Brides of Dracula\\\" or \\\"Lemora:A Child's Tale of Supernatural\\\" to name only a few.4 out of 10.\"\n",
      "* * * * * * * * * \n",
      "7602\n",
      "This film is just a shame. Orlando, Florida seems to becoming a more recognized filmmaking area (like Vancouver's rise to prominance). The Brothers was shot in Central Florida and this short film is a bit of a setback for the area (which made great strides with the Indie film Walking Across Africa and the great HBO miniseries From Earth To The Moon).<br /><br />I will try to be as honest as possible. I think Orlando was the perfect place to film The Brothers. It had the potential to give a new spin on the 'Boy Band' craze. After all, both N'Sync and the Backstreet Boys come from this area. But, The Brothers falls short probably because of a weak script. Both lead characters are flat with almost no development (part of this could be the amatuer actors, but some of it is certainly the way the script was written).<br /><br />Also a problem is the choice of jokes. Many of the jokes are too repetitive (they do come off funny the first time, but it does grow to be a bit boring). Some of the 'concert' scenes are staged poorly (and many of these scenes also don't seem to move the story along in any way).<br /><br />I had high hopes for this one, but alas its a disappointing effort. I also hope the best for the upcoming feature based on this short. But I think the best thing for filmmaker John Figg is to move to different genres (quickly). Comedy isn't his strong suit. But, its indisputable that he definitely is one of the more prominant filmmakers in the Orlando area (its just a shame that right now he's infamous, not famous).<br /><br />\n",
      "* * * * * * * * * \n",
      "7643\n",
      "This is the most boring worthless piece of crap I've ever wasted an hour of my life on. All I can say is thank God it was only an hour. Over half of this 'movie' is footage from the original \\Criminally Insane\\\". At the very least, I was able to see the highlights from that rare exploitation classic, since for some reality-defying reason my video store only has \\\"Criminally Insane II\\\" (as it had it, \\\"Crazy Fat Ethel II\\\"). But the rest of this movie is some of the absolute worst home-video acting and backyard filmmaking you'll ever see. Why is it my video store has this and not the original? Why does stuff like this actually end up in video stores? Why do people rent it and not immediately burn the copy once they've seen its sheer horror? Why - AAUUGGHH - Why, God, why?<br /><br />Unless you enjoy seeing annoying fruits eating an entire candy bar in an excruciatingly slow scene, or said fruit getting hung from the stair railing in an even slower scene, or a character getting stabbed sideways (don't ask) multiple times in the back, or brain cell-murdering monologues about giving poisoned tea to one's wife and then complaining that all the talk has made one's own tea go cold, or the mentally-retarded eating fly soup, or just simply want to see Crazy Fat Ethel dancing with a bloody knife in a garden: Don't watch this movie. Repeat: Do NOT watch this movie. Do not rent this movie. If at all possible, do not walk past a shelf in a video store that has a copy of this movie setting on it. You can still be saved, but it is too late for me now. . .\"\n",
      "* * * * * * * * * \n",
      "7773\n",
      "\\Kings and Queen\\\" is a bloated French drama that rambles on for an interminable two hours and thirty-two minutes to no discernible point or purpose.<br /><br />The film features two stories that seem unrelated at first but which eventually connect with one another about halfway through the movie. The first centers around Nora and her struggles with various men in her life, including an elderly father who discovers he has only a few days left to live. The other story involves a young man named Ismael, a violinist who finds himself placed - unfairly, he believes - in a mental institution through the machinations of an unknown third party. After traveling along on separate tracks for awhile, these two narrative strands eventually come together when we learn that Ismael is a former lover of Nora's and the man she has chosen to adopt her son from an earlier, tragic relationship.<br /><br />With a bit more focus and a considerable amount of streamlining, \\\"Kings and Queen\\\" might have been a potent, engrossing drama about modern day relationships. It certainly has moments of tremendous insight and emotional power, and the performances are, for the most part, complex and touching. But, taken as a whole, the film meanders and maunders to such an extent that, quite frankly, it begins to wreak havoc on our patience and to wear out its welcome early on. Even more distressing is the fact that, even though we spend what seems like a mild eternity in the company of these people, we really don't know quite what to make of any of them when the show is finally over. For instance, Nora's father, on his deathbed, writes a withering diatribe against his daughter's character that simply doesn't gibe with the woman we've been looking at for well over two hours. Nora is admittedly no Mother Theresa (then, again, who is?), but she certainly doesn't deserve the invective thrown at her by her very own father. Nora could be accused of being confused, indecisive, a bit self-absorbed at times, but evil enough to have her father wishing he could give her his cancer and make her die in his place? I don't think so.<br /><br />Perhaps this film is simply operating at a level of depth that I was unable to fathom. But my suspicion is that even writer Roger Bohbot and co-writer/director Arnaud Desplechin would have trouble fully explaining their purpose here. This is a well acted, pretentious bore of a film that takes the viewer on a long, rambling voyage through a sea of personal crises, a journey that leaves him no wiser or more enlightened at the end than he was at the beginning.\"\n",
      "* * * * * * * * * \n",
      "7810\n",
      "I read the back of the box and it talked about Mary Shelley and Percy Shelley and Lord Byron. I thought, \\wonderful! This will be great!\\\" I was so wrong. The story was all screwed up. In fact I still don't get it. It just seems to me that all the characters did was drink, smoke (opium?) and have sex. Not that those aren't good movie qualities, but please! Where was the story? I made myself finish the movie, and yes, it did pick up towards the end, but by then the movie was almost over. Rent it if you really want to. Just don't trust the back of the box.\"\n",
      "* * * * * * * * * \n",
      "8063\n",
      "The most embarrassing moment in this film is when Brady Corbet says 'You've blossomed', near the end the film. I practically died. I'm still not really sure why the screenwriters put that line in there. Was it supposed to create romance? Because it nearly made me sick. <br /><br />The rest of the script was almost as bad.<br /><br />I've never liked the original Thunderbirds, but a Thunderbirds movie had the potential to do so much. This movie doesn't. If it didn't have the big draw card of the Thunderbirds brand, it would have been shafted straight to TV, or canned in the post-production. Maybe even before. <br /><br />Like I said, the best thing about the movie is when the credits roll up and they play Busted's song 'Thunderbirds are go'. I can't believe I wasted $7 watching this through pay-per-view.\n",
      "* * * * * * * * * \n",
      "8099\n",
      "The Wicker Man. I am so angry that I cannot write a proper comment about this movie.<br /><br />The plot was ridiculous, thinly tied together, and altogether-just lame. Nicolas Cage...shame on you! I assumed that since you were in it, that it would be at least decent. It was not.<br /><br />I felt like huge parts of the movie had been left on the cutting room floor, and even if it's complete-the movie was just outlandish and silly.<br /><br />At the end you're left mouth agape, mind befuddled and good taste offended. I have never heard so many people leave a theater on opening day with so much hatred. People were complaining about it in small groups in the mall, four floors down from the theater near the entrance. It's that bad.<br /><br />I heard it compared to : Glitter, American Werewolf in Paris and Gigli. My boyfriend was so mad he wouldn't even talk about it.<br /><br />Grrrr!\n",
      "* * * * * * * * * \n",
      "8210\n",
      "CQ is incredibly slow, and I'm a David Mamet fan. The movie follows around a young filmmaker who is making a very Barbarella-esque film. After that the movie started to lose me. Deep and profound? Not really. The movie \\Dragonfly\\\" being made in CQ has the problem of having no ending. This greatly parallels CQ, which also lacks an ending (in my opinion).<br /><br />I was lucky enough to catch this movie at the SxSW film festival. I had fairly high expectations having just watched Y Tu Mama Tambien and several other great movies. I was also looking forward to Jason Schwartzman's performance. But it was not an easy film to get into. If you're not into 60's sci-fi or slow movies that go no where, skip it.<br /><br />CQ feels like a student film. If you want a recent sci-fi-esque indie film rent Donnie Darko, it won't put you to sleep.\"\n",
      "* * * * * * * * * \n",
      "8279\n",
      "I can't believe that people thought this stinking heap of trash was funny. Shifting the attempts at humor among cruelty, disgust and stupidity, 'There's Something About Mary' leaves little reason to stay until the end. Sure, Cameron Diaz is very pretty, but that is never going to be enough to save a movie. Ben Stiller tries hard to work within the plot, and is obviously very talented, but the movie is a loser.<br /><br />Not once were any of the scenes believable. The shots were badly timed and poorly framed. The Farreley brothers should be kept away from making films at all costs. I check IMDB to see what they are working on just so I know what to avoid.<br /><br />2/10; the bonus is from the one time I smiled. It's not like I'm immune to humor or alone in my opinion. My wife hated it, too. The next day we saw 'Rush Hour' and laughed ourselves silly. This movie just stunk.\n",
      "* * * * * * * * * \n",
      "8337\n",
      "Well, I don't think the picture is as bad as most of the reviews make it out to be. . . but there's no denying that it's got problems.<br /><br />Mostly, the problems are in the script. There's a plot - but not much story, and certainly not one that anybody could call plausible; it trots out any number of self-consciously strange and/or stereotypical characters, lines, moments, what-have-you and, by the end, it just hasn't added up to much in this department.<br /><br />Sorry, but I couldn't care less about whatever \\social ill\\\" Farnsworth might be trying to address; there will always be a sector of the population willing to do just about anything to shred their brains, even if it requires running around corn fields trying to steal ammonia, or whatever it is those morons do. So, as a film, you won't find me calling \\\"Iowa\\\" \\\"important.\\\" But, at a stylistic level, the picture is more than interesting and some of Farnsworth's choices in depicting a meth-head's wigged-out state are beautiful, hilarious, disturbing and - yes, I'm going to say it - inspired.<br /><br />The acting is uneven, but that just may be a casualty of the afore-praised stylistic reaching. Look, Rosanna Arquette is a fine actress - but she's not very good here, so a discriminating audience member does have to ask, \\\"What happened?\\\" It's weird that Diane Foster manages a simplicity and grace that so few of the other actors can come anywhere near. For example, I might seriously consider whatever explanation Farnsworth could provide for Michael T. Weiss's over-the-top turn as a probation officer, but I doubt I'd ever buy it; It Just Doesn't Work. <br /><br />Then again, it's the most alive and in the moment that I've seen John Savage appear in years. So go figure.<br /><br />This is the sort of work that tantalizes, but does not promise - and that's okay; neither Farnsworth nor anyone else is required to make movies. So, whether or not Farnsworth has another film in him remains to be seen, but if he does, it seems pretty likely that it won't be bland pap. In an age when people are planning their lives around the latest installment of \\\"American Idol,\\\" perhaps we could allow, not scorn, Farnsworth's legitimate and undeniably flawed film. <br /><br />What is more, perhaps we could welcome, not berate, his energetic and sometimes blessedly idiosyncratic imagination.\"\n",
      "* * * * * * * * * \n",
      "8353\n",
      "This should be a great film... Meryl Streep and Jack Nicholson co-starring as two newspaper writers. Mike Nichols directing. Uh uh. It's dull dull dull! Pointless and predictable! Slow and unfocused!<br /><br />It's a cookie cutter 'boy meets girl, boy marries girl, boy has affair, girl leaves boy' story. Now theres an original concept! After squirming through two hours (was it only two? It felt like six.)I wasn't sure whether it was a comedy, a romance, a tragedy or a soap opera. It was done in 1986. I'm sure all of us did things sixteen years ago that we rather would forget. I hope the damage to the reputations of Streep et al is beginning to heal and that the emulsion on the master is beginning to fade. It's not that it's such a bad picture. It's just that it's such an un-good one.\n",
      "* * * * * * * * * \n",
      "8481\n",
      "Don't waste your time or money on this one. The half decent cast might fool you into thinking that this teen-thriller, whilst hardly about to break any records, might lightly entertain for 80 minutes.<br /><br />It won't.<br /><br />It won't make you scared, laugh, cry or even challenge your intellect. It will leave you wondering how on earth this movie ever finished production. Yes, it really is that poor.\n",
      "* * * * * * * * * \n",
      "8557\n",
      "This film is a perfect example of the recent crop of horror films that simply are not fully realized. There are two routes to take in horror films: either you don't really explain what's going on (or who the killer is, like in Texas Chainsaw Massacre) or give the characters a lot of back story and characterization so that everything is explained (Halloween could potentially be an example of this).<br /><br />Unfortunately, Creep fails in this area. I see absolutely no reason to give a small shred of the back story for Craig without fully capturing the essence of his character or his motivation. No character is fully realized, although the circular nature of Kate's character in the film is the most accomplished part of the story.<br /><br />In the end, this story is mostly unmotivated and none of the performances give it the necessary life to make it enthralling or interesting enough to overcome the lack of context and empty film-making that drag down the film.<br /><br />This film will go down as another example of a film (as most are) that could be so much better even though it would never be great. The only thing that was used properly in the film was the setting: the characters, story, direction, and overall writing would have benefited from a serious face lift.<br /><br />Creep does serve a purpose as a mindless, silly horror movie with no intellectual or emotional investment, but sadly, that's about it...\n",
      "* * * * * * * * * \n",
      "8703\n",
      "I just watched The Convent for the second time. I had enjoyed it previously and figured it would make for a good drunken Friday night film, some gore, some style, bit of humour and suchlike. I was saddened to find that I could no longer appreciate it much. It seemed like someone had set out to revisit cheeseball epics like Night of the Demons for a modern audience but lost the things that made the original worthwhile. For the record I'm not even a huge fan of Night of the Demons, but there were some things I really dug about it. The Convent does the cheese but the not the goodness so much. Apart from the main girl (likeable performance from Joanna Canton), the goth girl and a sweet cameo from Adrienne Barbeau pretty much all the characters were excruciatingly unlikeable, festering at the absolute lowest levels of moronic, offensive jockhood. The film is then gravely hampered by the complete lack of gratuitous nudity which means that, given the awful dialogue, it is difficult to watch the characters and harder to appreciate the good points of the film. The evil nuns are original in design and get lots of good scenes, though not scary their certainly kinda cool, and the film also fields a fair amount of neat gore. Towards the end, when Adrienne Barbeau is on the scene the film becomes quite entertaining cause all the obnoxious people are dead and its an evil nun bashing frenzy. The stylised direction also occasionally yields good results, although sometimes the camera just moves too fast. All in all, this was a film where for me the shining good points just can't make up for the things I hated. Those more fond of this kind of film may well enjoy it a lot more, but for me it wasn't a good time.\n",
      "* * * * * * * * * \n",
      "8810\n",
      "The movie opens up with a long single shot of aisles in factory crammed with workers. My, what we've done to the planet you might think. I hope we get to see other things like this.<br /><br />That's very rare. When you're not looking at a horribly filmed angle of the narrator at a lecture hall, you're watching him set up his camera to take pictures in different locations. It'd be nice if chose areas that were more fitting with his topic but he doesn't. So, then you'll hear some more narration, watch a few pictures go by and watch him set up his camera. Why not use the filming camera to show more of the landscapes instead? It really kills any sense of pacing and paints the guy as more of vain jerk.<br /><br />I could read tips on how someone set up their camera, fast forward through this whole movie and waste a lot less time.\n",
      "* * * * * * * * * \n",
      "8830\n",
      "Sometimes a movie is so comprehensively awful it has a destructive effect on your morale. You begin to really ask yourself, what does it mean for our society that the standard is so terribly low? Can they honestly expect that we'll endure this many clichés and still be entertained?<br /><br />Of course, it is still a Hollywood mainstay to make the GUN the major character, plot device, and the source of all conflict and resolution in films. Character needs a gun. Gets a gun. Can't do that because he has a gun. Puts his gun down first. OH MY GOD What are we going to do!? He has a gun! He waves it around, acting more malicious than real human beings ever do. He pushes it in someone's face for 90 minutes, shouting questions. The hallmark of any conclusion will be the comforting sound of police sirens. <br /><br />It's a real challenge to make such a tired, hackneyed formula work again; a film has to be very clever and well executed. This one is neither. It has no life and no personality, and it will suck these components from YOU. it will make you feel WORSE about living in the time and space that you do. Really, who needs that!? So yes, I'll say it: I think this may well be the worst film I have ever seen. Anyone who was involved in the making of this sub- mediocre soul killing trash should be publicly embarrassed for the disservice they've done to us all.\n",
      "* * * * * * * * * \n",
      "8875\n",
      "A well-intentioned movie about Sonja Horowitz (Renée Zellweger), the wife of devout Talmudic scholar Mendel (Glenn Fitzgerald). who is deeply unhappy. Mendel's brother Sender (Christopher Eccleston) sees this and hires her to work in the field in which she's already an expertjewelry. He also starts an affair with her, and then when she spends time with a Puerto Rican artist, he dumps her and betrays her to the family, which shuts her out. There's a subplot in which Sonja's dead brother talks to her, and apparently takes the form of a magical beggar woman, but why is not clear. Much is not clear, unfortunately, including what is going on with Sonja, why she tells the Rebbe there's a fire inside her and maybe it's not from god, and what this means, and what the magical beggar woman tells her means. To an extent the story touches on the plight of women in the ultra-orthodox community, and yet Sonja is not exactly liberated. Nor is the notion of being redeemed by the love of a man of another race very well-thought-out. The title comes from the biblical definition of the worth of a good womanand yet it's the bastard Sender who quotes it to Sonja. Zellweger struggles with the part; she's supposed to be a Jew from the mid-west and sometimes her accent is flat, and at other times it's taken on the characteristic sounds of Brooklyn. She's at her best when she's being tough and taking charge, but ultimately the movie's a mess.\n",
      "* * * * * * * * * \n",
      "8922\n",
      "I see where a few people involved in this debacle wrote reviews to share their side of the story, and I thought what they wrote was helpful in understanding it. The fact that they basically came up with excuses -- rewrites, budget constraints, production formats etc -- simply underlines how bad this movie is. And my criticisms in panning it are not personally directed but simply a warning that this one doesn't make the cut.<br /><br />It's watchable, but barely so. There are plot holes in every corner, the dialogue borders on the ridiculous, and the ending is telegraphed a mile away. The modestly interesting feature of a hologram interacting with a recon team get drowned in silly dialogue like who makes a meal in the midst of what is supposed to be a tense and deadly encounter with an unknown enemy. Would ya wrassle us up some Hamburger Helper Sally, between us getting killed by these automated carpet sweepers? Apparently this elite team equipped with the latest gizmos and red plastic tubed wonder armor has no access to MREs. Once they get into the last rooms they treat the place more like a four star motel than a deadly encounter zone.<br /><br />The rationale for the encounter with the fearsome Rook is that it can't be killed single handedly. Yet only one scene ago, the hero making that case abandoned King to do exactly that. Huh? Vivian Woo was attractive and hands down the best acted character in the movie. But that's not saying much.\n",
      "* * * * * * * * * \n",
      "8982\n",
      "Supposedly a \\social commentary\\\" on racism and prison conditions in the rural South of the 1970's, \\\"Nightmare\\\" is full of bad Southern stereotypes, complete with phoney accents. Not only would it be offensive to the sensibilities of most American Southerners, this tawdry piece of work comes off as just a thinly-disguised \\\"babe in prison\\\" movie--especially in its uncut original version. Nevertheless, acting is generally above average and the late Chuck Connors, in particular, does a good job of making viewers hate him--even though he looks somewhat uncomfortable in several scenes. There's also a change-of-pace role for the late Robert Reed, who appears as the lecherous warden, and Tina Louise (previously Ginger of \\\"Gilligan's Island\\\") made a rather believable sadistic prison guard. My grade: D. <br /><br />\"\n",
      "* * * * * * * * * \n",
      "9066\n",
      "I would love to have that two hours of my life back. It seemed to be several clips from Steve's Animal Planet series that was spliced into a loosely constructed script. Don't Go, If you must see it, wait for the video ...\n",
      "* * * * * * * * * \n",
      "9393\n",
      "This movie proves that good acting comes from good direction and this does not happen in Ask the Dust. Colin Farrell is usually a fine actor but in this he is juvenile. Donald Sutherland comes across as an amateur. Why? Because the script is awful, the adaptation is awful and the actors seem bored and half hearted. The atmosphere of the movie is bad - I could only think when it would finish and I turned it off half way. The director has done a very poor job and even though I have not read the novel it is certainly a missed chance. The atmosphere this film is trying to evoke and the message and storyline never reaches the audience. In one word, it is a TERRIBLE film.\n",
      "* * * * * * * * * \n",
      "9781\n",
      "Sometimes you need to see a bad movie just to appreciate the good ones. Well, that's my opinion anyway. This one will always be in the bad movie category, simply because all but Shu Qi's performance was terrible.<br /><br />Martial Angel tells of Cat (Shu Qi), a professional thief turned straight after leaving her lover, Chi Lam (Julian Cheung), two years before. But her past returns to haunt her as Chi Lam is kidnapped for the ransom of security software belonging to the company Cat works for. In order to rescue him, she calls on her old friends from her orphanage days, six other feisty women, to save the day...<br /><br />I may have told the synopsis cheesily, but this is a cheesy story. In fact, the whole script and direction lacked any quality at all. Much of the dialogue was meaningless and coupled with a plot that was as thin as rice-paper in water. If I could sum it up, take a bad Jackie Chan movie, remove the comedy, remove the choreography, throw away the budget, and you have Martial Angels: a formulaic piece of work with no imagination at all.<br /><br />Mind you, I do have to give credit where credit's due, and Shu Qi was probably the only person to emerge unscathed from the terrible action, as it was her performance that shone through. Okay, you can't say she was excellent - after all she had absolutely nothing to work with - but she did manage to dig some character out from her role. Other than that, only Sandra Ng and Kelly Lin made any other impression - although these were mostly glimmers and very brief.<br /><br />Elsewhere, the film just fell to pieces. Scenes and dialogue were completely unnatural and unbelievable, special effects were obviously done on the cheap with no attempt to clean up edges between persons and the mask of the blue screen, poor editing involving numerous discontinuities in fight scenes, camera angles that were elementary and unflattering, and direction I've seen better from a lost dog.<br /><br />I guess this film was a too many cooks affair. Most probably, the budget was blown away on the over-enthusiasm to have seven babes on the same silver screen. That didn't leave much else.<br /><br />Frankly, the way this film was made was like a cheap porn movie without the porn. Charlie's Angels, it ain't. In fact, while sisters can do it for themselves, none of that was really that apparent here.<br /><br />Definitely one to forget.\n",
      "* * * * * * * * * \n",
      "9944\n",
      "And I thought The Beach was bad, with the difference that this movie has one of the greatest actors of our time, Nicolas Cage. Don't blame him for the awful script, if any one can make any sense of what the hell was the point of that movie, give your self a pat on the back. Its a cross between The Village and a crappier script. Its starts off kinda catching your eye, and then as it goes further into the plot, it just makes no sense, and don't get me started about the ending!!!! What was that? The only thing that makes this movie exist is Nicolas Cage usual great humor, and his ability to be funny in the weirdest situations. If you go to a blockbuster and this is the only movie to watch, save yourself five bucks and just go back home and turn put some thing on fire and when some ones asks you why, just say the stupidest thing that comes into your mind, and there you go!\n",
      "* * * * * * * * * \n",
      "10050\n",
      "This movie purports to be a character study of perversion. Some reviewers have been gulled into assuming that because perversion is depicted, the film is psychologically deep; actually, considering the salacious material, it is surprisingly tedious and shallow, with no motivational substance. Why is the main character the way she is? You won't find out from the script. For a better treatment of the same theme (and a more entertaining movie), try Bunuel's Belle de Jour.\n",
      "* * * * * * * * * \n",
      "10125\n",
      "What's up with Robert \\Pretentious\\\" Altman? Was he saving on lighting? Everything was so dark in this boring movie that it was laughable. I mean, have you ever seen a lawyer's office where everyone works by candlelight?<br /><br />Don't waste your time. In fact, don't waste your time with anything Altman makes: It's all a pretentious waste of film.\"\n",
      "* * * * * * * * * \n",
      "10154\n",
      "I saw the movie last night and I really wanted to like it. My expectations for the movie had been going up and down ever since I heard it was being made. Some days I'd see something spectacular and some days I'd be disappointed.<br /><br />Yet being the kind of fan I am, I had high hopes for this movie but in the end I was sorely disappointed.<br /><br />While I love the Richard Donner movies I didn't like their sometimes campy nature or the changes they made to Superman's character and his powers.<br /><br />Singer however chose to take the worst elements of the Donner movies and put them in his version.<br /><br />While his Lex Luthor is slightly darker he's still nothing more than a shyster, a conman and a common criminal. He's no more intelligent than when Gene Hackman played him. Kevin Spacey does his best to play Luthor well but ultimately he falls victim to shoddy writing and unremarkable dialog.<br /><br />His henchmen are more two dimensional than even comic book henchmen. Most of them literally have no dialog in the movie.<br /><br />****SPOILERS AHEAD**** Kitty Kowalski is almost exactly the same character as Ms. Tesmacher. She seems to be as evil and cold as Lex Luthor but she proves to be just an underling who melts after seeing Superman in trouble and quite predictably betrays Luthor.<br /><br />The biggest disappointment in the movie was Frank Langella as Perry White. I wasn't a huge fan of the over the top Perry White in the Donner movies but at least he had a soul. He was after all said and done, a veteran reporter who cared about the truth and a good story. Langella's Perry White is nothing but a corporate stooge. He wants everyone to concentrate on the Superman related stories because they sell papers even though every other paper is doing the same thing. He doesn't care about the real stories, the real mysteries like the black out and what Lex Luthor is up to now that he's out of prison.<br /><br />The worst thing about Langella is that he's DULL! Some actors can be quiet and sober and yet have an undercurrent that lets you know that still waters run deep. Frank Langella is puddle.<br /><br />Brandon Routh is not a bad actor. He's OK but again there is not a single memorable line in the whole movie. Not the actor's fault. His movements are clearly meant to look graceful, like even the slightest movement of his fingers effects the way he flies. But it still looks choreographed and artificial.<br /><br />Lois Lane while badly written was surprisingly well acted by Kate Bosworth. Unfortunately, again, for a Pulitzer Prize winning journalist and writer, she is about as eloquent as any teenage on Dawson's Creek.<br /><br />James Marsden was my favorite actor in the whole movie, mostly because he looks more like Superman than even Routh. Without any superpowers he manages to figure out Lois Lane's message, flies a plane to the location, gets on board Luthor's yacht and rescues Lois and her son.<br /><br />The only moving moment in the movie is when they are all trapped pantry as it is flooding with water and the ship is sinking. You see them slowly going being immersed in the water. You know Superman's going to come by at the last moment to rescue them but still you can't help but feel sorry for them.<br /><br />As I said before the plot is very haphazard. Unlike Singer has said, this is not a movie about a superhero returning and trying to find his place in the world. As soon as he returns the world welcomes him back with open arms. Lois is the only one who's not happy to see him back. Even Luthor is happy to have Superman back because it gives him a chance to settle the score with the man of steel.<br /><br />Superman is shown to be probably one of the dumbest heroes in the universe. A big green piece of meteorite is stolen from a museum, Lex Luthor is out of prison, he now has knowledge about Superman's powers and weaknesses, and yet he's still not able to connect the dots enough to know Luthor would be using kryptonite against him.<br /><br />According to the movie the only thing Superman is good for is lifting really, really heavy things. The action sequences are all incredibly predictable.\n",
      "* * * * * * * * * \n",
      "10156\n",
      "I am a fan of the previous Best of the Best films. But this one was awful. No wonder I had such a hard time finding it. I tried 4 video rental stores, until I found one with a copy of this movie. The acting was terrible, the plot was a joke, and the action was bad as well.<br /><br />I really miss Alex Grady, Travis Brigley, and the original kickboxing characters and theme that this film had with the first 2 movies.<br /><br />John\n",
      "* * * * * * * * * \n",
      "10254\n",
      "A stuttering plot, uninteresting characters and sub-par (to say the least) dialogue plagues this TV production that could hardly have been interesting even with a billion dollar production budget.<br /><br />The characters aren't believable, in their motives, actions or their professed occupations. The plot reads like a bad Dungeons and Dragons(TM) hack but with plasma rifles and force fields. There are severe continuity issues and the degree of pointless interaction between the characters has this author, at least, wincing. <br /><br />Avoid it like the plague. Watch any episode of Dark Angel and you will have better acting, dialogue and plot. Yuck.\n",
      "* * * * * * * * * \n",
      "10407\n",
      "I occasionally see some of this show because my wife watches it sometimes. I try to enjoy it for it's basic idea which is helping a needy family, but several factors get in the way for me. Every episode follows the same format where many parts seem totally scripted (which they are) and tears flow seemingly on cue. The attempt to manipulate the viewer with a mixture of emotional breakdowns and sad music is a real turn off for me. The fact that everyone who donates something to the house, be it Sears or whoever, has to plug themselves for being generous is also annoying. Probably the biggest problem I have with it all is that what must be huge amounts of money and a small army of workers are combined to build an amazingly over the top home for a single family. Now I know that this amount of money is nothing but a drop in the bucket for Disney/ABC but how much more could be done for more people with the amount they are putting on one house? Instead of focusing on one family and getting them all to cry during the episode why not help 10 families and show highlights? Isn't life difficult enough for the average person? Why do I need help finding things to feel sad about, why not show something truly inspiring without being manipulative? I know what is being done for these families is good, but they are also being used for ratings. You can't tell me they aren't being coached sometimes on the crying. I guess when I see these people moving into a home that most hard working people in the U.S. could not afford for their children it really bothers me. I can't help but think of what could really be done with a small portion of Disney's money. Instead of giving each member of the family a flat screen TV and or personal shower that tells you the water temperature and shoots out of the ceiling why not help more people afford food, clothes, education and medical insurance? I know so we can be entertained and have a good cry. In terms of money, I feel the same about Oprah. I don't think anyone can actually conceive the amount of money she possesses. Yes her recent reality show did good things, but when she gave $30,000 to each losing \\contestant\\\" I'm sitting here thinking...that's a years salary for many, many people...if they're lucky. Don't get me started on game shows. So I realize that Extreme Makeover Home Edition is \\\"doing good\\\", but forgive me if I see it as more self serving than giving of itself. Is there anyone out there that feels similar?\"\n",
      "* * * * * * * * * \n",
      "10450\n",
      "This is by far the worst movie I've ever seen. From the plot, though the shots, the \\special effects\\\", the acting, and did I mentioned the plot? Every single thing in it sucked ass!<br /><br />This is a good example of what \\\"over-doing\\\" means and I'll try to explain:<br /><br />I understand what the creator of this movie was trying to do; this was supposed to be one of those movies you can't really tell what the hell is going on up until the end. You sit mesmerized, not knowing who's dead and who's alive and who killed who and why and just when you think you got the timeline right you find out you're wrong and the movie ends - leaving you with an opened mouth for the next 5 minutes! Something like \\\"Unbreakable\\\" or \\\"The Job\\\" if you know what I mean.<br /><br />But Olga Levens, the writer of this junk, yes, Olga  The writer, Director, Producer, Screenplay author, Caster, Production designer, Art Director, Costume Designer and also a double for one of the characters is some scenes... this is basically a one woman movie and when it comes to Olga Levens from \\\"Levens Productions\\\" you can't go wrong :-)<br /><br />Well this might come as a shocker but \\\"this time\\\" Olga over did this big time, jumping from scene to scene, from dreams to reality... but wait! this was all a dream after all... or was it??? The picture fades and I realized none of this ever happened, the girl was all alone on the ship... actually there was no ship... no wait! There's the ship again, and the guys! They're alive! Thank god! No they're calling her to join the cruise... but then the ship disappears so maybe they're dead after all??? or maybe they never were alive to begin with???<br /><br />If you understood what I just said you might like this movie - otherwise it's a boring piece of work and the only reason I set through this entire crap is to find out how the hell can they finish this movie...<br /><br />Don't watch this if you value time, ever 90 minutes are a waste in this case...\"\n",
      "* * * * * * * * * \n",
      "10503\n",
      "I suppose it was for Temple Matthews who written basically a remake even though there are few changes which just make it worse. SPOILERS: It is much similar to the original. Melody, Ariel's new daughter is threatened by Ursula's sister, Morgana. Morgana escapes, but keeps her promise to take Melody away from them. Did Ursula have a sister?! And she is not that great a villain as Ursula was. This is where there is similarity. Medoly is kept from the sea until Morgana is captured, but she doesn't know a thing about it, because it all happened when she was a baby. A wall surrounds the palace to keep her in and morgana out. She goes under the wall day to day to have a swim and talk with Sebastian, who is not as funny or fun as in the original. She finds a seashell with her name on it and runs away from home and to look for answers and finds Morgana. Here is a similarity; Morgana tricks Melody, making her happy by turning here into a mermaid. Meanwhile, Eric, Melody and King Triton look for her. To stay a mermaid she needs to steal the trident from Triton. So Melody does, because she does not know King Triton is her father. She makes friends with a penguin and a walrus and here is where it is awful. The penguins who live with them in an icy ocean, hate them because they are cowards. So they try to prove they are heroes and fail. That does not suit the little mermaid. And the dialogue during those conversations between the penguins and those two characters is ear-bleeding. you know why? Because the first had a great story. This one is not and is not magical. It is just an example of how bad many sequels are.<br /><br />Melody finds them and they help to take her to Atlantica to prove themselves. When they take the trident, Ariel finds Melody with Morgana. Melody is angry at her mother for keeping her from the sea so she gives the trident to Morgana, then she shows her true colours once she grabs it. Poor Ariel and Melody are in her custody. The penguin and the walrus begin to prove themselves when they fight Morgana's shark friend. Sorry I did not mention him earlier. They finally prove themselves. Eric, King Triton and his soldiers arrive but are forced to bow down before Morgana by the power of the trident. Melody takes it, throws it to Triton and he ices Morgana (literally). Then Ariel apologises to Melody and thinks it is all her fault. It was not! Ariel did the right thing to protect Melody, but they never say so. Triton offers Melody to live in sea or land. She in fact has a \\better idea\\\". She uses the trident to vaporize the wall so humans and mer-folk can be together. Then everyone sings an awful song. THE END.<br /><br />Whoever has seen it and likes this obviously has not seen the original. I do not dislike this because I am a teenager. I liked it when I was very very little. Then as I grew older I began to see what is bad about this film. young, young kids will enjoy it, but it is likely that when they are in primary school, they will forget about it. Normally I would think I over-judged a film and it was better than I remember when I watched it again, but not this one. It is even worse. Story is no exception. If you thought, by reading this that the story is good, read more of this comment and you will know the other bad points: Well, you know the story now. I am sorry for spoiling it for you, but I had to point out some bad parts of it. One of the worst things is the animation. Colour is awful. The original had beautiful colour. Watching this almost made me want to go blind. Even the illustrations and landscape design were not good. The original had beautiful, magical colouring and beautiful underwater landscape design and for land as well, making it a joy to watch.<br /><br />The music is unbearable. Compared to the first, the music here is crap. Songs are not that well composed and Tara Strong (I think that is her name) who did Melody can not sing. She at times either sang too high or did not keep track for the melody in the song. So much for having \\\"Melody\\\" as a name.And the music is not at all beautiful or moving. Little Mermaid 1 won an Oscar for it and it truly deserved it. This one deserved a razzie award for worst musical score in a sequel if it would exist.<br /><br />I did not like the voices. Several people who played characters from the first, did the same ones in this. Jodi Benson is a great singer, but now that she is older, no offence to her, her voice is too deep and not so beautiful anymore. And I am really disappointed in her and others who were in the first for being a part of this. If I was chosen for this film, just by reading the script, I can tell it would be a bad film. The characters are different now. Ariel is more wiser now, but annoying. They overdid her character, making her too mature. In sequels you are not meant to change the characters unless it is for a special reason. She was sixteen in the first. There is little chance she changes. That is the stage when you become the person you are going to be for the rest of your life. Screenwriters should think of that. They should think of the character.<br /><br />Well, I suppose that is it for me. I hope you find my comment useful, because I am sure a lot of you will agree with my point of view.\"\n",
      "* * * * * * * * * \n",
      "10533\n",
      "*May contain spoilers*<br /><br />I bent over backwards to be fair to this film. I knew it starred Madonna. I knew it lasted a whole week in theaters. I knew it got a lot of bad reviews. I wasn't expecting a deep and thoughtful examination of class, culture and sexuality like we got in the Italian original. The benefit of the doubt lasted a whole ten minutes.<br /><br />Madonna plays a rich, pretentious, nit-witted Gorgon who goes on vacation with her henpecked husband and flippant friends (the brunette woman is as bad as Madonna, exhibiting some really dumb facial expressions). Adriano Giannini plays the ship's first-mate who the Madonna character delights in humiliating and treating like dirt in every scene they have together. Why is she such a bitch to him? Simply because the plot requires it so that later when the two of them get marooned on a deserted Mediterranean island the tables will be turned and he will teach her a lesson. Just as inexplicable is how they fall in love despite having nothing in common and having abused each other for two-thirds of the movie.<br /><br />\\Swept Away\\\" is a silly, simplistic, superficial movie from beginning to end. Madonna gives a typically wooden performance. There are many dumb scenes: Madonna singing and dancing atrociously at the demand of Giannini, a fantasy scene with Madonna and a lot of scenes where he slaps her and kicks her in the butt. Guy Ritchie does his \\\"stylish\\\" editing which is laughable here. The film contains some of the worst dialog I've heard in a major movie in several years. The ending is sappy and implausible. It's basically \\\"The Blue Lagoon\\\" meets \\\"Overboard\\\" minus the nudity of the former and the sense of humor of the latter.<br /><br />Maybe Madonna's ego is so big that she insists on continuing to prove herself as a competent actress. Please give it up, Madge, for our sake as well as yours. This isn't her worst movie though. That distinction still belongs to \\\"Shanghai Surprise\\\". She hasn't made anything worse than that...yet.\"\n",
      "* * * * * * * * * \n",
      "10538\n",
      "This film is beautiful to look at, but is like watching really bad experimental theater. The plot (if there was one) doesn't make any sense. But it is very \\artistic\\\". Lots of shots of half-dressed actors wrestling and looking deep into each other's eyes. Lots of arty shots through windows and with people out of frame. Mumbling and people wandering wistfully. Lingering close-ups of faces and bodies. By the time you get to the threesome on the roof with the cat, you'll be ready to throw a bottle of KY at the screen.<br /><br />It is supposed to be about a father and son's relationship, but you will just be wishing the two of them would just f*$& each other and get it over with. If you have always wanted to see bad Russian gay porn without any money shots, your wish has been granted.\"\n",
      "* * * * * * * * * \n",
      "10580\n",
      "This was the worst movie I've ever seen in theaters. It was just a compilation of recycled material. People getting hit in the head is not funny. People getting kicked is not funny. After the third time a guy got kicked in the balls not even the youngest audience member was laughing anymore. It just got tired fast.<br /><br />I went with my younger sister. She actually laughs out loud at King of the Hill but this cinematic masterpiece bored her. I'm not surprised. The story is pretty lame. A midget thief steals a big diamond in what was definitely the easiest heist in Hollywood history. Then he hides out with a family pretending to be a baby. I know it sounds exciting but that's the whole story. Say those two lines over and over for 1.5 hours and you'll get the picture There were predictable jokes galore. I really felt ripped off after seeing this. I wasn't expecting much and I was still disappointed. I wish Keenan would just hire some decent writers to write jokes and/or his next script. This was even worse than White Chicks if that is possible. I've seen high school plays that were better, and cheaper.<br /><br />There wasn't anything positive about this movie. I don't like my entertainment to be dumbed down.\n",
      "* * * * * * * * * \n",
      "10665\n",
      "Definitely one of funny man Eddie Murphy's lesser films is this nonsense about a kidnapped mystical child, three hundred year old dragons and a \\Chosen One\\\".<br /><br />Murphy is the \\\"Chosen One\\\" in question, and as the opening song suggests, he is \\\"the best man in the world\\\". A finder of lost and missing children, he is approached by a mysterious Tibetan woman (Charlotte Lewis) who tells him he is \\\"The Chosen One\\\", and that it is his destiny to find and rescue \\\"The Golden Child\\\". For if the child were to die, compassion would die with him, as he is the bearer of compassion.<br /><br />If all this hocus pocus rubbish hasn't ruined it for you now, it surely will once the movie begins. Suffice to say the plot is abominable and destroys the whole film. Meant to be another vehicle for Murphy's egotistical brand of humour (the comedy isn't so great mind you), the movie fails on many levels. Even Charles Dance as the evil Sardo Numspa can't do much for proceedings. Very silly and disappointing.<br /><br />Sunday, December 12, 1993 - T.V.\"\n",
      "* * * * * * * * * \n",
      "10800\n",
      "I saw this film yesterday. I must admit, it weren't my cup of tea. Although it's supposed to be a horror movie of its kind. But as I was watching this, I was thinking.. 'This movie isn't making any sense at all..' Where on earth did this guy in the dark coat came from? Where were the two guys were going when they left the girls behind? Where on earth did a shark came out from?<br /><br />All these elements in this film somehow didn't add up. I felt as if these filmmakers wasted so much time and money on a film that was so bound to be so crap.<br /><br />I've seen many good horror movies in my time, but this is one of the most worst horror flicks I've seen. At the end of the movie, I said to myself that I wouldn't watch it again.. So much pappy show in this film, I've decided to give it the thumbs down! Count me out on this one! 0 out of 10!\n",
      "* * * * * * * * * \n",
      "10812\n",
      "in this movie, joe pesci slams dunks a basketball. joe pesci...<br /><br />and being consistent, the rest of the script is equally not believable.<br /><br />pesci is a funny guy, which saves this film from sinking int the absolute back of the cellar, but the other roles were pretty bad. the father was a greedy businessman who valued money more than people, which wasn't even well-played. instead of the man being an archetypal villain, he seemed more like an amoral android programmed to make money at all costs. then there's the token piece that is assigned to pesci as a girlfriend or something...i don't even remember...she was that forgettable.<br /><br />anyone who rates this movie above a 5 or 6 is a paid member of some sort of film studio trying to up the reputation of this sunken film, or at least one of those millions of media minions who can't critique efficiently (you know, the people who feel bad if they give anything a mark below 6).<br /><br />stay away...far away. and shame on comedy central, where i saw this film. they usually pick better.\n",
      "* * * * * * * * * \n",
      "10901\n",
      "There is absolutely nothing in this movie that shows even the tiniest scrap of talent. Nobody in it has ever tried acting before, even the extras in the coffee shop look as if they've been glued in place. Nothing looks rehearsed.The film quality is terrible. Most of the 'action' takes place in narrow corridors or apartments with the cameraman crammed in as an afterthought, swinging some cheapo camera backwards and forwards between 'actors' as they deliver their lines. No tripod and no proper microphone either, there sound quality is terrible. Even 'Manos' fares better than this, at least they had proper equipment. What plot there is simply gets lost in the production mess.<br /><br />Stick to home videos, preferably made by some 5 year kid trying out the video feature on daddy's new camera phone. You will be in for a long search to find a movie more inept than this.\n",
      "* * * * * * * * * \n",
      "10940\n",
      "This is so bad, so very very bad. The acting is the biggest joke in history. Don't even bother to see it, i did ff it after 20 min and it was just as disappointing in the end as in the beginning... I really don't understand peoples taste, I'm a horror movie fan and I'm not fastidious but I DO HAVE A LIMIT! Maybe it was a quarter of a star better then the beginning of The Hoast but that's it. So I recommend you don't waste the 15 minutes you'll be able to watch. I mean the acting is better done by monkeys. And the big brother with the parental role is just awful. Don't they pay characters in C-movies? No I must say it's not the first time I think a horror movie is bad but it's absolutely one in my down ten movies and it will be charing places with Portrait of a vampire, Cabin by the lake, The Hoast!\n",
      "* * * * * * * * * \n",
      "11119\n",
      "You will recognize the plot immediately. Daughters of a divorced couple trying to get Mom and Dad back together again. Yes, that was the theme of The Parent Trap in the 60s, 80s and 90s. But here's the spooky thing. Even though Deanna Durbin was younger than the 21 year old Hayley Mills while playing the doting daughter(s) roles, Durbin looks much older, as in adult. And so do all of her so-called siblings. <br /><br />And this confusion between adult and child goes throughout the film. The girls are dressed in cute little sailor outfits but look ridiculous in them as the director seems to take pains to point out their ample tops and tushies throughout the film. So you're constantly torn between thinking of them as children or women. When Ray Milland and others start \\hitting on\\\" them you get the feeling as if they're pedophiles, and you might be one, too for noticing those tushies and tops the director was pointing out. Teens or temptresses, little girls or little foxes, you are never quite sure what you're supposed to be thinking of them as.<br /><br />The parents, too, seem very old and the whole film seems very dated.<br /><br />It is a rusty version of the Parent Trap and you should avoid it, or at least ensure your tetanus shots are up to date if you don't believe me.\"\n",
      "* * * * * * * * * \n",
      "11245\n",
      "Odd slasher movie from Producer Charles Band. In the days of Full Moon's greatest success Band said that he would never make \\real killer films\\\" because he felt that little puppets and big monsters added a fantasy element that made the films better - people killing each other is thus real and less fun. A nice philosophy and a true shame that Band, having destroyed the Full Moon studio through possible shoddy business dealings became so desperate for home cinema profits that he started making exactly what the likes of Blockbuster wanted and therefore sacrificed creativity and originality. The team behind this one also worked on 'Delta Delta Die!' and 'Birth Rite' - both equally bland by Full Moon standards. Debbie Rochon is on usual top form here as a newbie to a gang of dudes and dudettes who decide to make up a story about a 'murder club'. She - as one would obviously - does all she can to join and then panic sets in because it was not a true story and silly Ms Rochon believed it and now everybody will have to run around getting covered in blood and maybe killing each other or maybe not. The choice is there's and with regard to this movie its yours...not recommended but not entirely bad either.\"\n",
      "* * * * * * * * * \n"
     ]
    },
    {
     "name": "stdout",
     "output_type": "stream",
     "text": [
      "11485\n",
      "I was really looking forward to this movie based on the previews and press it received, but after viewing it I was terribly disappointed. Slums is a totally unfunny film mixed with a Todd Solondz type of disturbing family reality sans Todd's brand of humor. The story drags along and each scene is worse than the last. Maybe I missed the point, but if this film is an example of every girl's growing up experience I am glad to be a man.\n",
      "* * * * * * * * * \n",
      "11539\n",
      "\\People I Know\\\" is a clunker with no one to root for and no one to care about -- despite the game efforts of a talented cast.<br /><br />Pacino delivers his usual tour de force as Eli Wurman, a past-his-prime publicity agent hollowed out by a lifetime of moral corruption. But unlike Michael Corleone, it's impossible to have an emotional investment in this character, his dilemma, or his fate.<br /><br />The film traces Eli's preparations for a benefit for a liberal political cause, while distracted by a client's (Ryan O'Neal, good in an underwritten part) latest \\\"dirty laundry\\\" -- in this case, a TV actress companion who's gotten involved with the wrong people. Tea Leoni brings her customary star power to this supporting role, although again, the script doesn't give her much to work with. As Eli's sister-in-law, Kim Basinger manages to evoke sympathy despite implausible plot mechanics.<br /><br />This movie is strictly for those who like watching Pacino strut his stuff, and enjoy the other principals. Unfortunately, between the script and direction, \\\"People I Know\\\" is strictly amateurish. Hence its limited theatrical release, and speedy journey to DVD. Consider yourself warned.\"\n",
      "* * * * * * * * * \n",
      "11547\n",
      "Christopher Lee is one of my favorite actors! I'm trying to view all of his work. He has been known to single-handedly save movies with his presence. Unfortunately, this is not one of them. This movie suffers from a low budget and it's production values are disturbing. Please...for the love of Christopher....avoid this film!\n",
      "* * * * * * * * * \n",
      "11628\n",
      "I had never heard of Larry Fessenden before but judging by this effort into writing and directing, he should keep his day job as a journeyman actor. Like many others on here, I don't know how to categorize this film, it wasn't scary or spooky so can't be called a horror, the plot was so wafer thin it can't be a drama, there was no suspense so it can't be a thriller, its just a bad film that you should only see if you were a fan of the Blair witch project. People who liked this film used words, like \\ambiguity\\\" and complex and subtle but they were reading into something that wasn't there. Like the Blair witch, people got scared because people assumed they should be scared and bought into some guff that it was terrifying. This movie actually started off well with the family \\\"meeting\\\" the locals after hitting a deer. It looked like being a modern day deliverance but then for the next 45 minutes, (well over half the film), nothing happened, the family potted about their holiday home which was all very nice and dandy but not the slightest bit entertaining. It was obvious the locals would be involved in some way at some stage but Essendon clearly has no idea how to build suspense in a movie. Finally, when something does happen, its not even clear how the father was shot, how he dies, (the nurse said his liver was only grazed), and all the time this wendigo spirit apparently tracks down the apparent shooter in a very clumsy way with 3rd grade special effects. The film is called Wendigo but no attempt is made to explain it in any clear way, the film ends all muddled and leaves you very unsatisfied, i would have bailed out with 15 minutes to go but I wanted to see if this movie could redeem itself. It didn't.\"\n",
      "* * * * * * * * * \n",
      "11629\n",
      "A movie best summed up by the scene where a victim simulates disembowelment by pulling some poor animal's intestines out from under her T-shirt. Too terrible for words.\n",
      "* * * * * * * * * \n",
      "11710\n",
      "**MAY CONTAIN SPOILERS**<br /><br />The titular topless heroine rescues another beautiful babe and her father (an eccentric professor whose stock pith helmet is broken in one shot and whole in the next) from a moth-eaten, dime-store mummy and nasty Nazis out to--what else?--build a Fourth Reich. Misty's costume, like those of some other wimmen, gets skimpier as the movie rolls on. The last portion of the movie is devoted to protracted lesbian action; this footage actually gets real boring, real fast, which says more about the critters behind the camera than the curvaceous creatures in front of it. MISTY gets its nominal plot out of the way first and fast, then gives undivided attention to nudity and soft-core sex. This makes MUMMY RAIDER a throwback to movies made in the 1960s by guys like Stan Borden, David F. Friedman and Harry Novak. Just think: if this wonder-work had been cranked out four decades ago, it would have played for years on 42nd Street along with WHAM BAM THANK YOU SPACEMAN and KISS ME QUICK. As it is, MISTY MUNDAE MUMMY RAIDER went straight to home video. Grab yours, quick, before it goes out of print.\n",
      "* * * * * * * * * \n",
      "11795\n",
      "This film looked promising but it was actually pretty bad. The premise was O.K, but the plot itself was terrible. The actors tried their best with limited material, but they could not rise above the mean spiritedness of this tacky college film. Jason Schwartzman was once again immensely irritating - even more so than in Rushmore, the rest of the cast were quite non-eventful. Scenes that should have been fun turned out to be off-putting & incredibly juvenile. Tries to be a Road Trip/American Pie but fails dismally on all levels. A total waste of everyone's time.\n",
      "* * * * * * * * * \n",
      "11998\n",
      "The plot was predictable, and fighting with guns gets old, but this is a definate movie to look at if you have a low IQ and don't really care about real movies. I would endulge in true art movies, like 'Clerks', 'Something about Mary', 'El Mariachi', or 'La Taqueria'.\n",
      "* * * * * * * * * \n",
      "12047\n",
      "I ended up watching this movie before even going through any of the reviews, on the request of a female. Just out of curiosity, I thought, let me find out if there are people who actually recommend others to watch this movie. I am quite shocked to find such long and positive reviews on this website that makes me conclude that it's a scam.<br /><br />As far as my opinion goes, I have to ask,\\are these filmmakers retarded or do they assume that the viewers are retarded?\\\" The movie is atrocious on so many levels and I'm not even talking about the story or presentation.<br /><br />So, these bunch of guys plus one girl (the lead actress) form a Music band; guessing from the constant presence of guitars it is supposed to be a ROCK band. Hell, when did dancers started becoming the part of a Rock band??? Anyway, let me accept it as the-Bollywood-version-of-a- Rock-band, but amusingly enough all the scores which actually had these two guitarists doing all kinds of cool \\\"ROCK GESTURES\\\" and I am assuming they were playing the instruments, the sound of the guitar was completely missing!!! I simply can't comprehend the magnitude of stupidity here....<br /><br />I am just going to conclude here because it is absolutely not worth pointing out any further flaws in the movie. Bollywood directors seem to have no shame anymore!!!!!!!!\"\n",
      "* * * * * * * * * \n",
      "12139\n",
      "Bashki should be congratulated for attempting to convert one of the great works of English fiction into a movie, and then slapped silly for this attempt. The animation was poor, the characters looked ridiculous, the music was overwhelmingly blaring, and the film was a ramshackle blitz through the first book and a half of Tolkien's masterpiece. I can still remember my sheer disappointment and loathing for the movie when I first saw it. Now I realize that any attempt to convert a book into a movie is bound to fail in many ways, simply because of the medium, but this movie, regardless of the source of the story, is just plain pathetic. Bashki is capable of much more.\n",
      "* * * * * * * * * \n",
      "12215\n",
      "As I am from Hungary I have heard many people saying better and better things about Üvegtigris so far, but actually I don't understand the reason of all the fuss.<br /><br />I liked many points of the movie, some of the quotes really cheered me up, but the stereotyped characters are present again, like in every Hungarian film, and the story is also pretty dull. I liked the first half, but then I started to get bored, and then I found the whole film just BORING.<br /><br />Rudolf Péter is good as always, Reviczky is brilliant also, but the others are just there... doing nothing.<br /><br />How many years still have to pass for a GOOD Hungarian film???\n",
      "* * * * * * * * * \n",
      "12433\n",
      "Not sure why this movie seems to have gotten such rave reviews.<br /><br />While watching \\Bang\\\" one night on TV, I found myself bored by the nonsensical, random plot which was occurring on screen. The entire movie seems to be nothing more than an exercise in meaningless, artsy-fartsy self-indulgence on the part of the filmmaker. The fact that the director/writer goes by a one name moniker only reinforces this sense of pretentiousness. <br /><br />Those interested in indie flicks would be better off looking for something better written and dare I say, more entertaining than this complete waste of time.\"\n",
      "* * * * * * * * * \n",
      "12444\n",
      "What was this supposed to be? A remake of Fisher King? Why do we care about Sandler's character? What a slow, dreary, boring, who-gives-a-damn-about-these-people movie!!! Just simply painful to sit through, I turned it off before it was over. It's so obvious that Cheadle needs help as much as Sandler; like I said: can you say \\Fisher King\\\"? And how does this psychotic character function in his daily life? We aren't supposed to think that deeply, I guess. Why does Cheadle continue to give Sandler a chance to turn violent on him? If they were such good friends, how did they grow apart? If Cheadle is so in control, why does he keep seeking the advice of the shrink on the street? We are never told. That's why Fisher King was a better film on so many levels and why this just sucks. Nearly 8 out of 10 average score? I don't agree. At all. Even the top films are lucky to get such a high average rating, and this crap doesn't deserve to be in the same universe with them.\"\n",
      "* * * * * * * * * \n",
      "12500\n",
      "Judging by some of the comments in IMDB, I was expecting an action movie - perhaps a dramatic one or a stupid one or a simple one or a comicy one, but essentially an action movie.<br /><br />Whatever it is that I watched, it certainly didn't feel like a movie. The story is simple and straightforward (even though the prologue tries to make it seem complicated). Take three interest groups: 1) the government 2) the rebels 3) a group of assassins.<br /><br />Now subtract the first (they never appear in the movie). Then simply let one of the assassins, the princess, become a rogue on a revenge trip. Add in a rebel love-interest with a guilty conscience. And you've got the ingredients.<br /><br />But they still did not manage to turn it into a story or a movie. Between some random action sequences and some odd visuals trying to be Sci-Fi on a low budget, what you're left with is a feeling of emptiness. The movie just does not feel like a movie, but a weird, incoherent, boring dream.<br /><br />Avoid.<br /><br />2/10\n",
      "* * * * * * * * * \n",
      "12515\n",
      "Rex Reed once said of a movie (\\Julia and Julia\\\" to be specific) that it looked like it was shot through pomegranate juice. I was reminded of that as I snored through Purple Butterfly. This one appeared to be shot through gauze.<br /><br />The story was boring and it was not helped that for large portions of scenes actors' faces were literally out of focus or would only come into focus after extended periods of time. <br /><br />Also, everyone looked the same so it was hard to distinguish among the characters. I call this the \\\"Dead Poets Society\\\" syndrome.<br /><br />There was nobody to care about, nobody to become interested in dramatically, and the movie shed no historical light on a very interesting period of time and set of circumstances.<br /><br />A total disappointment.\"\n",
      "* * * * * * * * * \n",
      "12552\n",
      "Okay so I went into this movie not really expecting much I figured an action flick similar to The Fast and the Furious. Some nice cars some nice girls somewhat of a decent plot. Unfortunately I would have to say that this was probably the worst movie I have seen this year. Don't get me wrong the cars were nice and the girls were OK but the way they put the movie together was just plain crappy to put it nicely. The story just never made you care about the cast and the movie seemed just pieced together. So overall this movie was not the worst thing ever by far but if your looking for a movie to go to this weekend I would pass on this one for now.\n",
      "* * * * * * * * * \n",
      "12581\n",
      "There are many good things about the new BSG: There's the multiple Cylon roles for Model 8 and 6, for example, which the two actresses played superbly. There's the old school feel of industrial design aboard Galactica (\\My ship will not be networked, over my dead body!\\\") Also, all the space battles, the special effects (even though the seasoned sci-fi watcher will acknowledge the cartoonishness of it all) The darkness of the characters, their essentially flawed nature.<br /><br />That makes it all the more bitter that the ending was so childish.<br /><br />Yes, the first part, the scenes in space, the raid on the Cylons and all that was very good. But the mushy ending? I always watch films and shows these days with the timer hidden, so I never know how much time is left until the end. So for me it was a special kind of torture, to see the end happen over and over again. Every time I thought, oh this is the final scene, the final shot, I got one more. Every frakking character got its complete ending! That wasn't really necessary.<br /><br />What really highlighted the schoolboy amateurishness of it all: The young Roslin scenes. Why is important for us to know that: {a} she lost her sisters and father in a horrible accident and {b} that she has a one night stand with a former pupil/student? What does that bring to the story? Where was the linkage? Now, I'm all for a more European-ish style approach, and a random acts of whateverness in films and shows, and all that, but this was just ridiculous. This didn't bring anything meaningful to the story.<br /><br />Also, I've seen the \\\"Last Frakkin special\\\" and in it Ron revealed his own cluelessness about the plot: he couldn't come up with a good ending for the story, so .... he just didn't! It's never as much about the characters as they made the last episode to be. The whole \\\"this was thousands of years in the past\\\" idea, the mitochondrial Eve thing, was also used in the Hitchhikers Guide to the Galaxy, and believe you me, there are a lot of BSG watchers who know that particular H2G2 storyline. And speaking of Hera, now there's a storyline that WAS NOT worked out well, AT ALL. Instead we get Roslin is doing her former pupil who's 20 years younger. Don't get me wrong, I'm all for older women with younger men. The more power to them. But this ... just made no sense.<br /><br />All in all, (the writing in) this series is as flawed as they intended its characters would be. That goes even moreso for the last episode. I hope Lost and 24 do better, with their series finales.\"\n",
      "* * * * * * * * * \n",
      "12595\n",
      "How can a movie have Ozzy Osbourne and still suck? I just don't get it. Trick or Treat managed to do it. This sucks and likes it.<br /><br />Trick or Treat is one of those movies I have to warn people about. It is a vomit-inducing vile atrocity just begging to be viewed so you can feel that much worse about yourself. Trick or Treat has no redeeming factors.<br /><br />For a movie about heavy metal, it sure doesn't seem to grasp what heavy metal is or what it represents. This movie manages to make heavy metal look lame and this was in 1986, probably one of heavy metal's strongest hours. That is quite a feat, however negative.<br /><br />Trick or Treat = so bad you will be angry at yourself for having watched it. That simple equation will hopefully keep you away from this brainless and gutless film.\n",
      "* * * * * * * * * \n",
      "12642\n",
      "Considering the potential this move had, the reality was disappointing. While it's always nice to see Jennifer Aniston in a movie, even that couldn't turn this around. Most of the action was predictable. The jokes were flat to mildly amusing. And the characters were not very interesting. I wanted to like this film, but it just never happened. Ben Stiller was hilarious in \\There's Something about Mary\\\". Here it looks like he's just going thru the motions. If they have to lift plot points from \\\"Friends\\\", they should have known something was wrong. The toilet humor should have stayed in the closet :-).<br /><br />Watch \\\"50 First Dates\\\" instead.\"\n",
      "* * * * * * * * * \n",
      "12657\n",
      "If, in the first 10 minutes of this film, you don't realize that the main character, who writes a life advice column, is going to have the tables-oh-so-cleverly-turned and learn some valuable life lessons himself, then there is probably something wrong with you. The set up is so predictable as to ruin the movie, even if the rest of the movie was good (which it isn't) <br /><br />There's almost no chemistry between the leads, and Steve Carell's stalker-ish behavior is embarrassing, not funny. It's hard to believe Binoche's character would have any interest in him. Then in the end it's all wrapped up so wonderful and everyone lives happily ever after. Isn't that great America!\n",
      "* * * * * * * * * \n",
      "12797\n",
      "This film is a travesty, and isn't fit to keep company with the superior original. The plot is an absolute mess, and the film is way too long. Everytime they're struggling, they desperately inject a sentimental reminder from the first film.<br /><br />\\Gregory's Girl\\\" is one of the top 10 British films of all time, this one is awful.\"\n",
      "* * * * * * * * * \n",
      "12859\n",
      "I read the half dozen other user comments on this board and it seems as though the opinions vary greatly. I have to agree with those who found this movie to be awful. It pains me to write that since I would have hoped this would have been great, or I wouldn't have bothered to see it the other day. I like supporting indie cinema, especially if they are gay-themed, but this movie is almost too much to tolerate. Those that walked out, as I considered doing after about three minutes, probably didn't mind shelling out $11.00, or just figured it was going nowhere, fast, and not going to improve. Maybe I am slightly more optimistic than they are..either that or they didn't pay to get in in the first place.<br /><br />Logan is bored. He's a klutz. He's gay. I'm okay with that. The problem is that because the main character in a movie is bored does not necessarily mean that the movie about him has to be boring also! There are ENDLESS scenes of this kid just laying around like a load of laundry, re-establishing everything that you already learned in the first scene, and the second scene, etc., etc...Nothing or no one goes anywhere. NO ONE says anything even remotely insightful or funny or interesting. Probably most appalling of all is that I didn't feel the slightest bit of empathy for Logan. That in itself is a major accomplishment. He didn't grow, he didn't change, he didn't learn (there is no one to teach him anything), he DIDN'T DO ANYTHING, and neither did the movie! Scene after scene of the same thing do not a movie make.<br /><br />Additionally, the title makes no sense at all. 1/10.\n",
      "* * * * * * * * * \n",
      "12864\n",
      "I read the novel 'Jane Eyre' for the first time back in 1986. It was round that time that I saw the BBC-version with Timothy Dalton and Zelah Clarke. It was an excellent version and very much like the book. Years later, I laid eyes on this version and was horrified. William Hurt is totally miscast as Mr Rochester. Mr Rochester is a passionate character, where as William Hurt portrays him as a block of ice. The same goes for Charlotte Gainsborough. It was like watching two zombies together. This is story about love and passion, but I couldn't see it in this version. No, back to the BBC-version. A wonderful time is guaranteed.\n",
      "* * * * * * * * * \n",
      "12934\n",
      "If you're going to look after a child, make sure they don't live anywhere near a graveyard. Especially if said kid has a habit of drawing gory pictures and disappears at night among the tombstones to see her 'friends'. But, our long haired heroine, oblivious to all the signs, shacks up with her family the Nortons, which include a strict father and a dullard older brother who becomes a love interest for our budding babysitter. Even more spooky than the zombie gang outside is the cast's tendency to talk even when their lips aren't moving, and for the words to not match the movement of their mouths. But enough of that.. domestic animals are being sacrificed, old ladies are having eyeballs torn out and the orchestra won't shut up during any scene, even the quiet ones. Oh, and the editor is having a day off going by the way the film drones on.<br /><br />In fact, it would been better if everybody involved had taken a breather, smelt what they'd signed up for and gone AWOL. Yes, I know it's hard to get into movies these days, but this sort of starter point is not one on your CV you'd want. If would be like a trainee farm labourer having a conviction for chicken molesting. Featuring one of the worst lead performances ever by the shrill Laurel Barnett, and another almost equally as bad by the charisma-free child actress Rosalie Cole (The next Dakota Fanning she ain't) the film meanders on and on with nothing but padding until we get what passes for a climax.<br /><br />This involves five or six members of the undead barricading our utterly useless heroine in a shed, while her bit of rough fends off these ghouls with a plank of wood, a one shell shotgun and whatever he can lay his hands on. But back up a minute.. earlier on they were in the car, and they accidentally discovered that the creatures found the noise of the horn so repellent they shuffled off at the sound of it. So do they stay where they are safe? No of course not, they run off to this abandoned building in the middle of nowhere, so the bloke can prove what a hardnut he is the girl can act like she's having a nervous breakdown.<br /><br />Finally, the film closes. It doesn't end, it just goes to a grinding halt. The main character wanders back to her vehicle covered in fake blood, as if nothing horrible had happened. But, my dear viewer, something horrible has happened. You have just sat through one of the most lamebrained, boring horror films you're ever likely to see, and lost 82 minutes of your life you'll never get back. Just think.. years from now on your deathbed, what you'd trade an hour and 22 minutes for just to spend a bit of extra time with your family. Sadly, it's already too late for me. Don't you make the same mistake :( 2/10\n",
      "* * * * * * * * * \n",
      "12947\n",
      "- I had planned to write something explaining what I didn't like about this movie, but this is going to be more difficult than I thought. Honestly, I can't remember much about it. I watched it just three days ago and it's made almost no impression on me. That's usually the sign of a real stinker. About the only thing I remember was being incredibly bored by most of it. The novelty of having a Humphrey Bogart look-a-like as the detective wore off real quick. It would be different if he could act, but he's a one-note entertainer. The kill scenes were amateurishly handled and there was no suspense leading up to them. If you can't spot the killer five minutes into the movie, you need to see more Euro horror. The casting is a dead giveaway to the killer's identity.\n",
      "* * * * * * * * * \n",
      "12971\n",
      "Difficult to call The Grudge a horror movie. At best it made me slightly jump from surprise at a couple of moments.<br /><br />If one forgets the (failed) frightening dimension and looks at other sides of the movie, he is again disappointed. The acting is OK but not great. The story can be somewhat interesting at the beginning, while one is trying to get what's happening. But toward the end one understands there is not much to understand. \\Scary\\\" elements seems sometimes to have been added to the script without reason...<br /><br />So... (yawn) See this movie it if you have nothing more interesting to do, like cutting the carrots or looking at the clouds.\"\n",
      "* * * * * * * * * \n",
      "13101\n",
      "If you hit your head with a shovel, write the script with your feet, you may come close to the intelligence level of this movie. There is nothing in this movie that hasn't been done a thousand times in other gangster flicks and done much better. Those who think \\Scarface\\\" was some kind of hero to be looked up to or saw \\\"Goodfellas\\\", \\\"Menace II Society\\\" or \\\"Dead Presidents\\\" and thought MMM \\\"That's the life for me!\\\" will like this movie. I thought I'd give the movie a chance, since the premise was perfect for a prequel. I should have known better after seeing Mario Van Peebles and Sean Combs were involved. Anyone above a 4th grade education, see the original with Pacino, a real actor, and be satisfied.\"\n",
      "* * * * * * * * * \n",
      "13110\n",
      "Emma is my favourite Jane Austen novel - Emma is well-meaning despite her flaws, so readers can forgive and love her, and the relationship she has with Mr Knightley, which is warm, familiar, respectful but playful, generating that warm, fuzzy, romantic excitement. Mr Knightley is the perfect man, and Emma is as close as you could get in those times to an independent, clever, confident woman - remember, she is only 21, and was sure to have matured and grown out of her flaws. Who doesn't want to be Emma? Who doesn't want to be told off by Mr Knightley? This version of Emma gives you no sense of the things that I love about Emma. I couldn't even finish watching it, I just found it so awful. I couldn't see that warm, generous side of Emma, which drives the reader to love her: The patience and warmth she shows to her father; the closeness between her and Mrs Weston, which demonstrates her willingness to put her friend's happiness above her own (as she sacrifices the only equal companion in her household by forwarding Miss Taylors marriage). Mr Woodhouse's character in this adaptation just appears bizarre, rather than just quaint, elderly and a bit trying.<br /><br />This adaptation most importantly fails bring to life the relationship between Mr Knightley and Emma. Their relationship is built on mutual respect and affection: Mr Knightley is indulgent of Emma's minor faults trusting that her intelligence and genuine care for others will never allow her to go terribly astray; and Emma looks up to him, though playfully hiding this and continuing to use her own judgement. The dressing down he gives her right at the beginning of the show completely overstates the argument between them, and ruins all possibility of portraying the nature of their relationship as I've described above. Mr Knightley is also insufficiently attractive to bring to life the sexual tension between the leads (or to inspire any admiration from the female viewers).<br /><br />Really horrible. I can't understand why anyone who truly like the novel Emma could like it, unless it miraculously redeems itself after the point I switched it off.\n",
      "* * * * * * * * * \n",
      "13148\n",
      "This typically melodramatic Bollywood film has inexplicably become a favorite of Western critics. The script is ludicrous, the acting is over-the-top, and it looks cheesy. The only reasons for watching this soap opera are the wonderful songs sung by Mangeshkar and the curtain call of the legendary Meena Kumari. Watching the actress, who was ill during the filming and would drink herself to death at age 40 shortly after the film was released, has the same fascination as watching a train wreck. Her ex-husband, Amrohi, wrote and directed, but lacks the competency to execute either task well. Bollywood has produced far better films.\n",
      "* * * * * * * * * \n",
      "13194\n",
      "The British 'heritage film' industry is out of control. There's nothing wrong with filming classic novels, but why must they all be filmed by talentless nobodies? This film rips the guts out of Orwell's tough novel, turning it into a harmless, fluffy romantic comedy. 'Aspidistra' may not be Orwell's best work, but no-one who reads it can forget its superb depiction of poverty. Orwell emphasises not only the cold and the hunger, but the humiliation of being poor. In the novel, London is a bleak, grey, cold, heartless city, and Comstock prays for it to be blasted away by a squadron of bombers. But this film irons out anything that might be in any way disturbing, and creates instead a jolly nostalgic trip to charming 1930s London, in which everything is lit with shafts of golden sunlight, and even the slums of Lambeth are picturesque and filled with freshly scrubbed urchins and happy prostitutes. Comstock's poems about the sharp wind sweeping across the rubbish-strewn streets seem completely out of place in this chocolate-box world. Worst of all is the script's relentless bonhomie, ancient jokes, and clunking dialogue. It's so frustrating because Richard E. Grant is the perfect person to play Gordon Comstock, and the film is packed with great actors. But it's all for nothing. This film made me so angry! Britain's literary history is something to be proud of for its richness, complexity and power. And what do we do with it? We employ bland nobodies to turn it into soft-centred, anodyne pap for people who want to feel that they are 'getting some culture' while they drink their Horlicks and quietly doze off.\n",
      "* * * * * * * * * \n",
      "13526\n",
      "I notice that most of the people who think this film speaks the truth were either not born before the moon landings (1969-1972), or not old enough to appreciate them. I think it is much easier to question an historic event if you did not live through it.<br /><br />I was a youngster at the time of Apollo, but I was old enough to understand what was going on. The entire world followed the moon landings. Our families gathered around the TV to watch the launch. Newspaper headlines screamed the latest goings-on each day, from launch to landing, from moonwalks to moon liftoff, all the way to splashdown, in a multitude of languages. In school, some classes were cancelled so we could watch the main events on TV. During Apollo 13 the world prayed and held its collective breath as the men limped home to an uncertain fate. You couldn't go anywhere without someone asking what the latest was. The world was truly one community. <br /><br />Now with a buffer of 30-odd years after the fact, it is easy to claim fraud because worldwide enthusiasm and interest has died down. We are left with our history books, and anybody can claim that history is wrong and attempt to \\prove\\\" it with a bunch of lies and made-up facts while completely ignoring the preponderance of evidence showing otherwise--not to mention the proof that dwells in the souls and memories of those who lived through these wonderfully heady and fantastic days.\"\n",
      "* * * * * * * * * \n",
      "13542\n",
      "If I had not read Pat Barker's 'Union Street' before seeing this film, I would have liked it. Unfortuntately this is not the case. It is actually my kind of film, it is well made, and in no way do I want to say otherwise, but as an adaptation, it fails from every angle.<br /><br />The harrowing novel about the reality of living in a northern England working-class area grabbed hold of my heartstrings and refused to let go for weeks after I had finished. I was put through tears, repulsion, shock, anger, sympathy and misery when reading about the women of Union Street. Excellent. A novel that at times I felt I could not read any more of, but I novel I simply couldn't put down. Depressing yes, but utterly gripping.<br /><br />The film. Oh dear. Hollywood took Barker's truth and reality, and showered a layer of sweet icing sugar over the top of it. A beautiful film, an inspiring soundtrack, excellent performances, a tale of hope and romance...yes. An adaptation of 'Union Street'...no.<br /><br />The women of Union Street and their stories are condensed into Fonda's character, their stories are touched on, but many are discarded. I accept that some of Barker's tales are sensitive issues and are too horrific for mass viewing, and that a film with around 7 leading protagonists just isn't practical, but the content is not my main issue. The essence and the real gut of the novel is lost - darkness and rain, broken windows covered with cardboard, and the graphically described stench of poverty is replaced with sunshine, pretty houses, and a twinkling William's score.<br /><br />If you enjoyed the film for its positivity and hope in the face of 'reality', I advise that you hesitate to read the book without first preparing yourself for something more like 'Schindler's List'...but without the happy ending.\n",
      "* * * * * * * * * \n",
      "13597\n",
      "I sat down to watch this movie with my friends with very low expectations. My expectations were no where near low enough. I honestly could not tell what genre this movie was from watching it, and if it was a comedy, the humor was completely missed. The plot was nonexistent and the acting was horrendous. My friends and I managed to watch approximately 30 to 40 minutes of this film before we turned it off and promptly begged the video store to take it back. I do NOT recommend this movie to anyone unless you are purposely trying to watch the worst movies of all time. I honestly don't know how this film lasted more than a day in theatres and moreover I can not understand why anyone would willing watch it, considering not only it's very uninteresting title but also the lack of any famous actors/actresses in it's cast. This review is not a joke and I honestly think this could possibly be the worst movie ever made. It's certainly the worst movie I've ever had to sit through.\n",
      "* * * * * * * * * \n",
      "13602\n",
      "Awful! Awful! Awful! No, I didn't like it. It was obvious what the intent of the film was: to track the wheeling and dealing of the \\movers and shakers\\\" who produce a film. In some cases, these are people who represent themselves as other than what they are. I didn't need a film to tell me how shallow some of the people in the film industry are. I suppose I'm at fault really because I expected something like \\\"Roman Holiday\\\".<br /><br />I'm not a movie-maker nor do I take film classes but it appeared to me that the film consisted of a series of 'two-shots' (in the main) where the actors(!) had been supplied with a loose plot-line and they were to improvise the dialogue. Henry Jaglon makes the claim that he along with Victoria Foyt actually wrote the screenplay but the impression was that the actors, cognisant of the general direction of the film, extemporised the dialogue - and it was not always successful. Such a case in point was when Ron Silver made some remark which really didn't flow along the line of the conversation (and I'm not going back to look for it!) and Greta Scacchi broke into laughter even though they were supposed to be having a serious conversation, because Silver's remark was such a non sequitur. You get the impression too that one actor deliberately tries to 'wrong foot' the other actor and break his/her concentration. Another instance of this is when a producer tells Silver to \\\"bring the &*%#@#^ documents\\\" (3 times). Silver looked literally lost for words. I have seen one other film which looked like a series of drama workshops on improvisation and that was awful too!<br /><br />The fact that Jaglon was able to attract Greta Scacchi (no stranger to Australia), Ron Silver, Anouk Ami, and Maximilian Schell suggests it was a 'slow news week' for them. Peter Bogdanovich had a 'what-the-hell-am-I-doing-here' look on his face at all times and I expected to hear him say: \\\"Look, I'm a director and screenwriter - not an actor\\\" - which would have been unnecessary to state! Faye Dunaway seemed more interested in promoting her son, Liam. Apart from the jerky delivery of the dialogue, the hand-held camera became irritating even if it was for verisimilitude - as I suspect the \\\"natural\\\" dialogue was - and the interest in the principals became subsumed to the interest in the various youths walking along the strand trying to insinuate themselves into shot. That at least approached Cinema Verite. So that, along with the irritating French singing during which I used the mute button, made for a generally disappointing 90-odd minutes.<br /><br />I think we should avoid apotheosising films such as this. Trying to see value in the film where it has little credit in order to substantiate a perceived transcendental level to it is misguided. There was really nothing avant-garde about it. It didn't come across as a work of art and yet it wasn't a documentary either. I know, it was a mocumentary but the real test is whether it is entertaining. I was bored out of my skull! It did have one redeeming feature: it pronounced 'Cannes' correctly so I gave it 3/10.\"\n",
      "* * * * * * * * * \n",
      "13693\n",
      "This film differentiates itself from the run-of-the-mill \\wonder of the human body\\\" documentaries by bravely, if bizarrely, opting to elicit disgust in the viewer. In one scene, the camera closes in on a gigantic 50-foot zit as a teenager squeezes pus and fluid out of it. In another, the camera is semisubmerged in a swamp of half digested food and stomach acid as parts of a pasta salad drop in from the esophagus and plop into the goo. In a final tour de force, the camera takes the viewer on a harrowing ride through a forest of...teenage armpit hair. Unfortunately, I'm not making any of this up. See this film if you must, but: bring your vomit bag, and don't have pasta salad beforehand.\"\n",
      "* * * * * * * * * \n",
      "13756\n",
      "This film is overblown, predictable, pretentious, and hollow to its core. The settings are faithful to the era but self-conscious in their magnification by prolonged exposure. The lingering over artifacts stops the action and cloys almost as much as the empty dialogue. Tom Hanks seems to be sleepwalking much as Bruce Willis did in Hart's War. Tom, you can't give depth to a character simply by making your face blank! The content did not warrant the histrionic acting by Paul Newman. This is a dud wrapped in an atomic bomb casing.\n",
      "* * * * * * * * * \n",
      "13817\n",
      "I have to be completely honest in saying first that I fell asleep somewhere in the middle, so I cannot give a full opinion about the film until I see it in full. Basically, a group of thieves, including Sid Carter (Sid James) and Ernie Bragg (Bernard Bresslaw), plan to make a fortune stealing a shipment of contraceptive pills from Finisham maternity hospital. This is where title character Matron (Hattie Jacques) works, along with staff members Sir Bernard Cutting (Kenneth Williams), Dr. Francis Goode (Charles Hawtrey), Dr. Prodd (Terry Scott) and Nurse Susan Ball (Barbara Windsor). Patients and their visitors are around too, including pregnant Mrs. Tidey (Joan Sims) and her nervous dad-to-be husband Mr. Tidey (Kenneth Connor). Also starring Bill Maynard as Freddy and EastEnders' Wendy Richard as Miss Willing. This plan by the way is not working out by the way, because all the staff are getting in the way. That's pretty much all can say about the film until I see it again in full. Okay!\n",
      "* * * * * * * * * \n",
      "13822\n",
      "CQ was the worst film I saw this year. Nearly every film I choose to see in the theater is at least entertaining or has something to say. This film looked like like it was directed by a film student for his Intro. to Filmmaking class. His father makes great films. His sister made a good one. But brother Roman? NO! One critic had the audacity to compare this film to Godard's Le Mépris (Contempt). While Coppola, Jr. did take the same idea, a film about film, he tried too hard to make himself seem European, artsy, and witty, when it's all really just kitsch. The lead actor carries the same expression through the whole film, like he's either in awe or in shock of this film being made around him. Schwartzman somehow manages to pull off his role as a flamboyant director. Depardieu is alright. The one scene that has any real film spoof humor at all is, surprisingly, not the B-movie scenes, but rather one which takes place in Italy; a montage of shots of several various characters inside a very small car, driving around picking up and dropping off random people. This was the only thing that reminded me of the cinema I am guessing he was trying to spoof. Or rip-off. Or both. The documentary with the lead talking into the camera and filming various objects has been played out, the ending was tagged on for the sake of a \\twist\\\" or artistic value... I suppose the funniest thing about this film was the film itself, and not in the way it intended. No wonder this film was sent back after a festival screening to be re-edited or re-shot or whatever, which makes me curious as to just how bad it was before. I can't believe it could have been worse than this. If you want to see a good parody of film check out the Austin Powers films. Any of them. The opening to the third is more entertaining and more genius than this entire film. Lil' Romy, for the sake of cinema, PLEASE go back to directing your cousin's music videos. Leave The Godfathers to daddy.\"\n",
      "* * * * * * * * * \n",
      "13868\n",
      "By the numbers story of the Kid (Prince), a singer, on his way to becoming a star. Then he falls in love with Apollonia (Appolonia Kotero). But he has to deal with his wife-beating father (Clarence Williams III!) and his own self-destructive behavior.<br /><br />I saw this in a theatre in 1984. I was no big fan of Prince but I did like the three big songs from this movie--\\Purple Rain\\\", \\\"Let's Get Crazy\\\", and \\\"When Doves Cry\\\". The concert scenes in this movie are great--full of energy and excitement. Unfortunately that's a VERY small portion of the movie.<br /><br />The story is screamingly obvious and have been done many times before--and much better too. The subplots are, to put in nicely, badly handled. The love triangle between The Kid, Appolonia and Morris Day was so predictable and tired that I actually became insulted. His wife beating father is needed for the story, but the scenes are so badly handled (in acting and direction) that I couldn't believe it. The script is terrible--lousy dialogue and some truly painful \\\"comedy\\\" routines. And there's tons of misogyny here--The Kid's mother getting beaten; The Kid hitting Appolonia and (for no reason) Appolonia strips and goes topless to swim in a dirty river. Also Williams' and Princes' characters treat women in a horrible manner constantly.<br /><br />The acting is where this movie REALLY fails. Appolonia is sweet and beautiful--but no actor. And Prince is (easily) the WORST actor I've ever seen. His blank face and wooden dialogue delivery are so bad I couldn't believe it. This movie only comes to life during the concert scenes but there aren't really that many. The \\\"dramatic\\\" scenes are so badly acted and handled that they make this movie a chore to sit through. They should have just made this a concert film. I give this a 2--only for the music.\"\n",
      "* * * * * * * * * \n",
      "13949\n",
      "Unless you are already familiar with the pop stars who star in this film, save yourself the time and stop reading this review after you've reached the end of the next sentence.<br /><br />FORGET YOU EVER STUMBLED UPON THIS FILM AND GO WATCH SOMETHING ELSE.<br /><br />But if you insist on reading, consider: <br /><br />Lame vehicle for Japanese teen idol pretty-boys featuring nonsensical, convoluted \\plot\\\" that drags out for an insufferable amount of time until you're ready to scream.<br /><br />Nothing in this film makes sense. It's an endless series of people expressing various emotions, from joy to anger, from happiness to tragedy, FOR NO GOOD REASON. We can obviously see something incredibly \\\"dramatic\\\" is happening, but we just don't GIVE A CRAP WHY 'cause there's no backstory.<br /><br />By the time this film is over, you will be sick and tired of these stupid, lanky, girly stars' faces. You'll be revolted at having spent all this time watching them smile, sneer, cry, look mysterious, be \\\"serious,\\\" and any other pointless expression they slap on their faces.<br /><br />That some moron would ever go so far as to refer to this piece of insipid trash as being the \\\"soul\\\" of any of its \\\"actors\\\" should prove to you beyond the shadow of a doubt what the trailer and countless adoring comments on this site will not tell you: <br /><br />Only the \\\"converted,\\\" mindless minions will like this film, the majority of them teenage girls with a pathological adoration for anything androgynous. Freud would have a field day.<br /><br />Unless you're one of these mindless \\\"fans,\\\" stay the hell away from this abomination.\"\n",
      "* * * * * * * * * \n",
      "14059\n",
      "This film's trailer interested me enough to warrant renting the DVD. However, the resulting movie is absolutely dire! Admittedly, this is not the worst film ever made, or the worst film this year, but it came damn close!<br /><br />The main issue is the film not knowing what it wants to be: comedy, adult drama, thriller, teen-porn? The story is interesting, as it deals with the pitfalls of mail-order brides, but the film is a mess. What starts out as a mildly interesting \\comedy\\\" (a word I use in the loosest possible terms), then goes totally in reverse, and degenerates into a very dark and distasteful misogynistic thriller. Nicole Kidman should know better, and Ben Chaplin is wasted! As are Matthieu Kassovitz and Vincent Cassel, whom I can only presume did this for the money.<br /><br />This is a bad film in pretty much every single aspect. It's not funny, it's almost so sexist that you could almost forgive Benny Hill for everything he did, and the dramatic elements are just downright nasty. A film to be avoided, unless you absolutely have to see Kidman or Chaplin in every one of their films!\"\n",
      "* * * * * * * * * \n",
      "14081\n",
      "\\Don't Drink the Water\\\" is an unbelievably bad film. It's based on a 1966 Broadway play by Woody Allen. It stars Jackie Gleason, the comic genius behind \\\"The Honeymooners\\\". The director, Howard Morris, has appeared in several Mel Brooks comedies (Life Stinks, High Anxiety, Silent Movie)and has made a mark in animation (characters he has voiced include Gopher from \\\"Pooh\\\", Jughead (Archie)and Beetle Bailey) What went wrong?<br /><br />I think the problem is that the premise is played out too seriously to work effectively. Allen's original play was tongue-in-cheek, which is why it worked on Broadway and in Allen's 1994 remake. The screenplay by R.S. Allen and Harvey Bullock beats the premise to death and makes too many changes from the original play. Making Gleason's wife an airhead in this version when she was a headstrong woman in the original is just one example of why this doesn't work.<br /><br />The acting isn't much better. Gleason does the best he can with the material, but he can't save this. Gleason was a comic genius , but also a fine actor as he demonstrated in \\\"The Hustler\\\" and \\\"Soldier in the Rain\\\". His abrasive personality could have worked here, but the lousy script doesn't even give him a chance. Too bad. Estelle Parsons' airhead wife will drive you nuts after 20 minutes. See how soon it'll take for YOU to want to strangle her. That is also a shame because she is also a fine actress, having turned in two exceptional performances in \\\"Bonnie and Clyde\\\" and \\\"Rachel, Rachel\\\" None of the other actors do particularly well either.<br /><br />Woody Allen hated this film so much that he remade the film in 1994 with himself and Julie Kavner (Marge Simpson) in the leads. They manage to hit all the right notes and the film itself is a comic masterpiece. It's finally on video after a long battle over rights. Do go out and find that version. All the 1969 original is good for is clearing out unwanted guests who overstay their welcome.<br /><br />1/2* out of 4 stars\"\n",
      "* * * * * * * * * \n",
      "14200\n",
      "I cannot get past the message of this movie. It's laid out much too clearly to ignore, and it is obscene because it has lost its sense of what it's about. I haven't read the novel, but Pollack's film opens with a scene at a CIA-front organization in New York, which is broken into by two professional assassins, headed by Max von Sydow, who proceed to brutally slaughter the half dozen quirky staff members we've come to know and understand. The staff include an elderly female receptionist, a fussy elderly professorial guy who's toupee falls off when he is machine-gunned (is that a joke?), and, last, the beautiful Tina Chen who looks up from the copier, realizes she is about to be murdered, and says, pitifully brave, \\I won't scream.\\\" Von Sydow replies sympathetically, \\\"I know.\\\" These murders are completely unexpected, savage, unmotivated by anything that we are aware of, and graphic. It is a brutal scene. <br /><br />There is absolutely no way in which von Sydow and his henchman can be redeemed. And yet that is exactly what Pollack tries to do towards the end.<br /><br />After having killed these innocent good guys, von Sydow switches sides (because the other side is willing to pay him) and assassinates the evil mastermind behind a complicated intramural CIA plot. The script then turns him into a perfectly reasonable, sensitive human being. \\\"It is better to live in Europe. Things are not so rushed.\\\" Or whatever. I swear I'm not making this up. Pollack wants us to believe that it is better to be an honest mass murderer than a crooked bureaucrat. That's the message. You should write it down in case you forget. Just exactly what kind of psychiatric shambles do you have to be in order to turn ordinary values, not to mention common sense, upside-down like that? I understand that there are thoughtful adults who dislike the government of the United States, even hate it, and who see conspiracies just about everywhere, providing a knee-jerk explanation for otherwise unexplainable events. I know that people who think this way exist because I number some of them among my closer friends. Nevertheless, at some point this dislike, this hatred, if it increases in intensity, must pass beyond politics or ethics and into the realm of the psychiatric. I don't for a moment believe that a man who murders people for money is better than a sinister government official. I don't care how suave and cultured the murderer is or whether he knows how to reach the Louvre on the Metro. Whoever is purveying that message needs either medication or meditation.<br /><br />I'd like to be able to argue that the production is as thoroughly rotten as its message, but I can't. It's quite well done. (In some ways that's worse, because it makes the film less dismissable.) Even New York City looks photogenic on the screen. And it's been a long time since I've thought of New York as photogenic. Robert Redford does an admirable job of projecting his character's initial shock and confusion, but then turns into a telecommunicational semi-genius. And, man, he looks just fine! His wardrobe is just right. Even his rimless glasses are becoming. And his peacoat. It's not everyone who can make a navy pea jacket look glamorous. He seems extremely handsome too, the swine. I want to look like that. I want to wear a denim shirt and a tie with such panache. Faye Dunaway is alright in her role but it's not too believable a role. Would anybody eagerly sleep with a guy who has just kidnapped her and is holding her at gunpoint? Even if he did look like Redford? Would anyone be emotionally wounded if, when this ambivalent relationship is about to end, Redford asked her not to tell anybody about what happened? Cliff Robertson is surprisingly good. He does one or two extremely good double-takes. The mailman is superb. The fight between him and Redford in a crowded apartment is exquisitely choreographed and, for once, we really don't know for sure how it will turn out, because Redford (a book reader after all) seems mismatched against the brute cunning of this hired assassin. This is one of John Housemann's final roles. A shame. He's a magnet on screen. And what an end to his life: a friend finds him lost, wandering the streets of New York, in a neighborhood he'd been familiar with for most of his life. <br /><br />Yes, the movie is very well executed, but I can't ignore that vicious, paranoid message. I have the same problem with Leni Riefenstahl's \\\"Triumph of the Will.\\\" Or her Olympic documentary in which the announcer is watching a foot race in which Jesse Owens is pulling into the lead and says ominously, \\\"This Negro is dangerous.\\\"\"\n",
      "* * * * * * * * * \n",
      "14272\n",
      "Sixth escapade for Freddy Krueger in which he has finally managed to kill off virtually every youth in Springwood; now he wants to broaden his horizons and (**SPOILER**) needs a family member in order to do it.<br /><br />A failure as a horror movie because it simply ain't scary at all. Works better as a dark, macabre black comedy, to tell you the truth. Freddy Krueger has now been stripped of all of his ability to chill this viewer. (Too many wisecracks, that's for sure.) The actors aren't interesting (save Robert Englund, as always, and an obviously slumming Yaphet Kotto) and there are simply far too many visual effects. The finale is OK but doesn't provide as many sparks as I think one might hope.<br /><br />In adding a new twist to the familiar dream killer's story, it provides Englund the opportunity to do more non-makeup scenes than ever before.<br /><br />There are cameos worth noting: a joint cameo by then-couple Roseanne and Tom Arnold that is devoid of entertainment value, an appropriate appearance by veteran shock-rocker Alice Cooper, and a funny cameo by Johnny Depp that also sort of acknowledges the pop icon that he had become.<br /><br />Film debut of Breckin Meyer, who plays Spencer.<br /><br />One of the best things about it is the replaying of key scenes from earlier entries during the closing credits.<br /><br />4/10\n",
      "* * * * * * * * * \n",
      "14319\n",
      "\\Cavemen\\\" exceeded my expectations, and not in a good way. It was even worse than I thought it would be. Basically, here's the show: The Cavemen are an alternate race, they face prejudice, etc. Quite possibly the stupidest idea ever created; almost being worthy of jail time for the writers. One show featured the cavemen going into a club, trying to pick up girls, and then nothing else happened. It was reminiscent of listening to a 22 minute Andy Rooney dialog, followed by death by steak knives via midget cannibals. For those who have not seen this show, here's an example of the dialog: \\\"You're sure you're okay with going out with a caveman.\\\" \\\"Yeah, that's fine. I've had like 10 - thousand!\\\" Hilarious... Possibly the best writing I've ever witnessed.<br /><br />22 minutes of cavemen with horrible makeup, tackling tough social issues... Sounds like an entertaining night. I also love how bad the recent ideas are that they're resorted to making a sitcom out of car insurance commercials. I wonder if they'll do the Gecko next, so that I can have a new title for the worst show I've ever seen. I would even say that this is worse than \\\"Viva Laughlin.\\\" At least \\\"Viva Laughlin\\\" was ripped off from something that was somewhat inspired.<br /><br />Shows like this make me hope that there's a comet up there somewhere aimed for Earth.<br /><br />(Unratable honestly...)\"\n",
      "* * * * * * * * * \n",
      "14533\n",
      "THE WATERDANCE (1991) The main character of The Waterdance, played by Eric Stoltz, finds himself in a rehab center with some others similarly injured. And there he must face an harsh new life, confined to a wheelchair. It's an interesting, and promising premise, but unfortunately, it fails to deploy. What ensues instead is largely Hollywood schmaltz, with some interesting moments. Certainly the cast (Eric Stoltz, William Forsythe, Wesley Snipes, et al) is brilliant, and perform well here as one would expect, but their talents are wasted. The characters are mainly stereotypes of one kind or another, and most of them are thoroughly unlikeable (the Snipes character being the exception). I suppose this is some kind of attempt to break through people's ideas about the handicapped being \\crippled\\\" or \\\"weak\\\", by depicting them, for the most part, as in-your-face pricks, but it makes for an entirely annoying experience. Admittedly it will show you something of what those with permanent disabilities go through, in a way that is not softened or romanticized, which is useful, and a good idea, but while the process being depicted can make one a difficult person to get along with, and that's worth dealing with, it is not part and parcel to that that these characters must be, to varying degrees, despicable. They wouldn't have to be Disneyfied, either; surely there's a middle ground somewhere. By the film's conclusion, the Eric Stoltz character has come to accept his status as a handicapped person, but since he is such a flaming narcissistic monster from the beginning of the film to the end, we couldn't care less. <br /><br />In addition to its character problems, the film suffers from that weird syndrome that so many Hollywood movies suffer from; the syndrome doesn't really have an official name, but you might call it \\\"Inexplicable Forgiveness Syndrome\\\". It goes something like this: characters abuse the crap out of each other, and then without so much as an apology, all is forgiven (an especially obnoxious example of this is in the movie The Breakfast Club, in which one character spends most of the film verbally bullying everybody within earshot; as a result",
      "they love him. In one of the the latest examples, Spiderman 3, supervillain The Sandman lays waste to a chunk of Manhattan, then wails on Spiderman for what seems like about 15 monotonous minutes before being waved off with what amounts to \\\"bye, now\\\"). The most egregious example of IFS in The Waterdance is a sequence in which, after being called the n-word by William Forsythe's racist biker character and his friends in the previous scene, the Wesley Snipes character whoops it up with the same Forsythe character in the next scene, as if nothing had just happened just a short time hence. Again, without so much as an \\\"Oh yeah, sorry about that business back there where I, you know, called you the n-word\\\". It makes me wonder, do these people actually watch these movies before they release them, or do they just film them with their eyes closed, kind of slap them together in the editing room according to scene number, and call it a day's work?\"\n",
      "* * * * * * * * * \n",
      "14581\n",
      "The script is nice.Though the casting is absolutely non-watchable.No style. the costumes do not look like some from the High Highbury society. Comparing Gwyneth Paltrow with Kate Beckinsale I can only say that Ms. Beckinsale speaks British English better than Ms. Paltrow, though in Ms. Paltrow's acting lies the very nature of Emma Woodhouse. Mr. Northam undoubtedly is the best Mr. Knightley of all versions, he is romantic and not at all sharp-looking and unfeeling like Mr. Knightley in the TV-version. P.S.The spectator cannot see at all Mr. Elton-Ms. Smith relationship's development as it was in the motion version, so one cannot understand where was all Emma's trying of make a Elton-Smith match (besides of the portrait).\n",
      "* * * * * * * * * \n",
      "14646\n",
      "Okay, let me start off by saying that nothing in this will come as a surprise to anyone who's read the other comments. That being said, MY G-D, THIS MOVIE REEKED! I mean, WOW, I didn't know it was possible to throw as much money as they obviously did at something and still come out worse than ANY Roger Corman movie! Corman was probably pitched this movie at some point but declined due to the poor quality of the script! The only reason this movie got made in the first place is that someone said, 'Hey, Zombies are popular. Video games are popular. What game can we get a hold of that has zombies in it? Resident Evil? No, someone else got there first. Silent Hill? No, too silent. People will never sit in a dark room just to be scared silly. Hey, didn't Sega have a game where people ran around shooting zombies? They're out of the platform biz, we could get that for pennies!'<br /><br />Basically they tried their best to make a movie that felt like the video game, even down to shooting the combat as if the characters were actually playing the game.<br /><br />The first and major problem is that the original game was horrid. I mean,<br /><br />bad-movie-merchandising-made-into-a-worse-game-in-two-weeks-and-then-shippe d-out-and-bought-by-morons-and-their-parents-for-christmas horrid. The graphics were boring. The monsters were boring. The levels were boring. The interface was boring. The CASE was boring. In other words, this was a boring game. And that was the ARCADE version. The home version was even worse! With the home version, you didn't even get the shotgun to hold in your hand while you were being bored silly by this pointless game! But I digress.<br /><br />The second problem is that they went so far as to actually intercut scenes from actual gameplay during the fight scenes. HUH??? Didn't the editor have enough confidence in the effects to indicate that there was an actual fight going on? Not to mention that EVERY fight was shot from the perspective of a video game, which may explain the tedious use of Matrix-style effects. The problem with this is that the game was a first-person shooter (the player proceeds from the POV of the character). Maybe that's why they put in the game graphics, to let you know that they were alluding to the game... Right, whatever...<br /><br />Anyway, the only thing that made this ENTIRE experience remotely enjoyable was the fact that everyone in the theatre was making fun of the movie out loud, so my sudden fits of hysterical laughter and general incredulity were taken as commonplace and didn't get me kicked out.<br /><br />To sum up, DON'T GO SEE THIS MOVIE! Don't even deign to rent it when it comes out on video in a couple of week. Run. Just run.\n",
      "* * * * * * * * * \n",
      "14836\n",
      "The King Maker is a film about a series of real (citation needed) events that occurred during the Portuguese Occupation in Indochina.<br /><br />Although the costumes and art direction are commendable, the movie still fails to impress the viewer. The acting, in particular, was extremely poor. Some of the actors are trying hard to let tears down and the accents, both real and fake, are extremely irritating. The storyline was also too dumb and too stupid to be true and it seemed more like a history lesson. The movie couldn't even capture that sort of regal and century-old air and it looked more like a botched attempt to make an Asian version of Elizabeth.<br /><br />Final say? Costumes and art direction give the film a breath of fresh air, but the execution was extremely poor and the actors couldn't even give natural bursts of emotion. In short, the movie sounded more like hullabaloo than a script.\n",
      "* * * * * * * * * \n",
      "14886\n",
      "The plot, character development, and gags in this movie are all extremely weak. Quite a waste of time. The conclusion of Saving Grace is supposed to make one feel warm and fuzzy as though the characters have grown through their struggles. There was no such development to make such warm fuzzy feelings possible. The drug gags are cliched and much of the movie doesn't ring true to life. The plot builds what is supposed to be tension but the characters aren't developed enough to care. Then it rushes through a resolution of all the outstanding problems in about a minute of screen time leaving the viewer feeling like they have just wasted their time.\n",
      "* * * * * * * * * \n",
      "14911\n",
      "Blood Surf AKA Krocodylus is a fair film that has an okay cast which includes Dax Miller, Taryn Reif, Kate Fischer, Duncan Regehr, Joel West, Matt Borlenghi, Maureen Larrazabal, Cris Vertido, Susan Africa, Archie Adamos, Rolando Santo Domingo, and Malecio Amayao. The acting by the actors is fairly good. The thrills are fairly good and some of it is surprising. The movie is filmed fairly good as well. Same thing goes for the music The film is fairly interesting and the movie does keeps you going until the end. This is a fairly thrilling film. If you the the cast in the film, Monsters, Giant Animal films, Horror, Thrillers, Mystery, and interesting films then I recommend you to see this film today!\n",
      "* * * * * * * * * \n",
      "14969\n",
      "The Broadway musical, \\A Chorus Line\\\" is arguably the best musical in theatre. It's about the experiences of people who live for dance; the joys they experience, and the sacrifices they make. Each dancer is auditioning for parts in a Broadway chorus line, yet what comes out of each of them are stories of how their lives led them find dance as a respite. <br /><br />The film version, though, captures none of the passion or beauty of the stage show, and is arguably the worst film adaptation of a Broadway musical, as it is lifeless and devoid of any affection for dance, whatsoever. <br /><br />The biggest mistake was made in giving the director's job to Sir Richard Attenborough, whose direction offered just the right touch and pacing for \\\"Gandhi.\\\" Why would anyone in his or her right mind ask an epic director to direct a musical that takes place in a fairly constricted place?<br /><br />Which brings us to the next problem. \\\"A Chorus Line\\\" takes place on stage in a theatre with no real sets and limited costume changes. It's the least flashy of Broadway musicals, and its simplicity was its glory. However, that doesn't translate well to film, and no one really thought that it would. For that reason, the movie should have taken us in the lives of these dancers, and should have left the theatre and audition process. The singers could have offered their songs in other environments and even have offered flashbacks to their first ballet, jazz or tap class. Heck, they could have danced down Broadway in their lively imaginations. Yet, not one shred of imagination went into the making of this film, as Attenborough's complete indifference for dance and the show itself is evident in his lackadaisical direction.<br /><br />Many scenes are downright awkward as the dancers tell their story to the director (Michael Douglas) whether he wants to hear them or not. Douglas' character is capricious about choosing to whom he extends a sympathetic ear, and to whom he has no patience. <br /><br />While the filmmakers pretended to be true to the nature of the play, some heretical changes were made. The very beautiful \\\"Hello Twelve, Hello Thirteen, Hello Love\\\"--a smashing stage number which took the dancers back to their adolescence--was removed and replaced with the dreadful, \\\"Surprise,\\\" a song so bad that it was nominated for an Oscar. Adding insult to injury, \\\"Surprise\\\" simply retold the same story as \\\"Hello, Love\\\" but without the wit or pathos.<br /><br />There is no reason to see this film unless you want a lesson in what NOT to do when transferring a Broadway show to film. If you want to see a film version of this show, the next closest thing is Bob Fosse's brilliant \\\"All That Jazz.\\\" While Fosse's daughter is in \\\"A Chorus Line,\\\" HE is the Fosse who should have been involved, as director. He would have known what to do with this material, which deserved far greater respect than this sad effort.\"\n",
      "* * * * * * * * * \n",
      "15000\n",
      "SPOILER: The young lover, Jed, is kicked out by the spinster, Kate (Andie McDowell), because she wrongly believes that Jed is having an affair with one of her two catty girlfriends. Kate thought she caught them en flagrante delicto. Kate throws Jed's shoes out the door. Jed reluctantly leaves, and then sits in the middle of the road to put his shoes on. Then he gets run over (\\Crushed\\\", one of the meaning of the title) by a truck. And dies.<br /><br />\\\"And then he gets run over by a truck.\\\" Can you imagine a screenwriter actually submitting a script with this plot element? Up to then, its a comedy that intends to be frothy, but lacks any real fizz. Everybody but Jed is just annoying. And then they kill Jed, and everybody's sad, until the end where the gals learn to love one another and be supportive, instead of destructive. I give it 2 ugh's.\"\n",
      "* * * * * * * * * \n",
      "15094\n",
      "It used to be my thinking that movies required plots, or some other means of making you care at all about the story line or anything that is going on. This movie has showed me that you don't actually have to have anything like that.<br /><br />I could sum it up simply as that. But, IMDb wants me to have more lines. It was kind of pretty. not compelling in the slightest. The way the characters talk in the movie makes you think it should have taken place over a matter of days, but there is no passage of time and i'm pretty sure it all happens in an hour.<br /><br />If you are looking to entertain yourself, then buy a gallon of milk and see how fast you can drink it before throwing up. It would be a far better use of your time. Time that you will never get back. Jurassic Park 3 was pulled off better than this movie.\n",
      "* * * * * * * * * \n",
      "15125\n",
      "This is a fascinating film--especially to old movie buffs and historians (I am both). During the first half of the twentieth century, sadly, Black Americans were usually not allowed into White theaters. As a result, theaters catering to Black audiences wanted to show films reflecting the Black experience and showing Black actors. In many cases, the films were essentially similar plot-wise to standard Hollywood fare, but with a much, much lower budget--and usually horrid production values. You really can't fault the film makers--they just didn't have the money and resources available to the average film company. As a result, they had to make due with a lot less--including an over-reliance on stock actors that were seen again and again, no money for re-shooting scenes and a need to get the films done FAST! This film tried very hard to be a Black version of a Gene Autry film--starring Herb Jeffries instead. Jeffries was a light-skinned man from mixed ancestry and he starred in several similar cowboy films. In each, he sings a little, fights a little (though VERY poorly) and loves a little--everything you need in a cowboy. Believe it or not, Jeffries is STILL alive at age 96.<br /><br />The general plot was indiscernible from an Autry picture--complete with anachronistic items such as telephones out West! The problem is that despite its similarities, the low budget shines through. Stymie (from the Li'l Rascals) flubbed a few lines but they just left it in, the fight scenes were totally unchoreographed and were among the worst ever put on film, there were some odd plot holes, there was no background music (leaving the film strangely quiet) and the acting was pretty awful.<br /><br />Now this does NOT mean that the film isn't worth seeing--only that it abouts with technical problems that prevent it from being scored higher. One reviewer, oddly, scored this film a 10! How this can be with all the problems is beyond me. However, I can understand a person liking the film despite its many problems. The plot is generally pretty good, the characters likable, the musical numbers excellent and you know that the people making the film tried so darn hard AND it's a very important piece of American history. But a 10!? <br /><br />By the way, in an odd bit of casting, the very tall, lean and almost white-skinned Jefferies is paired with short, dumpy and exceptionally dark Mantan Moreland....as his brother!! Also, Spencer Williams may be familiar to you. He played Andy on TV's \\Amos 'n Andy\\\".\"\n",
      "* * * * * * * * * \n",
      "15151\n",
      "Plot Synopsis: Hong Kong, 1966. Paul Wagner, the man who built the Victoria Tunnel, is murdered along with his wife by his associates. His twin sons, Chad & Alex, are split apart. 25 years later, Chad, a karate instructor in Los Angeles, & Alex, a smuggler living in Hong Kong, join forces to avenge their parents' murder & rightfully claim the tunnel.<br /><br />This is the second time that Jean-Claude Van Damme & Sheldon Lettich have worked together, having previously done \\Lionheart\\\". This is also the first of three films to feature Van Damme playing dual roles (\\\"Maximum Risk\\\" & \\\"Replicant\\\" are the others). The plot is a very simplistic take on the revenge story, the film's sole redeeming feature being Van Damme's performance as two very different people  the prissy rich kid & the rough-&-tumble, cigar chomping tough guy. As it goes, Van Damme doesn't do a very good job in either role, although his take on Alex is mildly amusing. It is puzzling as to have the brothers mistaken for each other, with them wearing different clothes & having different hairstyles. Bolo Yeung makes a very worthy henchman for the baddies.\"\n",
      "* * * * * * * * * \n",
      "15221\n",
      "This film is something like a sequel of \\White Zombie\\\", since it is made by the same man (Halperin) and features zombies. Halperin, the George A. Romero of his day, fails to deliver with this one, though.<br /><br />We have a man who can control the minds of people in Cambodia, and a search to destroy the source of his power so the zombies can be sent free. Also, a love interest for the evil man.<br /><br />Where this film really excels is in the imagery. The Cambodian temples and dancers are very nice and the zombie look very powerful in their large numbers. Unfortunately, we don't really get to see much of the zombies in action and the love story seems to play a much too large role for a horror film (though this has a valid plot reason later on).<br /><br />I would have loved to see some 1930s zombies attack helpless city folk, but this film just did not deliver. And no strong villain (like Bela Lugosi) was waiting to do battle against our heroes. And the use of Lugosi's eyes? A nice effect, but misleading as he is never in the film... why not recreate this with the new actor's eyes? Overall, a film that could be a great one with a little script re-working and could someday be a powerful remake (especially if they keep it in the same post-war time frame). Heck, if they can fix up \\\"The Hills Have Eyes\\\" then this film has hope.\"\n",
      "* * * * * * * * * \n",
      "15305\n",
      "This show comes up with interesting locations as fast as the travel channel. It is billed as reality but in actuality it is pure prime time soap opera. It's tries to use exotic locales as a facade to bring people into a phony contest & then proceeds to hook viewers on the contestants soap opera style.<br /><br />It also borrows from an early CBS game show pioneer- Beat The Clock- by inventing situations for its contestants to try & overcome. Then it rewards the winner money. If they can spice it up with a little interaction between the characters, even better. While the game format is in slow motion versus Beat The Clock- the real accomplishment of this series is to escape reality. <br /><br />This show has elements of several types of successful past programs. Reality television, hardly, but if your hooked on the contestants, locale or contest, this is your cup of tea. If your not, this entire series is as I say, drivel dripping with gravy. It is another show hiding behind the reality label which is the trend it started in 2000.<br /><br />It is slick & well produced, so it might last a while yet. After all, so do re-runs of Gilligan's Island, Green Acres, The Beverly Hillbillies & The Brady Bunch. This just doesn't employ professional actors. The intelligence level is about the same.\n",
      "* * * * * * * * * \n",
      "15369\n",
      "I tried. I really did. I thought that maybe, if I gave Joao Pedro Rodrigues another chance, I could enjoy his movie. I know that after seeing O FANTASMA I felt ill and nearly disgusted to the core, but some of the reviews were quite good and in favor, so I was like, \\What the hell. At least you didn't pay 10 dollars at the Quad. Give it a shot.\\\"<br /><br />Sometimes it's better to go to your dentist and ask for a root canal without any previous anesthetic to alleviate the horror of so much pain. I often wonder if it wouldn't be better to go back to my childhood and demand my former bullies to really let me have it. On other occasions, I often think that the world is really flat and that if I sail away far enough, I will not only get away from it all, but fall clear over, and that some evil, Lovecraftian thing will snatch me with its 9000 tentacles and squeeze the life -- and some french fries from 1995, still lingering inside my esophagus -- out of me.<br /><br />Is there a reason for Odete? I'd say not at all... just that maybe her Creator thought that writing a story centered on her madness (one that makes Alex Forrest look like Strawberry Shortcake) look not only creepy, but flat-out sick to the bone. She first of all decides to leave her present boyfriend (in shrieking hysterics) because she wants a child and he believes they're too young. She later crashes a funeral of a gay man, and -- get this -- in order to get closer to him, she feigns being pregnant while insinuating herself into the lives of the dead man's mother and lover in the sickest of ways. Oh, of course, she shrieks like a banshee and throws herself not one, but a good three times on his grave. And there's this ridiculous business that she progressively becomes \\\"Pedro\\\" which sums up some weak-as-bad-tea explanation that love knows no gender. Or something.<br /><br />I'd say she's as nuts as a can of cashews, unsalted. But then again, so's the director. And me, for taking a chance on this. At least the men look good. Other than that... not much else to see here.\"\n",
      "* * * * * * * * * \n"
     ]
    },
    {
     "name": "stdout",
     "output_type": "stream",
     "text": [
      "15916\n",
      "Going into this movie you know that this is movie has six lab technicians in a sealed lab with an invisible maniac. So right away you're guessing who will live and who will die. The survivors end up being exactly who you'd expect them to be, so no points for plot twists there.<br /><br />And if you're not sure if this is a B-movie or a movie that just happens to take place in a lab with an engaging story, William Devane plays a part: instant B-movie status.<br /><br />The movie is promising in the beginning. At the lab we are introduced to the invisible gorilla who is becoming increasingly violent. Oooh, foreboding. The best scene in the whole movie is when the lab team makes the gorilla visible again. Great special effects. Same thing when they make Bacon invisible.<br /><br />There are a couple of bare breasts, a really lame dirty joke and enough out of place swearing to give this movie an R-rating that it really didn't need.<br /><br />For a thriller there weren't really any surprises, except when Shue makes like MacGyver in the freezer, which is more of a 'Whaaaa?' OK, there is one surprise. That's when Caine (Bacon) comes back one last time in the elevator shaft. It was a surprise but only because you're yelling at TV, 'Noooo! You're dead already! End the movie!' Speaking of yelling at the TV,that's all I did for the last 25 minutes or so. 'Put on your f#@%ing goggles!' Instead of putting their infrared goggles on so that they can see him, they try every other trick in the book (fire extinguishers, sprinkler systems...).<br /><br />The story really lost it at the end. But the special effects were good; that's the only reason I give it a 2/10.\n",
      "* * * * * * * * * \n",
      "16077\n",
      "The Good Earth follows the life a slave girl and a poor farmer in China. The movie is based on the novel by Pearl S. Buck. The story is great, but I hated that they decided to cast Anglos in the lead roles. Walter Connolly is laughable as the farmer's father. He has such a heavy American accent, as do most of the lead actors, that I could not bear listening to him speak.<br /><br />It is a shame that Hollywood could not get past their racist beliefs to cast Asians in the lead roles. To take Anglos and make them look like Chinese is akin to Anglos putting shoe polish on their faces to play African-Americans.\n",
      "* * * * * * * * * \n",
      "16183\n",
      "I enjoyed \\American Movie\\\", so I rented Chris Smith's first film, which I thought was a documentary too. In the first minute I saw that it wasn't, but I gave it a go.<br /><br />What a dead end film. Being true-to-life hardly serves you if you're merely going to examine tediousness, esp. tediousness that we're already familar with.<br /><br />I'm sorry, but will it come as a relevation to ANYONE that 1) a lot of jobs suck and 2) most of them are crappy, minimum wage jobs in the service sector??? I knew that before I saw the film. It didn't really provide an examination of that anyway, as while the film struggles to feel \\\"real\\\" (handheld camera, no music, etc.), what's going on hardly plays out as it would in the \\\"real world.\\\"<br /><br />Would an employer be so cheerful to Randy when he picks up his check, after Randy quit on him after 3 days when the guy said he expected him to stay 6 months?? Or the day after abandoning his job (and screwing up the machine he was working on), that everyone would be so easy on him??<br /><br />A big problem is our \\\"hero\\\"(?), Randy. This guy is a loser. Not because he's stuck in these jobs, or has a crummy apartment, or looks like one. He's a dope. He doesn't pay attention or even really try at these jobs. He has zero personalty. If I had to hire someone, he wouldn't make it past the interview.<br /><br />I'm looking forward to what Chris Smith does next, but guys, knock off the \\\"this-is-an-important-film\\\" stuff. \\\"American Job\\\" doesn't work.\"\n",
      "* * * * * * * * * \n",
      "16229\n",
      "this is not just a bad film, it's one of the worst films ever. it's so bad that i found it to be quite enjoyable. the acting, oh my god, the script, you gotta be kiddin'. how can you imagine the writer coming up with things like: - a kid who makes fireworks in school, fireworks SO powerfull, that when someone gets hit by it, they fly a hundred yards backwards and explode. -a girl is trapped in the celler, the killer is trying to break open the door. she gets a drill, but the wire isn't long enough. she first makes an extension cord, oh the horror, and then, when she's done, she drills through the door and drills through the head of the killer. WOW - and there are plenty more examples like that. oh yeah, and what happened to George Kennedy, he used to be great (Thunderbolt and Lightfoot/Cool hand Luke)\n",
      "* * * * * * * * * \n",
      "16230\n",
      "Karl Jr and his dad are now running an army on a remote island. They capture a trio of guys who stumble upon the island. Whom after a while fight back. (well the survivors) This one has non-stop blood, gore and carnage, which would have been good if any of it looked remotely real, or if the production didn't look like it was made with a weeks worth of saved up lunch money (I may be overexxagerating there. it was probably just a couple days worth). The horrendous dubbing didn't bother me as much and I suspect if I had been really drunk, some of it MIGHT have been slightly humorous....maybe. But as it is, at merely 78 minutes the movie still felt way too long by.. Oh I don't know... 78 minutes. Don't waste your time.<br /><br />My Grade: F <br /><br />DVD Extras: Bonus movie: \\Zombie '90: Extreme Pestilence\\\"; and Trailers for other Shock-o-Rama released films\"\n",
      "* * * * * * * * * \n",
      "16274\n",
      "The plot and characters are ridiculous and barely qualify AS \\plot\\\" and \\\"character\\\". The biggest problem is the fact that everything is dark, out-of-focus, and blurry. The fact that Fulci filled the whole movie with mist doesn't help. On the other hand, the whole thing is completely bizarre and filled with sex and violence. The inconsistencies are pretty entertaining, one of the main characters says he has no friends, yet he latches onto the new guy in a minute of screen time, and has a whole gaggle of women on the side. Though he does show his anti-social tendencies by randomly putting an arrow in some poor b*****d who's just minding his own business!Images of blood or gore flowing get more attention than the characters but what do you want from Fulci. Maybe it ruined his career, but it wasn't really much more stupid than Zombie. Worth a rental if you like gory Italian flicks or are desperate for sword and sorcery or something bizarre. How do you sleep through someone getting sucked into a pit 2 feet from your head and screaming for help?\"\n",
      "* * * * * * * * * \n",
      "16338\n",
      "After what I thought was a masterful performance of two roles in Man From Snowy River, WHY was Kirk Douglas replaced by Brian Dennehy in the sequel? It just wasn't the same without Spur and Harrison, as portrayed by Douglas. Maybe he recognized how poor the plot was--Jim returns after extended absence, to find Jessica being pursued by another man. He could not expect any girl to wait that long with no contact from him, and not find competition. For a Disney movie, this contains foul language, plus the highly unnecessary part when Jim & Jessica shacked up without being married--very LAME. Quite an insult to viewer intelligence, according to members of my family. I'll stick with the first one, and try to forget I ever saw the sequel!\n",
      "* * * * * * * * * \n",
      "16350\n",
      "I wasn't really fond of the first \\Cube\\\" movie. It was a good idea, but the annoying acting and characters always kept me from liking it too much. Didn't really feel the need to see its sequel but when I heard they were making a third movie that would act as more of a prequel to the original. I was intrigued, thinking that maybe they would fix some of the original's problems and provide us with a memorable cast of characters. Well I thought wrong.<br /><br />\\\"Cube Zero\\\" starts well enough by introducing us with the two characters in charge of watching and maintaining the never-ending maze of traps that plagues the people in the Cube. The filmmakers succeed in providing a sense of mystery with the establishment of the two men's daily routine. Several questions are created from it, concerning the reason why people are send there and also the true nature of the ones who run the entire operation. All of which are left entirely to the viewer. The acting was a bit weak but all in all the movie's first half moved relatively well.<br /><br />With the story moving on, one of the two \\\"watchers\\\" begins to develop serious doubts about what he is doing. And later decides to go and help a group of the people trapped. Here is where everything rapidly starts to dissolve into dull cheese.<br /><br />Sent by the people who run the Cube program we are introduced to the character \\\"Jax\\\". Along with his two underlings play a major reason as to why this movie is failure. To start of \\\"Jax\\\" looks and talks more like a third rate villain taken directly from a James Bond movie complete with the ever \\\"popular\\\" glass eye, that alone ruins any atmosphere created by the first half's relatively nice pace. Whats more is that it begins to feel more like a comedy rather than a serious movie. With some incredibly corny lines, perhaps the screenwriter got bored and didn't care. The acting itself degrades to a further low when the former \\\"watcher\\\" meets the group in the Cube. The entire interaction is painful to watch as is everything else following it.<br /><br />Again failing to impress on anything but weak characters, dialog and acting \\\"Cube Zero\\\" is a waste of time for those searching for a good horror movie.\"\n",
      "* * * * * * * * * \n",
      "16465\n",
      "Going into this I was expecting anything really good, but after the damage this inflexed on me, I'm just happy to think strait. It's hard to think what the film-makers( HA!) this was a good movie. the stories, and I use the world loosely, are incoherent and do make any sense at all. There just stupid things that happen at random. the acting, if can be called acting is horrible I've seen batter acting in toy ads! I know it's a low-budget video-bin garbages, but still even it's not like they tried. Will after stetting thought it, I feel very sleepy and still #yawws# do, I'm going to go lie down.<br /><br />WARNNING: DO NOT ATEMP TO DRIVE, WALK, READ OR DO ANY AFTER Watching CHILLERS. OTHER SIDE AFFECTTS MAY ENGULED LOSE OF ANY OR ALL METAL FUNKIONS.\n",
      "* * * * * * * * * \n",
      "16547\n",
      "Drew Barrymore plays young Holly Gooding, who moves in with aspiring hack screenwriter Patrick Highsmith (George Newbern) and completely disrupts his life by claiming that her \\doppelganger\\\", or evil twin, is out to kill her and her family.<br /><br />This silly horror film is kind of hard to take seriously, even if the film-makers and actors themselves seem to be dead serious. \\\"Doppelganger\\\" is muddled, with some unpleasantly dumb dialog.<br /><br />Some viewers will note that Drew's character's name is drawn from Audrey Hepburn's role in \\\"Breakfast at Tiffany's\\\", and that Newbern's character's name is a play on the name of famed author Patricia Highsmith (he is actually trying to re-write \\\"Breakfast\\\" as a horror film, believe it or not!).<br /><br />I suppose that it deserves some credit for not being quite your typical horror film - I mean, writer/director Avi Nesher seems to genuinely care for his characters, and gives his film more plot than standard slasher fare.<br /><br />After a silly villain-explains-everything-to-the-audience confrontation, the film goes on to submit a hideous, out-there climax that has to be seen to be believed. This film certainly does not skimp on the gore.<br /><br />But hey! Drew kills her mother in this one. No, I'm not joking. Jaid Barrymore shows up near the beginning only to get violently slaughtered.<br /><br />Drew is always very watchable, and very sexy in this one. Newbern comes off as a likable-enough, \\\"nice\\\" sort of guy. But the highpoint of the film has to be the scene with Sally Kellerman, an attractive veteran who's very professional in her one scene as a former nun who's started a phone sex business(!!!!!!).<br /><br />The film is basically junk but fairly amusing on a sleazy, sordid little level.<br /><br />4/10\"\n",
      "* * * * * * * * * \n",
      "16627\n",
      "I wouldn't call it awful, but nothing at all shines in this movie, and it is encumbered with some seriously unbelievable basic plot development. It starts out well, but once the main hit is done, it devolves into a long subplot around a young girl which is not compelling, and some action scenes which are theatre of the absurd unrealistic. For example there is a prolonged shootout at the airport in which the lighting is all stroboscopic. No explanation for that. How credible is it that a airport storage area is going to have lights that flash on and off confusingly, and just enough to let Snipes do his incredible escape schtick? This is one of far too few action scenes punctuated by pointlessly drawn out set ups that just fails to draw one into suspending belief.<br /><br />In addition, the whole premise seems to be that the United States CIA team can shoot the place up but get away with it by saying \\national security\\\" to the Brits. This gimmick relies on a stereotype that is to far afield from reality to be satisfying.<br /><br />There are a lot better action movies out there. Better formulated, better executed. This one is entertaining at times but there is just not enough meat on the bone and after a while it becomes downright boring -- something that should never happen in a good action movie.\"\n",
      "* * * * * * * * * \n",
      "16906\n",
      "That's the sound of Stan and Ollie spinning in their graves.<br /><br />I won't bother listing the fundamental flaws of this movie as they're so obvious they go without saying. Small things, like this being \\The All New Adventures of Laurel and Hardy\\\" despite the stars being dead for over thirty years when it was made. Little things like that. <br /><br />A bad idea would be to have actors playing buffoons whom just happen to be called Laurel and Hardy. As bad as that is, it might have worked. For a really bad idea, try casting two actors to impersonate the duo. Okay, they might claim to be nephews, but the end result is the same.<br /><br />Bronson Pinchot can be funny. Okay, forget his wacky foreigner \\\"Cousin Larry\\\" schtick in Perfect Strangers, and look at him in True Romance. Here though, he stinks. It's probably not all his fault, and, like the director and the support cast - all of who are better than the material - he was probably just desperate for money. There are those who claim Americans find it difficult to master an effective English accent. This cause is not helped here by Pinchot. What is Stan? Welsh? Iranian? Pakistani? Only in Stan's trademark yelp does he come close, though as the yelp is overdone to the point of tedium that's nothing to write home about. Gailard Sartain does slightly better as Ollie, though it's like saying what's worse - stepping in dog dirt or a kick in the knackers? <br /><br />Remember the originals with their split-second timing, intuitive teamwork and innate loveability? Well that's absent altogether, replaced with two stupid old men and jokes so mistimed you could park a bus through the gaps. Whereas the originals had plots that could be summed up in a couple of panels, this one has some long-winded Mummy hokum (and what a lousy title!) that's mixed in with the boys' fraternity scenario. I can't claim to have seen every single one of Laurel and Hardy's 108 movies, but I think it's a safe bet that even their nadir was leagues ahead of this.<br /><br />Maybe the major problem is that the originals were sort-of playing themselves, or at least using their own accents. It at least felt natural and unforced, as opposed to the contrived caricatures Pinchot and Sartain are given. And since when did Stan do malapropisms, and so many at that? \\\"I was gonna give you a standing cremation\\\"; \\\"I would like to marinate my friend.\\\" Stop it! <br /><br />Only notable moment is a reference to Bozo the Clown, the cartoon character who shared Larry Harmon's L & H comic. Harmon of course bought the name copyright (how disconcerting to see a ® after Laurel and Hardy) and was co-director and producer of this travesty. <br /><br />Questions abound. Would Stan and Ollie do fart gags if they were alive today? Would they glass mummies with broken bottles? Have Stan being smacked in the genitals with a spear and end on a big CGI-finale? Let's hope not.<br /><br />I did laugh once, but I think that was just in disbelief at how terrible it all is. Why was this film made in the first place? Who did the makers think would like it? Possibly the worst movie I've ever seen, an absolute abhorrence I grew sick of watching after just the first five minutes. About as much fun as having your head trapped in a vice while a red-hot poker and stinging nettles are forcibly inserted up your back passage.\"\n",
      "* * * * * * * * * \n",
      "16968\n",
      "Timberlake's performance almost made attack the screen. It wasn't all bad, I just think the reporters role was wrong for him.<br /><br />LL Cool J played the typical rapper role, toughest,baddest guy around. I don't think the cracked a smile in the whole movie, not even when proposed to his girlfriend.<br /><br />Morgan Freeman pretty much carried the whole movie. He was has some funny scenes which are the high point of the movie.<br /><br />Kevin Spacey wasn't good or bad he was just \\there\\\".<br /><br />Overall it's a Dull movie. bad plot. a lot of bad acting or wrong roles for actors.\"\n",
      "* * * * * * * * * \n",
      "17036\n",
      "This movie is just like every other dutch movie, so if you enjoy movies such as turks fruit and de kleine blonde dood. then you might be okay with this one (even though those two have much better stories and actors) Zomerhitte starts strong enough, but even that one good scene ends up having nothing to do with the storyline. There's a lot of nudity (but me and others just could not find that girl attractive), the dialog is laughable (as we did a lot to the annoyance of other movie watchers), and some of the scenes are so completely random that this is more of an unintentional comedy than anything else (like a random scene in which an owl rips somebody's eye out...it has nothing to do with anything and is only referenced once later in a sentence saying \\did you hear what happened...I was there\\\"). the only reason I gave it a 2 is because some of the places they are at look nice...that's it. And the reason I saw it was because we went to the sneak preview (here in Holland we have a strange system regarding sneak previews, you pay less money then for a regular movie and you don't know what movie it is that you will be watching. All you know is that it's a new movie that's not yet in the theaters). My advice is to stay far away from this film, if you really want to see a good dutch movie watch temmink or zwartboek.\"\n",
      "* * * * * * * * * \n",
      "17084\n",
      "For those who are too young to know this or for those who have forgotten, the Disney company went almost down the tubes by the end of the 1980s. People were NOT seeing their movies anymore and the company was not producing the usual wholesome material....at least no what people expected. A major problem: profanity.<br /><br />Yes, the idiots running the Disney movies during that decade would produce films with swear words - including the Lord's name in vain, if you can believe that - interspersed in these \\family films.\\\" In fact that happens twice here in the first 20 minutes! <br /><br />This movie, in addition to the language problems, has a nasty tone to it, too, which made it unlikeable almost right from the beginning. Thankfully, Disney woke up and has produced a lot of great material since these decadent '80s movies. (\\\"Touchstone\\\" is Disney, just under another name.)\"\n",
      "* * * * * * * * * \n",
      "17245\n",
      "Freddy's Dead: The Final Nightmare starts as dream demon Freddy Krueger (Robert Englund) leaves a teenager (Shon Greenblatt) on the outskirt's of Springwood with no memory of himself, who he is or why he is there. The local police pick him up & take him to a youth centre where child psychiatrist Maggie Burroughs (Lisa Zane) interviews him, she finds a newspaper cutting in his pocket which leads the two to Elm Street in Springwood where they discover that no children live there & therefore no victims for Freddy kill anyone. It all turns out that it's an elaborate plan by Freddy to find his daughter & use her to escape Springwood. When Maggie realises what Freddy is up to her & some kids decide they have to kill Freddy once & for all...<br /><br />Directed by Rachel Talalay this was made with the intention of being the final A Nightmare on Elm Street film which by this time had reached five, of course as any horror film fan know's if there's still money to be made from a franchise or a character then there's no way in hell Freddy's Dead: The Final Nightmare was going to be the last one which, of course, it wasn't. The A Nightmare on Elm Street series has been a franchise of diminishing returns as the films dropped in quality as the series progressed until we got here & Freddy's Dead: The Final Nightmare which for my money is probably the worst out of the lot of them. The film moves at a reasonable pace & it's rarely boring but it's so silly, childish & feels like some sort of live-action cartoon with some awful set-piece horror scenes that seem a million miles from Wes Craven's suspenseful & effective early 80's original. The sequence where stoner Spencer is trapped inside a video game being played by Freddy is terrible on it's own but then we are treated to shots of his body back in reality bouncing around the house from wall to wall & floor to ceiling which is quite the most ridiculous thing I've seen in a while, or maybe the early scenes when the John Doe kid falls from a plane down to the ground just like the Coyote cartoon character in the Road Runner cartoons or the absurd sight of Freddy threatening the deaf Carlos with pins that he intends to drop to the floor to make a loud noise or when he eventually kills him by scraping his knives across a blackboard. You can't take this seriously & I was just sitting there not quite believing what I was seeing. When they do finally try to kill Freddy the hero is given a secret powerful special weapon, yeah that's right a pair of cardboard 3-D glasses! The character's are poor, the dialogue is poor & the plot is confusing, it doesn't really stick to the Elm Street continuity & overall the film is a bit of a mess, the best thing I can say about it is that it has quite a bit of unintentional humour & you can certainly laugh at it.<br /><br />The film has major tonal problems as it tries to be dark, scary & sinister yet it's so silly & simply looks ridiculous at times that any attempt at being serious falls completely flat. There's not much gore in this one, there's some cut off fingers, some stabbings, someone falls on a bed of nails & that's about it. The body count is extremely low here with only three death's. The final twenty or so minutes of Freddy's Dead: The Final Nightmare was in fact shot in 3-D although the version I saw presented this part as normal so I can't comment on how well this does or doesn't work but you can definitely see shots which are meant to be seen in 3-D which take advantage of the process. The special effects vary, some are quite good actually while other's are terrible & Freddy's burnt make-up this time looks quite poor.<br /><br />This apparently had a budget of about $5,000,000 (it had an opening weekend box-office take of $12,000,000) & the film has a few nice visual touches & gags which makes the thing feel even more cartoony than it already is. The acting is really poor from the main leads although there are a few odd cameos including Tom Arnold & Roseanne, Johnny Depp & rocker Alice Cooper.<br /><br />Freddy's Dead: The Final Nightmare is probably the worst of the entire series & apart from some unintentional laugh value there's not much here to recommend or enjoy. Fans of the series will probably like it & defend it but for me this is about as far from Wes Craven's original classic shocker as it gets. Followed by New Nightmare (1994) which tried to take Freddy Krueger & the series in a new & different direction.\n",
      "* * * * * * * * * \n",
      "17310\n",
      "Once in a while in Indian cinema there comes along a movie like Sholay that changes the way the audience perceives a good movie. And den just once in a while(hopefully) we have a RGV ki Aag that breaks all the standards and creates one of its own. A standard so low, it can never be broken. Ram Gopal varma manages to take a melting pot of talent and create a dish so stale u can smell it from a distance. To take a classic like Sholay and assassinate it is totally unforgivable and I can't believe he almost called the movie RGV ki Sholay. Although Sholay had a lot of folklore elements in it, the movie managed to build on its plot by merely defining the characters so distinctively that they lived on forever. What Aag does is take these characters and mess them up so badly u'll need a contest to pick the worst. The realism element is totally missing and what the movie ends up providing is a bunch of \\actors\\\" parading along in a plot less and seemingly unrelated set of events. One star for this film is a ridiculous waste of a vote. its time for RGV to wake up to the reality of his failure and conjure up another \\\"different\\\" plot that can be categorized under cinema.\"\n",
      "* * * * * * * * * \n",
      "17337\n",
      "During the early 1980's, Kurt Thomas was something of a hero in the United States. Inevitably, men in his position get offered film roles that exist solely to capitalize on that. I have no idea what Thomas was paid to make this film, but I would have to be paid a big heap of money to agree to make a national fool of myself in a motion picture. The film is obviously derived from \\Enter The Dragon,\\\" as are most martial arts pictures. Only instead of a real martial art, they concoct an absurd new martial art, accurately described by one critic as \\\"a cross between Kung Fu and break dancing.\\\" A gymnast (Thomas, of course) is hired to rescue some lady from an impenetrable fortress, yet every room has a prop that is exactly what Thomas needs to kick the assistant baddies. Of course, he fights his way to the lead villain, and of course they have a fancy-dancy fight, with an ending that will surprise only those who have never seen a marshal arts film. There are touches which nostalgic types will like, particularly the mullet haircuts of Thomas and many of the male co-stars have. But the only reason to watch this film is if you have a grudge against Kurt Thomas, who now wishes he had never set foot on the film set.\"\n",
      "* * * * * * * * * \n",
      "17389\n",
      "the tortuous emotional impact is degrading, whether adult or adolescent the personal values shown in this movie belong in a bad psychodrama if anywhere at all. This movie has a plot, but it is all evil from start to end. This is no way for people to act and degrades both sexes all the way through the movie. teen killing - bad preteen sex - bad emotional battering - bad animal cruelty - bad psychological torture - bad parental neglect - bad the only merit if any is the excellent color shots of contrasting red, blond and green leaves a bad feeling for anyone that respects life and peace, what a bad mistake to make, or to watch... it is UGLY\n",
      "* * * * * * * * * \n",
      "17426\n",
      "The only reason to give this movie even a single star is how much the ending made me laugh. I had high hopes as I usually love bad campy holiday horror movies, but this just didn't qualify. It's really just a bad attempt at showing a character slide slowly into insanity, which again, isn't a bad plot, but is done poorly here. There are some scenes (such as the ending) which are not intended to be funny, but actually made me laugh out loud. There were a couple of times when I thought the movie would actually go in an interesting direction, but it never fulfills what it could and should be. In my opinion, if you are looking for a Christmas slasher flick, try Silent Night, Deadly Night.\n",
      "* * * * * * * * * \n",
      "17452\n",
      "This piece of filth is virtually impossible to follow. The sound is crap the picture quality goes from bad to worse to good to bad again! Things happen for no apparent reason characters appear and disappear. Was the director suffering from a massive brain injury during its production?<br /><br />Poor film making aside, the story is vile just sick evil sh*t If you like rape, murder and self harm this is right up your alley. And if simulated scenes of murder are not enough you can enjoy clips of actual people being executed. I watched almost all of it but had to turn off after I seen someones brains blown out. Never before have I seen a film that left me feeling so ashamed and dirty.\n",
      "* * * * * * * * * \n",
      "17457\n",
      "Since I'd seen the other three, I figured I might as well catch this made for TV fourth part of The Omen series. As a stand alone film, this movie is mediocre; but as a sequel to the 1976 masterpiece; it's a travesty. The film goes along the same route that many series' go down when they're running out of ideas; that being the idea of changing the male lead to a female. It's always obvious that this film was made for television as the acting is very standard, the plot lacks ideas and the gruesome murder scenes seen in the previous three are kept to a bloodless minimum. The film does keep a thread with the original, which I won't reveal as despite being obvious; that revelation is one of the most interesting aspects of the movie. The basics of the plot largely copy Richard Donner's original, and see a young couple adopt a child, which they name Delia (not Damiella or Damiana, fortunately). There's a big dog involved, and a child minder; and pretty soon, the wife starts to suspect that the child may not quite be normal; as she's menstruating at eight years old, and never suffered from any illnesses...<br /><br />The first two sequels to The Omen weren't bad at all, and the series really should have ended at number three. I guess there was money involved somewhere down the line, as there really is no artistic reason why this film should have been made. It brings nothing to the table in terms of originality, and the only thing it's likely to succeed in doing is annoying fans of the series. The film looks and feels like a TV movie all the way through and for the most part plays out like a film about the troubled upbringing of a young girl. Indeed, Asia Vieira does look like a little bitch; but she never convinces that she's the Antichrist, as her stares are redundant and most of the 'evil' she does is laughable. Faye Grant is given the meatiest role, and doesn't impress; while the rest of the cast regret agreeing to star in such an awful waste of time. The only good thing about this movie is the theme tune, which of course has been ripped off from the original; and is overused. On the whole, this film really isn't worth seeing; as it delivers nothing that the series is famous for, and doesn't even do justice to weaker second sequel.\n",
      "* * * * * * * * * \n",
      "17464\n",
      "The film begins with promise, but lingers too long in a sepia world of distance and alienation. We are left hanging, but with nothing much else save languid shots of grave and pensive male faces to savour. Certainly no rope up the wall to help us climb over. It's a shame, because the concept is not without merit.<br /><br />We are left wondering why a loving couple - a father and son no less - should be so estranged from the real world that their own world is preferable when claustrophobic beyond all imagining. This loss of presence in the real world is, rather too obviously and unnecessarily, contrasted with the son having enlisted in the armed forces. Why not the circus, so we can at least appreciate some colour? We are left with a gnawing sense of loss, but sadly no enlightenment, which is bewildering given the film is apparently about some form of attainment not available to us all.\n",
      "* * * * * * * * * \n",
      "17468\n",
      "This kid is rather bad, but in no way do they make him the type that outsmarts adults and can foil experienced thieves at every turn. No, he is not so much a brat, as he is a kid with severe emotional problems. A nice couple looking to adopt get rather suckered into adopting him and while the husband is a bit more willing to give this kid a chance the mother is not. Through in a bizarre Michael Richards character and the always annoying Gilbert Gottfried and you have yourself a rather bad movie with a few laughs in it here and there. I actually prefer the sequel to this film as I like the fact they brought Amy Yasbeck back as a different more likable character as there are one to many characters in this film that are thoroughly unlikable as it is. Even the kid is rather annoying at first in this one, and they kind of chill him out in the sequel too. The plot is simple enough though as the prospective parents go to adopt this kid that they think is great by the way the orphanage is throwing a party as they depart, they soon realize they have themselves a little hellion. Add to that this little hellion getting into contact with a convict of some sort. Not sure about this character, at first I thought it was supposed to be his real father or something. Not all that good, but I will pick this ahead of that Culkin kid any day of the week.\n",
      "* * * * * * * * * \n",
      "17566\n",
      "When we were in junior high school, some of us boys would occasionally set off stinkbombs. It was considered funny then. But the producers, directors and cast of \\Semana Santa\\\" (\\\"Angel of Death\\\" in the DVD section of your local video rental) are adults and they are STILL setting them off.<br /><br />Like the previous reviewer who wondered if the cast were anxious to get off the set and home, I doubt more than one take was done for any of the scenes.<br /><br />Mira Sorvino, hot in \\\"Mighty Aphrodite\\\" and other top-rated films, seems to have undersold herself to this project. Her acting is non-existent, confined mostly to wistful stares that are supposed to indicate how \\\"sensitive\\\" she is to the plight of the film's various victims.<br /><br />But let me warn you--do not be the next victim! Step away from the DVD if you find it on the shelf. Tbere are not many good leg shots of Mira (the only high points I could find in the film) and the supporting cast is of inferior quality, delivering a mishmash of badly-done dialogue with embarrassing \\\"Spanish\\\" accents worthy of the best high school theatrical production.\"\n",
      "* * * * * * * * * \n",
      "17567\n",
      "this is the first time I'm writing a comment on a movie on IMDb. but i had to write it for this one. its 3 hrs of unadulterated torture. from the starting u get the idea that the movie is gonna be bad. the acting is pathetic. I'm a big fan of Ajay devgan (loved him in bhagat singh) but he is at his worst in this movie. amitabh seems to have worked hard for this one, but somehow the fear is missing. prashant raj is a non actor. and the most irritating part of the movie is nisha kothari. i have no clue why the director took her in this movie. the background score is repetitive. somehow i felt that ramu tried to repeat a sarkar, the color theme, the background score, the camera angles, but it didn't work. PLEASE Don't WATCH IT\n",
      "* * * * * * * * * \n",
      "17906\n",
      "The potential was there. I saw Creep and thought, 'Oooh, this is getting interesting' several times. Yet somehow the interesting plot lines wound up unexplained or ignored, like they never happened. The lead character was irritating throughout the movie, and at one point my fella and I both shouted that we wanted her to die. There are some genuinely spooky/scary moments, but these are grossly overshadowed by the moments that just annoyed the hell out of me. It's another one of those horror movies that crops up and intrigues you for a while, but ultimately leaves you frustrated and a little confused about what the movie makers were trying to achieve.<br /><br />The one saving grace of this movie is the bad guy, but when the baddie is more likable than the lead character you know you're on to a loser.\n",
      "* * * * * * * * * \n",
      "17927\n",
      "Absolutely fantastic. <br /><br />Now, before a legion of cinema purists choke on their lattés, allow me to elaborate. Much as I enjoyed it, this is quite simply one of the worst films I have ever seen and is certainly the worst film I've seen at the cinema (an impressive claim, as I remember seeing Daredevil on the big screen). The two leads (Daniel Gillies and Elisha Cuthbert) were unconvincing at best and downright awful at worst. Of course, they weren't helped by a script that had as much emotional depth as a Daphne & Celeste single and characterisation that was about as convincing as the OJ defence. The plot (to stretch the term slightly) was thin to non-existent and the 'gore' scenes, whilst undoubtedly brutal, were irrelevant and laughably formulaic. What plot there is revolves around a twenty-something model (Cuthbert) who is abducted, imprisoned and subjected to various visceral tortures, both psychological and physical. The torture scenes feel like disconnected set pieces and the emphasis was laid squarely upon shocking rather than scaring the audience. Whilst there really are very, very few positives to draw from this film, its redeeming features are the very flaws that make it such a dreadful film. I have never heard a more vocal audience in a cinema. Within twenty minutes, the entire cinema was in stitches and remained that way throughout. For my part I came out flushed with laughter, buoyed by a film that had ascended to the pinnacle of appalling film-making. Whichever way you look at it, this is truly a cinematic achievement and a blueprint for future directorial wannabes detailing minutely how not to make a film.<br /><br />P.S. I omitted to mention that I managed to get in to the film free...so I can afford to laugh about it. I was still tempted to ask for my money back...it really was THAT bad.\n",
      "* * * * * * * * * \n",
      "17949\n",
      "I was very unimpressed with Cinderella 2 and Jungle Book 2, but this is possibly worse than both titles. First of all, I didn't like the animation, very Saturday-morning-cartoon, only worse in some scenes. I liked some of the characters, namely Thunderbolt and Patch, but the other characters, like Cruella were mediocre. Cruella was truly villainous in the original, but she lost her quality in the sequel. What she said was nothing at all to write home about and her animation was kind of ugly. Also her artist companion Lars was a joke to be honest with you, and Roger seemed to have quit smoking overnight. The voice talents were very good though especially Barry Bostwick as Thunderbolt, with the exception of Jodi Benson, the accent ruined it for me. There were some good moments, but the whole plot seemed bloated for me, and highly suggestive of an extended TV episode. All in all, a hugely disappointing sequel to the most memorable of the 60s Disney movies along with Jungle Book. Sorry, I can only give this a 3/10, it just wasn't my cup of tea. Bethany Cox\n",
      "* * * * * * * * * \n",
      "18023\n",
      "Lady in Cement - PI spoof with ole Blue Eyes.Frank Sinatra is a shamus on a houseboat in Miami in this rarely funny \\comedy\\\".Burdened by an annoying and repetitious Hugo Montenegro score and bunch of misfiring punchlines this 1968 flick just never rises above slightly too bawdy to be on TV made for television movie status.Dan Blocker is effective in the Mike Mazurski/Ted De Corsia big galoot role and Raquel Welch should thank her personal trainer.The only thing that makes the DVD worth keeping or seeing is the collection of cheesy trailers for Welch flicks like Bandolero,Fantastic Voyage , Mother ,Jugs & Speed and Myra Breckinridge.Even if you get the DVD-skip the predictable movie and go for the trailer library in the special features.Besides tons of mysoginistic asides-Sinatra lisps @ the homosexual owners of the local Go-Go bar.A relic that needs to be put back in the time capsule. D\"\n",
      "* * * * * * * * * \n",
      "18102\n",
      "I am not saying that Night of the Twisters was horrible, but it was far from great. Mediocre at absolute best. I seems though that every time one type of movie is released, a second must be around the same time. (Think about Armageddon and Deep Impact, Volcano and Dante's Peak) Night of the Twisters is really just Twister except worse and with mundane special effects.<br /><br />I have nothing against the actors who starred in it, even if they weren't great, it was the movie itself, the directing, the special effects, the whole storyline was just too strange to interpret. A series of tornadoes strike a town and basically the movie is about people trying to find family and friends and deal with the damage.<br /><br />I really don't know why it seems as though duplicates of disaster movies are released almost in sync with each other, but this one would have been better with Bill Paxton and Helen Hunt.\n",
      "* * * * * * * * * \n",
      "18230\n",
      "Believe it or not, \\The Woodchipper Massacre\\\" gave me full-blown gonorrhea! That's right, I've got a rainbow of discharge spewing from me just because a group of kids went playing around with a camcorder and somehow made a deal with the Devil and got distribution. It's beyond my comprehension how anyone with moderate intelligence could tolerate this pant-load of a film. The only reason I managed to sit through the whole thing (not without several suicide attempts along the way) was because, well first off, I was delirious with boredom, and second - I guess I wanted to further explore this newly discovered type of hate I was experiencing... This movie is a 'shot-on-video' \\\"horror/comedy\\\" about three siblings who are left for the weekend in the care of their bitchy elderly aunt. The youngest kid ends up stabbing the old lady accidentally with his Rambo-replica hunting knife. They then get to dismembering auntie with various tools (apparently she didn't have a single drop of blood in her body!) and heave her into their dad's rented wood chipper... Her convict son then stops by looking for his mom and the kids end up grinding that jackass too... I don't recall ever seeing a cast of annoying actors that actually caused me nausea. Seriously, that one blond chick's voice had me wincing in pain constantly. ALL of the actors were downright atrocious - literally just screaming their phony sounding dialog and cracking jokes that must've been written by a chimp that just didn't care! Now, I can usually appreciate independent efforts, but only from those who can realize that people other than their relatives might be watching this! I don't need to see a 3 minute shot of a car pulling out of a drive-way and a torturous, painfully long lawn grooming montage with some ridiculous, fluttery music playing over it. Plus, why the hell does the box of this movie have a bloody piano on it?! There WAS a piano in ONE scene and no one is killed near it! I'm through with reminiscing about this movie. Unless you like insufferable crap, I would advise anyone with half a brain to avoid this trash.\"\n",
      "* * * * * * * * * \n",
      "18362\n",
      "A serial killer dies in a snowstorm and gets mutated into Frosty the Snowman's evil twin. Then goes on a killing spree. Interesting plot. Sounds scary. And it is scary. If you're five years old. Otherwise, it's kind of cheesy. I saw it on cable and I'm glad I didn't pay money to see it. It has all the charm and style of a low-budget movie which may become a cult film. I'm sure it has a loyal fan base somewhere. I'm just not in it. Even though I didn't like the movie as a whole, there were some scenes I found amusing. Such as the bathtub scene and the post-explosion scene with the Picasso reference. It was also enjoyable to watch the many ways the heroes try to kill Jack and he just doesn't seem to want to die. In short, \\Jack Frost\\\" is a good low-budget B-movie comedy, but a bad low-budget B-movie horror.\"\n",
      "* * * * * * * * * \n",
      "18493\n",
      "I totally disagreed with those comments which said this is a good movie. This is a totally SUCKED movie. I mean SUCKED - S.U.C.K.E.D. The story development is strange. Mia Kirshner changed from an innocent girl to a party-fun seeking chick for no convincing reasons at all. In addition, all the actresses looked way too old for being college students - College students looked like about 30 years old - you figure out the rest. I watched only about first ten minutes and started fast forwarding to look for sex scenes. all the sex scenes are lame, hasty and, most importantly, no frontal at all. All the sex scenes are laughable, considering how many clothes they had on. Do yourself a favor - put it down and save yourself a few bucks. Conclusion: Story - 0, Sex - 0, Acting - 0, Score - 0 out 10.\n",
      "* * * * * * * * * \n",
      "18576\n",
      "Every once in a while I will rent an action/adventure film just as a way to relax and occupy my mind with nothing important. This is why I own a copy of Charlie's Angels (2000) - not a quality film, but it makes me laugh and allows me to unwind for a while. One of these days I will probably buy copies of The Princess Bride and a few Monty Python movies for much the same reason.<br /><br />In any case, I rented this film because I wanted to be entertained without being challenged. For the most part, I got what I wanted. The plot was something along the lines of a poorly written Xena episode, and the Kathy Long's acting was very community theater (not bad for a professional kick boxer and amateur actress). There were a few high points on the part of the cyborgs. Somehow they managed to get some pretty good actors to play the bad guys - unfortunately, most of them die pretty darned quick.<br /><br />Like most martial arts films, the further you get into the movie, the more emphasis there is on action, and the plot (which wasn't strong to begin with) deteriorates almost as quickly as the acting. However, the more Kathy Long fights, the more time the director devotes to her backside. By the end of the movie I was seriously considering watching it a second time just to count the number of times Kathy Long's tight red shorts were center screen.<br /><br />Unfortunately, there just wasn't enough meat to this film to make satisfying curiosity worth seeing the film a second time. If you are a hard core Xena fan in need of something to wile away a few hours - by all means, go to the grocery store and spend the .50 cents on the rental. There are some strong similarities between the show and this movie.<br /><br />Just don't expect anything more than to be mildly amused for a few hours.<br /><br />Unless, of course, you happen to like Kathy Long's derrière. THEN you might want to purchase a copy.\n",
      "* * * * * * * * * \n",
      "18710\n",
      "Of course I was watching BG. I loved S1, I liked season 2, season 3 was OK, and loved the final one. Yay, there is a spin-off show! I didn't know about this at all, one of my friends told me about this. I was really excited.<br /><br />I watched the first 3 episodes... What a piece of rubbish! Teenage girl drama fest. There is no science fiction... well, hardly any. At the end of every episode we can catch a glimpse of a Cylon. That's all. Who cares this? Did they decide that the next show's target audience will be females under 18? Boring religious nonsense talking, moaning, bitching... and some more.<br /><br />It is just sad that there is nothing out there at the moment to watch. Stargate ruined, BG over...\n",
      "* * * * * * * * * \n",
      "18722\n",
      "One wonders why anyone would try to rehash successful movie plots that have already been seen, like it's the case with this movie. \\The Wedding Date\\\" is one of the best examples of why not to even try to remake, under the guise of a new story, something that should have been let alone. If a project like this goes ahead with the studio big honchos' approval, then go all out with big stars and glossy production values, that way, people will come for the stars.<br /><br />Alas, that's not what happens in this misguided attempt at comedy. The problem seems to be the way the screen writers have transplanted the story to London, when basically, this seems to be a typical American situation that not even the setting will be able to fix. Then there is the problem with the stars. Debra Messing and Dermot Mulrooney? They have as much chemistry as oil and vinegar!<br /><br />Since the Kat and Nick have no conflict from the start, the viewer is not pulled into the film the way the creators thought they would be. It's clear that Kat will fall for Nick, and vice-versa in this predictable story. Amy Adams, who was the best asset in \\\"Junebug\\\", comes across as a shallow girl who is willing to keep her lie going on and not come clean to the man that loves her and is going to marry her.<br /><br />For anyone interested, the credits at the end of the film run for almost seven minutes!\"\n",
      "* * * * * * * * * \n",
      "18818\n",
      "In my opinion this movie advances no new thought. seems to me like taking a spear to a spear without looking to the side! the director seems to have an agenda! Duh! I find that his rational is lacking there does not seem to be room for the alternative view. I for one am usually on the side of the naysayer but this movie lacks credibility as it relies on the fantastic observations of the man/woman on the street. really now if you wish to cr5eate a credible alternative to a creed held onto for 2000+ years you have got to make more of an effort allowing the other side to voice their beliefs. I'm not sure but at the beginning of the movie it felt like an attack on the Cristian faith, I for one am a non believer, but allow for the beliefs of others, and would not wish no ridicule them but try to understand and tolerate.\n",
      "* * * * * * * * * \n",
      "18839\n",
      "I was not expecting much going in to this, but still came away disappointed. This was my least favorite Halestorm production I have seen. I thought it was supposed to be a comedy, but I only snickered at 3 or 4 jokes. Is it really a funny gag to see a fat guy eating donuts and falling down over and over? What was up with the janitor in Heaven scene? Fred Willard has been hilarious with some of his Christopher Guest collaborations, but this did not work. They must have spent all the budget on getting \\known\\\" actors to appear in this because there was no lighting budget. It looked like it was filmed with a video camera and most scenes were very dark. Does it really take that much film to show someone actually shoot and make a basket, as opposed to cutting away and editing a ball swishing through a basket? I try not to be too critical of low budget comedies, but if you want to see something funny go to a real Church basketball game instead of this movie.\"\n",
      "* * * * * * * * * \n",
      "18843\n",
      "At first I was convinced that this was a made-for-TV movie that wasn't worthy of primetime. But after a few minutes of dumb-struck awe, I realized that there was at least comic value in the over-the-top stunts and c-movie acting. This movie would have gotten a 1 if my wife and I hadn't laughed so hard as we watched it in wonder that the actors could keep a straight face. It was like a less-funny spy version of The Big Hit (I laughed so much I actually bought the Big Hit DVD) with even-worse acting. We were disappointed that Nick chose to marry Elena, and not Jim, after all of the hugging and high-fives. A few rum and cokes will definitely help it go down easier.\n",
      "* * * * * * * * * \n",
      "18925\n",
      "I was thinking that the main character, the astronaut with the bad case of the runs(in his case, his skin, hair, muscles, etc) could always get more movie work after he'd been reduced to a puddle. All he has to do is get a job as the Blob. The premise of this flick is pretty lame. An astronaut gets exposed to sunspot radiation(I think), and so begins to act like an ice cream cone on a hot day. Not only is this a puzzler, but apparently he has to kill humans and consume their flesh so that he can maintain some kind of cell integrity. Huh? Have you ever noticed that whenever any kind of radiation accident or experiment happens, the person instantly turns into a killing machine? Why is that?<br /><br />The astronaut lumbers off into the night from the 'secret facility'(which has no security whatsoever), shedding parts of himself as he goes. Apparently he retains just enough memory to make him head for the launch pad, maybe because he wanted to return to space. <br /><br />Thus begins the part of the movie that's pretty much filler, with a doctor wandering around with a Geiger counter, trying to find the melting man by the buzz he gives off. He kills a stupid Bill Gates look-alike fisherman, scares a little girl a la the Frankenstein monster movie, and finishes off a wacky older couple(punishing them karmically for stealing some lemons). Then there's a short scene where he whacks his former General, and a very long scene where he kills a young pothead and chases his girlfriend around. You'd think that after she cuts his arm off and he run away, the scene would shift. But no...we're treated to about ten minutes of the woman huddled into a corner panting and screaming in terror, even though the monster is gone. All I could think was..director's girlfriend, anyone?<br /><br />The end of the movie is even lamer than the rest of it. The melting man finishes turning into a pile of goo, and then...nothing. That's it. That's the end of the movie. Well, at least that meant that there was no room for a sequel.\n",
      "* * * * * * * * * \n",
      "19052\n",
      "Singleton has some serious issues he has to come to grips with. I get the feeling that he thinks he is pretty smart; however, this movie is almost comically transparent and self righteous. In addition, there are a bunch of \\might-makes-right\\\" messages like when our local Nazi jerks get beat up. I mean, who in their right mind is going to root for a bunch of Nazi jerks? However, he way Singleton portrays the \\\"fight\\\" is downright silly and seems to be designed to show us more the superior fighting qualities of the black protagonists than anything else. There is another \\\"bad guy\\\" (in reality a drunken frat boy) who rapes one of the movie's protagonists. In this instance, I think that Singleton actually does a nice job portraying what is probably an all too common situation when the woman involved asks the frat boy to use a condom and he either does not have one or does not want to use one. In any event, he does not accede to her demands that he stop and he proceeds to have intercourse despite her pleas. I think that this type of rape is all too common and in fact many uniformed people refuse to accept the fact that it is even a rape. Well, no means no, this is a rape, which probably occurs a lot in Universities across the country.<br /><br />Having established the rape, how does Singleton deal with it? When the frat boy tries to call the woman, her roommate refuses to put the victim on the phone, at which point the frat boy calls the roommate a \\\"black bitch.\\\" The aggrieved roommate appears to appeal to a counsel of Ice Cube, et al, who then proceed to physically humiliate and abuse the frat boy into repeated and prolonged \\\"apologies\\\" to roommate for his racist remarks; however the (apparently in Singleton's mind) lesser crime of rape is not mentioned. Again, no one really should feel sorry for the frat boy; however, Singleton seems to be sending a dual message that a racist comment is a greater offense then rape and in any event violence is justified against jerks.<br /><br />What is so ultimately so disappointing is that this movie could have truly been about something important but Singleton, while no doubt a talented director, does not appear to have the maturity or depth to pull of something of this magnitude.\"\n",
      "* * * * * * * * * \n",
      "19194\n",
      "Don't listen to the misleading title \\Werewolf Woman\\\". The Europeans are well known for putting an emphasis on sex and nudity over actual scares in their horror films, but this one here is just a bit too much. \\\"Werewolf Woman\\\" seems to have a sleazy sex scene copped off with the title character going crazy and brutally killing her partner. Fun the first few times, but a hundred minutes of this becomes very monotonous quickly. Shes not even a werewolf, but a schizo chick whose ancestor was hanged for lycanthropy. The film can't even decide its tone, with the first ten minutes (a flashback) being legitimate supernatural horror (I thought I was in for a trash classic after these) to a rather poor character study of the female being repeatedly abused and tortured to a revenge thriller. At the end, the director insists this is based on a true story. Yeah, all right.<br /><br />To be fair, there are a few entertaining aspects of the production. The title werewolf woman is a looker and there are a few nice gore effects and nude scenes. However, these become rather monotonous quickly. Also, the dubbed dialog is pretty hilarious in a camp fashion, especially the worlds most swinging doctor (he drinks on the job). Unfortunately, the film becomes pretty irritating fast. There's no actual plot or anything else really. Its a shame, because reading a description I felt the film had some real potential. \\\"Werewolf Woman\\\" is far overlong, slow moving, and a bit too pointless, even by the standards of the exploitation genre. (4/10)\"\n",
      "* * * * * * * * * \n",
      "19267\n",
      "Slither is a horror comedy that doesn't really have enough horror or comedy to qualify as one or the other. It has one scene that is exceptionally good, any number of zingers that work, but very few real scares and not enough humor to maintain the movie. In addition, the script does not focus on the hero and heroine, and goes off kilter in several places.<br /><br />A major failing of this film is that it introduces and then leaves its hero (Fillion) to follow Grant Grant (Michael Rooker) as he is first introduced and then becomes the monster. This whole part of the film drags - Michael Rooker's character isn't that interesting to us as a person, and watching as he goes through a series of motions while acting in the monster's interest might be interesting if this was Grant - Portrait of a Man Turning Into A Monster rather than a horror-comedy alien invasion movie. In the final analysis this movie's problems are in the script - it isn't that important to the audience how the monster acts or propagates. The purpose of a horror-comedy is to get the heroes backed up in a corner with shotguns and then throw bugs at them, with them cracking wise every time something frightening or disgusting happens. Instead we get an exploration of the alien's habits and tactics that just makes this part of the movie drag. The ostensible heroine (Elizabeth Banks as Starla Grant) is more central to this part, but nonetheless I felt the movie had left its narrative track, unless it planned on following Grant Grant all the way to the end.<br /><br />When Fillion and his posse finally confront the alien the movie does begin to cook, but once again the problem is in the script. By this point that audience knows - and the characters should know - that Grant is not just suffering from some disease, and act accordingly (shotguns) - instead they continuously parley in the face of increasing evidence that this is not something that \\let us get you to a hospital\\\" is going to help. Although their reactions might have been human and real, these are characters in an action movie and simply should have done what the movie promised - delivered action. A lack of action scenes in a movie with as few ideas as this is a great failing.<br /><br />*** SPOILERS AHEAD *** After the first confrontation and the bursting of the alien larval sack (a minor character and perhaps the best scene in the movie) the script once again betrays the movie. At this point one of the characters is almost taken over by the alien and develops an insight into the alien. The writer-director (Gunn) chooses as this character a completely new character, rather than one of already developed minor characters. Why? Why did he need to introduce a completely new character more than an hour into the movie that becomes central to the plot? By the time this character is attacked, we know hardly anything about her and could care less about her, even though she is a winsome teenage girl in her bath. Had Gunn decided not to use this character and just used one of the established minor characters, he could have completely avoided introducing her family, and saved time and money. Furthermore, the hero and heroine would have been filled in on the alien's plans without all the additional characters, and could have gotten around to blowing away aliens sooner and with more vigor.<br /><br />My last criticism is based on the movie's look. Gunn is primarily a writer, or maybe it was budgetary constraints, but this movie looked ugly and uninteresting. Most of the action takes place at night in woods or on a field, and the screen simply looks drab. The sets in Wheelsy (the fictional town where the action takes place) look cheap. The whole movie looks cheap. Box Office Mojo states the films' budget was $15 million, newspapers say $29 million, and considering they didn't use any name talent, I would say the money did not show up on screen. The monster is just repulsive, and rarely looks deadly.<br /><br />The last criticism is primarily based on the reality of the character's actions. By the time Fillion and Co have begun hunting Grant/the alien, one woman has disappeared and Grant is known to have been mutilating animals. At this point I was expecting the FBI or at least the State Police to show up and take over from the hick Sheriff. A woman has disappeared and likely been murdered, and a local has been acting psychotic. Time to call the authorities. But basically I was hoping that would happen because I just wanted some characters who would show up and ACT.<br /><br />Although this movie is ostensibly a horror-comedy, the movie it bears the most resemblance to is Dreamcatcher in terms of monstrous invasion and the type of monster and its intentions. Whereas Dreamcatcher had much bigger problems with story (especially the entire Morgan Freeman subplot) and particularly the ending, in many ways it was stronger, primarily because the main characters were stronger, but more importantly because it looked beautiful. Although that may be anathema - preferring the movie that is weaker in general plot and structural spine because of production values - that just shows you how uninteresting I found the look of Slither.\"\n",
      "* * * * * * * * * \n",
      "19274\n",
      "If you want to see a movie about two utterly unsympathetic characters, this is the one. The acting is superb, both from John Cassavetes as the insane paranoid whom, as the saying goes, they REALLY ARE out to get, and from Peter Falk as his lifelong best friend to whom he turns for rescue. Big mistake, but since they're both amoral mobsters, and misogynistic bastards to boot, it's hard to decide whom to root for LESS. Only writer/director Elaine May could have gotten away with this one. I thought it interesting that in a lengthy interview with producer Michael Hausman included on the DVD, he disclosed that the two stars had \\very different ideas\\\" about the script, that the director was nearly impossible to work with, that the director of photography had impossible demands made of him, that the crew was constantly angry about being made to sit around waiting, and so on. This mood of one big VERY dysfunctional family comes across clearly on the screen.\"\n",
      "* * * * * * * * * \n",
      "19403\n",
      "\\Attack of the Killer Tomatoes\\\" consists mostly of rambling, poorly assembled footage in search of a movie. The plot makes no sense, and the various characters drop in and out of the picture with no explanation at all. Watching this silly spoof, you get the feeling than so many other comments have captured so accurately: that it's easy to make a cheap, low-quality film and then use the \\\"parody\\\" angle as an excuse for its cheapness and low quality (in one scene, female swimmers are terrified of tomatoes that are floating near them; how far can \\\"suspension of disbelief\\\" go - even in a parody?). The title song is great, though. (*1/2)\"\n",
      "* * * * * * * * * \n"
     ]
    },
    {
     "name": "stdout",
     "output_type": "stream",
     "text": [
      "19515\n",
      "Whoever made this nonsense completely missed the point. Jane is a silly comic strip to titillate without being sleazy.<br /><br />This giant mess tries to be funny and exciting but is just a shambles. There is not one decent performance in it..even the usually reliable Jasper Carrott is painfully unfunny.<br /><br />The American bloke whose name escapes me is just as rubbiush as he was in flash gordon.<br /><br />Maud Adams tries as a villianess but she is a bit long in the tooth for this type of thing. All of these things would not matter if the girl was sexy or funny or likable.She is not. Kirsten Holmes faded into obscurity after this and so much the better.<br /><br />I've flushed more entertaining things than this down the toilet. Avoid\n",
      "* * * * * * * * * \n",
      "19551\n",
      "Didn't care for the movie, the book was better. Does anyone know where it was filmed? *** this was my first visit to your site...just found the answer to my question. so now I look like a dummy, but I think I'll still submit my comments. and yes, British Columbia is lovely ***Or why they took it from its South Carolina Coastal setting?(this question stands) The place was essential to the fabric of the book and its change was part of my disappointment with the movie. Oh, I just read where I need to write at least ten lines. Here's my other main issue with the film. Kim Bassinger was too vapid and not at all what I pictured from the book. I know, the book was the book and the movie; well not so good. I found the character in the book much more empathetic. Also the book evoked rustic, almost primitive images of the monastery. While the \\castle\\\" in the film was much more visually impressive, it distorted the feel of the story and seemed at odds with the characters.\"\n",
      "* * * * * * * * * \n",
      "19690\n",
      "As others have noted, this should have been an excellent Hammer-style film, and it seems to me that that's how most of the actors were instructed to play it... but the screenplay is so leaden, poorly paced, and filled with a lot of dull soliloquies (poor Timothy Dalton is saddled with most of them) that it's all too overblown and self-important. This is an uncharacteristically weak performance from Dalton, although he quietly nails the climactic scene where Dr. Rock finally realizes what he's done. The only actor who comes off really well is Patrick Stewart who is a most welcome sight. Freddie Francis may have been a great cinematographer, but he was a lousy director.\n",
      "* * * * * * * * * \n",
      "19986\n",
      "My grandmother took me and my sister out to see this movie when it came out in theaters back in 1998, and so we happily bought the tickets, the popcorn and soda, and walked right in to the theater and sat down to watch the movie. When it was over, the audience didn't applauded strongly, I remember that I heard a few people say that they didn't like it at all, I didn't like it, I thought that it was rather stupid, and not worth seeing. Eddie Murphy was hysterical in this, but apart from him, the whole movie was bad, I rarely laughed at the parts in this, I also remembered that the other people in the theater almost hardly even laughed. And what I really thought was bad was making the animals talk, because talking animals only exist in cartoons, in live action movies, they are totally a mutt! I said that apart from Eddie Murphy's hysterical twist he brings in, this movie is not worth watching, it is rather stupid.<br /><br />I have seen Eddie Murphy in several of movies and I thought that he was funny in those, I have just said that he was the only funny part of this movie, I also have not seen Eddie Murphy in the really \\great\\\" movie, The Adventures of Pluto Nash. This movie is not a movie that I would really recommend that you see, because apart from Eddie Murphy, you probably are not going to like this, especially because of a lot the the talking animals in it! <br /><br />I'll give this movie a rating of 3 stars out of a possible 10 stars.\"\n",
      "* * * * * * * * * \n"
     ]
    }
   ],
   "source": [
    "# false positives\n",
    "\n",
    "print(\"Examples of false positives:\")\n",
    "\n",
    "import random, time\n",
    "\n",
    "for i in range(0, len(ols_predictions)):\n",
    "    if (ols_predictions[i] == 1):\n",
    "        if (X_raw_train.iloc[i]['sentiment'] == 0):\n",
    "            if (random.uniform(0, 1) < 0.05): # to print only 5% of the false positives\n",
    "                print(i)\n",
    "                print(X_raw_train.iloc[i]['review'])\n",
    "                print('* * * * * * * * * ')\n"
   ]
  },
  {
   "cell_type": "markdown",
   "metadata": {},
   "source": [
    "---\n",
    "\n",
    "# <span style=\"color:red\">WARNING: Don't look at test set performance too much!</span>\n",
    "\n",
    "---\n",
    "\n",
    "The following cells show performance on your test set. Do not look at this too often! "
   ]
  },
  {
   "cell_type": "markdown",
   "metadata": {},
   "source": [
    "# Look at performance on the test set"
   ]
  },
  {
   "cell_type": "markdown",
   "metadata": {},
   "source": [
    "### MODEL: ordinary least squares"
   ]
  },
  {
   "cell_type": "code",
   "execution_count": 50,
   "metadata": {},
   "outputs": [
    {
     "name": "stdout",
     "output_type": "stream",
     "text": [
      "{'Pos': 2500, 'Neg': 2500, 'TP': 1341, 'TN': 1113, 'FP': 1387, 'FN': 1159, 'Accuracy': 0.4908, 'Precision': 0.49156891495601174, 'Recall': 0.5364, 'desc': 'ols_test'}\n"
     ]
    }
   ],
   "source": [
    "ols_performance_test = BinaryClassificationPerformance(ols.predict(X_test), y_test, 'ols_test')\n",
    "ols_performance_test.compute_measures()\n",
    "print(ols_performance_test.performance_measures)"
   ]
  },
  {
   "cell_type": "markdown",
   "metadata": {},
   "source": [
    "### MODEL: SVM, linear"
   ]
  },
  {
   "cell_type": "code",
   "execution_count": 51,
   "metadata": {},
   "outputs": [
    {
     "name": "stdout",
     "output_type": "stream",
     "text": [
      "{'Pos': 2500, 'Neg': 2500, 'TP': 2102, 'TN': 2096, 'FP': 404, 'FN': 398, 'Accuracy': 0.8396, 'Precision': 0.8387869114126097, 'Recall': 0.8408, 'desc': 'svm_test'}\n"
     ]
    }
   ],
   "source": [
    "svm_performance_test = BinaryClassificationPerformance(svm.predict(X_test), y_test, 'svm_test')\n",
    "svm_performance_test.compute_measures()\n",
    "print(svm_performance_test.performance_measures)"
   ]
  },
  {
   "cell_type": "markdown",
   "metadata": {},
   "source": [
    "### MODEL: logistic regression"
   ]
  },
  {
   "cell_type": "code",
   "execution_count": 52,
   "metadata": {},
   "outputs": [
    {
     "name": "stdout",
     "output_type": "stream",
     "text": [
      "{'Pos': 2500, 'Neg': 2500, 'TP': 2103, 'TN': 2115, 'FP': 385, 'FN': 397, 'Accuracy': 0.8436, 'Precision': 0.8452572347266881, 'Recall': 0.8412, 'desc': 'lgs_test'}\n"
     ]
    }
   ],
   "source": [
    "lgs_performance_test = BinaryClassificationPerformance(lgs.predict(X_test), y_test, 'lgs_test')\n",
    "lgs_performance_test.compute_measures()\n",
    "print(lgs_performance_test.performance_measures)"
   ]
  },
  {
   "cell_type": "markdown",
   "metadata": {},
   "source": [
    "### MODEL: Naive Bayes"
   ]
  },
  {
   "cell_type": "code",
   "execution_count": 53,
   "metadata": {},
   "outputs": [
    {
     "name": "stdout",
     "output_type": "stream",
     "text": [
      "{'Pos': 2500, 'Neg': 2500, 'TP': 1990, 'TN': 2098, 'FP': 402, 'FN': 510, 'Accuracy': 0.8176, 'Precision': 0.8319397993311036, 'Recall': 0.796, 'desc': 'nbs_test'}\n"
     ]
    }
   ],
   "source": [
    "nbs_performance_test = BinaryClassificationPerformance(nbs.predict(X_test), y_test, 'nbs_test')\n",
    "nbs_performance_test.compute_measures()\n",
    "print(nbs_performance_test.performance_measures)"
   ]
  },
  {
   "cell_type": "markdown",
   "metadata": {},
   "source": [
    "### MODEL: Perceptron"
   ]
  },
  {
   "cell_type": "code",
   "execution_count": 54,
   "metadata": {},
   "outputs": [
    {
     "name": "stdout",
     "output_type": "stream",
     "text": [
      "{'Pos': 2500, 'Neg': 2500, 'TP': 2103, 'TN': 2122, 'FP': 378, 'FN': 397, 'Accuracy': 0.845, 'Precision': 0.8476420798065296, 'Recall': 0.8412, 'desc': 'prc_test'}\n"
     ]
    }
   ],
   "source": [
    "prc_performance_test = BinaryClassificationPerformance(prc.predict(X_test), y_test, 'prc_test')\n",
    "prc_performance_test.compute_measures()\n",
    "print(prc_performance_test.performance_measures)"
   ]
  },
  {
   "cell_type": "markdown",
   "metadata": {},
   "source": [
    "### MODEL: Ridge Regression Classifier"
   ]
  },
  {
   "cell_type": "code",
   "execution_count": 55,
   "metadata": {},
   "outputs": [
    {
     "name": "stdout",
     "output_type": "stream",
     "text": [
      "{'Pos': 2500, 'Neg': 2500, 'TP': 2310, 'TN': 2171, 'FP': 329, 'FN': 190, 'Accuracy': 0.8962, 'Precision': 0.8753315649867374, 'Recall': 0.924, 'desc': 'rdg_test'}\n"
     ]
    }
   ],
   "source": [
    "rdg_performance_test = BinaryClassificationPerformance(rdg.predict(X_test), y_test, 'rdg_test')\n",
    "rdg_performance_test.compute_measures()\n",
    "print(rdg_performance_test.performance_measures)"
   ]
  },
  {
   "cell_type": "markdown",
   "metadata": {},
   "source": [
    "### MODEL: Random Forest Classifier"
   ]
  },
  {
   "cell_type": "code",
   "execution_count": 56,
   "metadata": {},
   "outputs": [
    {
     "name": "stdout",
     "output_type": "stream",
     "text": [
      "{'Pos': 2500, 'Neg': 2500, 'TP': 2006, 'TN': 1736, 'FP': 764, 'FN': 494, 'Accuracy': 0.7484, 'Precision': 0.7241877256317689, 'Recall': 0.8024, 'desc': 'rdf_test'}\n",
      "<my_measures.BinaryClassificationPerformance object at 0x7f846e4fe4c0>\n"
     ]
    }
   ],
   "source": [
    "rdf_performance_test = BinaryClassificationPerformance(rdf.predict(X_test), y_test, 'rdf_test')\n",
    "rdf_performance_test.compute_measures()\n",
    "print(rdf_performance_test.performance_measures)\n",
    "print(rdf_performance_test)"
   ]
  },
  {
   "cell_type": "markdown",
   "metadata": {},
   "source": [
    "### ROC plot to compare performance of various models and fits"
   ]
  },
  {
   "cell_type": "code",
   "execution_count": 57,
   "metadata": {
    "scrolled": true
   },
   "outputs": [
    {
     "data": {
      "image/png": "[encoded data removed]",
      "text/plain": [
       "<Figure size 432x288 with 1 Axes>"
      ]
     },
     "metadata": {
      "needs_background": "light"
     },
     "output_type": "display_data"
    }
   ],
   "source": [
    "fits = [svm_performance_test, lgs_performance_test, nbs_performance_test, prc_performance_test, rdg_performance_test]\n",
    "fig = plt.subplots(figsize=(6, 4))\n",
    "\n",
    "for fit in fits:\n",
    "    plt.plot(fit.performance_measures['FP'] / fit.performance_measures['Neg'], \n",
    "             fit.performance_measures['TP'] / fit.performance_measures['Pos'], 'bo')\n",
    "    plt.text(fit.performance_measures['FP'] / fit.performance_measures['Neg'], \n",
    "             fit.performance_measures['TP'] / fit.performance_measures['Pos'], fit.desc)\n",
    "plt.axis([0, 1, 0.4, 1])\n",
    "plt.yticks(np.arange(0.4, 1, 0.05))\n",
    "plt.title('ROC plot: test set')\n",
    "plt.ylabel('True positive rate/Recall')\n",
    "plt.xlabel('False positive rate')\n",
    "plt.show()"
   ]
  },
  {
   "cell_type": "markdown",
   "metadata": {},
   "source": [
    "### Create Pivot Table"
   ]
  },
  {
   "cell_type": "code",
   "execution_count": 58,
   "metadata": {},
   "outputs": [
    {
     "name": "stdout",
     "output_type": "stream",
     "text": [
      "                   True Positive Rate  False Positive Rate\n",
      "Rows                                                      \n",
      "ridge reg                      0.9240               0.1316\n",
      "logistic reg                   0.8412               0.1540\n",
      "perceptron                     0.8412               0.1512\n",
      "support vector                 0.8408               0.1616\n",
      "random forest                  0.8024               0.3056\n",
      "naive bayes                    0.7960               0.1608\n",
      "ordinary least sq              0.5364               0.5548\n"
     ]
    }
   ],
   "source": [
    "#https://pavopax.github.io/2017/11/precision-recall/\n",
    "#https://towardsdatascience.com/what-metrics-should-we-use-on-imbalanced-data-set-precision-recall-roc-e2e79252aeba#:~:text=Recall%20and%20True%20Positive%20Rate,denominator%20contains%20the%20true%20negatives.\n",
    "fits = [ols_performance_test, svm_performance_test, lgs_performance_test, nbs_performance_test, prc_performance_test, rdg_performance_test, rdf_performance_test]\n",
    "TP_rate =[]\n",
    "FP_rate =[]\n",
    "rows = ['ordinary least sq','support vector','logistic reg','naive bayes','perceptron','ridge reg','random forest']\n",
    "for fit in fits:\n",
    "    FP_rate.append(fit.performance_measures['FP'] / fit.performance_measures['Neg'])\n",
    "    TP_rate.append(fit.performance_measures['TP'] / fit.performance_measures['Pos'])\n",
    "    \n",
    "df = pd.DataFrame({\"True Positive Rate\":TP_rate, \"False Positive Rate\": FP_rate, \"Rows\": rows})\n",
    "test_table = pd.pivot_table(df, values=[\"True Positive Rate\",\"False Positive Rate\"], index=[\"Rows\"]).sort_values(by=['True Positive Rate'],ascending=False)\n",
    "\n",
    "column_order=[\"True Positive Rate\",\"False Positive Rate\"]\n",
    "test_table = test_table.reindex(column_order, axis=1)\n",
    "\n",
    "print(test_table)"
   ]
  },
  {
   "cell_type": "markdown",
   "metadata": {},
   "source": [
    "---\n",
    "\n",
    "# <span style=\"color:red\">SUBMISSION</span>\n",
    "\n",
    "---"
   ]
  },
  {
   "cell_type": "code",
   "execution_count": 23,
   "metadata": {},
   "outputs": [
    {
     "name": "stdout",
     "output_type": "stream",
     "text": [
      "movie_data is: <class 'pandas.core.frame.DataFrame'>\n",
      "movie_data has 25000 rows and 2 columns \n",
      "\n",
      "the data types for each of the columns in movie_data:\n",
      "id        object\n",
      "review    object\n",
      "dtype: object \n",
      "\n",
      "the first 10 rows in movie_data:\n",
      "         id                                             review\n",
      "0  12311_10  Naturally in a film who's main themes are of m...\n",
      "1    8348_2  This movie is a disaster within a disaster fil...\n",
      "2    5828_4  All in all, this is a movie for kids. We saw i...\n",
      "3    7186_2  Afraid of the Dark left me with the impression...\n",
      "4   12128_7  A very accurate depiction of small time mob li...\n",
      "Shape of HashingVectorizer X:\n",
      "(25000, 131072)\n",
      "Look at a few rows of the new quantitative features: \n",
      "   word_count  punc_count\n",
      "0         131           5\n",
      "1         169          15\n",
      "2         176          18\n",
      "3         112           5\n",
      "4         133           8\n",
      "5         331          20\n",
      "6         121          18\n",
      "7         230          22\n",
      "8          59           3\n",
      "9         224          14\n",
      "Size of combined bag of words and new quantitative variables matrix:\n",
      "(25000, 131074)\n",
      "(25000, 131074)\n",
      "Shape of X_test for submission:\n",
      "(25000, 131074)\n",
      "SUCCESS!\n",
      "Number of rows in the submission test set (should be 25,000): \n"
     ]
    }
   ],
   "source": [
    "# read in test data for submission\n",
    "# CHANGE FILE PATH and my_random_seed number (any integer other than 74 will do): \n",
    "raw_data, X_test_submission = process_raw_data(fn='/home/ec2-user/data/moviereviews_test.tsv', my_random_seed=74, test=True)\n",
    "print(\"Number of rows in the submission test set (should be 25,000): \")"
   ]
  },
  {
   "cell_type": "markdown",
   "metadata": {},
   "source": [
    "---\n",
    "\n",
    "Choose a <span style=\"color:red\">*single*</span> model for your submission. In this code, I am choosing the Ordinary Least Squares model fit, which is in the `ols` object. But you should choose the model that is performing the best for you! "
   ]
  },
  {
   "cell_type": "code",
   "execution_count": 24,
   "metadata": {},
   "outputs": [
    {
     "name": "stdout",
     "output_type": "stream",
     "text": [
      "0.5596\n"
     ]
    }
   ],
   "source": [
    "# store the id from the raw data\n",
    "my_submission = pd.DataFrame(raw_data[\"id\"])\n",
    "# concatenate predictions to the id\n",
    "my_submission[\"prediction\"] = ols.predict(X_test_submission)\n",
    "# look at the proportion of positive predictions\n",
    "print(my_submission['prediction'].mean())"
   ]
  },
  {
   "cell_type": "code",
   "execution_count": 25,
   "metadata": {},
   "outputs": [
    {
     "data": {
      "text/html": [
       "<div>\n",
       "<style scoped>\n",
       "    .dataframe tbody tr th:only-of-type {\n",
       "        vertical-align: middle;\n",
       "    }\n",
       "\n",
       "    .dataframe tbody tr th {\n",
       "        vertical-align: top;\n",
       "    }\n",
       "\n",
       "    .dataframe thead th {\n",
       "        text-align: right;\n",
       "    }\n",
       "</style>\n",
       "<table border=\"1\" class=\"dataframe\">\n",
       "  <thead>\n",
       "    <tr style=\"text-align: right;\">\n",
       "      <th></th>\n",
       "      <th>id</th>\n",
       "      <th>review</th>\n",
       "      <th>word_count</th>\n",
       "      <th>punc_count</th>\n",
       "    </tr>\n",
       "  </thead>\n",
       "  <tbody>\n",
       "    <tr>\n",
       "      <td>0</td>\n",
       "      <td>12311_10</td>\n",
       "      <td>Naturally in a film who's main themes are of m...</td>\n",
       "      <td>131</td>\n",
       "      <td>5</td>\n",
       "    </tr>\n",
       "    <tr>\n",
       "      <td>1</td>\n",
       "      <td>8348_2</td>\n",
       "      <td>This movie is a disaster within a disaster fil...</td>\n",
       "      <td>169</td>\n",
       "      <td>15</td>\n",
       "    </tr>\n",
       "    <tr>\n",
       "      <td>2</td>\n",
       "      <td>5828_4</td>\n",
       "      <td>All in all, this is a movie for kids. We saw i...</td>\n",
       "      <td>176</td>\n",
       "      <td>18</td>\n",
       "    </tr>\n",
       "    <tr>\n",
       "      <td>3</td>\n",
       "      <td>7186_2</td>\n",
       "      <td>Afraid of the Dark left me with the impression...</td>\n",
       "      <td>112</td>\n",
       "      <td>5</td>\n",
       "    </tr>\n",
       "    <tr>\n",
       "      <td>4</td>\n",
       "      <td>12128_7</td>\n",
       "      <td>A very accurate depiction of small time mob li...</td>\n",
       "      <td>133</td>\n",
       "      <td>8</td>\n",
       "    </tr>\n",
       "  </tbody>\n",
       "</table>\n",
       "</div>"
      ],
      "text/plain": [
       "         id                                             review  word_count  \\\n",
       "0  12311_10  Naturally in a film who's main themes are of m...         131   \n",
       "1    8348_2  This movie is a disaster within a disaster fil...         169   \n",
       "2    5828_4  All in all, this is a movie for kids. We saw i...         176   \n",
       "3    7186_2  Afraid of the Dark left me with the impression...         112   \n",
       "4   12128_7  A very accurate depiction of small time mob li...         133   \n",
       "\n",
       "   punc_count  \n",
       "0           5  \n",
       "1          15  \n",
       "2          18  \n",
       "3           5  \n",
       "4           8  "
      ]
     },
     "execution_count": 25,
     "metadata": {},
     "output_type": "execute_result"
    }
   ],
   "source": [
    "raw_data.head()"
   ]
  },
  {
   "cell_type": "code",
   "execution_count": 26,
   "metadata": {},
   "outputs": [
    {
     "data": {
      "text/html": [
       "<div>\n",
       "<style scoped>\n",
       "    .dataframe tbody tr th:only-of-type {\n",
       "        vertical-align: middle;\n",
       "    }\n",
       "\n",
       "    .dataframe tbody tr th {\n",
       "        vertical-align: top;\n",
       "    }\n",
       "\n",
       "    .dataframe thead th {\n",
       "        text-align: right;\n",
       "    }\n",
       "</style>\n",
       "<table border=\"1\" class=\"dataframe\">\n",
       "  <thead>\n",
       "    <tr style=\"text-align: right;\">\n",
       "      <th></th>\n",
       "      <th>id</th>\n",
       "      <th>prediction</th>\n",
       "    </tr>\n",
       "  </thead>\n",
       "  <tbody>\n",
       "    <tr>\n",
       "      <td>0</td>\n",
       "      <td>12311_10</td>\n",
       "      <td>1</td>\n",
       "    </tr>\n",
       "    <tr>\n",
       "      <td>1</td>\n",
       "      <td>8348_2</td>\n",
       "      <td>1</td>\n",
       "    </tr>\n",
       "    <tr>\n",
       "      <td>2</td>\n",
       "      <td>5828_4</td>\n",
       "      <td>1</td>\n",
       "    </tr>\n",
       "    <tr>\n",
       "      <td>3</td>\n",
       "      <td>7186_2</td>\n",
       "      <td>1</td>\n",
       "    </tr>\n",
       "    <tr>\n",
       "      <td>4</td>\n",
       "      <td>12128_7</td>\n",
       "      <td>0</td>\n",
       "    </tr>\n",
       "  </tbody>\n",
       "</table>\n",
       "</div>"
      ],
      "text/plain": [
       "         id  prediction\n",
       "0  12311_10           1\n",
       "1    8348_2           1\n",
       "2    5828_4           1\n",
       "3    7186_2           1\n",
       "4   12128_7           0"
      ]
     },
     "execution_count": 26,
     "metadata": {},
     "output_type": "execute_result"
    }
   ],
   "source": [
    "my_submission.head()"
   ]
  },
  {
   "cell_type": "code",
   "execution_count": 27,
   "metadata": {},
   "outputs": [
    {
     "data": {
      "text/plain": [
       "(25000, 2)"
      ]
     },
     "execution_count": 27,
     "metadata": {},
     "output_type": "execute_result"
    }
   ],
   "source": [
    "my_submission.shape"
   ]
  },
  {
   "cell_type": "code",
   "execution_count": 28,
   "metadata": {},
   "outputs": [],
   "source": [
    "# export submission file as pdf\n",
    "# CHANGE FILE PATH: \n",
    "my_submission.to_csv('/home/ec2-user/data/moviereviews_submission.csv', index=False)"
   ]
  },
  {
   "cell_type": "markdown",
   "metadata": {},
   "source": [
    "# Submit to Canvas: 1) the CSV file that was written in the previous cell and 2) the url to the repository (GitHub or other) that contains your code and documentation"
   ]
  }
 ],
 "metadata": {
  "kernelspec": {
   "display_name": "Python 3",
   "language": "python",
   "name": "python3"
  },
  "language_info": {
   "codemirror_mode": {
    "name": "ipython",
    "version": 3
   },
   "file_extension": ".py",
   "mimetype": "text/x-python",
   "name": "python",
   "nbconvert_exporter": "python",
   "pygments_lexer": "ipython3",
   "version": "3.8.5"
  }
 },
 "nbformat": 4,
 "nbformat_minor": 2
}
