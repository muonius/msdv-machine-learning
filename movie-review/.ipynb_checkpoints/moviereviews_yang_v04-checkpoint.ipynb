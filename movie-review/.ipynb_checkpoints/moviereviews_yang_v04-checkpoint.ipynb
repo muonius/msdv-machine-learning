{
 "cells": [
  {
   "cell_type": "markdown",
   "metadata": {},
   "source": [
    "### Version 04 \n",
    "In this version, we switched `HashVectorizer()` to `CountVectorizer()`. While true positive rate for key models improved, false positive rate also went up."
   ]
  },
  {
   "cell_type": "code",
   "execution_count": 1,
   "metadata": {},
   "outputs": [],
   "source": [
    "# all imports and magic commands\n",
    "import numpy as np\n",
    "import pandas as pd\n",
    "import matplotlib.pyplot as plt\n",
    "from my_measures import BinaryClassificationPerformance\n",
    "from sklearn.feature_extraction.text import HashingVectorizer\n",
    "from sklearn.feature_extraction.text import TfidfTransformer\n",
    "from sklearn.feature_extraction.text import CountVectorizer\n",
    "from scipy.sparse import csr_matrix, hstack\n",
    "from sklearn.preprocessing import StandardScaler\n",
    "from sklearn.model_selection import train_test_split\n",
    "%matplotlib inline"
   ]
  },
  {
   "cell_type": "markdown",
   "metadata": {},
   "source": [
    "### IMPORTANT!!! Make sure you are using `BinaryClassificationPerformance` v1.02"
   ]
  },
  {
   "cell_type": "code",
   "execution_count": 2,
   "metadata": {},
   "outputs": [
    {
     "name": "stdout",
     "output_type": "stream",
     "text": [
      "Help on class BinaryClassificationPerformance in module my_measures:\n",
      "\n",
      "class BinaryClassificationPerformance(builtins.object)\n",
      " |  BinaryClassificationPerformance(predictions, labels, desc, probabilities=None)\n",
      " |  \n",
      " |  Performance measures to evaluate the fit of a binary classification model, v1.02\n",
      " |  \n",
      " |  Methods defined here:\n",
      " |  \n",
      " |  __init__(self, predictions, labels, desc, probabilities=None)\n",
      " |      Initialize attributes: predictions-vector of predicted values for Y, labels-vector of labels for Y\n",
      " |  \n",
      " |  compute_measures(self)\n",
      " |      Compute performance measures defined by Flach p. 57\n",
      " |  \n",
      " |  img_indices(self)\n",
      " |      Get the indices of true and false positives to be able to locate the corresponding images in a list of image names\n",
      " |  \n",
      " |  ----------------------------------------------------------------------\n",
      " |  Data descriptors defined here:\n",
      " |  \n",
      " |  __dict__\n",
      " |      dictionary for instance variables (if defined)\n",
      " |  \n",
      " |  __weakref__\n",
      " |      list of weak references to the object (if defined)\n",
      "\n"
     ]
    }
   ],
   "source": [
    "help(BinaryClassificationPerformance)"
   ]
  },
  {
   "cell_type": "markdown",
   "metadata": {},
   "source": [
    "# Function for feature building and extraction on natural language data"
   ]
  },
  {
   "cell_type": "code",
   "execution_count": 7,
   "metadata": {},
   "outputs": [],
   "source": [
    "# function that takes raw data and completes all preprocessing required before model fits\n",
    "def process_raw_data(fn, my_random_seed, test=False):\n",
    "    # read and summarize data\n",
    "    movie_data = pd.read_csv(fn, sep='\\t')\n",
    "    print(\"movie_data is:\", type(movie_data))\n",
    "    print(\"movie_data has\", movie_data.shape[0], \"rows and\", movie_data.shape[1], \"columns\", \"\\n\")\n",
    "    print(\"the data types for each of the columns in movie_data:\")\n",
    "    print(movie_data.dtypes, \"\\n\")\n",
    "    print(\"the first 10 rows in movie_data:\")\n",
    "    print(movie_data.head(5))\n",
    "    if (not test):\n",
    "        print(\"The rate of 'good' movie reviews in the dataset: \")\n",
    "        print(movie_data['sentiment'].mean())\n",
    "\n",
    "    # vectorize Bag of Words from review text; as sparse matrix\n",
    "    if (not test): # fit_transform()\n",
    "        hv = CountVectorizer()\n",
    "        X_hv = hv.fit_transform(movie_data.review)\n",
    "        fitted_transformations.append(hv)\n",
    "        print(\"Shape of HashingVectorizer X:\")\n",
    "        print(X_hv.shape)\n",
    "    else: # transform() \n",
    "        X_hv = fitted_transformations[0].transform(movie_data.review)\n",
    "        print(\"Shape of HashingVectorizer X:\")\n",
    "        print(X_hv.shape)\n",
    "    \n",
    "    # http://scikit-learn.org/stable/modules/generated/sklearn.feature_extraction.text.TfidfTransformer.html\n",
    "    if (not test):\n",
    "        transformer = TfidfTransformer()\n",
    "        X_tfidf = transformer.fit_transform(X_hv)\n",
    "        fitted_transformations.append(transformer)\n",
    "    else:\n",
    "        X_tfidf = fitted_transformations[1].transform(X_hv)\n",
    "    \n",
    "    # create additional quantitative features\n",
    "    # features from Amazon.csv to add to feature set\n",
    "    movie_data['word_count'] = movie_data['review'].str.split(' ').str.len()\n",
    "    movie_data['punc_count'] = movie_data['review'].str.count(\"\\.\")\n",
    "\n",
    "    X_quant_features = movie_data[[\"word_count\", \"punc_count\"]]\n",
    "    print(\"Look at a few rows of the new quantitative features: \")\n",
    "    print(X_quant_features.head(10))\n",
    "    \n",
    "    # Combine all quantitative features into a single sparse matrix\n",
    "    X_quant_features_csr = csr_matrix(X_quant_features)\n",
    "    X_combined = hstack([X_tfidf, X_quant_features_csr])\n",
    "    X_matrix = csr_matrix(X_combined) # convert to sparse matrix\n",
    "    print(\"Size of combined bag of words and new quantitative variables matrix:\")\n",
    "    print(X_matrix.shape)\n",
    "    \n",
    "    # Create `X`, scaled matrix of features\n",
    "    # feature scaling\n",
    "    if (not test):\n",
    "        sc = StandardScaler(with_mean=False)\n",
    "        X = sc.fit_transform(X_matrix)\n",
    "        fitted_transformations.append(sc)\n",
    "        print(X.shape)\n",
    "        y = movie_data['sentiment']\n",
    "    else:\n",
    "        X = fitted_transformations[2].transform(X_matrix)\n",
    "        print(X.shape)\n",
    "    \n",
    "    # Create Training and Test Sets\n",
    "    # enter an integer for the random_state parameter; any integer will work\n",
    "    if (test):\n",
    "        X_submission_test = X\n",
    "        print(\"Shape of X_test for submission:\")\n",
    "        print(X_submission_test.shape)\n",
    "        print('SUCCESS!')\n",
    "        return(movie_data, X_submission_test)\n",
    "    else: \n",
    "        X_train, X_test, y_train, y_test, X_raw_train, X_raw_test = train_test_split(X, y, movie_data, test_size=0.2, random_state=my_random_seed)\n",
    "        print(\"Shape of X_train and X_test:\")\n",
    "        print(X_train.shape)\n",
    "        print(X_test.shape)\n",
    "        print(\"Shape of y_train and y_test:\")\n",
    "        print(y_train.shape)\n",
    "        print(y_test.shape)\n",
    "        print(\"Shape of X_raw_train and X_raw_test:\")\n",
    "        print(X_raw_train.shape)\n",
    "        print(X_raw_test.shape)\n",
    "        print('SUCCESS!')\n",
    "        return(X_train, X_test, y_train, y_test, X_raw_train, X_raw_test)"
   ]
  },
  {
   "cell_type": "markdown",
   "metadata": {},
   "source": [
    "# Create training and test sets from function"
   ]
  },
  {
   "cell_type": "code",
   "execution_count": 8,
   "metadata": {},
   "outputs": [
    {
     "name": "stdout",
     "output_type": "stream",
     "text": [
      "movie_data is: <class 'pandas.core.frame.DataFrame'>\n",
      "movie_data has 25000 rows and 3 columns \n",
      "\n",
      "the data types for each of the columns in movie_data:\n",
      "id           object\n",
      "sentiment     int64\n",
      "review       object\n",
      "dtype: object \n",
      "\n",
      "the first 10 rows in movie_data:\n",
      "       id  sentiment                                             review\n",
      "0  5814_8          1  With all this stuff going down at the moment w...\n",
      "1  2381_9          1  \\The Classic War of the Worlds\\\" by Timothy Hi...\n",
      "2  7759_3          0  The film starts with a manager (Nicholas Bell)...\n",
      "3  3630_4          0  It must be assumed that those who praised this...\n",
      "4  9495_8          1  Superbly trashy and wondrously unpretentious 8...\n",
      "The rate of 'good' movie reviews in the dataset: \n",
      "0.5\n",
      "Shape of HashingVectorizer X:\n",
      "(25000, 74849)\n",
      "Look at a few rows of the new quantitative features: \n",
      "   word_count  punc_count\n",
      "0         433          20\n",
      "1         158          16\n",
      "2         378          20\n",
      "3         379           8\n",
      "4         367           9\n",
      "5          89           5\n",
      "6         112           9\n",
      "7         132           9\n",
      "8         163           7\n",
      "9          43           5\n",
      "Size of combined bag of words and new quantitative variables matrix:\n",
      "(25000, 74851)\n",
      "(25000, 74851)\n",
      "Shape of X_train and X_test:\n",
      "(20000, 74851)\n",
      "(5000, 74851)\n",
      "Shape of y_train and y_test:\n",
      "(20000,)\n",
      "(5000,)\n",
      "Shape of X_raw_train and X_raw_test:\n",
      "(20000, 5)\n",
      "(5000, 5)\n",
      "SUCCESS!\n",
      "Number of fits stored in `fitted_transformations` list: \n",
      "3\n"
     ]
    }
   ],
   "source": [
    "# create an empty list to store any use of fit_transform() to transform() later\n",
    "# it is a global list to store model and feature extraction fits\n",
    "fitted_transformations = []\n",
    "\n",
    "# CHANGE FILE PATH and my_random_seed number (any integer other than 74 will do): \n",
    "X_train, X_test, y_train, y_test, X_raw_train, X_raw_test = process_raw_data(fn='../data/moviereviews_train.tsv', my_random_seed=73)\n",
    "\n",
    "print(\"Number of fits stored in `fitted_transformations` list: \")\n",
    "print(len(fitted_transformations))"
   ]
  },
  {
   "cell_type": "markdown",
   "metadata": {},
   "source": [
    "# Fit (and tune) Various Models"
   ]
  },
  {
   "cell_type": "markdown",
   "metadata": {},
   "source": [
    "### MODEL: ordinary least squares"
   ]
  },
  {
   "cell_type": "code",
   "execution_count": 9,
   "metadata": {},
   "outputs": [
    {
     "name": "stdout",
     "output_type": "stream",
     "text": [
      "{'Pos': 10000, 'Neg': 10000, 'TP': 5026, 'TN': 4983, 'FP': 5017, 'FN': 4974, 'Accuracy': 0.50045, 'Precision': 0.5004480732848751, 'Recall': 0.5026, 'desc': 'ols_train'}\n",
      "performance_measures is: <class 'dict'>\n"
     ]
    }
   ],
   "source": [
    "from sklearn import linear_model\n",
    "ols = linear_model.SGDClassifier(loss=\"squared_loss\")\n",
    "ols.fit(X_train, y_train)\n",
    "\n",
    "ols_performance_train = BinaryClassificationPerformance(ols.predict(X_train), y_train, 'ols_train')\n",
    "ols_performance_train.compute_measures()\n",
    "print(ols_performance_train.performance_measures)\n",
    "print(\"performance_measures is:\", type(ols_performance_train.performance_measures))"
   ]
  },
  {
   "cell_type": "markdown",
   "metadata": {},
   "source": [
    "### MODEL: SVM, linear"
   ]
  },
  {
   "cell_type": "code",
   "execution_count": 10,
   "metadata": {},
   "outputs": [
    {
     "name": "stdout",
     "output_type": "stream",
     "text": [
      "{'Pos': 10000, 'Neg': 10000, 'TP': 10000, 'TN': 10000, 'FP': 0, 'FN': 0, 'Accuracy': 1.0, 'Precision': 1.0, 'Recall': 1.0, 'desc': 'svm_train'}\n"
     ]
    }
   ],
   "source": [
    "from sklearn import linear_model\n",
    "svm = linear_model.SGDClassifier()\n",
    "svm.fit(X_train, y_train)\n",
    "\n",
    "svm_performance_train = BinaryClassificationPerformance(svm.predict(X_train), y_train, 'svm_train')\n",
    "svm_performance_train.compute_measures()\n",
    "print(svm_performance_train.performance_measures)"
   ]
  },
  {
   "cell_type": "markdown",
   "metadata": {},
   "source": [
    "### MODEL: logistic regression"
   ]
  },
  {
   "cell_type": "code",
   "execution_count": 11,
   "metadata": {},
   "outputs": [
    {
     "name": "stdout",
     "output_type": "stream",
     "text": [
      "{'Pos': 10000, 'Neg': 10000, 'TP': 10000, 'TN': 10000, 'FP': 0, 'FN': 0, 'Accuracy': 1.0, 'Precision': 1.0, 'Recall': 1.0, 'desc': 'lgs_train'}\n"
     ]
    }
   ],
   "source": [
    "from sklearn import linear_model\n",
    "lgs = linear_model.SGDClassifier(loss='log')\n",
    "lgs.fit(X_train, y_train)\n",
    "\n",
    "lgs_performance_train = BinaryClassificationPerformance(lgs.predict(X_train), y_train, 'lgs_train')\n",
    "lgs_performance_train.compute_measures()\n",
    "print(lgs_performance_train.performance_measures)"
   ]
  },
  {
   "cell_type": "markdown",
   "metadata": {},
   "source": [
    "### MODEL: Naive Bayes"
   ]
  },
  {
   "cell_type": "code",
   "execution_count": 12,
   "metadata": {},
   "outputs": [
    {
     "name": "stdout",
     "output_type": "stream",
     "text": [
      "{'Pos': 10000, 'Neg': 10000, 'TP': 9691, 'TN': 9906, 'FP': 94, 'FN': 309, 'Accuracy': 0.97985, 'Precision': 0.9903934593765968, 'Recall': 0.9691, 'desc': 'nbs_train'}\n"
     ]
    }
   ],
   "source": [
    "from sklearn.naive_bayes import MultinomialNB\n",
    "nbs = MultinomialNB()\n",
    "nbs.fit(X_train, y_train)\n",
    "\n",
    "nbs_performance_train = BinaryClassificationPerformance(nbs.predict(X_train), y_train, 'nbs_train')\n",
    "nbs_performance_train.compute_measures()\n",
    "print(nbs_performance_train.performance_measures)"
   ]
  },
  {
   "cell_type": "markdown",
   "metadata": {},
   "source": [
    "### MODEL: Perceptron"
   ]
  },
  {
   "cell_type": "code",
   "execution_count": 13,
   "metadata": {},
   "outputs": [
    {
     "name": "stdout",
     "output_type": "stream",
     "text": [
      "{'Pos': 10000, 'Neg': 10000, 'TP': 10000, 'TN': 10000, 'FP': 0, 'FN': 0, 'Accuracy': 1.0, 'Precision': 1.0, 'Recall': 1.0, 'desc': 'prc_train'}\n"
     ]
    }
   ],
   "source": [
    "from sklearn import linear_model\n",
    "prc = linear_model.SGDClassifier(loss='perceptron')\n",
    "prc.fit(X_train, y_train)\n",
    "\n",
    "prc_performance_train = BinaryClassificationPerformance(prc.predict(X_train), y_train, 'prc_train')\n",
    "prc_performance_train.compute_measures()\n",
    "print(prc_performance_train.performance_measures)"
   ]
  },
  {
   "cell_type": "markdown",
   "metadata": {},
   "source": [
    "### MODEL: Ridge Regression Classifier"
   ]
  },
  {
   "cell_type": "code",
   "execution_count": 14,
   "metadata": {},
   "outputs": [
    {
     "name": "stdout",
     "output_type": "stream",
     "text": [
      "{'Pos': 10000, 'Neg': 10000, 'TP': 10000, 'TN': 10000, 'FP': 0, 'FN': 0, 'Accuracy': 1.0, 'Precision': 1.0, 'Recall': 1.0, 'desc': 'rdg_train'}\n"
     ]
    }
   ],
   "source": [
    "from sklearn import linear_model\n",
    "rdg = linear_model.RidgeClassifier()\n",
    "rdg.fit(X_train, y_train)\n",
    "\n",
    "rdg_performance_train = BinaryClassificationPerformance(rdg.predict(X_train), y_train, 'rdg_train')\n",
    "rdg_performance_train.compute_measures()\n",
    "print(rdg_performance_train.performance_measures)"
   ]
  },
  {
   "cell_type": "markdown",
   "metadata": {},
   "source": [
    "### MODEL: Random Forest Classifier"
   ]
  },
  {
   "cell_type": "code",
   "execution_count": 15,
   "metadata": {},
   "outputs": [
    {
     "name": "stdout",
     "output_type": "stream",
     "text": [
      "{'Pos': 10000, 'Neg': 10000, 'TP': 8293, 'TN': 7428, 'FP': 2572, 'FN': 1707, 'Accuracy': 0.78605, 'Precision': 0.7632765761619881, 'Recall': 0.8293, 'desc': 'rdf_train'}\n"
     ]
    }
   ],
   "source": [
    "from sklearn.ensemble import RandomForestClassifier\n",
    "rdf = RandomForestClassifier(max_depth=2, random_state=0)\n",
    "rdf.fit(X_train, y_train)\n",
    "\n",
    "rdf_performance_train = BinaryClassificationPerformance(rdf.predict(X_train), y_train, 'rdf_train')\n",
    "rdf_performance_train.compute_measures()\n",
    "print(rdf_performance_train.performance_measures)"
   ]
  },
  {
   "cell_type": "markdown",
   "metadata": {},
   "source": [
    "### ROC plot to compare performance of various models and fits"
   ]
  },
  {
   "cell_type": "code",
   "execution_count": 16,
   "metadata": {
    "scrolled": false
   },
   "outputs": [
    {
     "data": {
      "image/png": "[encoded data removed]",
      "text/plain": [
       "<Figure size 432x288 with 1 Axes>"
      ]
     },
     "metadata": {
      "needs_background": "light"
     },
     "output_type": "display_data"
    }
   ],
   "source": [
    "fits = [ols_performance_train, svm_performance_train, lgs_performance_train, nbs_performance_train, prc_performance_train, rdg_performance_train, rdf_performance_train]\n",
    "\n",
    "fig = plt.subplots(figsize=(6, 4))\n",
    "\n",
    "for fit in fits:\n",
    "    plt.plot(fit.performance_measures['FP'] / fit.performance_measures['Neg'], \n",
    "             fit.performance_measures['TP'] / fit.performance_measures['Pos'], 'bo')\n",
    "    plt.text(fit.performance_measures['FP'] / fit.performance_measures['Neg'], \n",
    "             fit.performance_measures['TP'] / fit.performance_measures['Pos'], fit.desc)\n",
    "plt.axis([0, 1, 0.4, 1])\n",
    "plt.yticks(np.arange(0.4, 1, 0.05))\n",
    "plt.title('ROC plot: test set')\n",
    "plt.ylabel('True positive rate')\n",
    "plt.xlabel('False positive rate')\n",
    "plt.show()"
   ]
  },
  {
   "cell_type": "markdown",
   "metadata": {},
   "source": [
    "### Create Pivot Table"
   ]
  },
  {
   "cell_type": "code",
   "execution_count": 17,
   "metadata": {},
   "outputs": [
    {
     "name": "stdout",
     "output_type": "stream",
     "text": [
      "                   True Positive Rate  False Positive Rate\n",
      "Rows                                                      \n",
      "logistic reg                   1.0000               0.0000\n",
      "perceptron                     1.0000               0.0000\n",
      "ridge reg                      1.0000               0.0000\n",
      "support vector                 1.0000               0.0000\n",
      "naive bayes                    0.9691               0.0094\n",
      "random forest                  0.8293               0.2572\n",
      "ordinary least sq              0.5026               0.5017\n"
     ]
    }
   ],
   "source": [
    "fits = [ols_performance_train, svm_performance_train, lgs_performance_train, nbs_performance_train, prc_performance_train, rdg_performance_train, rdf_performance_train]\n",
    "\n",
    "TP_rate =[]\n",
    "FP_rate =[]\n",
    "rows = ['ordinary least sq','support vector','logistic reg','naive bayes','perceptron','ridge reg','random forest']\n",
    "for fit in fits:\n",
    "    FP_rate.append(fit.performance_measures['FP'] / fit.performance_measures['Neg'])\n",
    "    TP_rate.append(fit.performance_measures['TP'] / fit.performance_measures['Pos'])\n",
    "    \n",
    "df = pd.DataFrame({\"True Positive Rate\":TP_rate, \"False Positive Rate\": FP_rate, \"Rows\": rows})\n",
    "train_table = pd.pivot_table(df, values=[\"True Positive Rate\",\"False Positive Rate\"], index=[\"Rows\"]).sort_values(by=['True Positive Rate'],ascending=False)\n",
    "\n",
    "column_order=[\"True Positive Rate\",\"False Positive Rate\"]\n",
    "train_table = train_table.reindex(column_order, axis=1)\n",
    "\n",
    "print(train_table)"
   ]
  },
  {
   "cell_type": "markdown",
   "metadata": {},
   "source": [
    "### looking at reviews based on their classification\n",
    "\n",
    "Let's say we decide that Ordinary Least Squares (OLS) Regression is the best model for generalization. Let's take a look at some of the reviews and try to make a (subjective) determination of whether it's generalizing well. "
   ]
  },
  {
   "cell_type": "code",
   "execution_count": 19,
   "metadata": {},
   "outputs": [],
   "source": [
    "ols_predictions = ols.predict(X_train)"
   ]
  },
  {
   "cell_type": "markdown",
   "metadata": {},
   "source": [
    "### let's look at some false positives:"
   ]
  },
  {
   "cell_type": "code",
   "execution_count": 20,
   "metadata": {},
   "outputs": [
    {
     "name": "stdout",
     "output_type": "stream",
     "text": [
      "Examples of false positives:\n",
      "117\n",
      "One of the worst films I have ever had the displeasure of sitting through, Killer Tongue is a horrible melange of the worst elements of The Rocky Horror Picture Show, Brain Damage, and Pulp Fiction. Designed primarily to offend, apparently, but so inane that only the most hidebound conservatives would be taken in by it.\n",
      "* * * * * * * * * \n",
      "220\n",
      "I rented this one on DVD without any prior knowledge. I was suspicious seeing Michael Madsen appearing in a movie I have never heard of, but it was a freebie, so why not check it out.<br /><br />Well my guess is that Mr. Blonde would very much like to forget he's ever taken part in such a shame of a film.<br /><br />Apparently, if your script and dialogs are terrible, even good actors cannot save the day. Not to mention the amateur actors that flood this film. Too many non-native-English-speakers play parts of native-English-speakers, reading out lines from a script that should have been thrown away and not having been made into a movie. It's unbelievable how unbelievable all the lines in the movie sound. The music is awful and totally out of place, and the whole thing looks and sounds like a poor school play.<br /><br />I recommend you watch it just so you would appreciate other, better, movies. This is why I gave it a 3 instead of the 1 it deserves.\n",
      "* * * * * * * * * \n",
      "260\n",
      "This is just horrible, really horrible trash. Yes, we've got beautiful naked women dancing and having sex. But while this may work in the mechanism of a porn movie  may have even been a hit as a porn movie  this tries to mask itself as a \\film\\\" with actual things to say, with real emotion and struggle. It isn't. It's an excuse to get some girls naked and have a fun time. I'm sure all of these women (and men) in this particular movie could have faired decently in the porn movie business of the 1970s . . . but not in the actual movie business.<br /><br />The acting was hackneyed, so bad, I mean real terrible. The writing was even worse. I can't lay all blame on these actors  they had nothing to work with. The very broad structure or plot of the movie could possibly be done and done well with good writers and competent actors. The very broad structure or plot is that of a psychotic man who spends his time shooting people from afar, as a sniper. These shootings were motivated from men not respecting their women enough. If there was more writing - better writing, much better writing - and less gratuitous sexual imagery we might have something to work with.<br /><br />This movie should have been shot, made and marketed a hardcore porn movie all along; it would have made more money. It practically is a hardcore porn film already, and it remains the only non-porn movie I've seen that shows a male erect penis.\"\n",
      "* * * * * * * * * \n",
      "286\n",
      "I really wanted to like this movie, but it was just imposable. The acting was ultra hammy, the plot was annoying, and the pace was SLOW, sooo slowwwwww. The whole time sitting in the theater i wanted the movie to end. Twenty minuets into a films and I'm praying for an ending. Sure some of the visuals were nice, but c'mon guys, I mean really! And for a movie about a guy tuning magical instruments there really wasn't much music to speak of. The music there was was annoying, and boring. There were sound loud shrill sounds at times too, those were also annoying. Mainly this film managed to bore me, and creep me out at the same time.<br /><br />I'm glad its over. I need to go see \\Tideland\\\" and wash this bad taste out of my mouth.\"\n",
      "* * * * * * * * * \n",
      "307\n",
      "Hallam Foe tells us the story about a boy who lost his mother and experiences some sort of Oedepus complex afterward.<br /><br />It is something like 95 minutes long but would be better in ten. There's like an hour in the middle where he is doing climbing practice on rooftops, and habits in a church tower like Quasimodo (only he is much less sympathetic).<br /><br />There's a strange love story involved which doesn't have anything to do with anything. She happens to look like his mother, yes so what? We know he misses his mother, that's what the first ten minutes were about. They should just have put the beginning and ending together and it would have been a O.K. short film. Now it's a portrait of a character who doesn't change. He is a guy that stuff happens to. The only active choice he has in the whole middle of the movie is to apply for a job.<br /><br />There's this whole Oedepus thing going on which is supposed to make us analyze his character. He paints his face, dresses in women's clothing and wears a dead Badger on his head. A Badger! You've got to see the ending! He returns to his home with the badger on his head (and it is shot like a tacky Horror film) to kill his dad's new wife (which he had sex with in the beginning). And somehow they thought this wouldn't be entertaining enough so they put some indie punk music in the background. I've got to admit though, I'm kind of allergic to films that want to write a psychological complex on your nose. It feels like this MacKenzie director/guy/whatever is trying to show us that he also has been studying psychology in school. You are so smart! Thank you for bringing all these forgotten theories back into our memories! You really dug! What a Wallraff! Okay so now I realized this film is based on some random book, but anyway..<br /><br />Photowise it is boring. A lot of talking heads. Plus the editor has changed the colors from scene to scene, you know cold and warm etc.. why? maybe \\Hallam Foe\\\" is both a feature and a test film for color blind people. Or maybe they just thought that the drama wouldn't be enough to tell us that he feels lonely, so they increased blue so that we really get it.<br /><br />I'm not even gonna comment on the cliché indie-oh-how-how-how-cute drawings they have made in the presentation. And all the \\\"cute\\\" sex stuff going on. This whole film is an independent cliché. But I do recommend it. I laughed more than a few times. Though it is really annoying to be a film student and to see how crap like this gets through the machine.\"\n",
      "* * * * * * * * * \n",
      "461\n",
      "I'm an incorrigible skeptic and agnostic and was thus expecting to enjoy this film. After watching it, however, I honestly believe that I could have made a better documentary myself. Its arguments appear to have only four spurious sources (despite his being listed in the credits on IMDb I didn't see Richard Dawkins anywhere), it's edited together crudely with laughably amateurish computer effects, and it doesn't make even the slightest attempt to appear impartial. The narration is pervaded throughout with a sneering, almost adolescent anti-Christian sentiment, ruining any possibility that the film might actually change someone's mind as opposed to just preaching to the choir (i.e. me). Though there is some interesting discussion of the historicity of Jesus, the movie hits an unbearable snag when it begins to dwell heavily on the Christian school which the director attended as a child, an institution which apparently scarred him badly psychologically as it obsesses him to this day.<br /><br />Though TGWWT obviously had a low budget, there was still an opportunity here to make an intelligent commentary on the highly questionable roots of Christianity. There's certainly a dearth of skeptically-minded religious documentaries on the market, and this film could have helped fill the void. Instead, the director chose to insult our intelligence with this piece of garbage, which in the end appears to be some sort of therapeutic exercise for him. It's too bad that his Christian upbringing traumatized him, but he needn't subject an audience to his coping mechanism.\n",
      "* * * * * * * * * \n",
      "532\n",
      "Every generation fully believes it is living in the end times. This has been true for thousands of years now. And movies like this feed on this. How did they get the great Orson Welles to narrate this train wreck? This is a documentary about the biblical prophecies of Armageddon. It tries to link the prophecies as well as it can to what was happening in the times it was made, making it obviously dated and kind of silly.<br /><br />The reenactments look like they are out of \\Unsolved Mysteries\\\" but without the high production values. People should have been embarrassed to take part in this.<br /><br />In short, the movie is dated, silly, reactionary, and useless. Good if you want a good laugh, but not good enough to actually look for.\"\n",
      "* * * * * * * * * \n",
      "639\n",
      "I think it's time John Rambo move on with his life and try to put Vietnam behind him. This series is getting old and Rambo is no longer a solider but a cold blooded killer. Ever time he turns up on the screen someone dies. Vietnam was not a fun place to be and frankly I am tired of Hollywood making it seem like it was. This is not the worst of the films concerning Vietnam, that honor goes to John Waynes Green Berets. In any case John Rambo carrying around a 50 cal Machine Gun taking on what seems to be half of the Viet Cong army plus a good many Russians is an insult to watch. What is worse is Rambos cheesy speech at the end...Please!! Oh yeah I heard they are making another one...\n",
      "* * * * * * * * * \n",
      "653\n",
      "Watching \\Der himmel über Berlin\\\" as a teen in the late 80's was a profound experience for me - \\\"so this was what the movies could be\\\". Along with \\\"Paris, Texas\\\" and \\\"Until the End of the World\\\" it still holds a special place in my heart and mind - a testament to the genius of Wim Wenders.<br /><br />Unfortunately later years has seen a steady decline in the quality of his work with \\\"Million Dollar Hotel\\\" and \\\"Land of Plenty\\\" hitting a terrible low point. Gone are the captivating pictures or music. No search for or display of great insight. All that is left are characters and thinly veiled political statements, that boils down to nothing but clichés, and quite frankly mock the intelligence of a mature audience.<br /><br />Has the well run dry? Whatever the reason, it's time for Mr. Wenders to either step it up or stop altogether.\"\n",
      "* * * * * * * * * \n",
      "757\n",
      "Oh, what a bad, bad, very bad movie! Cowritten by and starring Sylvester Stallonethat should have been enoughand featuring too many rock-climbing scenes, vertigo, falling, and scene-chewing villains and a botched airborne heist. There are two plots, both lame. One involves a traumatic failed rescue, and the other involves bad people wrecking an airplane for booty, and killing various harmless people whenever possible. The usually reliable John Lithgow, perhaps depressed by the sheer awfulness of the product, is reduced to sneering and calling those for whom he doesn't care \\Bostid!\\\" in a vague approximation of an English accent. Janine Turner, who was sprightly and enigmatic when she played Maggie on Northern Exposure, is sadly wasted in the part of a rescue climber and pilot. Stallone is stolid and muscle-headed. No deathless lines in this one. No living lines, either.\"\n",
      "* * * * * * * * * \n",
      "1011\n",
      "Couldn't believe it! Clipped sentences? Good grief! Know what? All true! Real people ever talk like this? Don't think so. Good girl! Stout fellow! Stiffen upper lip! Only reason given movie 2 instead of 0 Gary Cooper such a dish. Movie as a whole ridiculous unless you like watching endless biplane dogfights. Seemed endless, anyway. Think all Franchot Tone's dialogue dubbed. When Crawford and Young make a special effort to sound British they come over as Irish. Handy tip - we Brits clip words, not sentences. And somehow we manage to draaaaaaaawl at the same time. But that's only if we've been to a really good public (that's private to you) school.\n",
      "* * * * * * * * * \n",
      "1081\n",
      "The guy did a lot of title design for a bunch of movies and I guess one day he said; I should pick a cheap scenario, try to put as much title in it as a can ( cause after all i'm a title designer ) and try to persuade people that this is in fact a movie. One of the worst i've even seen that's for sure. If you fell the urge to see nice titles, go check out some posters don't waste your time watching this.<br /><br />It kinda ironic don't you think, did you saw the poster? the only part of his project that SHOULD had title work done have almost none !\n",
      "* * * * * * * * * \n",
      "1085\n",
      "This TV-made thriller is all talk, little action. It works hard to set up its convoluted plot, yet the writing is so muddled the exposition is still cloudy at best. By the end, I knew no more about these characters than I did at the beginning. It has a quasi-\\Ten Little Indians\\\" scenario, but ditches it mid-way through in favor of spotlighting Sally Field and her uncovering of a killer. Field overacts here with a gracelessness I've seldom seen from her. The early introductions are good, but the writing quickly strays off-course and eventually goes over the top. Lots of hysteria, and constant thunder and lightning effects (which adds nothing). A curious failure from producers Aaron Spelling & Leonard Goldberg. With all this talent, couldn't they give us something more than a script full of red herrings and Sally Field hiding in a closet?\"\n",
      "* * * * * * * * * \n",
      "1087\n",
      "**WARNING: POSSIBLE SPOILER**<br /><br />If you can get by the extremely unpleasant subject matter, this film does offer a heaping helping of outrageously campy melodrama. Surprisingly enough, this movie has been copied and ripped-off several times over the years, although it's hard to fathom ANY filmmaker being inspired by this trashy drama. Neither one of the Hemingway women can act here (although Mariel HAS improved over the years), Anne Bancroft offers the only touch of class as a prosecuting attorney, and Chris Sarandon is by turns pathetic and unintentionally hilarious as the smirking, smarmy bad guy of the piece.<br /><br />Veteran director Lamont Johnson can't make a silk purse out of this sow's ear of a script, which is stuffed to bursting with howlingly bad dialogue and outlandish situations. For example, the final sequence, where Margaux grabs her shotgun and chases Sarandon down after his latest shocking act is meant to be exciting but elicits hearty chuckles instead. Add a notoriously shrill and spacy musical score by Michel Polnareff and you have a true guilty pleasure, even though you're likely to feel grubby and needing a hot shower after viewing it. Don't say you weren't warned.\n",
      "* * * * * * * * * \n",
      "1088\n",
      "I'll admit that I don't expect much from a Roger Corman film. Generally, I expect a lot of walking and bad scripts. Yet in this case, I am pleasantly surprised.<br /><br />The Gunslinger is a story of a woman (played by the spunky Beverly Garland) who takes over as sheriff after her husband is brutally murdered. Ms. Garland is a pretty good shot herself, killing one of the murderers the next day at her husband's funeral. Her first task is to shut down the local bar that is violating the town curfew. The bar's owner is trying to buy land in anticipation of being bought out by the (hoped-for) railroad. However, Ms. Garland is a thorn in her plans, and the bar matron hires a man to kill Ms. Garland.<br /><br />Because of Ms. Garland's plays her role honestly and realistically, there is absolutely no temptation to go to Suzanne Somers \\She's the Sheriff\\\" jokes. With the exception of a couple of faux pas (the apartment door that opens OUT from the inside, jeep tracks, and the two horsemen waiting on screen for their cue to ride around a corner), the movie becomes quite passable as movie fare. However, Corman could not resist padding his film with horse riding scenes, much like he does walking in other films.<br /><br />Sterno says The Gunslinger is a horse opera worth your time.\"\n",
      "* * * * * * * * * \n",
      "1106\n",
      "this movie had more holes than a piece of swiss cheese. Ben Affleck was seriously NOT trying to act in any way, shape, or form. He outright sucked. Nothing about the movie was believable. The first problems were in the intro- where the man gives everything of value to the Salvation Army Santa Claus but it doesn't show why. And then the granny sticks her head in the oven- really beautiful, and has absolutely nothing to do with the movie- it's not even in the same tone as the movie. There was no explanation of the motivation for Ben Affleck to choose the house he chose; there was not any believable reactions by the family he chose; and people are swayed here and there without any cause to be swayed (Example: Christina Applegate and Ben Affleck's characters go tobogganing down a steep slope- this is the incident that makes her suddenly fall in love with him. Riiiight...) Anyway, there was a funny moment or two- but they were a rarity in the movie. It seriously needed another rewrite (or 4). Hope you enjoy!\n",
      "* * * * * * * * * \n",
      "1195\n",
      "Someone told me that this was one of the best adult movies to date. I have since discredited everything told to me by this individual after seeing this movie. It's just terrible. Without going into lengthy descriptions of the various scenes, take my word for it, the sex scenes are uninteresting at best. Jenna in normal street clothes in the beginning was the highlight of the film (she does look good) but it's all downhill from there.\n",
      "* * * * * * * * * \n",
      "1287\n",
      "I've always liked Fred MacMurray, andalthough her career was tragically cut shortI think Carole Lombard is fun to watch. Pair these two major and attractive stars together, add top supporting players like Jean Dixon, Anthony Quinn, Dorothy Lamour and Charles Butterworth, give them a romantic script, team them with noted director Mitchell Leisen and you get",
      "a mediocre movie experience.<br /><br />Skid Johnson (Fred) and Maggie (Carole) \\meet cute\\\" during her visit to the Panama Canal, and spend the next few weeks falling in love. Skid's a great trumpeter, so he embarks on a musical career, which is predictably meteoric in both its rise and fall. During his climb to musical stardom, he neglects Maggie, who later inspires him to start over after he's hit rock bottom. Ah, yes",
      "it's the true Hollywood happy ending, which comes none too soon.<br /><br />Stars and a director of this caliber should guarantee success, but this movie is so predictable and slow-paced that it's difficult to watch at times. The early scenes set in Panama are so draggy that they seem to go on forever, and later an alcoholic Skid just wanders endlessly in New York. Fred and Carole try their best, but the tired script and S-L-O-W direction just don't give them a chance. Even the final scene, in which Maggie encourages Skid to rise from the ashes of alcohol and disappointment, just doesn't ring true.<br /><br />This movie should be seen once to watch some early performances from stars MacMurray and Lombard. However, I guarantee that watching it will seem to take about 48 hours.\"\n",
      "* * * * * * * * * \n",
      "1328\n",
      "Spirit of a murdered high school geek animates a scarecrow which then takes revenge on everyone.<br /><br />This movie really annoyed me. It has a great looking monster, has some good low budget effects, some atmosphere but manages to short circuit the good stuff with bad. Half way in I started to fast forward and then step through the chapters on the DVD.<br /><br />The problems with this movie are many. First off the cast looks about thirty and yet they are suppose to be in high school. You don't believe anything from the get go as a result. The scarecrow, while looking great isn't much beyond that. He says stupid one liners and moves in a manner more designed to be funny then scary. Is this a comedy or a horror movie? Its a problem that goes beyond the one liners to much of the dialog and set up. It seems more send up of every cliché than heartfelt horror film. I some how expect that the film was made for a very narrow audience in mind, horror fans who want to mock the genre rather than embrace it.<br /><br />Despite the good looking monster this is a film to avoid. Even if you pick it up in the bargain bin for under five bucks, you're paying too much.<br /><br />Avoid.\n",
      "* * * * * * * * * \n",
      "1424\n",
      "I wanted to vote zero or lower. I loved the commentary. It IS the worst movie ever made and 'unendurable' is the perfect word for it, unless there is something worse that Roget never thought of. I am also at a loss to think of anything negative enough to accurately describe Bo Derek. The best that could be said of her is, she's consistent.\n",
      "* * * * * * * * * \n",
      "1646\n",
      "Just got back from a free screening and I'm very glad I didn't pay to see this very sub-par film. The theater was full and the crowd was a mix of kids and adults. It seemed like it was just the kids who were laughing at all the slap-stick and fart jokes though (good god they loved to hit these poor mice in the crotch a lot!). The movie is pretty juvenile, unintelligent, predictable, and mostly annoying. The characters just seem to be thrown together to fill in empty space and the relationships between them all seemed very forced with no charm at all.<br /><br />Visually, the film is about average with nothing that really stands out. They did a decent job of mimicking the clay look from Wallace and Gromit, but other than that it's very forgettable imagery.<br /><br />Although I was really bored throughout the whole film, I chuckled a couple times. It's not an absolute failure, but I most definitely would not want to watch it again. If you're a parent with kids (and you don't care that your kids see mindless cheap-jokes) then feel free to take them to see it, but everyone else shouldn't waste their money.\n",
      "* * * * * * * * * \n",
      "1730\n",
      "Whatever rating I give BOOM is only because of the superb location photography of Sardinia and Rome. Otherwise, this is only for hardcore addicts of ELIZABETH TAYLOR (her downward phase), and RICHARD BURTON (his miscasting phase). Tennessee Williams wrote \\The Milk Train Doesn't Stop Here Anymore\\\" and is supposed to be very fond of this adaptation of his play--but apparently, he was the only one. Taylor reportedly hated it and Burton needed the money.<br /><br />Whatever, it amounts to a hill of beans with Taylor posturing and fuming in her shrill manner, exploding at the servants and exchanging bad baby-talk with no less than NOEL COWARD who seems to be a visitor from another film when he finally appears.<br /><br />It's so campy that among Taylor fans it's probably considered a \\\"must see\\\" kind of thing. But if you can sit through this one without a drink in your hand, you're way ahead of me. Sadly, this is the film that signified the end of Taylor being taken seriously as a film actress, even after winning two Oscars. For Burton, it was equally disastrous and the critics called it a BOMB. Judge for yourself if you dare.\"\n",
      "* * * * * * * * * \n",
      "1731\n",
      "There was nothing about this movie that I liked. It was so obviously low-budget with bad lighting and camera work (almost like Blair Witch Project, only it wasn't supposed to be that way). There wasn't really much to the plot, and the movie just drug on and on. I actually fast-forwarded through the last 1/3 of the movies, but that did not help matters much. It looked like it might be good from the box, but I must say again: nothing about this movie even resembled good. No good actors, the special effects were so fake, the camera work was horrible, and the dialogue was painfully terrible. On my own personal scale, I give this movie a 0 of 10. Yikes!\n",
      "* * * * * * * * * \n",
      "1746\n",
      "I'm at this very moment debating whether I should even finish watching this \\poppycock\\\" of a movie. They had a pretty interesting idea, with the buried movie set, and that was it. So far this incomprehensible mess has no real story. There is the buried set, some wolf headed monster running amok, an amulet, and a bunch of bad actors attacked by the wolf masked whatever it is. What I would have missed, had I had the good sense to eject this nonsense is a dune buggy chase, some really bad C.G.I., some incredibly stupid dialog, more bad C.G.I., and the hero fighting paper cut outs. Other than the original idea, this film has absolutely zero redeeming qualities. My mistake for continuing to watch. - MERK\"\n",
      "* * * * * * * * * \n",
      "1751\n",
      "Yay!... I think. It's hard to say. It's hard to have an emotion about a movie that has no emotion. This movie is as sterile as a surgeon's scalpel. For a setting, it has a few stone pillars, some stone seats, a couple stone crosses and some stone actors. They have no emotion! The only thing that saves this movie is the fact that it is Hamlet, and Hamlet is a terrificly written piece of literature. The dubbing really wasn't all that bad though. The voices stuck true to the dull, gloomy, dreary, life-sucking atmosphere the movie gave forth. I have seen this version of Hamlet on the fabulous Mystery Science Theater 3000 three times, and each of the three times, I was on the brink of turning off the TV, despite it being MST 3K.<br /><br />Not an uplifting production of a drama that deserves so much better.\n",
      "* * * * * * * * * \n",
      "1816\n",
      "Somehow they summed up the 60's, ten years that radically changed our country, in four hours. And what a painful four hours it was. They trivilized the major events and happenings and they \\claimed\\\" it was about two families yet you barely saw the african-american family. If I were NBC I would be ashamed and embarrassed for airing such trash. What was amusing was this happy-go-lucky family you saw in the very beginning was tortured in so many ways, but managed to attend every major 60's event through the country. And the second family was such a non-factor. They devoted maybe five or six scenes total to this family. That poor son... Please NBC, do not make any movies about any other eras....leave that to PBS and the History Channel\"\n",
      "* * * * * * * * * \n",
      "1852\n",
      "Fans of goremeister Herschell Gordon Lewis should look elsewhere if they are picking up this film for his usual buckets of blood being sloshed about, for there is precious little in the way of bloodletting in this film. Instead, Lewis decides to try and tell the bizarre story, relying on bargain-basement special effects on a budget which could have probably been doubled if the cast had turned out their pockets for change one day. Oddly enough, while cheap and very poorly acted (especially by McCabe as Mitchell), the total outlandishness of the plot keeps attention throughout. Imagine what this film could have been like with a decent budget! Overall, it strains for champagne tastes on a beer budget.\n",
      "* * * * * * * * * \n",
      "1969\n",
      "I went to see this with my wife and 3 yr old son. He seemed to like it a lot more than my wife and I did. The writing is surprisingly poor for a pixar / Disney excursion. In fact, I had a very hard time paying attention at all. The movie does look amazing but the story just becomes so weird and long winded that I was hoping my son would fall asleep so I could pick him up and walk out.<br /><br />Not to say that the film isn't an interesting concept, it's just told so oddly, (bad screenplay?) especially when we \\meet the family\\\" for the first time. I know we're supposed to get the impression that the family is wacky but good lord, they could've shortened that sequence by a good 15 minutes (seemingly, I didn't actually time it). By that point I was scratching my head looking for an exit.\"\n",
      "* * * * * * * * * \n",
      "1980\n",
      "The movie itself is not too bad; many comments have pointed out the obvious flaws of the script, but it is watchable. What really gives me the creeps though is that people like Justin Timberlake even get cast for movies, and on top of that for movies like this one. I have to admit I had never heard the man's name before watching this, but the very instant he appeared I was just plain annoyed. The voice is crap, the face is a bad rip-off of Legolas, the posture is horrible, and he cannot even properly coordinate all three of them. Said to say, I was delighted when he got jumped after leaving the disco, because I was hoping from then on it would be Morgan Freeman and Kevin Spacey only. Too bad I was wrong. These two and also LL Cool J give a very decent performance, and they are the main reason I give this a 4. <br /><br />I see many upcoming movies with the little Timberlake cast... and cannot believe it.\n",
      "* * * * * * * * * \n",
      "1983\n",
      "This 30 minute documentary Buñuel made in the early 1930's about one of Spain's poorest regions is, in my opinion, one of his weakest films. First, let's admit that 70 years later, Spain is much richer than it was then (and when I say this, I fully admit that wealth can bring problems of its own, like excessive individualism and consumerism, though all in all wealth it's a far better condition than the extreme poverty portrayed here). And if poverty receded in Spain it was not exactly with the sort of socialism that Buñuel favored, but with Western European style capitalism. But one of the most shocking things about the movie is this: in one scene, the narrator chides that in school, children are taught the value of Pi. Teaching math to poor people, the horror!. Buñuel shortsightedness is at its most glaring here, not realizing that it is access to the latest knowledge and technology what will help the poor overcome their situation. What is he proposing? That children are taught exactly what at school? Doesn't Buñuel understand that it is the lack of modern technology that has made them poor in comparison with other people?\n",
      "* * * * * * * * * \n",
      "1992\n",
      "VERY dull, obvious, tedious Exorcist rip-off featuring a Doberman with red eyes - that's the extent of the special effects in this made-for-tv cheapie. Richard Crenna is about as animate as a chew toy. Very 70's dress & music only add to the torture. Should put you to sleep almost as fast as \\The Corpse Vanishes\\\", or \\\"The Blue Hand\\\". Practically worthless. MooCow says eaghhh what a stinky dog! :=8P\"\n",
      "* * * * * * * * * \n",
      "2018\n",
      "Anyone who has studied any physics or cognitive science will walk out disgusted after 40 min., as my wife and I did. The ignorant masses might be entertained by the hand-waiving arguments and the absurd \\conclusions\\\" drawn (without even an attempt at a logical reason) from real science. I'm offended by such nonsense presented under the guise of \\\"science\\\". I can only conclude that the writers picked up a quantum physics book, didn't understand a word of it, then watched The Matrix about a thousand times, and proceeded to write this movie.<br /><br />For example, the Washington DC crime experiment was done by The Transcendental Meditation Program. A brief search will reveal the science of their methods. (http://www.freedomofmind.com/resourcecenter/groups/t/tm/dissenter.htm)<br /><br />Save your money.\"\n",
      "* * * * * * * * * \n",
      "2048\n",
      "The only redemption was the small part by Larry Miller. It seemed that the movie was trying too hard to be \\Something About Mary,\\\" but I didn't even like that movie and it still fell short of those standards. The actor who plays Paul was great, but Selma Blair is stuck in the stupidity of her Cruel Intentions character. James Brolin was great, but Paul's father seemed like he was trying too hard to be the Randy Quaid character from the National Lampoon's Vacation movies.\"\n",
      "* * * * * * * * * \n",
      "2393\n",
      "I think Micheal Ironsides acting career must be over, if he has to star in this sort of low budge crap. Surely he could do better than waste his time in this rubbish.<br /><br />This movie could be far better, if it had a good budget, but it shows repeatedly through-out the movie. There is one scene at a outpost, which looks like, its outside the front of a railway station, and i bet it was.<br /><br />There is one scene which made give this movie a 3, and it shows the space craft landing and taking off over a lake, surrounded by forests. This was well done, but the rest of the movie, forget it.<br /><br />There is another scene, which looks like a engineering plant, which i bet it, and does not look like a space outpost as the character say it is.<br /><br />This movie is stupid, has a serious low budget, makes no sense and God Help Micheal Ironsides.\n",
      "* * * * * * * * * \n",
      "2494\n",
      "As an Army veteran, I was deeply offended by this film. In my opinion, it is a disgrace to those who fought in the Vietnam war. To say that the real SF soldiers I knew were offended by this crap is an understatement. If the film were presented as satire or even as a cartoon (it was), it would have been better received. But it was taken seriously my many people, especially overseas. Silly as it sounds, wherever I went in Europe in the late 80's people seemed to judge me and Americans in general by this film. Unrealistic? Hmm, let's see. A monosyllabic, muscle-bound cretin is pulled off a prison work gang to go on a secret mission to SE Asia to free some American POW's. In a running battle he kills about 500 enemy soldiers with an M-60 machine gun that never runs out of ammo and never overheats. And he never misses, running with a 32lb gun held up with one arm. I could go on, but I'm getting a headache. I gave this a 2/10 only because it's slightly better than Rambo III.\n",
      "* * * * * * * * * \n",
      "2519\n",
      "After watching this I thought to myself, there are either too few good writers & directors or lots of producers.<br /><br />At any rate, this is a terrible movie. Terrible in a way that it's not fun, but rather makes you grit your teeth and quiver. Makes you shout \\this is wrong\\\" at the movie. Immersion is zero. By now most of you are probably used to the terrible errors/weirdness-es in movies that has computers hackers etc. in them. This movie is like that in every aspect. <br /><br />The only good thing about the movie is the little girl Emily, brilliantly played by Eliza Bennett. I hope she becomes big, and make this ..thing at least worth something.<br /><br />Do yourself a favor. Don't watch this. There is not even proper action in it. Total waste of time.\"\n",
      "* * * * * * * * * \n",
      "2599\n",
      "This film is predictable; it is more predictable then a Vinnie Testaverdi pass, when he huts the ball for the Jets. One saw the ending coming up halfway through the film. The politics reminds me when I was back east. Many people know when the fix is in. I gave this four because of the acting, but the story is lame.\n",
      "* * * * * * * * * \n",
      "2764\n",
      "Horrible film with bits of the Ramones strewn about. Your worse than average 1970's/80's comedy format of the cool kids taking over the school with some whimsical plan. This movie is terrible. The plot consists of a girl who enjoys the Ramones and a school bent on fighting against their oppressive administration. Forget this movie and watch something like Wild Zero starring Guitar Wolf if you want an entertaining B movie. Terrible acting, terrible writing, terrible plot with the stamp of approval of the Ramones who probably needed some money quick so they said yes to this movie. That is the only logical thing I can think of because this movie blows.\n",
      "* * * * * * * * * \n",
      "2931\n",
      "As a Hammer completist I was dreading the time when I would have to raise the courage to watch this film and the one following it, Holiday on the Buses. I had seen One the Buses the film and thought it one of the worst films I have ever seen. It was full of all the awful comedy that plagued British TV screens around the early 70's.<br /><br />I am ashamed to say that there were actually parts of this film that I laughed at. I don't know if it was because I was now familiar with the characters and enjoyed some of the situations, knowing how they would react. I found Blakey particularly funny, although I could swear at no point in the trilogy does he say his catchphrase, \\I'll get you Butler\\\".<br /><br />Having watched Holiday on the Buses the jokes were starting to wear thin and these three films could be compared to an early Hammer trilogy, Dick Barton, in that the second film made is the best (although this is probably the only way they could be compared).<br /><br />The only people who would want to watch this film are probably fans of the TV series, who will no doubt enjoy this, and Hammer completists like myself. To the completists I would say that this film isn't that bad and I can certainly think of worse Hammer comedies.\"\n",
      "* * * * * * * * * \n",
      "2932\n",
      "I guess this movie is a fitting tribute to the first Superman film,as it is just as crummy and painfully long as the original.<br /><br />After an opening scene consisting solely of murky intergalactic visuals, the credits pay homage to the even-crummy-looking-for-their-time futuristic sweeping credits of the original Superman film.<br /><br />Then there is some more murky stuff. Ma Kent sees some kind of murky ruckus on the farm, and spends a good portion of my life slowly walking up to some debris in the cornfield. Then Superman sneaks up on her and faints.<br /><br />Next we catch up with Lex Luthor in a scene about many murky close-ups of an old lady as she dies. We don't see Luthor's face until the end of the scene, an early instance of the film's drive to leave no hackneyed stone unturned. Lex Luthor is a guy who doesn't like Superman because he is not human. Also, he probably doesn't like humans either, as the movie occasionally features some kind of plot about Lex Luthor planning to kill most of Earth's population.<br /><br />After a while, Clark Kent shows up back at his old job (I forgot to mention, he had been away on a five year trip where nothing happened). Then he finds out Lois Lane has an illegitimate kid and is dating Cyclops. It upsets him so much that he loses control of his super strength to such an extent that he accidentally breaks a picture frame.<br /><br />At this point we see that Miss Lane is on some kind of jet attached to some kind of space shuttle. It is some kind of important event on account of it is on television. Then we learn that there are people in a control room monitoring this event. There are also people watching it on television and there are pilots in the cockpit. The film then reminds us that these people are involved by cutting between them for most of the summer.<br /><br />As the events leading up to the inevitable disaster started to build, I excused myself to get a soda. I accidentally walked back into the wrong theater and watched that movie about Al Gore showing slides in its entirety. I tried to find my way back to Superman Returns, but I somehow wandered into Prairie Home Companion, which I watched twice in a row. Then it was time to stop messing around.<br /><br />I walked back into the first theater, found my seat, and looked up to see that the impending Lois Lane space shuttle disaster was almost upon us. Still, it seemed to be taking forever, so I wandered around the theater, met a girl, got married, raised a son and sent him off to college. While attending my son's medical school graduation, I remembered that I should probably check in on Superman Returns, so I excused myself and raced back to the theater only to learn there was no need to hurry. It still took about another half hour before things went wrong for Space Shuttle Lane. When they did, Superman saved everybody, which was pretty cool.<br /><br />. And then there is a a subplot where Superman turns really creepy and starts stalking Lois Lane and her family with his x-ray vision and super-hearing. Then he tries to get her to cheat on Cyclops, who seems like a good guy.<br /><br />Meanwhile, Lex Luthor is involved in some kind of contest to display every possible generic villain behavior before the end of the movie. I forgot to bring my scorecard home with me (they give you one at the door), but I think he scored damn close to one hundred percent. I hope he wins the million dollars.<br /><br />At this point, things start to gear up for the big murky finale. I think maybe the projector was broken, on account of the movie seemed to be in some kind of loop for a while here. I remember seeing murky things growing out of the water, Superman getting sick, Superman getting better, back to the murky things, he's sick again, no wait, he's okay again.<br /><br />Then Lex Luthor unleashed his final bad guy move: yelling at his girlfriend a little bit.<br /><br />Then Superman died and came back to life. I thought the movie was over, so I left.<br /><br />Ninety years later, the nursing home where I lived felt a little chilly. I realized I left my sweatshirt back in the theater, and I went to retrieve it. When I did, I was slightly surprised to find that Superman Returns wasn't over yet. I tried to ask some of the viewers what I missed, but most of them were only skeletons with long gray beards by now.<br /><br />I sat back in my old seat and watched as Lois Lane puttered around her house for a while. Then Superman showed up and started quoting the beginning of the movie, and since I already saw that part I thought it was okay to leave.<br /><br />So that is my review of Superman Returns.<br /><br />Oh, also, if you like jokes about people eating dogs or jokes about one dog eating another dog, you will love this movie. On account of there are two jokes like that in it.\n",
      "* * * * * * * * * \n",
      "2999\n",
      "What ever possessed Martin Scorcese to remake this film? And not only did he remake it, completely ruin it? The nonsensical decision to make the character played by Robert DeNiro (in his most overdone performance, and that's saying a lot) into a religious fanatic is ridiculous, and exemplary of attitudes harbored by Hollywood (and Mr. Scorcese especially)- attitudes that compel writers to think that the best way to make a character insane is to tattoo a crucifix on his back. In any case, this movie is awful. <br /><br />\n",
      "* * * * * * * * * \n",
      "3081\n",
      "My brother is an avid DVD collector. He took one look at the cover (two models on toilets) and had to add it to his collection. I stayed up with him to watch what turned out to be likely the most cringeable movie (I use that term loosely) I've felt obligated to sit through. I dared not make eye contact with my brother, quite certain he must have been cursing the receipt in his clenched fist. The biggest name in the whole movie is Michael Clark Duncan who appears in one scene, which the \\filmmaker\\\" decided to show every take of (about four total) throughout the movie. In fact, the whole movie pretty much follows this suit. The fact that the DVD contained deleted footage was a shock. (I went to bed without viewing it, however). To no surprise at all, I found this disc without its case behind the TV about a week later.\"\n",
      "* * * * * * * * * \n",
      "3512\n",
      "A real blow-up of the film literally. This British film is boringly made.<br /><br />What an exciting plot! A terrorist places bombs on a train. How could the writers and producers of this stinker turn this into such a dull story?<br /><br />Glenn Ford, as the expert called upon to defuse the bomb, is given awful writing material to work with. Naturally, just as he is called in, his wife, Anne Vernon, is about to leave him. No wonder we never heard of Miss Vernon. After such a film, it would be enough to end her career.<br /><br />That elderly man who loved trains and interferes is our 1953 version of senile dementia. I thought it was highly insulting to show this man, even at the end.\n",
      "* * * * * * * * * \n",
      "3597\n",
      "After seeing the trailer of this film in the cinema, i thought that it was an original concept for a thriller, setting it in the competitive world of computer companies. The all star cast was another message that this film would probably be good. But when i didn't go to watch it in it's first week of release then it disappeared by week 2 i feared something was a miss. Patiently i waited for it's DVD release, then bought it rushing home for an enjoyable evening's viewing. The anticipation on the way home was far better than the film. For a start the direction is appalling. There's no thought gone into it at all and the director just makes up a part for himself, so he can appear in the film. I wouldn't be rushing out to employ him in the future. Secondly the lead role is completely miscast as Ryan Phillipe. Phillipe normally the cool character as in Cruel Intentions and Way of the Gun but in this he's supposed to be a bumbling hero which he attempts to portray by slipping when he's running and having geeky friends, but he just doesn't look right. The female stars, Rachel Leigh Cook and Clare Forlani don't feature enough but when they do neither of the performances are close to their bests. The only highlight of the film is Tim Robbins in a role that could have been made for him and it's his fiery temper and mysterious ways that drag the film along. The final point is that this film is another one which fills the trailer with scenes you don't see in the film and instead feature only in the deleted scenes section of the DVD. Causing even more disappointment as although some of these scenes are crude they do fill in important gaps in the story.\n",
      "* * * * * * * * * \n",
      "3753\n",
      "Look, I loved the PROPER Anchorman film, but this was reaaaaallly bad. The kind of bad that makes you wish you could get that time back in your life, the kind of bad that makes you think \\what on Earth were they thinking to film this in the first place\\\", the kind of bad that makes you wish you'd taken 50 more minutes when stepping into the kitchen to grab a snack during the film, the kind of bad that makes leprosy look fun, the kind of bad that makes you think you wish you rented a Pauly Shore film instead....seriously, I cannot explain how very bad this was.<br /><br />Having said that....there were some semi-amusing laughs, but they are all so much LESS funny than Anchorman. Sure, they tried to make it entertaining and fun, but the entire subplot that was left out of Anchorman that made it here was genuinely left out for a good reason...it wasn't even a little bit good.<br /><br />Do yourself a favour (or in the USA, a favor), and don't watch this DVD...it will tarnish the good movie that Anchorman is and you don't want to do that.<br /><br />Okay...I'm alright now.\"\n",
      "* * * * * * * * * \n"
     ]
    },
    {
     "name": "stdout",
     "output_type": "stream",
     "text": [
      "3876\n",
      "How did such a terrible script manage to attract this cast? Ridiculous, predictable and thoroughly unbelievable, this is well-acted and slickly directed, but the material is so bad it still qualifies as one of the all-time worst thrillers I've seen in years. Amazingly bad, and not in a fun way. Avoid at all costs, even if you're a fan of someone in the cast.\n",
      "* * * * * * * * * \n",
      "3920\n",
      "After coming off the first one you think the wayans brothers could come up with some new jokes. Though i guess not. If the first one wasn't bad enough this one is just so bad it hurts to watch. With all the actors they had in this film you think they could come up with something a little more clever. Though they couldn't, they had to take all the same raunchy, not funny jokes from the first one and somehow put it into this film thinking people would laugh at it again. Though the thing is i didn't laugh at it the first time. They tried to make these movies into parodies though they failed at every level. Most of the time it's just randomly inserted jokes, that are so disgusting and raunchy that it's hard to watch it and enjoy it. Then when they do try to do scenes that are movie parodies they just end up making a 20 minute recreation of the scene with maybe one joke within the entire scene. Also for people saying that its not for the older and real young audience, well i fit into the age range that it's supposed to be funny for. While people say that different people have different ideas of what is funny or not, if you do find this funny then you probably aren't one of the more mature or intelligent people around. It doesn't take that much skill to write that kind of a script, though if you do want a more clever and funnier movie go see the movie Spaceballs. It's a movie parody that's actually good and well done and it didn't have to use disgusting and raunchy jokes to make it funny either.\n",
      "* * * * * * * * * \n",
      "4222\n",
      "Anyone familiar with my reviews on the Internet Movie Database will know that I can be a grumpy bastard from time to time. There are a lot of films I don't like which, for some unfathomable reason, I've felt the urge to review. However, if anyone out there is curious to know the name of the worst film I've ever seen, look no further than Transylvania 6-5000. Without question, this takes the title of the all-time no. 1 awful film. I can't believe that I actually made it from the start of this clunker to the finish!<br /><br />It is clearly meant to capture the flavour of Mel Brooks's Young Frankenstein, but where that film was a funny take on horror movie traditions, this one is a desperately strained and misguided attempt to wring laughs from embarrassingly weak material. Jeff Goldblum and Ed Begley Jr look ashamed to be here as a pair of journalists in modern day Transylvania (perhaps they realised early on that they were doomed in this dud). During their research, they come up against all the chief monsters from past horror favourites, such as vampires, werewolves and mummies.<br /><br />Anyone who manages to brave this film right through to its end may pray that a stake be driven through their heart to relieve them from the agony of boredom. It marks a career nadir for everyone involved and proves that when comedy fails in a big way, it results in awesomely dire entertainment.\n",
      "* * * * * * * * * \n",
      "4326\n",
      "Remember the good ol' animated batman show from the 90's? The one that people praised? The one that people of all ages could all appreciate? The one that showed batman as a real detective instead of the Hulk in a bat suit? The one that had villains you could relate to? The one that had villains with real motives?<br /><br />Well clearly, Warner Bros. doesn't. Hence this dreck.<br /><br />Honestly, do these people know anything about batman? Have they even looked at a batman comic before? Do they know Batman's meant to be a 'detective'? Putting together 2 clues does not make you a detective! That makes you a slightly intelligent monkey!<br /><br />This is the basic layout for an episode:<br /><br />Penguin steals something. 'Opening credits'. Batman finds dead giveaway of where he is. Batman goes there and get's into trouble. Commercial. Batman finds obvious/ stupid way out of it. Penguin escapes. Penguin does something obvious again. Batman follows. They do kung-fu (by the way everyone, and i mean EVERYONE know's kung-fu for some reason). Batman punch's penguin. he get's knocked out. goes to arkham. (Note: it's usually a different villain every episode)<br /><br />Well as you may have noticed from that, Batman's not a great detective. \\Joker left this piece of cotton candy on the ground, maybe he's at the old amusement park\\\"! Yeah maybe, he was there the last 6 times.<br /><br />And I've already mentioned this but, EVERYONE KNOWS KUNG-FU! EVEN PENGUIN! what where they thinking? (probably because it's from the people who made that Jackie Chan animated series)<br /><br />What's really upsetting is that the show is just action. No smarts. None. If batman needs think, he'll use technology, then do some kung-fu.<br /><br />But hey, let's not forget the villains. Afterall, what would batman be without his rogues gallery?<br /><br />Well first off, I gotta say, kudos for originality. I don't think other batman media would have envisioned joker and a dread-locked monkey man, riddler like an emo, and poison ivy as a minor (which is kind of confusing when you think about, isn't her sexuality meant to be her main strength?)<br /><br />What's even more crap however is that, every character is now a 2-Dimensional, stereotypical crook.<br /><br />E.G.<br /><br />Killer Croc wants to flood Gotham for no reason.<br /><br />Man-Bat is a power hungry mad scientist who is obsessed with bats for some unexplained reason.<br /><br />Penguin just wants to steal everything. For no reason.<br /><br />noticing a pattern here?<br /><br />But the most insulting has got to be Mr Freeze.<br /><br />Do you remember the Emmy award winning 'Heart of Ice' episode from Batman: The Animated Series? The one that gave Mr Freeze motives for his crimes? The episode that was so good that it was used in the comics over his original back story (mad scientist)? The one that made him a victim, with a goal? Hell, even Batman & Robin acknowledged that, using that as Mr Freezes origin in that P.O.S. movie.<br /><br />Well this series says \\\"F#ck that\\\" and makes Mr Freeze a jewelry robber before his accident, with only wealth in his mind, then gets frozen and gives him the power to make things cold. He then continues to steal jewels for no reason, while saying sh!t lines like \\\"Have an ice day\\\".<br /><br />Maybe they did watch Batman &Robin after all.<br /><br />But hey, look on the bright side. This series makes you feel nothing for the villains so that means that you're a good person. Good for you.\"\n",
      "* * * * * * * * * \n",
      "4368\n",
      "Where to start ?! . . . I feel ... violated! Thats right, violated! I just spent 1.5hrs of my life, 1.5hrs that I could have spent doing something more useful, like watching paint dry, on this so called horror flick.<br /><br />Its not scary, its not funny, its not dramatic, its no action, its nothing...<br /><br />Its predictable, its boring, its tragic...<br /><br />I might come of a bit harsh here, but watch this movie and you will feel the same way ... or ... no, don't watch it...unless you want to feel violated also.\n",
      "* * * * * * * * * \n",
      "4472\n",
      "As myself and my other half are big fans of trash horror we couldn't resist getting out a movie that contained both of the greats we were thrilled! However for a 2004 movie with a rip off cover of Freddy Vs Jason this is a disgrace! The worst film I have ever seen but worth a look for a laugh if you are able to sit through it!<br /><br />The acting is awful the effects...well I could do better on my camcorder in fact its so bad they only bothered to put make up on the zombies faces and left out neck, hands etc. No story line, weird flashbacks that make no sense and terrible script!<br /><br />\\you broke my tooth!\\\" from one vampire \\\"you broke my cigar\\\" was the response from the human who looked like uncle Jessie from Dukes crossed with Santa!\"\n",
      "* * * * * * * * * \n",
      "4566\n",
      "Annie Potts is the only highlight in this truly dull film. Mark Hamill plays a teenager who is really really really upset that someone stole the Corvette he and his classmates turned into a hotrod (quite possibly the ugliest looking car to be featured in a movie), and heads off to Las Vegas with Annie to track down the evil genius who has stolen his pride and joy.<br /><br />I would have plucked out my eyes after watching this if it wasn't for the fun of watching Annie Potts in a very early role, and it's too bad for Hamill that he didn't take a few acting lessons from her. Danny Bonaduce also makes a goofy cameo.\n",
      "* * * * * * * * * \n",
      "4624\n",
      "I still find it difficult to comprehend that a movie as bad as this could be made in Hollywood. The acting and story is simply pathetic & the direction is awful. I don't see any logic behind this trash except may be that the director had nothing good to do. I took me ten minutes to realize that i had wasted my precious thirty rupees. It filled me with dismay that i was going to waste some more time of my life on this crap. I bet the movie was made in less than a day. I don't know what category it falls into. Please, avoid this movie at all costs, just do anything, even bang your head against walls but don't go for this movie.\n",
      "* * * * * * * * * \n",
      "4664\n",
      "While the original First Blood had its far-fetched moments, it was at least exciting in parts. In Rambo: First Blood, Part II the emphasis is shifted very much onto comic-book action. Plausibility is totally rejected; logic nose-dives; Stallone becomes so impregnable that there can be no doubt he will succeed in his mission. Just like any other wish-fulfilment actioner of that time (e.g. Invasion USA, Commando, Red Scorpion), Rambo: First Blood, Part II cancels out its own opportunities for real excitement by presenting a hero too invulnerable to fear for. If you can tell from the word go that Rambo is going to wipe out hundreds of enemy soldiers, what is left to get excited about?<br /><br />Imprisoned after the events of the first movie, John J Rambo (Sylvester Stallone) is offered a pardon if he will join a covert operation in the Far East. The year is 1985, and a mission is being arranged to find out if there are any American PoWs still trapped in the jungles of Vietnam. Rambo is encouraged to take the job by his old mentor Colonel Trautman (Richard Crenna), but the assignment is actually the brainchild of a government outfit fronted by Marshall Murdock (Charles Napier). Rambo's job is merely to head for a prison camp in the jungle and check out if it contains any American PoWs  if it doesn't, he is to rendezvous with a chopper; if it does, he is to get photographic evidence of their existence so that they can be rescued at a later date. Aiding him in his quest is a lady soldier with local knowledge, the beautiful and resourceful Co Bao (Julia Nickson). Sure enough, Rambo discovers that there are PoWs in the camp, but he exceeds his orders by rescuing one of them",
      " when he reaches the rendezvous point, the rescue chopper abandons him on the orders of Murdock who, it seems, doesn't really want to find any PoWs because of the political and military implications. Rambo is captured by the enemy and tortured, but following an explosive escape he sets out to free the PoWs and get his revenge on the treacherous Murdock.<br /><br />The few good points of the film come from Jack Cardiff's polished photography, Jerry Goldsmith's exhilarating score, and the sheer professionalism of the stunt team in performing various action antics. Beyond these scant pickings, the film is a failure. The actors are reduced to macho posturing, the plot rings false, the action sequences are soulless and suspenseless, the dialogue is absurd",
      " even the violence becomes numbingly predictable. At the time of its release America was under the presidency of Ronald Reagan, a man with simplistic and near-hysterical anti-communist sentiments. For this reason, contemporary audiences lapped up this Commie-bashing shooting-fest as if it was the greatest movie of all-time, transforming it into an undeserved box office success. Thankfully times have changed  nowadays we can look upon it as a simple-minded action flick with a ludicrously high body count, ludicrously dumb politics, and a ludicrous hero.\n",
      "* * * * * * * * * \n",
      "4731\n",
      "This was truly dreadful! It had a terrible storyline, was poorly acted, and was like an amateur remake of evil dead but not nearly as good.<br /><br />It took all my tenacity to make it through this one, it's a good job I didn't have to visit the toilet else I doubt I would have come back! This one makes Hammer House of Horror look like a big screen Hollywood epic. <br /><br />The only value to this movie was the never ending supply of beautiful women. Not a bad one among them! <br /><br />If you want to letch with your friends after a night on the beer then this one's for you ... else avoid it like the plague!\n",
      "* * * * * * * * * \n",
      "4790\n",
      "Hanna-Barbera sucks the life out of another famous property. The violence is watered down, the stories are formulaic, the animation is bad, the music is obnoxious and repetitive, and frankly, the show just isn't funny.<br /><br />At the time, H-B put every one of its series through the same clichéd situations, regardless if it fit the world of the cartoon or not. Thus, Popeye and Bluto appear in a recurring segment as cavemen (\\Hey! Popeye is popular, and the Flinstones are popular. Put 'em together, and you can't miss!\\\"). Also, in an apparent ripoff of \\\"Private Benjamin,\\\" Olive Oyl and the Goon have a regular segment that features them as new army recruits. Seriously! Why? <br /><br />Adding to the annoyance factor are the public service announcements in every episode (standard practice at the time for cartoons, but still annoying). Popeye lectures his nephews on crossing the street safely, recycling, and - are you ready for this? - the dangers of smoking! (I swear I'm not making that up.)<br /><br />The only charm remaining from the original cartoons is that Jack Mercer, the voice of Popeye from the early days, continues the role here.<br /><br />Worth checking out once just to get a new appreciation for the old Fleischer shorts. Otherwise, avoid at all costs.\"\n",
      "* * * * * * * * * \n",
      "4809\n",
      "The first hour of the movie was boring as hell. There is no suspense, no action, not even a plot. The movie went no where. I mean they could have made the movie in 15 min short film. Overall, the movie wasn't good at all, and I don't recommend it.\n",
      "* * * * * * * * * \n",
      "4887\n",
      "\\Darkness\\\" was entertaining to some degree, but it never seemed to have a plot, lacking one more so than other films that have been accused of this detriment; i.e. \\\"Bad Taste\\\". It started off really good, with a man running from something. It was very creepy for these first few minutes, but after a time the film just became entertaining on the level of gore, which was hard to make out at some points due to poor lighting and horrible recording quality anyway. The film was hard to believe because of the juvenile acting, which most of the time, seemed like some friends talking to a video camera, making lines up as they went. That, with a lack of any plot whatsoever, made it look like the film was started without, and ended without, a script of any kind. As said before, gore was this film's only drawing point, which much of the time was hard to make out.\"\n",
      "* * * * * * * * * \n",
      "4935\n",
      "Julia (Kristina Copeland) travels with her husband Steven Harris (Steven Man) and their baby son Alex to spend a couple of days with her family in Savage Island, an island of their own. The couple expects to resolve their issues along the weekend in the remote island. While waiting for the boat, Julia and Steven meet two weird men in the harbor, and when her brother Peter (Brendan Beiser) arrives, he explains that a family of hillbilly squatters is living in the island. The reckless Peter smoke pot while driving the truck in the night and turns the headlight off to show off; however, he accidentally runs over the young son of the Savage's family, but in the dark he believes he has hit an animal. Later, the Savage family claims Alex as a compensation for their lost son. The Young family does not accept the trade, and they initiate a deadly war between families.<br /><br />\\Savage Island\\\" is a very low-budget movie, with a stupid screenplay, amateurish cinematography but surprisingly good acting. The flawed story is totally absurd, and there are many unbelievable situations. For example, how could two men leave two women with the baby alone in the road during the night with the menace of the deranged family? The logical procedure would be going immediately to the continent and bringing police force to rescue Peter. Then the Young family vanishes; Julia and Steven leave their car in the continent and their house and friends, and nobody chases them? Peter calls his sister Julia of Alex when he arrives with the boat in the beginning. There are so many flaws in this flick that I could spend many lines writing about this subject. I believe this film was filmed with a home video camera so awful the images are. The good cast deserved a better material to work. My vote is four.<br /><br />Title (Brazil): \\\"Ilha de Sangue\\\" (\\\"Island of Blood\\\")\"\n",
      "* * * * * * * * * \n",
      "4949\n",
      "I like a movie that has at least a vestige of a story. This doesn't occur in this movie. It's a series of vignettes with no cohesion.<br /><br />There are scenes of a person collecting pineapple cans. A woman with a blond wig never removes her sun glasses. This woman shoots at other people at the beginning of the movie and we never find out why. She disappears completely after about 30 minutes. There is another coquettish woman who endlessly cleans a man's apartment. There are endless scenes at a fast food joint where the Mamas & Papas 'California Dreaming' is vastly overplayed (I used to like the song). The dialogue is mostly concerned with food (pineapples, chef's salad and ordering drinks",
      "). I assume most of the actors gained weight during this movie because a lot of fast food was consumed.<br /><br />There is no passion in this movie because there is no story. This is purportedly a romance - it is no such thing. I just wonder why I didn't hit the Fast-forward. I kept waiting for something significant to happen  it doesn't. Maybe that's the only consolation to this movie - scenes shifted so rapidly that it tricked you into assuming that there was going to be a revelation to all the nonsense.\n",
      "* * * * * * * * * \n",
      "4987\n",
      "I usually like comedy movies. I really enjoy them. But I don't really get the point of \\Envy\\\". I mean, it has a dull content/topic, and it's not really funny.<br /><br />Although the acting is generally good, it's not enough for the movie to get at least a bit interesting. Stiller and Black don't show all their talent in this movie.<br /><br />So, if you're about to rent a comedy, I suggest you definitely don't go for this one. Unless you want to get bored, and I can see I'm not the only one with this opinion, because even Jack Black apologized for it (take a look at Trivia).\"\n",
      "* * * * * * * * * \n",
      "5017\n",
      "In over 70 years of watching movies,This has to be one of the very worst comedies ever made. Mel Brooks, Mike Meyers & a few other have made some very bad comedies, this however is the absolute bottom of the barrel.<br /><br />It is unfunny from the very opening,to the tacked on scene during the credits.<br /><br />Diane Keaton who I normally like must have needed her paycheck badly. She desperately needs to re-learn her craft.<br /><br />Dax Shepard (I do not know who he is),needs a better director,to show him how to act.<br /><br />Liv Tyler is also not up to her role.<br /><br />Mike White needs to find another character,he has done this same type person a few times too many.<br /><br />Ken Howard who started out years back as a first rate actor, also not as good as he used to be.<br /><br />There is nothing decent I can say on this attempt at movie comedy.<br /><br />Ratings: * (out of 4) points 25(out of 100) IMDb 1 (out of 10)\n",
      "* * * * * * * * * \n",
      "5037\n",
      "...This would be the worst film i'd ever seen. Hmmm, OK maybe tied with Boogeyman then. Awful, truly awful.<br /><br />I had low expectations and it failed to meet them! I honestly cant think of one good thing. so here are the worst points...<br /><br />1. THE ACTING 2. THE PLOT 3. THE CGI (Xbox 360 has better graphics....seriously) 4. THE PLOT 5. THE DIALOGUE and finally.... 6. THE PLOT <br /><br />There are so many unanswered questions, Did they make a 2:32 hour long movie then realize they hadn't put Lex Luthor and Superman in a scene together and were forced to settle for the 3 minute bit or did they actually think no-one would notice that the main hero and villain have less screen time together than Superman's son and the henchman he kills?!!<br /><br />Was half the budget spent on persuading Kevin Spacey to do it?<br /><br />When Superman goes to hospital, why don't the doctors ask \\What the F*** do you want us to do?! He's a F***ing alien! We don't know jack about his anatomy!\\\"? <br /><br />What happened in the 5 years Superman was away to cause technology to advance 28 years? <br /><br />Where the people who wrote good reviews watching the same movie?<br /><br />and finally, Why? Just, Why? <br /><br />BTW, for those of you wondering how come Superman could lift an entire continent of krypyonite, i think i've figured it out...<br /><br />...since superman is unaffected by the kryptonite till he sees something green in the rocks, it is clearly all in his head. therefore the continent thing is just him suppressing his fear of shiny green rock....<br /><br />either that or the writers are slack-jawed half-wits who didn't think that was a fairly obvious mistake.\"\n",
      "* * * * * * * * * \n",
      "5078\n",
      "Perhaps I couldn't find the DVD menu selection for PLOT: ON OFF. Clearly, the default is OFF. When the end credits began to roll, I couldn't believe that was it. Like our poor, but beautiful protagonist, I felt used, dirty, cheap....<br /><br />The characters were drawn in very broad strokes and the writer's disdain for wealthy Thatcherites was all to apparent. I consider myself a \\Roosevelt Democrat\\\", but would appreciate a bit more subtlety.<br /><br />Of course, the problem could be with me. I see that many others seem to find some meaning or message in this picture. Alas, not I. <br /><br />The only thing that kept me from giving this a \\\"1\\\" was the nice scenery, human and plant.\"\n",
      "* * * * * * * * * \n",
      "5132\n",
      "This is surely one of the worst films ever made. Each scene is painful. You will groan at the flimsy attempts at humor, the awkward camera work, the sexism and racism, the ridiculous story line, the wooden acting. Poor Joan Bennett; she is the only one in the movie who is not an embarrassment. In all, dreadful.\n",
      "* * * * * * * * * \n",
      "5191\n",
      "Absolutely one of the worst movies I have ever seen! The acting, the dialog, the manuscript, the sound, the lighting, the plot line. I actually can't say anything positive about this, although I enjoy Swedish movies. The fighting scenes are so ridiculous that it's impossible to take it seriously. And when the lead character just happens to loose his shirt, while dodging bullets in a strip bar, I'm not sure if it's supposed to be a joke, or if someone really thinks these are ingredients in a good film?! Regina Lund is the only half descent actor, but she disappears in a flood of laughable pronunciations and unbelievable reactions. It leaves you horrified that someone actually spent time and money on something like this...\n",
      "* * * * * * * * * \n",
      "5289\n",
      "So this is what actress Kim Basinger has succumbed to? Mmm",
      " to tell the truth the film's title is something quite eye grabbing to getting your interest and plot outline reads so basic, but simplicity can have its strengths. Anyhow by the end of 'While She Was Out' I was left feeling rather indifferent. Not the worse (despite being engulfed by negatives), but there's easily way better in what is an causally lukewarm, but compact and unbalanced late-night survival fable of a feeble suburban housewife stranded in the woods trying to fight for her life after she witnessed the death of a rent a cop that came to her aid, when she provoked an ugly exchange with some punks in a shopping car park.<br /><br />The problem here falls on the misguidedly erratic and foreseeable material (taken from a short story), along with the very variable performances. The flimsy script was poorly thought-out (which isn't so good when your plot has a slight structure to hang off), so many wretched inclusions and dubious actions just go on to find its way in this endless chain of events. As for the bunch of stereotypical goons (led by an unconvincing Lukas Hass as a loose canon) terrorizing Basinger, well they were less than threatening, but hopelessly clueless. Watching Basinger scrounging around in the dank wilderness with a red tool box in her hand (don't ask me why?) knocking off these wannabe punks one by one became ridiculous because it didn't elicit tension or emotion",
      " but instead clumsy jolts that were absurdly daft because of the stupidity of the lead up. Basinger's performance is stout-like, but doesn't craft much empathy. Craig Sheffer shows up as her hot-headed husband. Strangely I couldn't keep my eyes off the screen",
      " thinking to myself that red toolbox is hypnotic (why would she be constantly carrying it) and what tool was she going to use to dispatch the next thug",
      " her choices were quite disappointing. Watching her transformation through the traumatic situation when things are finally turned around is rather empty, due to its unsure tone and the ending is something you could see miles ahead.<br /><br />Susan Montford's soberly slick direction lacks cohesion and energy, as it pretty much chugs along. I liked the opening credits though, with its hauntingly sullen score (which is the most effective thing throughout the feature) and polished photography.<br /><br />No great shakes. Doesn't ask much of your time, but I wouldn't care to see it again. However with the inclusion of a Joy Division song, it made me grab a couple of their albums for a listen.\n",
      "* * * * * * * * * \n",
      "5296\n",
      "Memoirs of a Geisha is a beautifully filmed movie, there is no doubt about that. And the acting is generally excellent, at least in terms of how it portrays the characters as they are scripted.<br /><br />However, so many details small and large are just _wrong_ that it just bothers me too much to be able to enjoy it fully. A small detail that typifies the kind of lack of sensitivity of sorts is one scene (no this does not spoil anything) where Mameha rings a bell that hangs at the door of the house where Sayuri lives, on a snowy winter day. The bell she's ringing is a fuurin, or wind chime - that is only left hanging outside of houses in Japan in the summer! People in traditional Japanese homes didn't have doorbells - they just opened the door and announced themselves. (You may think this is such a trivial detail, but I would equate this to a movie made about America where a Christmas wreath is hanging on the door in July and no one thinks anything of it.) And don't even get me started on the totally wrong hairstyles given to the maiko and geisha, which is vaguely pan-Asian/Chinese/kung-fu-ish, and nothing like real thing. I think this rather cavalier attitude towards the culture they are trying to portray really comes out in the attitudes and the portrayals of people and situations too. <br /><br />So, I suppose that the less you know about Japanese culture and the world of the geisha and maiko in Kyoto (which is what \\Miyako\\\" is), then I suppose the more you will enjoy this. I honestly think this movie could have been so much better...as it is, it's just another Hollywood version of \\\"exotic Japan\\\".\"\n",
      "* * * * * * * * * \n",
      "5319\n",
      "Stilted, stagy, strange and opaque, if visually striking ... a wannabe-erotic fantasy. Really boring, way too much male nudity (including father-son incest), and just a sort of shameless pointlessness. I will confess, however, that certain passages of dialogue, taken on their own terms, do have a lulling, haunting quality.\n",
      "* * * * * * * * * \n",
      "5393\n",
      "Wow... what would you do with $33m? Let me give you a choice; you can either a) shred it and flush it down the toilet or b)make a film based on the premise of Whoopi Goldberg as a hard nut futuristic cop partnered with a rubber dinosaur who uses terms like \\I didn't butt trumpet\\\" and blows raspberries on the basis that this is funny. That's right, you would choose the option that has more merit - flushing down the toilet.<br /><br />This has to be seen to be believed. I cannot even find the words to describe how bad this film is. It doesn't even fit into the \\\"so bad - it's good\\\" category. I actually have it on the television as I write - and whilst watching I felt the need to come onto IMDb and register my disgust.<br /><br />Considering Jurassic Park was made a couple of years before, how on earth did they think that audiences would any longer tolerate a man dressed in a rubber suit? WG should have simply walked and damn the consequences. Everyone concerned will go to hell for this criminal waste of money.<br /><br />I have to stop writing - I am about to implode.\"\n",
      "* * * * * * * * * \n",
      "5525\n",
      "What was the worst movie of 2003? \\Cat in the Hat?\\\" \\\"Gigli?\\\" Mais non! I propose that it was this atrocious little film from earlier in the year. Badly written, badly edited, and (if I may be so bold) badly acted, \\\"The Order\\\" is the black hole of film - a movie so dense not even the slightest bit of entertainment could escape from its event horizon of suck. It isn't even accidentally funny, like (for example) \\\"Showgirls.\\\"<br /><br />You know that the producers are assuming that their audience isn't going to be very smart. They renamed the movie, originally titled \\\"The Sin Eaters,\\\" because they figured Americans were too stupid to understand what a sin eater was, even though they go to great lengths to explain what a sin eater is in the movie. Instead, they figure an utterly generic title and a picture of Heath Ledger looking sullen are more than enough to get you in there.<br /><br />And, hey, what do you know, they were right! My ex-girlfriend saw the picture of Heath and dragged me in. Congratulations, producers, you've met your target market. She also liked \\\"Grease II,\\\" so you're in good company.<br /><br />Back on topic, Heath plays a Catholic monk from a specific (you guessed it) order that is trying to investigate the murder of his mentor. He has celibacy issues, possibly because nobody in their right mind would believe that he knew the slightest thing about religion, much less be a celibate monk. The only other member of this order is a funny alcoholic fat guy. As much as I've wanted to see the return of the funny alcoholic to the big screen, his attempts at humor reminded me of all the dorks in my high school who did imitations of Monty Python, thinking that if they just said the lines like the Pythons did they would automatically be funny. You know the sort of people I'm talking about.<br /><br />If I utter any more, I would be in danger of generating spoilers. Frankly, the thing that spoiled this movie for me was the fact that it was created.\"\n",
      "* * * * * * * * * \n",
      "5533\n",
      "This TV production of 1970 starring Susannah York and George C. Scott is another proof of how difficult it is to adopt \\Jane Eyre\\\" to the screen, and how much can go wrong in doing so. It is true that the movie suffered in the transfer to DVD - some scenes which were complete in the original were shortened and so badly edited that there are striking continuity gaps and that even one crucial scene between Jane and Rochester starts in the middle of a sentence! But even if the editing were better, the film would not be. The script is bad, the portrayal of the characters is untrue to the novel and nearly all actors are miscast. As a consequence one does not have the feeling of watching an adaptation of Charlotte Brontë's novel at all. The problem is not only that a number of scenes are shortened or left out - this is the case with all the short adaptations - but that the remaining scenes do no at all capture the tone, the spirit, the atmosphere and the concept of the novel.<br /><br />This Jane Eyre for example completely leaves out Gateshead and begins with Jane's arrival at Lowood. While this is perfectly all right, since some scenes must by necessity be left out, it is not understandable that, instead of using the time gained (so to speak) and thoroughly portraying Jane's friendship with Helen, the influence Helen has for Jane's development, the lecture in Christian stoicism that she teaches her, the film nearly exclusively concentrates on the physical ill-treatment of Helen, which is driven to absurd extremes in this adaptation. What Helen has to suffer is bad enough as described in the novel, but here Miss Scatchard is portrayed as a kind of sadistic prison ward, who deliberately wants to drive Helen to a premature death. And this is about all which happens at Lowood. If you compare that to the deep impact the years spent in Lowood have on Jane in the novel, one can only state with regret that the movie does not even touch the surface of that particular episode in Jane's life. And this is the problem throughout this adaptation: It rushes from scene to scene, very often without transition, and nowhere comes even near the essence of the novel. The dialogues are an odd mixture of made-up lines and lines from the novel, very clumsily patched together, and the scenes between Jane and Rochester are so shortened that both share only 5 minutes together on screen before they fall in love, and the little conversation they have contains nothing of the brilliance, the intensity and also the humour of the conversations between Rochester and Jane in the novel. But the scriptwriter not only did Brontë's language injustice but in addition managed to ruin her moral set-up with just one sentence. When Rochester and Jane go to see Rochester's wife after the would-be wedding, Rochester says: \\\"Yet I once loved her (his wife) as I love you now.\\\" The whole moral concept of the novel depends on the fact that Rochester is indeed an innocent victim of an amoral scheme and was trapped into marrying a mad woman whom he never loved, and that his effort to seek a true life partner is, if not sanctified by God's and man's law, yet understandable and forgivable! But this one sentence completely undermines Brontë's whole carefully constructed moral concept and turns Rochester into a dirty old man who wants a new young wife because his old one is of no use to him any longer.<br /><br />From the errors regarding the script to the errors regarding the casting: Now I am by no means one of those who insist on physical resemblance between an actor and the literary figure he portrays, but by no stretch of imagination is it possible to picture lovely, blonde, blue-eyed and full-mouthed Susannah York as the novel's plain heroine. In addition, Ms York was in her thirties when the film was shot and looks it. Played by her, the novel's shy, reserved and inexperienced young Jane becomes a perfectly poised, graceful and mature woman, completely sure of herself and her deserts. I do not say that Susannah York does not play well and convincingly but the woman she portrays is not Brontë's Jane Eyre. To cast George C. Scott as Rochester must have been motivated by the desire to have a Rochester who looked old enough to make the 18 years difference in age between Jane and Rochester plausible. Scott looks as if he were around 50 but acts in various scenes as if he were 70.<br /><br />To compliment the \\\"maturity\\\" of the leading actors all passion, desire and despair seems to have been deliberately wrung out of the script. The scene between Jane and Rochester after the wedding, the emotional climax of the novel, has become a calm, rational conversation between two middle-aged persons, at the end of which Rochester falls asleep. When Jane returns to him in the last scene, he is just as mildly pleased as a grandfather who has just been paid a visit in his old people's home by his favourite granddaughter. The only character who displays an appropriate amount of emotion is St. John, of all people. Ian Bannen plays him so passionately and his eager plea for Jane's love is so touching that one gets the impression that Bannen was modelling his St. John on the Rochester of the novel. But good though Bannen is, his St. John is just as far from the novel as York's Jane and Scott's Rochester. The only redeeming features of this very disappointing \\\"Jane Eyre\\\" are the locations and the score, and I would only recommend this production to those who want to watch and compare every single adaptation of \\\"Jane Eyre\\\".\"\n",
      "* * * * * * * * * \n",
      "5540\n",
      "Lee hosted the 100 Years of Horror for Ted Newsom and was talking about filmic werewolves. He said something to the effect that his only brush with lycanthropy was The Howling II, then he quipped, \\The less said about that the better.\\\" Indeed he was right as this film may very well be the worst in his entire catalog of screen performances. The first Howling by Joe Dante was a groundbreaking werewolf film with its incredible special effects and its campy sense of style and subject matter. It was a film to be taken seriously. Like other good original films, filmmakers for some strange reason thought that even more campy sequels were needed rather than what worked the first time(See CHUD then CHUD II to illustrate this point). This film is miles and miles away from the first on every front. There is absolutely nothing scary about it. It looks cheap and is pitch black through most of the major scenes. Lee is the only actor in the film worth mentioning(okay, I'll cede Ferdy Mayne too). Lee looks embarrassed as he says inane dialog and does ridiculous things(check out that ending with him and Stirba). Lee looks incredibly tired and knows what dreck this is which is a tad more insightful than the two leads who leave America to go to Romania. The story isn't really worth examining here, and you can bet there is very little story worth mentioning when you have to have Stephen Parsons and his band Babel play through much of the film in the beginning and the ending with that dreadful noise. Sybil Danning is here and, yes, she disrobes once and then we get that scene showed again and again and again - one reviewer said 17 times(I counted ten - but might have been so bored out of my mind by that point). I gave the film three stars, but it really deserves a zero - the three I gave it are 1 for Lee and two for Ms. Danning's contributions. Yuck!\"\n",
      "* * * * * * * * * \n",
      "5600\n",
      "Ah, the sex-and-gore movie. It's too bad they don't make these anymore (unless you live in Japan). But if they all turned out like this, that is not a bad thing.<br /><br />The movie basically consists of the two lovely vampires picking up \\johns\\\" along a country road, taking them home to their castle, having crazy sex with them, and then eating them (except the first victim, who they keep around for no particular reason). Things are complicated when a woman camping with her husband becomes too curious about these mysterious women she keeps seeing. It gets real ugly from here. By the end, the two vamps are in such a bloodlust that they're eating everything in sight, and manage to let their captive victim escape. Oops, so much for that secret existence.<br /><br />The fact that the two vampyres don't mind taking their clothes off and fooling around with each other is the only thing this movie has going for it. Otherwise, it's a bloody, confusing mess (why is their tomb so far away from their castle?), watchable only for the scant few minutes of vampyre playtime. The only thing I got out of this movie was these two valuable bits of advice: shooting lesbians will not kill them; it will only turn them into vampires, and, don't pick up hookers along a country road; they are probably vampires. Other than that, it really wasn't worth my time.\"\n",
      "* * * * * * * * * \n",
      "5774\n",
      "CAMILLE 2000 <br /><br />Aspect ratio: 2.35:1 (Panavision)<br /><br />Sound format: Mono<br /><br />Whilst visiting Rome, an amorous nobleman (Nino Castelnuovo) falls in love with a beautiful young libertine (Daniele Gaubert), but their unlikely romance is opposed by Castelnuovo's wealthy father (Massimo Serato), and Fate deals a tragic blow...<br /><br />A sexed-up love story for the swinging Sixties, adapted from a literary source (Alexandre Dumas' 'La Dame aux Camelias') by screenwriter Michael DeForrest, and directed with freewheeling flair by Radley Metzger who, along with the likes of Russ Meyer and Joe Sarno, is credited with redefining the parameters of 'Adult' cinema throughout the 1960's and 70's. Using the scope format for the last time in his career, Metzger's exploration of 'la dolce vita' is rich in visual excess (note the emphasis on reflective surfaces, for example), though the film's sexual candor seems alarmingly coy by modern standards. Production values are handsome throughout, and the performances are engaging and humane (Castelnuovo and Gaubert are particularly memorable), despite weak post-sync dubbing. Though set in an unspecified future, Enrico Sabbatini's wacked-out set designs locate the movie firmly within its period, and Piero Piccioni's 'wah-wah' music score has become something of a cult item amongst exploitation devotees. Ultimately, CAMILLE 2000 is an acquired taste, but fans of this director's elegant softcore erotica won't be disappointed. Next up for Metzger was THE LICKERISH QUARTET (1970), which many consider his best film.\n",
      "* * * * * * * * * \n",
      "5808\n",
      "Richard Pryor's early 80s running down the street on fire incident must have affected him somehow. In his stand up,he jokes about it getting great laughs. It seemed to have done something involving the projects he chose. The Toy is about the lamest he ever chose,aside from I guess Another You.<br /><br />A movie where a white man buys his son a black man? Nice little bit of underlying political incorrectness before thee was such a thing. It's seeing Richard getting all sentimental that made me finally walk out before the end. I wanted to see Pryor get even with this brat,instead it becomes the misunderstood kid nauseum! At least Gleason had his moments. Ignore this and watch Pryor with Gene Wilder or any of his '70s stuff. This is a waste of any movie watcher's time!\n",
      "* * * * * * * * * \n",
      "5812\n",
      "There is an excellent reason Edison went straight to video: it would have landed in theaters with a crumbling thud. The movie lasted entirely too long and was perilously boring. Just a notch above lowbrow (thanks to Freeman and Spacey, who obviously had a spare two weeks before their next films), the bad guys are as laughable and action as near non-existent as Justin Timberlake's acting. I hate to knock the guy, but the sooner he realizes that pop is his forte, the better.<br /><br />The movie isn't all bad...just mostly. I like the fact that LL Cool J was given what appears to be a shot at being leading man. He deserves it. And, unlike his fellow musician and co-star, he can act. Kevin Spacey is almost always enjoyable as well (you can see him gulp several times as he chews the scenery), and Freeman has the ability to elevate this flick to three stars (out of ten...he's not THAT good).<br /><br />When all is said and done, the ultimate error with this movie is that it is a mundane and tiresome piece of pseudo-action poppycock that fails to keep anyone awake. It also fails to make anyone give a good crap about any of the characters. All in all, t's just plain boring. That being said, rent this when you are suffering from insomnia.\n",
      "* * * * * * * * * \n",
      "6079\n",
      "I too like Dafoe as an actor but i wasted a few hours of my life actually watching this film, I still cant believe i managed to watch it in its entirety. Was there actually a point to the film?, and the ending, well, Im glad i never paid to see this awful pointless piece of pathetic excuse of a film!<br /><br />Im not sure without hunting the facts out but is Dafoe married or seeing the awful actress in this film in real life, if so was it an attempt to kick start her career?, if so im afraid it must have failed..<br /><br />I post this in the hope i can actually put someone off watching this film, even if 1 person takes heed of my comments and decides they would much rather watch paint drying i will feel i have made some good in the world, if only i had had the same advice...\n",
      "* * * * * * * * * \n",
      "6143\n",
      "Dear God! I kept waiting for this movie to \\get started\\\"... then I waited for it to redeem itself... and when it did neither, I just sat there, dumbfounded that: 1) it could possibly be this bad, and 2) that I had just wasted a couple of hours on just sheer stupidity. I had faith that Drew couldn't possibly have made this bad of a movie... and boy, did I ever lose my faith! Don't bother with this one! Drew tried, but the movie was poorly written, poorly acted, and just poorly conceived! I can't believe a script this bad ever got funded! It had a million chances to actually do something with the idea, (the word \\\"concept\\\" is too big for this movie to even qualify for!) and it STILL didn't go anyplace! Its just pitiful! Where the other reviewer got the idea that it wasn't the worst, baffles me! Because believe me, if it got any worse I'd have slit my wrists before finishing it!\"\n",
      "* * * * * * * * * \n",
      "6178\n",
      "I just saw the third week of Stephen Kings' Nightmares and Dreamscapes mini series; meaning, I saw 6 episodes so far. I have to say that the stories are really weak. I have read Stephen King's Skeleton Crew, a collection of his short stories that was published way back. I recall most of the stories were average to poor but there was one that was really excellent, if not outstanding.<br /><br />What I'm trying to say is that just because this mini series is from a collection of stories from Stephen King does not mean that it will be any good. In fact, if his previous collection of short stories are of any indication, then most of this mini series will be average to poor.<br /><br />In Stephen King's defense, I have not read these new short stories. Perhaps they are good as stories in a book and not readily adaptable to television, or perhaps it was the fault of the scriptwriters in trying to write an interesting script. Who knows. Also, these short stories may have been made exclusively for this mini series and not not for print purpose. Maybe that may have been the problem. If Stephen King had submitted these crap stories to an editor, I am sure the editor would have immediately told him to make it more interesting because as is, it is simply boring.<br /><br />What is clear from all of this is that the problem is with the stories/script and not the actors and actresses because this mini series has some excellent people acting on it.<br /><br />Seeing this mini series really makes me appreciate those old \\Twilight Zone\\\" series. Each series was only half an hour but it was compelling and riveting. I don't understand why this mini series could not accomplish similar feat. I am sure this mini series had a good deal of money to make a good mini series but unfortunately, something must not have clicked.<br /><br />For instance, this week there were two episodes shown. The first involved a horror story writer who buys a picture drawn by an artist who committed suicide. The writer begins to see changes in the picture as he is driving homeward. Feeling uncomfortable, he throws away the painting but it keeps appearing near him. Also, the portrait of an individual in that picture is killing people and is out to kill him. (I will not even mention the second episode for this week involving criminals and their loot because it was even more boring than this episode!)<br /><br />This premise is interesting and so the story should be good but after seeing it, I was frustrated because there were too many gaps in the story as well as extraneous materials that was shown that did nothing to help the story. After the last scene, I was left with more questions than answers.<br /><br />I tried for 3 weeks to get into this mini series but it was just too aggravating due to poor stories/script. If this was a movie, I would have recommended that people should wait for the movie to come out on cable or such. I would not even recommend that it be rented in your video store. However, given that this is on TNT, a cable channel, I would say if you have not seen it already, then try it for one week. If you do not like it that week, then you will not like the past series nor the future ones, since they all share the same boring trait.\"\n",
      "* * * * * * * * * \n",
      "6198\n",
      "I saw this in a sneak two days before the official opening, and I must say I was extremely disappointed. And I have to put the majority of these problems on the decision to cast Claire Danes in the lead role. Depending on what you think about Danes, she was either horribly miscast, or is so far in over her head that she should be the early favorite for the 2007 Razzie for Worst Actress. I think we were supposed to be sympathetic to her. Instead, she is completely unlikeable. The other \\great\\\" actresses do an OK job, but certainly don't light up the screen. Out of all the \\\"great\\\" actresses in this movie, I'd say the one who did the best job was Natasha Richardson. Streep is barely in the picture, and only appears near the very end.<br /><br />Horrible screenplay as well. It comes off more as them reading lines than truly being \\\"in character.\\\"\"\n",
      "* * * * * * * * * \n",
      "6301\n",
      "I've been a fan of all things Bill Maher for 15 years but this film was disappointing and at times disgusting. Of course, I am Catholic, come from a well-educated family and go to church of my own volition, which probably puts me at ends with quite a few of Bill's opinions.<br /><br />Bill's problem is that he presumes that religion is uniformly negative. He's correct to document the sociological aspects of it i.e. one faith builds its holidays on top of another and that many wars have been started because of religion (or, more accurately, by the sinister appeals of men to the ultimate and unquestionable authority of God), but that said he never looks at its positive side. Quite frankly, I think that hell would freeze over before Bill would ever humble himself and travel to the slums of Calcutta where Mother Theresa spent her life working with the poorest of the poor. She's dead now of course, but he could easily visit the Jesuit priest in East LA who runs Homeboy Industries, which works with young men typically with gang and prison backgrounds to teach them career skills, get their tattoos removed, and to become responsible members of society, or he could visit USC's Institute for Advanced Catholic Studies, which has brought together some of the world's finest theologians, diplomats, and investment bankers to study ways in which to ethically integrate the world's poorest countries into global capital markets and thereby improve the standard of living for the half of the world's people who live on less than $1 a day. Of course he won't do that because that would require him to consider evidence that does not easily fit into his preconceived beliefs about religion, and it's so much easier to continue to make snide, superficial jokes.<br /><br />That fits into the other large problem with Bill's movie, which is that he never subjects himself to anyone either on his level or who is better than he is. In this movie, you have Maher the Cornell grad spend most of his time talking down to truck drivers at a nondenominational Christian truck stop service, in a night club with a Dutch guy who smokes pot all the time, with the minister of a storefront church in Miami who claims to be the reincarnation of Christ, and with an actor playing Jesus at a \\Holy Land\\\" theme park.<br /><br />What you won't see in Bill's film, beyond some superficial speculation alongside a Ph.D in Grand Central Station that religion chemically alters the brain like drugs do and that religion is the fallacy of tradition wrought on the masses, is any sort of serious and questioning interviews with philosophy and theology professors from schools like Notre Dame, BYU, or Wheaton College, who could easily rhetorically decapitate him in a debate on the matter. You won't see any serious discussion of any of the writings of C.S. Lewis, G.K. Chesterton, or any papal encyclicals, and of course you also won't find any discussion whatsoever of any of the non-Abrahamic (Judaism, Christianity, and Islam) faiths whatsoever. All you get at the end of the day is a textbook example of a condescending, snobby elitist from the west side of LA who makes a movie for his own kind and who has absolutely no gut-level understanding whatsoever of how the other half of America that elected George W. Bush (twice) lives their lives or about the school of thought behind it.<br /><br />I get a lot of what Bill's saying, but for someone possessing his intellect and influence, this film was nothing less than pathetic. Anyone interested in the kind of intellectual ferment that indie documentaries typically bring could find more stimulation in an old rerun of the Teletubbies.\"\n",
      "* * * * * * * * * \n",
      "6564\n",
      "I am currently sitting here, forcing myself to finish this. I figure I blew 6 bux on the VHS, might as well suffer for it. I remember about 4 or 5 years ago doing a search on the internet for \\War of the Worlds\\\" cause of the rumors of the Spielberg movie at the time, and I missed the old TV series from the early 90's. The website make it out that this was a multi-million dollar budget rendition of the classic book. It was going to be a \\\"perfect translation\\\". Perfect CRAP is more in tune with this film.<br /><br />First off, the video on this movie was glitched! It looked as if I was watching the Full Motion Video from an old mid-90's PC or Playstation CD-Rom video game. Sadly enough, the color quality was similar. The acting made Shatners classic \\\"dramatic pause\\\" look damn near Shakespearean in quality. The CG rendering of various scenes was horrendous, and green screen sequences were worse than those seen in old Dukes of Hazardd scenes.<br /><br />Secondly, it is slow and terribly drawn out. I sat thru 45 minutes of the video (no promo's at the beginning) before the cylinder actually Opened to reveal the first alien. After that, the alien was a terribly constructed CG squid. I am now an hour into it and the most of the alien weaponry I have seen is a spinning silver disk (crappy down even) attached to a mechanical arm. The dramatic scenes are murdered with overly done instrumental's. The last thing on that, for an alien invasion in the turn of the century 1900's NO ONE is concerned for their life. It's like they have no concept. Even though media was slow, word of mouth spreads fast and people would have known. The \\\"illusion\\\" of day and night was shoddy at best. Simply changing the color around the people to purple, blue or green does not signify NIGHT TIME. Perhaps some lighting and actual night time shoots would have given a MUCH better illusion. THere is a lot of wasted sequences throughout the film of just watching the \\\"hero\\\" gallop around or walk down silly roads. Get on with the film. I know how people get around, you do NOT need to be so in-depth.<br /><br />Now, finally an hour and 5 minutes into the film and they show the alien machines. Mighty Morphin Power Rangers had better looking effects. Even the skeletons of vaporized humans looked as if animated by a freshman high school computer app class student. The animations do NOT match up to the scenery at all.<br /><br />In closing folks, if you want \\\"The War of the Worlds\\\", do one of four things. 1) Watch the 1953 original, 2) watch the early 90's TV series, 3) wait for Spielberg's rendition to be released shortly, OR 4) Read the frikkin book (something we all probably did in elementary English class). AVOID THIS MOVIE. IT IS A WASTE OF YOUR MONEY.\"\n",
      "* * * * * * * * * \n",
      "6594\n",
      "\\Don't bother to watch this film\\\" would be better advice, if you like Marilyn Monroe in her other roles. This was a huge disappointment considering the great cast, not just Marilyn.<br /><br />The story was just nothing, certainly nothing like described on the VHS box, of course. There simply was no suspense, precious little excitement and too many dull spots, most of them trying to show why \\\"Nellie\\\" (Monroe) was so messed up. This was not a good role for Monroe, even though I didn't need to see this character to know she could act. \\\"Some Like It Hot\\\" alone was good enough evidence for me. But this role just didn't fit her and it's no surprise it wasn't one of her more popular films.<br /><br />It's also too bad a film had the waste of the talents of actors like Richard Widmark, Anne Bancroft, Elisha Cook Jr., Jeanne Cagney, Donna Cocoran and others. <br /><br />Summary: it's not entertaining and entertainment is the name of the game.\"\n",
      "* * * * * * * * * \n",
      "6790\n",
      "(aka: The Bloodsucker Leads the Dance)<br /><br />Lots of naked babes in this one with a couple of lesbo scenes thrown in. The film is supposed to take place in Ireland but it looks more like Rome and the Adriatic to me.<br /><br />Gothic lesbians get invited to a Count's island castle for the weekend. One by one they seem to be missing their heads due to a madperson running around.<br /><br />It's not very scary or bloody and the rooms look like they are lit with floodlights even though candles are lit. Go figure...(sic)<br /><br />Dubbing is worse than usual and the plot only serves as an excuse for the eroticism and nudity. Directed by euro horror actor Alfredo Rizzo, this is one snoozer.<br /><br />Pretty boring 2 out of 10\n",
      "* * * * * * * * * \n",
      "6952\n",
      "I'm not saying that because the production values were so low, but because it was filmed terribly. That shot of the girl washing her hair in the creek? Did we really need to sit there for an overlong shot and watch her do that for 5 minutes in the same spot? It was terrible, the lighting was just plain bad. You could barely see anything and when the characters were talking, you could barely hear what they were saying. Did I watch the whole movie? Of course not I skipped through most of it, and I don't want to hear anyone say I need to watch the whole thing first to judge it. This film was so poorly done and executed that even by independent and low budget standards it's just plain terrible. Awful movie...don't waste any time on it unless you want a good laugh, but even then it's not because of the actors \\funny\\\" lines, it's because of how painstakingly bad the production is.\"\n",
      "* * * * * * * * * \n",
      "7126\n",
      "Half the reviews were good so i took a chance for $10. Sure Priscilla Barnes had some sex talk but it wasn't much. The whole plot later that she may be the other actress mother & the documentary maker falling for the young woman is stretching it. Its not funny its not that raunchy its not much of anything but a waste of time. Boogie Nights was based on real people that were in the adult industry this is based on nothing that ever happened in the industry. It could have shocked with whats popular today in adult films mocking todays gonzo videos and that big orgy that they had 5 minutes to shoot what a joke a bigger orgy has been done bigger & better decades ago in the early 1970s.\n",
      "* * * * * * * * * \n",
      "7264\n",
      "Thoughtless, ignorant, ill-conceived, career-killing (where is the talented Angela Jones now?), deeply unfunny garbage. It's no wonder Reb Braddock hasn't directed anything else since - anyone who has a chance to make his first film on his own rules, based on his own script, with the help of Quentin Tarantino himself, and creates something like THIS, anyone who feels that THIS was a story worth telling to the world, doesn't deserve a second break. Under the circumstances, the performances are good - the actors do what they're told to do, and they do it well. It's just that they shouldn't have done it in the first place. <br /><br />0 out of 4.\n",
      "* * * * * * * * * \n",
      "7278\n",
      "I went in not knowing anything about this movie and I walked out in an half hour knowing everything about it. It was one of worst movies I've ever seen. I'm a generally a nice person but if somebody told me they liked this movie, I would probably never talk to them again. Anybody who likes it throughly is most likely to have an extremely dry, hermit type personality. I'm gonna also include that they think they are pretty intelligent too, just like the self-centered fart bags who do the voices for the movie. I know everyone has different types of humor, some people may not even like mine, but that's okay; I don't think this covers any range of humor though. This movie is as flat and dull as Wes Anderson's mind. Go in and get ready to walk out; it's best to get your money back too.\n",
      "* * * * * * * * * \n"
     ]
    },
    {
     "name": "stdout",
     "output_type": "stream",
     "text": [
      "7541\n",
      "This movie could have been 15 minutes long if it weren't for all the bickering between son and father. Very predictable. Both Male \\stars\\\" need a good slap in the face! Would you like some cheese with that \\\"whine?\\\" Two chuckles...and a headache. I can understand why the mother left her hubby after 47 years...I don't know how she lasted that long! The first 5 minutes made me want to turn the movie off wishing I had never paid the $3.99 to watch it! The movie didn't flow well and was painfully long. I kept watching my watch hoping time would fly faster...It didn't. The script had so much repetition that it had to be easy for the writer to fill space. On a positive note...the scenery was pretty, fall being my favorite season. The car, the 40 Ford was also quite nice. This movie gets an D- rating approaching an F\"\n",
      "* * * * * * * * * \n",
      "7764\n",
      "I thought that the nadir of horror film making had been reached with \\Book of Shadows\\\", I was wrong. This film makes that look like \\\"The Magnficiant Ambersons\\\" compared to this piece of shameless, unexpurgated fecal matter that has the audacity to call itself a movie. I'd write more but I'm still to angry that I was idiot enough to spend £3 renting it, bobbins.<br /><br />And were these people English? and where is the forest> I have lived in the UK two thirds of my life and as far as I know there are no dark uncharted woodlands in the midlands. The whole bally thing looked like a national trust conifer plantation. Those angels looked like anorexic pornstars (turned most of them were, did my research). I did however like the bit when Judd got ripped in pieces.<br /><br />P.S I love and admire Tom Savini but HE CANNOT ACT\"\n",
      "* * * * * * * * * \n",
      "7773\n",
      "\\Kings and Queen\\\" is a bloated French drama that rambles on for an interminable two hours and thirty-two minutes to no discernible point or purpose.<br /><br />The film features two stories that seem unrelated at first but which eventually connect with one another about halfway through the movie. The first centers around Nora and her struggles with various men in her life, including an elderly father who discovers he has only a few days left to live. The other story involves a young man named Ismael, a violinist who finds himself placed - unfairly, he believes - in a mental institution through the machinations of an unknown third party. After traveling along on separate tracks for awhile, these two narrative strands eventually come together when we learn that Ismael is a former lover of Nora's and the man she has chosen to adopt her son from an earlier, tragic relationship.<br /><br />With a bit more focus and a considerable amount of streamlining, \\\"Kings and Queen\\\" might have been a potent, engrossing drama about modern day relationships. It certainly has moments of tremendous insight and emotional power, and the performances are, for the most part, complex and touching. But, taken as a whole, the film meanders and maunders to such an extent that, quite frankly, it begins to wreak havoc on our patience and to wear out its welcome early on. Even more distressing is the fact that, even though we spend what seems like a mild eternity in the company of these people, we really don't know quite what to make of any of them when the show is finally over. For instance, Nora's father, on his deathbed, writes a withering diatribe against his daughter's character that simply doesn't gibe with the woman we've been looking at for well over two hours. Nora is admittedly no Mother Theresa (then, again, who is?), but she certainly doesn't deserve the invective thrown at her by her very own father. Nora could be accused of being confused, indecisive, a bit self-absorbed at times, but evil enough to have her father wishing he could give her his cancer and make her die in his place? I don't think so.<br /><br />Perhaps this film is simply operating at a level of depth that I was unable to fathom. But my suspicion is that even writer Roger Bohbot and co-writer/director Arnaud Desplechin would have trouble fully explaining their purpose here. This is a well acted, pretentious bore of a film that takes the viewer on a long, rambling voyage through a sea of personal crises, a journey that leaves him no wiser or more enlightened at the end than he was at the beginning.\"\n",
      "* * * * * * * * * \n",
      "7789\n",
      "Where to begin? How best to describe just how awful this movie is???<br /><br />Let's start with the campy hick humor. It isn't very funny. Add a bunch of musicians impersonating actors - Meat Loaf is horrible and Deborah Harry is even worse. Pity poor Art Carney, who should have known better than to do this movie.<br /><br />And then there is the plot. A roadie whose life goal is to work an Alice Cooper show meets a girl whose life goal is to be a groupie for Alice Cooper. At least they get what they want...<br /><br />And then, just when the movie should end, they can't come up with a more plausible last scene than a - well, I won't ruin it for you if you really want to see the movie.<br /><br />There are certain actors that let you know that this is going to be a \\B\\\" movie or perhaps worse. Gailard Sartain is one of them for me - and he has a more prominent role. That's a sure sign that the movie probably won't be very good. If nothing else, the movie lives up to the low expectations - even exceeds them by being worse than poor.<br /><br />Let's just say this. This is the movie against which all bad movies are compared. And none are worse than Roadie.\"\n",
      "* * * * * * * * * \n",
      "8047\n",
      "Brainless film about a good looking but brainless couple who decide to live their dream and take people on diving tours. The pair almost instantly make the wrong choice of customers and get mixed up with some people seeking to recover the items that we see falling to the ocean floor during the opening credits sequence. Great looking direct to video movie could have been so much better if it wasn't so interested in primarily looking good. Performances are serviceable and the plot is actually not bad, or would have been had the director and producers not redirected the plot into making sure we see lots of shapely people in bathing suits (or in what I'm guessing the reason for the \\unrated\\\" moniker a few fleeting bare breasts). The film never generates any tension nor rises above the level of a forgettable TV movie. If you get roped in to seeing this you won't pluck your eyes out since the eye candy is pleasant but we really need to stop producers from making films that are excuses to have a paid vacation.\"\n",
      "* * * * * * * * * \n",
      "8075\n",
      "From the beginning this movie did have a few flaws. The main character played by Hayden Christensen is a the rich young mogul who has inherited his father's considerable wealth and power, and he is struggling to both fill his father's shoes and cut the apron strings mother (and co-executive) keeps too tight. He also has the problem of having a heart condition and waiting in the limbo that is the organ donor registry. There are also minor back stories which your first instinct is to mostly ignore that become important later, such as his friendship with his surgeon (Terrence Howard) and his romance with a middle class girl (Jessica Alba). Uncreative story lines, but not bad enough to ruin the movie. The only real \\oy vey!\\\" moment was the name of Lena Olin's character. Overbearing woman named Lilith...subtle!<br /><br />The surgical scenes are not at all censored. I appreciated that, people who find surgery scenes scary might not. The horror of being awake during anesthesia was done well at first. You watch in emotional agony as Christensen screams inwardly through the chest incision and the rib spreader. The moment of irony from the trailers then comes where while he is one of the unlucky few to be awake during anesthesia, he is also luck in that it helps him learn that his surgical team is planning to murder him.<br /><br />The big twist, however, is very predictable and sends the film delving into the conspiracy and his memories of the little signs which were there but he, like us, initially missed. <br /><br />There are two more twists at the end involving his relationship with his mother. One is an impressive gesture by Olin, which comes of as unimpressive due to poor writing. The other is a secret about the family's past which seemed very tacked on and pointless.<br /><br />The initially well done anesthesia awareness drama gets lost in the poorly written conspiracy drama. There is a one final attempt to bring it back which falls flat, taking the entire movie with it.\"\n",
      "* * * * * * * * * \n",
      "8113\n",
      "Wow! I'm shocked to learn that it's a small world and that we are all interconnected. What a waste of 88 minutes. John Dunne put it much better in one sentence. \\No man is an island.\\\" The acting wasn't bad. The kids gave it all they had but at times the thread got so thin I couldn't follow it and the only real \\\"hero\\\" in the film ends up in jail after being tormented by a meter maid. I don't know. I just don't get it. Oh well.\"\n",
      "* * * * * * * * * \n",
      "8117\n",
      "Well, I do like the gore in this movie - it is genuingly unsetteling. Anyone that's been to the dentist will know why. The story really isn't that bad, Corbin Bersen's character's motivations do make a lot more sense than in most horror movies.<br /><br />I've seen worse acting, directing, script, etc. but at the end of the day this is still a bad horror movie. So it comes down to if you enjoy that type of thing or not. I tried to watch the sequel, but it was exactly, exactly the same thing as this movie. Just keep in mind if you enjoy people getting tortured at the dentist, then this is the movie for you!\n",
      "* * * * * * * * * \n",
      "8194\n",
      "This movie should have been named Need For Speed: The Movie. For those who have not played the games Need For Speed is mostly about hot cars and beautiful women and almost no plot. This applies perfectly to Redline. The only thing about this movie that was A-Level were the cars. The acting seemed forced and scripted, the premise was flimsy at best, and the plot was almost nonexistent. I only really watched this movie to see how bad it was and, while it was pretty bad, it could have been worse. And at least it was entertaining. I just wish they had showed Eddie Griffin crashing the Enzo somewhere in the movie. All in all, don't pay for it, don't go out of your way to see it, but if it's on Showtime or HBO and there isn't anything else on, it's a decent distraction.\n",
      "* * * * * * * * * \n",
      "8197\n",
      "I watched Free Money last night & it was the longest 90+ minutes of my life. With such an intriguing cast, I really thought that I was in for a treat - especially since I'm a Brando fan. WRONG! What a waste of talent. It's almost embarrassing to watch at times (like the cattle prod scene), & there were so many missed opportunities for humorous setups (why didn't they show Charlie Sheen's character going back to tow Brando's truck?) Ugh. It tries to be a slapstick comedy, but I just wasn't buying into it. Skip this one. Only for die-hard Brando fans.<br /><br />I'm giving it 2 out of 10 because I still think the worse movie ever made was Skidoo.\n",
      "* * * * * * * * * \n",
      "8269\n",
      "A black guy fights ..... and supposedly wins .... yeah ... 1/10. Obviously fiction.<br /><br />So we're presented with a damm nice title, a real nice tag line and even a nice plot line .. Thats about it, thats where it ends.. We move into fiction after that.<br /><br />Michael Jai White, the black guy so don't get confused with the name.. portrays a black guy.. Umm, thats all there is to the name..<br /><br />Its so hard to find decent help, must have hired the black guys friends to help cause the low budget, low ineptness of this movie, has the camera's shadow trailing the first scenes.... Yeah obvious idiot moment for the average guy like you and me.. but yeah...<br /><br />10 lines. review submitted,. if you paid to see this movie, you got screwed.\n",
      "* * * * * * * * * \n",
      "8390\n",
      "This is one of those movies where I wish I had just stayed in the bar.<br /><br />The film is quite frankly boring. What story there is is very flimsy and you pretty much have to guess at it. The film indulges itself with pretentious camera techniques that seem intent on causing migraines and makes it look like a student film. Did I say it was boring already? If all the characters had suddenly died at the end of the movie I would not have cared less as I had no emotional attachment to any of them.<br /><br />There are about 4 good minutes in this movie, but that was about it. This is the first time I have ever considered walking out of a cinema during a performance, but I held on believing that it had to get better. I was wrong.<br /><br />The sort of film you could threaten naughty children with.\n",
      "* * * * * * * * * \n",
      "8480\n",
      "Although this is \\better\\\" than the first Mulva (which doesn't say much anyways, I would rather watch paint dry) it still sucks. Do yourself a favor and avoid anything from these Low Budget Pictures guys. I was suckered into buying a few dvds to support some indy filmmakers and boy did I regret it. Some haven't even been officially \\\"released\\\" yet (not bootlegs-bought from the filmmakers themselves) and I can't even list how bad they all are. Avoid anything with Teen Ape or Bonejack in them as they do pop up in other small indy films that they are friends with. If you are friends of these guys, chances are you were in their movies and had fun making them. But for those that had to watch them? No way. Bad video, bad audio, bad acting, bad plot...etc etc. These aren't even funny. I gave this one a 2 only because Debbie Rochon is in it and that is about it. Maybe it doesn't even deserve the 2. About a 1 1/16th star to show it was slightly better than the first (which I wish I could have rated in the negatives). If you want a decent no budget film, go pick up something from LBP's \\\"friends\\\" over at Freak Productions like Marty Jenkins or even Raising the Stakes. Those are actually decent.\"\n",
      "* * * * * * * * * \n",
      "8551\n",
      "Recap: Doctor Markov has developed a new theory how to produce energy, knowledge that might unbalance the world. He keeps his knowledge coded and secret and desperately wants out of the Soviet Union. KGB on the other side desperately wants the new technology. So, they sets a scheme in motion. During a rescue attempt to free Markov, KGB steps in, takes Markov to a secret location and lures him to reveal his secret by saying they are in Sweden, and working for the UN. As a backup, KGB kidnaps Markov's estranged daughter. CIA now send their best agents, a team of (Swedish?) Ninjas to thwart KGB and rescue Markov and his daughter.<br /><br />Comments: A cult movie that despite not being very good needs seeing. The movie is quite ambitious but lacking in many areas. First off is that it is very dark, probably to conceal locations and bad effects, that some scenes are hard to comprehend. You can't see what is happening. The second thing that it is lacking is martial arts, despite being a ninja-movie. Sure there are some, of quite poor quality, but mostly the ninjas fires automatic guns or sets of explosions. The automatic guns pose a problem too as they seem to have a endless supply of ammunition. And the ninjas seem almost immune to bullets while Soviet guards die like flies.<br /><br />What does it have that speaks for it then? The idea and ambition foremost. Some actually, and especially for a Swedish movie, decent action-scenes albeit not of martial arts. Some nice slow-motion scenes and pretty much blood and gore. And some very interesting new weapons technology that makes the victims heart or brain explode. Mostly all parts that you look for in a B-movie.<br /><br />Because it definitely is a B-movie, no mistake could be made there. But if you expect it, and watch it like a B-movie, it is entertaining. But don't forget, it is not only a B-movie it is set in the eighties. Some girls, for example, besides wearing... lets say \\interesting\\\" clothes, have lethal doses of eye shadow and makeup.<br /><br />In all, see for the cult status and the ambition. Enjoy it, and then forget it.<br /><br />4/10\"\n",
      "* * * * * * * * * \n",
      "8585\n",
      "Alfred Hitchcok is not my favorite director by any means but imagine what he could have done with this! The plot holds much potential for suspense. John Garfield is as almost always excellent and Raymond Massey is scarily cast against type. Nancy Coleman is not a very impressive leading lady but the supporting cast is large and very capable.<br /><br />Yes it starts to sag fairly early. There are too many coincidences. And an important subject is trivialized by its being made into little more, in the end, than a love story.<br /><br />It's fun to watch for Garfield, Massey, and the character performers. But it's not awfully good.\n",
      "* * * * * * * * * \n",
      "8915\n",
      "Like last year, I didn't manage to sit through the whole thing. Okay, so Chris Rock as a host was a good choice because he was vaguely engaging. Or rather, out of all the total bores packed into the theatre, he at least wasn't in the Top 10 Most Boring. A lot of the presenters, on the other hand, were in this coveted Top 10. I hadn't known that the whole thing had been done by autocue (although I knew it was scripted) but it was really terrible to see these supposedly good actors unable to insert expression, look away from the cue and stumble over simple words (Natalie Portman",
      "if there's no director, she's gone). The Night of Fancy Dresses and Boring Speeches was long and tedious, Beyonce Knowles butchered some good songs and there were very few decent acceptance speeches and clips. Adam Sandler wins the Worst Presenter award.<br /><br />For helping me write this review I'd like to thank my Mum, my Dad, my lawyers and my pedicurist for all believing in me, and I'd like to point out that I have a high metabolism and of course I haven't been starving myself for a month. I'm not going to cry...thank you.\n",
      "* * * * * * * * * \n",
      "9095\n",
      "This is the worst show. Buntch of grown up acting like kids no humor nothing. Even Sesame Street has better humor and more adult than friends \\Friends\\\" may be the worst thing I've ever seen on television and I've been sitting in front of the tube observing Friends\\\" simply does not stack up well to other, contemporary series. It lacks the smartness of \\\"Seinfeld\\\" and the wonderful self-ridicule of pomposity that is the hallmark of \\\"Frasier\\\". The characters in \\\"Friends\\\" seem designed to make them repellant dullards. This incestuous group of neighbors makes my flesh crawl.<br /><br />The unintelligent show is completely without an edge of any sort. The characters are caricatures of caricatures and the writing is sophomoric -- though intentionally so. (It might be interesting to observe a writing session since the writers may have to slave to aim lower than their capabilities so as not to confuse the loyal friends of \\\"Friends\\\".)\"\n",
      "* * * * * * * * * \n",
      "9160\n",
      "Denzel is about the only thing that is right in this movie.<br /><br />Maybe once in an early stage this was a better movie. Someone decided to cut some action and plot points into the beginning of the movie, giving away most of the story line in about the first 5 minutes. That and ruining whatever build up in pace and rhythm the movie might have had before.<br /><br />So first it confuses you and then it puts you off. The dramatization pushes beyond suspension of disbelieve.<br /><br />Of course there is that feeling of great injustice and anger that movies like this potentially manage to instill in viewers. Granted, it does that so if you are looking for that ... knock yourself out.\n",
      "* * * * * * * * * \n",
      "9207\n",
      "This film might have weak production values, but that is also what makes it so good. The special effects are gross out and well done. My favorite part of the movie had to be Chrissy played by Janelle Brady. She is super hot and also has a good nude scene. Robert Prichard as the leader of the gang is hilarious, as are the other members. This film is actually trying to make a point, by saying that nuclear waste plants are bad. 4/10 Fair comedy, gross out film.\n",
      "* * * * * * * * * \n",
      "9236\n",
      "I had numerous problems with this film.<br /><br />It contains some basic factual information concerning quantum mechanics, which is fine. Although quantum physics has been around for over 50 years, the film presents this information in a grandiose way that seems to be saying: \\Aren't you just blown away by this!\\\" Well, not really. These aren't earth shattering revelations anymore. At any rate, I was already familiar with quantum theory, and the fact that particles have to be described by wave equations, etc. is not new.<br /><br />The main problem I have with this movie, however, is the way these people use quantum theory as a way of providing a scientific basis for mysticism and spiritualism. I don't have any serious problem with mysticism and spiritualism, but quantum mechanics doesn't really have anything to do with these things, and it should be kept separate. The people they interviewed for this movie start with the ideas of quantum theory and then make the leap to say that simply by thinking about something you can alter the matter around you, hence we should think positively so as to have a positive impact on the world and make our lives better. The reasoning is completely ridiculous, and the conclusions do not logically follow from quantum theory. For every so called \\\"expert\\\" that they interviewed for this film, there are scores of theoretically physicists who would completely disagree. They would point out, quite rightly, that the unpredictability of the subatomic world does not lend support to mystical notions about our spiritual connectedness.<br /><br />It disturbs me that people are going to see this film and completely eat it up because it leaves them with a nice positive feeling. The main thrust of the film is based on a total misinterpretation of quantum theory, and it is as bad in its reasoning as any attempt to justify organized religion with similar pseudo-scientific arguments.<br /><br />Avoid this film.<br /><br />Oh yeah. At one point, one of the \\\"experts\\\" says that since throughout history most of the assumptions people have made about the world turned out to be false, therefore the assumptions we currently hold about the world are also likely to be false. Huh? That totally does not follow. And even if it did, I don't see how that helps his argument. I mean, if his ideas ever became common assumptions then I guess we would have to assume that they are false too, based on his own reasoning.\"\n",
      "* * * * * * * * * \n",
      "9239\n",
      "Bollywood fans pretty much hold Amitabh Bachan's Mard in high regard but I think it is very overrated. Manmohan Desai collaborated before on movies like Suhaag,Parvarish,Amar Akbar Anthony,Naseeb,Desh Premee and Coolie and I have seen all of them I liked so I had very high expectations before I watched Mard and was bitterly disappointed. My main gripe about Mard is that it feels like Amar Akbar Anthony part 2,maybe Mr Desai ran out of ideas, after all he had been using that formula for years and years. 1. First of all some members of the cast is repeated from AAA, for instance the police inspector who brings up Amar, the Muslim who brings up Akbar, Nirupa Roy and a few more. 2. In AAA Nirupa Roy loses her eyesight, in Mard she loses her voice 3. In AAA there is the famous song (Shirdi wale sai baba)well in Mard we have Amitabh singing Maa Sherawali. Having seen AAA for over 1000 times I noticed that straight away.<br /><br />My other gripes are that some of the situations just seem ridiculous, true Manmohan Desai made leave your brain at the door kind of movies but with Mard I thought he went too far. My last gripe is that compared to songs in previous Manmohan Desai movies I found the songs rather disappointing. I know it has many fans that swear by it but I didn't like it one bit. It actually pains me to write this review because I am such a huge fan and have loved his movies since I was a child.\n",
      "* * * * * * * * * \n",
      "9248\n",
      "I found Tremors 4:The Legend Begins, to be dull and boring.All the action scenes were stupid.The so called \\GRABOIDS\\\" are reduced to the size of a modern day house cat, if not smaller.The acting was horrendous, and this film was just an unnecessary movie in the Tremor saga, because even though it tells the story of how the graboids were formed, the story is so dumb and useless.Also, if you want to tell a story WAY back in time, make sure you use the SAME ACTOR(Michael Gross), to be someone in the past, when he's someone in the present in the other Tremor movies.Geez...If you haven't seen this film, don't waste your time.Stick to Tremors, 1, 2, and 3, for a good time.This film however, make sure you're remote is sitting right next to you with the STOP button working for a quick retreat away from this nonsense.\"\n",
      "* * * * * * * * * \n",
      "9592\n",
      "i can't believe that NONE of the official reviews for this movie warn people that it contains two quite upsetting sexual assault scenes. It's as though our culture accepts this kind of behavior as simply sexual but not violent. My biggest problem with the movie is that it doesn't seem to condemn these assaults - as in, the woman who is repeatedly assaulted and pressured never holds the men accountable for their actions, and neither does anyone else. One man is stopped from completing the assault when someone throws a dagger at him, but he is reprimanded only with \\you cannot force a woman to love you\\\" rather than \\\"you should never force a woman sexually, you jerk\\\"... From a woman's point of view, the movie is a let down. It sort of \\\"throws a bone\\\" to women in letting them be both skilled fighters and leaders, but the movie is much more defined by the romance - which is characterized by the notion that human sexuality must involve an imbalance of power, with men dominating the woman they love. This amazing martial arts fighter doesn't use any of her fighting skills to try to fend off her attackers. She never even makes them apologize - rather, SHE seems apologetic. Overall, a depressing and upsetting movie, with some great cinematography and some cool fight scenes, but not as good as Hero by a long shot.\"\n",
      "* * * * * * * * * \n",
      "9606\n",
      "Against All Hope is a very poorly made, sometimes painfully so, movie. This is Michael Madsen's first movie, and it shows, he isn't that good in it. Some people might find the story laughable; an alcoholic realizes his life and family are falling apart so he calls a preacher as a last resort for help. After telling the preacher his story, he accepts Jesus Christ into his heart. <br /><br />I actually found many of the religious scenes, as when Cecil Moe (Madsen) goes to a church but walks away from it, pretty realistic. I also liked how Cecil knows his life is breaking apart and tries to get help, but realizes only God can help him. At the end he realizes with the help of God he can go through life without drinking again.<br /><br />This movie is not well made at all. The acting is bad, the script could use some work, and looks worse than my home videos, but it has a good message. Now, just because you become a Christian doesn't mean you will automatically be able to stop an addiction or heal your broken family, and Cecil realizes this and works hard to stay on track. Overall, if your a Christian you will appreciate how this movie portrays Christianity and if you aren't, you may find yourself being called to find out more about the faith.\n",
      "* * * * * * * * * \n",
      "9649\n",
      "I saw this when it was in the theater, it started out so strong I mean back in 1980 this was a bold movie and the special effects were excellent AT THE time. Now you would have to of been at least 30 or so in 1980 to really understand this point because studying film historically misses the mind set at the time the expectations, and other related psychological factors. Now as I said the movie was engaging suspenseful and very entertaining. It builds to an excellent climax then.... IT ends I mean the person that described it as having a water balloon break in your hand before throwing it, besides being a very poetic description. In my experience, it was just not strong enough. My wife and I were well... how can I say this? We were upset, I mean we paid money, invested the time to watch the movie which was excellent. \\We both felt we were robbed with an ending that convinced us both the production company must of run out of money and could not raise enough to finish it correctly. In fact my wife said it best, it did not end, IT JUST STOPPED!\"\n",
      "* * * * * * * * * \n",
      "9665\n",
      "This review may contain some spoilers.<br /><br />The remake of the classic 1974 car chase movie Gone in 60 Seconds begins well. Actually it is well acted and the plot moves quite well. But even a big Hollywood budget doesn't change the fact that the original plot was more believable. For those who don't know, the original plot had the thieves working as insurance inspectors. Who would suspect them. But even with a change to nearly every aspect of H.B. Halicki's original, the remake is a very good movie, until we get to the final chase scene, the part of the 74 version that made it great. The one in this version is watered down, only 10 minutes, and it culminates in a monster special effect that takes all believability out of the chase. Where the original chase was very believable, the star was a stunt driver who did all his own stunt, the remake falls flat in the last 15 minutes. My advice, if you want to watch a classic car chase film, fine the original in the bargain bin at your local rental joint and stay clear of the new remake.\n",
      "* * * * * * * * * \n",
      "9787\n",
      "An attempt at crossover to appeal to those who don't appreciate opera, exploiting the fame of one of the greatest opera singers of all time, it fails badly. All that is desirable in this movie is the opera, and one can best find a recording of Pavarotti doing what he does best. The plot revolves around a romance with a doctor who heals his throat which has suddenly become troublesome. <br /><br />Only because it came out so long ago is it largely forgotten. Like most opera stars, Pavarotti is a decent actor and has stage presence aside from his singing talent, and nothing that he does in this movie negates that opinion. His culpability lies in not rejecting the horrid script. Perhaps because great operas can have silly stories he tolerated this one.<br /><br />Who knows, except those involved? Do we need to know? <br /><br />The plot is weak and trite. This movie is like trudging through cold mud to pick off a few juicy tidbits (the opera music) hanging above the mud. We have other ways in which to appreciate the great Pavarotti, and this one isn't one of them. Just get one of his many superb opera or vocal-concert recordings and recognize the master tenor where he is most suited.<br /><br />It would be one of IMDb's 100 Worst Films if more people remembered it and gave it some votes; it would fit neatly in a list including several efforts of singers, actors, models, and athletes to exploit their popularity through film. Very often it all goes badly wrong due to incompetent acting or a horrible script. Pavarotti would have been a decent actor had he not shown such a superb voice. However effective he is as an actor (opera requires it), not even Jimmy Stewart could have rescued this turkey of a script.<br /><br />I give it a polite 3 of 10 because someone may have become a fan of Pavarotti's singing and of opera because of this movie.\n",
      "* * * * * * * * * \n",
      "10271\n",
      "Body Slam (1987) is a flat out terrible movie. The low budget reeks, the direction is pedestrian (at best) and the writing and acting is lame. But if you're into old school wrestling (circa 1970's through the mid-80') then you'll be more entertained than the average viewer. I have to warn you, this movie stinks on ice. I gave it a two because I felt like being generous. This turkey was \\directed\\\" by stunt master Hal Needham. The stars are Roddy Piper, The Tonga Kid and a bunch of scrub wrestlers and c-list actors (Dirk Benedict).<br /><br />The synopsis of this \\\"movie\\\" is about a promoter who wants to combine \\\"hair rock\\\" and wrestling. But their are others that don't want him to succeed. There's more but I don't want to SPOIL it for you. If you can stomach the bad acting and inane storyline, there's a few surprises near the end for die-hard wrestling fans. <br /><br />I wouldn't recommend this to my worse enemy (and I mean it).\"\n",
      "* * * * * * * * * \n",
      "10317\n",
      "It is amazing to me what passes for entertainment today. maybe I am a dinosaur from the fifties, and I am out of touch with todays movie going generation, and apparently that is the case with regards to this movie, since so many people loved it. I found it foul and vulgar. I haven't said that about many movies in my life but this one fits the bill. The humor is sophomoric and crude. I am not a politically correct person, and even I found the gay jokes, not only not funny but downright offensive ( I'm not gay). The main character in the movie is not even a likable person, just pathetic. When the movie was finally over i heard a number of people comment on how disappointed they were in what they had just pay good money to see.\n",
      "* * * * * * * * * \n",
      "10322\n",
      "The plot is rocky. The acting is somewhere south of a Jr. High School play. The cinematography is not bad but it looks like it was cut with a machete. I couldn't decide of this was an intentionally hokey flick or if the people behind it actually thought they were making a good film. Think Death Valley Days meets Mayberry RFD. People running around in a 'lawless' modern town wearing quick-draw 6 gun rigs. It has more than its fair share of 'cutsey' stuff. Picture the Good Guys pulling up to an old farm house, and parking the Ford Mustang right in front of a hitching rail. Picture the clerk in a hotel watching an obviously western (hemisphere) movie sporting a Japanese sound track but with English sub-titles. It's all really strange but might be improved if watching it while partaking in a little peyote. It's a real curiosity with modern parallels to every western movie cliché you can think of. There's even a modern version of the good hearted dance-hall girl, AND a twanging Jew's-harp in the soundtrack. Really! If someone brings this to your home for a Saturday night movie session, tell 'em your DVD player died.\n",
      "* * * * * * * * * \n",
      "10376\n",
      "Although the movie takes place at an \\Ivy League\\\" college, it was in fact shot entirely in Northern Arizona, mostly at Northern Arizona University in Flagstaff in the fall of 1976. I was involved in the theater department there, and most of the extras in the film are then-members of the theater department. <br /><br />There is an absolutely ludicrous scene in this film (if you know your Arizona geography) that shows several cast members riding bikes from the college to a creek. We NAU'ers know that the campus and said creek (Actually Oak Creek Canyon) are about 35 miles apart, and while the trip there is all downhill, it would be literally IMPOSSIBLE to ride a bike back UP that same road!\"\n",
      "* * * * * * * * * \n",
      "10426\n",
      "I watched Phat Beach on cable for a while and I sort of enjoyed it. The fat guy is the best character, as he seems to be a nice guy. The rest of the characters are just various stereotypes of young men and young black men. I like to watch these low budget movies that capture a period of time because they are almost like a documentary of the year's attitudes and fads. Phat Beach is also funny because the low-budget babes in this movie are strictly home-girls. Most low-budget movies have that \\local babe\\\" quality, and you can tell the babes in this movie were the local strippers and underwear models for JC Penneys. Some of them had so much cellulite hanging from their bikinis that it was funny to watch how the \\\"youngsters\\\" went wild over what was essentially some really over-used, high-mileage skank. There were some cuties too. That is the charm of these low-budget crappy movies. You will see a lot of doggies, and some real cuties! I checked up on some of them at IMDb and seven years later Phat Beach is their only credit. Too bad. It would be interesting if someone ever managed to do a \\\"Where are they now\\\" book on all of the cuties that have appeared in the history of movies and then were never again to return. What happened?? There are probably one or two young people in almost every movie who seem to have a lot going for them and yet years later when you see the movie again on TV you wonder \\\"what ever happened to X?\\\" Anyhow, this movie mostly blows, but it has some funny moments.\"\n",
      "* * * * * * * * * \n",
      "10458\n",
      "Surviving Christmas (2004) Ben Affleck, James Gandolfini, Christina Applegate, Catherine O' Hara, Josh Zuckerman, Bill Macy, Jennifer Morrison, Udo Kier, D: Mike Mitchell. Dumped by his girlfriend, a hotshot yuppie doesn't want to be left alone on Christmas so he decides to return to his boyhood home, imposing on the dysfunctional family that now lives there and bribes them to pose as his family. An obnoxious and one-dimensional performance by Affleck, who mainly acts with a flashy smile, makes his character come off as a mentally unbalanced creep, but Gandolfini and O' Hara breathe some life into this mess. Even for farce, its silliness is lumbering, not much makes sense from scene to scene, and its sentimental messages are as phony as Affleck's grin. 91 min., rated PG-13. * ½\n",
      "* * * * * * * * * \n",
      "10520\n",
      "this movie wasn't absolutely atrocious, but it was pretty bad. the acting ACTUALLY was pretty good! jeffrey combs did a pretty darn good job as the mad scientist, which is sort of his specialty if you don't know such things :D. bill forsythe .. well, i'm not EXACTLY sure why he was in this film. he's way too good for this kinda stuff, and his role wasn't exactly demanding. I rented this on the strength of those two leads, and I wasn't really disappointed. I mean, heck, it's a movie about a half man/half shark. It ain't Shakespeare folks. Other than the plot, which is full of holes, and the poor dialogue, I would like to note that the cinematography also left many things to be desired. there were shots were they were trying to look \\cool\\\", but it ended up obscuring the scene or just coming off plain cheezy. they also blew it many times when they had decent dialogue and cut away prematurely before the person could even deliver the line. it was pretty bad. but if you are a jeffrey combs fan, this one is worth checking out. he gives a great performance and does what he can with the character. forsythe ain't bad either, and either is the female lead. heck if i can remember her name though. bottom line, i wouldn't otherwise waste your time.\"\n",
      "* * * * * * * * * \n",
      "10604\n",
      "Darcy and her young daughter Pamela are heading out to the country where her mum's boyfriend Peter left his doctor's position in the city to become a writer and fix up a bed and breakfast inn. Although this inn has a terrible past and Pamela learns from one the girl's who lives in the town that a deformed witch once reside in that house. They called her the 'Tooth Fairy' as she would kill kids after getting their last baby tooth. This work on the inn, has awoken the 'Tooth Fairy'. Now she has her sights on Pamela and her last baby tooth, but if any gets in the way they face the same fate that awaits Pamela.<br /><br />This flick's old folk myth of the 'Tooth Fairy' doesn't paint her in a very generous way, as you would believe when you were a child. Don't they just love turning happy childhood memories into nightmares! Another one which did fall into the same category was \\Darkness Falls (2003)\\\". I can't compare how similar they are in the premises, because I haven't seen the latter, but I mostly read they have basically share the same idea. For a little straight to DVD film, this DTV effort looks good and has some promising images surrounding the senseless and traditionally by the book plot device. Low expectations are needed, as I wouldn't class it as an success, but I found it be to marginally entertaining.<br /><br />Cory Strode and Cookie Rae Brown's story or background for this 'Tooth Fairy' character is completely bare with it leaning more towards a slasher vehicle than anything really supernatural. Silly is a good way to describe what's happening in this poorly scripted story, but it never really feels like a fairytale horror. The dialogues can seem rather redundant and morally hounded. While the acting is simply sub-par with the bland characters they have to work off, but director Chuck Bowman offers up some inventive blood splatter and terribly nasty jolts. This kinda makes up for the lack of suspense, the zero scares and generic tone. His direction is reasonably earnest and visually able, where he gets some atmospheric lighting contrasting well with its slick photography. The promising opening scene is creepily effective. His pacing can slow up in parts and there's the odd and unnecessary slow-motion scene put in, but nonetheless it never gets too stodgy with something active occurring which made sure that I wasn't bored.<br /><br />The make-up special effects provided the goods, as there's enough repulsive gruel and the Tooth Fairy's appearance is especially gooey. The figure of the tooth Fairy can look threatening in its black robe, bubbling make-up and swift movements. Being on location helps carve out a more natural feel and can get atmospherically rich in its sense of eeriness. Child actors can be incredibly annoying, but Nicole Muñoz was decent in her part. Lochlyn Munro and Chandra West are somewhat solid, but can be a little too causal in their performances as Peter and Darcey. The radiantly gorgeous Carrie Anne Fleming is one of their lodgers. P.J Soles shows up in small part as a superstitious neighbour who tries to warn them about the evil that lurks at the inn.<br /><br />I thought it was a okay time-waster that has a sound concept, which just isn't fleshed out enough and the execution is pretty textbook stuff. Watchable nonsense, but at the same time extremely forgettable.\"\n",
      "* * * * * * * * * \n",
      "10720\n",
      "This is the worst movie I've ever seen in my life. This is saying quite a bit, considering some of the choices I've made in film rentals.<br /><br />I got this on netflix based entirely on the fact that someone I went to high school with is topless in it. The topless scene lasted all of about 5 seconds and the rest of the movie was about as much fun as having pungee sticks driven underneath my toenails whilst being forced to listen to Roseanne sing Big Spender.<br /><br />The \\skits\\\" are stupid and consist of the worst kind of juvenile bathroom humor and locker-room gags, and it's such a blatant (and poor) rip-off of The Kentucky Fried Movie that you'll be begging for Big Jim Slade to crash through the wall and save us from the stupidity of \\\"Vince Offer\\\" (whoever that is).<br /><br />Unless you are a masochist, avoid this pile of rubbish.\"\n",
      "* * * * * * * * * \n",
      "10849\n",
      "My friends and I rented that movie last night and we had one of the greatest laughs in awhile. The movie is not supposed to be funny at all, but it is just so ridiculous and it lacks any realism whatsoever. First, Phillippe (I forget what his character is called and I don't really care) uses his regular employee ID to go through all the top-security terminals. Not only is that pathetic but it gets topped when his enormous efforts culminate in his finding the so-scary Lego-room, which hosts the super computers. This is plain funny. The tense mood that we are supposed to experience is completely spoilt by the childish looking room. The ending, like all else, is very very very cheesy, especially when the bad guy's lawyer shows up 'right on time'. Anyway, this movie is a good laugh. If you need something to make fun of, definitely see it.\n",
      "* * * * * * * * * \n",
      "10897\n",
      "The worst thing about Crush is not that it's acted pretty bad, or that the plot is virtually non-existent, and it's not even that bad that the camerawork could have been better.<br /><br />No, the worst part of this movie is that it has a few absolutely brilliant moments that keep you hoping that there are more to come.<br /><br />But in the end, it's too little, too late. If you are a fan of violin-music and cheap tearjerking scenes of 40+ women crying and hugging and talking about babies and marriage - then by all means, don't miss it.<br /><br />I myself am not exactly thrilled to see the things listed above in a movie, and as a result I had a pretty horrible time. The few absolutely brilliant jokes can not make up for the rest of it.<br /><br />The verdict: 4/10. Guilty of wasting my time.<br /><br />\n",
      "* * * * * * * * * \n",
      "11008\n",
      "Last week, I took a look at the weekly Nielsen ratings, and there was Veronica Mars, supposedly \\the best show you're not watching\\\".<br /><br />Well, they're right that you're not watching it. It aired twice and was ranked 147 and 145 out of 147.<br /><br />Translation: this is the lowest-rated show on any nationally broadcast network... and deservedly so. I tried to watch it a couple of times because of all the press coverage hyping it as a \\\"great\\\" show, a \\\"realistic look\\\" at life and all such nonsense. The reality was otherwise. Veronica Mars is a bore. It's as unrealistic as it gets, and it richly deserves to be canceled.<br /><br />The only Mystery is why CW felt compelled to put on its inaugural schedule the lowest-rated show in memory, after two years of continued commercial and artistic failure.\"\n",
      "* * * * * * * * * \n",
      "11035\n",
      "I'm a fan of both Shakespeare and MST3K, so I waited anxiously to see this episode. I'll comment on the movie first, then the MST3K episode. The recipe for this movie: take talented actors, rich and beautiful Shakespeare material, and a $1.25 budget. Mix well, then drain of all life and movement, until dull and lifeless. Serve cold in a big, plain stone cauldron. Movie, I give 3 out of 10, because the actors at least deserve a little bit of credit. Okay, now the MST3K episode. I'll admit it, the first time I saw it, I fell asleep halfway through. I understand that was the reaction of several other veiwers as well. However, when I watched it a second time, I realized that there was a whole host of intelligent references and good lines I missed the first time around. The trick with this episode is: listen carefully! It takes a couple of viewings to catch each line. Give it a second chance, and You'll see what I mean. MST3K Episode: 7 1/2 out of 10.\n",
      "* * * * * * * * * \n",
      "11073\n",
      "This movie is great, mind you - but only in the way it tells a very BAD story. Stella is so terribly crude, and never learns better. Her husband is incredibly snobby and small-minded. Neither ever learns better. Is this realistic? Somehow, Stella understands that her daughter is ashamed of her gaudy manners & dress, yet cannot understand that she just needs to tone it all down? I don't think so. Stella is a GOOD woman, and a VERY GOOD mother. Giving up herself, so her daughter can be associated with a bunch of bigoted snobs is disgusting. <br /><br />Much of what we see might have been normal for the times - people having a beer or two, enjoying a player piano, dancing - but it is made out to be some sort of moral inferiority. \\I can't have our child living this way!\\\" Spare me. <br /><br />This story tells me one thing: that the Unwashed Working Class cannot ever hope to aspire to the heights of the Upper Classes. And that is simply a load of hogwash.\"\n",
      "* * * * * * * * * \n",
      "11076\n",
      "This film is mediocre at best. Angie Harmon is as funny as a bag of hammers. Her bitchy demeanor from \\Law and Order\\\" carries over in a failed attempt at comedy. Charlie Sheen is the only one to come out unscathed in this horrible anti-comedy. The only positive thing to come out of this mess is Charlie and Denise's marriage. Hopefully that effort produces better results.\"\n",
      "* * * * * * * * * \n",
      "11107\n",
      "One of the worst films I have ever seen. How to define \\worst?\\\" I would prefer having both eye balls yanked out and then be forced to tap dance on them than ever view this pitiful dreck again. Somehow, One-Hit Wonder Zwick manages a film that simultaneously offends Elvis fans, Mary Kay saleswomen, Las Vegas, gays, FBI agents and the rest of humanity with any intelligence with a shoddy, sloppy farce so forced it deserves to be forsaken ed. How Elvis Presley Enterprises could allow the rights of actual Elvis songs to be used in a film with a central premise that seems to be \\\"The only good Elvis Presley Imitator is a dead one\\\" is beyond me. The worst part of this mess - and that takes some work - is the mangled script: In 1958, Elvis' words and songs that he would speak/perform in the 1970's are quoted! Worst special effect? That Oscar would go to the moron who decided that Elvis' grave, potentially the most photographed/recognizable grave in the world, resembles a pyramid with a gold record glued atop and is situated in the middle of a park somewhere. Potentially, this film's biggest audience would be Elvis fans. However, the rampant stupidity (Nixon gave Elvis a DEA badge, not FBI credentials...and I could go on and on) actually undercuts THAT conventional wisdom. Ugh. I used the word \\\"wisdom\\\" to describe this stupid movie. This is truly a horrible, horrible film.\"\n",
      "* * * * * * * * * \n",
      "11141\n",
      "The Last Station, director Michael Hoffman's melodrama about the last months in the life of Leo Tolstoy, begins with fog and sleep. Tolstoy (Christopher Plummer) lives with his family in a compound at Yasnaya Polyana, taking walks and writing and being seen to by his wife and the adherents to his \\movement\\\", people dedicated to his ideas of pacifism, vegetarianism, sexual abstinence and communal property who have gathered in a forest camp not far away. His wife, Sophia (Helen Mirren) wars openly with the head of his movement Chertkov (Paul Giamatti), who she claims in his efforts to convince Tolstoy to sign the rights to his works over to the Russian people is trying to steal the wealth that is owed to her upon her husbands imminent death. Observing all of this is Tolstoy's new steward, Bulgakov (James McAvoy), a naive adherent who is torn between his love of the man and concern for his wife.<br /><br />Hoffman's script, which is based on the novel by Jay Parini, quite often veers itself into confused territory, building up a complex tangle of threads and opaque motivations that ultimately don't resolve themselves in any satisfying way. The scope of the film is grand, and its story should reverberate just as Tolstoy, whose beliefs foreshadowed in some ways both the Bolsheviks' and those of pacifists like Ghandi. It unfortunately doesn't, it's un-unpickable, building up with much gusto confrontations that are constantly ravelling off into nothingness. The three-way relationship between the Church, the faithful Sophia and the unbelieving Tolstoy, for example, is referenced often. In the last section of the film a mute priest in a magnificent hat even shows up, but the script never expands on this beyond awkwardly inserting it into the story as an attempt at enriching it or providing some semblance of historical accuracy. There are a ton of details in the film, but not enough attention is paid to most of them and as a result the film feels cluttered, overburdened, energetic but unfortunately pointless.<br /><br />At its heart is the love story between Sophia and Tolstoy, and that story, as baffling and cramped as it is, is the reason to watch the film. Mirren and Plummer are, unsurprisingly, the best things in the film. Plummer's Tolstoy is vague, at once confused and resolute, apprehensive and full of joy and certainty. Mirren's Sophia is in full panic, in a righteous lather, forced to watch and expected to be mute as her husband gives away his time, his possessions and his money to people who are unquestionably devoted to him but also clearly in possession of their own agendas. They're great performances, all the more so given the vast gulf between the real importance of the couple's place in history and the script's ability to support that, both Sophia and Tolstoy seem willed into the film by Mirren and Plummer alone, both making the best they can out of what meagre material is there. Giammati and McAvoy, both talented actors, are unable to do the same and Giamatti's Chertkov seems neither a revolutionary nor a thief (and not both at once, either) but rather a cipher, a stand-in for a whole package of unresolved anxieties and aborted historical impulses. The scope of this thing never boils down to anything, it hitches along, getting by on the strength of Plummer and Mirren and not much else. It's interesting and pretty, but ultimately unrewarding. 4.5/10\"\n",
      "* * * * * * * * * \n",
      "11200\n",
      "The Fiendish Plot of Dr. Fu Manchu (1980). This is hands down the worst film I've ever seen. What a sad way for a great comedian to go out.\n",
      "* * * * * * * * * \n",
      "11381\n",
      "I am a big fan of the Spaghetti Western Genre, and I usually also like most of the cheaply made ones. Infamous Director Demofilo Fidani, however, is rightly known for some of the cheapest, trashiest, and, well, worst contributions to the genre. The plots of Fidani's movies were usually very weak, and since his talent was quite limited, he usually tried to sell the movies by adding famous Spaghetti Western names like \\Django\\\" of \\\"Sartana\\\" to the titles. I the particular case of \\\"Giù La Testa... Hombre\\\" of 1971 he just took the title of Sergio Leone's \\\"Giù La Testa\\\" (aka. \\\"Duck You Sucker\\\") and added 'Hombre'. The movie can be found under various titles (\\\"Fistful Of Death\\\", \\\"Western Story\\\"...), I personally bought it under the name \\\"Adios Companeros\\\", which this movie shares with another Fidani film with almost the same cast, \\\"Per Una Bara Piena Di Dollari\\\", which is also entitled \\\"Adios Companeros\\\" in the German language version.<br /><br />The plot is rather weak, it basically follows a guy named Macho Callaghan (Jeff Cameron) and his involvement with two rivaling outlaw gangs lead by Butch Cassidy (Jack Betts) and Ironhead (Gordon Mitchell).<br /><br />The leading performance by Jeff Cameron is, kindly stated, not very convincing. Neither did I find Jack Betts very good as 'Butch Cassidy'. B-movie legend Gordon Mitchell, however, is always worth a try, and although he probably wasn't a very good actor, I always found his performances in the Spaghetti Westerns quite funny and original, and he actually saved some of Fidani's movies (such as the rather crappy \\\"Django And Sartana... Showdown in the West\\\").<br /><br />There is one very funny and original thing about \\\"Giù La Testa... Hombre\\\" - the great Klaus Kinski is playing a priest! I could have imagined Kinski in any role, but before seeing this movie I would never have guessed that anybody would cast him as a priest. Kinski is, once again, great, although he has only little screen time, and one scene, where he breaks up a fight, is probably the only good scene in this. One more interesting thing about this film is that the legendary director and king of sleaze Joe D'Amato did the cinematography.<br /><br />\\\"Giù La Testa... Hombre\\\" is a cheap, crappy film, but nevertheless, it has some funny moments. Being a Spaghetti Western enthusiast, I found it fun to watch, but if you're not, never mind this movie, or watch it only for the purpose of seeing Kinski play a priest. 3/10\"\n",
      "* * * * * * * * * \n",
      "11516\n",
      "Or listening to, for that matter. Even the soundtrack is a bore. <br /><br />Honestly, this isn't the worst gay movie I've seen (that would be Regarding Billy), but it's down there very close to the bottom of the barrel.<br /><br />This thing drags and drags and drags. It's not that the plot is inane--in the hands of a good writer it might have worked . . . it certainly could have been much more entertaining. There's not one plot point you can't see coming for ten miles down the road. The dialog is flat. The jokes are old. To add insult to injury, it's full of one-dimensional, stereotypical gays. <br /><br />Nothing in this movie convinced me that the situation or the relationship of the two leads was possible, much less real. There was no chemistry, no dynamic, in fact no evidence of why the leads love each other . . . we're just told they're in love. Hard to figure when they have nothing in common and aren't compatible sexually. They like the same book? Huh?<br /><br />The acting is not totally bad, but the pacing is excruciatingly slow. I mean, almost Jarmusch- slow, but without Jarmusch quality. In fact, that would be a good barometer for you. If you like Jarmusch films, avoid this one.\n",
      "* * * * * * * * * \n",
      "11540\n",
      "This has to be one of the most outrageously stupid movies I have ever seen in my entire life. Just when I think I have seen the stupidest scene in history, along comes an even dumber and more bizarre scene. I think the transvestite poodles did it for me, or better yet, her talking tongue...or perhaps the guy getting the virgin mother statue mounted to a jeep windshield caught in his throat. Decisions, decisions...\n",
      "* * * * * * * * * \n",
      "11546\n",
      "I saw this film at a pre-release screening at the Writers Guild theater in Beverly Hills. As I recall, the film's producers and director were in attendance, presumably to gage our reaction.<br /><br />Many scenes evoked gales of laughter from the audience, which would have been fine if it had been a comedy, but it was supposed to be a horror film.<br /><br />If the audience wasn't scared, it seems the filmmakers were. They delayed release for over a year. Out of curiosity I saw it again to see if they'd re-cut it; as far as I can tell, they hadn't. It was the same lousy movie, just a year older.<br /><br />It almost qualifies as \\so bad, it's good,\\\" but it's slow-paced and boring.\"\n",
      "* * * * * * * * * \n",
      "11609\n",
      "Confounding melodrama taken from a William Gibson story, produced by John Houseman and directed by Vincente Minnelli! Richard Widmark heads up posh, upscale rural nervous asylum, where his loose wife battles with self-appointed queen bee Lillian Gish, and Widmark himself gets the straying eye for staff-newcomer Lauren Bacall, who is putting her life back together after the death of her husband and child. Facetious and muddled, set in an indiscriminate time and place, and with a \\David and Lisa\\\" love story hidden in the plush morass. Widmark and Bacall do have some good chemistry together, but this script gives them nothing to build on. For precisely an hour, most of the dialogue concerns what to do about the drapes hanging in the library (this thread isn't used as symbolism, rather it's a red herring in a non-mystery!). The picture hopes to show the loggerheads that disparate people come to when they're working in the same profession and everyone thinks their opinion is right, but unfortunately the roundabout way Minnelli unravels this stew is neither informative, enlightening nor entertaining. ** from ****\"\n",
      "* * * * * * * * * \n"
     ]
    },
    {
     "name": "stdout",
     "output_type": "stream",
     "text": [
      "11712\n",
      "So this guy named George is sitting home alone on his birthday when two women show up. George's wife is at a hospital taking care of their son so when the wife is away George gets in the bubble bath and makes love to both of the girls. It isn't that great of a scene because it really doesn't show anything. After that the birthday boy wakes up the next morning and the girls are still at his house. They make him a nice breakfast but George isn't hungry. George isn't very happy and he tries to ditch them but when he gets home the girls are still at his house. The girls have had enough with old George and no longer want to cook for them. They both turn out to be major psychopaths and use George in their little crazy game. I liked that the girls just did what they wanted and messed up George's house. George wasn't really that great to his two guests. When George said he was a married man, he really didn't seem to mean it. George looked like Tom Tucker on Family Guy. I was for the two girls the whole time.\n",
      "* * * * * * * * * \n",
      "11793\n",
      "You need to watch this show once to have seen them all, the formula is exactly the same in each episode. Jim does something his way he means well but he upsets his wife, at the end she finds out that what he did was really for her, she caresses his cheek and gives a gummy smile while he looks on bashfully. In fact the story lines are so lame and formulaic that I'll take a stab at one now.<br /><br />Episode 'Valentines Pay'<br /><br />Jims wife notices that all of Jims weekly pay has disappeared, he then explains to her he lost it at the casino. She screams and leaves the house lamenting how awful he is. Then on Valentines day he turns up in a limo with tickets to a Ball (hence explaining the missing wages). She realizes 'Her' mistake and the usual 'Oh Jim, you're so lovely'. ..The end<br /><br />Another very obvious item is the fact that Jims character is based on Homer Simpson who as a cartoon character can get away with being belligerent and ignorant, when this is attempted with Human beings it does not work and Jim just comes over as an arrogant self centered jerk. <br /><br />IMO the only reason that this is successful is simply because we're so many now in terms of Human beings with TVs, these days you could make a show about a man who insulates walls and you'd get an audience.<br /><br />'Two and a half men' on the other hand is fantastic and hilarious.\n",
      "* * * * * * * * * \n",
      "12027\n",
      "1st watched 12/6/2009 - 4 out of 10 (Dir-Walter Lang): Disappointing musical from a character development standpoint, in my opinion, from this much-heralded Rodgers and Hammerstein piece. There a couple of good songs and a decent comical portrayal, at times, of the King of Siam by Yul Brynner -- but the movie doesn't really do a good job of presenting the situation and the settings. I can only blame the screenplay and possibly some of the acting as to why we don't fully understand the character's and their situations. I know it might be a little too much to ask of a musical meant for the enjoyment of the songs and the dancing, but even this part didn't stand out a lot for me. The basic storyline is about an English woman coming to Siam to teach the children about upscale European things. We find out later that the King is actually the biggest pupil. There is a side forbidden romance between the King's newest wife, played by Rita Moreno(a latino as an Arab--come on!!) and a former lover that causes some complications but nothing really mesmerizing added though. Deborah Kerr, as the main female character Annie -- is OK but not that convincing either. The King learns some things because of her presence and then the movie fades away as he does. This is really a miniscule story with some songs and dancing but not that great of an experience for a viewer really.\n",
      "* * * * * * * * * \n",
      "12045\n",
      "This film is the worst film, but it ranks very high for me. It is how a slasher movie should be. It takes place at a university in which there only seems to be a handful of students. The teachers are dumber than a sack of hammers. It is filled with good Catholic priest, sexually repressed humor. Bad hair, bad clothes. The dialogue is so cliched it is hard to believe that I was able to predict lines in quotes. The slashings have some creativity and seem to revolve around stabbing people in the genitalia. A lack of continuity in the soundtrack and characters that deserve to die because they are so bad, I recommend this film for a fun time. Get a case of cheap beer and some friends, watch it and laugh.\n",
      "* * * * * * * * * \n",
      "12049\n",
      "Believe me, I like horror movies. I like science fiction movies. I like independent films. And, I like low-budget, B movies. <br /><br />Sometimes, I even like bad acting, plodding scripts, wooden lines, improbably situations, and the like. However, I did not like Christmas on Mars. <br /><br />It just doesn't work on so many levels. For all the reasons listed previously, and many more. That includes the nonsensical, blatant use of images of female genitalia. And the many allusions to male genitalia, in a very Freudian way.<br /><br />I am convinced this is purely from ineptitude. As opposed to some attempt at doing something really different. I mean any movie that takes years to film, just cannot keep up the level of congruity and focus demanded by modern audiences.<br /><br />I had hoped that the whole movie was just a dream or hallucination by the main character. However, sadly, it was meant to have happened, as we saw things unfold on screen. <br /><br />About the only kindness that I can express, is that the image at the end was stupendous. If this had been used at the beginning, instead of the end, it could have allowed the film to take off where 2001 ended... <br /><br />To bad they didn't try that instead. I just don't understand what was so important about this film that it even had to be made. Was it the plot? Surely, it couldn't be. Was it the characters? I doubt it; I mean, I could live without knowing about Ed 15. Was it the dialog? Emphatically, no. The music? Perhaps, but more-likely the unvarnished ego of the principals needing to be stroked. <br /><br />Much better efforts have died on the cutting room floor.\n",
      "* * * * * * * * * \n",
      "12068\n",
      "Begins better than it ends. Funny that the russian submarine crew outperforms all other actors. It's like those scenes where documentary shots...<br /><br />--- SPOILER PART ---- The message dechifered was contrary to the whole story. It just does not mesh.<br /><br />\n",
      "* * * * * * * * * \n",
      "12070\n",
      "I am so happy and surprised that there is so much interest in this movie! Jack Frost was my introduction into the films produced and distributed by A-pix entertainment, and without exception, everything this company deals with is pure crap! First, and this is very important, never ever watch this movie sober! Why would you? Unlike many other entertaingly bad movies, this one I feel was made intentionally bad. I just can't get over how fake the snowman is, which is why its always shown only briefly, the way it moves is the best! This movie is Waaaaaaaaaaay better than the Michael Keaton piece of crap, becuz that was made too be a good movie, and that version is as bad as this.\n",
      "* * * * * * * * * \n",
      "12087\n",
      "I've seen all four of the movies in this series. Each one strays further and further from the books. This is the worst one yet. My problem is that it does not follow the book it is titled after in any way! The directors and producers should have named it any thing other than \\Love's Abiding Joy.\\\" The only thing about this movie that remotely resembles the book are the names of some of the characters (Willie, Missie, Henry, Clark, Scottie and Cookie). The names/ages/genders of the children are wrong. The entire story line is no where in the book.<br /><br />I find it a great disservice to Janette Oke, her books and her fans to produce a movie under her title that is not correct in any way. The music is too loud. The actors are not convincing - they lack emotions.<br /><br />If you want a good family movie, this might do. It is clean. Don't watch it, though, if you are hoping for a condensed version of the book. I hope that this will be the last movie from this series, but I doubt it. If there are more movies made, I wish Michael Landon, Jr and others would stick closer to the original plot and story lines. The books are excellent and, if closely followed, would make excellent movies!\"\n",
      "* * * * * * * * * \n",
      "12290\n",
      "I must say that I was disapointed with this film. I have never been a huge BNL fans, I find their songs kind of childish and obsessively nostalgic (this is me in grade 9, if i had a million dollars, shoe box of life etc). However, I have seen clips of their live show and I really like the improvisational and goofy nature of the show. I was hoping that this movie would highlight this which is, unfortunately, the most interesting part of the show because their music is well played yet somehow bland and not that compelling (there is a standup bass solo in the middle which was completely pointless and boring, despite how much Jim Creegan was digging himself). The film does not and shows only a few minutes of it (and you know they've had better moments, as in the Afgahnistan concert \\Koffee Anan, he's the man in charge, my name's Steve Paige and I'm really large\\\") .<br /><br />BNL are kind of like when I went to Europe a few years ago and heard that godawfull \\\"Blue\\\" song by Effeil 99 or whatever every 2 minutes, I came back to Canada and then a month later that song was all over the place *again*, I nearly chewed off my own arm. BNL is like that, years ago I remember many a fond memory of sitting around campfires in Canada listening to people play \\\"If I had a million dollars\\\". BNL was a cult phenomenon in Canada, and much of their humour has a particular Canadian slant to it (Kraft Dinner is a staple for many students up here, and the name \\\"Gordon\\\" is quintessentially Canadian) a few years went by where they slipped into obscurity and I was somewhat gratefull. Then all of a sudden they become huge in States, and everyone down there thinks they are this brand new band (yeah, they're brand new, but they're all in their 30's!) while the rest of Canada is going \\\"Oh geez, I thought those guys folded years ago, do I have to listen to 'million dollars' again?\\\"<br /><br />The concert footage is not bad, but I would have liked to have seen more of their stage routine, the shooting is not that great, and things like clips from their massive free show in Boston are glazed over much too quickly. The interviews are surprisingly dull for such a funny bunch of guys, I think they're all old and they have families and houses and stuff and have settled down a bit. There are times when they go into Spinal Tap type of material, where they deliver deadpan satire, then they break into laughs and giggles that kind of ruins it. The interviews with Moses Znaimer (a Canadian media mogule) and Terry David Mulligan (Music dude) are extremely pretentious and verge into Tap territory unintentionally.<br /><br />This movie doesn't really document very much either, I mean, it's basically one show and at the start of the film, they are already huge and have a massive touring entourage, it's not like we see them rising from obscurity and \\\"surprise\\\" they are popular, it's a methodically planned out event, so in the end it's rather lifeless, kind of half live concert, half documentary, and not much of either.<br /><br />\"\n",
      "* * * * * * * * * \n",
      "12323\n",
      "A recent post here by a woman claiming a military background, contained the comment \\A woman's life is no more valuable than a man's\\\".<br /><br />This mantra of the politically correct is not true as history as well as biology show. Societies have managed to recover from heavy losses of their male population, sometimes with astonishing speed. Germany was ready to fight another war in 1939 despite the 1914- 1918 war in which over two million of her men were killed. In South America's War of the Triple Alliance (1865), Paraguay took on three neighboring countries until virtually her entire male population was wiped out but fought to a stalemate in the 1932 Chaco War against much larger Bolivia.<br /><br />No society, however has or ever could survive the loss of its female population. Only when the very life of the nation is at stake are women sent to fight. Israel faced that situation in 1948 but since then has never considered coed combat units for its Defense Forces despite the popular image of the Israeli girl soldier.<br /><br />\\\"G.I. Jane\\\" is Hollywood fluff.\"\n",
      "* * * * * * * * * \n",
      "12563\n",
      "I'm a huge fan of Ivan Reitman-I loved Evolution and who didn't like Ghostbusters? From the trailer you already know that Uma's character will get dumped by Luke's.So the build-up is obviously towards the moment when she unleashes her superpowers on him.But the pay-off is just not there.The shark tossing did manage to get a (slight) giggle but once again, it was all in the trailer.<br /><br />No one does breathless quite like Uma and Luke is diet Owen on his good days.If not for Riann Wilson you would sit there with a constipated smile until your cheeks start to cramp.This is a comedy,right? <br /><br />It's not awful-it just sits there like a stale cracker behind the fridge.This could have been such a brilliant send-up of Superhero movies and Feminism but fails on both counts.Let's see if Jason Reitman can salvage the family name.\n",
      "* * * * * * * * * \n",
      "12809\n",
      "Very unnecessary movie with characters that are acting so unsympathetically that I really didn't care who would fare the best (or was that the purpose of the film, to portray some smooth talking cold-hearted New York city folks?) No romance here, no comedy either. Acting is very flat and a very predictable plot. What annoyed me the most was this constant joking with quotes from classic movies. Man, can't you see that the more you quote, the less significant your own movie becomes? Try to be original yourself! A small budget is no excuse at all, first-time director neither. Crappy, crappy, crappy. No wonder it only cost me one buck...\n",
      "* * * * * * * * * \n",
      "12825\n",
      "On the face of it, this should be a great film, a great cast, a plot with many possibilities and one of Hollywood's finest behind the camera for the first time.<br /><br />However, its clear why it was another 8 years before spacey decided to try directing a movie again. This movie fails on so many levels. In a film where there is not much action and most of the scenes are shot in a couple of locations, it is imperative that suspense and continuity are provided by the director. Not so here, the great cast is horribly under-used, none more so than the great, late John Spencer, the plot is so run of the mill and nothing you haven't seen in a hundred other TV movies. There is so little character development you end up not caring for any of the protagonists. At least we know spacey has a lot of mates and clout in Hollywood studios to get away with a poor flick like this\n",
      "* * * * * * * * * \n",
      "12828\n",
      "This early John Wayne Lone Star western has a bit more going for it than the run-of-the-mill oaters Wayne had been making for Lone Star up until that time. For one, it has his old friend Paul Fix in it; Fix, being a much better actor then the standard Lone Star villain, brings a much needed professionalism to the surroundings instead of the usual hesitant line-readings often delivered in these oaters. The plot, about mistaken identity, payroll robbery and murder, is as trite and perfunctory as you'd expect it to be in a 1930s low-budget western, but Wayne's strapping good looks, easygoing charm and way with a line go a long way to making this more enjoyable. Plump, balding Eddy Chandler isn't quite believable as Wayne's womanizing \\partner\\\", and there's a running gag about something that happens whenever Chandler and Wayne are about to get into a fistfight that grows tiresome. On the other hand, Wayne's love interest is played by none other than Mary Kornman, the little \\\"Mary\\\" of the early \\\"Little Rascals\\\" fame. She is a grown-up 20-year-old now, blonde and cute as a button. Most of Wayne's leading ladies in these Lone Star/Monogram \\\"B's\\\" were fairly bland and colorless, but Mary is perky, cute and, yes, sexy. There's a scene in the general store, where she works, in which Wayne asks her to get him a bottle of \\\"nerve tonic\\\", which happens to be on the top shelf, so she has to get a ladder and climb up to the top shelf. Wayne's ogling her pert little backside as she ascends the steps, then again as she comes down, then again a few minuter later when he asks her to climb up and get him another bottle is surprisingly racy for a film made in 1935. Wayne makes no attempt to hide the fact that he is definitely checking out her butt. Anyway, it's an interesting little \\\"B\\\", not great, but not as choppy and random as many of his LoneStar productions of the time. The final gunfight isn't handled all that well, and Chandler gets somewhat irritating after a while, but all in all, it's worth a look, if only to see a cute and sexy Mary Kornman.\"\n",
      "* * * * * * * * * \n",
      "12877\n",
      "I was aware of Rohmer's admiration for the late works of the ones he considered like great cineasts, and that normal spectators generally considered as artistic failures (as Renoir's or Chaplin's very last movies ; yes, the \\politique des auteurs\\\" also has its dark side). But with \\\"Les amours d'Astrée et de Céladon\\\", it's as if Rohmer himself wanted, for what may be his last movie, to perpetuate this tradition of great directors, who made a last senile movie, by adapting Urfé's \\\"L'astrée\\\", with ridiculous aesthetic codes, witch just look like a parody of Rosselini's last movies (the ones he made for TV from Descartes or Marx's lives).<br /><br />In his version of \\\"Perceval\\\", Rohmer refused to film real landscapes in order to give a re-transcription of what may have been a middle age classical representation of things. The director apparently changed his mind when the XVII century is involved, and films actors, dressed like 1600's peasants reciting their antic text surrounded by contemporary trees and landscapes. But the all thing looks even more ridiculous than Luchini and its fake trees. It's not that the story itself is stupid, but the way Rohmer mixes naturalism with artifices seems so childish and amateurism that it rapidly becomes involuntarily funny (and I'm not even talking about the irritating pronunciation of the actors, the annoying and sad humorist tries by Rodolphe Pauly, the ridiculous soft-erotic tone, the poor musical tentatives, or the strange fascination for trasvestisment!).<br /><br />The radical aesthetic of the film ultimately makes it looks like a joke, which mixes a soft-erotic movie made for TV with theological scholastic discussions (sic !). At the beginning of the movie, Rohmer teaches us that the original french region of the story is now disfigured by modernity, and that's why he had to film \\\"L'Astrée\\\" in other parts of the country. However, I'm sure the movie would have look more modern and interesting, if Rohmer would have actually still filmed the same story in a modern area with same narrative codes and artistically decisions. This film may interest a few historians, but most of the cinephiles may laugh at this last and sad Rohmer's movie.\"\n",
      "* * * * * * * * * \n",
      "12937\n",
      "Well, as Goethe once said, there really isn't any point in trying to pass a negative judgement that aspires to be objective on \\something that has had a great effect\\\". \\\"La Maman et La Putain\\\" has surely passed into history as an influence on much of what's been done in France and elsewhere in the past thirty years and no one interested in the history of film, certainly, should be dissuaded from watching it. To express a purely subjective judgement, however, I feel compelled to disagree with almost every other review posted here and say to people: \\\"Don't watch it; it's a waste of hours of your time that will just leave you feeling rather sick and angry.\\\" And by that I don't mean \\\"sick and angry\\\" about \\\"the human condition\\\" or anything so general and profound as that, because that is exactly the line that most critics have adopted in their fulsome praise of the film - \\\"an ordeal to watch in its ruthless dissection of our emotional cowardice and cruelty\\\" and so on - and, if it really managed to put across a universally or even broadly relevant message of this sort, then the director would have good reason to be satisfied with himself, however pessimistic his conclusions may be. My beef with the film is rather that I don't see this hours-long record of empty vanity and petty treachery as being justified or excused by any GENERALLY relevant message at all. All three main characters are deeply morally unattractive individuals: Alexandre to the greatest degree, of course, because we see by far the most of him and because he seldom shuts up for more than thirty seconds; Marie perhaps to the least degree, because we see the least of her. Alexandre's affected and pretentious monologues have a kind of amusement value, of course, but the amusement wears thin as one comes more and more clearly to realize that Jean-Pierre Léaud is most likely not even acting and that, with absurd remarks like \\\"un homme beau comme un film de Nicholas Ray\\\", he really was just reproducing word-for-word opinions that were accepted as authentic and profound by the milieu in which he, along with the director Eustache, had been living for about ten years by the time of the making of the film. I suppose if the tone of relentless superficiality and triviality had been sustained throughout 100% of the film, it might have worked as a long sardonic comedy about a particularly shallow, worthless and despicable post-'68 milieu. What made, however, this viewer at least extremely angry with the director was his granting of at least one lengthy scene each to Alexandre and Veronika in which we are clearly expected to empathize with and feel for them as if they shared a moral universe with us. If a man can get away with living in the flat of and professing to love one woman, sleeping (mostly in this very flat) with another, and running around Paris proposing marriage to yet a third, well, I suppose I can wish him the best of luck in the dog-eat-dog world he's chosen to create for himself. What I can't, however, in all conscience do is listen even for a moment to maudlin monologues from him in which he speaks about his \\\"anxiety\\\" and his \\\"despair\\\". The same goes double for the even more despicable Veronika, whom we are shown barging drunk into the apartment and even the bed shared by Marie and Alexandre and behaving there with an infantile inconsistency tantamount to the most savage and heartless cruelty. As I say, if \\\"La Maman et La Putain\\\" is intended to be nothing more nor other than a portrait of Alexandre, Veronika and Marie, three individuals whom any even halfway decent person would never admit into their company let alone their home, then I suppose there is a kind of legitimacy in praising the director for being \\\"unflinching\\\" (though why one should even feel like \\\"flinching\\\" once one had consciously opted to create such thoroughly repellent characters to filmically observe I can't imagine). The problem, however, is that the director is clearly convinced - and appears to have succeeded in convincing generations of critics - that Alexander, Veronika and Marie are somehow representative of human beings in general and of the limits of human beings' emotional capabilities. This latter idea, however, is arrant and offensive nonsense. There may indeed be an inherent fallibility and tendency to tragedy in human relations in general and sexual relations in particular. But the nature and degree of this fallibility and tendency to tragedy can only possibly be determined by people who make a sincere and serious effort to make such relations work. It surely needs no cinematic or authorial genius to convey to us the information that a man who behaves like Alexandre is going to end up hated, miserable, and alone, or that women who insist on expecting love from a man like Alexandre are going to end up disappointed and bitter. Watch \\\"La Maman et La Putain\\\" if you're historically interested in what passed for culture and human interaction in a certain post-'68 Parisian milieu which was probably, unfortunately, not restricted to just a few particularly anti-social types like these. But please don't make the mistake of believing that what is recorded here has any general relevance for humanity in the way that a film by Jean Renoir or Martin Scorsese might be argued to have.\"\n",
      "* * * * * * * * * \n",
      "13006\n",
      "Sometime in 1998, Saban had acquired the rights to produce a brand-new Ninja Turtles live-action series. Naturally, being a fan of the TMNT back in the day, this obviously peaked my interest. So when I started watching the show... to say I was disappointed by the end result is an understatement. Some time later (more like recently), I got a chance to revisit the series.<br /><br />First off, let's talk about some of the positives. They managed to re-create the Turtles' lair as it was last seen in the movies fairly well given the limited budget they threw in with this. There tends to be this darker atmosphere overall in terms of the sets and whatnot. And the Turtle suits, while not the greatest piece of puppetry and whatnot, were functional and seemed pretty sturdy for most of the action stuff that would follow in the series.<br /><br />People tend to complain about getting rid of Shredder quickly and replacing him with these original villains who could have easily been used in a Power Rangers show. But you can only have Shredder get beat so many times before it gets boring and undermines his worth as a villain... and besides, most fans don't realize or don't remember or just plain ignore the fact that in the original comic, the Shredder was offed in the very first issue! Never mind the countless resurrections that would follow. So on a personal standpoint, I was sort of glad they got rid of Shredder because then the anticipation would build to the point where they would eventually bring him back in a later episode. I find that Shredder in small quantities work best because then his encounters with the Turtles are all the more memorable.<br /><br />Unfortunately, they end up replacing him with these original villains who, as stated, seemed more fit for a Power Rangers show than a Ninja Turtles show. And with these new magic-wielding generics comes a new female magic-wielding turtle, the infamous Venus De Milo. I'll be honest; I never got comfortable with her. I'm not against the idea of a female turtle; I'm just against the idea of one who uses magic and thus sticks out like a sore sight among a clan of ninja turtles who seem somewhat out of their domain. I almost get the impression that this could have easily been the Venus De Milo show dealing with her make-believe enemies and the TMNT are just there to provide the star power (or whatever was left considering the timeframe this was released). Fortunately, they all share the spotlight together.<br /><br />Next Mutation was canned after a season on the air and the creators were more than happy to ignore it. Given time and maybe another season, I really believe this live iteration of the TMNT could have been something and might have gotten a chance at greatness. But while the idea was sound, the execution was flawed (although there are a couple good episodes in this series). As it stands, Next Mutation is one of those oddities in Turtledom that is best left buried and forgotten.\n",
      "* * * * * * * * * \n",
      "13110\n",
      "Emma is my favourite Jane Austen novel - Emma is well-meaning despite her flaws, so readers can forgive and love her, and the relationship she has with Mr Knightley, which is warm, familiar, respectful but playful, generating that warm, fuzzy, romantic excitement. Mr Knightley is the perfect man, and Emma is as close as you could get in those times to an independent, clever, confident woman - remember, she is only 21, and was sure to have matured and grown out of her flaws. Who doesn't want to be Emma? Who doesn't want to be told off by Mr Knightley? This version of Emma gives you no sense of the things that I love about Emma. I couldn't even finish watching it, I just found it so awful. I couldn't see that warm, generous side of Emma, which drives the reader to love her: The patience and warmth she shows to her father; the closeness between her and Mrs Weston, which demonstrates her willingness to put her friend's happiness above her own (as she sacrifices the only equal companion in her household by forwarding Miss Taylors marriage). Mr Woodhouse's character in this adaptation just appears bizarre, rather than just quaint, elderly and a bit trying.<br /><br />This adaptation most importantly fails bring to life the relationship between Mr Knightley and Emma. Their relationship is built on mutual respect and affection: Mr Knightley is indulgent of Emma's minor faults trusting that her intelligence and genuine care for others will never allow her to go terribly astray; and Emma looks up to him, though playfully hiding this and continuing to use her own judgement. The dressing down he gives her right at the beginning of the show completely overstates the argument between them, and ruins all possibility of portraying the nature of their relationship as I've described above. Mr Knightley is also insufficiently attractive to bring to life the sexual tension between the leads (or to inspire any admiration from the female viewers).<br /><br />Really horrible. I can't understand why anyone who truly like the novel Emma could like it, unless it miraculously redeems itself after the point I switched it off.\n",
      "* * * * * * * * * \n",
      "13145\n",
      "I read the novel some years ago and I liked it a lot. when I saw the movie I couldn't believe it... They changed everything I liked about the novel, even the plot. I wonder what did Isabel Allende (author) say about the movie, but I think it sucks!!!\n",
      "* * * * * * * * * \n",
      "13159\n",
      "Poor Ingrid suffered and suffered once she went off to Italy, tired of the Hollywood glamor treatment. First it was suffering the torments of a volcanic island in STROMBOLI, an arty failure that would have killed the career of a less resilient actress. And now it's EUROPA 51, another tedious exercise in soggy sentiment.<br /><br />Nor does the story do much for Alexander KNOX, in another thankless role as her long-suffering husband who tries to comfort her after the suicidal death of their young son. At least this one has better production values and a more coherent script than STROMBOLI.<br /><br />Bergman is still attractive here, but moving toward a more matronly appearance as a rich society woman. She's never able to cope over the sudden loss of her son, despite attempts by a kindly male friend. \\Sometimes I think I'm going out of my mind,\\\" she tells her husband. A portentous statement in a film that is totally without humor or grace, but it does give us a sense of where the story is going.<br /><br />Bergman is soon motivated to help the poor in post-war Rome, but being a social worker with poor children doesn't improve her emotional health and from thereon the plot takes a turn for the worse.<br /><br />The film's overall effect is that it's not sufficiently interesting to make into a project for a major star like Bergman. The film loses pace midway through the story as Bergman becomes more and more distraught and her husband suspects that she's two-timing him. The story goes downhill from there after she nurses a street-walker through her terminal illness. The final thread of plot has her husband needing to place her for observation in a mental asylum.<br /><br />Ingrid suffers nobly through it all (over-compensating for the loss of her son) but it's no use. Not one of her best flicks, to put it mildly.<br /><br />Trivia note: If she wanted neo-realism with mental illness, she might have been better off accepting the lead in THE SNAKE PIT when it was offered to her by director Anatole Litvak!! It would have done more for her career than EUROPA 51.<br /><br />Summing up: Another bleak indiscretion of Rossellini and Bergman.\"\n",
      "* * * * * * * * * \n",
      "13166\n",
      "This film offers absolutely no imagination in it's premise nor in it's execution but these are just two things that come to mind after watching this so-called comedy that has no energy to speak of. Story is about nit-picky over analytical insurance risk manager Reuben Feffer (Ben Stiller) who finds his new wife Lisa (Debra Messing) cheating on him with a scuba instructor (Hank Azaria) after only one day on their honeymoon. Upon returning home Reuben and his best friend Sandy (Philip Seymour Hoffman) go to a party and run into Polly Prince (Jennifer Aniston) whom they went to school with years earlier.<br /><br />*****SPOILER ALERT***** Polly is forgetful and sloppy and lives carefree which is the opposite of who Reuben is as a person but they start to date and Reuben starts to change as a person as he starts to try out new things such as salsa dancing and eating spicy foods. But one day Lisa comes back and wants to remain married to Reuben but he really doesn't want to but Polly decides to leave as she doesn't believe in marriage to begin with.<br /><br />This film is the second directing effort by John Hamburg who wrote two generally unfunny screenplays in \\Zoolander\\\" and \\\"Meet the Parents\\\" but those two films seem like classics compared to this stale piece of drivel. It's very easy to say something is not funny but I think with this film it's even easier to figure out why. This film is totally and utterly predictable from start to finish with every scene looking as if it's only happening because of the ridiculousness of the script. Hamburg who also wrote the script seems to have written this without any thought of trying something different and at times he seems to be trying to generate the same energy as \\\"There's Something About Mary\\\" but instead the events seem incredibly forced. Did anyone really think the blind ferret was funny? If you do, your easy! A few times during the film characters would inexplicably have these emotional speeches that are supposed to summarize everything but all they achieve is overstating the obvious. Stiller works a lot but maybe he should work less and just wait for the better scripts to come his way because this film doesn't work as a comedy or as a romance.\"\n",
      "* * * * * * * * * \n",
      "13359\n",
      "There was a reasonably good looking girl starring the film(Zoe Mclellan) but even her looks couldn't stop me from voting it the lowest possible - one.<br /><br />The plot is bad and irrational.<br /><br />What more can I say. The movie sucks.\n",
      "* * * * * * * * * \n",
      "13412\n",
      "My wife and I found this film to be highly unsatisfying. While the plot keeps you interested and busy wondering just what is going on, when you leave the theater, there are just too many loose ends that make no sense at all. (SPOILERS AHEAD) Christopher Plummer, enormously wealthy head of a NY bank has a terrible hidden secret. Profiting from WW II deals with the Nazis and hiding loot stolen from Jews, he keeps the evidence (including diamonds and documents with the Nazi swastika) in a safety deposit box in his bank. Why? If he wants this never to be revealed, why did he not burn and destroy the documents years ago? And the diamonds? Obviously, he does not need them - why keep them rather than dispose of them? How did the bank robbers find out his secret? How did they know to zero in on this very safety deposit box #232? Ace detective Denzel Washington also discovers bank records show SD Boxes No's 231 and 233, but no #232. Curious. He meticulously found time somehow to do an exhausting search of bank records to unearth this one curious fact. All the while dealing with a red hot hostage situation and bank robbers threatening to start executing them momentarily. Wow! Talk about super powers for a detective.<br /><br />The bank robbers leave behind millions of dollars in loose currency in the vault they have opened. They take only the contents of SD Box #232, ostensibly for the purpose of blackmailing the bank president. This defies any rational attempt at a logical explanation for what the film depicts as a criminal mastermind, or for his henchmen with lesser brains.<br /><br />Jodie Foster, using her political connections with the Mayor of NYC, gains permission to enter the bank which is under the control of the bank robbers while holding many hostages. She offers the chief bank robber a deal to buy back the documents he now has in hand, but he ain't interested. So what's his point (if any?).<br /><br />My wife was offended by the arrogance of all the players, Christopher Plummer (Bank President), Denzel Washington (ace detective), and Jodie Foster, crack trouble shooter for high-powered problems.<br /><br />The last Jodie Foster movie I saw, \\Flight Plan\\\", was also riddled with holes that made no sense at all. I thought I liked Jodie Foster, but I will probably avoid her future films.<br /><br />Now my problem is that I can rarely persuade my wife to go to the movies. I cannot disagree with her on this one ... \\\"A WASTE OF MONEY, AND A WASTE OF TIME.\\\" Be forewarned. A well crafted film, fine actors, lousy script writing.\"\n",
      "* * * * * * * * * \n",
      "13463\n",
      "The following are some of the most blaring problems with this movie: 1) Clichés abound. Seriously, awful \\twists\\\" are everywhere.<br /><br />2) The narrative jumps around in time, which would be fine if done well, but it's not.<br /><br />3) Lame characters that don't develop so much as either remain utterly static, or drastically change for no good reason.<br /><br />4) Big one: HORRIBLE ACTING. Over the top from nearly every person.<br /><br />The following are some of the best points from the movie: 1) The lead is damn good looking.<br /><br />As I see it, there are only two kinds of people who would be into this movie: a) People who can sit through 90 minutes of tripe simply because the lead is attractive.<br /><br />b) People who often think to themselves, \\\"I like Hollywood dreck rife with clichés and overacting, but if only I could watch it in Korean...\\\" There's a lot of good Korean cinema out there, so why waste your time with garbage?\"\n",
      "* * * * * * * * * \n",
      "13472\n",
      "Any film which begins with a cowhand shagging a female calf can't promise much. As for the stereotyping of the kibbutz as it was 50 yrs ago, well I was there and it just wasn't like that. OK every kibbutz had just a small piece of something shown in the film (like youngsters raiding the kitchen at night) but you can't show the whole kibbutz as being full of all those - shall we say - naughty traits. Each kibbutz had its own problems, but hardly any kibbutz had all of them. The views of Israel were great. I still remember my youth in that Garden of Eden called the Emek (valley). Yes, and the acting was good too, so you see it wasn't all black - just a wrong portrayal - probably on purpose too.\n",
      "* * * * * * * * * \n",
      "13474\n",
      "I love Jane Austen's stories. I've only read two of them (P&P and S&S), but after having seen this adaption, I'm reaching for \\Persuasion\\\" from my bookcase just to make sense out of the story, and also, because I refusing to believe Jane Austen could have written such nonsense. For me, I thought that if you base a film on a Jane Austen novel, you can't really go wrong. It will turn out great pretty much by default. I was wrong.<br /><br />First of all, where are the characters that you sympathise with and like? You have to have at least one likable character to get the audience to invest their emotions in them, and this did not deliver. Sure, I wanted Anne and Wentworth to get together, but only because that's what you know the purpose of the story is, them getting together. Instead, I had to resist urges to throw my teacup at the TV and to continue watching it to the end.<br /><br />Anne was utterly annoying throughout, and in the end, I really have no idea why Wentworth was so smitten by her, as there seemed to be nothing there for him to be attracted to. She was meek, bland, dull, socially inadequate and came across like a sheep following everyone else's instructions rather than having a mind of her own. This can still work for a lead character, if you do it well. This wasn't done well.<br /><br />The other characters were just displaying various degrees of narcissism, of which Mary was the worst, with a full-blown narcissistic personality disorder. Where Mrs. Bennet in P&P had similar flaws, she was still endearing, whereas Mary was more of a freak-show. More loathsome than funny.<br /><br />Wentworth was very handsome and seemed like a decent kind of guy. For the most part of the story, I was just wondering what kind of person he was and why he's in love with Anne, as surely, he's the kind of guy who would want a person who is a little bit more... alive? Acting-wise, not too much to say, as I reacted more to the characters being portrayed rather than how good/bad the people acting were. Anthony Head was excellent, but as soon as I saw he was in it, I expected no less.<br /><br />Also found the story very confusing. It wasn't until the end of the movie where it seemed as if Elizabeth was not Anne's stepmother, but in fact a sister (I'm still not 100% on that). The whole Anne/Wentworth back story was also a bit fuzzy. They had been together but then broke up and they're both bitter about it? How come? I was wondering this for quite some time, and the explanation seemed to be she dumped him because she was persuaded to do so by someone? But it was said in a kind of \\\"by the by\\\" way that it was almost missed, as if it was somehow unimportant. How can it be unimportant when it's the very core of the story?? There was also a lot of name-dropping, but no real feel for who the characters were. This Louisa person for instance, who was she? A friend? Family? What? It wasn't made very clear who the different characters are and their relationship with one another. Lady Russell was there a lot, but why? Mrs. Croft and Wentworth were brother and sister, which felt very unrealistic as Mrs. Croft looked old enough to be his mother.<br /><br />The final kiss, yes it was a bit strange them kissing in the street, but I didn't really think about it, because I was too busy yelling \\\"GET ON WITH IT ALREADY!!\\\" at the TV, because Anne's lips trembled and trembled and trembled for what felt like ages before they actually met Wentworth's. Have SOME hesitation there, but only for a couple of seconds or so, not half a minute.<br /><br />Then there's the issue of camera work. As a regular movie watcher, you don't pay attention to angles and such unless you decide to look out for it. I didn't decide to do so here, but I still noticed them. To me, that means the filmmakers are not doing a good job. A lot of conversations were with extreme facial closeups, something that should only be used when there's a really important point to be made. In this adaption, it was over-used and therefore lacked meaning. The hand-held feeling on occasion also didn't really work in a period drama. The camera work in the running scene in the end also felt too contemporary. (Not to mention the running itself.) This was the only Austen adaption I caught in ITV's Austen season. Makes me wonder if it's worth watching \\\"Northanger Abbey\\\" and \\\"Mansfield Park\\\" or if I should just read the books and leave it at that. I'm sad to say, this is a Jane Austen adaption I did not enjoy. Maybe I'll watch the 1995 version instead. The BBC are renowned for having done beautiful Austen adaptations before, after all.\"\n",
      "* * * * * * * * * \n",
      "13576\n",
      "Even for the cocaine laced 1980's this is a pathetic. I don't understand why someone would want to waste celluloid, time, effort, money, and audience brain cells to make such drivel. If your going to make a comedy, make it funny. If you want to film trash like this keep it to yourself. If you're going to release it as a joke like this: DON'T!!! I mean, it was a joke right? Someone please tell me this was a joke. please.\n",
      "* * * * * * * * * \n",
      "13681\n",
      "If you have read the book - do not set your hopes high, if you have not - go read it, and never watch the film. It is strange to learn that Toby Young was actually involved a lot in the writing of the script (as he claims himself in the post script of the book). Because the film is very different from the book.<br /><br />What the film seems to be aiming at - taking a rather thought provoking and entertaining piece that combines philosophical ideas with plain funny sarcasm and simplifying it so that everyone would understand it - it achieves with perfection. The film is full of bad and cheap jokes suitable for a sitcoms, and has lost any meaningful message that it could have had.<br /><br />You are better off not seeing it.\n",
      "* * * * * * * * * \n",
      "13696\n",
      "One of my sisters friends lent me this game, and it is too damn hard! It carries the appearance of a kids game, but you have to learn how to do tons of intricate moves that require you to twist and turn your hands into all sorts of awkward positions, and you have to search seemingly endless levels for 100 notes, to improve your 'score'! You also have to find these impossibly hidden jigsaw puzzle pieces, that require you to do almost impossible tasks to get them! AND I AM ONLY UP TO STAGE THREE!!!!! Maybe if you have no life nad can stay home all the time you might get some enjoyment out of this, but otherwise keep away! AND IT IS DEFINATELY NOT RECOMMENDED FOR KIDS - THEY WILL PULL THEIR HAIR OUT WITHIN THE HOUR!\n",
      "* * * * * * * * * \n",
      "13977\n",
      "Mann photographs the Alberta Rocky Mountains in a superb fashion, and Jimmy Stewart and Walter Brennan give enjoyable performances as they always seem to do. <br /><br />But come on Hollywood - a Mountie telling the people of Dawson City, Yukon to elect themselves a marshal (yes a marshal!) and to enforce the law themselves, then gunfighters battling it out on the streets for control of the town? <br /><br />Nothing even remotely resembling that happened on the Canadian side of the border during the Klondike gold rush. Mr. Mann and company appear to have mistaken Dawson City for Deadwood, the Canadian North for the American Wild West.<br /><br />Canadian viewers be prepared for a Reefer Madness type of enjoyable howl with this ludicrous plot, or, to shake your head in disgust.\n",
      "* * * * * * * * * \n",
      "14008\n",
      "So there's an old security guard and a guy who dies and then there's KEVIN, the world's biggest wuss. Kevin wants to impress his incredibly insensitive, bratty, and virginal girlfriend AMY. As he returns from work to... a random house... he finds his \\friends,\\\" the sexually confusing red-shorted KYLE and the truly revolting sluttish DAPHNE. They are soon joined by Daphne's boyfriend, the trigger-happy sex-crazed macho lunkhead NICK. And there's the title creatures, horrid little dogeared puppets who kill people by giving them their heart's desire. Kyle's heart's desire is to mate with a creepy, yucky woman in spandex. Nick's heart's desire is to throw grenades in a grade school cafeteria-- I mean nightclub. Kevin's heart's desire is to beat up a skinny thug with nunchucks. Amy's heart's desire is to be a disgusting slut. Daphne's already a disgusting slut, so she doesn't have a heart's desire. Along the way a truly hideous band sings a truly odd song. The hobgoblins randomly go back to where they came from then blow up. \\\"Citizen Kane\\\" cannot hold a candle to this true masterpiece of American cinema.\"\n",
      "* * * * * * * * * \n",
      "14017\n",
      "The Order starts in Rome where the head of a special order of priests who deal in ghosts & demons named Brother Dominic (Francesco Carnelutti) is found dead, cut to New York City where one of his order Alex Bernier (Heath Ledger) is contacted by top-brass Cardinal Driscoll (Peter Weller) who ask's him to investigate the mysterious circumstances surrounding Dominic's death. Along with his girlfriend Mara Willims (Shannyn Sossamon) & fellow priest Thomas Garrett (Mark Addy) Alex travels to Italy to delve into his mentor's death, as the truth begins to emerge it appears that Dominic was a 'Sin Eater' someone who absorbed other's sins & lived with the burden of them so they could die peacefully & that the Church wasn't happy about his activities. Alex must do what's right even if it goes against what he believes...<br /><br />Also know under the title The Sin Eater this American German co-production was written, produced & directed by Bian Helgeland & didn't really do that much for me if I'm honest & I usually am, honest that is. Anyway lets start with the mess of a script that has some OK ideas but it's throughly predictable, excruciatingly dull & boring, really silly at times & it takes itself far too seriously. The whole concept is daft & while it thinks it's clever with it's oh so neat twist ending that ties everything up & brings the story full circle I thought it was the most obvious & lazy way to end things. There's the usual religious themes here, morality, sin, forgiveness, faith, belief, prophecy's, blah, blah, blah you know the sort of thing. Then there's the twists which aren't hard to see coming, there's the abuse of power by high ranking clergymen, corruption, greed, evil, etc. you know the sort of clichéd Hollywood ideals & themes that get reused every time it deals with the Church. The Order has nothing new to say & as a serious piece of film-making it sucks, a lot. I'm not too sure who The Order is meant to appeal to, as a die-hard horror fan I didn't see much horror in this at all, as a thriller it's less than thrilling, as a mystery it's too predictable & there's nothing here to really grip or maintain ones interest & for some reason I cannot figure out the IMDb also lists The Order as an action film which is absurd as it's as exciting & action-packed as the average episode of Sesame Street (1969 - present), harsh maybe but it's what I think...<br /><br />Director Helgeland does an OK job, the film seems to have a very soft lighting scheme & it all looks a bit drab, grayish & dull. For a supposed horror film The Order is very light on scares or horror elements, in fact there aren't any of either apart from two evil kids who can turn into a flock of birds for no apparent reason, don't ask. Forget about any gore or violence as there isn't any which is fine but it would have helped at least make The Order somewhat watchable. According the IMDb's 'Trivia' section the release date of The Order was put back so some of the special effects could be improved because they looked unintentionally funny, all I can say is judging by the finished film the effects must have been really bad to start with because they aren't exactly brilliant as it stands now.<br /><br />I was amazed to see The Order had a budget of about $28,000,000 which is a hell of a lot of money & I just can't see where it all went apart from the sets & production design which are good. The whole film looks & feels very average & utterly forgettable. The acting is OK although the annoying fat guy who seems to be some sort of foul-mouthed comic relief irritates, a good actor such as Peter Weller deserves better than this.<br /><br />The Order, I prefer the title The Sin Eater actually not that it matters too much, misses all of it's intended targets by the proverbial mile as far as I'm concerned & is a pretty dull way to waste 100 odd minutes of your life so don't do it! Not recommended.\n",
      "* * * * * * * * * \n",
      "14027\n",
      "I've seen the Gator Bait films, and this is almost exactly the same thing as those. A woman is sexually assaulted by a group of degenerate men and systematically exacts her vicious revenge on each of them. The thing that sets this movie apart from those ones (although not very far) is that the sexual content is not glorified. There is full frontal nudity many times throughout the film, but not for a second is it ever sexy. Some of the rape scenes might seem a little extensive, but that's only because the movie is trying to strengthen the audience's need to see this woman seek revenge.<br /><br />This is a weak film, it has no other way to maintain interest other than manipulating our natural desire to see this woman get revenge on her attackers. I Spit On Your Grave is not the kind of movie that you expect to deliver a serious moral, but I was glad to see that, since it contained a significant amount of violence inflicted upon the female lead, it was not meant to pass off as a T&A film.<br /><br />B-movies are notorious for being driven by nudity and out of control adolescent sexuality, and while I Spit On You Grave is unmistakably a B-movie and contains more than its share of nudity, the nudity does not drive the plot. On the other hand, the only thing that drives the plot is an empty necessity for revenge against a group of rapists. These men are evolutionary drop-outs just like they were in the Gator Bait films, and the biggest challenge for the writers seems to have been to come up with new and exciting ways to kill them, but the reason the film can never be anything more than a meaningless B-movie is because it does not deliver a message of any kind, but instead it simply satisfies the audience's desire to see a bunch of rapists get exactly what they deserve. <br /><br />The one problem that this leaves is that we have to sit through the sexual attacks. Oddly, the first half of the film is the part that contains the most nudity (although not by much), but it is by far the most painful to watch. We are even let down a little as we watch the woman obtain revenge since a couple of the deaths were so elaborate that they were obviously impossible (it seems like pure luck that the guy in the lake at the end felt such an overwhelming desire to hug the motor on the boat and press his genitalia against the propeller, staying that way while the woman yells some final words at him and pulls the cord), but again, this movie satisfies only the desire for revenge that the first half filled us with.<br /><br />(spoilers) You know that this is all the movie means to do, since it literally ends the minute the last guy is killed. The woman does not live happily ever after, she doesn't write her book, she doesn't leave and never return to that nightmare place, she just gets in the boat and motors around the lake while the movie simply stops in its tracks. But hey, what more did you expect?<br /><br />Oh, and did you read the tagline? If you decide to waste your time watching this, try and find any man getting broken or burned. I was really looking forward to those",
      "\n",
      "* * * * * * * * * \n",
      "14105\n",
      "Tromaville High has become an amoral wasteland of filth thanks to the aftereffects of the nearby nuclear plant's accidental release of toxic waste.<br /><br />Unrestrained chaos crammed with absurd violence and crude behavior. Rather horrible, obviously intended to be, mess of a film with the filmmakers cutting loose the reins allowing the untalented cast free reign to ham it up. Craft was far down Troma's list of objectives for this gory sleazefest. The honor society are punks with eerie face paint jobs and wacky outfits. The German teacher who becomes a member, through a \\toxic kiss\\\" has the streaks down one side of her face that really gave me the creeps.The toxic monster, which dispatched the ANNOYING punks towards the end, is pretty cool, though.<br /><br />Kind of movie trash connoisseurs will embrace wholeheartedly.\"\n",
      "* * * * * * * * * \n",
      "14116\n",
      "Swayze doesn't make a very convincing Alan Quatermain. Compared to Stewart Granger; which growing up was my ultimate hero in films like the 1952 \\Scaramouche\\\", the 1952 \\\"Prisoner of Zenda\\\" and the 1950 \\\"King Solomon's Mines\\\"; Patrick Swayze fails utterly. Even the portrayal of an older Alan Quatermain by Sean Connery in \\\"League of Extraordinary Gentlemen\\\" was very good in an otherwise big flop. Also Alison Doody lacks the grace of Deborah Kerr in the role of the leading lady, and last but not least the impressive Siriaque in the role of Umbopa makes it very hard for anyone to fill his (shoes)!!! For someone who was disappointed by Richard Chamberlain's 1985 version, I now highly recommend it if you can't get your hand on the granger version.\"\n",
      "* * * * * * * * * \n",
      "14191\n",
      "This sequel is thoroughly uneven, incoherent and rambling in \\plot\\\" (if there really is one)and tries too damned hard to be modern (ridiculous, out of period and character 21 st century style songs predominate) and cute (yawn: there are too many manufactured, belaboured jokes with animals.) The actors in his film are secondary to the juvenile plot. Even Glenn Close (and she is normally very good) sweeps through this film, parodying herself as the original De Ville and the lead from Sunset Boulevard! It's a film that isn't even good to look at. This is a very good example of a bad and pointless sequel. Even Basic Instinct 2 had a plot, characterisation and acceptable acting. This doesn't. It is bad.\"\n",
      "* * * * * * * * * \n",
      "14203\n",
      "Most of the French films I've seen - and enjoyed - were more talk than action, but that's okay. I found them interesting, well-photographed and with intriguing actors. (However, I did at one point wonder if Gerald Depardieu was in every French film ever made! It seemed that way.)<br /><br />This movie has the same interesting visuals and had a good opening. But then it became talk, talk and more talk....which is fine for a drama but not for a murder mystery. After awhile, I almost fell asleep watching this.<br /><br />Actually, the film was more like a play with almost all the scenes played out in one room. Thus, if you love plays, you should like this...but I want a little more bang for a murder story.\n",
      "* * * * * * * * * \n",
      "14213\n",
      "I have read the other comment about this movie, and usually I try not to be harsh in my criticisms because I try to be a nice person. However, this movie is one of the worst movies that I have EVER seen (And thats topping a lot of bad USA Network plus Cinemax nights.) Whoever thought of this movie needs to be prevented from EVER making another one. This film disgusted me in a way that no other film ever. I REALLY think these people are insane. Just save your time and do not watch this fllm. Please - I wish that I had. The acting is horrible, the plot (what plot) is STUPID and degrading and insane. I really do not think this should have been made into a movie. But that is my opinion, and I am trying to save you from wasting your time.\n",
      "* * * * * * * * * \n",
      "14292\n",
      "Ladies and Gentlemen,please don't get fooled by \\A Stanley Kubrick\\\" film tag.This is a very bad film which unfortunately has been hailed as one of the deadliest horror films ever made.Horror films should create such a fear that during nights people should shiver their hearts out while thinking about a true horror film.In Shining,there is no real horror at all but what we find instead is just a naive,foolish attempt made to create chilling horror.Everyone knows as to how good the attempts are if they are different from reality.All that is good in the film is the view of the icy valley. The hotel where most of the actors were lodged appears good too.A word about the actors Jack Nicholson looks like a lost,lazy soul who is never really sure of what he is supposed to do.There is not much to be said of a bald,colored actor who for the most of times is busy pampering a kid actor.No need to blame the bad weather for the tragedy.It cannot be avoided as the film has been made and poor Kubrick is not alive to make any changes.\"\n",
      "* * * * * * * * * \n",
      "14416\n",
      "Watching the first 30 minutes of Sands of Oblivion gave me high hopes. It seemed I was in for a cheaper version of the Mummy. The setup was promising, in the 1920's Cecil B. Demille makes his opus of the Ten Commandments. It seems in using real Egyptian artifacts for the movie set they unleashed an ancient and terrible evil (don't they always?). Aware of what had been unleashed DeMille orders the entire set buried instead of the usual practice of tearing it down. Hopefully the evil will be buried with it for all time. Then we switch to present day where a team is attempting to excavate the site (the movie's first mistake, but hey those period costumes are expensive and this is a Sci-Fi channel movie). The first sightings we get of the Anubis monster are well done and it's a costume that they put some effort into and not the usual cheesy CG effect. Then the body counts starts. This is were the movie went south for me. The reactions to the fact that people are dying in gruesome and strange ways gets a strangely subdued reaction. Once they realize that the ancient evil has again been unleashed and is on a killing spree what do the stock issue leading man and lady do? They make the usual stop to the \\guy who knows the truth but never told anyone\\\". After getting that vital information do they share it with the comrades at the dig site? No, they stop off at a hotel for a refreshing shower and some pleasant small talk. Really I'm not the most motivated person but if I knew a demon from ancient Egypt was on the loose and killing everyone in sight and would be coming after me I'd put a little hustle in my step to solve the problem. After this overlong and pointless middle section they get around to destroying the Anubis monster in the usual way, by racing around in dune buggies and shooting it with a rocket launcher while it's standing by a pile of phosphorous grenades. For a Sci-Fi movie it was above the usual crap they put out, which isn't saying much at all. What disappoints me is this could have been a lot more if someone had wrote a decent script for it.\"\n",
      "* * * * * * * * * \n",
      "14504\n",
      "I admit to liking a lot of the so-called \\frat-pack\\\" movies. No matter how bad they are, I can find something to like about Ben Stiller or Owen Wilson or Vince Vaughn or Will Ferrell or Jack Black. But \\\"Envy\\\" just left me about as cold as the white horse that Ben disposed of. This time, it's Ben and Jack Black as a couple of nutty neighbors, one of whom (Black) discovers a aerosol spray to make animal poop disappear and becomes incredibly wealthy while the other (Stiller) writhes in envy. That's supposedly the plot, but then it veers off in other directions that don't really make much sense.<br /><br />I guess the 'Vapoorize' thing is sort of amusing at first. The problem is, they try to sustain the gag for the whole picture (Black has a license plate that reads 'Caca King') and it gets fairly tiresome. But even Ben and Jack are used poorly; the energy level for both of their performances seems significantly dialed down. The two best performances by far are Rachel Weisz and Chris Walken. Walken's neo-hippie-dippie guy is so offbeat and so well-modulated a performance that it really never suggests any of Walken's other familiar nutcase characters. It's completely unique, yet comes across as unmistakably Walken. And Weisz is about the best actress in the business that nobody knows about. Even with limited screen time, she still dominates every scene she's in.<br /><br />The whole crux of the so-called drama is that Ben, in a jealous drunken stupor, accidentally shoots Jack's prize white stallion, and then goes to ridiculous lengths to cover it up, fearing his best friend will find out and cut him dead. But the plot twist isn't believable because there's nothing about Jack's character to indicate that he would do such a thing. He plays such a sweet guy that it renders the whole excruciating horse chase null and void. You discount it completely. It's all filler. And what's the point of the out-of-control merry-go-round, except that Barry Levinson wants us to know that he's seen \\\"Strangers on a Train\\\"? The screenplay is painfully bad and the acting of the two leads poorly directed. Someone with Levinson's track record should know better. Maybe someone will invent something to make this film disappear. Oh, wait, they already have.\"\n",
      "* * * * * * * * * \n",
      "14542\n",
      "A woman's nightmares fuel her fear of being buried alive.The cheating husband wants her dead and decides to make good use of her phobia by sticking her in a coffin and leaving her in the basement.Of course B-horror movie queen Brinke Stevens transforms into hideous ghostly creature.The only reason to see this amateurish junk flick is Michael Berryman in a really small cameo and two sex scenes with Delia Sheppard.And the last twenty minutes of Brinke's bloody rampage are quite fun to watch.The special effects for example laughable decapitated head are truly awful.Better watch \\Scalps\\\" or \\\"Alien Dead\\\" again.Of course I ain't expecting classy entertainment from Fred Olen Ray,but \\\"Haunting Fear\\\" is too dull to be enjoyable.\"\n",
      "* * * * * * * * * \n",
      "14639\n",
      "What's that there in the skies? Is it a plane? Is it Superman?? Errr, no",
      " It's a TURTLE!?! See, that's what becomes of the Cold War! Nothing but bad news and other issues! The Americans shoot down a Russian combat plane somewhere over Artic territory and the subsequent explosion defrosts & literally awakens the giant prehistoric turtle-creature named Gammera. He/she is not a very friendly critter as it promptly ensues to destroy everything and everyone on its path. The arguing governments finally decide to kill the ugly bastard with a brand new and super-sophisticated ice-bomb, but Gammera has another surprise in store",
      " The damn turtle can fly! The first time this happens results in a tremendously grotesque and hilarious sequence! Gammera lies on his back looking defeated when suddenly fire blows from his armpits and he skyrockets himself up in the air. How can you not love that? Then there's also a dire sub plot about an annoying kid who's able to telepathically communicate with the monster, but that's just not interesting enough. Flying turtle, people!! There's very little else to write about this Japanese (and American re-edited) Sci-Fi effort, apart from that it's an obvious and totally shameless rip-off of such classics like the original Godzilla and The Beast from 20.000 Fathoms. The effects and monster designs are extremely hokey and, unlike the aforementioned films, it never succeeds in creating an apocalyptic ambiance. Respectable actors like Brian Donlevy (\\The Quatermass Experiment\\\") and Dick O'Neill (\\\"Wolfen\\\") seem unaware of what film set they're on and even the original Japanese mayhem-scenes aren't very convincing. Gammera's very own and personalized theme-song is rather cool, though, so it gets one extra point for that.\"\n",
      "* * * * * * * * * \n",
      "14879\n",
      "I wanted to watch this movie because of Eliza Dushku, but she only has a smaller part in it, and her character isn't very likable. However, the main character, played by Melissa Sagemiller, is extremely beautiful and a perfect delight to look at throughout the movie. This is really nothing but a showcase for her looks and talent. She does a very good job.<br /><br />The story itself is, on the face of it, pretty nonsensical. After a car crash, some friends are possibly dead, but keeps on living their previous lives, while all sorts of mysterious things happen. Some bad guys are after them, but we never really find out who they are (possibly they were the ones in the other car, but we certainly don't hear anything about why they are after them). The final scenes especially seem filmically ambitious, but I can't get anything coherent out of it. The opening scene, where the bad guys (who wear some strange masks) cut a blond girl's wrist and gather up some of her blood is never explained or followed up on. Unless the bad guys are supposed to be a representation of the surgeons who're trying to pull Cassie (Sagemiller) back from the dead... but no, that doesn't seem to work. The bad guys are just bad guys; they really just mess up a story that might otherwise have been interesting. In a supernatural story about death and love and sacrifice, who the hell needs bad guys?<br /><br />3 out of 10.\n",
      "* * * * * * * * * \n",
      "14913\n",
      "There is only one problem with this website, you can't give a negative rating. Additionally a mate rated this as a D grade movie. I say he was being too nice. A piece of wood could show more emotion that the actors in this movie, and the money used to produce this movie would have been better used to start a fire. This is absolutely terrible, 2 hours of life that anyone who endures this untalented bloodbath will never get back. After watching 5 minutes, myself and the boys wondered if sinking bulk heavies would make this anymore entertaining. Half a carto and a bottle of 151 later I finally found some of this G grade acting remotely funny. It's an insult upon this entire planet that the director thought anyone could find anything beneficial from this more, he should go and buy a rope. And to the actors in this flick, I hope you got paid well to be in this joke because I doubt you will ever work again. In summary I fine everyone in this movie 100 grand and 12 demerit points off your acting licence.\n",
      "* * * * * * * * * \n",
      "14994\n",
      "I saw this movie at the AFI Dallas festival. Most of the audience, including my wife, enjoyed this comedy-drama, but I didn't. It stars Lucas Haas (Brick, Alpha Dog), Molly Parker (Kissed, The Five Senses, Hollywoodland) and Adam Scott (First Snow, Art School Confidential). The director is Matt Bissonnette, who's married to Molly Parker. All three actors do a fine job in this movie about 3 friends, the marriage of two of them and infidelity involving the third. It all takes place at a lake house and it looks wonderful. The film wants to treat its subject as a comedy first and then a drama, and I thought it needed to be the other way around.\n",
      "* * * * * * * * * \n"
     ]
    },
    {
     "name": "stdout",
     "output_type": "stream",
     "text": [
      "15395\n",
      "THE TEMP (1993) didn't do much theatrical business, but here's the direct-to-video rip-off you didn't want, anyway! Ellen Bradford (Mel Harris) is the new woman at Millennium Investments, a high scale brokerage firm, who starts getting helpful hints from wide-eyed secretary Deidre (Sheila Kelley). Deidre turns out to be an ambitious daddy's girl who will stop at nothing to move up the corporate ladder, including screwing a top broker she can't stand and murdering anyone who gets on her bad side. She digs up skeletons in Ellen's closet, tries to cause problems with her husband (Barry Bostwick), kills while making it look like she is responsible, kidnaps her daughter and tries to get her to embezzle money from the company.<br /><br />Harris and Kelley deliver competent performances, the supporting cast is alright and it's reasonably well put-together, but that doesn't fully compensate for a script that travels down a well-worn path and offers few surprises.\n",
      "* * * * * * * * * \n",
      "15820\n",
      "This was one of the worst movies EVER!!!!!!!! It was so bad, I was laughing through the WHOLE movie! The plot was SO cheesy; especially the end. This movie turns from an end-of-the-world-disaster to save-the-eels! I mean, c'mon! And I swear...I think they use SOCK PUPPETS for the eels! And there was this horrible kiss scene in the middle with the two main characters who happened to be divorced. How predictable! It was SO terrible that my mom, my sister, and I couldn't finish it, and when we DID finish it, it was about a year later! The second time we watched it and we finished it this time, we did MST3K-like comments throughout the movie.<br /><br />Summary: Only watch this if you're a movie basher! Make hilarious comments, watch this at a sleepover for laughs, and I mean HUGE laughs. Also watch for mockery. The metaphor that explains this movie: This movie is a very shallow field full of cheese and sock puppets!\n",
      "* * * * * * * * * \n",
      "15950\n",
      "The Incredible Melting Man plays like an extended episode of The Six Million Dollar Man, but with violence and some nudity. I know this film is a bit crummy but I found it impossible not to kind of like it.<br /><br />The acting and script are not the best. But the effects are good for a 30 year old movie with a budget of $50 - the title character takes quite a while to actually melt but when he does it's reasonably impressive; we also have one inventive death scene involving electrocution. Of note too is the music, it's insane - a cheese-tastic medley of nonsense.<br /><br />Notable highlights: <br /><br />* Marvel at the slow-motion nurse who jumps through a pane of glass for absolutely no reason whatsoever.<br /><br />* Be amazed by a day in the life of a severed head.<br /><br />* Beware of the psychotic cannibalistic melting humanoid. Called Steve.<br /><br />* Be astonished when our hero takes a break from hunting the melting lunatic to have a bowl of soup and complain about insufficient crackers in the kitchen.<br /><br />This film is just too 70's for me to hate it. It's tacky and trashy but I thought it was a lot of fun. You could do a lot worse.\n",
      "* * * * * * * * * \n",
      "16067\n",
      "Claustrophobic camera angles that do not help the movie: Too long face only shots where you most of the time get the feeling that the lower half of the film is missing (that the screen is cut off), because there seems to be important actions going on, but you cannot see them. There is anyway already too much confusion in the movie, so these viewing angles make it worse and do not contribute to artful visuals. <br /><br />I like artfully made movies and unconventional camera work. I can handle deep and slow movies. But this one is trying too hard to be something artful and fails in my opinion painfully.<br /><br />Nothing to get attached to, to any of the characters, because they are not worked out well enough. To work out characters more is needed, than just minute long face shots, at least with this set of script+director+actors.<br /><br />I wonder whether some of the not so good acting is due to the script and director or due to the actors. <br /><br />I will stay away from films both written and directed by Le You for sure in the future. <br /><br />What an annoying film even for someone who would be interested in that part of history, and for someone who spent time in Shanghai.\n",
      "* * * * * * * * * \n",
      "16116\n",
      "This is a movie that is bad in every imaginable way. Sure we like to know what happened 12 years from the last movie, and it works on some level. But the new characters are just not interesting. Baby Melody is hideously horrible! Alas, while the logic that humans can't stay underwater forever is maintained, other basic physical logic are ignored. It's chilly if you don't have cold weather garments if you're in the Arctic. I don't know why most comments here Return of Jafar rates worse, I thought this one is more horrible.\n",
      "* * * * * * * * * \n",
      "16208\n",
      "i can't say i liked this movie very much.it has some amusing moments,but it doesn't seem able to make up its mind whether it is a comedy or a drama.it doesn't really work as either.it's too light in tone to be a drama,and the amusing moments are few and far between.it also doesn't make a lot of sense.things seem to happen for no reason.and it's also extremely convoluted.i feel like they just made things up as they were going.if they had just taken a bit of time to explain things,this might have been a better movie.i would say the ending was anti climatic, but that would mean the rest of the movie had actually been building up to something,which it didn't.it just sorts ends,and that's that.i didn't find it boring,really,but like i said,there there just isn't any point.i'll give Winter Kills a reluctant and weak 3/10\n",
      "* * * * * * * * * \n",
      "16241\n",
      "This movie is about a female rape victim/comic book writer from New York that decides to get away from all that awful big city glamor and move to a dirty, run down small town where she finds refuge in a single-wide trailer on a dirt lot in the middle of 12th and nowhere. The townspeople are mentally ill, yet so is she for inviting crazy men into her trailer. Annoying is the fact that she has the ability to do exactly the right thing to place herself in dangerous circumstance after dangerous circumstance. DB Sweeney's performance was high school at best. He's one of those kinda-cute young actors with a sweet grin. Unfortunately career has not been kind and mother nature has been right in tow. To the previous commentator stating that the acting was \\so real\\\", well I agree. Actually it wasn't acting. The two main characters really are pathetic, weak and incapable of making mature, healthy decisions. In brief, this movie sucks like no other, rent it to laugh at it. The real crime scene? The atrocious Wood paneling in the trailer - enough to make ME commit murder. And lastly, she's a artist/writer, so couldn't she afford a double-wide trailer and something other than a sun-yellow Chevy Chevette for love of god!\"\n",
      "* * * * * * * * * \n",
      "16316\n",
      "This film has the look and feel of a Student film project. Yeah, there are some interesting (albeit gimmicky) edits and shots, but the end result was juvenile.<br /><br />The director didn't seem to be saying \\Look at this film.\\\" It seemed as if he were saying, \\\"Look at ME! I'm a DIRECTOR!\\\"<br /><br />Thumbs down.\"\n",
      "* * * * * * * * * \n",
      "16325\n",
      "Budget, decent actors ...who knew these things were important. Don't waste your time on this piece of junk. The effects are crap. The acting is crap. The only thing that could have made this even tolerable was a little cheap T&A and that gets squandered in the first 20 minutes.<br /><br />The only even remotely redeeming quality about this movie is the very awkward profanity. It was like they found the only 7 people on the planet who have never cursed before. Hats off!<br /><br />If you want to see some dude in a bad suit just go back and look at old prom photos. The only way for a Bigfoot flick to be any good is for it to have a big budget and some actors who didn't come from Frogballs Community Theater.\n",
      "* * * * * * * * * \n",
      "16390\n",
      "The Hamiltons tells the story of the four Hamilton siblings, teenager Francis (Cory Knauf), twins Wendell (Joseph McKelheer) & Darlene (Mackenzie Firgens) & the eldest David (Samuel) who is now the surrogate parent in charge. The Hamilton's move house a lot, Franics is unsure why& is unhappy with the way things are. The fact that his brother's & sister kidnap, imprison & murder people in the basement doesn't help relax or calm Francis' nerves either. Francis know's something just isn't right & when he eventually finds out the truth things will never be the same again...<br /><br />Co-written, co-produced & directed by Mitchell Altieri & Phil Flores as The Butcher Brothers (who's only other film director's credit so far is the April Fool's Day (2008) remake, enough said) this was one of the 'Films to Die For' at the 2006 After Dark Horrorfest (or whatever it's called) & in keeping with pretty much all the other's I've seen I thought The Hamiltons was complete total & utter crap. I found the character's really poor, very unlikable & the slow moving story failed to capture my imagination or sustain my interest over it's 85 & a half minute too long 86 minute duration. The there's the awful twist at the end which had me laughing out loud, there's this really big sustained build up to what's inside a cupboard thing in the Hamiltons basement & it's eventually revealed to be a little boy with a teddy. Is that really supposed to scare us? Is that really supposed to shock us? Is that really something that is supposed to have us talking about it as the end credits roll? Is a harmless looking young boy the best 'twist' ending that the makers could come up with? The boring plot plods along, it's never made clear where the Hamiltons get all their money from to buy new houses since none of them seem to work (except David in a slaughterhouse & I doubt that pays much) or why they haven't been caught before now. The script tries to mix in every day drama with potent horror & it just does a terrible job of combining the two to the extent that neither aspect is memorable or effective. A really bad film that I am struggling to say anything good about.<br /><br />Despite being written & directed by the extreme sounding Butcher Brothers there's no gore here, there's a bit of blood splatter & a few scenes of girls chained up in a basement but nothing you couldn't do at home yourself with a bottle of tomato ketchup & a camcorder. The film is neither scary & since it's got a very middle-class suburban setting there's zero atmosphere or mood. There's a lesbian & suggest incestuous kiss but The Hamiltons is low on the exploitation scale & there's not much here for the horror crowd.<br /><br />Filmed in Petaluma in California this has that modern low budget look about it, it's not badly made but rather forgettable. The acting by an unknown (to me) cast is nothing to write home about & I can't say I ever felt anything for anyone.<br /><br />The Hamiltons commits the cardinal sin of being both dull & boring from which it never recovers. Add to that an ultra thin story, no gore, a rubbish ending & character's who you don't give a toss about & you have a film that did not impress me at all.\n",
      "* * * * * * * * * \n",
      "16699\n",
      "Even 20+ years later, Ninja Mission stands out as the worst movie I ever managed to sit through. Scandanavian ninjas silently enter a scene, fire their obnoxiously noisy sub-machine guns with wild abandon, and then silently leave. Wow, how will we find those silent invisible assassins? Just follow the shell casings and smoke!Painfully bad dialog (or was it brilliant and just poorly translated?), not an Asian in sight in the cast, and a whopping total of 3 Asians among the stunt crew. The plot is ridiculous, the acting pretty much non-existent - then again, ninja can't act! Save yourselves - avoid watching at all costs!\n",
      "* * * * * * * * * \n",
      "16768\n",
      "William Hurt scuba diving scientist??? US agents running the investigation abroad? The sick contaminated man kicking butt after falling 20 feet on his back and running away? Sniper missing and not killing Hurt (just wounding him) but the second \\kill\\\" shot is dead on ? Waste of time. To compare this to falling down as other reviewers did is ridiculous. Oh and by the end of the movie they decide to start wearing gloves on their hands except for the \\\"evil\\\" agent and Hurt decides to kill him by giving him the \\\"virus handshake\\\". What? BTW...when did IMDb require 10 lines of text? I'm just babbling here. Doesn't this just dillute the content of reviews if you are required to have x amount of lines?\"\n",
      "* * * * * * * * * \n",
      "16803\n",
      "That's right! Under 9 on average, but maybe under 12s for some others! I was 11 when I originally saw this on video and at such youth I wasn't able to notice the shoddy cartoon-quality or the fact that those classic characters we have all grown to love are Not the same or as good to see. Just about everything is so 2D here! Belle is, I'll agree, not even beautiful but just a plain-looking woman with tinted skin, she wears the same bright blue dress all the way through with not one glamorous dress on, Wardrobe is to say the Least, annoying - my ears may bleed if I had to listen to her everyday! Lumiere, in both the original and the Christmas edition was suave and elegant, but here he is a womanizing, unfunny twit! Cogsworth, despite being the no-nonsense housekeeper he is famous for, is a complete sh-t and the most insufferable character I'd say! He always seems to find shutting that unbearably grating pie-hole of his very difficult in this one and whose clock face should really have been used for turning back in time to the unforgettable two film in this series! Poor, poor Mrs Potts was not brought to life by Angela Lansbury (one of my favourite classic actresses) but by Anne Rogers who captured none of Mrs Potts' character, no offence to her! Not if she did her best! When the beast roars it sounds so horrifically fake with clearly no additional roars, snarls or growls by a microphone. I am aware that this is only a third feature following two other films so of course it wouldn't be as good but I'm sure that more of a contribution wouldn't have hurt the Disney artists who, indeed, have achieved such remarkable styles of animation over the years. It's alright, I guess, and I do watch it sometimes though only when it suits me. It's quite difficult to make a recommendation for you reading this because it depends on how old you are but remember this will not at all be what you may expect following the earlier spectacular movies! And to think that on my video of it the text on the back cover said \\boasting brilliant animation\\\"! It's a nice little flick but for one thing it's also highly poor and, for another, those 3 words ought to have been saved for the next re-release of the original!\"\n",
      "* * * * * * * * * \n",
      "16814\n",
      "\\Loonatics Unleashed \\\" is the worst thing that could happen to the classic characters created by Chuck Jones . The \\\"Loony Tunes\\\" have many spin -offs and different versions , some were good ,others not very much .But \\\"Loonatics \\\" it's the worst .The concept is stupid and derivative of shows as \\\"The Power Rangers \\\" and \\\"Teen Titans \\\" . There wasn't any similarity with the original characters and the stories are boring and poorly made . The new designs are ugly and the animation is pathetic . This show just doesn't work .This horrible waste of animation is a complete failure and this shouldn't have be nothing more than a bad joke . Lame ! Zero stars\"\n",
      "* * * * * * * * * \n",
      "16826\n",
      "The exclamation point in the title is appropriate, albeit an understatement. This movie doesn't just cry -- it shrieks loud enough to shatter glass.<br /><br />Filmmakers Andrew and Virginia Stone made shrill, humorless suspense thrillers that strove for a semi-documentary feel. Here, they shot on actual New York locations with tinny \\real-life\\\" acoustics to jack up the verisimilitude. But the naturalism of the sound recording only serves to amplify the Stones' maladroit dialog and the mouth-frothing histrionics of tortured butterfly Inger Stevens.<br /><br />In a performance completely devoid of modulation, Stevens plays the wife of electronics whiz James Mason (looking haggard and bored); both are held captive by extortionist Rod Steiger (looking bloated and bored) and his slimy cohorts in a scheme to blackmail an airline with a deadly bomb that Mason has unwittingly helped construct.<br /><br />Here is another credibility-straining instance of a criminal mastermind so brilliantly attentive to every detail, yet knuckleheaded enough to hire a drug-addicted degenerate as an underling. The Stones' idea of nail-biting tension is to trap the hysterical Stevens alone with Benzedrine-popping rapist Neville Brand, filling the frame with his sweaty, drooling kisser. But the camera work is so leaden and Brand so (uncharacteristically) demure that the effect is hardly lurid, much less suspenseful. The Stones, a square pair at heart, don't even have the courage of their own lack of convictions.<br /><br />The film, which ends with the portly Steiger chasing the fleet-footed Stevens on a subway train track, is as clumsy as its ungainly heavy. With Angie Dickinson as Steiger's amoral girlfriend, Jack Klugman, Kenneth Tobey, and Barney Philips.\"\n",
      "* * * * * * * * * \n",
      "16902\n",
      "A little girl lives with her father and brother in the middle of the countryside. This little girl Rosalie has some psychotic tendencies as the movie opens with her feeding kittens to some kind of creatures in the cemetery, and she has recently lost her mother who went crazy but whilst alive enjoyed staying in the woods all night. The premise of the film has a new young lady coming to Rosalie to take care of her. She is introduced to the evil of the woods while driving and, imagine the suspense here, experiences a huge blue barrel falling over the side of a cliff to somehow stop her car dead in its tracks. From there she walks to the nearest house and discovers Mrs. Whitfield who then goes into a whole lot of explanation about Rosalie and her family. The earnestness exuded by the Mrs. Whitfield character has to be seen to be believed. Well, the young lady meets up with the child and we soon learn that not only is she strange but everyone in the film is very bizarre as well. They all do share one thing in common which is none of them ever heard of an acting school. None of these people can act - as evidenced by the few vehicles any of them in the entire film appeared in before or since - and all of them look like they have little idea what is going on, pause to remember lines, and have all the conviction of a paper bag. The director plods through the material in a slow pace with this horrible piano music crescendoing here and there at things that are suppose to be scary. It takes us a bit before we get to a couple of murders by the creature friends, but by that time I didn't care. The murders are not convincing either, and truth be told the whole film looks like someone through it together on their friend's farm with the people and things on hand there. That all being said the ending does have some creepy aspects to it though we don't learn one darn thing about why Rosalie is like this or more importantly who the creature with the cheap masks are. Cheap doesn't even begin to describe the budget here with. It basically is a couple old farmhouses and some sheds at the end and of course the woods. Someone lent the director a couple old cars too. No special effects of any kind and only the most minimal make-up. There are so many guffaws/ridiculous moments to list, but I will just list a few here that at the very least made me chuckle from the lack of aptitude from the creative powers involved: 1)Watch the gardener's body well after he has been \\slain\\\". Len comes in and sees him butchered and you can see his fat belly heave with life. 2)the dying scene at the end where the actress playing Rosalie is killed. She looks like she is listening to directions and takes her sweet time dying considering the method. 3)How about the guy playing Roaslie's father giving us a cranky poor man's Andy Griffith. The scene where he is laughing about boy scouts dying was a weird hoot. The Child is indeed a very bad film and is very bad even for the standards of 70's cheese if you will. This isn't a B film but more like a Z film with producer Harry Novak making some money on virtually nothing.\"\n",
      "* * * * * * * * * \n",
      "16954\n",
      "I guess this would be a great movie for a true believer in organized Christian Dogma, but for anyone with an open mind who believes in free will, rational thinking, the separation of Church & State and GOOD Science Fiction it is a terrible joke!<br /><br />There are some well known actors who were either badly in need of work or had a need to share their personal beliefs with the rest of us heathens.<br /><br />I WAS entertained by this movie in the same way I was entertained by \\Reefer Madness.\\\" That movie attempted to teach drug education by scare tactics the same way this movie tries to teach \\\"Christian\\\" principles with the threat of hell and misery for otherwise good people who don't share their interpretations of our world.<br /><br />It had me howling with laughter and at the same time scared me to realize how many people actually believe that our society should revert to the good old days of the 19th century!\"\n",
      "* * * * * * * * * \n",
      "17136\n",
      "In the ravaged wasteland of the future, mankind is terrorized by Cyborgsrobots with human featuresthat have discovered a new source of fuel: human blood. Commanded by their vicious leader Jōb (Lance Henriksen), the Cyborgs prepare to overtake Taos, a densely populated human outpost.<br /><br />Only one force can stop Jōb's death marchthe Cyborg Gabriel (Kris Kristofferson), who is programmed to destroy Jōb and his army.<br /><br />In the ruins of a ransacked village, Gabriel finds Nea (Kathy Long), a beautiful young woman whose parents were killed by Cyborgs ten years earlier. Now she wants revenge. They strike a pact: Gabriel will train Nea how to fight the Cyborgs and Nea will lead Gabriel to Taos.<br /><br />Five-time kick-boxing champion Kathy Long has all the right moves in this high-speed adventure that delivers plenty of action. Also stars Gary Daniels (as David) and Scott Paulin (as Simon).\n",
      "* * * * * * * * * \n",
      "17378\n",
      "A patient escapes from a mental hospital, killing one of his keepers and then a University professor after he makes his way to the local college. Next semester, the late prof's replacement and a new group of students have to deal with a new batch of killings. The dialogue is so clichéd it is hard to believe that I was able to predict lines in quotes. This is one of those cheap movies that was thrown together in the middle of the slasher era of the '80's. Despite killing the heroine off, this is just substandard junk. Horrible acting, horrible script, horrible effects, horrible horrible horrible!! \\Splatter University\\\" is just gunk to put in your VCR when you have nothing better to do, although I suggest watching your head cleaner tape, that would be more entertaining. Skip it and rent \\\"Girl's Nite Out\\\" instead.<br /><br />Rated R for Strong Graphic Violence, Profanity, Brief Nudity and Sexual Situations.\"\n",
      "* * * * * * * * * \n",
      "17487\n",
      "It's terrific when a funny movie doesn't make smile you. What a pity!! This film is very boring and so long. It's simply painfull. The story is staggering without goal and no fun.<br /><br />You feel better when it's finished.\n",
      "* * * * * * * * * \n",
      "17519\n",
      "My mother worked with Dennis L. Raider for eleven years, not to mention shared an office with him. When it was announced he was BTK, she was shocked. The whole day was just her telling stories about how she never would have seen him as the Wichita Killer. I've heard her re-tell them many times. I've inquired her about a lot of things, and gone to all the interviews that she was asked to go to. I've read the entire book written about Raider, Wichita is my hometown and I was surprised that such a thing could happen in Kansas.<br /><br />There was another BTK movie on TV not too long ago, and I thought this one would have been better at portraying Dennis' killings, maybe even have some intelligent touches to his motives.<br /><br />I'm going to be very blunt with the flaws in this movie. This is based on my mom's portrayal of him, all my readings on him, and the video tapes I've seen of him talking.<br /><br />First of all, the camera angles were horrible. It looked as though it had been shot on a home video camera. The acting was terrible and I couldn't even bear to watch it.<br /><br />Dennis Raider never had long hair. Dennis Raider was a \\very anal man\\\" and was a \\\"follow the rule book\\\" kind of guy. He wasn't as nice as the movie made him look, he was very polite and abrupt, business like. Same goes for his killings, as far as we all know. If you've seen his confession in court, you can already guess.<br /><br />And as for the obsession with the slaughter house? No. Never have I read or has Dennis Raider confessed to having a problem with animal cruelty or people squishing bugs. In fact, he practiced on cats and dogs for choking methods. Yet through-out the whole movie he was putting animals in his victim's faces and acting like he cared about the well-being of them.<br /><br />Dennis Raider never killed the people that he knew, he confessed this, but in the movie in his first killing he tells the lady he knows her also.<br /><br />I really don't even want to go in to this movie, and I'm already ranting. This is NOT what you want to watch if you are interested in the actual happenings of BTK. This is NOT what you want to watch if you want a good horror movie. If you want a badly shot half-porno with some slaughter scenes served the side, then this is your kind of movie.\"\n",
      "* * * * * * * * * \n",
      "17632\n",
      "By far the worst movie of all time. Even Yaphet Kotto could not save this turkey. I have heard that the movie was originally supposed to be titled \\The Treasure\\\" but was changed to \\\"Sharks' Treasure\\\" in order to take advantage of the excitement created by \\\"Jaws\\\". I think sharks were in one scene of this movie; the fact that they happened to be included in this \\\"thriller\\\" was supposed to sell tickets. Didn't work. Anytime something \\\"good\\\" happens in the movie, the ship's crew toasts each other with a certain brand of beer that had just been introduced at the time the movie was made. Gee, do ya think that beer might have been a sponsor? Could they have made it any more obvious? The only time anyone should break out the beer is if they make it through this thing. That's cause enough for celebration.\"\n",
      "* * * * * * * * * \n",
      "17677\n",
      "In the first Howling, we are introduced to a world where werewolves exist and are somewhat organized. The plot in that film made some sense; a TV reporter investigates this and attempts to uncover the truth. She ends up having to kill many of them including her boyfriend who becomes one. Then she shows the world that they do exist by transforming on live TV. The special effects were just laughable in the first movie and they don't get any better in this one. Whether it's the transformations or the bad puppets or the cheesy computer graphics showing the superpowers.<br /><br />The plot line isn't all that bad; they must kill the leader of the werewolves for some reason. This won't destroy all werewolves and it really doesn't end the threat from werewolves as it...they just want to kill her. I think there was some cloudy reason for this but it really gets lost in the film.<br /><br />After the film \\ends\\\" we have a 10 minute montauge of the movie we just watched and every other scene is one where the female werewolf leader rips off her top exposing her large breasts while some Devo-esquire band plays to a crowd of werewolves. <br /><br />The only thing that makes this movie even watchable is Christopher Lee.\"\n",
      "* * * * * * * * * \n",
      "17733\n",
      "This was one of the most ridiculous and badly directed movies I've seen in a very long time. I've never liked Spike Lee, but thought I'd give this one a try: bad mistake. The movie is supposed to show how the Son of Sam real life murders affected a neighborhood in the summer of 1977; what it really did was center around the most boring characters that I doubt anyone cared for as far as their drug problems, marriage problems, and so on, etc. The scenes that depict the murders are just that, and nothing more; a shooting and then it's back to Saturday Night Fever! What's even more ridiculous is Spike Lee's choice to show up as a reporter in the movie: Spike, trust me, you're no Hitchcock, stay out of the movies, it makes them even worse off. The most silly scene had to be the dog speaking in a goofy voice, which was depicted in a scene before it where it was supposed to have been shot??? Spike, what were you thinking when you made this film? Not thinking at all is my guess. People who think they'll see a crime drama, take my advice and do not waste your time or money on this loser. You're better off watching Jerry Springer in this case! Waste of film, I gave it a 1 out of 10: awful dud.\n",
      "* * * * * * * * * \n",
      "17871\n",
      "Stefan is an x-con that five years ago got married to Marie. Their marriage has been stable until Stefan past catch up with them and he's offered to do a courier job. Stefan's job is a heroin delivery from Germany to Sweden which should go easily.<br /><br />In Germany Stefan meet Elli, a girl from Bosnia that has been sold to a stripclub owner. Stefan dislikes what he sees and decide to help Elli out of her misery. Due to the fact that Elli's father during the war fleed to Sweden Elli now goes with Stefan to Sweden. To make up with the past Stefan promises Elli to help her find her father, no matter what it takes. Finally back in Sweden the whole situation seems to be more complicated than Stefan ever thought of..<br /><br />This movie doesn't seem to fit in the ordinary class of swedish movies due to the fact that it's been americanized alot. Regina Lund and Cecilia Bergqvist makes it all average, the effects makes the movie a little too much though. See it and jugde for yourself.<br /><br />\n",
      "* * * * * * * * * \n",
      "18010\n",
      "I would like to say that unlike many of the people who disliked this film and found it impossible to understand I was fully able to understand it for what it is.. A very incoherent attempt at a plot line.<br /><br />I don't like to toss this word around but in this case it fits very well. The director firstly presents the material in an extremely \\arrogant\\\" way and worse, extremely incoherently. It is incoherent in that it presents the material in a messy dislodged order, making us think that the director was too drunk to remember which scenes come first, and arrogant in that at 2 hours long they expect us, the viewer to CARE by the end of it.<br /><br />I respect surrealist cinema for what it is. (creating a story around a more than real world that does not tie to real life) But there is nothing surreal about having a story placed in ordinary modern times, and a modern day earth setting, that is most importantly not able to engage the audience but furthermore, simply a dislodged series of events that barely tie together. The most accurate way to describe the experience of viewing this film is like viewing a story; perhaps even a very GOOD story as it was based on a book, but being frustrated by the fact that the camera doesn't seem to capture the necessary moments and tie together any means of coherence.<br /><br />Let's compare stylistic cinema. Compare Gaspar Noe's \\\"Seul contre tous\\\" to this. He gave us a coherent, extremely engaging and intellectually deep story. This movie offers no intellectual study, and while it is very stylistic in it's fragmented presentation, the director has ultimately abandoned the essential art of good storytelling and all we are left with is a mess of events that barely tie in together.<br /><br />Yes indeed it IS possible to make sense of things.... to a POINT. But as i said earlier the viewer will reach a stage where they simply say \\\"Who cares.\\\" It plays out like watching a drab mundane story of a man going to a supermarket and buying groceries in uncronological order. Even with murders it is completely uninteresting and unengaging. Too many people these days will give high marks to something they are unable to understand or make sense of simply for fear of looking foolish, and in every way this film TRIES to make the viewer look foolish.<br /><br />If you have too much time on your hands, then please watch this film, taking into account what I have said of it. It is a story based on a book that could have been presented in a MUCH more effective way and that is my bottom line reasoning.\"\n",
      "* * * * * * * * * \n",
      "18069\n",
      "This film is about a Japanese woman who has an obsession with calligraphy on skin.<br /><br />The plot is absolutely bizarre. I fail to see any \\sensual\\\" or \\\"erotic\\\" undertones. The plot turns an ancient art form into a fetishistic pornography. In addition, the scenes that are filmed in Hong Kong are certainly portraying bad parts of Hong Kong, such as the airport in the middle of the city, poor living conditions and noise pollution. Throughout the whole film, I keep thinking that \\\"The Pillow Book\\\" is insulting the Japanese culture and the Hong Kong environment.<br /><br />\\\"The Pillow Book\\\" is a perverted, yet boring film. Seriously stay away from it.\"\n",
      "* * * * * * * * * \n",
      "18096\n",
      "Consider for a moment what it must be like to be Uwe Boll. Somewhere, perhaps in those places that Jack Nicholson said 'you don't talk about at parties', Boll knows that David Lean had head lice as a child that had more talent for film making than him. Gore Whores, metal-heads and the socially dysfunctional may bump into him on the circuit and tell him otherwise but general audiences find the Teutonic helmsman's output so bereft of originality, wit or imagination that he's become the internet's bogeyman  an online discursive synonym for photochemical excrement. Boll does his best to ride over these naysayers, exploiting tax credits available in Germany and Canada to keep working and raising money from a network of dentists as Zero Mostel did with old ladies in The Producers. The difference being that Mostel's character knew he was making bowel fill. Maybe Uwe knows it too.<br /><br />Such is the level of hostility toward each new 'Bollbuster' that IMDb patrons sabotage their ratings by voting 1 before they've seen it. Boll's attempts at silencing his critics by challenging them to a boxing match and knocking them out just made them more determined. Indeed he's probably the only filmmaker that's boosted thesaurus sales as critics search for inventive ways of describing garbage.<br /><br />This onslaught has made Uwe a very thick skinned man, so much so that he must feel like he's wrapped in a carpet, but one who feels as if he's bullied by the entire world. Like most people in that situation he lashes out, determined to upset as many people as possible with the memory of a tearful evening holding Variety's review of House of the Dead, never too far from the surface. This 'I know you are but what am I' strategy for reclaiming the initiative produced the blunt satire of Postal, which attempted to napalm the dissenters with jokes about 9/11, Christian fundamentalism, Jihad, Nazism and paedophilia. Such a litany of invective requires a satirist with the mind of Peter Cook and the visual imagination of Chris Morris but the closest Boll gets to either man is the o in their surname.<br /><br />In Seed, shot back to back with the aforementioned game adaptation, Boll is back with a story about a sadistic serial murderer (is there any other kind?) who gets the chair only for two attempts to fail in permanently curtailing all signs of life. Mindful of the fictional law that says anyone still alive after 3 attempts must go free, though if you'd been fried with that much electricity why would you want to, they pronounce him legally dead and bury him, only for the disgruntled killer to resurface and begin a whirlwind tour of his gaolers.<br /><br />Boll begins his 'exploration of nihilistic rage' with Seed watching footage of animals being tortured for experimental purposes. From there we're treated to the killer's stock in trade  kidnapping dogs, babies and grown women and allowing them to starve to death on camera only to become maggot food. We're invited to reflect on what a depraved race of amoral meat sacks we all are  our inhumanity to each other and our fellow creatures acting as a lighting rod that acts as a catalyst for the most disgusting vestiges of the human condition. Yes, we're worthless, gormless sadists and worse than that, we won't give Uwe a good rating on the IMDb. In short, humanity is bunk.<br /><br />Of course you might think that Uwe relies on our worst excesses for his livelihood and with that in mind it's a bit of a bipolar piece, on one hand hating its audience and positively basting itself in the sour milk of human kindness  the milk that poor old Boll has had to drink for so long, while simultaneously whipping out its member and inviting those with a pornographic lust for on screen depravity to marvel at its sheer arse splitting girth.<br /><br />The result says nothing about society and its discontents, more the corrosive effect bad press is having on its director. Poor Uwe is obviously a very angry man  one scene in which a poor woman gets her brains hammered to a pulp while tied to a chair, no doubt a surrogate for his own fantasy's about dispatching various web critics. That it's there but takes an avant-garde approach by failing to be attached to any kind of narrative thread, shows that Boll is a pornographer whose happy to engage with the blood lust of his audience and knows that plot is surplus to requirements. He's made a film which is competently shot but utterly desolate. \\I wanted to make a horror movie that was no fun\\\" Boll told the audience at the film's world premiere and he has, on that flimsy manifesto, succeeded but if this was supposed to convince the director's detractors that he was a serious genre filmmaker, he'll need something genuine to say as well as a better, more original way of saying it.\"\n",
      "* * * * * * * * * \n",
      "18123\n",
      "Plot is not worth discussion even if it hints at corruption, murder, power and the rest of thriller related topics. Characters are interesting though sometimes. Not realistic but interesting nevertheless.<br /><br />Development is slow like tea drinking ceremony. Visuals not stunning, but good enough to ease the eye strain. Good movie to watch after dinner before going to bed - nothing shocking too much, nothing overexciting. Movie sitcom style.<br /><br />I liked Woody - excellent performance. Had to fight the plot inadequacy and did the job pretty good. The rest are bearable though very predictable. The whole is watchable and better than most TV shows.\n",
      "* * * * * * * * * \n",
      "18218\n",
      "How Disney can you get? Preppy rich girls act like idiots, buy a bunch of stuff, and get taught a lesson. Is Disney trying to send a lesson to itself? That maybe while buying everything it should maybe still be human? Whatever the psycho-analysis, this movie sucked.<br /><br />The girls want a rich party for their rich lives. But then money disappears and they have to use their riches to get the milk plant (yes, milk) going to employ the workers. They keep it afloat until daddy comes home. And the man at the beginning, who appears to be the one that takes the money, is the one. But the ending is dumb. Webcam in the Cayman Islands? Huh? Not worth my time ever again. <br /><br />But it is better than Howl's Moving Castle. \\D-\\\"\"\n",
      "* * * * * * * * * \n",
      "18219\n",
      "This movie has beautiful scenery. Unfortunately it has no plot. In order to have a plot there must be a conflict. This movie had none. It spent two hours painting a beautifule scene and failed to ever place any activity in it. The picture trys to be artistic but fails to pay attentions to the fundamentals of story telling.<br /><br />If you love Montana scenery and fly fishing you will find some value in this film just don't expect a story. There isn't one.\n",
      "* * * * * * * * * \n",
      "18253\n",
      "Man, I really find it hard to believe that the wonderful Alan Ball had anything to do with this mess. Having seen the first two episodes thus far, I think I can safely say this show isn't going to be on my must see list. It's just got so many things working against it.<br /><br />None of the actors cast are particularly good. Anna Paquin as the lead character Sookie, is just awful. I remember her being better in a lot of other things I've seen her in so maybe it's just the writing. She's not really much fun to look at either, there are moments where to be honest she looks downright ugly. The actor who plays Bill is marginally better, if only because his character is supposed to be sort of wooden and aloof. The other actors do their best but with the cliché characters with difficult to perform accents they are given it's a tough job. Tara is an absolute misery to watch, Rutina Wesley absolutely murders the accent. It's like nails on a chalkboard bad. Almost as awful is Nelsan Ellis, it's difficult to understand what he's even saying sometimes. Both his character as well as Tara's also seem a bit racist to me. I don't know, having a character say 'whycome' on an HBO show that isn't The Wire just seems a bit odd. Rounding out the cast so far are Sookie's doddering grandmother, her sex addict brother, and the only bit of genius casting I've seen in William Sanderson as the sheriff.<br /><br />The story seems to be meandering towards it's destination at this point, with no real worry about keeping the viewer interested. The romance stuff is very Dark Shadow-sy. Although this show ups the camp factor from something like those old Dark Shadows episodes times about ten. At times it seemed so campy to me, that I just have to assume it was intended to be. But unlike a show such as Buffy, that pulled camp off masterfully, this show does not. Out of place with the campiness is the extreme gore and graphic sex of the show. I'm not averse to either of these when they are done well, as they have in many other HBO shows but here at least they prolonged rough sex scenes involving Jason Stackhouse seem a bit over the top and pointless.<br /><br />About the only nice thing I can really think to say about this mess is that I liked the opening title sequence. HBO has had a string of bad luck with their shows lately, I hope they cancel this after the first season and try to get something better on the air.\n",
      "* * * * * * * * * \n",
      "18267\n",
      "What Is It? is a mish-mash of bizarre recurring motifs (snails, Shirley Temple, swastikas, and overtly racist music, among others) unfettered by any sort of narrative or plot or character development. The whole thing struck me as self-consciously \\freak show,\\\" and I don't mean only the unusual casting decisions. It has the feel of a bad acid trip, far beyond any level of drug use one might attribute to Hunter S. Thompson or William S. Burroughs. The only movie to which I can compare it is Eraserhead (my second-least-favorite film of all time), which was by intent much more depressing, but I still found What Is It? a total waste of my time. It's one thing to give me a peek into the inner workings of someone else's mind -- even someone else's chemically altered consciousness -- but quite another to just throw weird visuals at me purely for the sake of weirdness.\"\n",
      "* * * * * * * * * \n",
      "18289\n",
      "A group of people are invited to there high school reunion, but after they arrive they discover it to be a scam by an old classmate they played an almost fatal prank on. Now, he seeks to get revenge on all those that hurt him by sealing all the exits and cutting off all telephone lines.<br /><br />Dark slasher film with an unexceptional premise. Bringing it up a notch are a few good performances, some rather creative death scenes, plenty of excitement & scares, some humor and an original ending.<br /><br />Unrated for Extreme Violence, Graphic Nudity, Sexual Situations, Profanity and Drug Use.\n",
      "* * * * * * * * * \n",
      "18353\n",
      "Well, what to say...<br /><br />Having seen the film I still have to wonder what the hell the point of it all really was?? V.Dodgy camera moves in the courtyard at one point... I had to look away from the screen, I was feeling physically sick... Round and Round and Round.... You get the idea...<br /><br />VERY VERY Strange accents at many points.... \\Those that should know, know\\\"<br /><br />Unless your getting in for free, or being paid to watch it, or your partner is about to make you paint the house or something.. then forget it...\"\n",
      "* * * * * * * * * \n",
      "18462\n",
      ":Spoilers:<br /><br />I was very disappointed in Love's Abiding Joy. I had been waiting a really long time to see it and I finally got the chance when it re-aired Thursday night on Hallmark. I love the first three \\Love\\\" movies but this one was nothing like I thought it was going to be. The whole movie was sad and depressing, there were way to many goofs, and the editing was very poor - to many scenes out of context. I also think the death of baby Kathy happened way to soon and Clarks appearance in the movie just didn't seem to fit. It seemed like none of the actors really wanted to be there - they were all lacking emotion. There seemed to be no interaction between Missie and Willie at all.<br /><br />I think the script writers should have went more by the book. It seems like every movie that's been made so far just slips further and further away from Janette Oke's writings. I mean in the movie they never mentioned a thing about the mine and the two boys or Clark getting hurt because of it. And I think Missie and Willies reactions to Kathy's death could have been shown and heard rather than just heard.<br /><br />Out of the four movies that have been made so far I'd have to say that Love's Abiding Joy is my least favorite. I hope with the next four movies that more of the book is followed and if Clarks character is in them I hope he's got a bigger part and I hope his part isn't so bland. I also hope there is more of Scottie and Cookie and maybe even Marty but who knows what the script writers will have in store next.\"\n",
      "* * * * * * * * * \n",
      "18515\n",
      "I didn't know Willem Dafoe was so hard up for bucks that he'd disgrace himself with such shocking hamming in this monstrosity. Hell: I'll donate that money that I was going to send to Ethiopia if he's that desperate. I have never seen such a pathetic and disgusting film for a long time...who paid for this? They are either pulling some tax scam or insane. A 5-year old would be ashamed of the plot, and I'd rather get cancer than sit through more than the hour I suffered already. Everybody involved should be locked up for a year in the sodomy wing of a third world prison. Avoid at all costs. I'd give it minus 10 if possible...unbelievable.\n",
      "* * * * * * * * * \n",
      "18563\n",
      "Whoa. In the Twin Cities, we have a station that shows a \\Big Bad Movie\\\" Monday through Friday. Tonight's nugget was a film with Carrie Fisher called \\\"She's Back\\\" about a really annoying woman who ends up getting murdered when thugs break into her house. Bea (Beatrice) comes back to haunt her husband. She wants him to seek revenge on her killers, hence \\\"she's back\\\". And she won't let him rest until he does so. She irritates him endlessly... and the viewers, too! This movie is truly one of the worst movies I've ever seen. Hey, I like bad movies, though (my fave movie is Xanadu). I was really shaking my head throughout the whole film, wondering who thought this would be a good idea for a movie. Bea is just so annoying. The plot is silly; the acting is bad; the story... well, you get my drift. Anyway, if you wanna see a really bad movie - really really bad movie, check this one out. You won't be disappointed. Heh.\"\n",
      "* * * * * * * * * \n",
      "18587\n",
      "I watched the whole movie, waiting and waiting for something to actually happen. Maybe it's my fault for expecting evil and horror instead of psychology? Is it a weird re-telling of the Oedipal myth: I want to kill my father and mother and marry my uncle and compose musical theater with him? I didn't understand why certain plot elements were even present: why was the construction upstairs, why was there that big stairwell with a perfect spot for someone to fall to their doom if no one was actually going to do so, why have the scenes at all with the father at work, why have such a nice kitchen if you're only going to eat takeout, why would the boy want to be baptized and the parents be the ones to resist instead of the other way around. I see lots of good reviews for this movie...has my taste been corrupted by going up with 70s b-movies and old sci fi flicks?\n",
      "* * * * * * * * * \n",
      "18645\n",
      "This movie, supposedly a thriller, had about five sub-plots that developed simultaneously to climax at the end, but it ended up more as a yawn.<br /><br />The writing was trite, the pace was slow and disjointed and the characters were boring. George Clooney looks like he needs to get into a gym, Matt Damon hammed it up and the others seemed to read their lines from a teleprompter.<br /><br />The worst part of this movie was that it was carefully crafted to be politically correct and so it ended up saying nothing at all about big business, oil and the Middle-East. I have seen documentaries provide more excitement. Watch it only if there's absolutely nothing else to do.\n",
      "* * * * * * * * * \n",
      "18811\n",
      "The banner says it all, this is one really bad movie, which is sad because I normally like Sheffer, and I have been impressed with Andrea Roth in other roles. This, however, is terrible. I wont waste any more time...its just that bad.\n",
      "* * * * * * * * * \n",
      "18843\n",
      "At first I was convinced that this was a made-for-TV movie that wasn't worthy of primetime. But after a few minutes of dumb-struck awe, I realized that there was at least comic value in the over-the-top stunts and c-movie acting. This movie would have gotten a 1 if my wife and I hadn't laughed so hard as we watched it in wonder that the actors could keep a straight face. It was like a less-funny spy version of The Big Hit (I laughed so much I actually bought the Big Hit DVD) with even-worse acting. We were disappointed that Nick chose to marry Elena, and not Jim, after all of the hugging and high-fives. A few rum and cokes will definitely help it go down easier.\n",
      "* * * * * * * * * \n",
      "18897\n",
      "This is not a very good telling of the Tarzan epic. There was only one reason for this movie. John Derek wanted to show off his beautiful wife in the buff! Bo Derek in '10' was at least a humorous movie and there was a reason for nudity and sex. This movie is nothing more than soft porn. If you're into that, well, then fast forward to it and skip the rest! This movie (like Bolero) was again a vehicle for Bo Derek to show off her terrible acting. She is undoubtedly a beautiful woman but a poster of her is more exciting than this movie! Richard Harris was a better actor than this; this was one of his few mistakes! don't waste your time on this movie...go buy the book instead.\n",
      "* * * * * * * * * \n"
     ]
    },
    {
     "name": "stdout",
     "output_type": "stream",
     "text": [
      "19111\n",
      "After watching Awake,I led to a conclusion:director and screenwriter Joby Harold made Awake with the intention of laughing at the spectator,for the simple fact the movie is full of ridiculous elements.Awake has a lot of plot holes and it is full of absurd and ridiculous elements(for example,the hospital uniform the spirit of the main character uses...did the ghost of a doctor leave it in the floor ?).The concept behind this movie is slightly ingenious but all the plot holes and the absurd things make of this a stupid and crappy film.With the exception of the great Lena Olin,all the actors bring bad performances.Hayden Christensen has zero expressions and the same applies for Jessica Alba.The extraordinary actor Terrence Howard is enormously wasted on his role.Awake makes a laugh of the spectator.It's so ridiculous and full of absurd things that it's impossible to take it seriously.My recommendation is:skip this crappy movie.\n",
      "* * * * * * * * * \n",
      "19145\n",
      "This week, I just thought it would be fun to catch up with Corey Haim, with just having seen the two \\Lost Boys\\\" films last week and all. Not that I'm a fan-boy - not by far - but I did like those two Coreys in some films back in my early teen days.<br /><br />So, I prepared myself for three films starring him. Unfortunately, I picked \\\"Dream Machine\\\" as a first (never seen it before), and it was so godawfully horrible, I just decided to lock Corey back in my closet and let him sober up again first, before I pop in something else of his. But I managed to struggle my way through this film first. I had the impression it desperately wanted to play in the same league as \\\"Ferris Bueller's Day Off\\\" (1986) but got caught up in its own delusions. Practically the whole film it wants to be a comedy and near the end it hopelessly tries to be a thriller. The only good thing about \\\"Dream Machine\\\" is the premise: A dead body in the trunk of a Porsche. All the rest fails so badly, it's embarrassing. Even the most for Haim. I can dig him being his young, enthusiastic self, but at least when he comes with some form of directorial guidelines. This clearly wasn't the case in \\\"Dream Machine\\\". So, we have a perfect car, yes, that black Porsche. Haim's perfect girlfriend? Just a blonde chick who hardly has any lines in the film. The perfect murder... almost? Some dude that falls flat on his ass as the villain of the film, trying the whole movie to steal the body back out of the trunk, never really succeeds, and then at the end of the film thinks he's Michael Myers (minus the white William Shatner mask) and mistakes Corey Haim for Jamie Lee Curtis. Don't think they could have made this flick any lamer if they tried. A stupid, unfunny film with a story that leads to nowhere directed by a director that doesn't know how to direct his cast. Great accomplishment!<br /><br />One last question for Mr. Haim: Who's idea was it to have you smile directly into the camera in that last shot of the movie? Yours or the director's? So not done.\"\n",
      "* * * * * * * * * \n",
      "19167\n",
      "WORST MOVIE EVER!!!! Can't believe I wasted 90min of my life watching this crap. The only reason I didn't turn it off was I wanted to see the Gangster dude on the cover and he wasn't even in it talk about False advertising. The people that gave this movie a ten are either Dumb,Stupid or CAST MEMBERS or friends of CAST MEMBERS.<br /><br />I gave it a solid 2 because no one else did<br /><br />I have to write more and I don't even want to. wasting my time talking about this rubbish. Please don't watch it and if you did then vote so this movie can go where it belongs. bottom 100 movies. i can't even tell you how bad it really is. think the worst movie ever that you've seen then times that be ten and thats this movie. It sucked!! If you just think I'm being bitter then watch it I dare You!! This movie should be used to torture war criminals or Terriosts. If they Watch this even two times and they'll be spilling the beans and begging for MERCY!!\n",
      "* * * * * * * * * \n",
      "19174\n",
      "Following the release of Cube 2: Hypercube (2003), and playing off the alleged success of the original Cube (1998), Director Ernie Barbarash takes the liberty of bringing us the third installment in the trilogy, the prequel Cube Zero.<br /><br />Deep in the bowels of a giant and faceless institution, time and place unknown, two low-ranking operators, Wynn (Zachary Bennett) and Dodd (David Huband) sit and observe on monitors the behavior of people that have been placed in a giant network of cubic chambers, some of which are rigged with death traps. Told that the people they are observing are convicted felons who chose this horrific and deadly ordeal over a lethal injection, these observers have had no problem with their jobs until Wynn, a mathematical genius, discovers that one of the prisoners, a woman named Cassandra (Stephanie Moore) never agreed to be put inside the Cube. Suddenly it's realized that perhaps their \\jobs\\\" are not what they seem, and that they may be part of something deeply sick and twisted...<br /><br />For people that have seen and enjoyed the original Cube, this prequel will probably not be to your liking. It's not that the story does not have potential; it's simply that the first Cube film never needed to be expanded on. Standing alone, it is a neat little psychological thriller with very interesting concepts and a certainty about its own message. It was also nicely self-contained. The problem with Cube Zero is that it destroys some of the mystique of the original, attempting to answer questions with more questions but only really resulting in making a mess of what never needed fixing.<br /><br />What this new film has to offer, which is questions about the psychological nature of authoritarianism and the banality of evil, certainly are good questions to be raised, but probably should have been done so on their own merits, rather than as a continuation of a film that had no such aspirations.<br /><br />Having said this, the other traits of the film, such as acting and direction and writing, are not awful. There is a bleak, dark look to the film akin to such film noir as 'The Matrix' and 'Dark City', and they have certainly managed to recapture the claustrophobic feeling of the first Cube. Unfortunately for Barbarash, these are not enough positive qualities to save it.\"\n",
      "* * * * * * * * * \n",
      "19259\n",
      "Perhaps one of the worst teenage slasher films I ever did see. I'll start with the bad points of t he movie, which pretty much covers the entire film. First of all, something no one can avoid: TERRIBLE ACTING. I swear they picked up some random kids off the street based on how they looked. Secondly, BAD/UNCONVINCING CHARACTER WORK/DEVELOPMENT. You hardly even know half the kids who are killed in here. All you figure is that they deserved it one way or another. The scarecrow's character was overdone, and a cheap rip-off of the other great fantasy killers such as Freddy or Pinhead. Next: BAD DIALOG: The Scarecrow was full of horrid one-liners that would make you laugh, only because it was so terrible. Lines like \\Let's go find some small animals to torture!\\\" really just leaves you with an eyebrow raised. Last but not least: Next off: BAD CASTING. How old was the guy who played Lester? Like 30? The back of his head was balding for God's sake. There is much more I could say about this film, like it's cheap special effects, it's \\\"high school film class\\\" effort, but the point is understood. It's just bad film making at it's worst. As for what I found to be \\\"good\\\" in the movie: -Entertaining for those with low, low, LOW standards -Would help put insomniacs to sleep. -A very cheap laugh, or even a giggle.\"\n",
      "* * * * * * * * * \n",
      "19359\n",
      "The last couple of weeks in the life of a dead vagabond woman is told in flashbacks. Like the vagabond, the film wanders aimlessly and rather pointlessly. Mona, the lazy, sullen, and drug-addicted title character, is not likable and Bonnaire does little to make her interesting. Although there is some pretentious dialog attempting to explain why Mona has chosen this miserable lifestyle, her motivations are never really clear. The episodic nature of the film, involving some random characters, becomes tiresome after a while, making it seem much longer than its running time. It is also hard to believe that an attractive young homeless woman would not draw more attention from men.\n",
      "* * * * * * * * * \n",
      "19459\n",
      "Jean-Marc Barr (Being Light, The big blue, Dogville) has directed and interpreted this strange movie which is the second installment of some kind of trilogy. I might be wrong but I don't think this movie's part of the Dogma '95 manifesto, though it really looks like it. I'm not really sure of what I think about this film. All actors are good. They deliver pretty good performances, especially Rosanna Arquette and Jean-Marc Barr. The story is somehow interesting. But I don't know, there's something about the movie that I don't like. The sex scenes are way too long. It goes from an interesting work of art to an erotic piece of crap I don't know exactly where it stands. Sure it's not a bad movie, but I won't suggest people to see it neither I'll tell them not to watch. Just do as you want. If you feel curious and you're open-minded, give it a try, you might like it.\n",
      "* * * * * * * * * \n",
      "19520\n",
      "I think that can sum up this show about as well as anything. Batman TAS may be the worst thing to ever happen to cartoons based on comic books because everything that comes after will be compared to it and nothing has measured up yet. It's just too damn good. Was Batman Beyond good? \\Yeah, but it was no TAS.\\\" Is Justice League good? \\\"It's not too bad, but it's no TAS.\\\"<br /><br />The Batman is certainly no TAS, either, but I won't hold that against it. It would be unfair and besides, it has plenty of other problems with it.<br /><br />The concept of a younger, less experienced Batman fighting crime is a fine one, and at times the art is very nice. But all of the rest of the time, the art is worthless Americanime, and this betrays a lot of the flaws of the show itself. It is paced, written, and designed like an Americanime. If I wanted to watch Jackie Chan Adventures, I'd watch Jackie Chan Adventures. Or I could just bang my head into a wall any time and get the same effect. The Joker is a homicidal, mentally unstable clown in a suit who uses his wits, unpredictability, and clever gadgets to fight Batman. When he is forced to fight hand to hand, he will either resort to something cheap or be totally outmatched. He is not meant to be a monkey with dreadlocks who knows kung-fu and can leap into twenty feet into the air, accompanied by speed lines. If they had wanted to do that with a villain, there were other less important characters they could have used or *gasp* they could have created a new one entirely. And it's not that re-imaginings are a bad thing, don't get me wrong. TAS (there I go again) took Mr. Freeze from your standard icegun-wielding B villain and made him into a memorable and morally complex character. Of course Freeze wasn't exactly a classic villain at the time and they performed an upgrade, but the point stands. What The Batman does is it takes everything you liked about Batman comics and lore and takes a large, smelly dump on them. Guess what? They were eating corn.<br /><br />It's obvious this show can't stand against TAS but stand it on its own legs and it still doesn't work for me. The plots aren't good and they don't develop any better. They've been written for the demographic of children under twelve. Should children be able to enjoy a show? Of course they should. This shouldn't be an adult show with swearing, nudity, and gratuitous violence. But the mark of a truly good show is that it can be enjoyed on different levels by all ages. This show misses that mark.<br /><br />Is this show a TAS? No, of course not. The problem is it's not even a JLU.\"\n",
      "* * * * * * * * * \n",
      "19712\n",
      "Other than some neat special effects, this movie has nothing to offer. They threw in some gore and some nudity to try and make it interesting, but with no success. Kevin Bacon's acting was pretty good, but he couldn't salvage the movies lack of plot.\n",
      "* * * * * * * * * \n",
      "19749\n",
      "Oh, CGI. A blessing when used properly. A sin with it's used by people who have no idea what their doing. Sadly, that's not the only thing that's used poorly in this umpteen Jaws rip-off.<br /><br />Ok, anybody who has read any number of my posted reviews has probably noticed 2 things. 1: I like low-budget horror movies. And 2: If there is a cute guy in said low-budget movie, I'll usually point them out. So, let's just get this out of the way right now. This is one low-budget horror movie I didn't like. The acting, for the most part, is horrible, effects laughable, and the script rivals Battlefield Earth as the worst I've witnessed this year. As far as the resident cute boy...Dax Miller (Bog) wins that prize hands down. This boy is hot! And surprisingly, he's not just a toned body with nice eyes and a cute butt...he can actually act (well, as much as he can in this odious film). Now that we have the housekeeping chores out of the way, let's get on with it.<br /><br />In Cliff Notes version, here's the story (don't worry, I'll try not to give anything away)...<br /><br />A film crew travels to a remote island to film a documentary about two surfers (established cute boy and his buddy) who surf with sharks. Unknown to them is a rather large salt water crocodile lurking around the island. Croc shows up, mayhem ensues, and people are eaten. Roll end credits.<br /><br />As I said earlier, this film pretty much blows. It started pretty well, but soon devolved into being silly and stupid. A main character becomes lunch (in a rather humorous way), and our remaining heros utter one-liners at the victims expense. Also, if this croc is at the top of the food chain on both the land and in the water, what's with all the sharks around? If this thing can eat a 40 foot boat, I don't think a few skimpy sharks would stick around. The FX is some of the worst I have ever had the displeasure to see. The CGI is horrendous, and they've even managed to screw up the animatronic crocs. Attention, filmmakers. National Geographic. Discovery Store. The Croc Hunter. They know what crocodiles look like. You obviously didn't reference any of these judging by the monstrosity seen towards the end of the film. And what's with the pirate/drug pusher gang? Did you just need another reason to rip off a woman's top? <br /><br />It's funny how we get little sub-genres in the movie world. With Alligator and it's sequels, Lake Placid, Crocodile, and now Blood Surf, it now looks like \\over-sized crocodile/alligator\\\" movies should now get their own category at Blockbuster. Alligator was good. Lake Placid was good. I even thought Tobe Hooper's Crocodile was good. Blood Surf, sucked.<br /><br />My grade: D-\"\n",
      "* * * * * * * * * \n",
      "19893\n",
      "Roy Rogers stars as Jesse James and his look-alike, gambler man Clint Burns. George \\Gabby\\\" Hayes is Mr. Rogers's ex-pal, Sheriff Gabby. Gale Storm (Jane Fillmore) and Sally Payne (Polly Morgan) are a noteworthy team, as two reporters on the lookout for stories about the elusive outlaw hero.<br /><br />Of course, mistaken identity / impersonation is a plot development, since Rogers essays a \\\"dual role\\\". Rogers is charming, as usual; but, there is nothing really elevating this his performance above the ordinary - any potential to deliver a memorable Jekyll/Hyde performance is done in by poor material. The better pair to watch are Ms. Storm and Ms. Paye as the St. Louis Journal reporters - they are the film's highlight. The songs are fine, though badly synched. <br /><br />*** Jesse James at Bay (1941) Joseph Kane ~ Roy Rogers, George 'Gabby' Hayes, Gale Storm\"\n",
      "* * * * * * * * * \n",
      "19928\n",
      "...okay, maybe not all of it. Lured by the false promise of bikini-clad women on the movie's cover...but the HORROR...THE HORROR... ...whatever you do, do NOT watch this movie. Gouge out your eyes, repeatedly bash your skull in...do what it takes. Never again--never forget!<br /><br />\n",
      "* * * * * * * * * \n",
      "19957\n",
      "<br /><br />Attack Of The Killer Tomatoes is a \\parody\\\" of bad monster movies which ends up being worse than the movies it spoofs. The (very meager) story tells of tomatoes who revolt against those who treat them badly. Basically,they spin and growl (yes,they growl) and the next thing you know the person is covered in ketchup. The actors are no-names who never made movies after this,so there would be no point to name them. There's a guy who's hired by the governement to try and stop the menace of tomatoes. He's accompanied by a black guy who's master of disguise and a girl and a guy who dives. Anyway, there's another woman who spies on the first guy that works for the government. if this isn't making much sense to you, you understand. This movie never would have been very good in the first place, but it even lacks the fun of laughing at stupid attack scenes. The movie is horribly cheezy, which although being the whole point,really really hurts what could've been a (reasonably) entertaining movie. At one point, a giant wax tomato \\\"slides\\\" on an unconcealed plank of wood with wheels on it! Maybe I would've recommended the movie if it would have enjoyable camp value, but even this is lacking from this terrible movie. 2/10\"\n",
      "* * * * * * * * * \n"
     ]
    }
   ],
   "source": [
    "# false positives\n",
    "\n",
    "print(\"Examples of false positives:\")\n",
    "\n",
    "import random, time\n",
    "\n",
    "for i in range(0, len(ols_predictions)):\n",
    "    if (ols_predictions[i] == 1):\n",
    "        if (X_raw_train.iloc[i]['sentiment'] == 0):\n",
    "            if (random.uniform(0, 1) < 0.05): # to print only 5% of the false positives\n",
    "                print(i)\n",
    "                print(X_raw_train.iloc[i]['review'])\n",
    "                print('* * * * * * * * * ')\n"
   ]
  },
  {
   "cell_type": "markdown",
   "metadata": {},
   "source": [
    "---\n",
    "\n",
    "# <span style=\"color:red\">WARNING: Don't look at test set performance too much!</span>\n",
    "\n",
    "---\n",
    "\n",
    "The following cells show performance on your test set. Do not look at this too often! "
   ]
  },
  {
   "cell_type": "markdown",
   "metadata": {},
   "source": [
    "# Look at performance on the test set"
   ]
  },
  {
   "cell_type": "markdown",
   "metadata": {},
   "source": [
    "### MODEL: ordinary least squares"
   ]
  },
  {
   "cell_type": "code",
   "execution_count": 21,
   "metadata": {},
   "outputs": [
    {
     "name": "stdout",
     "output_type": "stream",
     "text": [
      "{'Pos': 2500, 'Neg': 2500, 'TP': 1223, 'TN': 1261, 'FP': 1239, 'FN': 1277, 'Accuracy': 0.4968, 'Precision': 0.4967506092607636, 'Recall': 0.4892, 'desc': 'ols_test'}\n"
     ]
    }
   ],
   "source": [
    "ols_performance_test = BinaryClassificationPerformance(ols.predict(X_test), y_test, 'ols_test')\n",
    "ols_performance_test.compute_measures()\n",
    "print(ols_performance_test.performance_measures)"
   ]
  },
  {
   "cell_type": "markdown",
   "metadata": {},
   "source": [
    "### MODEL: SVM, linear"
   ]
  },
  {
   "cell_type": "code",
   "execution_count": 22,
   "metadata": {},
   "outputs": [
    {
     "name": "stdout",
     "output_type": "stream",
     "text": [
      "{'Pos': 2500, 'Neg': 2500, 'TP': 2089, 'TN': 2099, 'FP': 401, 'FN': 411, 'Accuracy': 0.8376, 'Precision': 0.8389558232931726, 'Recall': 0.8356, 'desc': 'svm_test'}\n"
     ]
    }
   ],
   "source": [
    "svm_performance_test = BinaryClassificationPerformance(svm.predict(X_test), y_test, 'svm_test')\n",
    "svm_performance_test.compute_measures()\n",
    "print(svm_performance_test.performance_measures)"
   ]
  },
  {
   "cell_type": "markdown",
   "metadata": {},
   "source": [
    "### MODEL: logistic regression"
   ]
  },
  {
   "cell_type": "code",
   "execution_count": 23,
   "metadata": {},
   "outputs": [
    {
     "name": "stdout",
     "output_type": "stream",
     "text": [
      "{'Pos': 2500, 'Neg': 2500, 'TP': 2073, 'TN': 2065, 'FP': 435, 'FN': 427, 'Accuracy': 0.8276, 'Precision': 0.8265550239234449, 'Recall': 0.8292, 'desc': 'lgs_test'}\n"
     ]
    }
   ],
   "source": [
    "lgs_performance_test = BinaryClassificationPerformance(lgs.predict(X_test), y_test, 'lgs_test')\n",
    "lgs_performance_test.compute_measures()\n",
    "print(lgs_performance_test.performance_measures)"
   ]
  },
  {
   "cell_type": "markdown",
   "metadata": {},
   "source": [
    "### MODEL: Naive Bayes"
   ]
  },
  {
   "cell_type": "code",
   "execution_count": 24,
   "metadata": {},
   "outputs": [
    {
     "name": "stdout",
     "output_type": "stream",
     "text": [
      "{'Pos': 2500, 'Neg': 2500, 'TP': 1860, 'TN': 1907, 'FP': 593, 'FN': 640, 'Accuracy': 0.7534, 'Precision': 0.7582551977170812, 'Recall': 0.744, 'desc': 'nbs_test'}\n"
     ]
    }
   ],
   "source": [
    "nbs_performance_test = BinaryClassificationPerformance(nbs.predict(X_test), y_test, 'nbs_test')\n",
    "nbs_performance_test.compute_measures()\n",
    "print(nbs_performance_test.performance_measures)"
   ]
  },
  {
   "cell_type": "markdown",
   "metadata": {},
   "source": [
    "### MODEL: Perceptron"
   ]
  },
  {
   "cell_type": "code",
   "execution_count": 25,
   "metadata": {},
   "outputs": [
    {
     "name": "stdout",
     "output_type": "stream",
     "text": [
      "{'Pos': 2500, 'Neg': 2500, 'TP': 2103, 'TN': 2091, 'FP': 409, 'FN': 397, 'Accuracy': 0.8388, 'Precision': 0.8371815286624203, 'Recall': 0.8412, 'desc': 'prc_test'}\n"
     ]
    }
   ],
   "source": [
    "prc_performance_test = BinaryClassificationPerformance(prc.predict(X_test), y_test, 'prc_test')\n",
    "prc_performance_test.compute_measures()\n",
    "print(prc_performance_test.performance_measures)"
   ]
  },
  {
   "cell_type": "markdown",
   "metadata": {},
   "source": [
    "### MODEL: Ridge Regression Classifier"
   ]
  },
  {
   "cell_type": "code",
   "execution_count": 26,
   "metadata": {},
   "outputs": [
    {
     "name": "stdout",
     "output_type": "stream",
     "text": [
      "{'Pos': 2500, 'Neg': 2500, 'TP': 2129, 'TN': 2067, 'FP': 433, 'FN': 371, 'Accuracy': 0.8392, 'Precision': 0.8309914129586261, 'Recall': 0.8516, 'desc': 'rdg_test'}\n"
     ]
    }
   ],
   "source": [
    "rdg_performance_test = BinaryClassificationPerformance(rdg.predict(X_test), y_test, 'rdg_test')\n",
    "rdg_performance_test.compute_measures()\n",
    "print(rdg_performance_test.performance_measures)"
   ]
  },
  {
   "cell_type": "markdown",
   "metadata": {},
   "source": [
    "### MODEL: Random Forest Classifier"
   ]
  },
  {
   "cell_type": "code",
   "execution_count": 27,
   "metadata": {},
   "outputs": [
    {
     "name": "stdout",
     "output_type": "stream",
     "text": [
      "{'Pos': 2500, 'Neg': 2500, 'TP': 2079, 'TN': 1840, 'FP': 660, 'FN': 421, 'Accuracy': 0.7838, 'Precision': 0.7590361445783133, 'Recall': 0.8316, 'desc': 'rdf_test'}\n",
      "<my_measures.BinaryClassificationPerformance object at 0x7fb6ba626cd0>\n"
     ]
    }
   ],
   "source": [
    "rdf_performance_test = BinaryClassificationPerformance(rdf.predict(X_test), y_test, 'rdf_test')\n",
    "rdf_performance_test.compute_measures()\n",
    "print(rdf_performance_test.performance_measures)\n",
    "print(rdf_performance_test)"
   ]
  },
  {
   "cell_type": "markdown",
   "metadata": {},
   "source": [
    "### ROC plot to compare performance of various models and fits"
   ]
  },
  {
   "cell_type": "code",
   "execution_count": 28,
   "metadata": {
    "scrolled": true
   },
   "outputs": [
    {
     "data": {
      "image/png": "[encoded data removed]",
      "text/plain": [
       "<Figure size 432x288 with 1 Axes>"
      ]
     },
     "metadata": {
      "needs_background": "light"
     },
     "output_type": "display_data"
    }
   ],
   "source": [
    "fits = [svm_performance_test, lgs_performance_test, nbs_performance_test, prc_performance_test, rdg_performance_test]\n",
    "fig = plt.subplots(figsize=(6, 4))\n",
    "\n",
    "for fit in fits:\n",
    "    plt.plot(fit.performance_measures['FP'] / fit.performance_measures['Neg'], \n",
    "             fit.performance_measures['TP'] / fit.performance_measures['Pos'], 'bo')\n",
    "    plt.text(fit.performance_measures['FP'] / fit.performance_measures['Neg'], \n",
    "             fit.performance_measures['TP'] / fit.performance_measures['Pos'], fit.desc)\n",
    "plt.axis([0, 1, 0.4, 1])\n",
    "plt.yticks(np.arange(0.4, 1, 0.05))\n",
    "plt.title('ROC plot: test set')\n",
    "plt.ylabel('True positive rate/Recall')\n",
    "plt.xlabel('False positive rate')\n",
    "plt.show()"
   ]
  },
  {
   "cell_type": "markdown",
   "metadata": {},
   "source": [
    "### Create Pivot Table"
   ]
  },
  {
   "cell_type": "code",
   "execution_count": 29,
   "metadata": {},
   "outputs": [
    {
     "name": "stdout",
     "output_type": "stream",
     "text": [
      "                   True Positive Rate  False Positive Rate\n",
      "Rows                                                      \n",
      "ridge reg                      0.8516               0.1732\n",
      "perceptron                     0.8412               0.1636\n",
      "support vector                 0.8356               0.1604\n",
      "random forest                  0.8316               0.2640\n",
      "logistic reg                   0.8292               0.1740\n",
      "naive bayes                    0.7440               0.2372\n",
      "ordinary least sq              0.4892               0.4956\n"
     ]
    }
   ],
   "source": [
    "#https://pavopax.github.io/2017/11/precision-recall/\n",
    "#https://towardsdatascience.com/what-metrics-should-we-use-on-imbalanced-data-set-precision-recall-roc-e2e79252aeba#:~:text=Recall%20and%20True%20Positive%20Rate,denominator%20contains%20the%20true%20negatives.\n",
    "fits = [ols_performance_test, svm_performance_test, lgs_performance_test, nbs_performance_test, prc_performance_test, rdg_performance_test, rdf_performance_test]\n",
    "TP_rate =[]\n",
    "FP_rate =[]\n",
    "rows = ['ordinary least sq','support vector','logistic reg','naive bayes','perceptron','ridge reg','random forest']\n",
    "for fit in fits:\n",
    "    FP_rate.append(fit.performance_measures['FP'] / fit.performance_measures['Neg'])\n",
    "    TP_rate.append(fit.performance_measures['TP'] / fit.performance_measures['Pos'])\n",
    "    \n",
    "df = pd.DataFrame({\"True Positive Rate\":TP_rate, \"False Positive Rate\": FP_rate, \"Rows\": rows})\n",
    "test_table = pd.pivot_table(df, values=[\"True Positive Rate\",\"False Positive Rate\"], index=[\"Rows\"]).sort_values(by=['True Positive Rate'],ascending=False)\n",
    "\n",
    "column_order=[\"True Positive Rate\",\"False Positive Rate\"]\n",
    "test_table = test_table.reindex(column_order, axis=1)\n",
    "\n",
    "print(test_table)"
   ]
  },
  {
   "cell_type": "markdown",
   "metadata": {},
   "source": [
    "---\n",
    "\n",
    "# <span style=\"color:red\">SUBMISSION</span>\n",
    "\n",
    "---"
   ]
  },
  {
   "cell_type": "code",
   "execution_count": 23,
   "metadata": {},
   "outputs": [
    {
     "name": "stdout",
     "output_type": "stream",
     "text": [
      "movie_data is: <class 'pandas.core.frame.DataFrame'>\n",
      "movie_data has 25000 rows and 2 columns \n",
      "\n",
      "the data types for each of the columns in movie_data:\n",
      "id        object\n",
      "review    object\n",
      "dtype: object \n",
      "\n",
      "the first 10 rows in movie_data:\n",
      "         id                                             review\n",
      "0  12311_10  Naturally in a film who's main themes are of m...\n",
      "1    8348_2  This movie is a disaster within a disaster fil...\n",
      "2    5828_4  All in all, this is a movie for kids. We saw i...\n",
      "3    7186_2  Afraid of the Dark left me with the impression...\n",
      "4   12128_7  A very accurate depiction of small time mob li...\n",
      "Shape of HashingVectorizer X:\n",
      "(25000, 131072)\n",
      "Look at a few rows of the new quantitative features: \n",
      "   word_count  punc_count\n",
      "0         131           5\n",
      "1         169          15\n",
      "2         176          18\n",
      "3         112           5\n",
      "4         133           8\n",
      "5         331          20\n",
      "6         121          18\n",
      "7         230          22\n",
      "8          59           3\n",
      "9         224          14\n",
      "Size of combined bag of words and new quantitative variables matrix:\n",
      "(25000, 131074)\n",
      "(25000, 131074)\n",
      "Shape of X_test for submission:\n",
      "(25000, 131074)\n",
      "SUCCESS!\n",
      "Number of rows in the submission test set (should be 25,000): \n"
     ]
    }
   ],
   "source": [
    "# read in test data for submission\n",
    "# CHANGE FILE PATH and my_random_seed number (any integer other than 74 will do): \n",
    "raw_data, X_test_submission = process_raw_data(fn='/home/ec2-user/data/moviereviews_test.tsv', my_random_seed=74, test=True)\n",
    "print(\"Number of rows in the submission test set (should be 25,000): \")"
   ]
  },
  {
   "cell_type": "markdown",
   "metadata": {},
   "source": [
    "---\n",
    "\n",
    "Choose a <span style=\"color:red\">*single*</span> model for your submission. In this code, I am choosing the Ordinary Least Squares model fit, which is in the `ols` object. But you should choose the model that is performing the best for you! "
   ]
  },
  {
   "cell_type": "code",
   "execution_count": 24,
   "metadata": {},
   "outputs": [
    {
     "name": "stdout",
     "output_type": "stream",
     "text": [
      "0.5596\n"
     ]
    }
   ],
   "source": [
    "# store the id from the raw data\n",
    "my_submission = pd.DataFrame(raw_data[\"id\"])\n",
    "# concatenate predictions to the id\n",
    "my_submission[\"prediction\"] = ols.predict(X_test_submission)\n",
    "# look at the proportion of positive predictions\n",
    "print(my_submission['prediction'].mean())"
   ]
  },
  {
   "cell_type": "code",
   "execution_count": 25,
   "metadata": {},
   "outputs": [
    {
     "data": {
      "text/html": [
       "<div>\n",
       "<style scoped>\n",
       "    .dataframe tbody tr th:only-of-type {\n",
       "        vertical-align: middle;\n",
       "    }\n",
       "\n",
       "    .dataframe tbody tr th {\n",
       "        vertical-align: top;\n",
       "    }\n",
       "\n",
       "    .dataframe thead th {\n",
       "        text-align: right;\n",
       "    }\n",
       "</style>\n",
       "<table border=\"1\" class=\"dataframe\">\n",
       "  <thead>\n",
       "    <tr style=\"text-align: right;\">\n",
       "      <th></th>\n",
       "      <th>id</th>\n",
       "      <th>review</th>\n",
       "      <th>word_count</th>\n",
       "      <th>punc_count</th>\n",
       "    </tr>\n",
       "  </thead>\n",
       "  <tbody>\n",
       "    <tr>\n",
       "      <td>0</td>\n",
       "      <td>12311_10</td>\n",
       "      <td>Naturally in a film who's main themes are of m...</td>\n",
       "      <td>131</td>\n",
       "      <td>5</td>\n",
       "    </tr>\n",
       "    <tr>\n",
       "      <td>1</td>\n",
       "      <td>8348_2</td>\n",
       "      <td>This movie is a disaster within a disaster fil...</td>\n",
       "      <td>169</td>\n",
       "      <td>15</td>\n",
       "    </tr>\n",
       "    <tr>\n",
       "      <td>2</td>\n",
       "      <td>5828_4</td>\n",
       "      <td>All in all, this is a movie for kids. We saw i...</td>\n",
       "      <td>176</td>\n",
       "      <td>18</td>\n",
       "    </tr>\n",
       "    <tr>\n",
       "      <td>3</td>\n",
       "      <td>7186_2</td>\n",
       "      <td>Afraid of the Dark left me with the impression...</td>\n",
       "      <td>112</td>\n",
       "      <td>5</td>\n",
       "    </tr>\n",
       "    <tr>\n",
       "      <td>4</td>\n",
       "      <td>12128_7</td>\n",
       "      <td>A very accurate depiction of small time mob li...</td>\n",
       "      <td>133</td>\n",
       "      <td>8</td>\n",
       "    </tr>\n",
       "  </tbody>\n",
       "</table>\n",
       "</div>"
      ],
      "text/plain": [
       "         id                                             review  word_count  \\\n",
       "0  12311_10  Naturally in a film who's main themes are of m...         131   \n",
       "1    8348_2  This movie is a disaster within a disaster fil...         169   \n",
       "2    5828_4  All in all, this is a movie for kids. We saw i...         176   \n",
       "3    7186_2  Afraid of the Dark left me with the impression...         112   \n",
       "4   12128_7  A very accurate depiction of small time mob li...         133   \n",
       "\n",
       "   punc_count  \n",
       "0           5  \n",
       "1          15  \n",
       "2          18  \n",
       "3           5  \n",
       "4           8  "
      ]
     },
     "execution_count": 25,
     "metadata": {},
     "output_type": "execute_result"
    }
   ],
   "source": [
    "raw_data.head()"
   ]
  },
  {
   "cell_type": "code",
   "execution_count": 26,
   "metadata": {},
   "outputs": [
    {
     "data": {
      "text/html": [
       "<div>\n",
       "<style scoped>\n",
       "    .dataframe tbody tr th:only-of-type {\n",
       "        vertical-align: middle;\n",
       "    }\n",
       "\n",
       "    .dataframe tbody tr th {\n",
       "        vertical-align: top;\n",
       "    }\n",
       "\n",
       "    .dataframe thead th {\n",
       "        text-align: right;\n",
       "    }\n",
       "</style>\n",
       "<table border=\"1\" class=\"dataframe\">\n",
       "  <thead>\n",
       "    <tr style=\"text-align: right;\">\n",
       "      <th></th>\n",
       "      <th>id</th>\n",
       "      <th>prediction</th>\n",
       "    </tr>\n",
       "  </thead>\n",
       "  <tbody>\n",
       "    <tr>\n",
       "      <td>0</td>\n",
       "      <td>12311_10</td>\n",
       "      <td>1</td>\n",
       "    </tr>\n",
       "    <tr>\n",
       "      <td>1</td>\n",
       "      <td>8348_2</td>\n",
       "      <td>1</td>\n",
       "    </tr>\n",
       "    <tr>\n",
       "      <td>2</td>\n",
       "      <td>5828_4</td>\n",
       "      <td>1</td>\n",
       "    </tr>\n",
       "    <tr>\n",
       "      <td>3</td>\n",
       "      <td>7186_2</td>\n",
       "      <td>1</td>\n",
       "    </tr>\n",
       "    <tr>\n",
       "      <td>4</td>\n",
       "      <td>12128_7</td>\n",
       "      <td>0</td>\n",
       "    </tr>\n",
       "  </tbody>\n",
       "</table>\n",
       "</div>"
      ],
      "text/plain": [
       "         id  prediction\n",
       "0  12311_10           1\n",
       "1    8348_2           1\n",
       "2    5828_4           1\n",
       "3    7186_2           1\n",
       "4   12128_7           0"
      ]
     },
     "execution_count": 26,
     "metadata": {},
     "output_type": "execute_result"
    }
   ],
   "source": [
    "my_submission.head()"
   ]
  },
  {
   "cell_type": "code",
   "execution_count": 27,
   "metadata": {},
   "outputs": [
    {
     "data": {
      "text/plain": [
       "(25000, 2)"
      ]
     },
     "execution_count": 27,
     "metadata": {},
     "output_type": "execute_result"
    }
   ],
   "source": [
    "my_submission.shape"
   ]
  },
  {
   "cell_type": "code",
   "execution_count": 28,
   "metadata": {},
   "outputs": [],
   "source": [
    "# export submission file as pdf\n",
    "# CHANGE FILE PATH: \n",
    "my_submission.to_csv('/home/ec2-user/data/moviereviews_submission.csv', index=False)"
   ]
  },
  {
   "cell_type": "markdown",
   "metadata": {},
   "source": [
    "# Submit to Canvas: 1) the CSV file that was written in the previous cell and 2) the url to the repository (GitHub or other) that contains your code and documentation"
   ]
  }
 ],
 "metadata": {
  "kernelspec": {
   "display_name": "Python 3",
   "language": "python",
   "name": "python3"
  },
  "language_info": {
   "codemirror_mode": {
    "name": "ipython",
    "version": 3
   },
   "file_extension": ".py",
   "mimetype": "text/x-python",
   "name": "python",
   "nbconvert_exporter": "python",
   "pygments_lexer": "ipython3",
   "version": "3.8.5"
  }
 },
 "nbformat": 4,
 "nbformat_minor": 2
}
