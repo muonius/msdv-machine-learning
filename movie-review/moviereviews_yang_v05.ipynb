{
 "cells": [
  {
   "cell_type": "markdown",
   "metadata": {},
   "source": [
    "### Version 05 \n",
    "In this version, we switched `HashVectorizer()` to `CountVectorizer()`. While true positive rate for key models improved, false positive rate also went up."
   ]
  },
  {
   "cell_type": "code",
   "execution_count": 7,
   "metadata": {},
   "outputs": [],
   "source": [
    "# all imports and magic commands\n",
    "import re\n",
    "# import regex\n",
    "import numpy as np\n",
    "import pandas as pd\n",
    "import matplotlib.pyplot as plt\n",
    "\n",
    "# text preprocessing\n",
    "from nltk.tokenize import word_tokenize\n",
    "\n",
    "from my_measures import BinaryClassificationPerformance\n",
    "from sklearn.feature_extraction.text import HashingVectorizer\n",
    "from sklearn.feature_extraction.text import TfidfTransformer\n",
    "from sklearn.feature_extraction.text import CountVectorizer\n",
    "from scipy.sparse import csr_matrix, hstack\n",
    "from sklearn.preprocessing import StandardScaler\n",
    "from sklearn.model_selection import train_test_split\n",
    "%matplotlib inline"
   ]
  },
  {
   "cell_type": "markdown",
   "metadata": {},
   "source": [
    "### IMPORTANT!!! Make sure you are using `BinaryClassificationPerformance` v1.02"
   ]
  },
  {
   "cell_type": "code",
   "execution_count": 8,
   "metadata": {},
   "outputs": [
    {
     "name": "stdout",
     "output_type": "stream",
     "text": [
      "Help on class BinaryClassificationPerformance in module my_measures:\n",
      "\n",
      "class BinaryClassificationPerformance(builtins.object)\n",
      " |  BinaryClassificationPerformance(predictions, labels, desc, probabilities=None)\n",
      " |  \n",
      " |  Performance measures to evaluate the fit of a binary classification model, v1.02\n",
      " |  \n",
      " |  Methods defined here:\n",
      " |  \n",
      " |  __init__(self, predictions, labels, desc, probabilities=None)\n",
      " |      Initialize attributes: predictions-vector of predicted values for Y, labels-vector of labels for Y\n",
      " |  \n",
      " |  compute_measures(self)\n",
      " |      Compute performance measures defined by Flach p. 57\n",
      " |  \n",
      " |  img_indices(self)\n",
      " |      Get the indices of true and false positives to be able to locate the corresponding images in a list of image names\n",
      " |  \n",
      " |  ----------------------------------------------------------------------\n",
      " |  Data descriptors defined here:\n",
      " |  \n",
      " |  __dict__\n",
      " |      dictionary for instance variables (if defined)\n",
      " |  \n",
      " |  __weakref__\n",
      " |      list of weak references to the object (if defined)\n",
      "\n"
     ]
    }
   ],
   "source": [
    "help(BinaryClassificationPerformance)"
   ]
  },
  {
   "cell_type": "markdown",
   "metadata": {},
   "source": [
    "# Function for feature building and extraction on natural language data"
   ]
  },
  {
   "cell_type": "code",
   "execution_count": 71,
   "metadata": {},
   "outputs": [],
   "source": [
    "# function that takes raw data and completes all preprocessing required before model fits\n",
    "def process_raw_data(fn, my_random_seed, test=False):\n",
    "    # read and summarize data\n",
    "    movie_data = pd.read_csv(fn, sep='\\t')\n",
    "    \n",
    "    movie_data['review_cleaned']=None\n",
    "   #https://stackoverflow.com/questions/9662346/python-code-to-remove-html-tags-from-a-string \n",
    "    CLEANR = re.compile('<.*?>') \n",
    "    \n",
    "    def cleanhtml(raw_html):\n",
    "        removehtml = re.sub(CLEANR, '', raw_html)\n",
    "        cleantext = re.sub(r'\\W+', ' ', removehtml)\n",
    "        return cleantext.lower()\n",
    "\n",
    "    for i in range(len(movie_data)):\n",
    "        movie_data['review_cleaned'][i] = cleanhtml(movie_data.review[i])\n",
    "    \n",
    "    \n",
    "    reviews = movie_data.review\n",
    "    reviews_cleaned = movie_data.review_cleaned\n",
    "    \n",
    "    print(movie_data.head(10))\n",
    "    print(\"movie_data is:\", type(movie_data))\n",
    "    print(\"movie_data has\", movie_data.shape[0], \"rows and\", movie_data.shape[1], \"columns\", \"\\n\")\n",
    "    print(\"the data types for each of the columns in movie_data:\")\n",
    "    print(movie_data.dtypes, \"\\n\")\n",
    "    print(\"the first 10 rows in movie_data:\")\n",
    "    print(movie_data.head(5))\n",
    "    if (not test):\n",
    "        print(\"The rate of 'good' movie reviews in the dataset: \")\n",
    "        print(movie_data['sentiment'].mean())\n",
    "\n",
    "    # vectorize Bag of Words from review text; as sparse matrix\n",
    "    if (not test): # fit_transform()\n",
    "        hv = CountVectorizer()\n",
    "        X_hv = hv.fit_transform(reviews_cleaned)\n",
    "        fitted_transformations.append(hv)\n",
    "        print(\"Shape of HashingVectorizer X:\")\n",
    "        print(X_hv.shape)\n",
    "    else: # transform() \n",
    "        X_hv = fitted_transformations[0].transform(reviews)\n",
    "        print(\"Shape of HashingVectorizer X:\")\n",
    "        print(X_hv.shape)\n",
    "    \n",
    "    # http://scikit-learn.org/stable/modules/generated/sklearn.feature_extraction.text.TfidfTransformer.html\n",
    "    if (not test):\n",
    "        transformer = TfidfTransformer()\n",
    "        X_tfidf = transformer.fit_transform(X_hv)\n",
    "        fitted_transformations.append(transformer)\n",
    "    else:\n",
    "        X_tfidf = fitted_transformations[1].transform(X_hv)\n",
    "    \n",
    "    # create additional quantitative features\n",
    "    movie_data['word_count'] = reviews_cleaned.str.split(' ').str.len()\n",
    "    movie_data['punc_count'] = reviews_cleaned.str.count(\"\\.\")\n",
    "\n",
    "    X_quant_features = movie_data[[\"word_count\", \"punc_count\"]]\n",
    "    print(\"Look at a few rows of the new quantitative features: \")\n",
    "    print(X_quant_features.head(10))\n",
    "    \n",
    "    # Combine all quantitative features into a single sparse matrix\n",
    "    X_quant_features_csr = csr_matrix(X_quant_features)\n",
    "    X_combined = hstack([X_tfidf, X_quant_features_csr])\n",
    "    X_matrix = csr_matrix(X_combined) # convert to sparse matrix\n",
    "    print(\"Size of combined bag of words and new quantitative variables matrix:\")\n",
    "    print(X_matrix.shape)\n",
    "    \n",
    "    # Create `X`, scaled matrix of features\n",
    "    # feature scaling\n",
    "    if (not test):\n",
    "        sc = StandardScaler(with_mean=False)\n",
    "        X = sc.fit_transform(X_matrix)\n",
    "        fitted_transformations.append(sc)\n",
    "        print(X.shape)\n",
    "        y = movie_data['sentiment']\n",
    "    else:\n",
    "        X = fitted_transformations[2].transform(X_matrix)\n",
    "        print(X.shape)\n",
    "    \n",
    "    # Create Training and Test Sets\n",
    "    # enter an integer for the random_state parameter; any integer will work\n",
    "    if (test):\n",
    "        X_submission_test = X\n",
    "        print(\"Shape of X_test for submission:\")\n",
    "        print(X_submission_test.shape)\n",
    "        print('SUCCESS!')\n",
    "        return(movie_data, X_submission_test)\n",
    "    else: \n",
    "        X_train, X_test, y_train, y_test, X_raw_train, X_raw_test = train_test_split(X, y, movie_data, test_size=0.2, random_state=my_random_seed)\n",
    "        print(\"Shape of X_train and X_test:\")\n",
    "        print(X_train.shape)\n",
    "        print(X_test.shape)\n",
    "        print(\"Shape of y_train and y_test:\")\n",
    "        print(y_train.shape)\n",
    "        print(y_test.shape)\n",
    "        print(\"Shape of X_raw_train and X_raw_test:\")\n",
    "        print(X_raw_train.shape)\n",
    "        print(X_raw_test.shape)\n",
    "        print('SUCCESS!')\n",
    "        return(X_train, X_test, y_train, y_test, X_raw_train, X_raw_test)"
   ]
  },
  {
   "cell_type": "markdown",
   "metadata": {},
   "source": [
    "# Create training and test sets from function"
   ]
  },
  {
   "cell_type": "code",
   "execution_count": 72,
   "metadata": {},
   "outputs": [
    {
     "name": "stderr",
     "output_type": "stream",
     "text": [
      "<ipython-input-71-1c97b1c3e038>:16: SettingWithCopyWarning: \n",
      "A value is trying to be set on a copy of a slice from a DataFrame\n",
      "\n",
      "See the caveats in the documentation: https://pandas.pydata.org/pandas-docs/stable/user_guide/indexing.html#returning-a-view-versus-a-copy\n",
      "  movie_data['review_cleaned'][i] = cleanhtml(movie_data.review[i])\n"
     ]
    },
    {
     "name": "stdout",
     "output_type": "stream",
     "text": [
      "        id  sentiment                                             review  \\\n",
      "0   5814_8          1  With all this stuff going down at the moment w...   \n",
      "1   2381_9          1  \\The Classic War of the Worlds\\\" by Timothy Hi...   \n",
      "2   7759_3          0  The film starts with a manager (Nicholas Bell)...   \n",
      "3   3630_4          0  It must be assumed that those who praised this...   \n",
      "4   9495_8          1  Superbly trashy and wondrously unpretentious 8...   \n",
      "5   8196_8          1  I dont know why people think this is such a ba...   \n",
      "6   7166_2          0  This movie could have been very good, but come...   \n",
      "7  10633_1          0  I watched this video at a friend's house. I'm ...   \n",
      "8    319_1          0  A friend of mine bought this film for £1, and ...   \n",
      "9  8713_10          1  <br /><br />This movie is full of references. ...   \n",
      "\n",
      "                                      review_cleaned  \n",
      "0  with all this stuff going down at the moment w...  \n",
      "1   the classic war of the worlds by timothy hine...  \n",
      "2  the film starts with a manager nicholas bell g...  \n",
      "3  it must be assumed that those who praised this...  \n",
      "4  superbly trashy and wondrously unpretentious 8...  \n",
      "5  i dont know why people think this is such a ba...  \n",
      "6  this movie could have been very good but comes...  \n",
      "7  i watched this video at a friend s house i m g...  \n",
      "8  a friend of mine bought this film for 1 and ev...  \n",
      "9  this movie is full of references like mad max ...  \n",
      "movie_data is: <class 'pandas.core.frame.DataFrame'>\n",
      "movie_data has 25000 rows and 4 columns \n",
      "\n",
      "the data types for each of the columns in movie_data:\n",
      "id                object\n",
      "sentiment          int64\n",
      "review            object\n",
      "review_cleaned    object\n",
      "dtype: object \n",
      "\n",
      "the first 10 rows in movie_data:\n",
      "       id  sentiment                                             review  \\\n",
      "0  5814_8          1  With all this stuff going down at the moment w...   \n",
      "1  2381_9          1  \\The Classic War of the Worlds\\\" by Timothy Hi...   \n",
      "2  7759_3          0  The film starts with a manager (Nicholas Bell)...   \n",
      "3  3630_4          0  It must be assumed that those who praised this...   \n",
      "4  9495_8          1  Superbly trashy and wondrously unpretentious 8...   \n",
      "\n",
      "                                      review_cleaned  \n",
      "0  with all this stuff going down at the moment w...  \n",
      "1   the classic war of the worlds by timothy hine...  \n",
      "2  the film starts with a manager nicholas bell g...  \n",
      "3  it must be assumed that those who praised this...  \n",
      "4  superbly trashy and wondrously unpretentious 8...  \n",
      "The rate of 'good' movie reviews in the dataset: \n",
      "0.5\n",
      "Shape of HashingVectorizer X:\n",
      "(25000, 75907)\n",
      "Look at a few rows of the new quantitative features: \n",
      "   word_count  punc_count\n",
      "0         439           0\n",
      "1         163           0\n",
      "2         380           0\n",
      "3         386           0\n",
      "4         382           0\n",
      "5          90           0\n",
      "6         115           0\n",
      "7         138           0\n",
      "8         162           0\n",
      "9          45           0\n",
      "Size of combined bag of words and new quantitative variables matrix:\n",
      "(25000, 75909)\n",
      "(25000, 75909)\n",
      "Shape of X_train and X_test:\n",
      "(20000, 75909)\n",
      "(5000, 75909)\n",
      "Shape of y_train and y_test:\n",
      "(20000,)\n",
      "(5000,)\n",
      "Shape of X_raw_train and X_raw_test:\n",
      "(20000, 6)\n",
      "(5000, 6)\n",
      "SUCCESS!\n",
      "Number of fits stored in `fitted_transformations` list: \n",
      "3\n"
     ]
    }
   ],
   "source": [
    "# create an empty list to store any use of fit_transform() to transform() later\n",
    "# it is a global list to store model and feature extraction fits\n",
    "fitted_transformations = []\n",
    "\n",
    "# CHANGE FILE PATH and my_random_seed number (any integer other than 74 will do): \n",
    "X_train, X_test, y_train, y_test, X_raw_train, X_raw_test = process_raw_data(fn='../data/moviereviews_train.tsv', my_random_seed=73)\n",
    "\n",
    "print(\"Number of fits stored in `fitted_transformations` list: \")\n",
    "print(len(fitted_transformations))"
   ]
  },
  {
   "cell_type": "markdown",
   "metadata": {},
   "source": [
    "# Fit (and tune) Various Models"
   ]
  },
  {
   "cell_type": "markdown",
   "metadata": {},
   "source": [
    "### MODEL: ordinary least squares"
   ]
  },
  {
   "cell_type": "code",
   "execution_count": 73,
   "metadata": {},
   "outputs": [
    {
     "name": "stdout",
     "output_type": "stream",
     "text": [
      "{'Pos': 10000, 'Neg': 10000, 'TP': 4907, 'TN': 5195, 'FP': 4805, 'FN': 5093, 'Accuracy': 0.5051, 'Precision': 0.5052512355848435, 'Recall': 0.4907, 'desc': 'ols_train'}\n",
      "performance_measures is: <class 'dict'>\n"
     ]
    }
   ],
   "source": [
    "from sklearn import linear_model\n",
    "ols = linear_model.SGDClassifier(loss=\"squared_loss\")\n",
    "ols.fit(X_train, y_train)\n",
    "\n",
    "ols_performance_train = BinaryClassificationPerformance(ols.predict(X_train), y_train, 'ols_train')\n",
    "ols_performance_train.compute_measures()\n",
    "print(ols_performance_train.performance_measures)\n",
    "print(\"performance_measures is:\", type(ols_performance_train.performance_measures))"
   ]
  },
  {
   "cell_type": "markdown",
   "metadata": {},
   "source": [
    "### MODEL: SVM, linear"
   ]
  },
  {
   "cell_type": "code",
   "execution_count": 74,
   "metadata": {},
   "outputs": [
    {
     "name": "stdout",
     "output_type": "stream",
     "text": [
      "{'Pos': 10000, 'Neg': 10000, 'TP': 10000, 'TN': 10000, 'FP': 0, 'FN': 0, 'Accuracy': 1.0, 'Precision': 1.0, 'Recall': 1.0, 'desc': 'svm_train'}\n"
     ]
    }
   ],
   "source": [
    "from sklearn import linear_model\n",
    "svm = linear_model.SGDClassifier()\n",
    "svm.fit(X_train, y_train)\n",
    "\n",
    "svm_performance_train = BinaryClassificationPerformance(svm.predict(X_train), y_train, 'svm_train')\n",
    "svm_performance_train.compute_measures()\n",
    "print(svm_performance_train.performance_measures)"
   ]
  },
  {
   "cell_type": "markdown",
   "metadata": {},
   "source": [
    "### MODEL: logistic regression"
   ]
  },
  {
   "cell_type": "code",
   "execution_count": 75,
   "metadata": {},
   "outputs": [
    {
     "name": "stdout",
     "output_type": "stream",
     "text": [
      "{'Pos': 10000, 'Neg': 10000, 'TP': 10000, 'TN': 10000, 'FP': 0, 'FN': 0, 'Accuracy': 1.0, 'Precision': 1.0, 'Recall': 1.0, 'desc': 'lgs_train'}\n"
     ]
    }
   ],
   "source": [
    "from sklearn import linear_model\n",
    "lgs = linear_model.SGDClassifier(loss='log')\n",
    "lgs.fit(X_train, y_train)\n",
    "\n",
    "lgs_performance_train = BinaryClassificationPerformance(lgs.predict(X_train), y_train, 'lgs_train')\n",
    "lgs_performance_train.compute_measures()\n",
    "print(lgs_performance_train.performance_measures)"
   ]
  },
  {
   "cell_type": "markdown",
   "metadata": {},
   "source": [
    "### MODEL: Naive Bayes"
   ]
  },
  {
   "cell_type": "code",
   "execution_count": 76,
   "metadata": {},
   "outputs": [
    {
     "name": "stdout",
     "output_type": "stream",
     "text": [
      "{'Pos': 10000, 'Neg': 10000, 'TP': 9703, 'TN': 9904, 'FP': 96, 'FN': 297, 'Accuracy': 0.98035, 'Precision': 0.9902030819471375, 'Recall': 0.9703, 'desc': 'nbs_train'}\n"
     ]
    }
   ],
   "source": [
    "from sklearn.naive_bayes import MultinomialNB\n",
    "nbs = MultinomialNB()\n",
    "nbs.fit(X_train, y_train)\n",
    "\n",
    "nbs_performance_train = BinaryClassificationPerformance(nbs.predict(X_train), y_train, 'nbs_train')\n",
    "nbs_performance_train.compute_measures()\n",
    "print(nbs_performance_train.performance_measures)"
   ]
  },
  {
   "cell_type": "markdown",
   "metadata": {},
   "source": [
    "### MODEL: Perceptron"
   ]
  },
  {
   "cell_type": "code",
   "execution_count": 77,
   "metadata": {},
   "outputs": [
    {
     "name": "stdout",
     "output_type": "stream",
     "text": [
      "{'Pos': 10000, 'Neg': 10000, 'TP': 10000, 'TN': 10000, 'FP': 0, 'FN': 0, 'Accuracy': 1.0, 'Precision': 1.0, 'Recall': 1.0, 'desc': 'prc_train'}\n"
     ]
    }
   ],
   "source": [
    "from sklearn import linear_model\n",
    "prc = linear_model.SGDClassifier(loss='perceptron')\n",
    "prc.fit(X_train, y_train)\n",
    "\n",
    "prc_performance_train = BinaryClassificationPerformance(prc.predict(X_train), y_train, 'prc_train')\n",
    "prc_performance_train.compute_measures()\n",
    "print(prc_performance_train.performance_measures)"
   ]
  },
  {
   "cell_type": "markdown",
   "metadata": {},
   "source": [
    "### MODEL: Ridge Regression Classifier"
   ]
  },
  {
   "cell_type": "code",
   "execution_count": 78,
   "metadata": {},
   "outputs": [
    {
     "name": "stdout",
     "output_type": "stream",
     "text": [
      "{'Pos': 10000, 'Neg': 10000, 'TP': 10000, 'TN': 10000, 'FP': 0, 'FN': 0, 'Accuracy': 1.0, 'Precision': 1.0, 'Recall': 1.0, 'desc': 'rdg_train'}\n"
     ]
    }
   ],
   "source": [
    "from sklearn import linear_model\n",
    "rdg = linear_model.RidgeClassifier()\n",
    "rdg.fit(X_train, y_train)\n",
    "\n",
    "rdg_performance_train = BinaryClassificationPerformance(rdg.predict(X_train), y_train, 'rdg_train')\n",
    "rdg_performance_train.compute_measures()\n",
    "print(rdg_performance_train.performance_measures)"
   ]
  },
  {
   "cell_type": "markdown",
   "metadata": {},
   "source": [
    "### MODEL: Random Forest Classifier"
   ]
  },
  {
   "cell_type": "code",
   "execution_count": 79,
   "metadata": {},
   "outputs": [
    {
     "name": "stdout",
     "output_type": "stream",
     "text": [
      "{'Pos': 10000, 'Neg': 10000, 'TP': 8193, 'TN': 7392, 'FP': 2608, 'FN': 1807, 'Accuracy': 0.77925, 'Precision': 0.7585408758448292, 'Recall': 0.8193, 'desc': 'rdf_train'}\n"
     ]
    }
   ],
   "source": [
    "from sklearn.ensemble import RandomForestClassifier\n",
    "rdf = RandomForestClassifier(max_depth=2, random_state=0)\n",
    "rdf.fit(X_train, y_train)\n",
    "\n",
    "rdf_performance_train = BinaryClassificationPerformance(rdf.predict(X_train), y_train, 'rdf_train')\n",
    "rdf_performance_train.compute_measures()\n",
    "print(rdf_performance_train.performance_measures)"
   ]
  },
  {
   "cell_type": "markdown",
   "metadata": {},
   "source": [
    "### ROC plot to compare performance of various models and fits"
   ]
  },
  {
   "cell_type": "code",
   "execution_count": 80,
   "metadata": {
    "scrolled": false
   },
   "outputs": [
    {
     "data": {
      "image/png": "[encoded data removed]",
      "text/plain": [
       "<Figure size 432x288 with 1 Axes>"
      ]
     },
     "metadata": {
      "needs_background": "light"
     },
     "output_type": "display_data"
    }
   ],
   "source": [
    "fits = [ols_performance_train, svm_performance_train, lgs_performance_train, nbs_performance_train, prc_performance_train, rdg_performance_train, rdf_performance_train]\n",
    "\n",
    "fig = plt.subplots(figsize=(6, 4))\n",
    "\n",
    "for fit in fits:\n",
    "    plt.plot(fit.performance_measures['FP'] / fit.performance_measures['Neg'], \n",
    "             fit.performance_measures['TP'] / fit.performance_measures['Pos'], 'bo')\n",
    "    plt.text(fit.performance_measures['FP'] / fit.performance_measures['Neg'], \n",
    "             fit.performance_measures['TP'] / fit.performance_measures['Pos'], fit.desc)\n",
    "plt.axis([0, 1, 0.4, 1])\n",
    "plt.yticks(np.arange(0.4, 1, 0.05))\n",
    "plt.title('ROC plot: test set')\n",
    "plt.ylabel('True positive rate')\n",
    "plt.xlabel('False positive rate')\n",
    "plt.show()"
   ]
  },
  {
   "cell_type": "markdown",
   "metadata": {},
   "source": [
    "### Create Pivot Table"
   ]
  },
  {
   "cell_type": "code",
   "execution_count": 81,
   "metadata": {},
   "outputs": [
    {
     "name": "stdout",
     "output_type": "stream",
     "text": [
      "                   True Positive Rate  False Positive Rate\n",
      "Rows                                                      \n",
      "logistic reg                   1.0000               0.0000\n",
      "perceptron                     1.0000               0.0000\n",
      "ridge reg                      1.0000               0.0000\n",
      "support vector                 1.0000               0.0000\n",
      "naive bayes                    0.9703               0.0096\n",
      "random forest                  0.8193               0.2608\n",
      "ordinary least sq              0.4907               0.4805\n"
     ]
    }
   ],
   "source": [
    "fits = [ols_performance_train, svm_performance_train, lgs_performance_train, nbs_performance_train, prc_performance_train, rdg_performance_train, rdf_performance_train]\n",
    "\n",
    "TP_rate =[]\n",
    "FP_rate =[]\n",
    "rows = ['ordinary least sq','support vector','logistic reg','naive bayes','perceptron','ridge reg','random forest']\n",
    "for fit in fits:\n",
    "    FP_rate.append(fit.performance_measures['FP'] / fit.performance_measures['Neg'])\n",
    "    TP_rate.append(fit.performance_measures['TP'] / fit.performance_measures['Pos'])\n",
    "    \n",
    "df = pd.DataFrame({\"True Positive Rate\":TP_rate, \"False Positive Rate\": FP_rate, \"Rows\": rows})\n",
    "train_table = pd.pivot_table(df, values=[\"True Positive Rate\",\"False Positive Rate\"], index=[\"Rows\"]).sort_values(by=['True Positive Rate'],ascending=False)\n",
    "\n",
    "column_order=[\"True Positive Rate\",\"False Positive Rate\"]\n",
    "train_table = train_table.reindex(column_order, axis=1)\n",
    "\n",
    "print(train_table)"
   ]
  },
  {
   "cell_type": "markdown",
   "metadata": {},
   "source": [
    "### looking at reviews based on their classification\n",
    "\n",
    "Let's say we decide that Ordinary Least Squares (OLS) Regression is the best model for generalization. Let's take a look at some of the reviews and try to make a (subjective) determination of whether it's generalizing well. "
   ]
  },
  {
   "cell_type": "code",
   "execution_count": 82,
   "metadata": {},
   "outputs": [],
   "source": [
    "ols_predictions = ols.predict(X_train)"
   ]
  },
  {
   "cell_type": "markdown",
   "metadata": {},
   "source": [
    "### let's look at some false positives:"
   ]
  },
  {
   "cell_type": "code",
   "execution_count": 83,
   "metadata": {},
   "outputs": [
    {
     "name": "stdout",
     "output_type": "stream",
     "text": [
      "Examples of false positives:\n",
      "43\n",
      "now i love bela lugosi don t get me wrong he is one of the most interesting people to ever make a movie but he certainly did his share of clunkers this is just another one of those lugosi plays dr lorenz a doctor who has had his medical license pulled for unexplained reasons he is however doing experiments to keep his wife young and beautiful it s revealed that she is 70 80 years old yet lugosi looks to be in his mid 50 s so why he is married to this old woman is never really explained anyway these treatments or experiments involved giving brides who are at the altar being married some sort of sweet smelling substance whereby they pass out but are thought to be dead then lugosi and some of his assistants steal the body on its way to the morgue and take it back to his lab where it s kept in some sort of suspended animation or catatonic state then the stolen brides have a needle rammed somewhere in their bodies maybe the neck and then the needle is rammed into the body of lugosi s wife to bring her back to youth and beauty we never really see where lugosi sticks the needle or what it is that he draws out of the brides but it somehow restores his wife apparently old age makes you scream with pain because lugosi s wife does a lot of screaming until she gets back to her younger state helping lugosi in his lab is the only good thing about this movie a weird old hag and her two deformed sons one son is a big lumpy looking slow acting fellow who likes to fondle the snoozing brides and the other son is a mean little dwarf little person to be politically correct in today s world at night these three just sort of pile up and sleep in lugosi s dreary downstairs lab who these 3 are and how they came to be lugosi s scared assistants is like a lot of stuff in this film never explained so anyway a female reporter is given the assignment by her gruff editor to find out where all the stolen brides are going to she quickly figures out that the one common thing among all the stolen brides is a rare orchid that is found on them so she asks around and is told that there is a world renowned orchid expert living nearby who just happens to be the one who developed this particular orchid this expert turns out to be creepy dr lorenz she quickly tracks him down and upsets his little house of horrors i m not sure where the police were during all this but they came in to mop up after the reporter had done all the dirty work it seems that lugosi s movies always had some sort of unnecessary silly plot line that just made the whole thing stink to high heavens i mean a world famous orchid expert kidnaps brides by sending them a doped up orchid he himself is known to have developed d oh and then later it s revealed that the young ladies don t even have to be brides for the procedure to work so why would lugosi keep kidnapping brides from heavily guarded churches for his experiments and create all the attention and newspaper headlines why not just grab a prostitute off the street like a normal weirdo pervert would do this clunker reminded me a lot of another lugosi stinker the devil bat same silly plot lines and bad acting and same silly reporter gets bad guy deal but lugosi is always good he is creepy and sinister enough to keep you interested at least enough to keep watching him the woman playing the reporter was just a terrible actor she had no emotion whatsoever she just delivered her lines like a machine gun spewing them out as quickly as she could everyone else pretty much blew too when it came to being good actors but this thing is watchable if only for bela lugosi fans lugosi was always so intense even when the picture was a dog he must have known he was doing terrible pictures but maybe he also knew that if he gave it everything he had a little of that intensity might shine through past all the bad plots and bad acting which surrounded him and he was right we horror fans will always have a love for bela lugosi he gave it his all every time he was in front of the camera we do give two f ks for you bela \n",
      "* * * * * * * * * \n",
      "119\n",
      "this movie sounded like it might be entertaining and interesting from its description but to me it was a bit of a let down very slow and hard to follow and see what was happening it was as if the filmmaker took individual pieces of film and threw them in the air and had them spliced together whichever way they landed definitely not in sequential order also nothing of any consequence was being filmed i have viewed quite a few different korean films and have noticed that a good portion are well made and require some thinking on the viewer s part which is different from the typical hollywood film but this one befuddled me to no end i viewed the film a second and third time and it still didn t do anything for me i still don t really understand what the filmmaker was trying to convey if it was to just show a typical mundane portion of a person s life i guess he succeeded but i was looking for more needless to say i can t recommend this movie to anyone \n",
      "* * * * * * * * * \n",
      "297\n",
      "if you re a layman interested in quantum theory and string theory read the elegant universe by brian greene of columbia university and the universe in a nutshell by stephen hawking of cambridge recipe for 3 parts bombastic new age pontificator 2 parts pseudoscientist 2 parts real scientistmix together until ingredients are indistinguishable from each other and spread on celluloid thin enough that there is no discernible substance serving suggestion barf bags \n",
      "* * * * * * * * * \n",
      "344\n",
      "what the bliep is it with this movie couldn t they fiend a better script all in all a nice movie but it has been done more than once up till the end i thought it was okay but the going back to the past part barf so corny was waiting for the fairy god mother to appear but wow that didn t happen which is good i loved big with tom hanks but to see such a movie in a new form with another kid who wished that he she is older bigger that just is so paséjust watch till it comes out on tv don t get me wrong but it ain t all that\n",
      "* * * * * * * * * \n",
      "398\n",
      "this movie seems to send the wrong message there can be morality without using christ poeple of other religions i believe can get into heaven i am a catholic who goes to church every week but i do not agree with such christian arrogance this is the worst time travel movie i have ever seen and i ve seen timeline \n",
      "* * * * * * * * * \n",
      "515\n",
      "this debuted today on the scifi channel and all i can say is i am speechless i taped it today so i could watch it tonight after work i had high hopes now i am tearing apart the closets looking for a length of rope so i can hang myself possibly the worst movie i have ever seen i wish i could say something nice like it was fun to make fun of this movie but this movie is giving me nothing to work with i know you are not supposed to post spoilers here with out prior warning but i am going to anyway this movie sucks there i said it they should show this flick to film students to show them what not to do my nine year old niece could make a better film the only decent thing about this film is the sound and or sound track oh i just found a rusty c clamp in my old tool box i am going to put it on the thumb of my left hand and tighten it until the pain erases the memory of what my eyes have seen i could just tape over this vhs but i think i will burn it in the fire pit instead i could wash with soap but i fear i will never be clean again christmas is coming buy this movie and give it to people you hate mike \n",
      "* * * * * * * * * \n",
      "731\n",
      "hi may be because i am not a theater major or a sophisticated movie watcher i think this movie is boring and dumb i rented this movie because of charles bronson and it s title but boy what a waste of time just watching 2 guys sitting in a vault and talking the movie on this dvd was so dark i had hard time watching the darn movie i realize it is a 1968 movie but they are putting it on a dvd then they should do some digital remastering also i was totally surprised to see these high marks on imdb for this movie like i said before i am not as sophisticated as the other folks who commented on this movie earlier \n",
      "* * * * * * * * * \n",
      "733\n",
      "i am definitely a burt reynolds fan but sorry this one really stinks most of the dialogue is laughable and the only interesting plot twist is in the last five minutes of the movie i can t believe he even made this one is he actually that hard up for money \n",
      "* * * * * * * * * \n",
      "778\n",
      "it was a sunday night and i was waiting for the advertised movie on tv they said it was a comedy the movie started 10 minutes passed after that 30 minutes and i didn t laugh not even once the fact is that the movie ended and i didn t get even on echance to laugh please someone tickle me i lost 90 minutes for nothing \n",
      "* * * * * * * * * \n",
      "986\n",
      "when i saw this movie i heard all the hype and i heard how people said that denzel deserved the oscar alongside his golden globe and i believed he must have done an outstanding job considering kevin spacey was excellent i was wrong i realize that people say this not to anger the african american community if they are not african americans themselves i always hear complaints on how african americans are never nominated and how they should have won sometimes this is true not as much nowadays because whoppi goldberg should have won best actress for the color purple and the movie should have won best picture the only reason this movie was so blown up the way it was is because people see a movie about the semi spoiler hardships of an african american during a very racist time period and they automatically label it as a masterpiece denzel washington is an outstanding actor but his role in this movie did not affect me whatsoever i was bored with him in the movie and his acting here was quite similar to his role in malcolm x but not as good the audience is supposed to leave believing this man rubin carter is a saint people left the movies worshipping this man this hero and they went out and bought his book making this hero of a man rich spoilers this movie tells the tale of a man who spent the majority of his life in prison mainly for crimes he did not commit of course the crimes he did commit stealing mostly was only to survive nothing more people felt sorry for him even though the drug dealers and thieves probably amounted to as much for the same reasons but are looked down upon in society everything in this movie tries to portray this man as a saint except for the obvious infidelity he had towards his wife and the aggression he showed the other man when he met his wife but why wouldn t it after all it is his point of view i do not like movies especially hollywood interpretations that are based on true stories because they usually distort the true parts into something else something not so true this was his point of view and a hollywood construction yet everyone believed it was the truth unquestionably well i researched his past a bit before making any assumptions and he was a very violent man not only that there is still a possibility that he did murder those people if you do not believe me search for him on the internet and read the articles some people have of him the boxing match he claimed to have won so easily was actually won by his opponent joey giardello and there are tapes to prove it besides that there are many twisted and purposely left out facts in this movie the supporting cast were the nicest people i have ever seen on the face of the earth and their nice and perfect persona looked difficult to keep up this movie was a hollywood version of yet another unfortunate true story that is still left to be told truthfully denzel s acting is stale and the supporting cast s mickey mouse attitudes are annoying the movie also begins very slow paced and is boring \n",
      "* * * * * * * * * \n",
      "987\n",
      "faces are slashed throats are cut blood squirts and in end the three main characters are either depressed or they die they even blow up kevin costner s dog with a shotgun why would anyone want to see a movie like this violence is valid only when the good guys kill the bad guys not the other way around take for instance underworld and underworld evolution where you can enjoy seeing justice done when the demons are slain in this movie the good guys are cut up see the difference why would anyone want to make a movie that depresses the audience beautiful photography and skilled editing in a motion picture like this is a waste of talent let s put this one into the category of the exquisite corpse \n",
      "* * * * * * * * * \n",
      "1089\n",
      "spoilers of both this and the matrix follow i liked the original matrix a great deal it was not a deep movie despite fishburne s attempts to philosophize but it was fairly well paced fun and i have a soft spot for hong kong fights in the original neo was the secret life of the rather unhappy cube worker anderson by day corporate drone and by night brave hacker eventually he eventually is forced to choose between these lives by his actions does he become an outlaw fighting the machine or does he go back to the safe forgettable world he started in interestingly he discovers that once one is shorn of illusions life rather sucks he has his girl by his side and his boon companions but he eats processed swill dresses in sweats and lives in a truly skungy bit of machinery still the truth makes him free at least part of the fun of that first movie lay in the what if it were me questions raised in the viewer s mind what if _i_ were capable of the impossible what if i were the one it does not even matter that much what you are the one example of with a cool title like that further agent smith made a wonderful bad guy as he embodied all of the fear of authority that we carry with us he was as unstoppable as a terminator and as merciless at the end of the matrix neo must return to the matrix to share his good news of freedom this movie fails to completely to carry through on the ideas of the original movie and it does so with such lack of gusto such poor scriptwriting and such poor editing that i cannot believe they had planned these changes when the dialog is at a fifth grade level with various long words dropped in randomly i find it hard to believe that they understand what they are saying my short list of characterization failures the oracle goes from mildly helpful if deceitful to utterly obstructionist without any real reason major personalities of the matrix are introduced without need the keymaster for example was a cute idea but just not that interesting a character fishburne loses his advisor role and gets nothing to replace it with the people of zion are not particularly likable nor would you really _want_ them running the world special effects problems the fight scenes are pointless and intermitable in the matrix you felt neo could lose and that he had to become something greater in order to survive in the matrix reloaded he is merely the viewpoint character of a particularly poorly plotted video game the fight on the freeway looked quite fake and not that interesting pacing problems as i mentioned above the fight scenes were interminable the rave went on too long everyone in my row at the theater was looking at their watch not because we mind good dancing and good orgies but because we did not know about the people pictured nor did we care whatever hack wrote the creator s soliloquy should be blacklisted from the business it meandered used words that the scriptwriter clearly did not understand and was a waste of time and a pacing killer the creator s speech could have been done in a tenth the time and with more peril as zion exists to give rebels a place to go so they do not destroy the matrix there are now too many people who do not believe the matrix is in danger of crashing and killing every person hooked up to it further the earth cannot support even the people in zion let alone these others you may choose one person from zion to form the new zion while i wipe the memories of the people currently in the matrix instead we got a long drawn out bunch of twaddle if someone argues that it is deep ask for a transcript and try breaking down the sentences each one is too long by several clauses and uses words with clearer shorter synonyms so in summary not worth seeing i have seen the third one and despite what a number of reviewers have said skip it it does not save this turkey the reviewers who feel that the second and third movies were deep should go see some truly deep movies perhaps read a book or two on rhetoric and debate and perhaps a bit of philosophy this movie is just not hard to understand but it is hard to stomach scott \n",
      "* * * * * * * * * \n",
      "1662\n",
      "what the bleep do we know is a deluded and haphazard look at the mysteries of the universe we are presented with a parade of apparent experts none of whom are named who ramble and pontificate in a thoroughly unscientific manner their interviews are chopped up into aggravatingly small segments and dispersed throughout some flashy cgi and banal mini plots the film pilfers themes from science philosophy theology and politics minces them together without any regard for accuracy and then somehow extracts a few prosaic and absurd conclusions we are led to believe that quantum physics is telling us the purpose of our existence and any other difficult to answer question the film makers would like to point their finger at it is riddled errors and logical non sequiturs how did we start at quantum mechanics and end up with this pseudo scientific spirituality and mysticism it s like saying two plus two equals four therefore i can move objects with my mind there is nothing original in this film and almost nothing that is accurate any discriminating viewer will be annoyed by heavy handed editing intrusive and pointless special effects and general lack of substance educated viewers will be frustrated to tears by the violence done to science and every other subject this film touches on \n",
      "* * * * * * * * * \n",
      "1709\n",
      "i saw this movie at an actual movie theater probably the 2 00 one with my cousin and uncle we were around 11 and 12 i guess and really into scary movies i remember being so excited to see it because my cool uncle let us pick the movie and we probably never got to do that again and sooo disappointed afterwards just boring and not scary the only redeeming thing i can remember was corky pigeon from silver spoons and that wasn t all that great just someone i recognized i ve seen bad movies before and this one has always stuck out in my mind as the worst this was from what i can recall one of the most boring non scary waste of our collective 6 and a waste of film i have read some of the reviews that say it is worth a watch and i say too each his own but i wouldn t even bother not even so bad it s good \n",
      "* * * * * * * * * \n",
      "1934\n",
      "i m a big fan of italian films from the seventies and i wouldn t hesitate to list the beautiful barbara bouchet among my favourite actresses of all time so i did go into this film with some hopes however it soon becomes apparent that this is a largely pointless film that isn t going to go anywhere clearly nobody would go into this expecting much more but the fact that this is pointless gets more annoying when you consider that it s also rather dull and none of the characters are interesting as the title suggests the film focuses on a rogue in this case one that steals womanises and smuggles stuff that s basically all the plot that this movie has the film does have a real seventies style to it and the idea of it all being very carefree gets across well it sometimes seems like directors boro draskovic and gregory simpson were trying to put across some sort of point although whatever that point is doesn t come across very well seeing barbara bouchet on screen is always a pleasure and that is the case here too she s definitely the best thing about the film and the sequence in which she hangs out of a car naked is the best part of the film overall the rogue will probably have some appeal for people who love the seventies style but unfortunately it doesn t have much else to offer \n",
      "* * * * * * * * * \n",
      "2183\n",
      "when i rented this movie i had very low expectations but when i saw it i realized that the movie was less a lot less than what i expected the actors were bad the doctor s wife was one of the worst the story was so stupid it could work for a disney movie except for the murders but this one is not a comedy it is a laughable masterpiece of stupidity the title is well chosen except for one thing they could add stupid movie after dead husbands i give it 0 and a half out of 5 \n",
      "* * * * * * * * * \n",
      "2214\n",
      "margret laurence probably didn t intend on having any of her novels adopted for film let alone the stone angel hagar as a character was one who constantly challenged the social norm gainsay who dare anyone and ended up nearly sacrificing her humanity in the process the symbols in the book the stone angel silver thread etc etc are constant reminders of this struggle of the old and new and the carnage so to speak along the way while the film is reasonably faithful to the plot of the book but it isn t really a plot kind of storytelling is it i think it missed the point on capturing the spirit of the film hagar s defiance for the sake of defiance was not there bram could have been a lot more crude than portrayed and hagar s father could have been played more traditionally so to speak if the filmmaker would insisted on stronger portrayals the film would drive the point straight to home along the same vein why should we see cell phones organic produce and other modernizations are we trying make some points for the sake of making some points e g the muslim girlfriend and the native people hagar and co are everything but politically correct in the book so why should we see that in the film version modernization may be an excuse for a low budget operation but using that as an excuse to send subliminal politically correct messages that are totally irrelevant to the novel and the film seems like throwing punches below the intellect there is also the audience it seems that we have been conditioned to see bitter old people as cute and lovable why should be laugh every time hagar is at her tantrums i doubt magaret laurence wanted her readers to laugh at or with hagar these people are frustrated and are full of angst and all we do is to laugh at them i don t think it did hagar and other folks in her situation any justice \n",
      "* * * * * * * * * \n",
      "2225\n",
      "trust me this is one let down movie that you want to avoid and this comes from one huge denzel washington fan the frustrating part is that it s 1 3 of a great film the first part of this movie does an exceptional job of setting up the characters and the new relationship between creasy and the girl he s paid to protect the trailers to this movie all mention that she is kidnapped so i m giving nothing away when i say that the film degenerates into an almost unwatchable mess after she s kidnapped whatever the director was trying to accomplish all he succeeds in doing is making the audience literally nauseous rapid frantic and choppy cuts follow for the next half hour as creasy tracks down the perpetrators these cuts are so unnatural and nauseating that all they do is to jolt you out of the story i m sure the director thought that this unsettling way to present the story signified a change in creasy s character and signified that a different movie was to follow well he was right the movie that followed was complete and unsatisfying crap the result of which is a depressing ending that ruins even the quality first forty minutes of the movie \n",
      "* * * * * * * * * \n",
      "2243\n",
      "i wouldn t normally write a comment on line but this is the worst movie i ve ever seen not only that it s filmed just like a soap series the young and the restless is really filmed by professionals compared to this but it also has awful cuts it has no action it is full of useless garbage here s an example a guy wants to kill the main character as he got fired because of him so after loads of crap here they are the guy puts a knife at his throat and says something like you re dead now then the main character says if you kill me you re dead i ve told the police you re threatening me so the killer guy goes like just about to cry oh no the cops are following me oh my god remember this is just an example i really cannot believe this movie actually exists so if you want to see the worst movie ever go ahead i recommend it \n",
      "* * * * * * * * * \n",
      "2283\n",
      "1st watched 12 24 2009 4 out of 10 dir robert ellis miller emotional christmas fluff that doesn t really get specific enough to explain how the real story happened in this factual based incident of a man who is wrongly put in jail trying to get a job for his family to make christmas happen for them the three kids in the family then run away from home on a trek to washington d c to enlist the then president of the united states herbert hoover this trek provides some side stories like their positive encounters with a hobo and a puppeteer which makes the story kind of like a disney animals on the run movie and doesn t quite fit here at the ending there isn t any details given as to how the president helped the family and this is another downpoint to the movie in my opinion the movie does eventually bring tears but it takes too long to get to this the movie isn t supposed to have been an original tv movie according to imdb but it has the obvious fade outs that make it look this way so i m not sure their information is accurate all in all this is a simple movie that could have been more complex with a happy christmas like story but blandly played and without a lot of substance \n",
      "* * * * * * * * * \n",
      "2363\n",
      "as an altman fan i d sought out this movie for years thinking that with such a great cast it would have to be at least marginally brilliant big mistake this is one of altman s big cast mishmashes thrown together haphazardly and improvisationally or so it feels with the hope that it would all come together in the editing room it doesn t as maltin points out this turkey is notable only for the debut performance of alfre woodard who outshines the vets all around her but other than that avoid at all costs which is pretty easy to do it s never been released on video to my knowledge and its cable appearances have the frequency of halley s comet \n",
      "* * * * * * * * * \n",
      "2385\n",
      "i love all types of films especially horror that being said survival does not live up to any of the hype surrounding it i can t give it any points on originality there is nothing wrong with exploring the same themes or remaking what others have done it has just become a cop out for indie films to take us on a slasher journey through the woods a crazed killer and as of lately throw in some crazy family on those lines i have to compare it with the likes of texas chainsaw wrong turn though the twist in that one is obvious and others survival falls up way short against comparable films the plot was just not original in any way some films can get by with a weak and way over done plot with superb acting special fx or a slew of other factors survivial doesn t have any of that to bank on if you will note the following the acting in the movie never took off i don t knock or blame the actors for that nor the director the dialogue was at best mediocre and the actors involved never showed not saying didn t have the talent to pull it off i mention 2 standouts the leading man in this film certainly has the look but i seriously thinks he needs to consider more training before he is ready to carry a film the actor who portrayed greg also had potential but we never got to see any of it watch the movie to see why you won t believe it the grainy film look ah yes that little tid bit of film making magic designed to take us to the glory days of grindhouse films in today s film making that has become a gimmick it either works or it doesn t in this case it just does not work there are too many other flaws going on so it winds up distracting from the film not adding to it that being said i think they did a good job of adding that grain that is some good quality grain i think with a different script better direction and possibly actors they should try another grindhouse attempt they will probably pull it off as far as the tech aspects in my opinion they never quite gelled for me either better care could have been taken with audio sounds like it was fed directly into the camera but there is nothing wrong with that and for being shot on dv it was too soft for my taste that is all i have to say about that \n",
      "* * * * * * * * * \n",
      "2488\n",
      "this movie features two of my favorite actors in kilmer and downey it also boasts the always enjoyable larry miller in a too small part despite this i found it to be nearly unwatchable michelle monaghan may be pretty but she is nearly charisma free and the reasons for downey s character s obsession with her character is not at all understandable in terms of the information the film presents or the way it s portrayed the ending seems pretentious and though the intention seems to be that the audience should join in the nod and wink the film having failed to bring us in on the side of its protagonists leaves us unwilling or unable to do so fans of the film say that those who disagree simply don t get it i don t think this is so the plot was not complicated or beyond understanding it was simply uninvolving and clumsily and obviously manufactured i got it i just didn t like it paddy breathnach s i went down and guy ritchie s snatch and lock stock and two smoking barrels are much better realized examples of the kind of film making that director shane black fails to achieve i share a birthday with shane black but a look at his credits mostly as a screenwriter makes me want to dissociate myself from any other connection \n",
      "* * * * * * * * * \n",
      "2502\n",
      "though i d heard that cama de gato was the worst brazilian movie of the decade i watched it giving it a chance after all first time director producer writer alexandre stockler managed to make his debut feature shot in video for just us 4 000 and though it looks even cheaper i can t begin to imagine all he went through to finally get it exhibited in theaters with no big sponsors or production companies behind it then as i watched it i realized why but whatever chances you re ready to give to cama de gato they shrink to zero within 10 minutes it s an unbelievably preposterous verbose ideologically fanatical and technically catastrophic attempt to portray brazilian upper middle class youth as a bunch of spoiled neo nazis hooked on bad sex drugs and violence and they re made to look like closeted gays too made with no visible trace of talent imagination expertise or notion of structure visually and aurally it recalls the worst amateur stuff you can find on youtube only here it lasts ninety two count em minutes of unrelenting hysteria and clumsiness and it s not even funny bad we ve all seen the story before bored young guys want to have fun go partying take drugs and everything goes wrong there s gang rape spanking murder the accidental death falling down the staircase of the mother of one of the boys culminating with the boys deciding to burn the corpses of the girl and the mother in a garbage landfill moral and literal garbage get it the film is heavily influenced by larry clark especially kids and bully but clark s films though also moralist and sexploitative are high class masterworks compared to this crap i don t think there was ever such monomaniacal drive in a filmmaker to stick his ideas down the audience s throat stockler grabs us by the collar and tries to force his non stop moralist rant into our brains by repetition and exhaustion you do get numb minded with so much babbling yelling inept direction shaky camera and terrible acting going on stockler doesn t care a bit about technique the quality of the images framing sound recording soundtrack songs dialog sets editing etc is uniformly appalling but he s a narcissistic control freak he anticipates the criticisms he s bound to get by adding subtitles with smartie cutie comments and by making the protagonists comment at one point how far fetched and phony it all is i could relate to that despite his megalomaniac ambitions stockler seems incapable of giving us a minimum of visual or narrative structure he can t even decide if he wants gritty realism hand held video camera etc or stylization repetition of scenes use of alternate takes etc damn he can t even decide where to put his camera there s use of subjective camera for the three leads the dialog features some of the most stupefyingly banal verbosity ever the plot exists simply to justify the director s profound hatred for his characters and what they stand for all you see is a filmmaker being hateful preachy condemning moralizing without the benefit of a minimum of talent or technique to go with it it s very disappointing to find caio blat in this mess certainly one of the most promising young film actors in brazil with his sleepy eyed puppy dog looks and emotional edge that often recall sal mineo s blat can be highly effective under good direction as in carandiru lavoura arcaica proibido proibir here he s told to go over the top and he has to play with some of the most embarrassingly under equipped actors in recent memory he also enters the risky realm of graphic sexploitation scenes so goddawful they look rather like web cam porn the film opens and ends with real interviews with typical middle class youth stockler wants us to take those interviews as proof of what he s trying to preach in fiction but he blatantly despises and makes fun of his interviewees selecting a highlight of abject racist sexist stupid statements which only shows assholes exist everywhere stockler wants to prove that brazilian middle class youths are all present or future fascists because they re middle class and enjoy recreational drugs is he saying all neo fascists are on drugs or that drugs potentialize fascist behavior i couldn t tell with its dogmatic self righteousness headache inducing technique and mind bending boredom cama de gato is bad for a 1 000 reasons but above all it s harmful in a very insidious manner it gives detractors of brazilian cinema a powerful case of argument cama de gato is best unwatched unmentioned buried and forgotten \n",
      "* * * * * * * * * \n",
      "2626\n",
      "this is one of them movies that has a awesome video box but has wired camra work and unknown actors that speak with bad dialogue its so dark when the killings happen you can hardly see it plus the movie is hard to understand the only star in this is wcw s vanessa sanchez tygres in wcw before it folded and she is a good actress i like low budget film especialy ones that has errors because they are fun to watch but severed unfourtunatly isn t one of them this movie is ok to see if you like voodoo and severed heads but this is no blockbuster but if you need something new to watch then rent severed \n",
      "* * * * * * * * * \n",
      "2639\n",
      "this is definitely one of the weirder 70 s movies out there and it s most notable for kicking off a decade of bigfoot hysteria it is also notable for the little touches of insanity throughout the movie especially when the dark moody first half is replaced by a musical interlude of all things as another user pointed out one of the songs is dedicated to a character travis crabtree who paddles around in a canoe for a while then leaves never to be seen again although it s painfully dated now i s still a fun scary movie to show to kids and anyone who enjoys either bigfoot lore or 70 s hillbilly culture is bound to get a kick out of this my favorite part a guy gets so scared that he jumps headfirst through a door and the narrator explains he went unconscious from shock uh i d say breaking a door with his head is more likely why he went unconscious but whatever 4 10 stars or 7 10 if you like bad americana \n",
      "* * * * * * * * * \n",
      "2719\n",
      "i m not alone in admiring the first superman movie a film that richard donner executed masterfully i am also not alone in scorning richard lester s superman 2 which brings us to the richard donner cut of the same movie sadly it is still an absolute abomination superman s world is one where suspension of disbelief is required in strong doses but superman 2 stretches things too far it doesn t matter who directed superman 2 because the script insults the intelligence of a first grader in a sense there is no plot because the characters have zero motivation to act the way they do unlike the original superman with or without his powers superman s strength or lack thereof is handled in the least believable manner there is too much to criticize so i will not bother i condemn this movie perhaps the slapstick in the lester version is more appropriate to the moronic script this movie is based on super duper bad \n",
      "* * * * * * * * * \n",
      "2880\n",
      "what a great word re imagining is isn t that what they call dawn of the dead mmiv 2004 a clever word indeed it disguises the term that everyone has grown to hate remake that is and makes it almost sound as if the process of making one was creative and involved the imagination well damn was i misled at least i was seduced more by the thought of countless gore and unbridled violence than by the idea of re imagining though it played a role still why make a remake directors do it for only a few reasons really to update a movie for a modern audience or because they personally love the original and want to make a tribute to it an homage if you will nonetheless it all generally i do admit exceptions boils down to one thing stealing someone s idea and reshaping it or re imagining it so that those who would never see it or understand it would pay money to see it it s like coles cliffs notes dump everything in a blender purify all that is more puzzling and curious and throw in a few artificial flavors in other words a great marketing scheme so what s wrong with this one well i ll start with what i liked i liked the opening scenes thanks to cgi and a bigger budget we could actually get a grasp of the chaos of the zombie holocaust romero tried to communicate in the original through minimalist means we see the city in ruins thousands of zombies chaos and death two words that look beautiful on screen then it all falls apart this set up leads nowhere the movie does what almost every remake does it adds more of everything except character atmosphere and story it s noisier in some sense bloodier and more full of main characters who appear only to die in nonsensical subplots the setting the mall which played a crucial role in the original film s story and theme is purely coincidental the idea communicated in romero s film the pure ecstatic joy of having a mall all to yourself as a fortress is gone here further this re imagining has no moxie no spirit no balls it assumes probably quite rightly that the audience has no attention span and doesn t bother to get us interested in the characters or the story the film is rushed and misses the quieter interactions of the four characters of the original you actually grew to care about those people in romero s version because there was a certain realism to their existence despite the insanity outside the mall here you don t care when or who goes what matters is how they go what else is their to say the film is not scary it has one or two jump scenes and it tries to make up for the rest with gore and loud special effects as a story it s really too choppy to be followed and the conflicts between the characters are too underdeveloped to save it the humor is also reduced to a few one liners and one really good character andy after that what remains an ending that is plainly ridiculous and far inferior to the subdued inevitable ambiguity of the original film but despite it being a pretty bad film though not quite as bad as some other remakes it should be remembered for one thing it kicked the passion of christ from it s number one spot in the box office well done zombies \n",
      "* * * * * * * * * \n",
      "2897\n",
      "alicia silverstone pre clueless plays a modern day crime obsessed teenager attempting to solve the brutal slaying of a local girl pat verducci wrote and directed this b flick which isn t especially well made but is however surprisingly serious minded in regards to its leading character silverstone is appealing and successful in carving out an interesting young woman here despite the picture s kitschy undermining the supporting cast including kevin dillon and michael bowen isn t bad though the violence in the last act goes overboard not a cheesy camp fest but nothing exceptionally memorable either 1 2 from \n",
      "* * * * * * * * * \n",
      "2907\n",
      "in the future of 2001 freddy is after the last surviving teenager of elm street forsaking any scares whatsoever for unfunny attempts at humor and needless celebrity cameos come on roseanne tom arnold wtf this is tied with part 2 is the worst the demon child rapist ever got wow was this a piece of crap not even the great legendary alice cooper could make the stench of this movie go away and when they hell did freddy ever have a daughter the whole film is severely retarded in ever single conceivable way shape form rachel talalay you stink to high heaven babe my grade d dvd extras cast and crew bios jump to the 3d sequence and jump to a nightmare options more extras for the film can be found on the seventh disc of the nightmare collection dvd set dvd rom content trivia game screenplay and web link\n",
      "* * * * * * * * * \n",
      "3003\n",
      "if you made the mistake of seeing the movie before reading the book please don t give up on the series i bought my first copy of any of the books in may of this year and already i m almost finished with book 10 i dare say the movie is a piece of trash that doesn t do the series even a sniff of justice while left behind the movie only vaguely follows the story of the left behind the book the characters aren t even close to accurate a few examples rayford never acts on his feelings for hattie he is about to when he s informed of the vanishings buck williams is a blonde haired magazine writer not a tv reporter chloe is at stanford and a lot of the book details rayford wondering if she survived buck and chloe don t meet until much later at a meeting in new york set up by hattie irene and raymie are never in the book rather just in rayford s flashback thoughts the roads are so jam packed with wrecks following the rapture that rayford and hattie have to helicopter back to the suburbs etc etc etc and that s just from the first movie they re about to release the third please even if you didn t like the movies give the book series a chance \n",
      "* * * * * * * * * \n",
      "3064\n",
      "it s a really cheesy parody of tomb raider and some indiana jones the humor s cheesy and so is the acting but after all it is a soft core movie which is expected and doesn t matter because what you really want is the sex which gets me to the biggest problem of all there barely is any of it which makes you feel like you re watching tv at 3 am and the independent movies are playing and the one that is on was made by some college kid that s going nowhere in that industry you re left a very long time waiting for an actual sex scene a lot of times you are thinking something is going to happen then just left hanging the one maybe two or one with two parts that actually goes somewhere is very pleasing though i personally can t recommend this unless you found it in a clear out bin for a dollar or two if you lucking for a good movie with a plot and good acting you don t want this if you looking for a good soft core lesbian film you don t want this either \n",
      "* * * * * * * * * \n",
      "3079\n",
      "i have to admit that over her dead body actually wasn t as bad as i was expecting my mom wanted to see it so i rented it i figured just to go ahead and see the horror before my eyes but actually this wasn t too bad i was just expecting this horrific movie but it seems like the writers meant no harm but the casting of eva longoria parker sorry she seems a little off set for the movie i think i may have found it to be a little better without her just she does annoy me but paul rudd and lake bell had a decent chemistry that made the film somewhat likable but you have to admit there was no point to this movie it was one of those quick paychecks for the actor type of thing the movie could ve been funnier if someone had really paid attention to it and had a better cast henry just lost his bride to be kate who was killed by an ice sculpture on their wedding day but when his sister takes him to a psychic ashley henry falls for her but kate is haunting her from beyond the grave kate is jealous and doesn t want henry to move on so quickly and she will make sure that ashley doesn t get him by torturing her day and night with her rambles believe me with kate s voice that s scary over her dead body is an alright movie not sure if it s worth the money but i d give it a rental for you if you want to see it or are curious eva longoria just doesn t have enough star power to make the film work no offense to those who love her she just belongs on the small screen over the silver screen not to mention the character of ashley she seems still not too likable with everything she pulls or her gay friend dan just again not really likable just with some re writing and proper attention this film could have been better but instead we get the average predictable romantic comedy that will leave with with an empty feeling 4 10 \n",
      "* * * * * * * * * \n",
      "3298\n",
      "this engaging which it shouldn t be low grade spanish exploitation quite tame i might add looks good but huh let me phrase that again huh actually the word huh would be going through your mind quite a lot nothing makes sense nor does it try too i just don t know if its complicatedly cryptic or just a convoluted muddle but there s no denying how laconically uneventful strange and wordy it feels unrelated sequences tied like that nasty opening involving a little girl dead cat and fire in to a sparse story involving photographer mario played by a chest puffing john caffari who s mustache is a dead ringer for nintendo s iconic mario what s the odds that ditches his girlfriend at home and encounters a young lady a gorgeously fixating patty shepard who he asks to come with him on an photography assignment where at this remote mountain retreat they come across some hooded witches look past the unhinged plot structure and wallow in what is simply a moody piece of atmospheric mechanisms and growing unease raul artigot directs few jarringly unusual visuals and creepy passages but for most part seems sporadically non existent and unfocused just like his writing ramon sempere s striking cinematography lenses the gracefully rich scenery as we take in the scenic views and let the time leisurely grind away however there are certain areas where it was too dark to see what was going on fernando garcia morcillo s hauntingly bombastic and overwrought score blends terrifically with compulsively dense atmosphere created the leads are capable but there s also a sturdy bunch the pick being víctor israel of secondary performances slow with little in the way of interest but this dreamy set up that seems to go on and on manages to keep you watching until its closing \n",
      "* * * * * * * * * \n",
      "3314\n",
      "vovochka is your everyday hooligan vs authority movie vovochka the main character is branded early as a bad influence on the children in the neighborhood with the words of wisdom from a couple of grownups he meets along the way he finds changing his mischievous ways hard yet worthy of doing personally i found actor who played vovochka too annoying to sympathize with however the change of tone of the movie would allow most to feel the emotional struggle vovochka has when he wants to be good but bad things still happen this struggle makes the movie a little different than other movies of the same genre that s the little flavor i meant all in all i did not really care for this movie although it was most likely aimed for a younger audience \n",
      "* * * * * * * * * \n",
      "3330\n",
      "quite typical for swedish movies of this type strange that the acting was soooo bad these actors usually give a good show the casting was poorly done it made you expect something i won t tell you what the lead character was awful i don t know where they find her anyway stay away from this and go see den tredje vågen instead this is swedish action in is prime \n",
      "* * * * * * * * * \n",
      "3553\n",
      "oh man is this movie bad it flows horribly the story is about a race car driver who is in love with himself and then has to promote a chicken fast food chain and while doing this doesn t love himself he tries getting out of the contract and horrible painfully unfunny gags ensue jim nabors seems as if he s sleepwalking not acting you ll miss such burt sidekicks as dom deluise and jerry reed while watching this stinker loni anderson s hair is downright scary proving that tons of hairspray didn t go out in the sixties or maybe that was a wig speaking of burt s wig wasn t bad in this film his worst wig day was in smokey and the bandit 2 anyhow this movie is the worst reynolds car movie ever ever right up there with cannonball run 2 the original smokey and cannonball and hooper which thankfully had no sequel are great funny films this one isn t even ned beatty who is a great actor stinks you ll long for a jackie gleason type villain who is fun to hate and mind you this isn t one of those fun movies to bag on it s lousy pure and simple even the outtakes at the end were tiresome and boring and worst of all unfunny and least i forget stroker ace was one of the first heavy nails to seal burt s coffin before his somewhat revival years later in boogie nights another film that like deliverance years earlier shows that the man can act quite good when he has a decent platform to do so \n",
      "* * * * * * * * * \n",
      "3554\n",
      " however i am not one of them caro diario at least was watchable for two thirds of the time but the boring and self centred third section of that movie gave us a taste of what was to come in this extraordinarily self indulgent mess moretti says he feels a need to make this movie but doesn t want to whereas the viewer feels that he should stick with it but really doesn t want to either a film about italian politics and elections could be fascinating but this is not that film at one point moretti and his friends are standing outside the communist party headquarters discussing the interviews they are preparing to conduct with party leaders inside but it s characteristic of this film that we never get to see anything of them interposed with moretti s political ravings are the events leading up to the birth of his son and subsequent home movie shots of him with the baby and later the infant pietro the film drags us through several years and more than one election period we keep expecting to see some definitive sequence or cogent argument but they never come i for one doubt that i could have the patience to ever sit through a nanni moretti movie again he succeeds in making an hour and twenty minutes seem like an eternity \n",
      "* * * * * * * * * \n",
      "3587\n",
      "we open with colonel luc deveraux van damme the original universal soldier and his buxom asian friend being chased down a river by what appear to be universal soldiers they almost kill the two then oh wait it was just a field test deveraux we come to find is now part of a government funded company that designs the new level of universal soldiers why he would want to be involved in this if you know anything about the original is never explained and well beyond me it s after this flimsy set piece that the real story gets going the united states government has cut the universal soldier s project budget and in the process angered seth the large artificial mainframe computer that controls the universal soldiers naturally he won t be shut down without a fight so that means van damme has to go around and take all the new breed of universal soldiers out which sounds like a fun idea for an action movie and a take on a sequel but that doesn t stop it from becoming stupid as hell for instance one of the new universal soldiers is played by bill goldberg seems you can t go wrong casting a wrestler in an action movie he s big he s tough right wrong van damme doesn t seem to have a problem wiping the floor with him once twice three times the point here lost on me then there s the breaking of glass a rudimentary part of any action movie but someone involved must have a glass fetish you have to see the fight scenes in particular let s not talk about how nobody cuts themselves or at the very least slips then to put the cherry on top of this train wreck they have seth the computer secure a human body for himself and how appropriate it is when they make the villain black michael jai white nothing works better than a white good guy fighting a black bad guy it would seem potentially offensive and just downright lame he s no replacement for dolph either universal soldier 2 is a lousy sequel it s loud it s dumb and it doesn t care the original wasn t anything poetic but it made a simple sort of sense with a science fiction element and it entertained on a basic level the sequel doesn t they do however keep the running time under ninety minutes and somehow found a way to squeeze in a strip club sequence so give credit where credit is due \n",
      "* * * * * * * * * \n"
     ]
    },
    {
     "name": "stdout",
     "output_type": "stream",
     "text": [
      "3695\n",
      "i saw this movie with some indian friends on christmas day the quick summary of this movie is must avoid jp dutta wrote directed produced and edited this movie and did none of these jobs well the movie tells the story of the attempt by pakistan in 1999 to capture part of the disputed region of kashmir from india supposedly based on fact you get a hint from this movie of the difficulty the indian army had in recapturing the area from the pakistani troops who occupied the high ground but instead of telling what must have been a compelling and heroic story all this movie does is make the indian military look laughable and stupid which i know is not true i watched this movie with an almost completely indian audience who were very patriotic and clearly wanted to like this movie but also found themselves laughing at scenes that weren t meant to be funny the script was absolutely abysmal it gave the impression that mr dutta knows nothing about how an army operates and was using bad war movies for reference the result is a script that is brainless and repetitive the acting from most of the principals was not stellar but considering the script they were given i find it hard to criticise them too much as for the supporting cast all i can say is that i hope they were amateurs the editing was also pretty bad it was pretty hard to follow what was going on for a lot of the time and music would abruptly end at scene changes good things the cinematography was pretty good although it was hurt a little by the fact that the movie didn t appear to be colour corrected the colour balance often varied significantly within scenes also the few songs that were in the movie were quite enjoyable for the first half a dozen or so verses at least unfortunately they went on a lot longer than they should have and the worst crime of all this mess is four hours long there is enough here that a good editor could almost squeeze a good 1 5 2 hour movie out of what was shot sadly a good editor was not working on this movie \n",
      "* * * * * * * * * \n",
      "3731\n",
      "i didn t think it could be done but something has come along and replaced open house a low budget horror about someone killing over the high price of real estate as the worst film i ve ever seen in my short but otherwise sweet life it was touted as the best film in montreal s most recent film festival which leads me to believe that every other entry must consist of blank wall shots accompanied by people reading gloomy poetry watching this movie was like a little slice of hell it s from austria and it attempts to stumble along in the footsteps of short cuts and blue velvet scenes about various characters living in a suburban area with a dark underbelly there s the fat dog owner and his fat maid wife who stripteases for him the skinny divorcee whose wife still lives with him in a house that includes the untouched room of his dead child the über annoying woman hitchhiker who recites top ten lists the list goes on forever much like the two hours plus i spent in that theatre yes the characters interact but not in a clever or interesting or even relevant way i couldn t say if they were any good as actors as according to the subtitles they were given lines that were the austrian equivalent of you are so lame they certainly didn t have to learn many as each repeated his or her same lines at least three times in a scene this is no gummo or any of the aforementioned movies there is no art to discover and nothing to dwell on afterwards except maybe whether or not you should change your never walk out during a movie policy which quite a few older couples did during a random orgy scene and if that sounds appetizing it s not unless you re one of few who doesn t find the idea of your parents having sex and with a few local middle aged couples to boot revolting this movie was offensive to me not the flabby nudity not the cringe inducing soundtrack not the shockless scenes involving guns i was offended that someone actually spent money to make this when there are capable writers and filmmakers out there looking for funding i was offended that someone from out of town might have gone to see dog days and come out wondering if that was the best us montrealers could find most of all i was offended that somehow the people involved with the festival duped everyone into believing that the emperor had a gorgeous and mesmerising new outfit when it was painfully clear that he was as naked as the fat maid wife doing a striptease \n",
      "* * * * * * * * * \n",
      "3772\n",
      "sorry everyone i know this is supposed to be an art film but wow they should have handed out guns at the screening so people could blow their brains out and not watch although the scene design and photographic direction was excellent this story is too painful to watch the absence of a sound track was brutal the loooonnnnng shots were too long how long can you watch two people just sitting there and talking especially when the dialogue is two people complaining i really had a hard time just getting through this film the performances were excellent but how much of that dark sombre uninspired stuff can you take the only thing i liked was maureen stapleton and her red dress and dancing scene otherwise this was a ripoff of bergman and i m no fan f his either i think anyone who says they enjoyed 1 1 2 hours of this is well lying \n",
      "* * * * * * * * * \n",
      "3844\n",
      "major payne was really not very good at all despite being funny here and there the story was ridiculous and the acting was poor major payne s voice and temperament were especially annoying the idea was ridiculous and the things that the boys had to do in that film were even more ridiculous i would not recommend this film to anyone \n",
      "* * * * * * * * * \n",
      "4052\n",
      "it seems a shame that greta garbo ended her illustrious career at the age of 36 with this ridiculous mistaken identity marital romp coming off the success of her first romantic comedy ernst lubitsch s masterful ninotchka 1939 where she was ideally cast as an austere russian envoy garbo is reunited with her leading man melvyn douglas for a sitcom level story that has her playing karin borg a plain jane ski instructor who impulsively marries publishing executive larry blake when he becomes smitten with her once he makes clear that work is his priority karin inadvertently decides to masquerade as her high living twin sister katherine to test her husband s fidelity when he is back in manhattan it s surprising that this infamous 1941 misfire was directed by george cukor who led garbo to her greatest dramatic performance in 1937 s camille because this is as unflattering a vehicle as one could imagine for the screen legend only someone with carole lombard s natural sense of ease and mischief could have gotten away with the shenanigans presented in the by the numbers script by s n behrman salka viertel and george oppenheimer mgm s intent behind this comedy was to contemporize and americanize garbo s image for wartime audiences whom the studio heads felt were not interested in the tragic period characters she favored in the thirties however garbo appears ill at ease mostly as the bogus party girl katherine and especially compared to expert farceurs like douglas and constance bennett as romantic rival griselda photographed unflatteringly by joseph ruttenberg garbo looks tired in many scenes and downright hideous in her teased hairdo for the chica choca dance sequence the story ends conventionally but with the addition of a lengthy physical sequence where larry tries to maneuver his skis on a series of mountain cliffs that unfortunately reminds me of sonny bono s death roland young and ruth gordon in a rare appearance at this point of her career show up in comic supporting roles as douglas associates this movie is not yet on dvd and i wouldn t consider it priority for transfer as it represents a curio in garbo s otherwise legendary career she was reportedly quite unhappy during the filming i can see why \n",
      "* * * * * * * * * \n",
      "4109\n",
      "this is the worst movie i have ever seen i was deceived into thinking it might be good because a couple of my favorite actors are in it now i want to punch jason schwartzman in the face for taking this role i was physically ill after watching this film i really don t understand hollywood sometimes there are so many people trying to break in that i m sure you can skim off the top and get the very best that way the worst movie you make is equivalent to ferris beullar instead of this sludge the gags like the hair doll and blatantly ripping off jeans commercials added to the humorlessness of the film glad i avoided this film and watched it on tv this proves that you should avoid january releases at all cost \n",
      "* * * * * * * * * \n",
      "4245\n",
      "my wife is a fanatic as regards this show that being the case i bought her seasons one through three and season four is on order i personally think the show is one big farce the cast is equally bad alyssa milano should have stuck to the other trash movies she made such as poison ivy embrace of the vampire to name a few the other female supporting cast members are equally inept in their portrayals i ve seen better special effects in the old republic pictures serials i saw as a child i can understand why the male leads remained on the show for such short periods of time even though i don t know if it was their own choosing or not please please don t renew for another season as enough is enough bob\n",
      "* * * * * * * * * \n",
      "4435\n",
      "don t get me wrong i love david suchet as poirot i love the series as well as the movies but enough already re death on the nile everyone has done this one we know who dies we know why they die we know who the killer is we know how it was done so i say enough already mr suchet could have used that awesome talent in another one of agatha christie s novels i will say that the acting by all the actors was superb the sets were terrific and very realistic i especially liked david soul but i was surprised at how awful he looked i hope he doesn t look that way in real life i honestly can t remember from other movies whether the very end was the same somehow i don t think so i thought that was a rather brilliant touch whether or not ms christie wrote it that way i would much rather have that ending then wasting away in prison \n",
      "* * * * * * * * * \n",
      "4870\n",
      "average viewers looking for any sense of internal coherence in a film should probably give this one a pass it generates the same feeling as staring at a curious array of individual images that seem to have some relationship one to another but never coalesce into a totality while this isolative approach to creating a kind of cinematic montage may appeal to a few students or critics steeped in the inside language of contemporary filmmaking it is flatly irritating and condescending to us commoners who just fell off the haywagon an overt avoidance of accessibility may be the intentional hallmark of auteurs like kar wai wong and tarantino but to me it comes across as andy warhol warmed over the only redeeming characteristic i find is in the production values and them there just ain t going to cut it all by themselfs this is one of those productions in which you watch and listen and wait anxiously and in vain for some clever development of an idea or thought to sustain all the remarkable and beautiful individual scenes sorry the calligraphic credits unexpectedly begin to roll just as your interest begins to stir i get the same big yawn and let down reading what i guess are very knowledgeable and thorough comments about this film that never lead to anything truly comprehensible ideas and images without some external context are not my idea of fun call me a philistine roaming the streets of hong kong looking for a bowl of chop suey \n",
      "* * * * * * * * * \n",
      "4956\n",
      "near the closing stages of baby mama one of the central characters goes on to describe the basic outline of everything that came before and summarises that it was all just a mess i really couldn t say it any better than that and while the feature does have its odd ray of hope every now and again the vast majority of what is present is too neutered to be considered relevant and too unremarkable to be worth anyone s time a lacklustre cast mundane script and vague caricature characters ensure that baby mama certainly isn t taxing on the ol noggin but it never makes up for this through its proposed sense of humour consisting mainly of very routine cliché jokes based around an odd couple rich and poor trying to live with each other as they prepare to bring a baby into the world the film is far too esoteric to deliver laughs outside its very thin demographic as a story on finding love it s not that bad but playing this plot line as a side story of sorts to work alongside the comedy orientated odd couple tangent characterisation is notably weak resulting in a lukewarm romance that never bubbles as characters themselves both central figures are mildly amusing when put together in small spaces but when left alone quickly unravel and bare their emptiness so while we may eventually come to find the character s interactions with each other amusing at times the comedy never branches beyond distant chuckles we don t feel for the characters and don t find them inherently interesting but rather their dynamic unfortunately however although this dynamic works best or at least better than the individual personas as mentioned above it rarely stems outside of the typical confines of the odd couple formula kate tina fey is a successful business woman who has hired working class dumb blonde angie amy poehler to be her unlikely surrogate and after angie decides to leave hopeless husband carl dax shepard both eventually have to learn to live together despite their obvious differences yes it s the typical odd couple premise and one that we have already seen in this year s what happens in vegas yet what baby mama lacks that the aforementioned movie had is both chemistry between performers and semi layered characters kate and angie both fail to ever show much of a personality outside of their two dimensional outline and as such both performers are neglected to play out roles that demand chemistry to produce out of thin air in fact the movie s only real engaging performance and character comes from the underused talents of romany malco who gets lumbered with playing a door man of the few times that i laughed during baby mama most of those moments were because of this man and the remainder usually fell to shepard it s a rare thing of course to find a movie which embodies its script s themes in the way which its world is shot and presented to us through the camera and yet director michael mccullers goes from page to screen effectively enough yet for a film about babies multi million dollar business and cultural stereotyping this isn t necessarily a good thing baby mama is grade a hammy plastic tinsel town with capital bore topped with sugar so not only did i feel emotionally distant to the characters because of their two dimensional nature but i simply didn t care for the world they inhabited the dialogue along with sets costumes and the script s general themes are painted in pastel blues and pinks so much that all shades of humanity are lost in the director s incessant need to make his movie feel like a neutered fantasy these aren t characters and that isn t our world in any way so why should i care at the end of the day however a romantic comedy s ultimate gauge of success or failure comes down purely to its chemistry between its love interests and the frequency of its laughs baby mama has little going on in any of these departments of course to say that the film is without any value at all would be unfair i m sure female audiences in a similar boat as lead character kate may get a slight kick out of the proceedings but anyone else will probably just feel numb and probably bored in this respect baby mama avoids being unbearable but never convinces in being anything remarkable or worthy of a look to anyone outside of its immediate audience a comedic dud and a romantic mismatch baby mama is too light headed to be interesting and too shallow to be entertaining a review by jamie robert ward http www invocus net \n",
      "* * * * * * * * * \n",
      "5003\n",
      "in fact it s basically the same movie and they couldn t even get the time line of events correct maybe that was intentional due to laziness or not caring either way this thing is a real woofer it doesn t even deserved to be called a movie i viewed this as a so called second feature on the disc containing the original the boogeyman i thought my head would explode and i urge you to run as far in the opposite direction of this thing if you should be cursed with the misfortune of combing across it s path it should come with a warning label like warning may cause your i q to drop several points if you are within it s vicinity for me there s no doubt this thing is a 0 10\n",
      "* * * * * * * * * \n",
      "5118\n",
      "proof why hollywood conventions are in place stale dialogue underdeveloped and flat characters and a disjointed storyline are only part of the problems with this gangster classic wannabe an attempt to be daring and different but this appears to be a slap together attempt at recreating the magic of arthur penn s bonnie and clyde 1967 and george roy hill s butch cassidy and the sundance kid 1969 truly innovative filmmakers and films but falling well below the bar problems with storylines being self explanatory result in the need for a voiceover to explain problem sections the editing appears again to be an attempt to duplicate the previous classics but is occasionally disjointed and cause more problems for me technically unnecessary shots are thrown in to justify the filming of them but would have better served the viewer by sitting on the cutting room floor stills black white montages and period music are thrown in from time to time in attempts to either be different or to cover up for scenes that can t transition well or to replace scenes that just didn t work at all and again are reminiscent of butch cassidy and the sundance kid 1969 overly dramatic pauses between sentences random shots of surrounding scenery that wasn t needed for storytelling plus over the top acting of bit players and supporting actors was reminiscent of the backyard camcorder directors of the late 1980 s i was left wondering who was in charge of this film during production and during post production the playing of music in most two shots and close ups and then suddenly stopping in wide shots overly emphasized a weak musical score no sound editing was drastically apparent as the bulk of the film was gunshots doors footsteps and dialogue a style used in the late 60 s through the mid 70 s by new directors but lacking background noise causing it to seem artificial particularly the tire squeaks on dirt roads in my honest opinion the biggest problem of all is there are no likeable characters for the audience to route for nor were we lead to see as the protagonists of the story neither the gangsters nor the lawmen were characters i wanted to see win and neither were focused on as the hero a necessity for any story to work for me we know from penn s and hill s movies who the heroes are even though they are criminals we like them and want to see them get away i could care less who was on the screen in this film i got the impression that john milius was trying to give off a non historically accurate reenactment documentary of the events surrounding john dillenger s life from june 1933 to july 1934 his death to be fair there are some moments of good solid storytelling which are moments that shine forth brightly from the dark and dismal canister in which this film sits john milius gets better thankfully in future films where he doesn t seem to try to copy other filmmakers dillinger 1973 isn t a total waste as many stars and famous faces who were at the cusp of breaking out are involved with this directorial big budget debut but wait for it on a classic movie channel rather than spending money to rent or buy \n",
      "* * * * * * * * * \n",
      "5280\n",
      "wow the spookiest thing about this episode was the price of houses 40 years ago i ll preface by saying i m not a fan of narrated episodes if the story actors etc are worth their salt they should be able to convey the bulk of the narrative without having to read it out reminded me of personages who can t think off the cuff but rely on teleprompters the psychobabble was tedious and boring but some enjoy that kind of thing it s just not my cup o tea they could have kept the narrative but at least made it much more believable and interesting if it was coming from a psychiatrist or maybe a newspaper reporter or something niggling little things like peugeot being at the house which has a singular half circle driveway yet he seems to have parked his car in the tree he was standing under because it s nowhere to be seen on the road or on the property sloppy editing as she pulls into the driveway for what seems the 100th time exactly who are those 2 guys you see at 24m30s walking towards the car as she pulls into the driveway of the deserted house the dolly close ups were also overdone like some jr high drama student discovering the zoom function on his camera for the first time i could keep picking apart but that might get almost as boring as this episode was it kept dragging on and the true purpose seemed to be to use absolutely all the stock footage they had shot of elaine driving the newport convertible i fully expected to see the chrysler logo and a nice jingle play while a voice over told us all about the 8 track player automatic top etc the only good thing i have to say about his one is that it just ends abruptly no loose ends tied up nothing explained or terminated not that many would notice i suspect most had already changed the channel or dozed off by the end \n",
      "* * * * * * * * * \n",
      "5338\n",
      "yes this was pure unbelievable condescending babble we know that the french often have a skewed idea of the usa it s puritanism and views towards sex as an american hoosier who lives in france i have ample opportunity to observe these attitudes and while some of these preconceived notions may be true not one element of the midwestern town portrayed in this film rang real a man who has never had sex because he was told in high school 20 years prior that his penis is too big where in the world would you find that a juke box in a bar that plays only vintage bluegrass a town with maybe 16 people less than two hours away from chicago but with no major gas station no tvs in the home no mcdonalds no kids a population that knows each other s intimate details yet relentlessly gets together like one big family that hates each other the adult males plant whoopee cushions at the local cafe have farms but don t harvest kill the guy they don t like in front of everyone and seem to get away with it and all with equal emotion the liberated french girl who will screw the 17 year old virgin boy because of her sexual generosity the too much flesh guy who goes from getting off in cornfields by the mere breath of an illinois breeze to helping deflower this same 17 year old farm boy help i am so baffled and astounded by the absurdity of this film that i am not expressing clearly how ridiculous it is go see it for the a to z primer on what to avoid gosh i hope i didn t ruin it for you \n",
      "* * * * * * * * * \n",
      "5422\n",
      "good grief while i still maintain that manos the hands of fate is the worst piece of mental torture available hobgoblins came awfully close this this thing insults the audience at every opportunity at least films like space mutiny and future war can be enjoyed on mst3k this one was a struggle to get through i was literally writhing on the couch in anguish this thing managed to embarrass me alone even if you are a die hard mst3k fan and have made it your mission to see every single experiment think twice about seeing this one it s that bad \n",
      "* * * * * * * * * \n",
      "5608\n",
      "however the ladies of all ages will lap it up no doubt at least the opposite sex understand what it is to be a mother and most of us men try to fathom out what it is to be a father whether changing nappies is not at all my favourite occupation and trying to get those bottled baby foodstuffs into errant toothless mouths must rank very high on household duties preferably left to its mother has absolutely nothing to do with the matter some good interpretations here and a good story idea the handling of the matter limited to rather scanty tv production concepts gives the film a rather over mellowy taste with not much new to offer an insipid way of delivering the goods and in the end the outcome is so forseeable during the last 20 minutes or so even my wife dozed off and i was jumping up to the computer to get the on line scoring in the barcelona deportivo match hoping the away team would do something rather good they did this film did not better by far is mike leigh s magnificent secrets and lies qv which touches on the same subject matter but with brenda blethyn playing a far superior part \n",
      "* * * * * * * * * \n",
      "5771\n",
      "i came at this film with high expectations i was aware of greenaway s work and the tempest and was interested in an adaptation i first wanted to switch off after ten minutes but felt that it would be unfair there was a representation of a storm but where in your mind do you conceive a small boy peeing over a toy boat it is symbolic of what i continued another ten minutes my finger twitching over the off button somewhere something would capture my interest this is not shakespeare it is not cinema there is a time and place for it but i will not waste my time and there is no place for it in my studies of shakespeare after twenty five minutes i gave up and that was the end i then read all the comments on this website and the pretentiousness of the film is only matched by its defendants its a painting then put it in a gallery it s a ballet keep it on the stage then shakespeare can be done intelligently and the plays were performed to mass audiences they were accessible and this version helps put a wedge between shakespeare and the general population at large and i do not think that the bard would be happy with that \n",
      "* * * * * * * * * \n",
      "5816\n",
      "seriously what is this hooper has made such classic films like texas chainsaw massacre then he made this god awful film what happened did he dip into the crack a little too much this film is about some dude named sam who has the ability to set things on fire firestarter anyone the acting was godawful the plot was rubbish and the special effects were extremely rubbish they looked like something from the 70 s van damme should be pleased that derailed is no longer the worst film ever and what was with the ending he started glowing blue turned into a glowing blue blob sucked out his girlfriends fire and the film ended what was that huh when the film ended i hoped the dvd would spontaniously combust to save me from my pain stay away from this film don t think obey you ll thank me later \n",
      "* * * * * * * * * \n",
      "5877\n",
      "one thing that astonished me about this film and not in a good way was that nathan stoltzfus who seems to pride himself on being the major historian on the topic of the rosenstrasse was one of the historians working on this film considering how much of the actual events were altered or disregarded another reviewer said that von trotta said she never meant for lena to bed goebbels but in that case why did she give every impression that that was what had happened why not show other possible reasons for the mens release such as the disaster that was stalingrad or the nazis fear that the international press based in berlin would find out about the protest also why did the whole storyline play second fiddle to a weak family bonding storyline that has been done over and over again surely something as awesome as this could carry its own history in places it was as if the film had two story lines that really seemed to have little in common overall this film failed in its aim which was to draw attention to a little known act of resistance which is a shame because done better it could have had a major impact \n",
      "* * * * * * * * * \n",
      "5886\n",
      "i am from the dallas fort worth area and lived in arlington for a few years this movie was way off as far as making it look like arlington i saw mountains in the background of one scene texas doesn t have mountains i guess that happens when a movie that is supposed to be in texas is filmed in canada the accents are also really bad they should have gotten actors from texas to play the parts there a lot of aspiring actors from texas out in hollywood the movie is really sad though because it is a true story i pray that the killer is found and convicted the one good thing is that bc of her death we now have the amber alert to help find missing children quickly after they are abducted \n",
      "* * * * * * * * * \n",
      "5899\n",
      "please avoid this movie at all costs this is without a doubt the worst movie i ve ever seen most movies have at least one redeeming value this has none totally horrible \n",
      "* * * * * * * * * \n",
      "5951\n",
      "at the end of this episode holmes asks watson not to record the case for posterity for a good reason the super sleuth left his little grey cells sorry agatha at home for this tale there is no deductive reasoning no acute analysis of signs at crime scenes holmes bumbles along fifty yards behind the plot the dastardly cam is finally dealt to by an old frail in a manner that would have made charles bronson s heart swell with pride six bullets in the breadbasket in an ensuing chase a pursuer gets hold of one of watson s shoes mercifully the writer didn t decide to tack on the story of cinderella to lengthen the film the murderess holmes and watson escape scot free oh well it is a bit of a change of pace in late victorian london a bit of sixgun law \n",
      "* * * * * * * * * \n",
      "6024\n",
      "this wretched movie shows that not even some of gollywood s best can salvage a true landfill deposit i could spend much time describing everything that was bad about this effort but that would require more time and i ve already wasted 91 minutes watching it looking at it now after brando s death shows how tragic the life of one of our greatest actors had become donald sutherland why i have to fill more lines to get this accepted i have to fill more lines to get this accepted i have to fill more lines to get this accepted don t waste your time with this movie i m overdue to do something interesting bye \n",
      "* * * * * * * * * \n",
      "6088\n",
      "i watched this movie just a little while ago and i found that this movie was terrible it moved very slowly and was hardly entertaining sorry for all those that liked it this is only my opinion \n",
      "* * * * * * * * * \n",
      "6172\n",
      "this film is not deserved of the next few minutes i will spend criticizing it but i know many people like myself rely on imdb com to assist in deciding on films for that reason alone i am writing this live feed is like an asian version of 1976 s the incredible torture show aka blood sucking freaks http www imdb com title tt0077247 torture dismemberment murder cannibalism sure it s all here along with a third grade script pathetic acting and a perverted failure of an attempt at black comedy the film takes place in china yet everyone speaks english there is an abundance of girls in the film who are horrified by the butchering of dogs in a marketplace yet are sexually excited about entering a porno parlor one gal who is disgusted by the filth in a restroom stall moments later is still there having at it with her friends boyfriend how he even got in there might be the only engaging thing about this whole film the film is absolutely awful even for a b movie even if you were to download it for free it would be an insult to your hard drive \n",
      "* * * * * * * * * \n",
      "6328\n",
      "my favorite quote from crow was when the car was going off the cliff the movie is so bad even the car wants to get out of it this had to be the funniest movie i have ever seen it was seriously out there to scare you which makes it even funnier if it weren t for mystery science theater i wouldn t be here today p \n",
      "* * * * * * * * * \n",
      "6354\n",
      "i ve given kôhî jikô a low score not because it was a bad movie but because it doesn t do anything worth praising i ve not seen any of hsiao hsien hou s work before but for the uninitiated me included kôhî jikô is advertised as a homage to yasujiro ozu a japanese director whose last film was way way in 1962 the film is an extremely sparse work containing very little dialogue story music or emotion yo hitoto plays yoko a jobless wandering character who spends her time in her local coffee shop or loosely investigating a taiwanese composer she likes tadanobu asano plays her friend who works in a cd shop and occasionally indulges his otaku interest in trains and that s about all it we watch as yoko drinks coffee alone walks around waits for a train catches a train falls asleep on the train the kind of mundane reality anybody in japan can see on a daily basis hou captures these ordinary moments of these characters life but without any meaning to these vignettes it s an entirely pointless film to make or watch \n",
      "* * * * * * * * * \n",
      "6464\n",
      "this is probably the worst movie i have ever seen yes it s even worse than dungeons and dragons and any film starring kevin costner chris rock looked very uncomfortable throughout this whole film and his supporting actors didn t even look like they were trying to act chris rock is a wonderful stand up comedian but he just can t transfer his talent to this film which probably only has two strained laughs in the whole picture if you haven t watched this film yet avoid it like the plague go do something constructive and more interesting like watching the weather channel or watching paint dry on a brick wall for chris efforts i give it a 2 10 \n",
      "* * * * * * * * * \n",
      "6614\n",
      "most of the episodes on season 1 are awful there is no comparison to twilight zone or outer limits as they programs actually had decent story lines most of amazing stories are well dull not amazing in the least go rent or buy the twilight zone series i have heard season 2 of this series is much better also for some reason on the dvd s they cut out the ray walston parts which further diminishes this compilation the one cool thing is to see actors and actresses when they were younger in 1985 most of the story lines are very predictable though and the series could of been better with twists and turns that left you wondering \n",
      "* * * * * * * * * \n",
      "6636\n",
      "some of the worst least natural acting performances i ve ever seen which is perhaps not surprising given the clunky lame dialog given to the one note characters add to that the cheap production values and you ve got a movie that doesn t look like it even belongs on television one doesn t expect much from a lifetime movie especially one this old but this is nearly unwatchably bad plot wise it s a dreadful clichéd romance of a type even harlequin would consider beneath them it s possible to guess how the remainder of the movie will go by simply watching the opening couple of scenes surprise the only female character who gets any focus and the mysterious stranger end up falling in love \n",
      "* * * * * * * * * \n",
      "6859\n",
      "i watched peter jackson version of lord of the rings when i was half way through reading the two towers and i thought it was absolutely brilliant at this time the animated version of the lord of the rings was released on dvd but i told myself that i will finish reading the two towers and return of kings before watching it as i thought it showed the whole of the trilogy so when i did finish the trilogy i went and brought the dvd which was a stupid idea because it was absolutely rubbish i was acturly bored 20 minutes in to it which was really strange because i love the book and i am shooked that the maker of this film could of even thought of fitting at least 1 and a half of the books in to a 2 hour 8 minute film none of the characters had any emotions when they were talking and they seemed to be reading it of a page even my favourite character who is gandalf did not seem interesting at all the animation was the only okay in parts of the film except for the orks they looked awful and aragorn and sam face i don t know way this film was released because there was not even a proper ending but maybe it was good that the maker ran out of money because the film couldn t of got any better i just hope that nobody judges the books by this film 3 10\n",
      "* * * * * * * * * \n",
      "7049\n",
      "as a kid my friends and i all believed that gymkata was the most violent bloody movie ever made i m not sure who started that rumor it was probably born out of the frustration of 10 year olds who weren t allowed to see it for one reason or other years after gymkata was released it became a perennial late night cable movie and as a result i ve been able to make up for lost time i must have seen scenes from this dreadful excuse for a film over a dozen times and i can always spot it from 1 2 seconds of screen time however aside from the forced coupling of gymnastics and martial arts the bad dubbing the stiff dialog and the outrageously difficult story line the film has some things going for it with all that s bad about the movie visually the sound is actually pretty entertaining never before has a punch or kick landed with so little force and so much volume the canned kung fu sounds are cheeky but the slowed and pitched down music and the nearly 5 minute slow motion scene are truly weird the chase through the city of demented blood thirsty villagers isn t really tense as much as it is irritating and there are enough bad wigs and extras who all but look into the camera and wave to make this train wreck a little fun could it be headed for cult classic status where is mst3k when we need it \n",
      "* * * * * * * * * \n",
      "7070\n",
      "this seemed an odd combination of withnail and i with a room with a view sometimes it worked other times it did not tragedy that they changed the name for the us release though keep the apidistra flying is much better than the nothing title a merry war acting was okay script was okay overall it was a mediocre film \n",
      "* * * * * * * * * \n",
      "7077\n",
      "i watched this film version of r d blackmore s classic novel as a substitute until the 2001 a e version was released on video and what a poor substitution it proved to be this version does not have the authentic i feel like i m there aspect of the a e movie the actors are for the most part wooden with sean bean the exception and the romance seems forced and contrived in fact there is no kissing until the end of the movie the triangle between john ridd lorna doone or lady lorna dugal whichever you prefer and the evil carver doone isn t mentioned or expanded upon we don t get much insight into carver here or as to why he has some if any romantic feelings for lorna this movie cuts out many of the key and interesting characters of the novel such as counsellor doone and john s sharp tongued youngest sister lizzie which were crucial to the plot the screenplay itself is lacking in conviction the political intrigue also doesn t figure in the script the way lorna came into being with the doones isn t true to the original story now don t get me wrong clive owen is a handsome and talented actor watch gosford park and king arthur for confirmation but he comes across as bland and stoic throughout and long hair it may have been a bad wig just doesn t suit him polly walker is a lovely and accomplished actress see enchanted april and patriot games in which she also costarred with sean bean but she appears colorless and lackluster she has a cold sore on her lip that make up can t hide and the costumes don t seem authentic the late robert stephens does a respectable turn as sir ensor doone although he only refers to lorna as his favorite rather than his granddaughter which she was reputed to be in the book also it seems to me that owen and walker are too old for their roles maybe it s the make up and the scenery is brown cold gray and barren without so much of a hint of a sunny sky i understand that it is set in southwest england but it is green there and they do get their sunshine the portrayal of tom faggus character and his death which doesn t happen in the novel depresses the film even more the one positive note is sean bean s performance as carver although it doesn t even come close to matching aidan gillen s portrayal in the a e movie bean does make one mean villain in short watch this only if you ve got a few hours to kill but don t expect anything exciting or for it to be true to the novel see any other version but i highly recommend a e s film over this tired adaptation \n",
      "* * * * * * * * * \n",
      "7248\n",
      " a death at a college campus appears to be a suicide but is actually a cover for murder the dead man s roommate finds himself embroiled in a mystery as he tries to uncover the truth behind the young man s murder twists and turns as well as some false leads makes this a tough case for our collegiate hero to solve let alone keep out of the clutches of the killer according to the dvd sleeve s synopsis the stars may be bigger than the movie handsome charles starrett as ken harris who has a small lingerie scene became one of the top western stars of the forties peaking in the return of the durango kid 1945 the man playing his father robert warwick as joseph harris was one of the most respected actors of the teens beginning with his performance in alias jimmy valentine 1915 watch out for red herrings a shot in the dark 2 1 35 charles lamont charles starrett robert warwick james bush \n",
      "* * * * * * * * * \n"
     ]
    },
    {
     "name": "stdout",
     "output_type": "stream",
     "text": [
      "7296\n",
      "the idea was awesome the actors were incredible the story could of been very scary but the writing was poor and there was no depth i couldn t really get into this movie i couldn t feel for the characters there were a lot of cliffhangers and the movie just ends very weirdly was it a happy ending i don t know was it a sad ending again i don t know you leave the theater feeling unsatisfied the movie had so much to give but couldn t just because you can edit doesn t mean you should right i wouldn t really recommend this movie because you just can t say that you left the movie feeling like it was completed you ll just be confused trust me you will probably thank me if you don t watch this movie 3 10\n",
      "* * * * * * * * * \n",
      "7401\n",
      "this film seems to be completely pointless there is no reason why anything that happens in it happens as if it was written by a small child who got bored halfway through and thought how can i wrap this up and what were jared harris and christopher walken thinking did they do it for a bet i couldn t tell you the plot i m not entirely sure there is one to be quite frank but if there is it didn t register jared and his bird go to ireland after she falls down the stairs while lashed up as you do they go to a house with a very annoying small girl in it meet christopher walken who has dug up some ancient woman preserved in peat he brings her back to life for no other reason than it continues the story and she shows her gratitude by immediately icing him from then on it all gets a bit silly a couple of hours of my life that i d like back \n",
      "* * * * * * * * * \n",
      "7515\n",
      "mr perlman gives a standout performance as usual sadly he has to struggle with an underwritten script and some nonsensical set pieces larsen is in die hard mode complete with singlet and bulging muscles i m sure he could do better but seems satisfied to grimace and snarl through his part the lovely erika is very decorative even though fully clothed and shows some signs of getting acting at last sfx are mainly poor cgi and steals from other movies the shootouts are pitiful worthy of the a teamnot even worth seeing for perlman avoid \n",
      "* * * * * * * * * \n",
      "7540\n",
      "i understand wanting to make a movie that is edgy and different i understand the previous reviewer comments that this is a miss understood movie my point is as soon as this movie ended my first comment was this is what happens when a rich princess wants to be a movie star and has no talent she uses daddy s money to make a movie she wrote directs and pays for obviously to close to the movie to realize there was no character development and no directions such as a beginning middle and ending the voyeur part was good and edgy but what was the point i saw a women go to a house find some pictures screw the caretaker come out side on a very cold night not believable to check on noise and runs over her caretaker lover movie ends some one educate my ignorant arss i really want to know what the point is what was the directors vision why no development of the dead lover why no background on the caretaker what is the point of the night vision what is the point of the lipstick on the car why a dead caretaker why tell us about an escaped mental patient peeping tom what s with the urn oh and the lamp is that suppose to signify whose house this is territorial why why would the caretaker feel like it s his house that aspect was never pursued as for william defoe i rented this movie because he was in it and known for edgy characters write back and do tell me what i need to learn i am just a mom in middle america who loves movies chris \n",
      "* * * * * * * * * \n",
      "7561\n",
      "first of all i became dissy after watching this movie for five minutes cause of the bas screenplay i don t think this movie has any purpose it s boring from the first minute to the last i don t understand why this movie scores so high i gave it 1 10 but actually it s not more wurth then 0 10 \n",
      "* * * * * * * * * \n",
      "7600\n",
      "i heard so much about this movie how it was a great slasher and one of those early 80 s movies that die hard fans of most slasher movies just had to see well i rented it and i have to say that although it kept my attention as far as the suspense goes for most slasher films such as april fools day friday 13th and prom night this film could have been right up there with the above mentioned only it lacked true enthusiasm and potential from the characters as well as the on going story characters that i found were unfortunate to be in this movie was the weirdo guy with the frizzy hair that kept creeping around the dorm and of course leading up to his true climatic role during the end with he faces the killer another would be the dirty scruffy looking guy with the jean jacket he could have played more roles in this movie that might have made the movie more interesting instead the movie played this guy as just another loser out there making unknown calls while he sleeps with his girlfriend and then drops his part and cuts him off until the end which was a waste i was disappointed in his part in the end as far as the true identity of the killer goes when the identity was released as to who he was i just laughed but it was all to obvious and he really made a true jerk out of himself as well as an annoying character after his true intentions were revealed this movie should be one to at least watch once for all slasher fans but don t spend your hard earned money on it in some rare hard to find collectors inventory \n",
      "* * * * * * * * * \n",
      "7634\n",
      "it s like what other dracula movies always do the minions of dracula always on dracula s side which is what disappointed me at the ending regardless the person wants to stay a vampire or not i would like to see something like in the first movie that the minion fights against her master it is much interesting since you can almost predict how the story goes than just either the priest or d win the game we need some surprising plots \n",
      "* * * * * * * * * \n",
      "7656\n",
      "as a mystery science theatre 3000 fan i can withstand any motion picture that can be foisted upon me but there is absolutely no reason for this rated super action in the blockbuster video section and given the dreaded restricted viewing sticker i m assuming these are the only methods that film maker ha robert napton could use to get at least 4 50 from one unsuspecting person shame on you robert napton shame on you for exploiting these poor mexican actors who you probably promised hopes for making it big in american cinema you are a disgrace there isn t one moment in this movie that holds the slightest bit of action did you use snot on these people oh look they re having a rave in a field like all 6 of them and isn t that an asian guy in the background why is it always daytime why did it take 1 2 of the movie to show anything and more importantly why did we watch the other 1 2 ps you owe me 4 50 \n",
      "* * * * * * * * * \n",
      "7774\n",
      "this series is one of the worst shows i have ever seen terrible acting terrible effects terrible writing you get my drift the stories are so far from the legend of robin hood it s amazing looks like they just wanted to use the name robin hood to attract an audience it might as well have been called new adventures of mr bland acting someone commented before me that if you had imagination you d love this show that is a horrible approach to a tv series a visual media like this should spark your imagination you shouldn t have to force your imagination into something to make it good that would be like the simpsons episode where they try to brainwash homer with a religious propaganda movie and he starts talking about who killed who or whatever if a movie is boring i just make up my own story in conclusion absolute human waste \n",
      "* * * * * * * * * \n",
      "7810\n",
      "i read the back of the box and it talked about mary shelley and percy shelley and lord byron i thought wonderful this will be great i was so wrong the story was all screwed up in fact i still don t get it it just seems to me that all the characters did was drink smoke opium and have sex not that those aren t good movie qualities but please where was the story i made myself finish the movie and yes it did pick up towards the end but by then the movie was almost over rent it if you really want to just don t trust the back of the box \n",
      "* * * * * * * * * \n",
      "7861\n",
      "crime boss is directed by alberto de martino an italian crime drama partially filmed in hamburg germany an easily forgotten movie even in spite of a good car chase sequence this flick seems to lumber on almost aimlessly a new don takes over a powerful mafia family and finds himself fighting for his own life unwritten laws and ethics of the mafia code make it hard to trust in anyone especially when millions of dollars are at stake brutality and violence breed the same in return this can not be put on a shelf with the real gangster epics just the look of the film brings back memories of american drive in fare even the popular american actor telly savalas can t boost the calibre of this crime drama antonio sabato also stars with paola tedesco guido lollobrigida serio tramonti and piero morgia \n",
      "* * * * * * * * * \n",
      "7896\n",
      "whatever possessed guy ritchie to remake wertmuller s film is incomprehensible this new film is a mess there was one other person in the audience when i saw it and she left about an hour into it i hope she demanded a refund the only reason i stayed through to the end was because i ve never walked out of a movie but i sat through this piece of junk thoroughly flabbergasted that madonna and ritchie could actually think they made a good film the dialogue is laughable the acting is atrocious and the only nice thing in this film is the scenery ritchie took lina s movie and turned it into another blue lagoon this is a film that you wouldn t even waste time watching late night on cinemax time is too precious to be wasted on crap like this \n",
      "* * * * * * * * * \n",
      "7960\n",
      " warning contains many spoilers let me start by saying i have a huge respect for gillian anderson s incredible talent as a varied and versatile actress which is why i cannot comprehend her reasons for agreeing to make this film once she saw the script or lack thereof the premise of the film was in my opinion a great idea and there were some genuinely thought provoking themes in there but it ended up like a collapsed soufflé it exemplifies why i hate 99 of british cinema it feels too long it s tedious for the most part and not a lot happens after the first twenty minutes just when you think there s a chance of it picking up some speed it disappoints like paula radcliffe running a marathon with little imaginative directing and a minimalist plot there isn t much to keep the audience from nodding off into their popcorn as for the script i can only surmise that the writer was trying to save a few trees with the average scene reading something along the lines of alice f off adam stares adam runs off into woods alice follows alice adam adam i suspect that word for word the actors probably got paid more than kate moss did for her virgin mobile adverts what few lines there were didn t have a lot of variation with a frequent use of the f word that would make bridget jones s friend shazza proud there is little establishment of the main characters before the main sordid event which leaves the audience lacking much sympathy for the characters beyond an automatic oh that s terrible reaction alice isn t the kind of woman who courts sympathy either she s got a great job an expensive london apartment with roof space to die for yet she comes across on screen as conceited bitter and dissatisfied before her life takes a turn for the worst after the attack a few layers are peeled back which sort of explain why she is this way to start with she grew up with a tough as old boots soldier who thought that teaching her how to shoot his gun was the ultimate expression of love so instead of following in his footsteps she ran away to the big city in search of something to make her feel like her life is worth living instead she found a group of stereotypical middle class toffs who look down on anyone not rich enough to drive a lexus and the luxuries that come with an integrated security entertainment system i e becoming mrs robinson to a wanna be cockney wide boy electrician someone pass me a tissue the one saving grace of this character is that she is played by gillian anderson in the hands of a lesser actress she would ve been intolerably one dimensional but ms anderson actually manages to inject a few fleeting moments of humanity into this otherwise lifeless human being most notably when she s sincerely apologising for her road rage in a vain attempt to stop her attackers from continuing their assault i can t say that adam fared much better either danny dyer played him well as a fish out of water jack the lad but a good performance couldn t save him from both the lack of a script and the total absence of any character background this film relied mostly on shock value but the timing was off and it felt far too engineered from beginning to end as for the shock the most shocking thing about this film is the unashamed demonstration of how painfully thin ms anderson has become it was almost as unsettling to see as the brutal attack scenes on a side note only in a british film would a gang of violent sex attackers take the time to offer each other contraception before continuing to cheer their mates on talk about stiff upper lip taken to the extreme if this is the kind of film that the national lottery is donating money to make then i m not surprised that fewer and fewer people are choosing to spend their pound each week saying that i hated this film is giving it too much credit i didn t care enough about any of the characters to warrant that strong an emotion i want that one and a bit hours of my life back please \n",
      "* * * * * * * * * \n",
      "7970\n",
      "i m only rating this film as a 3 out of pity because it attempts to be worthwhile i love to praise a great movie and i m not biased toward male movies legally blonde was an excellent film georgia rule on the other hand was a disorganized weak poorly written unrealistic example of movie making at its worst by the end of the film i didn t care who was lying or if anything was resolved the most important thing in a film is a good story this story is weak and never develops just because the subject matter is deep doesn t mean the story is good a good story has dynamic characters a dynamic character is one that experiences a major character change and is primed for that change over the course of the movie in georgia rule the character changes were abrupt and undeveloped secondly there were too many attempted dynamic characters pulling off a really good dynamic character is a tough job and takes time you ve only got a couple hours in a movie that means that too many attempted dynamic characters will get too little attention to their personal change even if i ignore the poorly written story and the litter of weak dynamic characters i can t even say i liked anyone every character was a mess that s fine if your re writing american beauty but not when you re attempting a dramatic comedy georgia was a horrible mother her daughter was a horrible mother and daughter and lohan was a horrible excuse for a human being no i m not cutting her any slack because she was molested crap happens to everyone and we re all responsible for our own actions the dudley do right mormon kid should have had the guts not to compromise his religion and commitments and simon i mean seriously what kind of guy lets a 17 year old girl who s been molested just stay over occasionally unless he s an actor or a politician this movie is worth watching if you want to remind yourself what good movie making is not \n",
      "* * * * * * * * * \n",
      "8299\n",
      "there s plenty to appreciate here spectacular locations and flying sequences period costumes props and sets and competent writing and acting however to enjoy a drama we need at least one principal who exhibits some qualities that we can like or admire in this bunch of catty snobs we found only one character who is at all likable a hapless enlisted man in a fleeting peripheral role as their helpless victim from the reviews here it is clear that we are completely out of step but we did not find their malicious schoolgirl behavior amusing or entertaining even the dog is detestable we threw in the towel after two of the six episodes so you should discount these observations accordingly but what i could find written about this mini series gave us no cause to expect character transformation or redemption \n",
      "* * * * * * * * * \n",
      "8398\n",
      "i was so disappointed in this movie i don t know much about the true story so i was eager to see it play out on film and educate myself about a little slice of history with such a powerful true story and great actors it seemed like a surefire combination well somewhere the screenplay failed them it was so scattered is this movie about his childhood his love life his own disability his speaking ability his passion for the disabled i m sure there is a way to incorporate all of those things into a good story but this movie wasn t it i was left cold watching characters that were unlikable not because of their disabilities but because of their personalities other small gripes 1 the heavy handed soundtrack it s the seventies we get it already 2 if he s such a phenomenal public speaker why weren t we treated to more than a snippet here and there and even then mostly in montages \n",
      "* * * * * * * * * \n",
      "8524\n",
      "they should have named this movie blonde women that needed to get their roots colored also the main character geeze the too tight sweaters the giggling thought the guy did a good job though i keep hoping we ll find a good 8 star christmas movie to watch this week the dart throwing had to laugh at that too we ve still got 3 more on the dvr to watch maybe we ll get lucky oh yeah i figured the guy out pretty quickly and nailed it when he picked up the flowers and then drove out with his cousin i told my daughter they were on their way to the cemetery and how stupid was it that the two gals followed them there spying on them creepy \n",
      "* * * * * * * * * \n",
      "8534\n",
      "you might be a bit confused if you watch this silly made for from the beginning since the credits list susan dey as special guest star um why would a one off mow like this have a guest star well if you stick with it you ll find yourself paying attention to little else but ms dey s butt wiggling in a flowered bikini as the partridge family house babe frolics on the beach to which that imaginative title alludes susan s derrière is especially compelling when she shakes it at the camera while teasing and tickling her pseudo disaffected brother in one mildly incestuous scene sadly susie and her tush fight a losing battle the jiggle tv craze that might have put that bottom over the top was three years off so that sweet booty just gets a supporting role in 1976 fat freddy silverman would have put that behind right out front and used this flick as susan s audition tape for charlie s angels as is our susan was denied cheesecake immortality and had to settle for a very commendable career playing somber neurotic women the view beyond susan s heinie it must be said is not very compelling the scenery is nice and photographed in a bizarre hazy way that briefly fools you into thinking there might be some quirky creative intelligence at work behind the camera nope it s just a typically suspense challenged 70 s made for tv thriller that allowed weekly series stars to make some extra cash and collect some cable residuals though they obviously didn t know that at the time and show off their range here we re treated to a tv scale nuclear family squaring off against tv scale thugs who can t decide whether they re a motorcycle gang or a hippie cult thus the filmmakers split the difference by putting them in dune buggies and have never learned one of the primary lessons of 1970s television don t mess with dennis weaver see mccloud and duel the only potential for depth in this movie is in the aforementioned teenage son character of steve played by the long forgotten if ever remembered kristoffer tabori who is supposed to be rebellious and troubled and might feel some sympathy for and attraction to the lawless mob that is supposedly menacing his family but steve as played by tabori gosh why didn t we see more from this wunderkind is actually just grumpy and moody and isn t one bit conflicted when big d gets serious and draws a line in the proverbial and literal sand for the sleep deprived and susan deyniacs there must be some of you out there only \n",
      "* * * * * * * * * \n",
      "8709\n",
      "loyalty to peter falk is all that kept me from giving this awful picture the 1 it deserved for that matter loyalty to mr falk was what kept me watching this film all the way from heads to tails even if you forgive all the glaring errors this was just plain the poorest excuse for a made for tv columbo film ever i m glad i watched it on tv for free would have hated to have coughed up the bucks for a print \n",
      "* * * * * * * * * \n",
      "8823\n",
      "alas poor hamlet i knew him dear reader and let me tell thee this version sucks i don t know who of all people put up the money for this flotsam but i hope that they re proud of themselves they took the classic play and turned it into the most boring melodrama imaginable this version is quite literally so bad that not even the presence of a great thespian like maximilian schell in the title role can save it this movie s only redeeming quality is that it made great fodder for mst3k mike servo and crow had a lot of fun with this one but either way i m sure that shakespeare had he been alive when they made this would not have wanted his name associated with it this hamlet is not even so bad that s it good it s just plain bad absolutely dreadful \n",
      "* * * * * * * * * \n",
      "8839\n",
      "there is not a speck of entertainment in this entire film there s not one scary funny or even interesting scene in this film it advertises itself as a horror then goes on to call itself a comedy it doesn t even attempt humor neither does it attempt to be scary in order to not be bored by this film you would have to be one of the most easily entertained people on earth if you like this movie even a little bit than you have no standard for what you watch at all i m having a very difficult time trying to understand what the filmmakers were trying to accomplish with this its not funny scary shocking or intriguing so was it supposed to be a drama because it really wasn t dramatic either please just do yourself a favor and don t watch this film life is too precious to be wasting 90 minutes of it watching this \n",
      "* * * * * * * * * \n",
      "8855\n",
      "this movie probably had some potential for something my bewilderment is how these utterly prosaic unfunny themes keep making it to theaters it s as if ideas are being recycled just because generations are truly the decerebrate oafs behind most films are like dogs they return to ingest their own vomit well they re 19 bucks richer now because of me this was not at all imaginative there was no redeeming moment anything remotely funny was shown in the trailer and nothing amusing was in the trailer performances were strained especially molly s totally unconvincing what was theoretically supposed to be some comic relief was the homoerotic friend with a penchant for disney films none of his analogies hit home his little moral speeches were flat i was literally waiting for them to go on to say something meaningful only to find out he was done the so called hard 10 is the most insipid plastic creature there is apart from having a horse like face with a weird smile i honestly found her friend patty referred to as the hamburglar to be much better looking than her but then again gentlemen prefer brunettes well anyway the whole premise is that society is superficial and if love is true it transcends all social facades the way they showed this with a dude shaving another s scrotum and the million times mutilated and beaten to death horse premature ejaculation routine with obvious allusions to american pie and happiness the latter in the disgusting scene denouement involving the family dog i feel as if the movie was like adjoining ridiculous jokes into an unformed wretched ball of raw sewage goes to show marketing can push anything out there shine whatever fetid mass and call it gold people will come worked for me done with tirade \n",
      "* * * * * * * * * \n",
      "8911\n",
      "how this piece of garbage was put to film is beyond me the only actor who is at all known to me is judge reinhold an accomplished actor whose presence is merely a justification for putting it into production i don t even think it is worth a nomination for a rotten tomato award this film really does make b movies a cinematic enjoyment a car travelling along the freeway with police in tow and no one knows how to stop the car yeah right the script must have been written on the back of a cigarette carton most made for tv movies are awful but this redefines the word check out the acting skills of the bridge operator pure oscar material \n",
      "* * * * * * * * * \n",
      "8963\n",
      "the second renaissance part 1 let s us show how the machines first revolted against the humans it all starts of with a single case in which the machines claim that they have a right to live as well while the humans state a robot is something they own and therefore can do anything with they want although an interesting premise the story gets really silly from then on with violent riots between the robots and mankind somehow it doesn t seem right as another reviewer points it it s all a little too clever the animatrix stories that stay close to the core of the matrix in particular osiris work for the best as for second renaissance part 1 i d say it s too violent and too silly 4 10 \n",
      "* * * * * * * * * \n",
      "9049\n",
      "in my opinion this movie s title should be changed from only the brave to all about lane i went to a screening of this film a few months ago and was quite disappointed with the outcome although i appreciate that the director made a movie about the men of 442nd a subject matter that long deserved addressing in the film industry the acting in some parts of film was quite stale the performances of marc dacascos tamlyn tomita and jason scott lee were all great however the director should have never put himself as the main character in the movie sorry lane you are just not a film actor stick to what you re good at theater acting gina hiraizumi s performance in this film was also horrible she should never have been given a speaking role and her looks were unfit to play the part of a miss nisei queen there were other young actresses in the film who were naturally beautiful and whose performances were wonderful why weren t they cast for that role another major problem with this film were its action sequences the japanese american soldiers don t look like they were fighting german soldiers let alone anyone granted this was a low budget feature but since this was a war based film isn t it important to show some actually fighting this film was a worthy attempt but definitely not worth a major distribution \n",
      "* * * * * * * * * \n",
      "9098\n",
      " then you d better not watch this movie they ve completely ruined the premise of the show in the movie the duke boys are idiots daisy is trampy roscoe is sinister boss hogg is capable uncle jessie is a criminal only cooter and flash are true to the original characters at least enos is kinda close at one point they open the doors to get into the general lee nuff said the original show may not have been great tv but it was entertaining and the characters made sense this movie is like dumb dumber meets the simple life \n",
      "* * * * * * * * * \n",
      "9130\n",
      "well where to begin let s just say this avoid this movie at allcosts it s based on a cartoon series the movie makes the cartoon looklike hamlet filled with emasculated actors who seem embarrassed to behere lousy camera work terrible music and enough product placement tomake you want to never visit yahoo again this movie is really thebottom of the barrel to quote the new yorker matthew broderick andrupert everett mug their way through this picture with the gay abandonof men who have spotted a rare species of paycheck in the distance they should pay us some of the millions they earned for watching it awful \n",
      "* * * * * * * * * \n",
      "9372\n",
      "antonioni by making this film had assumed the role of papa smurf to all the little long haired american radical student smurfs he had taken them under the guiding protection of his european communist wings showing appreciation and support for their confused american ways these smurfs are red and wear blue not the other way around the radical smurfs were happy to get the guidance of a wise old man with gray hair who regularly preys to the god of all long haired smurfs lenin the communist another wise old man whose beard made the smurfs take him even more seriously for it symbolized something wise though they did not quite know why they regarded the beard to have this kind of deep effect on them castro another wise bearded man has often profited from this confusion and exuded magical powers with his beard over his naive overseas admirers not to mention che guevara that beard has a certain je ne sais pas quoi about it makes one want to immediately embrace marx and his lovely pacifistic teachings the film starts with a muddled meeting of radically stupid radical students who engage in dialogues that truly redefine the word confused as confused as a blind folded dog falling of a high story building into a bottomless pit suddenly the movie s hero well antonioni s hero rises up and says something to his pathetic left wing peers and then leaves hoping that this display of mega coolness will improve his james dean image and vastly increase his chances of getting laid with the best chicks in the next mass hippie orgy eventually he gets into trouble with cops i e pigs at a rally and spends the movie under the blue american capitalist skies looking for freedom or something like that antonioni s predictable assault on capitalism is not only intellectually hollow but has or had nothing new to offer it s just the same old trigger happy one dimensional cops businessmen discussing business deals and what s wrong with that isn t that how antonioni s movies get made and endless shots of tv commercials and billboards advertising the oh so morally decadent products for the abhorrent selfish and greedy right wing rabble population who thinks of no one but themselves their families their work and their children papa smurf antonioni just like his long haired smurfs and smurfettes of the late 60s failed to notice the most obvious and vital aspect about their silly movement they were allowed to have their laughable meetings and express their anti establishment opinions freely within that very establishment whereas the students in those countries whose left wing systems they admired did not and still do not by far the greatest irony about the hippies and antonioni naturally failed to realize this as well his judgment being clouded by cocaine snorting and an excessive intake of lsd is that hippies were are the garbage residue of capitalism this is an incredible irony only in a successfully functioning capitalist system can you find that species called hippie a spoiled ungrateful and selfish bunch of middle and upper middle class losers the film itself seems to go on forever antonioni takes his sweet time with getting on with it while including overlong scenes of pointlessness with a high dullness factor his attempts at symbolism are annoying and trite his statements are highly dubious at best this film is antonioni s way of saying that violent revolution is the solution and this is what we get from an old saturated filthy rich fat film maker who lives in villas and dines in the best french and italian restaurants i don t remember seeing any major western movie about the tiananmen massacre of thousands of students in china but when one western student gets shot for waving che guevara s face into all our faces we get ten major films about it at once i suppose this means that a chinese life is worth a thousand times less than a western one at least to the left wing hypocrites who infest movies if you re a marxist neo hippy and disliked this awful review please klick no below \n",
      "* * * * * * * * * \n",
      "9519\n",
      "quite what the producers of this appalling adaptation were trying to do is impossible to fathom a group of top quality actors in the main well cast with a couple of notable exceptions who give pretty good performances penelope keith is perfect as aunt louise and equally good is joanna lumley as diana all do well with the scripts they were given so much for the good the average would include the sets nancherrow is nothing like the house described in the book although bizarrely the house they use for the dower house looks remarkably like it it is clear then that the dower house is far too big in the later parts the writers decided to bring the entire story back to the uk presumably to save money although with a little imagination i have no doubt they could have recreated ceylon now to the bad the screenplay this is such an appallingly bad adaptation is hard to find words to condemn it edward does not die in the battle of britain but survives blinded he makes a brief appearance then commits suicide why loveday has changed from the young woman totally in love with gus to a sensible farmer s wife who can give up the love her life with barely a tear less emotional than brief encounter gus a man besotted and passionately in love is prepared to give up his love without complaint walter mudge in the book turns from a shallow unfaithful husband to a devoted family man jess is made into a psychologically disturbed young woman who won t speak aunt biddy still has a drink problem but now without any justification the dower house is occupied by the army for no obvious reason other than a very short scene with jess who has a fear of armed soldiers whilst miss mortimer s breasts are utterly delightful i could not see how their display on several occasions moved the plot forward the delightfully named nettlebed becomes the mundane dobson the word limit prevents me from continuing the list there is a sequel which i lost all interest in watching after this nonsense and i wonder if the changes were made to create the follow on story it is difficult to image that rosamunde pilcher would have approved this grotesque perversion of her book presumably she lost her control when the rights were purchased \n",
      "* * * * * * * * * \n",
      "9530\n",
      "slow and nice images changed one another with sometimes annoying music you know bjork in background for the first 75 of the movie if you did not have enough sleep that s a good time but in the last 20 of the movie director decides to bring idea of re birth re incarnation or else through s m images spiritual lovers are cutting each others bodies with knives for me it was very much disturbing and actually changed general impression of blend of abstract art and images of modern japanese mystery operator and director are great but weird did not enjoy it at all \n",
      "* * * * * * * * * \n",
      "9543\n",
      "i picked up this movie for 5 dollars at a discount book store adam sandler is a awesome actor and i figured it would be a good movie well it wasn t there was absolutely no story line at all bad jokes and the other comedian said the f word every other word he said cursing usually dosen t bother me but this was over the top and even worse than the lack of story line was the parts when sandler would just begin talking into the camera at random parts in the movie it reminded me of dora the explorer when they turn and look at the screen and ask you questions and last of all is when they would randomly put in bikini shots of girls at random times in the movie in my opinion don t buy this movie its a waste of money \n",
      "* * * * * * * * * \n",
      "9620\n",
      "this series gets 2 stars solely because it puts some of dickens bleak house on film and perhaps someone will read the book contrary to what is probably received opinion diana rigg was poor as lady dedlock she was clunky and wooden lady d is a reserved character but not a martinet denholm elliot is wrong wrong wrong for mr jarndyce so i ll interrupt myself and respond to all those people who are saying i didn t read the book so i don t have to take this guy s opinion because he s basing his evaluations on the book true and not true for ex diana rigg is bad in her role because of poor acting whether or not you ve read the book on the other hand denholm elliot is a passable jarndyce although too old the series fails not because it s unfair to compare it to the book but because the various plot lines and characters just don t coalesce to make a coherent dramatic mysterious andcompelling entertainment it is dull and flat if you want to make apossibly good bleak house you need to expend 20 hours of film in 10 two hour episodes but i suggest that producers etc leave dickens alone even a christmas carol television deadens the genius of dickens as manifested in his ingenious plots and unforgettable characters \n",
      "* * * * * * * * * \n",
      "9642\n",
      "the actors did a really good job playing their roles particularly the mom however as the movie progressed i found i was watching it more for their acting and not because i cared in the least for the people and at times i felt irritated by the irresponsible and hands off approach to parenting displayed again and again the daughter is a 17 year old shallow skank whose main ambition in life is bedding famous men and becoming a dancing nyphette complete with lots of booty shaking the son is a guy with low self esteem that seems very desperate for a relationship and friends so much that he throws a drug party late in the film the husband and wife are both bored but rather than put energy into their stale relationship would rather seek out new partners though the wife picks poorly as the man she throws herself at happens to be gay oops i just felt that all the characters needed to grow up and had a hard time caring for such shallow jerks i think the author s attempt was to demonstrate the utter banality and hollowness of the capitalist system however given that these characters are not typical of the average western family it seems disingenuous \n",
      "* * * * * * * * * \n",
      "9680\n",
      "this is not one of those films it is one of the biggest pieces of tripe i have ever scene the camera work is trying to be flashy but it really just crap the whole thing looks like the red shoe diaries but without the sex the only reason i bought this was i wanted to try out dvd and this was the cheapest one i could find possibly the worst buy of my life and could have put you off dvd forever the soundtrack is really tacky and most of the movie is made up of endless repeats of clips from the first two films why anyone would want to make a movie as awful as this is beyond me if they had really attempted to make an original movie and failed i would be nicer in this review but they don t they just got the rights to reproduce stuff from the first two and then edit it and repeat it into this film with about maybe under 1 3rd original footage which is about up to the standards of film school students do not buy this movie the only entertainment this dvd can offer is if you were to stick it in the microwave and watch the flashing lights utter utter utter uttter unbelievable garbage 0 10 if only the voting system would allow that \n",
      "* * * * * * * * * \n",
      "9751\n",
      "tony scott destroys anything that may have been interesting in richard kelly s clichéd patchy overwrought screenplay domino harvey kiera knightley was a model who dropped out and became a bounty hunter this is her story sort of the problem with this rubbish is that there isn t much of a story at all and scott s extreme graphic stylization of every shot acts as a distancing mechanism that makes us indifferent to everything in harvey s chaotic life you just don t care about harvey knightley plays her as an obnoxious cynical brat who has done nothing to warrant our respect she punches people she doesn t like and sheds her clothes and inhibitions when the situation calls for it but she isn t the least bit real and knightly isn t the least bit convincing either the film is boring it s loud too and shackled with one of the most annoying source music scores i ve heard in a long time the final twenty minutes are a poor re run of scott s true romance climax with domino s gang going to meet two sets of feuding bad guys who are surprise surprise destined to shoot it out with each other at the top of a las vegas casino unfortunately this potentially exciting conflagration is totally botched by scott and becomes a confusing pretentious pointless exercise in celluloid masturbation this is not an artistically brave or experimental piece it is a failure on every level because it gives us no entry point to the lives and dilemmas of its characters mickey roarke looks good as a grizzled bounty hunter but he disappears into the background as the narrative progresses chris walken turns in another embarrassing cameo and dabney coleman always solid is underutilized don t be fooled by this film s multi layered gimmick ridden surface it is still a turd no matter how hard you polish it \n",
      "* * * * * * * * * \n",
      "9966\n",
      "anyone that has see tammuz s child eaters knows that this is a director that can do better let s hope it was not a case of too many hands in the pot telefilm anyone and that is was a case of second feature jitters the characters are one dimensional and over used the scenery is terrific however and showcases the pacific northwest beautifully the cinematography is great shot almost entirely outside the images are crisp and beautiful you can almost smell the wind blowing through the leaves technically this movie is as sound as they come it just lacks a heart \n",
      "* * * * * * * * * \n",
      "10120\n",
      "the acting was bad the script was bad and the ending was just terrible the only good comment i could make about this movie would be the special effects and make up but apart from that this movie would be one of the worst movies of 2001 why on earth did they have to remake such a perfect movie and ruin it why \n",
      "* * * * * * * * * \n",
      "10178\n",
      "watched this on dvd in original language with english subs either the subtitling was very poor or the actual dialog doesn t make much of story and give any character development there are quite a few hk stars in this but the movie doesn t need their presence to make it better or worse it s just bad the bright and colorful scenes done in cg are attractive for the sheer colors and brilliance but it can get overwhelming before long if anything this makes me think of a child s movie with its nonstop barrage of cg fight scenes and crap plot i m certain i grasped what took place in the film but the whole delivery of the story was rather lousy \n",
      "* * * * * * * * * \n",
      "10509\n",
      "a romanticised and thoroughly false vision of unemployment from a middle class artist with a comfortable upbringing it is clear that the writer director never suffered unemployment directly and certainly has no personal experience of it if you had to believe this absolutely ridiculous story unemployed men of all ages behave like teenagers have no anger no fear no frustration etc all the characters live trough the day by carrying pranks boyish jokes they do never look for work the do almost never experience rejection or anguish etc living on the dole is just about like a summer vacation from school ridiculous specially if you compare it with contemporary masterpieces from the likes of ken loach etc \n",
      "* * * * * * * * * \n",
      "10553\n",
      "there is a lot to like here the actors are first rate and the script provides good dialog best capturing the ambiance of a tightly knit likable family however for that reason the film does not ring true we see leo who apparently just learned of his hiv positive diagnosis essentially react in a way that is not in tune to the supportive atmosphere for which he finds himself as well the film ends somewhat abruptly avoiding what leo his brother and the rest of this close family must have dealt with in light of their love for him the young actor who plays leo s brother marcel is impressive as generally is the rest of the cast unfortunately the scriptwriters could not decide onwhether they wanted an insightful dissertation on the effects of hiv on a functional appealing family or what the devastation hiv is on the victim so it only hints at both while this film provides food for thought it leaves the viewer wanting much more than it delivers \n",
      "* * * * * * * * * \n",
      "10602\n",
      "with this abc family attempt of the hit blockbuster cheaper by the dozen comes an obnoxious amount of corny dialogue shallow plot lines and cheesy comebacks with about two good actors among many wanna be s this movie was a major disappointment its a hollywood wannabe ditto of an already bad plot then because they needed a lot of actors that meant that they d probably be more lenient so the acting wasn t five star the plot moved fairly fast and the twists were bad and had horrible timing the junction of characters and the end relationships were also too mushy and clichéd for me spare yourself and rent something better \n",
      "* * * * * * * * * \n",
      "10693\n",
      "i go to a lot of movies often i bring my 5 year old son i am so glad i did not bring him to this one there are many references to sex and a skinny dipping scene however that is not the primary reason i would not take him to it the trailers lead you to believe it is a light hearted comedy nevertheless virtually all of the funny moments are in the previews i kept waiting for it to get interesting funny or anything but serious however i nearly fell asleep as the plot less story dragged on i understand that dogs can be great company that being said the entire story focused on a poorly behaving dog that the owners were not savvy enough to train if a human caused this much damage and mayhem that person would be banned the worst movie i ve ever seen with jenifer aniston or owen wilson a waste of their talent the best way to sum up this movie is couple gets unruly dog couple falls in love with dog dog dies couple sad the end \n",
      "* * * * * * * * * \n",
      "10831\n",
      "vodka lemon is a charming yet extremely uneven arminian film that will delight some and bore others though reasonably well crafted the film lacks any real zing relying instead on many scenes that will seem commonplace to the astute art house viewer the film contains a handful of moments of sheer cinematic brilliance unfortunately they deserve a film worthy of their genius too dark to be a dark comedy and to light to be a serious drama vodka lemon will leave many views disoriented and ultimately disgruntled you may laugh but these moments will be few and far between amid a sea of washed out snow filled landscapes and a seemingly endless series of bus rides a noble effort ultimately done in by lack of narrative cohesion \n",
      "* * * * * * * * * \n",
      "10990\n",
      "i like a lot of the actors actresses involved in this project so being insulted by the movie felt even worse than if they used a unknowns the main problem was this movie was clearly just a concept created to appeal to baby boomers in 20 or 30 years nbc will probably do a movie just like this about the early 90 s i can see it now a black family where the kids are involved with the la riot s and the white family has the kids rebel and listen to grunge rock music the soundtrack will feature bands like nirvana n w a public enemy soundgarden etc the movie like this will be just as cheesy as the 60 s and i gurantee you nbc will do it see the biggest problem with period pieces when done buy networks is that when you are living in a certain time period you aren t thinking i am living in the 60 s or whatever decade is trendy retro at the time next time someone does something like this they should put more weight into there project\n",
      "* * * * * * * * * \n"
     ]
    },
    {
     "name": "stdout",
     "output_type": "stream",
     "text": [
      "11168\n",
      "bad actors terrible script totally unbelievable ending this film had it all after seeing films like this you wonder why the makers bothered at all this film has absolutely nothing to say all the methods used to create a scare have been used over and over again in previous horror films a total waste of time \n",
      "* * * * * * * * * \n",
      "11207\n",
      "essentially a story of man versus nature this film has beautiful cinematography the lush jungles of ceylon and the presence of elizabeth taylor but the film really never gets going newlwed taylor is ignored and neglected by her husband and later is drawn to the plantation s foreman played by dana andrews the plantation is under the spell of owner peter finch s late father whose ghost casts a pall over elephant walk that becomes a major point of contention between taylor and finch the elephants are determined to reclaim their traditional path to water that was blocked when the mansion was built across their right of way the beasts go on a rampage and provides the best moments of action in the picture taylor and andrews have some good moments as she struggles to remain a faithful wife in spite of he marital difficulties with finch \n",
      "* * * * * * * * * \n",
      "11280\n",
      "don t let the name of this film deceive you in reality jake speed the character is quite possibly the laziest action hero ever known to film when jake speed is not saving virgin girls from evil madmen which he is often not he s seriously relaxing perhaps this adds to his charm but in my opinion an action hero is not suppose to chill out whenever he gets the chance furthermore unlike other daring heros who usually have an impressive list of talents this man has none unless of course you call sleeping a talent anyhow this movie is basically worthless the writing is sub par and the action when there is some is very lame the machine guns on the jeep weren t bad but that s about it so if you re in the mood to watch a movie that is a cure for insomnia then this piece is perfect for you it has a hero that not only puts himself to sleep but also his audience \n",
      "* * * * * * * * * \n",
      "11321\n",
      "the only reason i saw shakedown was that it has erika eleniak in it she s sexy as always but she plays second fiddle to leading man wolf larson it s a pity because she has more action capabilities than she s allowed to show here the film largely consists of endless shootouts that quickly become monotonous especially when most of the time you are seeing the bad guys armed with machine guns constantly missing larson and him armed only with a revolver that never runs out of bullets taking them all out rather easily the earthquake effects are decent but there is also a lot of blurry motion and poor cgi explosions as the psychotic spiritual leader ron perlman tries but the pseudo religious mumbo jumbo he has to spout is simply boring eleniak perlman or larson assuming he has any completists might want to give this one a look for others it is barely worth a rental 1 2 \n",
      "* * * * * * * * * \n",
      "11439\n",
      "to be as honest as i possibly can the devil s plaything or veil of blood or vampire ecstasy or the curse of the black sisters or is a complete bore the movie has a good premise behind it the resurrection of a long dead vampire through the body of a descendant through the aid and assistance of a group of women dressed in black but the execution is horrible there are great long moments of screen time when literally nothing happens characters just stand around with nothing to do there s no mystery no suspense and no plot points to care about the acting is simply abysmal most of the acting involves a group of below average looking women dancing naked while staring at the camera they do this repeatedly and what little plot there is seems to be designed to get more of these less than attractive women naked so they can join in the dancing while it s not as bad or pointless as the dancing or the plot in something like orgy of the dead it comes close \n",
      "* * * * * * * * * \n",
      "11549\n",
      "this film was totally not what i expected if this film was called something else no one would even notice the difference between the two its really strange because i cannot see the point the prequel and sequel lets just say don t make sense the don t even match maybe i am naive but ain t a vol 1 vol 2 meant to match up carlito was in jail in the 1st one and dies in the original and in the prequel he lives and don t go jail the plot was ok but they should have changed round some actors and some of the story line and the name of the film and it would have been a good film i really expected it to end like the other one started if some one has a opinion on this post it please \n",
      "* * * * * * * * * \n",
      "11605\n",
      "i watched this film for 45 minutes and counted 9 mullets that s a mullet every 5 minutes seriously though this film is living proof that formula works if it ain t broke it don t need fixin a streetwise yet vulnerable heroine a hardened ex cop martial arts master with a heart of gold and a serial killer with issues pure magic \n",
      "* * * * * * * * * \n",
      "11650\n",
      "hollywood the home of hype glamor and the search for profits is scarcely ruled by spiritual values and so it comes as no surprise that its attempts at investigations of the spiritual life are thin and often silly better to go farther afield to the films of bresson dreyer rossellini and bergman for probing depictions of the spirituality strange cargo is no exception this odd hybrid of adventure film love story and religious parable trivializes the very insights it tries to communicate that a figure of providence and salvation would work to match verne clark gable at his most cockily mannered and self regarding and julie joan crawford snarling and spitting out every other word in an attempt to be the queen of tough dames seems ludicrous at best is this the patron saint of the star system at work matching warring egos before sending them off to further penal servitude on the m g m lot but there are good supporting performances here and visually arresting moments the shadowy prison barracks the escaping boat by moonlight or against a painterly cloudscape julie walking along the seafront as the wind whips up julie and monsieur pig peter lorre bargaining for verne s freedom as the storm builds an unusually ennobling gay prison romance between two convicts above all there is paul lukas s dignified and detached performance as hessler a murderer who can appreciate cambreau s virtues yet turns his back on him in the film s most arresting moment hessler having left cambreau stands outside the cabin we hear the wind through the jungle see the shadows on his face which conveys a moment of fear and self doubt then he exits into the night in this moment hessler achieves an ambiguity depth and existential strength that none of the other characters manage to achieve is the film s secret that its deepest sympathies are allied with hessler \n",
      "* * * * * * * * * \n",
      "11659\n",
      "joe don s opening line says everything about this movie it takes place on the island of malta the island of pathetic men and involves joe don baker tracking down an italian mobster joe don s character is named geronimo pronounced heronimo and all he does in this movie is shoot people and get arrested over and over agin everyone in the movie hates him just like everyone hates greydon clark i liked an earlier greydon picture angel s revenge because it was a shirne for thriteen year old boys avoid this movie at all costs \n",
      "* * * * * * * * * \n",
      "11861\n",
      "i am a current a s l student was forced to watch this movie in class and what i got out of it was the blatant bias involved in the film the film is obviously leaning towards to p o v of the common deaf perception their is no middle ground also the film didn t make mention or take into account other situations that are also under debate in this topic i e deaf people who were born hearing and later went deaf is it right or wrong in that instance the film is biased and virtually all in the opinion of the deaf w a capital d not that this is bad but for it to be a true documentary film is should attempt to be slightly unbiased \n",
      "* * * * * * * * * \n",
      "11909\n",
      "considering the risk of showing same sex relationships before the late 1980 s personal best could have done better to play the same sex relationship between hemingway chris cahill and donnelly tory skinner as a more than experimental phase of cahill s life it seems to me that the creators of this movie threw in the same sex relationship between two fairly attractive women in order to attract viewers also consider the 90 seconds of exposing the crotches of several women jumping backwards over a high jump pole this random scene had very little relevance to the movie and it appeared as though this was done merely to keep the audience interested in this bland movie i suppose the producers were trying to counteract the boring plot and the even more boring setting of the movie the 1980 oregon track and field competition this review may seem harsh but it is the truth the exploitation of young muriel hemingway s body and the same sex relationship ruined any credit that i would have given to this film pepper thompson\n",
      "* * * * * * * * * \n",
      "11933\n",
      "this film was terrible ok my favourite film is the wicker man 1973 so i was always bound to be a little biased the plot rambles along throwing out enough of the key elements of the original to make the term remake highly dubious he s not a virgin but is allergic to bees wow so many things happen that make no sense and are unexplained which i m afraid mr labute does not a horror movie make how are two people we clearly saw blown up in a car at the start alive and well at the end of the film cage looks haggard and bewildered throughout and his character is prone to calling out rowan at the slightest noise the nods to the original are irritating as they come off as tacky rather than as intelligent homage for example certain incidents mirror the original the girl falling out of a cupboard pretending to be dead when woodward cage is searching the island and several lines of dialogue are plucked straight from anthony schaffers original screenplay and shoehorned in i m sure others will provide a better and more detailed analysis than this i really can t be bothered to write any more about this film it lacks any kind of substance throw it on the scrap heap with all the other remakes that have sullied the good names of the films they were based on in this case very loosely \n",
      "* * * * * * * * * \n",
      "11965\n",
      "i always get frustrated by films that were obviously written by one gender especially when they obviously don t do enough research to find out when something not only doesn t ring true but rings blatently false the scene i am remembering is the one in the bathroom where jack tells his football teammates that he got diane pregnant in no way shape or form would a guy ever cheer another guy getting a girl pregnant in high school they might cheer about the guy having sex with the hot cheerleader but i can also guarantee that the first the football team heard about it would not be at a urinal it was obvious that this film didn t take itself so seriously and it wasn t hideously bad but come on \n",
      "* * * * * * * * * \n",
      "12044\n",
      "this is certainly one of the most bizarre films ever made even for fellini about the only one more bizarre is his satyricon this is a two and a half hour romp through a strange nightmarish world of decadence opulence and sexual challenge sutherland makes a curiously unappealing casanova and the odd goings on in a series of unrelated vignettes taken from the great lover s autobiography fail to engage the viewer the art direction and costume design are however outstanding the academy missed on not even nominating the former but did itself justice by rewarding an oscar for the latter also nominated oddly was the disjointed pointless and almost inacessible screenplay go figure the film on video is only 150 minutes 16 minutes short of the original running time this viewer was grateful \n",
      "* * * * * * * * * \n",
      "12095\n",
      "dreary schlocky just plain dreadful and awful let s be honest when you sit down to watch something called the double d avenger you aren t expecting great art or even mild mainstream entertainment you are probably expecting a cult film type and maybe get some good looks at some impressive busts you don t get really either of these in the video the story as it consistent with most of these types is inane kitten natividad runs a local pub finds out she has breast cancer flies down to south america for a fruit that claims to be a panacea for any ills and a super human abilities giver returns and fights dressed as the double d avenger a group from a local strip club wanting to edge out the competition as stories go i have seen a lot worse but as another reviewer noted the execution is horrendous the action sequences lack zip drive motivation and are tissue thin the acting isn t even properly campy and the dialog is the pits nothing and i mean nothing is funny from the wincing puns to the heavy handed boob references all could be forgiven if the girls could make up for it but they all fall way short kitten haji and raven de la croix are all quite older still lovely in their own ways yet expose nothing and become the antithesis of what they are trying to be older campy caricatures of their former selves instead they look so lame and desperate more because of the vehicle they are starring in rather than their own abilities there are some other lovely ladies but you really do not see much of anything pg 13 definitely could be an appropriate rating for this the material the actresses and director are all tired tiresome and dated and again not funny it was a brutal hour plus sitting through this and that is a shame as i was expecting something campy and fun the guy playing bubba by the way was the only real laugh for me not that he was good at all mind you but every time he opened his mouth i kept thinking how truly awful he was the lone bright spot here at all is seeing mr sci fi himself forrest j ackerman play the curator of a wax museum and chatting to his wax frankenstein affectionately called frankie other than that this is a complete bust now how is that for another tired dreadful trite pun \n",
      "* * * * * * * * * \n",
      "12216\n",
      "i stopped watching this pos as soon as the snakes started taking over the plane at first i thought maybe it should get a one for the comic relief but then i realized i could just watch the three stooges for free and laugh more whatever respect i might have had for samuel jackson has been irreversibly destroyed and hollywood demonstrates once again how removed from reality they really are when i was a kid we used to catch snakes for fun the only thing snakes would do is huddle at the bottom of the cargo bay and no amount of hollywood cartoon snakes can change that this movie isn t worth a trip to blockbuster be warned if you pay for it the only victim is your dumb ass if you want to be really scared i suggest the descent if you want humor go to your local stand up comedy club their worst performer will be a million times better than this trash \n",
      "* * * * * * * * * \n",
      "12286\n",
      " spoilers ahead russian fantasy actioner and i use the term loosely that i ve been trying to watch for over a year i ve finally gotten to the end and now i wish i didn t put in the repeated effort in an effort to save two hours of your life i m going to tell you he plot a guy who has the ability to project a long blade out of his arm returns home to see his mom things turn ugly after he is beaten up by the mafia boyfriend of an old girl friend he takes revenge on the guy when he brings the girl home the guys mafia mom sends her men out to get revenge while the cops begin looking for him as well very little is said no explanation is really given for anything like why they lock id girlfriend in an asylum and the action for the most part is all off screen the film essentially consists of a guy who looks like adrian brody looking intense and not saying anything killing people off screen most of the action happens off screen it looks good is well acted and had there been some form of reason for what is going on it might have been a good film hell i would have liked some sense of real character development or back story all we know is that the guy was picked on as a kid the movie runs the better part of two hours and it feels like its six if they weren t going to tell us anything they could have at least picked up the pace so it seemed like it was moving too fast no instead we get the hero on a boat the hero in a bus the hero walking the hero looking disturbed hero with his girl it really annoyed me since i think this could have been a good film if they had simply done something or had someone actually say something meaningful other than give instructions to get this guy 4 out of 10 its about four hours all my attempts to see this i ll never get back only for those who want to see a brooding russian action film with very little action \n",
      "* * * * * * * * * \n",
      "12405\n",
      "it has its merit s morvern callar is both the merits and the disappointments she s so enigmatic so original is it her method of dealing with the pain of a lost one that s making her so distant and un relatable or is she as one reviewer called her a revolutionary personally i d call her dysfunctional morvern is completely detaching herself disposing of her boyfriend not thinking of informing family or using the money he gave her for a proper funeral she selfishly splashes out on a trip to spain she s seems so devoid of anything relatively human bar greed the only element that enables the audience see the human side of her is her close friend she takes on holiday with her although by the end her friend is dumped and morvern has nothing that ties her down to humanity she may as well have killed herself despite managing to make spain look as gloomy and bland as the uk the director s shots were superb the lighting and color made the film visually stunning it s really a shame the movie has nothing in it that keeps interest it s little over 90 minutes but feels a lot longer they manage to make morvern seem interesting to grab your attention but do nothing with her only alienate her from you more to the point where you don t care about the characters or the film \n",
      "* * * * * * * * * \n",
      "12517\n",
      "anything that might have been potentially interesting in this material is sunk in the first few seconds with a disclaimer that the events we re about to see can t ever be known and this is the whisper rumor most often told about one of hollywood s most sensational mysteries okay so we re not getting anything new and e s mysteries scandals gives you a better foothold on the particular incident and that s not much of an endorsement what do we get we learn that hollywood is a nest of viper s and decadents no big news there more interesting we learn what a washed up director is willing to do to regain his position of power in the entertainment industry and or political establishment it raises the question of whether peter bogdanovich is speaking from his own experience through these characters but what s told is so cynical and ugly and muddled we re left feeling guilty for witnessing a bunch of hooey that passes itself off as history the tone of the film has a curious madcap quality that i found more irritating than fun we re not empathetic with anyone and the great citizen kane polishes off the relationship between davies and hearts in a much more convincing way in the cat s meow we re not ever sure of davies motives for being with hearst as soon as we re told one thing she s off doing the other and are we to believe that davies was the love of chaplain s life or is he just trying to cockold one of america s most powerful and apparently moronic citizens the film never makes it clear what is convincing are the production values there s a glorious recreation of the yacht and period costumes i got more out of looking at the construction of some of the lapels on the men s jackets than following a story that libels many of the the most well known personalities in hollywood history no one will remember that the screenplay is pure fiction the disclaimers that frame the film only make it all the more tentative and unsatisfying the performers can t be faulted although meg tilly goes way past parody here kirsten dunst never disappoints she gives the most sincere performance in a sea of scenery chewing only joanna lumley rises above the material but so much so that she seems to be distancing herself from the whole enterprise rather than narrating it one of her first lines is i m not here and i m sure she wishes she wasn t this isn t on par with bogdanovich s trashy so bad it s good at long last love it s perched on attempting something serious but hesitates and stumbles chiefly because it s so full of bitterness towards the beast named hollywood this is national enquirer filmmaking and it not only soils the names of those who the film places on board the oneida that weekend but the audience gets pretty dirty as well \n",
      "* * * * * * * * * \n",
      "12715\n",
      "a gave it a 2 instead of a 1 awful because there is no denying that many of the visuals were stunning a lot of talent went into the special effects and artwork but that wasn t enough to save it the sepia toned washed out colors sort of thing has been done before many times in other movies nothing new there i can see there were some hat tips to other old classic movies ok no problem with that but a movie has got to be entertaining and interesting not something that would put you to sleep the story line and the script of this movie was awful the characters two dimensional slow moving some of the scenes were pretty to look at but ultimately as a whole it was quite boring i couldn t recommend it \n",
      "* * * * * * * * * \n",
      "12748\n",
      "this is a typical example of technically highly skilled directors of video clips commercials trying to do their first full feature length movie on one hand the imagery camera lighting cgi and even the sound are highly polished and have a truly expensive look and feel even the actors show a certain amount of potential unto the point where even the best acting could not hide a bad plot in this case it is not a bad plot but hardly a plot at all so 50 of the dialog consists of what the hell was that what was that and what the hell was that in none of the cases any of the characters nor the audience is provided with the slightest hint of an answer though in most of the other dialogues one gets the feeling that there never was any form of dialogue book and the actors had to freely improvise to a plot that wasn t ever explained to them the only reason why skye bennet s performance could be so good is that her character as an autistic girl didn t allow giving her these tragically horrible dialogue lines the other actors had to deal with that way she was able to just show her acting talent which the rest of the cast couldn t even get close to i mean there s not one actor in the world that could make up for a dialogue like this ben is this real huh emily stop it ben a mass psychosis huh jon somebody has to take control of this situation ben this situation can t be controlled not by you not by anybody emily not by you either ben nogot me goosebumps but not for horror more for the horrible attempt in some moments i felt ashamed for the actors to have added this to their vita 2 stars for the excellent technical work \n",
      "* * * * * * * * * \n",
      "12822\n",
      "never saw the original movie in the series i only hope it was a much better movie than this or the sequel made in the 1980 s as if it is not how were these two terrible sequels even justified this movie had a really good lead in when they were advertising it to be shown on one of those old independent stations that are a thing of the past now anyways it looked like it would be a pretty good scary movie it was however a movie that would make some walt disney movies look dark really this movie was just a bunch of light fluff with virtually no boggy creek creature to be seen the only real sighting is near the end when you see its shape during a very heavy rainstorm other than that there is virtually no sign of the creature which was really disappointing as a kid the story is basically the old evil hunters must kill anything they see and are after the boggy creek creature and kids are out to help it or just some random hairy guy in the woods that likes to pull random boats through the water not really worth watching i would however like to see the original granted the maker of that would make the also bad boggy creature of the 80 s but he also made a very good slasher movie in the 70 s the town the dreaded sundown \n",
      "* * * * * * * * * \n",
      "12844\n",
      "i ll admit i ve only watched a handful of episodes but each one seemed completely different from the next it seems after the first season the producers decided to completely retool the show drop characters introduce new ones and rewrite the entire show dynamic as you have probably surmised already the show is about quirky unpredictable teenager holly amanda bynes who moves in with her high strung sister valerie jennie garth in new york city decent enough premise odd couple fish out of water high jinx while i miss the sitcoms of yore this show unfortunately misses the mark on funny repeatedly and it s sad because they have some decent talent on top of everything they insisted on changing the show val was living with a cast regular bf one season then he was suddenly gone so she opens a bakery what when things change that drastically you get the feeling that even the show knows it s bad i mean completely new sets characters written off and new show regulars on a side note this is just nitpicking i know this is a television show and not real at all but val and holly end up living in a huge loft duplex there are stairs with a terrace in manhattan are you serious \n",
      "* * * * * * * * * \n",
      "12916\n",
      "i agree with everything people said on this one but i must add that the soundtrack is probably the worst one i have ever heard my entire life there are actual vocals during times when you are supposed to be listening to the actors talk and the vocals are like a broadway version of danzig singing the darkness of the forest oh the darkness of the dark dark forest or something else so unthreatening the singer has a terrible vibrato and has been recorded with a treble y microphone over some synthed up string section and fake drum beats it s horrible yes the male leads are awful so are the female ones this is one bad case of gender stereotyping it s so bad everything they say revolves around being a male or a female just playing up the stereotypes to the max makes me sick soooo boring the children were so echoey in their lines you couldn t understand them and why do female ghost children always wear cute little bows in their hair pretty blue dresses and long hair and ghost boys always wear clean cut slacks with cute little shiny blond hair not scary stupid daddy s face was way too blemish free and clean to be that of a man living in a cave nice beard and bangs pa did you perfectly cut those with a knife yourself or did you stroll into town and go to the salon stupid movie \n",
      "* * * * * * * * * \n",
      "12925\n",
      "if you re a fan of the late gram parsons then this movie is definitely going to divide you part comedy part road movie but mostly a bad fictionalization of one of rock history s oddest tales spoilers basically the story concerns a well known roadie named phil kaufman played by johnny knoxville who supposedly made a pact with cult rock country folk music hero gram parsons that stated when one of them died first it didn t matter which one it was that the other living one was to take the deceased out to the desert joshua tree national park in california to be exact and set the body ablaze so as to free the spirit and become one with the earth and so on sure to keep his word the barely sober kaufman with the assistance of a self hating pot headed buddy jacks the body of the late parsons whom had fatally overdosed from a drug and booze bender a day prior from the airport and shortly after that what ensues is a cringe worthy combination of fiction and truth where the late parsons girlfriend kaufman s girlfriend parsons stone faced father and a gaggle of police officers and other pointless idiotic characters all try to beat the clock so to speak in trying to catch kaufman and his pal before they get the chance to torch parsons body the film s incompetent direction bad acting and lame offbeat tone in general all sink this movie faster than the titanic and not to mention the huge fact that this movie is not even halfway telling the truth of the actual events that took place the accuracies that should have replaced the inaccuracies as far as i ve heard them include number 1 parsons was married at the time of his death and even had a child so what the hell was that all about with the girlfriend s and the chasing and whatnot number 2 kaufman s drugged out buddy was a known willing participant unlike what the movie attempts to portray in the disposing of parson s body and finally number 3 gram parsons real life father died when he was just a boy and so it was parson s step father who could have honestly cared less about gram parsons when he was still alive in real life that took care of the body after it was torched altogether though what probably disturbs me the most about this movie is that the real phil kaufman was actually on set to help assist with the facts of the story and yet still the movie ended up becoming so untrue and so bad that it really boggles my mind frankly also as the mediocre aforementioned acting in the film is concerned it s lead character played by the ultra grating johnny knoxville phil kaufman is not only a bad actor but it actually seems as if he were asleep throughout most of the movie and the rest of the pathetic cast are for the most part either hysterical brain dead or seem utterly clueless as to what they re actually doing there in the first place overall if you like johnny knoxville and or really dig the so bad they re not even good buddy flicks then i suppose you just might get a kick out of this movie but if you re like me and are a fan of the late gram parsons enjoy films that attempt to tell the truth as much as they can especially if they re based on an actual real life story and or you just like good films be them road movies or fictional slice of life stuff you will truly loathe this film and advise others to do likewise i obviously hated this movie and wished it had never been made in the first place but since it was made i would have preferred it to have turned out differently than what it did unfortunately maybe some day the real facts of the story will come through and be made into a really great biopic on all of gram parsons life not just what happened to his body after his spirit left it but until that time comes all we as an audience and or fans of the late performer get is this sad waste of film and an all around terrible memorial of sorts to the musical legacy that gram parsons was known to have left behind it should also be noted that they did actually use parsons music and a few others as well in the flick but not surprisingly though you never get to hear enough of it to really enjoy it even in the slightest bit turkey zero stars \n",
      "* * * * * * * * * \n",
      "12934\n",
      "if you re going to look after a child make sure they don t live anywhere near a graveyard especially if said kid has a habit of drawing gory pictures and disappears at night among the tombstones to see her friends but our long haired heroine oblivious to all the signs shacks up with her family the nortons which include a strict father and a dullard older brother who becomes a love interest for our budding babysitter even more spooky than the zombie gang outside is the cast s tendency to talk even when their lips aren t moving and for the words to not match the movement of their mouths but enough of that domestic animals are being sacrificed old ladies are having eyeballs torn out and the orchestra won t shut up during any scene even the quiet ones oh and the editor is having a day off going by the way the film drones on in fact it would been better if everybody involved had taken a breather smelt what they d signed up for and gone awol yes i know it s hard to get into movies these days but this sort of starter point is not one on your cv you d want if would be like a trainee farm labourer having a conviction for chicken molesting featuring one of the worst lead performances ever by the shrill laurel barnett and another almost equally as bad by the charisma free child actress rosalie cole the next dakota fanning she ain t the film meanders on and on with nothing but padding until we get what passes for a climax this involves five or six members of the undead barricading our utterly useless heroine in a shed while her bit of rough fends off these ghouls with a plank of wood a one shell shotgun and whatever he can lay his hands on but back up a minute earlier on they were in the car and they accidentally discovered that the creatures found the noise of the horn so repellent they shuffled off at the sound of it so do they stay where they are safe no of course not they run off to this abandoned building in the middle of nowhere so the bloke can prove what a hardnut he is the girl can act like she s having a nervous breakdown finally the film closes it doesn t end it just goes to a grinding halt the main character wanders back to her vehicle covered in fake blood as if nothing horrible had happened but my dear viewer something horrible has happened you have just sat through one of the most lamebrained boring horror films you re ever likely to see and lost 82 minutes of your life you ll never get back just think years from now on your deathbed what you d trade an hour and 22 minutes for just to spend a bit of extra time with your family sadly it s already too late for me don t you make the same mistake 2 10\n",
      "* * * * * * * * * \n",
      "13005\n",
      "with a title like attack of the killer tomatoes anyone going into this thing would be expecting either a a bad science fiction movie or b a comedy making fun of bad science fiction movies it s supposed to be a mix of both with a dose of parody splashed in unfortunately it falls flat very soon you re never supposed to take this movie seriously i realize that but you re supposed to think it s funny right i found only a few of the jokes or situations were funny i e the side by side phone conversations the russian olympic spy eating steroid cereal superman walking by lois etc attack of the killer tomatoes strives to be a cult classic but it doesn t make it a cult classic is a movie that is so different that only a select group of people understand it or a similar description attack of the killer tomatoes could be enjoyed by any 8 year old with a bad sense of humor so therefore it does not qualify as a cult film there is one good actress in the entire thing sharon taylor as lois fairchild she is a thin gawky reporter but has an endearing personality loves to overact and is a natural comedienne unfortunately she is put to bad use here attack of the killer tomatoes is not as funny as say amazon women on the moon or kentucky fried movie but it does have a few hilarious moments so i would still recommend seeing it once avoid the director s cut it has interruptions by the producer of the movie and some supposedly lost footage dubbed in a pretend african dialect it can be found in english on the out of print tape \n",
      "* * * * * * * * * \n",
      "13070\n",
      "boston legal has turned its tail and is headed for the barn door and th pig slop it has created when this show first aired almost four season back it was a humorous slap at the legal system which all actors seem to take pride in portraying it was funny diversified and to some extent factual the characters portrayed were acceptable and to an extent real in their portrayals the sexual comment and activity were limited and humorous julie bowen is and was beautiful as in other series she participated but is now dragged to the lower depths of media programming of sex and violence julie is an excellent actress and needs a more stable platform than this production rene adjurdubois is an excellent actor who has from the days of benson to this production held his own in the field of entertainment always showing the humor and respectful acting of the production captain kirk is funny and humorous is candace bergan and is to be admired for her continuing in this production and is a good actress james spader there is no doubt in his acting ability however he should go back to his xxx origins such as crash as it appears he has much talent and inclination in that direction we ask that this series be trashed as it already is and its really starting to smell \n",
      "* * * * * * * * * \n",
      "13135\n",
      "i being of puertorican descent had mixed fillings about this documentary first i was offended that ms perez compared senor campos to che guevarra also just a point of fact mr john leguzaimo is not of puertorican descent his parents came from columbia whomever did research on this was not very accurate i feel that the future of our race rests on education this message should have been resounding throughout this film education is our road to freedom and power i think any future endeavors of this production team should make this their focus in my opinion this film swayed toward an anti american sentiment \n",
      "* * * * * * * * * \n",
      "13307\n",
      " this is a review of the later english release by disney featuring alison lohman patrick stewart and co i really wanted this film to be good really really i m a huge fan of princess mononoke and spirited away and after seeing all the glowing reviews on this earlier miyazaki film i was eager to see it but i was shocked shocked i say at the quality of this film those later films boast well crafted plots 3 dimensional characters and the best film music since well ever this film just doesn t come close might as well start w the positive aspects though like all miyazaki films this one is still very imaginative with a bizarre fantasy sci fi setting in a post apocalyptic world where insects are the dominant species nausicaa can also boast some far superior animation to other films from its time though not as beautiful and fluid as miyazaki s later films and the english voice acting is quite well done but this film just isn t good the characters are all cardboard from saccharine sweet little nausicaa to the ruthlessly evil tolmekians to everyone in between once you ve seen each of them for 30 seconds you ve seen all there is and the fact that the plot just ambles along doesn t help then there s the music now hisaichi is hands down my favorite film composer but nausicaa doesn t do him justice half the music is 80 s keyboards on overdrive and it usually enters and leaves so abruptly that it distracts the visuals rather than helping them i highly suspect that hisaichi was told to compose a lot of the music before he even saw the picture but wait there s a great message with this film right let s all save the environment too bad that this film hits you over the head with it like a sledgehammer there is a scene in which nausicaa hugs a tree no really i ain t kidding it makes me a little sad to talk about how lame this film is but for some reason all the other reviews on imdb seem to adore it and when the characters have to talk to themselves in extended sentences to tell you what s going on that s lame if you re the kind of person who worships anime enjoys 80 s music and plants a tree every arbor day you will probably like this film otherwise save your money for his later films because they rock big time \n",
      "* * * * * * * * * \n",
      "13316\n",
      "if you can imagine mickey mouse as a new york street pimp or john wayne as a communist spy then you might believe pat boone as a juvenile delinquent on his uncle s farm in kentucky and you could conceivably enjoy this movie this film is so stupid that it isn t even campy for a mid 1950s sexless love story and the problem is that hollywood made such a big deal about pat boone s refusal to kiss a woman not his wife on screen before its release that the audience knows he won t kiss shirley jones so you cannot build any anticipation for the screen consummation of their love it s sort of like watching a western in which the cowboys don t have guns the story is pointless even the title song is sung with pained enthusiasm april love belongs in the worst film bargain bin along with ishtar and plan 9 from outer space \n",
      "* * * * * * * * * \n",
      "13475\n",
      "picked this up for 50 cents at the flea market was pretty excited i found it fascinating for about 15 min then just repetitive and dull it is neat seeing mick and the gang in their prime i wish there was not so much over dubbing of dialog so i could hear what there are saying and playing the skits are politically dated and incredibly naive and simple sort of poorly written monty python on acid i spent more time looking at the late 60 s england back drops rather then what was actually happening in the silly skits this movie is a good reminder that times really change and what was important quickly becomes just plain silly good song but it has now been played to death by this dvd \n",
      "* * * * * * * * * \n",
      "13521\n",
      "surely one of the most ill advised remakes of a classic in film history especially since the promise of its tag line the most beautiful woman of our time in the most erotic adventure of all time isn t even properly exploited although this film was regularly shown on tv in my neck of the woods since my childhood days its notoriety for awfulness not erotic content mind you kept me away from it until now and i only relented because i have recently enjoyed bo derek s previous film 10 1979 and have been watching a lot of fantasy stuff as well over the christmas period lead actress producer bo derek is rather ridiculous playing the schoolgirl ish sexual innocent witness the inept banana scene and as was to be expected she is made to get her clothes off a few times but as welcome as these scenes were she came off as far more sensual in 10 than she does here richard harris then chews the scenery incessantly as jane s obsessed explorer father but john philip law barely registers as his aide who meekly shows some initial interest in jane herself newcomer miles o keeffe has the title role and he only makes his entrance 45 minutes into the movie is completely silent throughout except for his famous yodel which is probably lifted from johnny weissmuller anyway and furthermore is as inexpressive as one of the trees he dangles from at regular intervals throughout the film s second half for the record he later starred in two ator movies or would be conan imitators for joe d amato and the king arthur era set sword of the valiant 1984 when still an actor director john derek who also serves as his own cinematographer here had worked with some good film makers cecil b de mille william dieterle and robert rossen and a few great ones otto preminger nicholas ray and don siegel but he clearly learned zilch from them as his direction of this one is a major liability appallingly pretentious at times witness the perfectly horrid python attack sequence with a senseless overuse of the slow motion technique and cheesy transitions this was derek s seventh film as a director and his second of four with wife bo and eventually he would only get to make two more the film s utter failure only needs to be gauged by the fact that the tarzan legend was tackled once more on film in greystoke the legend of tarzan lord of the apes which surprisingly enough i haven t watched myself yet a mere three years later nominated for six razzie awards including john derek richard harris and miles o keeffe and winning one for bo derek herself tarzan the ape man was co written by gary goddard the future director of another highly anticipated but ultimately disappointing transposition to the silver screen of a this time animated heroic figure master of the universe 1987 which i will be revisiting presently as well yay despite a charming closing credit sequence showing tarzan and jane playing with around with an orang utan and a music score that is not half bad actually and quite rousing on occasion any belated good intentions are defeated by an extremely silly climax involving natives painting bo completely white and fatally john derek s clear disinterest in the character of tarzan himself which makes him come off as an unimportant supporting character in his own self titled movie \n",
      "* * * * * * * * * \n",
      "13589\n",
      "i m a true fan of the original cracker series and own all of them on dvd cracker had a tendency to be over the top on occasion but robbie coltrane and the other cast members as well as the writers always seemed to carry it off despite themselves i count the original cracker among the great brit tv crime series of that time and there s some stiff competition prime suspect inspector frost inspector morse jeremy brett s sherlock homes and a host of others cracker along with prime suspect was on the top of my list which makes a new terror all the more sad ultimately this was a very pale imitation of cracker s former glory i forced myself to sit through the whole thing convinced that it couldn t actually be this bad and that some spark would eventually ignite i was wrong it was bad from beginning to end a few criticisms first just to get any potential bias up front right off i was offended by the anti american anti war screed that droned on and on throughout most of the show the topper the murder of two american s innocent of any crime and a british junkie is in fitz s words understandable but not justified i thought i waded through two hours of crap just to hear this disgusting bit of drivel so i had a negative reaction to the anti war american tone brought on by my beliefs beyond the politics i had the distinct sense that this cracker was merely a prop for the propaganda and it actually helped to undermine an already terribly weak script second just how much air time did robbie coltrane get fitz was almost a bit player in this one as if he was an afterthought plugged into some story originally written without any thought of fitz s role coltrane could have carried the show on his own broad and still suitably flabby shoulders but the writer was apparently thinking of other things and missed the chance and by a wide margin third what an abysmal script there was some sparkle and a couple of bits of actual character development fitz s son ranting that fitz couldn t stay at his house if he missed his plane to australia the detective that liked to beat his poor performers over the backs of their heads and some of the old sparks between fitz and his missus but not nearly enough to carry the tedious storyline fourth where the hell was panhallagan now that would have been interesting it was manchester after all and 10 years on she d be up in the ranks another wasted opportunity or perhaps the actress wasn t interested well there s much more that s bad to say but i ll close with a curiosity at the end of the show as it aired on bbca when the advertisement announced that the director s cut was available on bbc on demand i thought ah ha the director s cut which presumably one has to pay for might have all of the goodies i expected to see tonight but never did like a coherent interesting storyline unfortunately after convincing myself to sit through the horrible free version of a new terror with the hope of seeing something anything worth watching only to be disappointed i have no hope left to motivate me to actually pay for a second potentially longer and more tedious version besides it angered me to think that bbca sliced and diced and sacrificed show time to accommodate the endless every ten minutes or so stream of commercials and then turned around and asked me to pay for what probably should have been version aired tonight to close i quote the first paragraph of variety s review of a new terror it really says it all initial excitement about robbie coltrane reprising his role as the bbc s flawed boozing womanizing criminal psychologist is snowed under by the heavy handed political statement writer jimmy mcgovern is determined to deliver within this revival vidpic jolting at first in its message namely that americans are a bunch of whiny namby pambies who didn t care a whit about terrorism before it came crashing onto our doorstep mcgovern s chest clearing rant overwhelms the narrative and mutes the pleasure of seeing fitz back on the case \n",
      "* * * * * * * * * \n",
      "13628\n",
      "it s possible that a man called sledge might have been done irreparable damage on the cutting room floor maybe someone will demand a director s cut one day but i seriously doubt it james garner decided to cash in on the spaghetti western market and in doing so brought a whole lot of americans over to fill the cast out folks like dennis weaver claude akins john marley and of course we have vic morrow who both wrote and directed this film garner always gets cast as likable rogues because he s so darn good at playing them but he has played serious and done it well in films like the children s hour and hour of the gun he can and has broken away from his usual stereotyped part successfully but a man called sledge can t be counted as one of his successes he s got the title role as luther sledge notorious outlaw with a big price on his head after partner tony young gets killed in a saloon and garner takes appropriate eastwood style measures he s followed from the saloon by john marley marley s spent time in the nearby territorial prison and it seems as though gold shipments are put under lock and key there on a rest stop for the folks transporting the stuff on a regular run garner gets his gang together for a heist here s where the movie goes totally off the wall usually heist films show the protagonists going into a lot of methodical planning certainly that was the case in the war wagon which some other reviewer cited but in this one garner decides to break into the prison as a prisoner of fake us marshal dennis weaver and cause a jailbreak at which time the gold will be robbed that was just too much to swallow if taking the gold was this easy it should have been done a long time before but i will say for those who like the blood and guts of italian westerns during that prison break there s enough there for three movies that s not the whole thing of course the outlaws fall out and we have another gore fest before the film ends but by that time the whole film has lost a lot of coherency the great movie singer of the thirties allan jones is listed in the credits but for the life of me i can t find him in the film maybe a chorus of the donkey serenade might have made this better couldn t have hurt any \n",
      "* * * * * * * * * \n",
      "13670\n",
      "another too bad the lowest they can go here is one otherwise this would get an easy zero truly one of the worst films i have ever seen in fact were peckenpah s name not on the thing i would never have guessed he did it actually one of the people in san francisco i know was on the set a lot and from nearly sunup on he says that sam was just plain snockered it shows in spades the laughing bit at the early part of the film is the only thing in this entire mess worth a second look not even gig young is watchable this is a true test of masochism had i been forced into the confines of a theatre to see it i would have jumped up screaming and now i truly feel guilty having watched it all from the confines of a very comfortable couch that was just too nice to leave what a mess it seemed less written than made up as they went along it s not only a bomb but a bmob spelled backwards yikes \n",
      "* * * * * * * * * \n",
      "13773\n",
      "this astonishing waste of production money is filmic proof that the rich and famous can be just as stupid and wasteful as politicians from a silly play by tennessee williams and directed with a dead hand by joseph losey and starring taylor and burton and noel coward this project filmed in a spectacular cliff top mountain island mansion in the mediterranean must have seemed a sure fire winner when presented to universal in 1967 the result is so absurd and tedious that it almost defies belief visually the film is spectacular but that is the force of nature that has allowed the setting and the fact that a real home is used instead of a set the shrill antics of a screeching taylor burton s half asleep wanderings the loony dialog noel coward laughing at himself the ridiculous story and plot devices and the absurd costuming simply irritate the viewer boom is a disgrace a waste of money and talent and clear proof that lauded famous people can be idiots just like the rest of the planet s plebs not even fun just terrible and mad shocking waste \n",
      "* * * * * * * * * \n",
      "13825\n",
      "as long as you can suffer it if you like watching people waking up getting up getting dressed having a shower preparing dinner watching each other having sex in the dark then going back to bed to sleep if you like tacky flats narrow bedrooms and kitchens long minutes of silence if you like getting bored for two hours feeling the thrill of real intimate false art then you will like it but if you don t just try to see a good movie there are thousands as long as you are here but do we want to stay this german movie got the award of the torino gay film festival italian journalists still don t understand why the jury took such a bad decision as the festival presented lot of talented movies maybe to be nice with a german as they don t often get awards well the lives of others did but this one is excellent but not gay so maybe it is a question of fashion germans are they in again no matter what or maybe only for a hustler s glance of some directors \n",
      "* * * * * * * * * \n",
      "13975\n",
      "this was far and away the worst movie i ve ever seen in my entire life it was slow boring not scary not funny not dramatic not entertaining sarah michelle gellar was up to her old playbook of empty expressions of fright and shock she couldn t sell her character nor could anyone else in the picture for those who thought the grudge was kind of alright then don t go see this unless you get enjoyment out of wasting your time and your life i saw this movie for free by the way so i don t want this to come across as a rant from a guy that lost 8 bucks on a terrible movie it was free it still sucked i hated it avoid \n",
      "* * * * * * * * * \n",
      "14102\n",
      "flat ordinary thriller about a conniving woman who deceives all those she supposedly loves in order to boost her bank account nicole kidman plays the deceptive tracey married to the doting andy bill pullman when an old school friend of andy s named jed hill alec baldwin turns up as the resident surgeon trouble is not far behind him script fails in that it does not carefully develop the promising premise into an effective tantalising thriller and the severe lack of character motivation background and development leaves the whole show reaching none of the cast are able to generate interest in their shallow characters especially bill pullman whose own inexplicably curious andy is impossible to believe poor director harold becker is left trying to resurrect an impossibly dead project and is unable to make entertainment from any of it by the time the secret of the plot is revealed you just won t care at least the cinematography has massachusetts looking good also stars george c scott peter gallagher and josef sommer sunday february 25 1996 t v \n",
      "* * * * * * * * * \n",
      "14143\n",
      "i ll be blunt i m not one for politically correct movies where the woman plays the bad ass who s not going to take any crap from anyone if any one of the cast members wanted to they could have just taken her out in a heartbeat it was entertaining on mst 3k but don t rent the real version trust me have i ever lied to you \n",
      "* * * * * * * * * \n",
      "14155\n",
      "very bad film very very very bad film it s a rarity but it defenitly is not worth hunting down this italian jaws rip off makes little sense most of the time and no sense the rest the alligator is not at all convincing and many of the sub plots go nowhere if it s at the local video store you may want to watch it if you re a fan of monster movies but it s not worth hunting down \n",
      "* * * * * * * * * \n",
      "14340\n",
      "i don t understand why making remakes has become the trend every remake i have ever seen is awful and this is no exception if any of you have seen the quote from ben jones that it is a sleazy piece of trash he is quite right why they would take a wonderful television show which i loved have never missed an episode and own seasons 1 4 on dvd and ruin it i ll never know the television show was a family show and although daisy has the body it was really flaunted or even addressed in the show save the outfits a family show has been turned in to a dirty piece of garbage and i wouldn t recommend anyone go see it another thing i didn t like was that john schneider and tom wopat are excellent actors along with the rest of the original cast and they are also extremely cute the new bo and luke are not even a little cute that was one of the drawers for the show the casting is terrible they could have at least gotten a brunette for daisy i don t think burt reynolds is a qualified boss hogg either every other role he has ever played is totally opposite this role the only role they cast halfway decent is willie nelson as uncle jesse but still it is no comparison denver pyle is an actor all his own and that made him perfect for the role i think that the casting is awful the story is awful and all in all ruined a wonderful show and turned it into a dirty terrible movie i wouldn t recommend anyone go see it i only saw it out of curiosity plus there was a free ticket in season 4 dvd i would never have paid to see this movie but it was free don t pay to see this movie \n",
      "* * * * * * * * * \n",
      "14354\n",
      "i awake suddenly aware that i m drooling onto the plastic couch cover and realize it s a warm saturday afternoon why was i sleeping did i hit my head or accidentally swallow all of my grandma s muscle relaxers could it be adult onset narcolepsy no i momentarily paused on cheap seats while channel surfing and the stunning lack of humor and talent drained my life force with such speed that i blacked out it s that head shaking mouth agape shoulder shrugging bad but i have to give these moronic and boring twins credit for selling this idea through perhaps they had the same effect on the espn programming executive that they had on me and when he she woke up a few horrendous episodes were already in the can and he she hoped that since all the viewers will be asleep no one will now how awful it is and he she can keep the 425 000 annual salary you ve been warned \n",
      "* * * * * * * * * \n",
      "14391\n",
      "with that line starts one silly boring british sci fi film the great vorelli from the movie devil doll builds a teleportation machine only to have his funding cut off by blanchard a bearded man who has a thing for bow ties and men with large eye brows when his experiment fails the good doctor learns that lembach the man who controls all of the grants in the world will be staying in london for a few days he attempts to project himself into the house of blanchard with the help of his comely lab assistant sheila needless to say something goes wrong and he winds up looking like a rat the rest of the movie is devoted to the good orange haired doctor walking around london shocking people with his mutated hand and wearing a diaper on his face there are some more killings some modest paper work and finally the doctor vanishes to where ever rat faced doctors go thankfully no one decided to make a sequel \n",
      "* * * * * * * * * \n",
      "14426\n",
      "the howling ii starts as it means to go on with a bizarre and surreal opening narration by christopher lee whose image is imposed over a moving star field oh and a skeleton appears as well for some reason he says for it s written the inhabitants of the earth have been made drunk with her blood and i saw her sip upon a hairy beast and she held forth a golden challis full of the filthiest fornication s and upon her forehead was written behold i am the great mother of an inaudible word i couldn t make out no matter how many times i rewound the tape and tried to sorry and all abominations of the earth this opening narration means nothing at all and is just downright bizarre after the opening credits which are set over shots of transylvanian architecture we get an on screen caption that informs us we re in los angeles california u s a city of the angels i knew i was in for a long 86 minutes it s probably not too long after the events of the original howling 1981 and it s karen white s funeral after the ceremony karen s brother ben reb brown is spoken to by an occult investigator called stefan crosscoe christopher lee who says that karen is a werewolf and that she will come back to life ben dismisses such nonsense but together with one of karen s friends and colleagues jenny annie mcenroe he visits stefan at his home there stefan tells them about werewolves and how they can be killed he mentions stirba sybil danning who is the queen of werewolves stefan also shows them a photograph taken at karen s funeral of a woman named mariana marsha a hunt and that she is an extremely vicious and dangerous werewolf who wants karen stefan says he will stake any werewoves through the heart with titanium ben figures out that stefan means he will stake karen as well so together with jenny he travels to the graveyard where his sister s crypt is to stop stefan however lots of werewolves turn up and attack stefan ben and jenny they survive the attack and manage to find out that stirba is to be found in transylvania they all decide to travel to transylvania and stop stirba and her werewolves from taking over the earth by fulfilling a centuries old curse once there they travel to a small town called vlkava which means where wolves live and meet up with the local priest father florin ladislav krecmer and his small but loyal group of werewolf hunters hey what else can i call them oh and a dwarf named florica ludmila safarova helps too they follow mariana who they hope will lead them to stirba but stirba knows of stefan s arrival and has plans for him ben and jenny will stefan be able to put an end to stirba s plans for world domination will this film get any more bizarre or surreal watch it and find out directed by philippe mora this is one strange mess of a film it s poorly edited as certain sequences just jump around incoherently the single biggest problem is the script by robert sano and gary brandner based on his novel which is all over the place and doesn t make any sort of sense or introduces us to any proper characters that we like luckily it moves along like a rocket and is never dull or boring unlike the original something strange or bizarre is always happening to keep the viewer entertained most people will probably hate it but for those of us who enjoy bad films this is right up there with the best of them there are werewolf orgies which are just freaky to watch we get some cool werewolf killing weaponry the sets and locations just seem so out of place and i don t know if this was actually shot in transylvania but it doesn t look like what i thought mid 80 s transylvania would stirba s castle is part dungeon part gothic castle and part modern luxury house stirba and her servant s costumes are very over the top stirba wears an outfit that looks like it belongs in a s m video and to be fair to her she looks pretty sexy and her minions wear skimpy leather clothing too the special make up effects range from good to poor a dwarf s eyes explode someone has their hand ripped off and a priest has some creature emerge from his mouth but this isn t a film loaded with gore although there are plenty of effect sequences with werewolf transformations and attacks there is plenty of nudity as well as stirba and her minions are a real randy bunch of werewolves i should also mention the music the soundtrack is dominated by awful rock music that i hated and i ended up turning the volume down acting is weak all round and what on earth was christopher lee thinking about when he accepted this film i wonder what he thinks of it basically the whole thing is a real mess but i found it a fairly entertaining mess all the same impossible to recommend but it kept me watching through to the end speaking of which the end credits run over what appears to be deleted scenes and cut footage it also features the same shot of sybil danning taking her dress off and exposing her breasts probably in excess of 20 times if that s your thing \n",
      "* * * * * * * * * \n",
      "14433\n",
      "i totally hated the movie it was so retarded they need to get some acting lessons no wait that won t help because the naked brothers band people a retards you know why i am here even though i am a naked brothers band hater to warn people before they watch the dumb movie so that the nbb doesn t get any money from it so then they can t make any more amateur stupid songs that are so retarded that any old guy could go and write it in 10 seconds not only are the song lyrics retarded they sing badly okay i m kinda getting off the movie here anyways it was boring and they acted horribly it was not funny at all even though they tried really hard for it to be i guess they deserve some credit for that well the movie isn t worth your time just look at its rating the movie and the series is very painful to watch for anyone who has even half a brain seriously if you liked it you need to go watch movies where the actors actually act not babbling their lines in a monotone i am on the drama club at my school and some people there are actually better than those nat and alex guys hurry before it s too late i seriously thought that herbie fully loaded was better than this piece of poopie i don t even know why i went through even half of that film i don t think it even deserves to be called a film \n",
      "* * * * * * * * * \n",
      "14448\n",
      "words cannot describe how utterly abysmal this movie is it is a series of random unfunny clips about everything from a stupid batman spoof to a guy getting it on with an old dead lady really disturbing the only remotely amusing thing about the underground comedy movie is watching joey buttafuoco the best actor in this movie also it is rated nc 17 shunning away the only people that might tolerate it \n",
      "* * * * * * * * * \n",
      "14498\n",
      "this may sound crazy to even the people who remember this show but i remembered this as being live action i don t think i ever saw the cartoon but movie maybe i remember it very clearly the guy was in a building kinda like a showroom he even had the red jacket it was dark out and he turned into a red car and there was this guy on the second level looking down at him the car guy spun around and crashed through the big showroom type window and out onto the street and then proceeded to drive off that is all i remember i really hope someone else out there remembers this too if not maybe i m still crazy but i m hoping i m not \n",
      "* * * * * * * * * \n",
      "14627\n",
      "not a movie but a lip synched collection of performances from acts that were part of the british invasion that followed the dynamic entrance of the beatles to the music world some of these acts did not make a big splash on this side of the pond but a lot of them did featured are herman s hermits billy j kramer and the dakotas peter and gordon honeycombs nashville teens animals and of course the beatles it is so much fun watching these young acts before they honed and polished their acts \n",
      "* * * * * * * * * \n",
      "14631\n",
      "yowza if anyone who loves laurel and hardy can watch this movie and feel good about it you re a better person than me this movie while a great attempt at imitating laurel and hardy through appearance sound and routine falls very short of honoring them or even being a movie of any substance i blame larry harmon dialogue is torn from old l h movies and planted in unrealistically the plot is muddled with useless characterization of the other needless co stars pinchot s accent was bizarre for stan and while sartain did an excellent job with ollie s accent he tried too hard to create the wonderful mix that was mr hardy where was a good musical number editing is choppy acting is stiff lines are horrid physics are implausable although perhaps they were trying to give it that feel of cheap sets and overall it s a terrible thing to witness it s even more painful to watch than atoll k where the legendary duo did their last film in awful 1950 s era writing and photography do yourself a favor and watch as much of the original laurel and hardy films as you can and learn how things were you know what a magnate is don t you stan laurel did not perpetually reply with semi moronic quips at every sentence i pity anyone who thinks that this was a decent update honor of the boys where was the classic theme song why ruin here s another fine mess why skip any the wiser why was there a pointless gaggle of co stars why miss gulch from the wizard of oz why must larry harmon be in it why bozo and did the learning channel help fund the thing i mean really fart jokes for god s sake fart jokes \n",
      "* * * * * * * * * \n",
      "14725\n",
      "i love the frequently misnomered masters of horror series horror fans live in a constant lack of nourishment projects like this and the similar greenlight project with gave us feast like it or lump it are breeding grounds for wonderful thought bubbles in the minds of directors with a horror bent to develop and bring to maturation food for we who love to dine on horror this one began with a kernel of really kool idea and ran right off the edge of where in the world am i going with this i don t know how to spoil the spoiled but spoiler ahead all of a sudden no there was that light drifting across the night sky earlier we have long haired luminescent aliens huh huh brain drilling males and yeah i get it but well the worst curse of storytelling a rousing and promising set up without a rewarding denouement cue to storytellers your build up has to have a payoff that exceeds build up not the other way around storytelling math 101 end of spoilers big oops \n",
      "* * * * * * * * * \n"
     ]
    },
    {
     "name": "stdout",
     "output_type": "stream",
     "text": [
      "14924\n",
      "beast wars is a show that is over hyped overpraised and overrated let s meet the characters of this obnoxious show whose creators must have been on acid to try and make a show like this cheetor seriously they need to have censor bars on this guy how come he dosen t creep out the viewers having the same voice as baby taz at least razzoff from rayman 3 hoodlum havoc is voiced by slip slide action blast if you want a line of show that suck get g4 tranceformers cybertron a show that should go down in a toilet good job creators sarcasm show it self retarded boring at least the super mario games are better this show had a lot of followers sayin bring it back but i believe that it was cancelled for its own good \n",
      "* * * * * * * * * \n",
      "14947\n",
      "this is a decent endeavor but the guy who wrote the screenplay seems to be a bit in the dark as to what exactly makes a zombie movie cool no it isn t cgi bugs and software companies actually i m not sure whether it was a software company i saw it without subtitles so i had to guess what they re talking about anyway my point was instead of wasting your time animating some dumb ass bug why not throw in more zombies and more action 2 3 of the 20 minutes consist of news bulletins bugs some guys yelling about something and to makes matters worse more boring most of the deaths occur off screen i realize that s all too common for no budget movies but then there were some very impressive effects well kind a of which left me wondering why did the director or screenwriter whatever chose to focus on how the epidemic started it s a short nobody s gonna care anyway \n",
      "* * * * * * * * * \n",
      "15000\n",
      "spoiler the young lover jed is kicked out by the spinster kate andie mcdowell because she wrongly believes that jed is having an affair with one of her two catty girlfriends kate thought she caught them en flagrante delicto kate throws jed s shoes out the door jed reluctantly leaves and then sits in the middle of the road to put his shoes on then he gets run over crushed one of the meaning of the title by a truck and dies and then he gets run over by a truck can you imagine a screenwriter actually submitting a script with this plot element up to then its a comedy that intends to be frothy but lacks any real fizz everybody but jed is just annoying and then they kill jed and everybody s sad until the end where the gals learn to love one another and be supportive instead of destructive i give it 2 ugh s \n",
      "* * * * * * * * * \n",
      "15043\n",
      "in this short an urban man and his wife have their weird lives set akimbo when the man takes to wearing an old red pants suit of his mother in law s i kept watching this hoping that i could see why it had been made or why the other reviewers found it funny for me it was a total waste of time not everyone s tastes are the same but this was clearly not to mine \n",
      "* * * * * * * * * \n",
      "15257\n",
      "when viewing a movie as silly as hot rod one must sit back relax and alter one s intellectual capacity to a like state which is in this case a state dimwitted enough to endure brainless drivel that has somehow been mistaken for comedy with a brief runtime of 88 minutes this film was long past drawn out and buried itself beneath a bundle of repetitive jokes jokes that came at a minority and weren t even funny in the first place hot rod s base material is as superficial and irrelevant as 2004 s cult hit napoleon dynamite though it s much more contrived and comes without any of the laughter in fact the movie s blatant desperation to be compared to napoleon dynamite is scornful and offensive and left me ticked off instead of just being annoyed the movie if one were compelled enough to call it such poses a paltry story that puts self proclaimed stuntman rod kimble before us with the trifling intention of jumping fifteen buses one more than his idol evel knievel jumped so we re told by rod and raising 50 000 dollars for his stepfather s impending life saving heart operation all so that he can fight his stepfather once recovered and gain his respect because in order to gain one s respect one must first fight them huh whatever each character is no more interesting than rod s stick on mustache and from the film s opening joke to its ridiculous conclusion each scene played like a nonsensical and terribly unfunny snl skit which with the addition of an extra 85 minutes is essentially what hot rod strives to be the film s star andy samberg contributed an effort to the screen that observably exerted every last drip drop of his comedic capabilities unfortunately rather realistically his humorous talents are no more admirable than a five year old retelling his own exhausted joke that somewhere includes the innocently crude poop and pee pee gags and if that s disappointing pull a chair hide your face in your hands and brace yourself for the real blow he is the film s humor to rescue them of their mortification i ll willingly omit the ghastliness of samberg s co stars roles and leave the second third of the lonely island team director akiva schaffer to his non existent talent as a director or a comedian basically every thing one could possibly do to further trample a crash course comedy is perfectly portrayed here and done so arrogantly as though the film would be funnier that way trick yourself into believing that there s even a single laugh in this heap or treat yourself to another movie any other movie \n",
      "* * * * * * * * * \n",
      "15264\n",
      "shallow shallow script stilted acting the shadows of boom mikes lingering over the actors heads in scenes worth watching because kate mulgrew plays the most selfish mother in tv movie history and it s all before ben affleck got his teeth capped \n",
      "* * * * * * * * * \n",
      "15356\n",
      "i m 47 years old and i ve spent as much of my life as i can remember a fan of horror and sci fi films be they silent black and white no budget or big budget there are very few of them that i can t find something to like about that said i ll give this movie credit for good gore and creature effects but that s all this is a case of effects over story truth is we live in a time where there is very little left that hasn t been seen in a horror film therefor for a film of any kind to really entertain it must have a good original story a good story can overcome poor effects and bad acting but a bad story with good acting and good effects is still a bad movie this movie doesn t even have good acting only good effects so unless you can only about the gore pass this one up \n",
      "* * * * * * * * * \n",
      "15499\n",
      "one of the worst movies i ve ever seen with robert de niro the fan is a pointless cliché of an exercise in slasher flicks it tries to spin or twist the genre with preposterous plot lines of a a crazed fan turned psychotic the movie meanders into nothing spoiler we re to believe that a knife wielding idiot has access to and murders a baseball player in a lavish hotel with no witness security or cameras the movie is nonsense trying to tug at our heart strings through the hoopla of baseball ending up mockingly unsophisticated and gimmicky not sure what all the actors were thinking when they got onboard this razzie this is as big a dud as they come stay far away if you prefer thought in your movies\n",
      "* * * * * * * * * \n",
      "15734\n",
      "as a big fan of the original film it s hard to watch this show the garish set decor and harshly lighted sets rob any style from this remake the mood is never there instead it has the look and feel of so many television movies of the seventies crenna is not a bad choice as walter neff but his snappy wardrobe and swank apartment don t fit the mood of the original or make him an interesting character he does his best to make it work but samantha egger is a really bad choice the english accent and california looks can t hold a candle to barbara stanwick s velvet voice and sex appeal lee j cobb tries mightily to fashion barton keyes but even his performance is just gruff without style it feels like the tv movie it was and again reminds me of what a remarkable film the original still is \n",
      "* * * * * * * * * \n",
      "15828\n",
      "well you might not actually see any women in love in this movie but you ll certainly hear women talking about love and men talking about love and women talking about men and men talking about women and men talking about men and everyone talking about death and talking and talking until you yourself will want to scream and do something that requires no talking at all like paint your bedroom or water your plants welcome to the world of d h lawrence where psycho babble reigns supreme and where no one can get down to living a productive life because everyone is too busy talking about how unproductive their lives are spending time with the characters in a d h lawrence novel is like being locked in a closet with a group of your most self absorbed acquaintances who you would run away from if you met them at a party when i read women in love i so desperately wanted to strangle every single character in it but since i couldn t i was hoping they would at least strangle each other alas only one of them dies not by strangulation and i won t spoil it for you by telling which one in case you actually give a damn about this story or any of these people to give director ken russell his due he makes this filmed version about as entertaining as it s possible to make this essentially unfilmable novel he throws out much of the psychological mumbo jumbo that lawrence adored and focuses instead on all of the naughty parts so we get lots of histrionic lovemaking in beds and fields two buck naked men wrestling by firelight and one embarrassing scene featuring alan bates yup buck naked again roaming around in a meadow making love to bushes and grass i m not kidding glenda jackson won an oscar for her performance as gudrun the more dominant of the two sisters at the story s focus and she certainly tries her hardest to do something with this material anyone would deserve an oscar simply for having to bear russell s decision to give her a scene where she has to dance wildly in front of a herd of mystified looking cattle oliver reed has one expression an intense glower the whole thing is over written and over directed and it s deliriously campy indeed this vies with mommie dearest as perhaps the most unintentionally hysterical movie i ve ever seen grade d \n",
      "* * * * * * * * * \n",
      "15876\n",
      "to overcome the death of his wife an old man does what anyone in his position would naturally do at least in a peter greenaway movie he and his son populate their home with eight and a half one has no legs women and embark on a sexual odyssey this being a greenaway film there is lots of pretentious and uninteresting blabbering and of course there is unnecessary male nudity in fact the father and son share a bed sleeping in the nude gross besides who wants to see an old guy full frontal for those who are not into the homo erotic scene one of the women likes to do the nasty with horses there is no story just a random collection of dull scenes \n",
      "* * * * * * * * * \n",
      "15896\n",
      " laughter is a state of mind says the tag and i hesitate to comment on barry levinson s what could he have been thinking during the making of toys when he watched the rushes did he see a successful funny fantasy if so then he s working on a different plane than i this is an excruciating picture one in which the production design is 90 of the thing and even the cartoon colors are a disappointment robin williams and most especially joan cusack are humiliated as brother and sister of a toy mogul who are bypassed as inheritors of the factory when their dad dies there s nothing remotely funny satirical or slapstick wise on display here it is uniformly draggy ugly and one of the very worst big movies ever made no stars from \n",
      "* * * * * * * * * \n",
      "15901\n",
      "i really must have caught a different film from the rest of the commentators on this site because at a screening of the film last night the audience was so mortified by the dialoge that i m not even kidding half walked out shot as if the filmmaker thought he were approaching some daring new territory by presenting a homosexual coming of age story the film utilizes david lynch inspired visuals with fassbinder inspired acting the performances in this film are so dull and bored that i figured one of the actors was going to pass out by how uninspired they seemed to be by the script what s worse is that it s colored like an episode of miami vice i don t know who this director thinks he is maybe he has pretensions of the surreal like bunuel jordowsky etc but the problem is that all of the afore mentioned directors display a level of erudite sensibility that is sorely lacking here i could understand the meaningfulness of this film about ten years ago but when we ve got masterpieces such as bad eduction mysterious skin and show me love why bother with this cinematic turd there is nothing new to be seen here \n",
      "* * * * * * * * * \n",
      "15926\n",
      "i only watched this movie because i was so impressed with olivier martinez in swat but this is no swat swat had a plot and some likable characters and made sense bullfighter had none of these i should have realized that it couldn t possibly be any good after all the always painfully bad michelle forbes had a starring role one poster here called the movie incoherent another called it the worst movie ever both gave the movie far too much credit i am so glad i got it from the library for free yet i still feel ripped off imdb needs to include a 0 in the rate this film vote just for movies like this one \n",
      "* * * * * * * * * \n",
      "15970\n",
      "it s impossible for me to objectively consider this movie not that i haven t tried mind you but i sit down and i pop in the aged vhs and i watch the opening and suddenly i m five years old again and clutching my very own care bear and watching the movie with open eyes and an eager heart i can see objectively that this movie is a bizarre combination of cuddly baby merchandising mascots and creepy prepubescent children with evil powers that has a thin story and uninteresting animation but my inner five year old goes yay care bears every time i think about it so i d only cautiously reluctantly recommend this movie for those who saw it during their early youth and can call on the awesome power of nostalgia while watching it like me or those lovably cynical gen x y ers who deliberately seek out the wonderfully bad strange a category in which this movie definitely belongs to those actually looking for a compelling movie or wholesome family entertainment you might want to keep looking \n",
      "* * * * * * * * * \n",
      "15971\n",
      "this is blatantly a futuristic adaptation of jules verne s mysterious island the sound editing is pretty bad you hear the dialogue on set and you hear the voices being recorded on a recording booth at the same time this is an amateur film with actors from boston and shot around new hampshire for those living in new engalnd and who is reading this comment will be wowed with a capital w this film is full of flaws you get to hear the director s voice giving directions and giving out directions to the actress ok now stand up as for the other characters there is this guy who talks with his mind instead of his voice and this blue alien the alien guy talks with a deep voice when he is yawning or grunting when he is fighting you hear the actor s voice as for the special effects man this was brett piper s early work for crying out loud the creatures are good but the animation is jerky really jerky sort of like karl zeman animation in journey to beginning of time 1955 the special effects are imaginative thge music is good bottom line this film makes equinox or planet of the dinosaurs look like a ray harryhausen epic did you know mysterious planet was a home movie and was on a shoes string budget a must watch for aspiring film makers \n",
      "* * * * * * * * * \n",
      "16116\n",
      "this is a movie that is bad in every imaginable way sure we like to know what happened 12 years from the last movie and it works on some level but the new characters are just not interesting baby melody is hideously horrible alas while the logic that humans can t stay underwater forever is maintained other basic physical logic are ignored it s chilly if you don t have cold weather garments if you re in the arctic i don t know why most comments here return of jafar rates worse i thought this one is more horrible \n",
      "* * * * * * * * * \n",
      "16202\n",
      "there have been very few films i have not been able to sit through i made it through battle field earth no problem but this this is one of the single worst films ever to be made i understand whoopi goldberg tried to get of acting in it i do not blame her i would feel ashamed to have this on a resume i belive it is a rare occasion when almost every gag in a film falls flat on it s face well it happens here not to mention the sfx look for the dino with the control cables hanging out of it rear end halfway through the film i was still looking for a plot i never found one save yourself the trouble of renting this and save 90 minutes of your life \n",
      "* * * * * * * * * \n",
      "16426\n",
      "i was supposed to review this for a website and i watched this with optimism that perhaps it would at least be a cheesy yet entertaining rip off and it didn t even do that well enough 666 the child is probably one of the worst supernatural thrillers i ve ever seen even worse than godsend with scenes that rip from the omen without shame the ending is even very similar to the way the omen ends not to mention that the acting writing and story are all just hackneyed if these movies make money i m sad to see where asylum is headed it s embarrassing \n",
      "* * * * * * * * * \n",
      "16554\n",
      "starts really well nice intro and build up for the main characters but after about 5 minutes the charm is lost the character is in the same mould as the main protagonist from american pie and loser without the supporting cast or innovative storyline that made the pie movies more of a commercial success let s be honest heder s acting was pretty poor keaton daniels and faris did their best but had no substantial plot or script to get their teeth into the movie just plods on without any pace or clear logical storyline justifying its length the ending is about as predictable as they come so predictable i ve ticked the spoilers box for this one line my advice avoid at all costs unless you really really have nothing else to do listen to or watch and even then you ll feel the producers just cheated you out of an hour and a half of your life \n",
      "* * * * * * * * * \n",
      "16663\n",
      "i had high expectations for this movie and was excited about renting it but was very disappointed when i saw it it was very poorly written and sort of just fell apart there wasn t a lot of good anything in this movie except maybe special effects \n",
      "* * * * * * * * * \n",
      "16812\n",
      "of the many problems with this film the worst is continuity and re editing it on vhs for a college cable channel many years ago i tried to figure out what exactly went wrong what seems to have happened is that they actually constructed a much longer film and then chopped it down for standard theatrical viewing how much longer to fill in all the holes in the plot as we have it would require about three more hours of narrative and character development especially given the fact that the film we do have is just so slow and takes itself just so seriously that s staggering what could the halperins have possibly been trying to accomplish here their previous film white zombie was a successful low budget attempt to duplicate the early universal studios monster films the mummy dracula etc and as such stuck pretty close to the zombie mythology that those in north america would know from popular magazines revolt of the zombies to the contrary appears to have been intended as some allegory for the politics of modern war this would not only explain the opening and the change of dean jagger s character into a megalomaniac but it also explains why the zombies don t actually do much in the film besides stand around look frightening and wait for orders they re just allegorical soldiers not the undead cannibals we ve all come to love and loathe in zombie films i am the equal to any in my dislike for modern war and its politics but i think a film ought to be entertaining first and only later maybe educational and definitely a film about zombies ought to be about zombies truly one of the most bizarre films in hollywood history but not one i can recommend even for historic value \n",
      "* * * * * * * * * \n",
      "16891\n",
      "the only reason that this movie is rated a 1 is that zero is not one of the selection options with a plot thinner than depression era cabbage soup horrific acting and special effects that look like they came out of the thunderbirds tv series it is amazing that widmark didn t kill the director for putting this black mark on his resume even by 1950 s standards the special effects are atrocious except for a couple of underwater submarine sequences i can only assume that it was nominated for best special effects because except for 20 000 leagues under the sea and them there wasn t anybody else doing effects it was certainly no contest for disney that year if this was their only competition i wouldn t recommend the film even for hard core submarine movie buffs as the most realistic scene on the submarine was limited to one shot where seawater can be seen dribbling down the up raised periscope there are other much better sub films that you can enjoy from this era like the aforementioned 20 000 leagues or torpedo run \n",
      "* * * * * * * * * \n",
      "16908\n",
      "i can t figure out who greenlighted this thing it has no redeeming qualities none nada zip zilch the acting was bad the directing was bad the writing was bad the plot was bad the music was bad the editing was bad well at least the filmmakers were consistent \n",
      "* * * * * * * * * \n",
      "16943\n",
      "but there are not too many of them probably the worst major release film i have seen in my life definitely the worst for this year there is no point in commenting on the plot the cast or the acting the problem is beyond all that it lays in the absolute stupidity of the annoying kind not the funny kind of everything that takes place on the screen i don t know why i gave it a 2 10 instead of 1 10 probably because of steven martini he really did try bottom line 95 minutes washed down the toilet along with a few brain cells avoid at any cost \n",
      "* * * * * * * * * \n",
      "17062\n",
      "minimal script minimal character development minimal steady camera maximum stretched scenes maximum headache inducing jerky zooms maximum characters walking around in the woods doing nothing up until the time flashes on the screen of 12 01pm you can fast forward and miss nothing since there are three hunters who we know nothing about doing nothing to be fair the movie does have some string music that was interesting so perhaps a music video would have been the way to go with this unfortunately that was not to be and what should have been a twenty minute short is stretched beyond belief forget about trigger man i know i am trying to merk \n",
      "* * * * * * * * * \n",
      "17490\n",
      "ok first of all the video looks like it was filmed in the 80s i was shocked to find out it was released in 2001 secondly the plot was all over the place right off the bat the story is confusing had there been some brief prologue or introduction the story would ve been better also i appreciate fantasy but this film was too much it was bizarre and badly filmed the scenes did not flow smoothly and the characters were odd it was hard to follow and maybe it was the translation but it was even hard to understand i love chinese epic films but if you re looking for a chinese epic fantasy film i would recommend the promise visually stunning the plot is interesting and good character development not this film beware you will be disappointed \n",
      "* * * * * * * * * \n",
      "17508\n",
      "when anyone comes into a film of this type of film it s not without saying that an overdose of that great over the counter brain medicine suspension of disbelief comes in mighty handy jeanette macdonald plays two roles anna brigitta the woman who nelson eddy has ignored since the beginning of time but who also is an angel sent to earth my reaction when i saw this was a mute gasp of hunh where have i seen this before it turns out i have seen it before but in a movie made much later than this one date with an angel a forgettable pile of dreck made in 1987 cashed in on the ethereal beauty of one emmanuelle beart who had no speaking lines also wore a blond wig and made life hell for soap actor michael knight much worse in every conceivable angle with ultra low 80s values but more than likely an updated version of this 1942 turkey anyway not to elaborate this is not a memorable film and stands as a doorstop of information because it was the last time macdonald and eddy neither very good actors but terrific singers would be together playing up the innocence and clean cut romance that they were known for after that you may need a cold shower not because there are any steamy scenes here but to get rid of the memory \n",
      "* * * * * * * * * \n",
      "17562\n",
      "this mini series also based on a book by alex haley as was queen tried to use similar formulas that is constructing a long history following the lives of a family over many years whereas in queen the result was masterful here in mama flora the inspiration was lacking firstly perhaps in the book itself and most certainly in this tv production too much is put in with too much haste over the years such that the unfolding saga is shallow superficial not nearly so authentic as in queen full marks for the scenification in the earlier parts of the film which was prepared with great care but as the film progressed it seemed to degenerate into a kind of dallasian forsythian unpalatable mix in the last third of its three hours or so duration i had hoped for more but evidently haley was less inspired with this tale than his near biographical queen and peter werner iii is no match for john erman only recommendable for those who have an appetite for these lengthy tales of generations growing up \n",
      "* * * * * * * * * \n",
      "17642\n",
      "hip erotic wickedly sexy whatever it s the terminator with werewolves no seriously the cop saves the girl waitress from the big monster and refers to himself as her protector the lead actor ryan alosio does a pretty good job of emulating kyle reese there s a massacre in a police precinct the bad guy is muscular with red eyes and it even contains dialogue along the lines of you said it yourself he won t ever stop never the dire script comes from a first time screenwriter who thank god hasn t sold anything since this and it s all thrown together by famously bad director richard friedman the movie opens in a strip bar always a good sign and a mean looking biker guy bursts in for no apparent reason pursued by three cops one of them is black and shock horror he s the one who gets killed in the first five minutes the film goes downhill for the next hour or so then picks up a little with some decent action sequences before rounding it all up with an abysmal ending for the most part the cast come across as competent actors doing what they can with a bad script and a director who s willing to settle for less if nothing else they appear to be learning how to act in this movie and alosio along with some of the supporting cast shows signs of talent darkwolf in his human form is played by gargantuan kane hodder famous for his numerous portrayals of jason vorhees in the friday the 13th movies he s decent enough especially considering he isn t used to speaking roles it s become famous amongst groups of horny teenage boys for the lesbian rooftop scene between andrea bogart and sasha williams who gets her kit off a couple of times in the grand tradition of former power rangers actresses and it s unnervingly clear that the editor spent way too much time on that scene anyway the main redeeming feature is that the physical werewolf effects are rather good and the design of the wolf isn t bad at all but the cgi is bad just plain bad i mean seriously if you can t reach some level of realism why bother just throw a little extra money into the make up aside from the terrible script this movie does have it s moments many of which are unintentionally funny it s good for a laugh if you don t have anything better to do but just don t spend any money on it please \n",
      "* * * * * * * * * \n",
      "18047\n",
      "i couldn t believe how lame pointless this was basically there is nothing to laugh at in the movie hardly any scenes to get you interested in the rest of the movie this movie pulled in some huge stars but they were all wasted in my opinion i think keanu reeves must ve taken some acting lessons a fews years after this movie before he stared in the matrix uma thurman looked very simple humble luckily i got this movie for a very low price because its certainly not a movie to remember for any good reasons i won t write anything about the story of the movie but as you should know that she is meant to be the most famous hitchhiker across america because of her huge thumb i would give this movie a 2 10 before i watched this movie i was wondering why this movie has only got a 4 0 10 now i know why a very disappointing movie don t buy it even if you see it for under 5 \n",
      "* * * * * * * * * \n",
      "18079\n",
      "there is this girl and she s running in the woods but she ends up at this woman s clinic and she wants an abortion her daddy is outside in a van and he is all angry about it the whole episode takes place in and outside of this abortion clinic i m not really pro choice but i wanted the choice to kill this episode i was laughing when i saw the baby come out and it went into the corner the part where they were doing the ultra sound was pretty funny too i was really feeling sorry for the poor dad in this episode he just wanted to protect his daughter and i couldn t really blame him for what he did i don t know what happened to him at the end or what happened to the other father and daughter in the waiting room i was just laughing too hard and i would suggest watching pick me up instead of this episode it wasn t the worst episode but it wasn t that great \n",
      "* * * * * * * * * \n"
     ]
    },
    {
     "name": "stdout",
     "output_type": "stream",
     "text": [
      "18461\n",
      "ironically although he can do the splits thomas is a complete stiff as an actor this film is seared into my memory as one of the most side splittingly cheesy and incompetent movies i have ever seen as such i m actually rather fond of it still the only reason this gets more than one star is that thomas is great shape and it s fun to see his tiny muscular body performing various feats of gymnastic skill on the oddly shaped rocks and poles scattered about the east european country side including the infamous pommel horse shaped well cap in the middle of a village square that thomas uses to plant his feet in the faces of various insane villagers but let the poor guy open his mouth and try to emote and any illusion that he might have a film career is immediately dashed to bits thomas at least had the excuse that he wasn t really an actor everyone else in the film actors director editor camera guys etc is at least as bad or even worse and most of them are professionals so kurt doesn t come off quite as badly as you might think i hope poor kurt took the money and ran if anyone ever asks him to perform in a martial arts film again i ll bet that thomas kicks the guy in the face \n",
      "* * * * * * * * * \n",
      "18482\n",
      "what a great actor to have in such an awful story the film and its production however is quite good even though set in london but with exteriors in bristol no matter see one cathedral you ve seen em all sort of the story however is about a man born with the power to wreak death and destruction upon anybody and anything should he so wish with just a passing reference to true life instances of telekinesis the narrative builds a picture of a man misused and misjudged as a boy a teenager and finally as a man so much so in fact that he exacts vengeance at will literally over time he comes to the conclusion that the whole world is heading the wrong way and thus sets out to destroy the lot just by thinking about it the trouble with the narrative however is that it tries to mix genuine scientific data about strange mental powers and merge it all with quasi religious claptrap to produce a hodge podge theory about it all mixing fact and fantasy in this fashion rarely works and i m afraid richard burton had to overact awfully on some occasions when trying to sound convincing his very best scene however is when he gave his wife and her lover a verbal pasting as they left his home sharp witty and deadly dialog delivered as only burton could a good supporting cast helps to make things look and sound a lot better though beginning with lino ventura whom i last saw in garde a vu 1981 as inspector brunel harry andrews as assistant commissioner the much under rated lee remick as dr zonfeld derek jacobi as a publisher towney and a few other well known character actors i liked the way the story was presented as flashback within flashback to fill in the back story and thus solve the immediate mystery of the attempted murder of morlar richard burton the writer with the killer disposition up till that point it was a good piece of visual detective work by brunel and his english sidekick still it was very predictable as it became quickly very obvious to me about the identity of the would be murderer then they went and spoilt it all in the last fifteen minutes if you want a clue about what that is think samson and delilah 1949 from the illustrious cecil b de mille and how samson got the bad guys in the end and the very last scene is just plain stupid why because there are at least a hundred ways that morlar s rampaging could have been stopped absolutely shame actually because this could have been a lot better story and movie i guess burton really needed the money if you re burton fan then spend the time to see that scene i mentioned above otherwise don t bother \n",
      "* * * * * * * * * \n",
      "18500\n",
      "resnais wow the genius who brought us hiroshima mon amour takes on the challenge of making a 1930s french musical in vibrant colour the opening voice over with old embellished inter titles was a nice touch then the camera aperture opens like the old hand crankers on a black white placard the camera backs off or rather up suddenly showing us the surprisingly brilliant colours of an elegant table set for a tea party this is all in the first 60 seconds then the music starts a rather banal and forgettable diddy featuring an unconvincing chorus of 3 girls blabbering some nonsense which has no relevance to the film and yes i speak french so i can t blame it on the subtitles those characters whiz out the door and are replaced by more people who break into an even more forgettable song then they leave and finally audrey tautou appears and we hear our first appreciable dialogue 15 minutes into the film i m not sure what resnais intended by starting off with such a yawning waste of time musical cacophony but the effect on the viewer is to make you want to hurl skittles at the screen and storm out i endured it didn t get much better i ll tell you why there is absolutely no familiarity with any of the characters we don t even see their faces half the time as resnais seems too intent on showing off the expensive scenery to care about the actual people in front of the camera people flit on off stage like moths around a lamp and we the audience are unable to focus on any particular person or plot it s as if you were to take every episode of the brady bunch and cram it into a 2 hour movie with bad songs the only thing that kept me watching as long as i did 1 hour was that i was looking at the camera techniques lighting and scenery which were all i admit excellent but is that enough to hold your attention for 2 hours not me maybe tomorrow i ll try watching the end aw who am i kidding i have more important things to do i m sure you do too skip this \n",
      "* * * * * * * * * \n",
      "18513\n",
      "the first half hour or so of this movie i liked the obvious budding romance between ingrid bergman and mel ferrer was cute to watch and i wanted to see the inevitable happen between them however once the action switched to the home of ingrid s fiancé it all completely fell apart instead of romance and charm we see some excruciatingly dopey parallel characters emerge who ruin the film the fiancé s boorish son and the military attaché s vying for the maid s attention looked stupid sort of like a subplot from an old love boat episode how the charm and elegance of the first portion of the film can give way to dopiness is beyond me this film is an obvious attempt by renoir to recapture the success he had with the rules of the game as the movie is very similar once the action switches to the country estate just as in the other film i was not a huge fan of the rules of the game but elena and her men had me appreciating the artistry and nuances of the original film \n",
      "* * * * * * * * * \n",
      "18522\n",
      "i watched this film in youth group where my otherwise intuitive youth leader and his wife squeed over it then some adult couple at a church related christmas party misled themselves into giving a copy of this movie to every single family in attendance and now my household is stuck with the film though it thankfully still remains in its shrinkwrap i cried bitter tears over these sad events and here s why first off this film has good intentions especially if you re a christian like me this movie is trying to show that you should put your faith in god and that it ll make your life better not so bad right eh it turns out a be a problem a big one this movie was made by a church so of course every single issue has to be dealt with as tastefully for christians as possible it is all black and white no gray areas god s grace and will in this movie is a predictable thing and it comes instantly to all those who do his bidding this is not the god i know this is not the christian life i am familiar with the god i believe in is a powerful and trustworthy god but he is not one that grants my every wish i follow him as best i can though the going is often hard yet the football team in this movie finds their humility and self control a lot easier than anyone should ever find it i cannot relate to cardboard cutouts who flip from bad side to good side in the course of a few structured movie scenes and when i do follow his commandments as laid out in the bible i certainly don t find myself showered in blessing as these characters do the largest of my immediate rewards is knowing that i have done the right thing everything else comes with long messy arduous work but take the example this movie sets grant taylor coaches the football team at shiloh christian school which has had 6 losing seasons in a row he may lose his job over it and he and his wife are low on money as it is they want a baby but the doctor tells him he is sterile oh and his car doesn t work and the boys on his football team are disrespectful to their parents whiny after their million losses and bad at kicking field goals this is sure one rundown community here but wait grant taylor decides he s going to trust in god for everything and he passes on his faith to his team so far so good not for long as they begin to obey blessing literally pour in on them suddenly the students stop disrespecting their parents the school has a big revival the team starts winning every game they even win the grand championship against the hardest team in the league coach taylor s job is reassured the school gets him a shiny new truck as a present which by the way is the epitome of shallow fair weather employers he gets a raise his wife get this even gets pregnant from his sterile sperm and that skinny kid manages to kick his first darn field goal right when it really matters wowzers woot yay praise the lord etcetera etcetera yipe just yipe nobody in my church has ever experienced christ in a such a cut and dry manner yes there have been miracles aplenty in my family as well as gifts and creature comforts and i attribute them to god s grace and lovingkindness but god isn t some faucet tap that you turn on and off by being good or bad he is by and large a mystery his gifts come unexpectedly often when you think you don t need them but you really do it s a long hard slog to the road of fulfillment and things never turn out the way you thought they would this movie has good intentions but because of its supreme shallowness and total escapism it tanks tremendously to a 1 10 the bad acting and sports movie clichés seem to be mere pimples next to the leprous falsehoods that this movie inadvertently pushes to all you future churches planning to make a movie don t be afraid to show real life even you have to add some inconvenient truths into the mix however much the baser populace is wowed by this cotton candy treat nobody has learned anything substantial from it give us the meat the bones the real stuff true life applies to everyone not just christians and that s one aspect facing the giants didn t manage to grasp \n",
      "* * * * * * * * * \n",
      "18568\n",
      "complete waste of time this movie is not comedy it s not drama it s not romance not even teenage comedy at least story it should be some turn over one end but it s so disappointing when movie has a turn over on end i expect that turn over to make movie even better exp fight club but this turn over makes movie even worse when i watch teenage comedy and i don t do that very often i expect lousy jokes and bunch of nudeness jokes are too lousy and there is no nudity you got only one very good looking i must admit girl and that s that and she s fully dressed whole movie acting is bad like soap series don t waste your time there are porns with better story and acting sorry on my bad english \n",
      "* * * * * * * * * \n",
      "18630\n",
      "supposedly based on the life of domino harvey a model turned bounty hunter i d say 95 is fabricated i always keep an open mind when it comes to movies however this movie lost its chances when it became apparent it had narration throughout the film something i can t stand and to top it off the heroine of the story is so hateful and depicted as an arrogant b ch i just wanted it to end with her being shot in the head it s too incoherent too flashy and way too boring it s a who gives a crap kinda story and i really think that big time directors need to make movies based on their own or a writer s own imagination not something based on some ignorant snobby brat s life \n",
      "* * * * * * * * * \n",
      "18671\n",
      "this rubbish excuse for television is the single most god awful piece of trash ever to hit australian television the house mates are dull uninteresting ridiculously unintelligent and are picked on the basis that you would be likely to attempt to murder them if you had to live with them as far as i am concerned big brother is the decline of western society showing how us as a society are on a steep slope to becoming brain dead morons whatever happened to television that didn t target the lowest common denominator of society as an audience this cannot be classified as entertainment i think that it true that channel ten can remove your soul it happened to rove mcmanus who was once a respectable comedian and once moving to channel 10 become horribly unfunny with the exception of the simpsons which is highly intelligently made \n",
      "* * * * * * * * * \n",
      "18673\n",
      "i wouldn t rent this one even on dollar rental night \n",
      "* * * * * * * * * \n",
      "18925\n",
      "i was thinking that the main character the astronaut with the bad case of the runs in his case his skin hair muscles etc could always get more movie work after he d been reduced to a puddle all he has to do is get a job as the blob the premise of this flick is pretty lame an astronaut gets exposed to sunspot radiation i think and so begins to act like an ice cream cone on a hot day not only is this a puzzler but apparently he has to kill humans and consume their flesh so that he can maintain some kind of cell integrity huh have you ever noticed that whenever any kind of radiation accident or experiment happens the person instantly turns into a killing machine why is that the astronaut lumbers off into the night from the secret facility which has no security whatsoever shedding parts of himself as he goes apparently he retains just enough memory to make him head for the launch pad maybe because he wanted to return to space thus begins the part of the movie that s pretty much filler with a doctor wandering around with a geiger counter trying to find the melting man by the buzz he gives off he kills a stupid bill gates look alike fisherman scares a little girl a la the frankenstein monster movie and finishes off a wacky older couple punishing them karmically for stealing some lemons then there s a short scene where he whacks his former general and a very long scene where he kills a young pothead and chases his girlfriend around you d think that after she cuts his arm off and he run away the scene would shift but no we re treated to about ten minutes of the woman huddled into a corner panting and screaming in terror even though the monster is gone all i could think was director s girlfriend anyone the end of the movie is even lamer than the rest of it the melting man finishes turning into a pile of goo and then nothing that s it that s the end of the movie well at least that meant that there was no room for a sequel \n",
      "* * * * * * * * * \n",
      "18928\n",
      "genghis cohn is a very mildly entertaining british movie about a german police commissioner in the late 1950 s who is haunted by the ghost of a jewish comedian that he killed 15 years earlier while serving under hitler in the ss the ghost comes back and wants his killer to live as a jew to atone for the murders he committed otto the german policeman actually knows this ghost s name because the last thing he did before he died was said in yiddish kiss my ass the policeman didn t speak yiddish so he asked around until he found the meaning the kiss my ass left such an impression that everybody involved with that killing learned and remembered the comedian s name genghis cohn there are a bunch of men who are murdered in the jurisdiction of the police commissioner and there are no helpful clues the men are murdered with a set of knives that are missing from the local butcher the butcher announces that his knives are missing while the commissioner is in the store to get a liver and onion sandwich so the commissioner is a suspect the first man is killed while making love to the butcher s wife so the butcher is a suspect but the butcher maintains that he would be very busy if he killed every man that slept with his wife all the men are killed immediately after the climax of lovemaking i think i might be a bit angrier than the ghost of genghis cohn if i was killed like he was he seems to be very good natured about it as if he was just in a mild car accident i can only guess that it is because it is a british movie and they are known for being a very polite people he uses some of his material from his stand up routing and i just didn t find it very funny i gave this movie a 4 because it was just kind of goofy i thought it should have been a little more serious than it was the movie turns out to be a murder mystery where did this come from and it seemed that genghis should have been more helpful than he was the movie gave me a tiny look into jewish culture but was only skin deep do all jews love liver and onion sandwiches do they all say shtoop and meshuganah in their daily vocabulary isn t there more important stuff that we should know about the culture i saw this movie at a jewish community center in berkeley ca and i was the only person in the room whose hair was not fully gray or white i have no gray or white hair there were 18 of us and after the movie they stayed for about 20 minutes to discuss the movie there were 2 main concerns expressed there 1 the movie was way too light hearted and future generations might not understand the gravity of what happened and 2 as the holocaust survivors are dying off future generations will not know what really happened i thought that this second concern was ridiculous and i told them i thought they didn t need to worry because there is tons of literature out there and there will always be people who like to watch movies like myself the murder of 6 000 000 people by a very bad man will not ever be forgotten i write this last paragraph because they charged me with telling others about my experience that day \n",
      "* * * * * * * * * \n",
      "18944\n",
      "to start with i have to point out the fact that you re gonna feel completely lost for more than half an hour yeah some things happen but you don t know why or what for when you finally figure things out you just realize that it s nothing but a twisted soad opera dealing with mature prostitutes dead mothers illegitimate sons the characters are rather poor and the actors specially the young ones don t help that much to make em look credible only marisa paredes stands out but she s a superb actress no matter if the movie is pure rubbish the only positive things to say about frío sol de invierno is that débutant pablo malo seems to have good intentions and he s filmed a couple of scenes that are quite intense well maybe the next time my rate 4 10 \n",
      "* * * * * * * * * \n",
      "19023\n",
      "got into this flick just as it was beginning on an afternoon where i was home with a touch of flu otherwise i d have missed it that probably would have been best i noticed the presence of lindsay crouse and jay thomas both very good performers and thought this might be worth a look it proved to be to some extent but only because it is one of those stories so awful it fascinates zoe mclellan has little to recommend her talents except for her jayne mansfield or loni anderson like bosom unfortunately her acting prowess at least here makes mansfield and anderson seem to be garbo or davis by comparison the young nut case s white rat the owner s cat the young nut case having the owner evicted and restrained in her own home and a bunch of doophus s including the young nut case running around a bio hazard facility and the absurd conclusion i kept waiting for at least some scene or plot element to contain at least a modicum of realism believability or being capable of evoking some empathy sympathy but this proved to be in vain \n",
      "* * * * * * * * * \n",
      "19329\n",
      "you want to see the movie the gamers by dead gentlemen productions this is not that movie this movie is not funny it is a waste of time all of the good comments here seem to be written by poorly disguised false third parties the people who made this movie seem to be attempting to synthesize fake interest this movie is not a well done mockumentary comparisons to spinal tap or christopher guest are insulting the movie is so mean spirited that i cannot imagine anyone familiar with the subject matter finding it funny being able to laugh at yourself is an important quality but if you are the ones being lampooned in this manner you d have to hate yourself to enjoy it the movie is not offensive because of its grand satire of taboo topics but because of its constant pathetic banality \n",
      "* * * * * * * * * \n",
      "19416\n",
      "well i watched this last night and the one thing that didn t make it completely terrible is that it was straight forward there was no beating around the bush that this kid was the anti christ however the movie was just poorly written for example they never explained how they made the dentist incident an accident or at the end how the cop just miraculously ended up at the house in time to save the kid without the police even being called yet the death scenes were just really bad and not entertaining at all the kid they chose to play the anti christ was boring and they really could ve picked a better kid just don t waste your time watching this \n",
      "* * * * * * * * * \n",
      "19435\n",
      "if you re looking to be either offended or amused or both you ll probably have to look elsewhere lmotp really isn t even very thought provoking beyond rehashing the usual silly clichés at the end of the second episode i felt a little embarrassed that i actually sat through the contrived mess beyond the thinly veiled gimmicky premise thats attracted all the initial attention to it in the first place it s just another lame innocuous and anti septic attempt at commentary and entertainment that the cbc typically excels at producing and once the zomg muslims in rural canada roflmao hype wears out its welcome the show is likely to follow into the ether of cancellation because it s so shallow when judged on its merits alone unless you re obsessed with muslim culture in the west and or are easily amused by the most minute idiosyncrasies on the subject i really don t see how lmotp is enjoyable beyond satisfying the curiosity that stemmed from the hype other shows have better addressed the issue of cultural ethnic dichotomy in western multi ethnic societies lmotp will never rank among them in entertainment or insight \n",
      "* * * * * * * * * \n",
      "19437\n",
      "i can t really say what i think about this movie its against the guidelines i ve watched many many films and this has got to be the worst one yet extremely low budget i m guessing all the money went into the slaughter house scenes cause i could of did a better job with a b w 8mm camera and a crew of monkeys it was so bad i registered just to leave a comment cause i had to tell someone movie rental place wasn t enough but this is my 2 cents worth i suggest borrowing it from some poor sap who rented it and watch it yourself cause i sure wouldn t waste the money on it myself again now i leave you with this comment i hope your not made at the rental place when they wont refund you your money \n",
      "* * * * * * * * * \n",
      "19544\n",
      "myra breckinridge is one of those rare films that established its place in film history immediately praise for the film was absolutely nonexistent even from the people involved in making it this film was loathed from day one while every now and then one will come across some maverick who will praise the film on philosophical grounds aggressive feminism or the courage to tackle the issue of transgenderism the film has not developed a cult following like some notorious flops do it s not hailed as a misunderstood masterpiece like scarface or trotted out to be ridiculed as a camp classic like showgirls undoubtedly the reason is that the film though outrageously awful is not lovable or even likable myra breckinridge is just plain mean as a hollywood satire it is cold blooded and mean spirited but in a hollow pointless way myra takes for granted that hollywood is a corrupt town but goes further to attack such beloved icons as laurel and hardy shirley temple judy garland and gary cooper the film seems to imply that everything about hollywood is by its very nature vile it seems to think that there is something inherently courageous about mocking sacred cows but doesn t supply a rationale for doing the mocking in the first place the film is also viscously anti american and anti establishment and anti this and anti that but all in a superficial late 1960 s trendy way like casino royale ski doo i love you alice b toklas and other would be hip epics myra is a middle aged vision of the hippy dippy youth culture it tries to embrace the very attitude that it belittles but instead of being cheerfully self mocking myra makes no attempt to conceal its contempt for everything that comes within its grasp myra breckinridge has the humor of a bully there s not a single moment of innocence in it its intentions aren t honorable time magazine aptly described it as being about as funny as a child molester but it s not nearly as sympathetic for instance poor mae west bore the brunt of so much of the criticism aimed at the film being described as looking like everything from an aging drag queen to a reanimated walking corpse the octogenarian star obviously didn t know just how ridiculous she looked playing a lecherous talent agent lusting after men young enough to be her grandsons or even her great grandsons but director michael sarne had to know but he used her anyway why because she apparently was the joke just like john huston john carradine grady sutton andy devine and other veteran performers in the film they are there only so the film can mock their age and use them to trash their film images they are cast as smarmy self parodies as is rex reed the arrogant fey film critic who is cast as just that in the film but the real reed the celebrity hound jet setting talk show gossip can be charming in an obnoxiously funny way but as myron myra s alter ego he is just obnoxious again apparently for sarne reed is the joke you watch myra breckinridge and you don t see actors you see victims none more so than raquel welch no one will ever accuse welch of being a great actress but it is a testament to her tenacity and her appeal that she survived this film and her career prospered being in almost every scene welch was front and center as a target for abuse aimed at the film but to her credit she gives a remarkably nuanced performance though of course centered between the scenery chewing huston and the almost catatonic west welch doesn t have to do much to strike a good balance even so she renders her horribly unfunny dialogue with a deadpan smirk with just the hint of self righteous glee that would do any james bond villain proud legend has it that welch was snubbed by a condescending west and subjected to repeated verbal abuse on the set by bumbling director sarne not to mention being featured in one degrading scene after another making it all the more remarkable that she was able to give such a cool and collected performance the film s only intriguing element is trying to figure out just what the film s agenda is the whole story is a fantasy fable which should indicate that it has a moral to deliver but what that might be is anybody s guess with all of its talk about destroying the last vestigial traces of traditional manhood from the race it would seem to have a feminist axe to grind but as a feminist myra is a monstrous figure a sexual predator besides myra isn t a woman rather she is a delusion of myron who presumably is a gay male that might explain the male rape scene as well as the character s love hate attitude toward the macho seemingly straight deadhead rusty but it doesn t explain his her obsession for and the supposedly lesbian tryst with farrah fawcett s mary ann the film is obsessed with sex but can hardly be accused of being in favor of the sexual revolution all the sex is treated as being if not dirty than at least perverse and degrading turning to gore vidal s original novel isn t of any help because it is as confused and pointless as the movie and this is a rare movie that actually seems to hate movies not just movies as a business but movies as part of the culture as well the film itself is wall to wall arcane references to old movies all of which director screenwriter sarne approaches with a seething disdain he has raided the film vaults of 20th century fox and peppered the film with snippets of old films not as an homage or to provide a social commentary but to mock the innocence of old hollywood how can an artist if you generously want to call sarne that make a work of art if he already hates the very medium he is working in the very effort is totally self defeating myra breckinridge doesn t seem to be in favor of anything other than being just nasty it hates hollywood it hates america it hates sex it hates gays and straights and women and men and old people and young people and laurel and hardy and well you name it and it probably has a scene showing contempt for it in a very sad and sorry way myra breckinridge may be the first punk manifesto a celebration of pop culture nihilism \n",
      "* * * * * * * * * \n",
      "19557\n",
      "lets put it this way i actually get this movie i get what the writer directer was trying to do i understand that the dialog was meant to be dry and emotionless i understand that the plot was supposed to be non climactic and stale that was what the writer director was going for a very very very dry humor comedy with all that understanding i still think the movie sucked it seemed like the writer director was trying to recreate napolean dynamite with this movie it had all of the same features even the main character behaved similar to napolean but napolean dynamite was actually funny its script worked this movie is not it has no purpose well let me rephrase that its only purpose is to rip off napolean dynamite and try to capture that look and feel too bad it didn t work \n",
      "* * * * * * * * * \n",
      "19595\n",
      "if this guy can make a movie then i sure as hell can make one too in fact if you hire me to make a movie for you i promise to do the following 1 i will add more naked women this movie had none i think cheesy b class horror movies are only rented because of their traditional exploitation of the female body i wouldn t want to let my viewers down 2 i will refrain from making too many scenes where the hero wakes up to find out it s only a dream i think horrorvision had about 4 of these scenes and considering the movie was only like an hour long the dream to movie length ratio was quite high and if i do decide to do a dream sequence i will make sure that the person wakes up without clothes on i mean who sleeps in leather pants 3 i will not rip off any movies like star wars or the matrix because i will know that my budget is small and i will not want to mask my contempt for big budget hollywood movies by adding satirical references about them in mine 4 and finally i will not mix modern technology with the undead i mean a palm pilot can only be so scary at least they turned it into an evil rolly polly monster before the screen blew up or something so if you are looking for the above qualities in your next horror production count on me wanna b movie director extraordinaire \n",
      "* * * * * * * * * \n",
      "19611\n",
      "this is a terrible movie terrible script bad direction and nonsensical ending also bad performances except from clancy brown who is criminally underused here and michael pollard watching this movie was purgatory you do it to unload enough bad movie karma to actually see a good one further down the line the movie presents a father and son who look like they couldn t every possibly have been related the part of the male lead is not well written and seems uncharismatic in this role you can see the plot points a mile away the actions of the female lead and that of her brother the cop also make no sense so a major action on her part at the end of the movie makes no sense script wise \n",
      "* * * * * * * * * \n",
      "19639\n",
      "does anyone think that this show actually helps some people or does it only anger the people who watch it when i am flipping through the channels and come upon this show i half to watch out of morbid curiosity i understand that pat roberson is not all together what i do not know is if his viewers are like him or if they are good people and think they will have a better life if they listening to what he has to say pat roberson is of little consequence he is an old man who thinks in an old way fear of damnation no longer has the same affects as it once did thank god now if someone will please answer my question i will be dodging lightning bolts for the rest of eternity \n",
      "* * * * * * * * * \n",
      "19656\n",
      "this has to be one of the 5 worst movies ever made the plot looked intriguing like that of passenger 57 but with the latter movie it somehow worked a lot better the plot has been worked out in the worst possible way just a few of the awful moments in the movie a flight attendant is standing in the opened doorway of a flying 747 and trying to close the door without being sucked out by the 250 mile per hour winds thereafter the lands the aircraft from a few miles out starting at 8000 feet thats impossible even for 747 pilots with thousands of hour experience when on the runway perfectly straight of course she is instructed to pull on the flaps huh come on flaps are there to ensure lift at low speeds when on the runway you use thrust reverse on the engines and give maximum power i can go on and on about little and mostly big mistakes in the movie but then my reply would become the size of the english dictionary this is a movie you want to miss take my word for it \n",
      "* * * * * * * * * \n",
      "19760\n",
      "awful absolutely awful no plot no point no end it looks like the director turned the camera on and then the whole crew went to lunch every day i m trying to give this video away but no one will take it i m giving it a 2 instead of a 1 because i like benigni roger i m going to have to say thumbs down on this one \n",
      "* * * * * * * * * \n",
      "19779\n",
      "just like last years event wwe new years revolution 2006 was headlined by an elimination chamber match the difference between last years and this years match however was the entertainment value in reality only three people stood a chance of walking out of the pepsi arena in albany new york with the wwe championship those men were current champion john cena kurt angle and shawn michaels there was no way vinnie mac would put the belt on any of the rookies carlito or chris masters and kane kane last held the wwe championship in june 1998 and that was only for one night it was obvious he wasn t going to be the one either last years match was a thrilling affair with six of the best wwe had to offer 2006 was a predictable and disappointing affair but still the match of the night by far the only surprise of the evening came after the bell had run on the main event out strolled vince mcmahon himself and demanded they lift the chamber it was then announced that edge was cashing in his money in the bank championship match right then and there with no time to prepare and just off the back of winning the elimination chamber match john cena did not stand a chance and dropped the title after a spear to one of the most entertaining heels in wwe this was the only entertaining piece of action that happened all night the undercard like last year was truly atrocious triple h and the big show put on a snore fest that had me struggling to stay away hhh picked up the win but that was never in any real doubt was it any pay per view that has both jerry lawler and viscera wrestling on the same card will never have any chance of becoming a success really does it the king pinned helms who books this stuff and big vis tasted defeat against the wasted shelton benjamin with a little help from his mama the women of the wwe also had a busy night there was the usual diva nonsense with a bra and panties gauntlet match which was won by ashley and the woman s championship was also on the line in a match i thought would have been left to brew till wrestlemania 22 mickie james challenged trish stratus in a good match trish won the contest but it was evident that this is going to continue for the foreseeable future the opening contest of the night pitted soon to be wwe champion edge against intercontinental champion ric flair this could have been better but it was a battered and bloody flair that retained after a disqualification finish edge obviously had bigger fish to fry so new years revolution kicked off the 2006 pay per view calendar in disastrous fashion the only good thing from that is knowing that for the wwe the only way is up they don t get much worse than this \n",
      "* * * * * * * * * \n",
      "19802\n",
      "star rating saturday night friday night friday morning sunday night monday morning the american military has just launched a major new stealth fighter plane that can evade detection unlike any other a renegade pilot steve touissant steals it and plots to hold the us government to ransom with it so they are forced to send in their best man john sands seagal who else to stop him in exchange for his freedom from a detention centre where his mind was to be wiped of all the incriminating information he s learned over the years i skipped attack force because i could tell from the cover and all the post production tampering that had occurred that it would be crap and when all the negative reviews and low user rating came pouring in it just confirmed what i thought but i decided to give fof a go because shadow man by the same director wasn t bad and what the hell seagal was my favourite action star once and maybe just maybe he could make a great film again oh what a fool i was dubbing horrendous stock footage of aerial stealth fighter jets awful camera work cheap production values risible unconvincing fight scenes that have become seagal s trademark and a boring sleep inducing plot that doesn t go anywhere thankfully his next film once upon a time in the hood which i ll be skipping apparently marks the end of his contract with sony meaning no more of these awful european lensed action films and his next film prince of pistols might mark a return to theatres hell he s done it before and stallone will have managed to do it before him rocky balboa this isn t a flight of fury it isn t even a flight of fun it s a flight that fails to even take off the ground \n",
      "* * * * * * * * * \n",
      "19846\n",
      "first of all i d like to tell you that i m into comics anime animation and such stuff it is true that everyone has his own preferences but you can trust me on this movie i ll be objective to begin with the story it s ok follows the story line of the comic books as far as i m familiar with them but the animation well it s not actually terrible but it s definitely cheap and mediocre it would be a lot better if they didn t try to imitate the anime style and sticked to the original comic book style drawings if we pretend not to see the rare sloppy effects like fire and lightnings you could tell that the movie is made about 10 years ago and even more looks a little bit like the original vampire hunter d from 1985 take a look at heavy metal fakk 2000 for instance 4 years ago they made a movie that looks a hell lot better in addition to this the voice talents do nothing remarkable the music is nothing special so all in all it lacks atmosphere i watched it but i cannot tell i really enjoyed it it just does not capture you there s plenty of blood and violence but that does not impress me at all may be it will be shocking for someone who was never watched more mature oriented animations and sees animated blood for the first time is there anyone around but i don t think this is the audience for this movie so they could add a little nudity and spice to it the chicks around lucifer were quite tasty and hell we have lady death herself there are few sexy looks but that s not enough instead of bill brown s music i think it would look better on a hard rock heavy metal soundtrack all in all the movie isn t that bad but if you want something better take the original heavy metal heavy metal fakk 2000 ralph bakshi s fire and ice or wizards maybe and of course vampire hunter d bloodlust\n",
      "* * * * * * * * * \n"
     ]
    }
   ],
   "source": [
    "# false positives\n",
    "\n",
    "print(\"Examples of false positives:\")\n",
    "\n",
    "import random, time\n",
    "\n",
    "for i in range(0, len(ols_predictions)):\n",
    "    if (ols_predictions[i] == 1):\n",
    "        if (X_raw_train.iloc[i]['sentiment'] == 0):\n",
    "            if (random.uniform(0, 1) < 0.05): # to print only 5% of the false positives\n",
    "                print(i)\n",
    "                print(X_raw_train.iloc[i]['review_cleaned'])\n",
    "                print('* * * * * * * * * ')\n"
   ]
  },
  {
   "cell_type": "markdown",
   "metadata": {},
   "source": [
    "---\n",
    "\n",
    "# <span style=\"color:red\">WARNING: Don't look at test set performance too much!</span>\n",
    "\n",
    "---\n",
    "\n",
    "The following cells show performance on your test set. Do not look at this too often! "
   ]
  },
  {
   "cell_type": "markdown",
   "metadata": {},
   "source": [
    "# Look at performance on the test set"
   ]
  },
  {
   "cell_type": "markdown",
   "metadata": {},
   "source": [
    "### MODEL: ordinary least squares"
   ]
  },
  {
   "cell_type": "code",
   "execution_count": 84,
   "metadata": {},
   "outputs": [
    {
     "name": "stdout",
     "output_type": "stream",
     "text": [
      "{'Pos': 2500, 'Neg': 2500, 'TP': 1223, 'TN': 1337, 'FP': 1163, 'FN': 1277, 'Accuracy': 0.512, 'Precision': 0.5125733445096395, 'Recall': 0.4892, 'desc': 'ols_test'}\n"
     ]
    }
   ],
   "source": [
    "ols_performance_test = BinaryClassificationPerformance(ols.predict(X_test), y_test, 'ols_test')\n",
    "ols_performance_test.compute_measures()\n",
    "print(ols_performance_test.performance_measures)"
   ]
  },
  {
   "cell_type": "markdown",
   "metadata": {},
   "source": [
    "### MODEL: SVM, linear"
   ]
  },
  {
   "cell_type": "code",
   "execution_count": 85,
   "metadata": {},
   "outputs": [
    {
     "name": "stdout",
     "output_type": "stream",
     "text": [
      "{'Pos': 2500, 'Neg': 2500, 'TP': 2090, 'TN': 2098, 'FP': 402, 'FN': 410, 'Accuracy': 0.8376, 'Precision': 0.8386837881219904, 'Recall': 0.836, 'desc': 'svm_test'}\n"
     ]
    }
   ],
   "source": [
    "svm_performance_test = BinaryClassificationPerformance(svm.predict(X_test), y_test, 'svm_test')\n",
    "svm_performance_test.compute_measures()\n",
    "print(svm_performance_test.performance_measures)"
   ]
  },
  {
   "cell_type": "markdown",
   "metadata": {},
   "source": [
    "### MODEL: logistic regression"
   ]
  },
  {
   "cell_type": "code",
   "execution_count": 86,
   "metadata": {},
   "outputs": [
    {
     "name": "stdout",
     "output_type": "stream",
     "text": [
      "{'Pos': 2500, 'Neg': 2500, 'TP': 2064, 'TN': 2116, 'FP': 384, 'FN': 436, 'Accuracy': 0.836, 'Precision': 0.8431372549019608, 'Recall': 0.8256, 'desc': 'lgs_test'}\n"
     ]
    }
   ],
   "source": [
    "lgs_performance_test = BinaryClassificationPerformance(lgs.predict(X_test), y_test, 'lgs_test')\n",
    "lgs_performance_test.compute_measures()\n",
    "print(lgs_performance_test.performance_measures)"
   ]
  },
  {
   "cell_type": "markdown",
   "metadata": {},
   "source": [
    "### MODEL: Naive Bayes"
   ]
  },
  {
   "cell_type": "code",
   "execution_count": 87,
   "metadata": {},
   "outputs": [
    {
     "name": "stdout",
     "output_type": "stream",
     "text": [
      "{'Pos': 2500, 'Neg': 2500, 'TP': 1862, 'TN': 1897, 'FP': 603, 'FN': 638, 'Accuracy': 0.7518, 'Precision': 0.7553752535496957, 'Recall': 0.7448, 'desc': 'nbs_test'}\n"
     ]
    }
   ],
   "source": [
    "nbs_performance_test = BinaryClassificationPerformance(nbs.predict(X_test), y_test, 'nbs_test')\n",
    "nbs_performance_test.compute_measures()\n",
    "print(nbs_performance_test.performance_measures)"
   ]
  },
  {
   "cell_type": "markdown",
   "metadata": {},
   "source": [
    "### MODEL: Perceptron"
   ]
  },
  {
   "cell_type": "code",
   "execution_count": 88,
   "metadata": {},
   "outputs": [
    {
     "name": "stdout",
     "output_type": "stream",
     "text": [
      "{'Pos': 2500, 'Neg': 2500, 'TP': 2076, 'TN': 2104, 'FP': 396, 'FN': 424, 'Accuracy': 0.836, 'Precision': 0.8398058252427184, 'Recall': 0.8304, 'desc': 'prc_test'}\n"
     ]
    }
   ],
   "source": [
    "prc_performance_test = BinaryClassificationPerformance(prc.predict(X_test), y_test, 'prc_test')\n",
    "prc_performance_test.compute_measures()\n",
    "print(prc_performance_test.performance_measures)"
   ]
  },
  {
   "cell_type": "markdown",
   "metadata": {},
   "source": [
    "### MODEL: Ridge Regression Classifier"
   ]
  },
  {
   "cell_type": "code",
   "execution_count": 89,
   "metadata": {},
   "outputs": [
    {
     "name": "stdout",
     "output_type": "stream",
     "text": [
      "{'Pos': 2500, 'Neg': 2500, 'TP': 2141, 'TN': 2066, 'FP': 434, 'FN': 359, 'Accuracy': 0.8414, 'Precision': 0.8314563106796117, 'Recall': 0.8564, 'desc': 'rdg_test'}\n"
     ]
    }
   ],
   "source": [
    "rdg_performance_test = BinaryClassificationPerformance(rdg.predict(X_test), y_test, 'rdg_test')\n",
    "rdg_performance_test.compute_measures()\n",
    "print(rdg_performance_test.performance_measures)"
   ]
  },
  {
   "cell_type": "markdown",
   "metadata": {},
   "source": [
    "### MODEL: Random Forest Classifier"
   ]
  },
  {
   "cell_type": "code",
   "execution_count": 90,
   "metadata": {},
   "outputs": [
    {
     "name": "stdout",
     "output_type": "stream",
     "text": [
      "{'Pos': 2500, 'Neg': 2500, 'TP': 1993, 'TN': 1826, 'FP': 674, 'FN': 507, 'Accuracy': 0.7638, 'Precision': 0.7472815898012748, 'Recall': 0.7972, 'desc': 'rdf_test'}\n",
      "<my_measures.BinaryClassificationPerformance object at 0x7fe5cc0ab760>\n"
     ]
    }
   ],
   "source": [
    "rdf_performance_test = BinaryClassificationPerformance(rdf.predict(X_test), y_test, 'rdf_test')\n",
    "rdf_performance_test.compute_measures()\n",
    "print(rdf_performance_test.performance_measures)\n",
    "print(rdf_performance_test)"
   ]
  },
  {
   "cell_type": "markdown",
   "metadata": {},
   "source": [
    "### ROC plot to compare performance of various models and fits"
   ]
  },
  {
   "cell_type": "code",
   "execution_count": 91,
   "metadata": {
    "scrolled": true
   },
   "outputs": [
    {
     "data": {
      "image/png": "[encoded data removed]",
      "text/plain": [
       "<Figure size 432x288 with 1 Axes>"
      ]
     },
     "metadata": {
      "needs_background": "light"
     },
     "output_type": "display_data"
    }
   ],
   "source": [
    "fits = [svm_performance_test, lgs_performance_test, nbs_performance_test, prc_performance_test, rdg_performance_test]\n",
    "fig = plt.subplots(figsize=(6, 4))\n",
    "\n",
    "for fit in fits:\n",
    "    plt.plot(fit.performance_measures['FP'] / fit.performance_measures['Neg'], \n",
    "             fit.performance_measures['TP'] / fit.performance_measures['Pos'], 'bo')\n",
    "    plt.text(fit.performance_measures['FP'] / fit.performance_measures['Neg'], \n",
    "             fit.performance_measures['TP'] / fit.performance_measures['Pos'], fit.desc)\n",
    "plt.axis([0, 1, 0.4, 1])\n",
    "plt.yticks(np.arange(0.4, 1, 0.05))\n",
    "plt.title('ROC plot: test set')\n",
    "plt.ylabel('True positive rate/Recall')\n",
    "plt.xlabel('False positive rate')\n",
    "plt.show()"
   ]
  },
  {
   "cell_type": "markdown",
   "metadata": {},
   "source": [
    "### Create Pivot Table"
   ]
  },
  {
   "cell_type": "code",
   "execution_count": 92,
   "metadata": {},
   "outputs": [
    {
     "name": "stdout",
     "output_type": "stream",
     "text": [
      "                   True Positive Rate  False Positive Rate\n",
      "Rows                                                      \n",
      "ridge reg                      0.8564               0.1736\n",
      "support vector                 0.8360               0.1608\n",
      "perceptron                     0.8304               0.1584\n",
      "logistic reg                   0.8256               0.1536\n",
      "random forest                  0.7972               0.2696\n",
      "naive bayes                    0.7448               0.2412\n",
      "ordinary least sq              0.4892               0.4652\n"
     ]
    }
   ],
   "source": [
    "#https://pavopax.github.io/2017/11/precision-recall/\n",
    "#https://towardsdatascience.com/what-metrics-should-we-use-on-imbalanced-data-set-precision-recall-roc-e2e79252aeba#:~:text=Recall%20and%20True%20Positive%20Rate,denominator%20contains%20the%20true%20negatives.\n",
    "fits = [ols_performance_test, svm_performance_test, lgs_performance_test, nbs_performance_test, prc_performance_test, rdg_performance_test, rdf_performance_test]\n",
    "TP_rate =[]\n",
    "FP_rate =[]\n",
    "rows = ['ordinary least sq','support vector','logistic reg','naive bayes','perceptron','ridge reg','random forest']\n",
    "for fit in fits:\n",
    "    FP_rate.append(fit.performance_measures['FP'] / fit.performance_measures['Neg'])\n",
    "    TP_rate.append(fit.performance_measures['TP'] / fit.performance_measures['Pos'])\n",
    "    \n",
    "df = pd.DataFrame({\"True Positive Rate\":TP_rate, \"False Positive Rate\": FP_rate, \"Rows\": rows})\n",
    "test_table = pd.pivot_table(df, values=[\"True Positive Rate\",\"False Positive Rate\"], index=[\"Rows\"]).sort_values(by=['True Positive Rate'],ascending=False)\n",
    "\n",
    "column_order=[\"True Positive Rate\",\"False Positive Rate\"]\n",
    "test_table = test_table.reindex(column_order, axis=1)\n",
    "\n",
    "print(test_table)"
   ]
  },
  {
   "cell_type": "markdown",
   "metadata": {},
   "source": [
    "---\n",
    "\n",
    "# <span style=\"color:red\">SUBMISSION</span>\n",
    "\n",
    "---"
   ]
  },
  {
   "cell_type": "code",
   "execution_count": 23,
   "metadata": {},
   "outputs": [
    {
     "name": "stdout",
     "output_type": "stream",
     "text": [
      "movie_data is: <class 'pandas.core.frame.DataFrame'>\n",
      "movie_data has 25000 rows and 2 columns \n",
      "\n",
      "the data types for each of the columns in movie_data:\n",
      "id        object\n",
      "review    object\n",
      "dtype: object \n",
      "\n",
      "the first 10 rows in movie_data:\n",
      "         id                                             review\n",
      "0  12311_10  Naturally in a film who's main themes are of m...\n",
      "1    8348_2  This movie is a disaster within a disaster fil...\n",
      "2    5828_4  All in all, this is a movie for kids. We saw i...\n",
      "3    7186_2  Afraid of the Dark left me with the impression...\n",
      "4   12128_7  A very accurate depiction of small time mob li...\n",
      "Shape of HashingVectorizer X:\n",
      "(25000, 131072)\n",
      "Look at a few rows of the new quantitative features: \n",
      "   word_count  punc_count\n",
      "0         131           5\n",
      "1         169          15\n",
      "2         176          18\n",
      "3         112           5\n",
      "4         133           8\n",
      "5         331          20\n",
      "6         121          18\n",
      "7         230          22\n",
      "8          59           3\n",
      "9         224          14\n",
      "Size of combined bag of words and new quantitative variables matrix:\n",
      "(25000, 131074)\n",
      "(25000, 131074)\n",
      "Shape of X_test for submission:\n",
      "(25000, 131074)\n",
      "SUCCESS!\n",
      "Number of rows in the submission test set (should be 25,000): \n"
     ]
    }
   ],
   "source": [
    "# read in test data for submission\n",
    "# CHANGE FILE PATH and my_random_seed number (any integer other than 74 will do): \n",
    "raw_data, X_test_submission = process_raw_data(fn='/home/ec2-user/data/moviereviews_test.tsv', my_random_seed=74, test=True)\n",
    "print(\"Number of rows in the submission test set (should be 25,000): \")"
   ]
  },
  {
   "cell_type": "markdown",
   "metadata": {},
   "source": [
    "---\n",
    "\n",
    "Choose a <span style=\"color:red\">*single*</span> model for your submission. In this code, I am choosing the Ordinary Least Squares model fit, which is in the `ols` object. But you should choose the model that is performing the best for you! "
   ]
  },
  {
   "cell_type": "code",
   "execution_count": 24,
   "metadata": {},
   "outputs": [
    {
     "name": "stdout",
     "output_type": "stream",
     "text": [
      "0.5596\n"
     ]
    }
   ],
   "source": [
    "# store the id from the raw data\n",
    "my_submission = pd.DataFrame(raw_data[\"id\"])\n",
    "# concatenate predictions to the id\n",
    "my_submission[\"prediction\"] = ols.predict(X_test_submission)\n",
    "# look at the proportion of positive predictions\n",
    "print(my_submission['prediction'].mean())"
   ]
  },
  {
   "cell_type": "code",
   "execution_count": 25,
   "metadata": {},
   "outputs": [
    {
     "data": {
      "text/html": [
       "<div>\n",
       "<style scoped>\n",
       "    .dataframe tbody tr th:only-of-type {\n",
       "        vertical-align: middle;\n",
       "    }\n",
       "\n",
       "    .dataframe tbody tr th {\n",
       "        vertical-align: top;\n",
       "    }\n",
       "\n",
       "    .dataframe thead th {\n",
       "        text-align: right;\n",
       "    }\n",
       "</style>\n",
       "<table border=\"1\" class=\"dataframe\">\n",
       "  <thead>\n",
       "    <tr style=\"text-align: right;\">\n",
       "      <th></th>\n",
       "      <th>id</th>\n",
       "      <th>review</th>\n",
       "      <th>word_count</th>\n",
       "      <th>punc_count</th>\n",
       "    </tr>\n",
       "  </thead>\n",
       "  <tbody>\n",
       "    <tr>\n",
       "      <td>0</td>\n",
       "      <td>12311_10</td>\n",
       "      <td>Naturally in a film who's main themes are of m...</td>\n",
       "      <td>131</td>\n",
       "      <td>5</td>\n",
       "    </tr>\n",
       "    <tr>\n",
       "      <td>1</td>\n",
       "      <td>8348_2</td>\n",
       "      <td>This movie is a disaster within a disaster fil...</td>\n",
       "      <td>169</td>\n",
       "      <td>15</td>\n",
       "    </tr>\n",
       "    <tr>\n",
       "      <td>2</td>\n",
       "      <td>5828_4</td>\n",
       "      <td>All in all, this is a movie for kids. We saw i...</td>\n",
       "      <td>176</td>\n",
       "      <td>18</td>\n",
       "    </tr>\n",
       "    <tr>\n",
       "      <td>3</td>\n",
       "      <td>7186_2</td>\n",
       "      <td>Afraid of the Dark left me with the impression...</td>\n",
       "      <td>112</td>\n",
       "      <td>5</td>\n",
       "    </tr>\n",
       "    <tr>\n",
       "      <td>4</td>\n",
       "      <td>12128_7</td>\n",
       "      <td>A very accurate depiction of small time mob li...</td>\n",
       "      <td>133</td>\n",
       "      <td>8</td>\n",
       "    </tr>\n",
       "  </tbody>\n",
       "</table>\n",
       "</div>"
      ],
      "text/plain": [
       "         id                                             review  word_count  \\\n",
       "0  12311_10  Naturally in a film who's main themes are of m...         131   \n",
       "1    8348_2  This movie is a disaster within a disaster fil...         169   \n",
       "2    5828_4  All in all, this is a movie for kids. We saw i...         176   \n",
       "3    7186_2  Afraid of the Dark left me with the impression...         112   \n",
       "4   12128_7  A very accurate depiction of small time mob li...         133   \n",
       "\n",
       "   punc_count  \n",
       "0           5  \n",
       "1          15  \n",
       "2          18  \n",
       "3           5  \n",
       "4           8  "
      ]
     },
     "execution_count": 25,
     "metadata": {},
     "output_type": "execute_result"
    }
   ],
   "source": [
    "raw_data.head()"
   ]
  },
  {
   "cell_type": "code",
   "execution_count": 26,
   "metadata": {},
   "outputs": [
    {
     "data": {
      "text/html": [
       "<div>\n",
       "<style scoped>\n",
       "    .dataframe tbody tr th:only-of-type {\n",
       "        vertical-align: middle;\n",
       "    }\n",
       "\n",
       "    .dataframe tbody tr th {\n",
       "        vertical-align: top;\n",
       "    }\n",
       "\n",
       "    .dataframe thead th {\n",
       "        text-align: right;\n",
       "    }\n",
       "</style>\n",
       "<table border=\"1\" class=\"dataframe\">\n",
       "  <thead>\n",
       "    <tr style=\"text-align: right;\">\n",
       "      <th></th>\n",
       "      <th>id</th>\n",
       "      <th>prediction</th>\n",
       "    </tr>\n",
       "  </thead>\n",
       "  <tbody>\n",
       "    <tr>\n",
       "      <td>0</td>\n",
       "      <td>12311_10</td>\n",
       "      <td>1</td>\n",
       "    </tr>\n",
       "    <tr>\n",
       "      <td>1</td>\n",
       "      <td>8348_2</td>\n",
       "      <td>1</td>\n",
       "    </tr>\n",
       "    <tr>\n",
       "      <td>2</td>\n",
       "      <td>5828_4</td>\n",
       "      <td>1</td>\n",
       "    </tr>\n",
       "    <tr>\n",
       "      <td>3</td>\n",
       "      <td>7186_2</td>\n",
       "      <td>1</td>\n",
       "    </tr>\n",
       "    <tr>\n",
       "      <td>4</td>\n",
       "      <td>12128_7</td>\n",
       "      <td>0</td>\n",
       "    </tr>\n",
       "  </tbody>\n",
       "</table>\n",
       "</div>"
      ],
      "text/plain": [
       "         id  prediction\n",
       "0  12311_10           1\n",
       "1    8348_2           1\n",
       "2    5828_4           1\n",
       "3    7186_2           1\n",
       "4   12128_7           0"
      ]
     },
     "execution_count": 26,
     "metadata": {},
     "output_type": "execute_result"
    }
   ],
   "source": [
    "my_submission.head()"
   ]
  },
  {
   "cell_type": "code",
   "execution_count": 27,
   "metadata": {},
   "outputs": [
    {
     "data": {
      "text/plain": [
       "(25000, 2)"
      ]
     },
     "execution_count": 27,
     "metadata": {},
     "output_type": "execute_result"
    }
   ],
   "source": [
    "my_submission.shape"
   ]
  },
  {
   "cell_type": "code",
   "execution_count": 28,
   "metadata": {},
   "outputs": [],
   "source": [
    "# export submission file as pdf\n",
    "# CHANGE FILE PATH: \n",
    "my_submission.to_csv('/home/ec2-user/data/moviereviews_submission.csv', index=False)"
   ]
  },
  {
   "cell_type": "markdown",
   "metadata": {},
   "source": [
    "# Submit to Canvas: 1) the CSV file that was written in the previous cell and 2) the url to the repository (GitHub or other) that contains your code and documentation"
   ]
  }
 ],
 "metadata": {
  "kernelspec": {
   "display_name": "Python 3",
   "language": "python",
   "name": "python3"
  },
  "language_info": {
   "codemirror_mode": {
    "name": "ipython",
    "version": 3
   },
   "file_extension": ".py",
   "mimetype": "text/x-python",
   "name": "python",
   "nbconvert_exporter": "python",
   "pygments_lexer": "ipython3",
   "version": "3.8.5"
  }
 },
 "nbformat": 4,
 "nbformat_minor": 2
}
