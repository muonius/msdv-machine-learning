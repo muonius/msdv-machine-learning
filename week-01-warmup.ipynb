{
 "cells": [
  {
   "cell_type": "code",
   "execution_count": null,
   "metadata": {},
   "outputs": [],
   "source": [
    "# this is a comment"
   ]
  },
  {
   "cell_type": "code",
   "execution_count": null,
   "metadata": {},
   "outputs": [],
   "source": []
  },
  {
   "cell_type": "code",
   "execution_count": 4,
   "metadata": {
    "scrolled": true
   },
   "outputs": [
    {
     "name": "stdout",
     "output_type": "stream",
     "text": [
      "[1, 4, 'test']\n"
     ]
    }
   ],
   "source": [
    "# string\n",
    "myString=\"hello world\"\n",
    "\n",
    "#integer\n",
    "myNumber=1\n",
    "\n",
    "#boolean, boolean is capitalized\n",
    "thisIsAParsonClass = True\n",
    "\n",
    "#lists\n",
    "myList = [1,4,'test']\n",
    "\n",
    "print(myList)\n"
   ]
  },
  {
   "cell_type": "code",
   "execution_count": 5,
   "metadata": {},
   "outputs": [
    {
     "name": "stdout",
     "output_type": "stream",
     "text": [
      "1\n"
     ]
    }
   ],
   "source": [
    "myList = [1,2,3,4,5]\n",
    "print(myList[0])"
   ]
  },
  {
   "cell_type": "code",
   "execution_count": 6,
   "metadata": {},
   "outputs": [
    {
     "name": "stdout",
     "output_type": "stream",
     "text": [
      "[2, 3]\n"
     ]
    }
   ],
   "source": [
    "mySubset = myList[1:3]\n",
    "print(mySubset)"
   ]
  },
  {
   "cell_type": "code",
   "execution_count": 8,
   "metadata": {},
   "outputs": [
    {
     "name": "stdout",
     "output_type": "stream",
     "text": [
      "4\n"
     ]
    }
   ],
   "source": [
    "print(len(myList))"
   ]
  },
  {
   "cell_type": "code",
   "execution_count": 10,
   "metadata": {},
   "outputs": [
    {
     "name": "stdout",
     "output_type": "stream",
     "text": [
      "[1, 2, 3, 4, -5, -5]\n"
     ]
    }
   ],
   "source": [
    "myList.append(-5)\n",
    "print(myList)"
   ]
  },
  {
   "cell_type": "code",
   "execution_count": 11,
   "metadata": {},
   "outputs": [
    {
     "name": "stdout",
     "output_type": "stream",
     "text": [
      "strin\n"
     ]
    }
   ],
   "source": [
    "myString = 'This string is excessively long'\n",
    "print(myString[5:10])"
   ]
  },
  {
   "cell_type": "code",
   "execution_count": 16,
   "metadata": {},
   "outputs": [
    {
     "name": "stdout",
     "output_type": "stream",
     "text": [
      "Machine Learning\n",
      "there are students\n"
     ]
    }
   ],
   "source": [
    "myDict = {'className': 'Machine Learning','student':45, 'isCool': True}\n",
    "print(myDict['className'])\n",
    "\n",
    "if 'student' in myDict:\n",
    "    print('there are students')"
   ]
  },
  {
   "cell_type": "code",
   "execution_count": 48,
   "metadata": {},
   "outputs": [
    {
     "name": "stdout",
     "output_type": "stream",
     "text": [
      "I ate the apples\n",
      "I ate the kiwis\n",
      "I ate the oranges\n",
      "I ate the grapes\n"
     ]
    }
   ],
   "source": [
    "fruits = ['apples','kiwis','oranges','grapes']\n",
    "for fruit in fruits:\n",
    "    print('I ate the ' + fruit)"
   ]
  },
  {
   "cell_type": "code",
   "execution_count": 20,
   "metadata": {},
   "outputs": [
    {
     "name": "stdout",
     "output_type": "stream",
     "text": [
      "10\n",
      "11\n",
      "12\n",
      "13\n",
      "14\n",
      "15\n",
      "16\n",
      "17\n",
      "18\n"
     ]
    }
   ],
   "source": [
    "for i in range (10,19):\n",
    "    print(i)"
   ]
  },
  {
   "cell_type": "code",
   "execution_count": 22,
   "metadata": {},
   "outputs": [
    {
     "name": "stdout",
     "output_type": "stream",
     "text": [
      "It's lunch time\n"
     ]
    }
   ],
   "source": [
    "currentTime = 1\n",
    "\n",
    "if currentTime < 1:\n",
    "    print('It\\'s not lunch time yet')\n",
    "elif currentTime >=1 and currentTime <2:\n",
    "    print('It\\'s lunch time')\n",
    "else: \n",
    "    print('It\\'s after lunch')"
   ]
  },
  {
   "cell_type": "code",
   "execution_count": 26,
   "metadata": {},
   "outputs": [
    {
     "name": "stdout",
     "output_type": "stream",
     "text": [
      "Hello Brent\n"
     ]
    }
   ],
   "source": [
    "def myFunction(myArgument):\n",
    "    return 'Hello ' + myArgument\n",
    "\n",
    "print(myFunction('Brent'))"
   ]
  },
  {
   "cell_type": "code",
   "execution_count": 44,
   "metadata": {},
   "outputs": [
    {
     "name": "stdout",
     "output_type": "stream",
     "text": [
      "The line is:  the intersection of art and technology\n",
      "simple square: 16\n",
      "exponent operator:  16\n",
      "forgot the square 8\n",
      "The line is:  the intersection of art and technology\n",
      "None\n"
     ]
    }
   ],
   "source": [
    "class myClass:\n",
    "    def __init__(self,word,number):\n",
    "        self.word = word\n",
    "        self.number = number\n",
    "    def say_the_line(self):\n",
    "        print('The line is: ', self.word)\n",
    "    def square_a_number(self):\n",
    "        print('simple square:',self.number*self.number)\n",
    "        print('exponent operator: ', self.number**2)\n",
    "        print('forgot the square', self.number*2)\n",
    "myLineSayer = myClass('the intersection of art and technology',4)\n",
    "myLineSayer.say_the_line()\n",
    "myLineSayer.square_a_number()\n",
    "print(myLineSayer.say_the_line())\n",
    "#print(myLineSayer.word)"
   ]
  },
  {
   "cell_type": "code",
   "execution_count": 36,
   "metadata": {},
   "outputs": [
    {
     "name": "stdout",
     "output_type": "stream",
     "text": [
      "my long list of random numbers [0.8092882120984606, 0.8318956254782977, 0.04513277534339588, 0.4271044353979555, 0.6626867768263184, 0.9754685272148174, 0.5206109040997161, 0.8535939653773206, 0.26096972567900767, 0.086126710496496, 0.9426320390039709, 0.7070579586320499, 0.25964348113418634, 0.9831111101788204, 0.014895308285869935, 0.8694434705359542, 0.08663935271153422, 0.4871500376625769, 0.36694868177064455, 0.7837807067255068, 0.8398210364837206, 0.37644770135522154, 0.9621417349927434, 0.7128398452430577, 0.2545923381882361, 0.6705055378569863, 0.5099325765327466, 0.7884197094426789, 0.5944911707359353, 0.05593336076857813, 0.1480917514839919, 0.7390602740992096, 0.4651102215267179, 0.7820131641291779, 0.11046979525517242, 0.8586531976427566, 0.9134222036739256, 0.1175583740839583, 0.9840310490629923, 0.6587057639400479, 0.020064881082484498, 0.8852561196281772, 0.16824415996230724, 0.5724534389766227, 0.11141673631544102, 0.4461949052200904, 0.4574023768758685, 0.494098264603103, 0.8855076492208186, 0.8430463011199086, 0.9417251791826587, 0.7299710299394164, 0.5416234934750751, 0.3309889277389191, 0.1912368023968526, 0.16752725683819802, 0.8432840095584082, 0.028711615757793685, 0.6422766568713005, 0.5363621305342676, 0.6651506297762881, 0.6483135323852914, 0.45591380331974407, 0.5917386186844077, 0.958421309325846, 0.9566992981049266, 0.051132079408341524, 0.29830725953695514, 0.1782484589986434, 0.37934723018669714, 0.5550697335880846, 0.5822404896770224, 0.25654967804960926, 0.5407282735495398, 0.7940928969069742, 0.8436606224461275, 0.6451792510271204, 0.7279511258750526, 0.9355343322653953, 0.6477747163048155, 0.7727780544525478, 0.14373312451686748, 0.8811185172047157, 0.8055310464505531, 0.21920885783884092, 0.4424446028319541, 0.6961411452308759, 0.43381978530116316, 0.19216989030950882, 0.8987162185470502, 0.6889214601021357, 0.2722970837763131, 0.446954503743739, 0.864098032489222, 0.38431619935964256, 0.007372421363746384, 0.983657143029655, 0.059819238739222014, 0.25083223347197703, 0.7883620619791926]\n"
     ]
    }
   ],
   "source": [
    "import random\n",
    "randomX = []\n",
    "randomY = []\n",
    "    \n",
    "for i in range(0,100):\n",
    "    randomX.append(random.random())\n",
    "    randomY.append(random.random())\n",
    "print('my long list of random numbers',randomX)"
   ]
  },
  {
   "cell_type": "code",
   "execution_count": 38,
   "metadata": {},
   "outputs": [
    {
     "data": {
      "image/png": "[encoded data removed]",
      "text/plain": [
       "<Figure size 432x432 with 1 Axes>"
      ]
     },
     "metadata": {
      "needs_background": "light"
     },
     "output_type": "display_data"
    }
   ],
   "source": [
    "import matplotlib.pyplot as plt\n",
    "\n",
    "plt.figure(figsize=(6,6))\n",
    "plt.scatter(randomX, randomY)\n",
    "plt.xlabel('x')\n",
    "plt.ylabel('y')\n",
    "plt.title('Random Scatter Plot')\n",
    "plt.show()\n"
   ]
  },
  {
   "cell_type": "code",
   "execution_count": 41,
   "metadata": {},
   "outputs": [
    {
     "name": "stdout",
     "output_type": "stream",
     "text": [
      "Machine Learning - Week 01.ipynb my_important_file.txt\n"
     ]
    }
   ],
   "source": [
    "myString = 'I should eat lunch'\n",
    "\n",
    "with open ('my_important_file.txt','w') as file:\n",
    "    file.write(myString)\n",
    "\n",
    "!ls\n",
    "    "
   ]
  },
  {
   "cell_type": "code",
   "execution_count": 43,
   "metadata": {},
   "outputs": [
    {
     "name": "stdout",
     "output_type": "stream",
     "text": [
      "I should eat lunch\n"
     ]
    }
   ],
   "source": [
    "with open('my_important_file.txt','r') as file:\n",
    "    data=file.read()\n",
    "print(data)"
   ]
  }
 ],
 "metadata": {
  "kernelspec": {
   "display_name": "Python 3",
   "language": "python",
   "name": "python3"
  },
  "language_info": {
   "codemirror_mode": {
    "name": "ipython",
    "version": 3
   },
   "file_extension": ".py",
   "mimetype": "text/x-python",
   "name": "python",
   "nbconvert_exporter": "python",
   "pygments_lexer": "ipython3",
   "version": "3.8.5"
  }
 },
 "nbformat": 4,
 "nbformat_minor": 4
}
