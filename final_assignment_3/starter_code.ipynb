{
 "cells": [
  {
   "cell_type": "code",
   "execution_count": 1,
   "metadata": {},
   "outputs": [],
   "source": [
    "import numpy as np\n",
    "import pandas as pd\n",
    "import matplotlib.pyplot as plt\n",
    "%matplotlib inline"
   ]
  },
  {
   "cell_type": "code",
   "execution_count": 2,
   "metadata": {},
   "outputs": [],
   "source": [
    "raw_data = pd.read_json('food_enforcement_US_bacteria.json', orient='records')"
   ]
  },
  {
   "cell_type": "code",
   "execution_count": 3,
   "metadata": {},
   "outputs": [
    {
     "name": "stdout",
     "output_type": "stream",
     "text": [
      "(6104, 26)\n",
      "0    Native Catch Salmon Bacon, Traditional flavor....\n",
      "1    Delish Fruit Burst 10 oz.(283 g)  Enjoy by: 8/...\n",
      "2    Garden Pure Holiday Fruit Bowl 4 lbs (1.81kg) ...\n",
      "3    Fresh Fruit Product is labeled in part:  \"***F...\n",
      "4    Ready Pac¿ Gourmet Fruit Bowl, 64oz , UPC 7774...\n",
      "5    River Ranch brand Diced Grn Cabbage w/Color, 4...\n",
      "6    Sweet and Sour Stir Fry packaged under the fol...\n",
      "7    Onion Slab Cut.  Products are labeled in part:...\n",
      "8    MIX w/yellow onions used as an ingredient.  Pr...\n",
      "9    Fresh n Easy brand Shred Grn Cabbage w/Color, ...\n",
      "Name: product_description, dtype: object\n"
     ]
    }
   ],
   "source": [
    "print(raw_data.shape)\n",
    "print(raw_data.head(10).product_description)"
   ]
  },
  {
   "cell_type": "markdown",
   "metadata": {},
   "source": [
    "### Bag of words feature representation for descriptive text"
   ]
  },
  {
   "cell_type": "code",
   "execution_count": 10,
   "metadata": {},
   "outputs": [
    {
     "data": {
      "text/plain": [
       "(6104, 13767)"
      ]
     },
     "execution_count": 10,
     "metadata": {},
     "output_type": "execute_result"
    }
   ],
   "source": [
    "from sklearn.feature_extraction.text import CountVectorizer\n",
    "vectorizer = CountVectorizer()\n",
    "\n",
    "corpus = raw_data['product_description']\n",
    "X = vectorizer.fit_transform(corpus)\n",
    "X.shape"
   ]
  },
  {
   "cell_type": "markdown",
   "metadata": {},
   "source": [
    "### fit Kmeans"
   ]
  },
  {
   "cell_type": "code",
   "execution_count": 7,
   "metadata": {},
   "outputs": [
    {
     "data": {
      "text/plain": [
       "KMeans(n_clusters=50, n_init=30)"
      ]
     },
     "execution_count": 7,
     "metadata": {},
     "output_type": "execute_result"
    }
   ],
   "source": [
    "#fit Kmeans with k clusters\n",
    "from sklearn.cluster import KMeans\n",
    "km = KMeans(n_clusters=50,n_init=30)\n",
    "km.fit(X)"
   ]
  },
  {
   "cell_type": "markdown",
   "metadata": {},
   "source": [
    "### labels are named with integers and stored in the `labels_` attribute"
   ]
  },
  {
   "cell_type": "code",
   "execution_count": 8,
   "metadata": {},
   "outputs": [
    {
     "data": {
      "text/plain": [
       "array([31, 34, 34, ..., 34,  3, 16], dtype=int32)"
      ]
     },
     "execution_count": 8,
     "metadata": {},
     "output_type": "execute_result"
    }
   ],
   "source": [
    "km.labels_"
   ]
  },
  {
   "cell_type": "markdown",
   "metadata": {},
   "source": [
    "### take a look at one of the cluster results"
   ]
  },
  {
   "cell_type": "code",
   "execution_count": 9,
   "metadata": {},
   "outputs": [
    {
     "name": "stdout",
     "output_type": "stream",
     "text": [
      "Golden delicious whole fresh apples,   Apple Ridge 5lb, 2-3/4  apples, packaged in red net mesh bags  \"\t3lb, 2-1/2  apples, packaged in poly bags  \"\t2lb, 2-1/2  apples, packaged in poly bags  \"\t45ct individual apples on trays with re-useable plastic container boxes  \"\t50ct, individual apples on trays with re-useable plastic container boxes  \"\t55ct, individual apples on trays with re-useable plastic container boxes  \"\t60ct  individual apples on trays with re-useable plastic container boxes  \"\t78ct individual apples on trays with re-useable plastic container boxes  \"\t50ct, individual apples on trays in cardboard tray  boxes  \"\t55ct, individual apples on trays in cardboard tray  boxes      \n",
      "**********\n",
      "Fuji, whole fresh apples,   Apple Ridge 5lb, 2-3/4  apples, packaged in red net mesh bags  \"\t3lb, 2-1/2  apples, packaged in poly bags  \"\t2lb, 2-1/2  apples, packaged in poly bags  \"\t45ct individual apples on trays with re-useable plastic container boxes  \"\t50ct, individual apples on trays with re-useable plastic container boxes  \"\t55ct, individual apples on trays with re-useable plastic container boxes  \"\t60ct  individual apples on trays with re-useable plastic container boxes  \"\t78ct individual apples on trays with re-useable plastic container boxes  \"\t50ct, individual apples on trays in cardboard tray  boxes  \"\t55ct, individual apples on trays in cardboard tray  boxes  \n",
      "**********\n",
      "Gala, Fuji., honey crisp, golden delicious whole fresh apples,   Apple Ridge 5lb, 2-3/4  apples, packaged in red net mesh bags  \"\t3lb, 2-1/2  apples, packaged in poly bags  \"\t2lb, 2-1/2  apples, packaged in poly bags  \"\t45ct individual apples on trays with re-useable plastic container boxes  \"\t50ct, individual apples on trays with re-useable plastic container boxes  \"\t55ct, individual apples on trays with re-useable plastic container boxes  \"\t60ct  individual apples on trays with re-useable plastic container boxes  \"\t78ct individual apples on trays with re-useable plastic container boxes  \"\t50ct, individual apples on trays in cardboard tray  boxes  \"\t55ct, individual apples on trays in cardboard tray  boxes  \"\tApple Ridge 5lb, 2-3/4  apples, packaged in red net mesh bags    \n",
      "**********\n",
      "Honey crisp, whole fresh apples,   Apple Ridge 5lb, 2-3/4  apples, packaged in red net mesh bags  \"\t3lb, 2-1/2  apples, packaged in poly bags  \"\t2lb, 2-1/2  apples, packaged in poly bags  \"\t45ct individual apples on trays with re-useable plastic container boxes  \"\t50ct, individual apples on trays with re-useable plastic container boxes  \"\t55ct, individual apples on trays with re-useable plastic container boxes  \"\t60ct  individual apples on trays with re-useable plastic container boxes  \"\t78ct individual apples on trays with re-useable plastic container boxes  \"\t50ct, individual apples on trays in cardboard tray  boxes  \"\t55ct, individual apples on trays in cardboard tray  boxes      \n",
      "**********\n"
     ]
    }
   ],
   "source": [
    "# You should look at all the clusters, but let's look at cluster \"15\" (I chose this arbitrarily; you should look at all of them)\n",
    "\n",
    "for i in range(0,len(km.labels_)):\n",
    "    if km.labels_[i] == 15:\n",
    "        print(raw_data['product_description'][i])\n",
    "        print('**********')"
   ]
  },
  {
   "cell_type": "code",
   "execution_count": null,
   "metadata": {},
   "outputs": [],
   "source": []
  }
 ],
 "metadata": {
  "kernelspec": {
   "display_name": "Python 3",
   "language": "python",
   "name": "python3"
  },
  "language_info": {
   "codemirror_mode": {
    "name": "ipython",
    "version": 3
   },
   "file_extension": ".py",
   "mimetype": "text/x-python",
   "name": "python",
   "nbconvert_exporter": "python",
   "pygments_lexer": "ipython3",
   "version": "3.8.5"
  }
 },
 "nbformat": 4,
 "nbformat_minor": 2
}
