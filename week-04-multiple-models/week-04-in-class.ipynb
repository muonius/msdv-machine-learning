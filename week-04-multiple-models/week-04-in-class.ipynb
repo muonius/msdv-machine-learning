{
 "cells": [
  {
   "cell_type": "code",
   "execution_count": 5,
   "metadata": {},
   "outputs": [],
   "source": [
    "import numpy as np\n",
    "import pandas as pd\n",
    "import matplotlib.pyplot as plt\n",
    "%matplotlib inline"
   ]
  },
  {
   "cell_type": "markdown",
   "metadata": {},
   "source": [
    "### Read movie_data"
   ]
  },
  {
   "cell_type": "code",
   "execution_count": 6,
   "metadata": {},
   "outputs": [],
   "source": [
    "movie_data = pd.read_csv('../data/moviereviews_train.tsv',sep='\\t')"
   ]
  },
  {
   "cell_type": "code",
   "execution_count": 7,
   "metadata": {},
   "outputs": [
    {
     "name": "stdout",
     "output_type": "stream",
     "text": [
      "movie_data is: <class 'pandas.core.frame.DataFrame'>\n",
      "data value type is <class 'numpy.ndarray'>\n",
      "movie_data has 25000 rows and 3 columns \n",
      "\n",
      "the data types for each of the columns in movie_data:\n",
      "id           object\n",
      "sentiment     int64\n",
      "review       object\n",
      "dtype: object \n",
      "\n",
      "the first 10 rows in movie_data:\n",
      "       id  sentiment                                             review\n",
      "0  5814_8          1  With all this stuff going down at the moment w...\n",
      "1  2381_9          1  \\The Classic War of the Worlds\\\" by Timothy Hi...\n",
      "2  7759_3          0  The film starts with a manager (Nicholas Bell)...\n",
      "3  3630_4          0  It must be assumed that those who praised this...\n",
      "4  9495_8          1  Superbly trashy and wondrously unpretentious 8...\n"
     ]
    }
   ],
   "source": [
    "print(\"movie_data is:\", type(movie_data))\n",
    "print(\"movie_data value type is\",type(movie_data.values))\n",
    "print(\"movie_data has\", movie_data.shape[0], \"rows and\", movie_data.shape[1], \"columns\", \"\\n\")\n",
    "print(\"the data types for each of the columns in movie_data:\")\n",
    "print(movie_data.dtypes, \"\\n\")\n",
    "print(\"the first 10 rows in movie_data:\")\n",
    "print(movie_data.head(5))"
   ]
  },
  {
   "cell_type": "markdown",
   "metadata": {},
   "source": [
    "### Create a `ndarray` for `L` for `movie_data`"
   ]
  },
  {
   "cell_type": "code",
   "execution_count": 8,
   "metadata": {},
   "outputs": [
    {
     "name": "stdout",
     "output_type": "stream",
     "text": [
      "<class 'pandas.core.series.Series'>\n",
      "<class 'numpy.ndarray'>\n",
      "(25000,)\n"
     ]
    }
   ],
   "source": [
    "L = movie_data[\"sentiment\"]\n",
    "print(type(L))\n",
    "print(type(L.values))\n",
    "print(L.shape)"
   ]
  },
  {
   "cell_type": "markdown",
   "metadata": {},
   "source": [
    "### Create a `ndarray` for `X`\n"
   ]
  },
  {
   "cell_type": "code",
   "execution_count": 14,
   "metadata": {},
   "outputs": [
    {
     "name": "stdout",
     "output_type": "stream",
     "text": [
      "        id  sentiment                                             review  \\\n",
      "0   5814_8          1  With all this stuff going down at the moment w...   \n",
      "1   2381_9          1  \\The Classic War of the Worlds\\\" by Timothy Hi...   \n",
      "2   7759_3          0  The film starts with a manager (Nicholas Bell)...   \n",
      "3   3630_4          0  It must be assumed that those who praised this...   \n",
      "4   9495_8          1  Superbly trashy and wondrously unpretentious 8...   \n",
      "5   8196_8          1  I dont know why people think this is such a ba...   \n",
      "6   7166_2          0  This movie could have been very good, but come...   \n",
      "7  10633_1          0  I watched this video at a friend's house. I'm ...   \n",
      "8    319_1          0  A friend of mine bought this film for £1, and ...   \n",
      "9  8713_10          1  <br /><br />This movie is full of references. ...   \n",
      "\n",
      "   word_count  punc_count  \n",
      "0         433          20  \n",
      "1         158          16  \n",
      "2         378          20  \n",
      "3         379           8  \n",
      "4         367           9  \n",
      "5          89           5  \n",
      "6         112           9  \n",
      "7         132           9  \n",
      "8         163           7  \n",
      "9          43           5   \n",
      "\n",
      "<class 'pandas.core.frame.DataFrame'>\n",
      "<class 'numpy.ndarray'>\n",
      "(25000, 2)\n"
     ]
    }
   ],
   "source": [
    "movie_data['word_count'] = movie_data['review'].str.split(' ').str.len()\n",
    "movie_data['punc_count'] = movie_data['review'].str.count(\"\\.\")\n",
    "X = movie_data[['word_count', 'punc_count']]\n",
    "# print(movie_data.head(), \"\\n\")\n",
    "\n",
    "print(movie_data.head(10), \"\\n\")\n",
    "print(type(X))\n",
    "print(type(X.values))\n",
    "print(X.shape)"
   ]
  },
  {
   "cell_type": "markdown",
   "metadata": {},
   "source": [
    "### Fit `SGDClassifier` linear classifier using `gradient descent`"
   ]
  },
  {
   "cell_type": "code",
   "execution_count": 15,
   "metadata": {
    "scrolled": true
   },
   "outputs": [
    {
     "data": {
      "text/plain": [
       "SGDClassifier(loss='squared_loss')"
      ]
     },
     "execution_count": 15,
     "metadata": {},
     "output_type": "execute_result"
    }
   ],
   "source": [
    "from sklearn import linear_model\n",
    "sgd = linear_model.SGDClassifier(loss=\"squared_loss\")\n",
    "sgd.fit(X, L)"
   ]
  },
  {
   "cell_type": "code",
   "execution_count": 16,
   "metadata": {},
   "outputs": [
    {
     "name": "stdout",
     "output_type": "stream",
     "text": [
      "12487\n",
      "[0.49948]\n"
     ]
    }
   ],
   "source": [
    "print(sum(sgd.predict(X) == L.values))\n",
    "print(sum(sgd.predict(X) == L.values) / L.shape)"
   ]
  },
  {
   "cell_type": "markdown",
   "metadata": {},
   "source": [
    "### Test model predictions"
   ]
  },
  {
   "cell_type": "code",
   "execution_count": 17,
   "metadata": {},
   "outputs": [
    {
     "name": "stdout",
     "output_type": "stream",
     "text": [
      "{'Pos': 12500, 'Neg': 12500, 'TP': 28, 'TN': 12459, 'FP': 41, 'FN': 12472, 'Accuracy': 0.49948, 'Precision': 0.4057971014492754, 'Recall': 0.00224, 'desc': 'sgd'}\n"
     ]
    }
   ],
   "source": [
    "import my_measures\n",
    "\n",
    "sgd_pm = my_measures.BinaryClassificationPerformance(sgd.predict(X), L, 'sgd')\n",
    "sgd_pm.compute_measures()\n",
    "print(sgd_pm.performance_measures)"
   ]
  },
  {
   "cell_type": "markdown",
   "metadata": {},
   "source": [
    "### Normalization\n"
   ]
  },
  {
   "cell_type": "code",
   "execution_count": 18,
   "metadata": {},
   "outputs": [
    {
     "data": {
      "text/html": [
       "<div>\n",
       "<style scoped>\n",
       "    .dataframe tbody tr th:only-of-type {\n",
       "        vertical-align: middle;\n",
       "    }\n",
       "\n",
       "    .dataframe tbody tr th {\n",
       "        vertical-align: top;\n",
       "    }\n",
       "\n",
       "    .dataframe thead th {\n",
       "        text-align: right;\n",
       "    }\n",
       "</style>\n",
       "<table border=\"1\" class=\"dataframe\">\n",
       "  <thead>\n",
       "    <tr style=\"text-align: right;\">\n",
       "      <th></th>\n",
       "      <th>word_count</th>\n",
       "      <th>punc_count</th>\n",
       "    </tr>\n",
       "  </thead>\n",
       "  <tbody>\n",
       "    <tr>\n",
       "      <th>count</th>\n",
       "      <td>25000.000000</td>\n",
       "      <td>25000.000000</td>\n",
       "    </tr>\n",
       "    <tr>\n",
       "      <th>mean</th>\n",
       "      <td>233.786240</td>\n",
       "      <td>13.087680</td>\n",
       "    </tr>\n",
       "    <tr>\n",
       "      <th>std</th>\n",
       "      <td>173.745845</td>\n",
       "      <td>9.811129</td>\n",
       "    </tr>\n",
       "    <tr>\n",
       "      <th>min</th>\n",
       "      <td>10.000000</td>\n",
       "      <td>0.000000</td>\n",
       "    </tr>\n",
       "    <tr>\n",
       "      <th>25%</th>\n",
       "      <td>127.000000</td>\n",
       "      <td>7.000000</td>\n",
       "    </tr>\n",
       "    <tr>\n",
       "      <th>50%</th>\n",
       "      <td>174.000000</td>\n",
       "      <td>10.000000</td>\n",
       "    </tr>\n",
       "    <tr>\n",
       "      <th>75%</th>\n",
       "      <td>284.000000</td>\n",
       "      <td>16.000000</td>\n",
       "    </tr>\n",
       "    <tr>\n",
       "      <th>max</th>\n",
       "      <td>2470.000000</td>\n",
       "      <td>149.000000</td>\n",
       "    </tr>\n",
       "  </tbody>\n",
       "</table>\n",
       "</div>"
      ],
      "text/plain": [
       "         word_count    punc_count\n",
       "count  25000.000000  25000.000000\n",
       "mean     233.786240     13.087680\n",
       "std      173.745845      9.811129\n",
       "min       10.000000      0.000000\n",
       "25%      127.000000      7.000000\n",
       "50%      174.000000     10.000000\n",
       "75%      284.000000     16.000000\n",
       "max     2470.000000    149.000000"
      ]
     },
     "execution_count": 18,
     "metadata": {},
     "output_type": "execute_result"
    }
   ],
   "source": [
    "X.describe()"
   ]
  },
  {
   "cell_type": "code",
   "execution_count": 20,
   "metadata": {},
   "outputs": [
    {
     "data": {
      "text/html": [
       "<div>\n",
       "<style scoped>\n",
       "    .dataframe tbody tr th:only-of-type {\n",
       "        vertical-align: middle;\n",
       "    }\n",
       "\n",
       "    .dataframe tbody tr th {\n",
       "        vertical-align: top;\n",
       "    }\n",
       "\n",
       "    .dataframe thead th {\n",
       "        text-align: right;\n",
       "    }\n",
       "</style>\n",
       "<table border=\"1\" class=\"dataframe\">\n",
       "  <thead>\n",
       "    <tr style=\"text-align: right;\">\n",
       "      <th></th>\n",
       "      <th>0</th>\n",
       "      <th>1</th>\n",
       "    </tr>\n",
       "  </thead>\n",
       "  <tbody>\n",
       "    <tr>\n",
       "      <th>count</th>\n",
       "      <td>25000.000000</td>\n",
       "      <td>25000.000000</td>\n",
       "    </tr>\n",
       "    <tr>\n",
       "      <th>mean</th>\n",
       "      <td>0.997652</td>\n",
       "      <td>0.060862</td>\n",
       "    </tr>\n",
       "    <tr>\n",
       "      <th>std</th>\n",
       "      <td>0.004993</td>\n",
       "      <td>0.030993</td>\n",
       "    </tr>\n",
       "    <tr>\n",
       "      <th>min</th>\n",
       "      <td>0.651214</td>\n",
       "      <td>0.000000</td>\n",
       "    </tr>\n",
       "    <tr>\n",
       "      <th>25%</th>\n",
       "      <td>0.997459</td>\n",
       "      <td>0.043267</td>\n",
       "    </tr>\n",
       "    <tr>\n",
       "      <th>50%</th>\n",
       "      <td>0.998460</td>\n",
       "      <td>0.055470</td>\n",
       "    </tr>\n",
       "    <tr>\n",
       "      <th>75%</th>\n",
       "      <td>0.999064</td>\n",
       "      <td>0.071247</td>\n",
       "    </tr>\n",
       "    <tr>\n",
       "      <th>max</th>\n",
       "      <td>1.000000</td>\n",
       "      <td>0.758895</td>\n",
       "    </tr>\n",
       "  </tbody>\n",
       "</table>\n",
       "</div>"
      ],
      "text/plain": [
       "                  0             1\n",
       "count  25000.000000  25000.000000\n",
       "mean       0.997652      0.060862\n",
       "std        0.004993      0.030993\n",
       "min        0.651214      0.000000\n",
       "25%        0.997459      0.043267\n",
       "50%        0.998460      0.055470\n",
       "75%        0.999064      0.071247\n",
       "max        1.000000      0.758895"
      ]
     },
     "execution_count": 20,
     "metadata": {},
     "output_type": "execute_result"
    }
   ],
   "source": [
    "from sklearn import preprocessing\n",
    "X_normalized = preprocessing.normalize(X)\n",
    "pd.DataFrame(X_normalized).describe()"
   ]
  }
 ],
 "metadata": {
  "kernelspec": {
   "display_name": "Python 3",
   "language": "python",
   "name": "python3"
  },
  "language_info": {
   "codemirror_mode": {
    "name": "ipython",
    "version": 3
   },
   "file_extension": ".py",
   "mimetype": "text/x-python",
   "name": "python",
   "nbconvert_exporter": "python",
   "pygments_lexer": "ipython3",
   "version": "3.8.5"
  }
 },
 "nbformat": 4,
 "nbformat_minor": 4
}
